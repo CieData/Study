{
 "cells": [
  {
   "cell_type": "code",
   "execution_count": 1,
   "metadata": {},
   "outputs": [],
   "source": [
    "import pandas as pd\n",
    "tr = pd.read_csv('tr.csv')\n",
    "te = pd.read_csv('te.csv')\n",
    "y = pd.read_csv('y_target.csv')\n",
    "test = pd.read_csv('test.csv')\n",
    "test_id = test['ID']"
   ]
  },
  {
   "cell_type": "code",
   "execution_count": 2,
   "metadata": {},
   "outputs": [],
   "source": [
    "y=y['total_rental']"
   ]
  },
  {
   "cell_type": "markdown",
   "metadata": {},
   "source": [
    "# LGBMRegressor"
   ]
  },
  {
   "cell_type": "markdown",
   "metadata": {},
   "source": [
    "## grid search_1트"
   ]
  },
  {
   "cell_type": "code",
   "execution_count": 4,
   "metadata": {
    "scrolled": true
   },
   "outputs": [
    {
     "name": "stdout",
     "output_type": "stream",
     "text": [
      "[LightGBM] [Warning] feature_fraction is set=0.9, colsample_bytree=1.0 will be ignored. Current value: feature_fraction=0.9\n",
      "[LightGBM] [Warning] bagging_fraction is set=0.9, subsample=1.0 will be ignored. Current value: bagging_fraction=0.9\n",
      "[LightGBM] [Warning] bagging_freq is set=7, subsample_freq=0 will be ignored. Current value: bagging_freq=7\n",
      "final params {'bagging_fraction': 0.9, 'bagging_freq': 7, 'feature_fraction': 0.9, 'learning_rate': 0.05, 'max_depth': 8, 'num_leaves': 100}\n",
      "best score 0.913220206129872\n"
     ]
    }
   ],
   "source": [
    "from sklearn.model_selection import train_test_split\n",
    "x_train,x_test,y_train,y_test = train_test_split(tr,y,shuffle=True,random_state=42)\n",
    "\n",
    "from sklearn.model_selection import KFold, GridSearchCV\n",
    "from lightgbm import LGBMRegressor\n",
    "from sklearn.metrics import mean_squared_error\n",
    "\n",
    "lgbm = LGBMRegressor()\n",
    "\n",
    "\n",
    "param_grid = {'learning_rate': [0.01,0.03,0.05],\n",
    "\n",
    "               'num_leaves':[100,150,200],\n",
    "                  'feature_fraction' : [0.5,0.7,0.9],\n",
    "              'bagging_fraction':[0.5,0.7,0.9],\n",
    "              'bagging_freq':[5,7,9],\n",
    "                  'max_depth'    : [6,8,10]\n",
    "                 }\n",
    "\n",
    "lgbm_grid = GridSearchCV( estimator=lgbm, param_grid=param_grid,  n_jobs=4, cv=5) \n",
    "\n",
    "lgbm_grid.fit(x_train,y_train)\n",
    "print('final params', lgbm_grid.best_params_)  \n",
    "print('best score', lgbm_grid.best_score_) "
   ]
  },
  {
   "cell_type": "markdown",
   "metadata": {},
   "source": [
    "## 결과"
   ]
  },
  {
   "cell_type": "code",
   "execution_count": 3,
   "metadata": {},
   "outputs": [
    {
     "name": "stdout",
     "output_type": "stream",
     "text": [
      "[LightGBM] [Warning] feature_fraction is set=0.9, colsample_bytree=1.0 will be ignored. Current value: feature_fraction=0.9\n",
      "[LightGBM] [Warning] bagging_fraction is set=0.9, subsample=1.0 will be ignored. Current value: bagging_fraction=0.9\n",
      "[LightGBM] [Warning] bagging_freq is set=7, subsample_freq=0 will be ignored. Current value: bagging_freq=7\n"
     ]
    },
    {
     "data": {
      "text/plain": [
       "550.061076564389"
      ]
     },
     "execution_count": 3,
     "metadata": {},
     "output_type": "execute_result"
    }
   ],
   "source": [
    "from sklearn.model_selection import train_test_split\n",
    "x_train,x_test,y_train,y_test = train_test_split(tr,y,shuffle=True,random_state=42)\n",
    "from lightgbm import LGBMRegressor\n",
    "lgbm = LGBMRegressor(bagging_fraction= 0.9, bagging_freq= 7, feature_fraction= 0.9,\n",
    "                     learning_rate= 0.05, max_depth= 8, num_leaves= 100)\n",
    "lgbm.fit(x_train,y_train)\n",
    "y_pred_lgbm = lgbm.predict(x_test)\n",
    "from sklearn.metrics import mean_squared_error\n",
    "rmse = mean_squared_error(y_test, y_pred_lgbm, squared=False)\n",
    "rmse"
   ]
  },
  {
   "cell_type": "markdown",
   "metadata": {},
   "source": [
    "## grid search_2트"
   ]
  },
  {
   "cell_type": "code",
   "execution_count": 8,
   "metadata": {},
   "outputs": [
    {
     "name": "stdout",
     "output_type": "stream",
     "text": [
      "[LightGBM] [Warning] feature_fraction is set=1, colsample_bytree=1.0 will be ignored. Current value: feature_fraction=1\n",
      "[LightGBM] [Warning] bagging_fraction is set=0.9, subsample=1.0 will be ignored. Current value: bagging_fraction=0.9\n",
      "[LightGBM] [Warning] bagging_freq is set=5, subsample_freq=0 will be ignored. Current value: bagging_freq=5\n",
      "final params {'bagging_fraction': 0.9, 'bagging_freq': 5, 'feature_fraction': 1, 'learning_rate': 0.09, 'max_depth': 8, 'num_leaves': 30}\n",
      "best score 0.9153436668744716\n"
     ]
    }
   ],
   "source": [
    "from sklearn.model_selection import train_test_split\n",
    "x_train,x_test,y_train,y_test = train_test_split(tr,y,shuffle=True,random_state=42)\n",
    "\n",
    "from sklearn.model_selection import KFold, GridSearchCV\n",
    "from lightgbm import LGBMRegressor\n",
    "from sklearn.metrics import mean_squared_error\n",
    "\n",
    "lgbm = LGBMRegressor()\n",
    "\n",
    "\n",
    "param_grid = {'learning_rate': [0.05,0.09,1],\n",
    "               'num_leaves':[30,50,100],\n",
    "                  'feature_fraction' : [0.7,0.9,1],\n",
    "              'bagging_fraction':[0.7,0.9,1],\n",
    "              'bagging_freq':[5,6,7],\n",
    "                  'max_depth'    : [6,7,8]\n",
    "                 }\n",
    "\n",
    "lgbm_grid = GridSearchCV( estimator=lgbm, param_grid=param_grid,  n_jobs=4, cv=5) \n",
    "\n",
    "lgbm_grid.fit(x_train,y_train)\n",
    "print('final params', lgbm_grid.best_params_)  \n",
    "print('best score', lgbm_grid.best_score_) "
   ]
  },
  {
   "cell_type": "markdown",
   "metadata": {},
   "source": [
    "## 결과"
   ]
  },
  {
   "cell_type": "code",
   "execution_count": 3,
   "metadata": {},
   "outputs": [
    {
     "name": "stdout",
     "output_type": "stream",
     "text": [
      "[LightGBM] [Warning] feature_fraction is set=1, colsample_bytree=1.0 will be ignored. Current value: feature_fraction=1\n",
      "[LightGBM] [Warning] bagging_fraction is set=0.9, subsample=1.0 will be ignored. Current value: bagging_fraction=0.9\n",
      "[LightGBM] [Warning] bagging_freq is set=5, subsample_freq=0 will be ignored. Current value: bagging_freq=5\n"
     ]
    },
    {
     "data": {
      "text/plain": [
       "543.8999246093088"
      ]
     },
     "execution_count": 3,
     "metadata": {},
     "output_type": "execute_result"
    }
   ],
   "source": [
    "from sklearn.model_selection import train_test_split\n",
    "x_train,x_test,y_train,y_test = train_test_split(tr,y,shuffle=True,random_state=42)\n",
    "from lightgbm import LGBMRegressor\n",
    "lgbm = LGBMRegressor(bagging_fraction= 0.9, bagging_freq= 5, feature_fraction= 1,\n",
    "                     learning_rate= 0.09, max_depth= 8, num_leaves= 30)\n",
    "lgbm.fit(x_train,y_train)\n",
    "y_pred_lgbm = lgbm.predict(x_test)\n",
    "from sklearn.metrics import mean_squared_error\n",
    "rmse = mean_squared_error(y_test, y_pred_lgbm, squared=False)\n",
    "rmse"
   ]
  },
  {
   "cell_type": "markdown",
   "metadata": {},
   "source": [
    "# submission 제출"
   ]
  },
  {
   "cell_type": "code",
   "execution_count": 4,
   "metadata": {},
   "outputs": [],
   "source": [
    "final = lgbm.predict(te)\n",
    "sub = pd.DataFrame(columns=['ID','total_rental'])\n",
    "sub['ID']=test_id\n",
    "sub['total_rental'] = final"
   ]
  },
  {
   "cell_type": "code",
   "execution_count": 5,
   "metadata": {},
   "outputs": [
    {
     "data": {
      "text/html": [
       "<div>\n",
       "<style scoped>\n",
       "    .dataframe tbody tr th:only-of-type {\n",
       "        vertical-align: middle;\n",
       "    }\n",
       "\n",
       "    .dataframe tbody tr th {\n",
       "        vertical-align: top;\n",
       "    }\n",
       "\n",
       "    .dataframe thead th {\n",
       "        text-align: right;\n",
       "    }\n",
       "</style>\n",
       "<table border=\"1\" class=\"dataframe\">\n",
       "  <thead>\n",
       "    <tr style=\"text-align: right;\">\n",
       "      <th></th>\n",
       "      <th>ID</th>\n",
       "      <th>total_rental</th>\n",
       "    </tr>\n",
       "  </thead>\n",
       "  <tbody>\n",
       "    <tr>\n",
       "      <th>0</th>\n",
       "      <td>A600</td>\n",
       "      <td>7335.686456</td>\n",
       "    </tr>\n",
       "    <tr>\n",
       "      <th>1</th>\n",
       "      <td>A601</td>\n",
       "      <td>7405.533683</td>\n",
       "    </tr>\n",
       "    <tr>\n",
       "      <th>2</th>\n",
       "      <td>A602</td>\n",
       "      <td>7388.010513</td>\n",
       "    </tr>\n",
       "    <tr>\n",
       "      <th>3</th>\n",
       "      <td>A603</td>\n",
       "      <td>5609.204227</td>\n",
       "    </tr>\n",
       "    <tr>\n",
       "      <th>4</th>\n",
       "      <td>A604</td>\n",
       "      <td>4579.912949</td>\n",
       "    </tr>\n",
       "  </tbody>\n",
       "</table>\n",
       "</div>"
      ],
      "text/plain": [
       "     ID  total_rental\n",
       "0  A600   7335.686456\n",
       "1  A601   7405.533683\n",
       "2  A602   7388.010513\n",
       "3  A603   5609.204227\n",
       "4  A604   4579.912949"
      ]
     },
     "execution_count": 5,
     "metadata": {},
     "output_type": "execute_result"
    }
   ],
   "source": [
    "result = sub.to_csv('grid_lgbm_1.csv',index=False)\n",
    "a=pd.read_csv('grid_lgbm_1.csv')\n",
    "a.head()"
   ]
  },
  {
   "cell_type": "code",
   "execution_count": null,
   "metadata": {},
   "outputs": [],
   "source": []
  }
 ],
 "metadata": {
  "kernelspec": {
   "display_name": "Python 3",
   "language": "python",
   "name": "python3"
  },
  "language_info": {
   "codemirror_mode": {
    "name": "ipython",
    "version": 3
   },
   "file_extension": ".py",
   "mimetype": "text/x-python",
   "name": "python",
   "nbconvert_exporter": "python",
   "pygments_lexer": "ipython3",
   "version": "3.8.5"
  }
 },
 "nbformat": 4,
 "nbformat_minor": 5
}

{
 "cells": [
  {
   "cell_type": "code",
   "execution_count": 1,
   "metadata": {},
   "outputs": [],
   "source": [
    "import pandas as pd\n",
    "tr = pd.read_csv('tr.csv')\n",
    "te = pd.read_csv('te.csv')\n",
    "y = pd.read_csv('y_target.csv')\n",
    "test = pd.read_csv('test.csv')\n",
    "test_id = test['ID']"
   ]
  },
  {
   "cell_type": "code",
   "execution_count": 2,
   "metadata": {},
   "outputs": [],
   "source": [
    "y=y['total_rental']"
   ]
  },
  {
   "cell_type": "markdown",
   "metadata": {},
   "source": [
    "# rf"
   ]
  },
  {
   "cell_type": "markdown",
   "metadata": {},
   "source": [
    "## grid search_1트"
   ]
  },
  {
   "cell_type": "code",
   "execution_count": 12,
   "metadata": {},
   "outputs": [
    {
     "name": "stdout",
     "output_type": "stream",
     "text": [
      "final params {'bootstrap': True, 'max_depth': 10, 'max_features': 'auto', 'min_samples_leaf': 1, 'min_samples_split': 2, 'n_estimators': 200}\n",
      "best score 0.9101292523572969\n"
     ]
    }
   ],
   "source": [
    "from sklearn.model_selection import train_test_split\n",
    "x_train,x_test,y_train,y_test = train_test_split(tr,y,shuffle=True,random_state=42)\n",
    "\n",
    "from sklearn.model_selection import KFold, GridSearchCV\n",
    "from sklearn.ensemble import RandomForestRegressor\n",
    "from sklearn.metrics import mean_squared_error\n",
    "\n",
    "rf = RandomForestRegressor()\n",
    "\n",
    "param_grid={'bootstrap': [True, False],\n",
    " 'max_depth': [10,30, 50, 70, 90,None],\n",
    " 'max_features': ['auto', 'sqrt'],\n",
    " 'min_samples_leaf': [1, 2, 4],\n",
    " 'min_samples_split': [2, 5, 10],\n",
    " 'n_estimators': [200, 500,800]}\n",
    "\n",
    "rf_grid = GridSearchCV( estimator=rf, param_grid=param_grid,  n_jobs=4, cv=5) \n",
    "\n",
    "rf_grid.fit(x_train,y_train)\n",
    "print('final params', rf_grid.best_params_)  \n",
    "print('best score', rf_grid.best_score_) "
   ]
  },
  {
   "cell_type": "markdown",
   "metadata": {},
   "source": [
    "## 결과"
   ]
  },
  {
   "cell_type": "code",
   "execution_count": 13,
   "metadata": {},
   "outputs": [
    {
     "data": {
      "text/plain": [
       "558.9088787840758"
      ]
     },
     "execution_count": 13,
     "metadata": {},
     "output_type": "execute_result"
    }
   ],
   "source": [
    "from sklearn.model_selection import train_test_split\n",
    "x_train,x_test,y_train,y_test = train_test_split(tr,y,shuffle=True,random_state=42)\n",
    "from sklearn.ensemble import RandomForestRegressor\n",
    "rf = RandomForestRegressor(bootstrap= True, max_depth= 10, max_features= 'auto',\n",
    "                           min_samples_leaf= 1, min_samples_split= 2,n_estimators= 200)\n",
    "rf.fit(x_train,y_train)\n",
    "y_pred_rf = rf.predict(x_test)\n",
    "from sklearn.metrics import mean_squared_error\n",
    "rmse = mean_squared_error(y_test, y_pred_rf, squared=False)\n",
    "rmse"
   ]
  },
  {
   "cell_type": "markdown",
   "metadata": {},
   "source": [
    "# 제출"
   ]
  },
  {
   "cell_type": "code",
   "execution_count": 14,
   "metadata": {},
   "outputs": [],
   "source": [
    "final = rf.predict(te)\n",
    "sub = pd.DataFrame(columns=['ID','total_rental'])\n",
    "sub['ID']=test_id\n",
    "sub['total_rental'] = final"
   ]
  },
  {
   "cell_type": "code",
   "execution_count": 15,
   "metadata": {},
   "outputs": [
    {
     "data": {
      "text/html": [
       "<div>\n",
       "<style scoped>\n",
       "    .dataframe tbody tr th:only-of-type {\n",
       "        vertical-align: middle;\n",
       "    }\n",
       "\n",
       "    .dataframe tbody tr th {\n",
       "        vertical-align: top;\n",
       "    }\n",
       "\n",
       "    .dataframe thead th {\n",
       "        text-align: right;\n",
       "    }\n",
       "</style>\n",
       "<table border=\"1\" class=\"dataframe\">\n",
       "  <thead>\n",
       "    <tr style=\"text-align: right;\">\n",
       "      <th></th>\n",
       "      <th>ID</th>\n",
       "      <th>total_rental</th>\n",
       "    </tr>\n",
       "  </thead>\n",
       "  <tbody>\n",
       "    <tr>\n",
       "      <th>0</th>\n",
       "      <td>A600</td>\n",
       "      <td>7040.671120</td>\n",
       "    </tr>\n",
       "    <tr>\n",
       "      <th>1</th>\n",
       "      <td>A601</td>\n",
       "      <td>7065.018651</td>\n",
       "    </tr>\n",
       "    <tr>\n",
       "      <th>2</th>\n",
       "      <td>A602</td>\n",
       "      <td>6983.457308</td>\n",
       "    </tr>\n",
       "    <tr>\n",
       "      <th>3</th>\n",
       "      <td>A603</td>\n",
       "      <td>5685.408464</td>\n",
       "    </tr>\n",
       "    <tr>\n",
       "      <th>4</th>\n",
       "      <td>A604</td>\n",
       "      <td>5079.468333</td>\n",
       "    </tr>\n",
       "  </tbody>\n",
       "</table>\n",
       "</div>"
      ],
      "text/plain": [
       "     ID  total_rental\n",
       "0  A600   7040.671120\n",
       "1  A601   7065.018651\n",
       "2  A602   6983.457308\n",
       "3  A603   5685.408464\n",
       "4  A604   5079.468333"
      ]
     },
     "execution_count": 15,
     "metadata": {},
     "output_type": "execute_result"
    }
   ],
   "source": [
    "result = sub.to_csv('rf_grid_1.csv',index=False)\n",
    "a=pd.read_csv('rf_grid_1.csv')\n",
    "a.head()"
   ]
  },
  {
   "cell_type": "code",
   "execution_count": null,
   "metadata": {},
   "outputs": [],
   "source": []
  },
  {
   "cell_type": "markdown",
   "metadata": {},
   "source": [
    "## grid search_2트"
   ]
  },
  {
   "cell_type": "code",
   "execution_count": 3,
   "metadata": {
    "scrolled": true
   },
   "outputs": [
    {
     "name": "stdout",
     "output_type": "stream",
     "text": [
      "final params {'bootstrap': True, 'max_depth': 9, 'max_features': 'auto', 'min_samples_leaf': 2, 'min_samples_split': 2, 'n_estimators': 100}\n",
      "best score 0.9109908893579408\n"
     ]
    },
    {
     "name": "stderr",
     "output_type": "stream",
     "text": [
      "C:\\Users\\janyq\\anaconda3\\lib\\site-packages\\sklearn\\model_selection\\_search.py:922: UserWarning: One or more of the test scores are non-finite: [       nan        nan        nan 0.82593191 0.82874813 0.82905355\n",
      " 0.82796178 0.82483204 0.82683742        nan        nan        nan\n",
      " 0.82471592 0.82655326 0.82877505 0.82626424 0.82595684 0.82630714\n",
      "        nan        nan        nan 0.83102604 0.82721534 0.82706042\n",
      " 0.82531232 0.8276143  0.82577897        nan        nan        nan\n",
      " 0.79908504 0.79508703 0.79540581 0.79752035 0.79107602 0.79722331\n",
      "        nan        nan        nan 0.79404295 0.79642964 0.78929795\n",
      " 0.78319337 0.78596174 0.79291239        nan        nan        nan\n",
      " 0.78566001 0.79063298 0.79915005 0.79174099 0.7993582  0.79164961\n",
      "        nan        nan        nan 0.89592844 0.89544227 0.89801213\n",
      " 0.89522437 0.89569663 0.89664169        nan        nan        nan\n",
      " 0.89630558 0.89835673 0.89600122 0.89806252 0.89592886 0.89682944\n",
      "        nan        nan        nan 0.8916439  0.89274897 0.89428633\n",
      " 0.89172434 0.89311216 0.89306851        nan        nan        nan\n",
      " 0.87329854 0.87395301 0.87810906 0.87366621 0.8774835  0.87783809\n",
      "        nan        nan        nan 0.87716973 0.87876881 0.87591045\n",
      " 0.87318888 0.87561242 0.87829458        nan        nan        nan\n",
      " 0.8710218  0.87333307 0.87516779 0.87696174 0.87403011 0.87328457\n",
      "        nan        nan        nan 0.90528959 0.90696699 0.90571626\n",
      " 0.90462882 0.90497093 0.90520641        nan        nan        nan\n",
      " 0.90548022 0.9038246  0.90549697 0.9041042  0.90482059 0.90388274\n",
      "        nan        nan        nan 0.89978777 0.90128878 0.90211972\n",
      " 0.89951989 0.89986004 0.90082223        nan        nan        nan\n",
      " 0.89838947 0.89541443 0.89831098 0.89484301 0.89555946 0.89646162\n",
      "        nan        nan        nan 0.89721602 0.89770966 0.89624683\n",
      " 0.8962414  0.89704598 0.89616057        nan        nan        nan\n",
      " 0.89068554 0.88997598 0.88989026 0.89344125 0.89267132 0.89244112\n",
      "        nan        nan        nan 0.90906995 0.90893826 0.90720264\n",
      " 0.90713159 0.91029219 0.90788133        nan        nan        nan\n",
      " 0.91099089 0.90421769 0.90798985 0.90452403 0.90780528 0.90658975\n",
      "        nan        nan        nan 0.9021004  0.89960645 0.90440372\n",
      " 0.90228505 0.90399471 0.90287916        nan        nan        nan\n",
      " 0.90002218 0.90595271 0.90308486 0.90339213 0.90084134 0.90398865\n",
      "        nan        nan        nan 0.89933896 0.90110148 0.90228687\n",
      " 0.8979664  0.89996229 0.89780313        nan        nan        nan\n",
      " 0.89221858 0.89170172 0.89448455 0.89117598 0.89584575 0.89441507\n",
      "        nan        nan        nan 0.90997752 0.90816017 0.90693993\n",
      " 0.90939189 0.90882792 0.90897822        nan        nan        nan\n",
      " 0.90673555 0.90742057 0.90771798 0.90850309 0.90584656 0.90647572\n",
      "        nan        nan        nan 0.90029473 0.90138545 0.90309336\n",
      " 0.90084991 0.90456904 0.90101155        nan        nan        nan\n",
      " 0.90313508 0.90018668 0.90622057 0.90215784 0.90354784 0.90468168\n",
      "        nan        nan        nan 0.89860117 0.90239638 0.89868406\n",
      " 0.8985717  0.89966985 0.90125617        nan        nan        nan\n",
      " 0.89323282 0.89453028 0.89567244 0.89905557 0.89285481 0.89561405\n",
      "        nan        nan        nan 0.908632   0.90923539 0.90945029\n",
      " 0.90740765 0.90876345 0.90887905        nan        nan        nan\n",
      " 0.90631128 0.90794531 0.90739321 0.90877803 0.90988899 0.90492804\n",
      "        nan        nan        nan 0.90068675 0.90173391 0.90387095\n",
      " 0.90424036 0.90278971 0.90208473        nan        nan        nan\n",
      " 0.90041375 0.90633037 0.90334945 0.89999922 0.9046512  0.90590733\n",
      "        nan        nan        nan 0.90163801 0.89930826 0.90138546\n",
      " 0.89998207 0.90032633 0.90013782        nan        nan        nan\n",
      " 0.89686894 0.89379348 0.89648946 0.89392607 0.89608543 0.89457496\n",
      "        nan        nan        nan 0.77228656 0.77228656 0.77228656\n",
      " 0.77228656 0.77228656 0.77228656        nan        nan        nan\n",
      " 0.77228656 0.77228656 0.77228656 0.77228656 0.77228656 0.77228656\n",
      "        nan        nan        nan 0.77228656 0.77228656 0.77228656\n",
      " 0.77228656 0.77228656 0.77228656        nan        nan        nan\n",
      " 0.78456544 0.78602701 0.79410935 0.788596   0.78805867 0.78266859\n",
      "        nan        nan        nan 0.78177094 0.7863555  0.78620727\n",
      " 0.78444366 0.78945389 0.78551484        nan        nan        nan\n",
      " 0.7812762  0.78780571 0.78941762 0.78614935 0.78180588 0.78703723\n",
      "        nan        nan        nan 0.84840387 0.84773537 0.84807837\n",
      " 0.84838185 0.84862446 0.84791218        nan        nan        nan\n",
      " 0.8461224  0.84539035 0.84572443 0.84598429 0.84564104 0.84612248\n",
      "        nan        nan        nan 0.84414907 0.84413661 0.84412612\n",
      " 0.84414907 0.84413142 0.8441697         nan        nan        nan\n",
      " 0.87196404 0.87212922 0.87400023 0.87132147 0.87719268 0.87489735\n",
      "        nan        nan        nan 0.87312302 0.87741128 0.87433608\n",
      " 0.8733698  0.87686669 0.87189161        nan        nan        nan\n",
      " 0.87369609 0.87406225 0.87656382 0.87551438 0.87613209 0.87472991\n",
      "        nan        nan        nan 0.85498446 0.85564892 0.85524651\n",
      " 0.85654919 0.85634764 0.85626008        nan        nan        nan\n",
      " 0.85300524 0.85248625 0.85244533 0.85231132 0.85258012 0.85226673\n",
      "        nan        nan        nan 0.84946319 0.84949457 0.849217\n",
      " 0.84964896 0.84942724 0.84956442        nan        nan        nan\n",
      " 0.89702053 0.89576441 0.8949752  0.89120735 0.8939301  0.89527507\n",
      "        nan        nan        nan 0.89527482 0.89619813 0.89535332\n",
      " 0.89596642 0.89736826 0.89719589        nan        nan        nan\n",
      " 0.89591374 0.89690464 0.89443956 0.8966888  0.89721045 0.89637079\n",
      "        nan        nan        nan 0.85624414 0.85718341 0.85575405\n",
      " 0.85802803 0.85840389 0.85839074        nan        nan        nan\n",
      " 0.85200009 0.84996092 0.85082254 0.85061317 0.85068779 0.85142597\n",
      "        nan        nan        nan 0.84901756 0.8492425  0.84916292\n",
      " 0.84885345 0.84896355 0.84907668        nan        nan        nan\n",
      " 0.90020247 0.9013093  0.9011085  0.90286031 0.9012323  0.90043687\n",
      "        nan        nan        nan 0.90039888 0.90249633 0.90228297\n",
      " 0.90443082 0.90063109 0.90157619        nan        nan        nan\n",
      " 0.89830374 0.90075151 0.8991136  0.89997847 0.89771934 0.90001646\n",
      "        nan        nan        nan 0.85571529 0.85561856 0.85651901\n",
      " 0.85760668 0.85809882 0.85684233        nan        nan        nan\n",
      " 0.84868903 0.8505679  0.850451   0.8515697  0.85003745 0.85107259\n",
      "        nan        nan        nan 0.84882355 0.8487607  0.8486158\n",
      " 0.84874005 0.84855514 0.84883893        nan        nan        nan\n",
      " 0.90378588 0.9004586  0.90300791 0.90185723 0.90333858 0.89981123\n",
      "        nan        nan        nan 0.90158031 0.90345128 0.90135298\n",
      " 0.90287383 0.90422783 0.903687          nan        nan        nan\n",
      " 0.899277   0.8996946  0.90023606 0.90005698 0.90135483 0.90183705\n",
      "        nan        nan        nan 0.85627421 0.856426   0.85592477\n",
      " 0.85792243 0.85757267 0.85825952        nan        nan        nan\n",
      " 0.84965384 0.85059417 0.85089059 0.84990586 0.85067389 0.85017447\n",
      "        nan        nan        nan 0.84957885 0.84956797 0.84934922\n",
      " 0.8492468  0.84934199 0.84952528        nan        nan        nan\n",
      " 0.90159075 0.90239056 0.90483911 0.90341163 0.90450592 0.90273725\n",
      "        nan        nan        nan 0.90141938 0.90023986 0.90465681\n",
      " 0.90796109 0.90386715 0.90528246        nan        nan        nan\n",
      " 0.8963553  0.90078922 0.90134562 0.90194587 0.89961334 0.89746729]\n",
      "  warnings.warn(\n"
     ]
    }
   ],
   "source": [
    "from sklearn.model_selection import train_test_split\n",
    "x_train,x_test,y_train,y_test = train_test_split(tr,y,shuffle=True,random_state=42)\n",
    "\n",
    "from sklearn.model_selection import KFold, GridSearchCV\n",
    "from sklearn.ensemble import RandomForestRegressor\n",
    "from sklearn.metrics import mean_squared_error\n",
    "\n",
    "rf = RandomForestRegressor()\n",
    "\n",
    "param_grid={'bootstrap': [True, False],\n",
    " 'max_depth': [3,5,7,9,10,None],\n",
    " 'max_features': ['auto', 'sqrt'],\n",
    " 'min_samples_leaf': [1, 2, 3],\n",
    " 'min_samples_split': [1,2,3],\n",
    " 'n_estimators': [100,150,200]}\n",
    "\n",
    "rf_grid = GridSearchCV( estimator=rf, param_grid=param_grid,  n_jobs=4, cv=5) \n",
    "\n",
    "rf_grid.fit(x_train,y_train)\n",
    "print('final params', rf_grid.best_params_)  \n",
    "print('best score', rf_grid.best_score_) "
   ]
  },
  {
   "cell_type": "markdown",
   "metadata": {},
   "source": [
    "## 결과"
   ]
  },
  {
   "cell_type": "code",
   "execution_count": 3,
   "metadata": {},
   "outputs": [
    {
     "data": {
      "text/plain": [
       "574.554477750863"
      ]
     },
     "execution_count": 3,
     "metadata": {},
     "output_type": "execute_result"
    }
   ],
   "source": [
    "from sklearn.model_selection import train_test_split\n",
    "x_train,x_test,y_train,y_test = train_test_split(tr,y,shuffle=True,random_state=42)\n",
    "from sklearn.ensemble import RandomForestRegressor\n",
    "rf = RandomForestRegressor(bootstrap= True, max_depth= 9, max_features= 'auto',\n",
    "                           min_samples_leaf= 2, min_samples_split= 2,n_estimators= 100)\n",
    "rf.fit(x_train,y_train)\n",
    "y_pred_rf = rf.predict(x_test)\n",
    "from sklearn.metrics import mean_squared_error\n",
    "rmse = mean_squared_error(y_test, y_pred_rf, squared=False)\n",
    "rmse"
   ]
  },
  {
   "cell_type": "code",
   "execution_count": null,
   "metadata": {},
   "outputs": [],
   "source": []
  },
  {
   "cell_type": "code",
   "execution_count": null,
   "metadata": {},
   "outputs": [],
   "source": []
  },
  {
   "cell_type": "code",
   "execution_count": null,
   "metadata": {},
   "outputs": [],
   "source": []
  },
  {
   "cell_type": "code",
   "execution_count": null,
   "metadata": {},
   "outputs": [],
   "source": []
  },
  {
   "cell_type": "code",
   "execution_count": null,
   "metadata": {},
   "outputs": [],
   "source": []
  },
  {
   "cell_type": "code",
   "execution_count": null,
   "metadata": {},
   "outputs": [],
   "source": []
  }
 ],
 "metadata": {
  "kernelspec": {
   "display_name": "Python 3",
   "language": "python",
   "name": "python3"
  },
  "language_info": {
   "codemirror_mode": {
    "name": "ipython",
    "version": 3
   },
   "file_extension": ".py",
   "mimetype": "text/x-python",
   "name": "python",
   "nbconvert_exporter": "python",
   "pygments_lexer": "ipython3",
   "version": "3.8.5"
  }
 },
 "nbformat": 4,
 "nbformat_minor": 5
}

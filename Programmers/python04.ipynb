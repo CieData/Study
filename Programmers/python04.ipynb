{
 "cells": [
  {
   "cell_type": "code",
   "execution_count": null,
   "metadata": {},
   "outputs": [],
   "source": [
    "'''문자열을 정수로 바꾸기\n",
    "문제 설명\n",
    "문자열 s를 숫자로 변환한 결과를 반환하는 함수, solution을 완성하세요.\n",
    "\n",
    "제한 조건\n",
    "s의 길이는 1 이상 5이하입니다.\n",
    "s의 맨앞에는 부호(+, -)가 올 수 있습니다.\n",
    "s는 부호와 숫자로만 이루어져있습니다.\n",
    "s는 \"0\"으로 시작하지 않습니다.\n",
    "'''\n",
    "def solution(s):\n",
    "    answer = int(s)\n",
    "    return answer\n"
   ]
  },
  {
   "cell_type": "code",
   "execution_count": null,
   "metadata": {},
   "outputs": [],
   "source": [
    "'''정수 내림차순으로 배치하기\n",
    "문제 설명\n",
    "함수 solution은 정수 n을 매개변수로 입력받습니다. n의 각 자릿수를 큰것부터 작은 순으로 정렬한 새로운 정수를 리턴해주세요. 예를들어 n이 118372면 873211을 리턴하면 됩니다.\n",
    "'''\n",
    "def solution(n):\n",
    "    a=list(str(n))\n",
    "    a.sort()\n",
    "    a=a[::-1]\n",
    "    b=''\n",
    "    for i in range(len(a)):\n",
    "        b+=a[i]\n",
    "    answer = int(b)\n",
    "    return answer"
   ]
  },
  {
   "cell_type": "code",
   "execution_count": null,
   "metadata": {},
   "outputs": [],
   "source": [
    "'''최댓값 만들기 (2)\n",
    "문제 설명\n",
    "정수 배열 numbers가 매개변수로 주어집니다. numbers의 원소 중 두 개를 곱해 만들 수 있는 최댓값을 return하도록 solution 함수를 완성해주세요.\n",
    "'''\n",
    "def solution(numbers):\n",
    "    answer = 0\n",
    "    a=[]\n",
    "    b=[]\n",
    "    for i in range(len(numbers)):\n",
    "        if numbers[i]>=0:\n",
    "            a.append(numbers[i])\n",
    "        else:\n",
    "            b.append(numbers[i])\n",
    "    a.sort()\n",
    "    b.sort()\n",
    "    if len(a)>1 and len(b)>1:\n",
    "        answer=max((a[-1]*a[-2]),(b[0]*b[1]))\n",
    "    elif len(a)>1 and len(b)<=1:\n",
    "        answer=a[-1]*a[-2]\n",
    "    elif len(b)>1 and len(a)<=1:\n",
    "        answer=b[0]*b[1]\n",
    "    else:\n",
    "        answer=numbers[0]*numbers[1]\n",
    "    return answer"
   ]
  },
  {
   "cell_type": "code",
   "execution_count": null,
   "metadata": {},
   "outputs": [],
   "source": [
    "'''하샤드 수\n",
    "문제 설명\n",
    "양의 정수 x가 하샤드 수이려면 x의 자릿수의 합으로 x가 나누어져야 합니다. 예를 들어 18의 자릿수 합은 1+8=9이고, 18은 9로 나누어 떨어지므로 18은 하샤드 수입니다. 자연수 x를 입력받아 x가 하샤드 수인지 아닌지 검사하는 함수, solution을 완성해주세요.\n",
    "'''\n",
    "def solution(x):\n",
    "    a=list(str(x))\n",
    "    b=0\n",
    "    for i in range(len(a)):\n",
    "        b+=int(a[i])\n",
    "    if x%b==0:\n",
    "        answer = True\n",
    "    else:\n",
    "        answer=False\n",
    "    return answer"
   ]
  },
  {
   "cell_type": "code",
   "execution_count": null,
   "metadata": {},
   "outputs": [],
   "source": [
    "'''인덱스 바꾸기\n",
    "문제 설명\n",
    "문자열 my_string과 정수 num1, num2가 매개변수로 주어질 때, my_string에서 인덱스 num1과 인덱스 num2에 해당하는 문자를 바꾼 문자열을 return 하도록 solution 함수를 완성해보세요.\n",
    "'''\n",
    "def solution(my_string, num1, num2):\n",
    "    answer = ''\n",
    "    for i in range(len(my_string)):\n",
    "        if i==num1:\n",
    "            answer+=my_string[num2]\n",
    "        elif i==num2:\n",
    "            answer+=my_string[num1]\n",
    "        else:\n",
    "            answer+=my_string[i]\n",
    "    return answer"
   ]
  },
  {
   "cell_type": "code",
   "execution_count": null,
   "metadata": {},
   "outputs": [],
   "source": [
    "'''나머지가 1이 되는 수 찾기\n",
    "문제 설명\n",
    "자연수 n이 매개변수로 주어집니다. n을 x로 나눈 나머지가 1이 되도록 하는 가장 작은 자연수 x를 return 하도록 solution 함수를 완성해주세요. 답이 항상 존재함은 증명될 수 있습니다.\n",
    "'''\n",
    "def solution(n):\n",
    "    for i in range(1,n):\n",
    "        if n%i==1:\n",
    "            answer = i\n",
    "            break\n",
    "    \n",
    "    return answer"
   ]
  },
  {
   "cell_type": "code",
   "execution_count": null,
   "metadata": {},
   "outputs": [],
   "source": [
    "'''약수 구하기\n",
    "문제 설명\n",
    "정수 n이 매개변수로 주어질 때, n의 약수를 오름차순으로 담은 배열을 return하도록 solution 함수를 완성해주세요.\n",
    "'''\n",
    "import math\n",
    "def solution(n):\n",
    "    answer = []\n",
    "    a=int(math.sqrt(n))+1\n",
    "    for i in range(1,a):\n",
    "        if n%i==0:\n",
    "            if i!=n//i:\n",
    "                answer.append(i)\n",
    "                answer.append(n//i)\n",
    "            else:\n",
    "                answer.append(i)\n",
    "    answer.sort()\n",
    "    return answer"
   ]
  },
  {
   "cell_type": "code",
   "execution_count": null,
   "metadata": {},
   "outputs": [],
   "source": [
    "'''숫자 찾기\n",
    "문제 설명\n",
    "정수 num과 k가 매개변수로 주어질 때, num을 이루는 숫자 중에 k가 있으면 num의 그 숫자가 있는 자리 수를 return하고 없으면 -1을 return 하도록 solution 함수를 완성해보세요.\n",
    "'''\n",
    "def solution(num, k):\n",
    "    if str(k) in str(num):\n",
    "        answer = str(num).index(str(k))+1\n",
    "    else:\n",
    "        answer=-1\n",
    "    return answer"
   ]
  },
  {
   "cell_type": "code",
   "execution_count": null,
   "metadata": {},
   "outputs": [],
   "source": [
    "'''두 정수 사이의 합\n",
    "문제 설명\n",
    "두 정수 a, b가 주어졌을 때 a와 b 사이에 속한 모든 정수의 합을 리턴하는 함수, solution을 완성하세요.\n",
    "예를 들어 a = 3, b = 5인 경우, 3 + 4 + 5 = 12이므로 12를 리턴합니다.\n",
    "'''\n",
    "def solution(a, b):\n",
    "    answer = 0\n",
    "    for i in range(min(a,b),max(a,b)+1):\n",
    "        answer+=i\n",
    "    return answer"
   ]
  },
  {
   "cell_type": "code",
   "execution_count": null,
   "metadata": {},
   "outputs": [],
   "source": [
    "'''369게임\n",
    "문제 설명\n",
    "머쓱이는 친구들과 369게임을 하고 있습니다. 369게임은 1부터 숫자를 하나씩 대며 3, 6, 9가 들어가는 숫자는 숫자 대신 3, 6, 9의 개수만큼 박수를 치는 게임입니다. 머쓱이가 말해야하는 숫자 order가 매개변수로 주어질 때, 머쓱이가 쳐야할 박수 횟수를 return 하도록 solution 함수를 완성해보세요.\n",
    "'''\n",
    "def solution(order):\n",
    "    answer = 0\n",
    "    a=list(str(order))\n",
    "    answer+=a.count('3')+a.count('6')+a.count('9')\n",
    "    return answer"
   ]
  },
  {
   "cell_type": "code",
   "execution_count": null,
   "metadata": {},
   "outputs": [],
   "source": [
    "'''콜라츠 추측\n",
    "문제 설명\n",
    "1937년 Collatz란 사람에 의해 제기된 이 추측은, 주어진 수가 1이 될 때까지 다음 작업을 반복하면, 모든 수를 1로 만들 수 있다는 추측입니다. 작업은 다음과 같습니다.\n",
    "1-1. 입력된 수가 짝수라면 2로 나눕니다. \n",
    "1-2. 입력된 수가 홀수라면 3을 곱하고 1을 더합니다. \n",
    "2. 결과로 나온 수에 같은 작업을 1이 될 때까지 반복합니다. \n",
    "'''\n",
    "def solution(num):\n",
    "    count=0\n",
    "    while True:\n",
    "        if num==1:\n",
    "            break\n",
    "        if num%2==0:\n",
    "            count+=1\n",
    "            num/=2\n",
    "        elif num%2==1:\n",
    "            count+=1\n",
    "            num=num*3+1\n",
    "        if count==500:\n",
    "            count=-1\n",
    "            break\n",
    "    return count"
   ]
  },
  {
   "cell_type": "code",
   "execution_count": null,
   "metadata": {},
   "outputs": [],
   "source": [
    "'''문자열 정렬하기 (2)\n",
    "문제 설명\n",
    "영어 대소문자로 이루어진 문자열 my_string이 매개변수로 주어질 때, my_string을 모두 소문자로 바꾸고 알파벳 순서대로 정렬한 문자열을 return 하도록 solution 함수를 완성해보세요.\n",
    "'''\n",
    "def solution(my_string):\n",
    "    an=''\n",
    "    my_string=my_string.lower()\n",
    "    my_string=sorted(my_string)\n",
    "    for i in range(len(my_string)):\n",
    "        an+=my_string[i]\n",
    "    return an"
   ]
  },
  {
   "cell_type": "code",
   "execution_count": null,
   "metadata": {},
   "outputs": [],
   "source": [
    "'''서울에서 김서방 찾기\n",
    "문제 설명\n",
    "String형 배열 seoul의 element중 \"Kim\"의 위치 x를 찾아, \"김서방은 x에 있다\"는 String을 반환하는 함수, solution을 완성하세요. seoul에 \"Kim\"은 오직 한 번만 나타나며 잘못된 값이 입력되는 경우는 없습니다.\n",
    "'''\n",
    "def solution(seoul):\n",
    "    answer = '김서방은 {}에 있다'.format(seoul.index('Kim'))\n",
    "    \n",
    "    return answer"
   ]
  },
  {
   "cell_type": "code",
   "execution_count": null,
   "metadata": {},
   "outputs": [],
   "source": [
    "'''나누어 떨어지는 숫자 배열\n",
    "문제 설명\n",
    "array의 각 element 중 divisor로 나누어 떨어지는 값을 오름차순으로 정렬한 배열을 반환하는 함수, solution을 작성해주세요.\n",
    "divisor로 나누어 떨어지는 element가 하나도 없다면 배열에 -1을 담아 반환하세요.\n",
    "'''\n",
    "def solution(arr, divisor):\n",
    "    answer = []\n",
    "    for i in range(len(arr)):\n",
    "        if arr[i]%divisor==0:\n",
    "            answer.append(arr[i])\n",
    "    if len(answer)==0:\n",
    "        answer=[-1]\n",
    "    else:\n",
    "        answer.sort()\n",
    "    return answer"
   ]
  },
  {
   "cell_type": "code",
   "execution_count": null,
   "metadata": {},
   "outputs": [],
   "source": [
    "'''핸드폰 번호 가리기\n",
    "문제 설명\n",
    "프로그래머스 모바일은 개인정보 보호를 위해 고지서를 보낼 때 고객들의 전화번호의 일부를 가립니다.\n",
    "전화번호가 문자열 phone_number로 주어졌을 때, 전화번호의 뒷 4자리를 제외한 나머지 숫자를 전부 *으로 가린 문자열을 리턴하는 함수, solution을 완성해주세요.\n",
    "'''\n",
    "def solution(phone_number):\n",
    "    answer = '*'*(len(phone_number)-4)+phone_number[-4:]\n",
    "    return answer"
   ]
  },
  {
   "cell_type": "code",
   "execution_count": null,
   "metadata": {},
   "outputs": [],
   "source": [
    "'''합성수 찾기\n",
    "문제 설명\n",
    "약수의 개수가 세 개 이상인 수를 합성수라고 합니다. 자연수 n이 매개변수로 주어질 때 n이하의 합성수의 개수를 return하도록 solution 함수를 완성해주세요.\n",
    "'''\n",
    "def solution(n):\n",
    "    a=[1,2,3,5,7,11,13,17,19,23,29,31,37,41,43,47,53,59,61,67,71,73,79,83,89,97]\n",
    "    count=0\n",
    "    for i in range(1,n+1):\n",
    "        if i not in a:\n",
    "            count+=1\n",
    "    \n",
    "    return count"
   ]
  },
  {
   "cell_type": "code",
   "execution_count": null,
   "metadata": {},
   "outputs": [],
   "source": [
    "'''모스부호 (1)\n",
    "문제 설명\n",
    "머쓱이는 친구에게 모스부호를 이용한 편지를 받았습니다. 그냥은 읽을 수 없어 이를 해독하는 프로그램을 만들려고 합니다. 문자열 letter가 매개변수로 주어질 때, letter를 영어 소문자로 바꾼 문자열을 return 하도록 solution 함수를 완성해보세요.\n",
    "모스부호는 다음과 같습니다.\n",
    "\n",
    "morse = { \n",
    "    '.-':'a','-...':'b','-.-.':'c','-..':'d','.':'e','..-.':'f',\n",
    "    '--.':'g','....':'h','..':'i','.---':'j','-.-':'k','.-..':'l',\n",
    "    '--':'m','-.':'n','---':'o','.--.':'p','--.-':'q','.-.':'r',\n",
    "    '...':'s','-':'t','..-':'u','...-':'v','.--':'w','-..-':'x',\n",
    "    '-.--':'y','--..':'z'\n",
    "}\n",
    "'''\n",
    "def solution(letter):\n",
    "    answer = ''\n",
    "    morse = {'.-':'a','-...':'b','-.-.':'c','-..':'d','.':'e','..-.':'f',\n",
    "    '--.':'g','....':'h','..':'i','.---':'j','-.-':'k','.-..':'l',\n",
    "    '--':'m','-.':'n','---':'o','.--.':'p','--.-':'q','.-.':'r',\n",
    "    '...':'s','-':'t','..-':'u','...-':'v','.--':'w','-..-':'x',\n",
    "    '-.--':'y','--..':'z'}\n",
    "    a=letter.split()\n",
    "    for i in range(len(a)):\n",
    "        answer+=morse[a[i]]\n",
    "    return answer"
   ]
  },
  {
   "cell_type": "code",
   "execution_count": null,
   "metadata": {},
   "outputs": [],
   "source": [
    "'''음양 더하기\n",
    "문제 설명\n",
    "어떤 정수들이 있습니다. 이 정수들의 절댓값을 차례대로 담은 정수 배열 absolutes와 이 정수들의 부호를 차례대로 담은 불리언 배열 signs가 매개변수로 주어집니다. 실제 정수들의 합을 구하여 return 하도록 solution 함수를 완성해주세요.\n",
    "'''\n",
    "def solution(absolutes, signs):\n",
    "    answer = 0\n",
    "    for i in range(len(signs)):\n",
    "        if signs[i]==True:\n",
    "            answer+=absolutes[i]\n",
    "        else:\n",
    "            answer-=absolutes[i]\n",
    "    return answer"
   ]
  },
  {
   "cell_type": "code",
   "execution_count": null,
   "metadata": {},
   "outputs": [],
   "source": [
    "'''제일 작은 수 제거하기\n",
    "문제 설명\n",
    "정수를 저장한 배열, arr 에서 가장 작은 수를 제거한 배열을 리턴하는 함수, solution을 완성해주세요. 단, 리턴하려는 배열이 빈 배열인 경우엔 배열에 -1을 채워 리턴하세요. 예를들어 arr이 [4,3,2,1]인 경우는 [4,3,2]를 리턴 하고, [10]면 [-1]을 리턴 합니다.\n",
    "'''\n",
    "def solution(arr):\n",
    "    \n",
    "    if len(arr)==1:\n",
    "        answer=[-1]\n",
    "    else:\n",
    "        arr.remove(min(arr))\n",
    "        answer=arr\n",
    "    return answer"
   ]
  },
  {
   "cell_type": "code",
   "execution_count": null,
   "metadata": {},
   "outputs": [],
   "source": [
    "'''중복된 문자 제거\n",
    "문제 설명\n",
    "문자열 my_string이 매개변수로 주어집니다. my_string에서 중복된 문자를 제거하고 하나의 문자만 남긴 문자열을 return하도록 solution 함수를 완성해주세요.\n",
    "'''\n",
    "def solution(my_string):\n",
    "    answer = ''\n",
    "    for i in range(len(my_string)):\n",
    "        if my_string[i] not in answer:\n",
    "            answer+=my_string[i]\n",
    "    return answer"
   ]
  }
 ],
 "metadata": {
  "kernelspec": {
   "display_name": "base",
   "language": "python",
   "name": "python3"
  },
  "language_info": {
   "name": "python",
   "version": "3.9.12 (main, Apr  4 2022, 05:22:27) [MSC v.1916 64 bit (AMD64)]"
  },
  "orig_nbformat": 4,
  "vscode": {
   "interpreter": {
    "hash": "7f368c48a586e931bd654761381ef86d5d2c1d8e94773dbceeccd45cd5f51e02"
   }
  }
 },
 "nbformat": 4,
 "nbformat_minor": 2
}

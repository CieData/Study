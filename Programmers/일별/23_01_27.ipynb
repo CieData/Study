{
 "cells": [
  {
   "cell_type": "code",
   "execution_count": null,
   "metadata": {},
   "outputs": [],
   "source": [
    "'''괄호 회전하기\n",
    "문제 설명\n",
    "다음 규칙을 지키는 문자열을 올바른 괄호 문자열이라고 정의합니다.\n",
    "\n",
    "(), [], {} 는 모두 올바른 괄호 문자열입니다.\n",
    "만약 A가 올바른 괄호 문자열이라면, (A), [A], {A} 도 올바른 괄호 문자열입니다. 예를 들어, [] 가 올바른 괄호 문자열이므로, ([]) 도 올바른 괄호 문자열입니다.\n",
    "만약 A, B가 올바른 괄호 문자열이라면, AB 도 올바른 괄호 문자열입니다. 예를 들어, {} 와 ([]) 가 올바른 괄호 문자열이므로, {}([]) 도 올바른 괄호 문자열입니다.\n",
    "대괄호, 중괄호, 그리고 소괄호로 이루어진 문자열 s가 매개변수로 주어집니다. 이 s를 왼쪽으로 x (0 ≤ x < (s의 길이)) 칸만큼 회전시켰을 때 s가 올바른 괄호 문자열이 되게 하는 x의 개수를 return 하도록 solution 함수를 완성해주세요.\n",
    "'''\n",
    "def solution(s):\n",
    "    answer = 0\n",
    "    op='[{('\n",
    "    for i in range(len(s)):\n",
    "        result=0\n",
    "        ss=s[i:]+s[:i]\n",
    "        stack=[]\n",
    "        for j in ss:\n",
    "            if j in op:\n",
    "                stack.append(j)\n",
    "            else:\n",
    "                if len(stack)==0:\n",
    "                    result+=1\n",
    "                    break\n",
    "                else:\n",
    "                    if j==')' and stack.pop()!='(':\n",
    "                        result+=1\n",
    "                        break\n",
    "                    elif j=='}' and stack.pop()!='{':\n",
    "                        result+=1\n",
    "                        break\n",
    "                    elif j==']' and stack.pop()!='[':\n",
    "                        result+=1\n",
    "                        break\n",
    "        if stack:\n",
    "            result+=1\n",
    "        if result==0:\n",
    "            answer+=1\n",
    "                        \n",
    "    \n",
    "    return answer"
   ]
  },
  {
   "cell_type": "code",
   "execution_count": null,
   "metadata": {},
   "outputs": [],
   "source": [
    "'''문제 설명\n",
    "2차원 행렬 arr1과 arr2를 입력받아, arr1에 arr2를 곱한 결과를 반환하는 함수, solution을 완성해주세요.\n",
    "'''\n",
    "def solution(arr1, arr2):\n",
    "    answer = []\n",
    "    for i in range(len(arr1)):\n",
    "        l=[]\n",
    "        for j in range(len(arr2[0])):\n",
    "            add=0\n",
    "            for k in range(len(arr1[0])):\n",
    "                add+=arr1[i][k]*arr2[k][j]\n",
    "            l.append(add)\n",
    "        answer.append(l)\n",
    "        \n",
    "    return answer"
   ]
  }
 ],
 "metadata": {
  "kernelspec": {
   "display_name": "base",
   "language": "python",
   "name": "python3"
  },
  "language_info": {
   "name": "python",
   "version": "3.9.12 (main, Apr  4 2022, 05:22:27) [MSC v.1916 64 bit (AMD64)]"
  },
  "orig_nbformat": 4,
  "vscode": {
   "interpreter": {
    "hash": "7f368c48a586e931bd654761381ef86d5d2c1d8e94773dbceeccd45cd5f51e02"
   }
  }
 },
 "nbformat": 4,
 "nbformat_minor": 2
}

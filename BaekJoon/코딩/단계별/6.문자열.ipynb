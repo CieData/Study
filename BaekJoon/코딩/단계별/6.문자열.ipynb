{
 "cells": [
  {
   "cell_type": "markdown",
   "metadata": {},
   "source": [
    "추가"
   ]
  },
  {
   "cell_type": "code",
   "execution_count": 26,
   "metadata": {},
   "outputs": [
    {
     "name": "stdout",
     "output_type": "stream",
     "text": [
      "0 4 2 5 6\n",
      "1\n"
     ]
    }
   ],
   "source": [
    "a,b,c,d,e = map(int, input().split())\n",
    "print((a**2+b**2+c**2+d**2+e**2)%10)"
   ]
  },
  {
   "cell_type": "markdown",
   "metadata": {},
   "source": [
    "1번"
   ]
  },
  {
   "cell_type": "code",
   "execution_count": 3,
   "metadata": {},
   "outputs": [
    {
     "name": "stdout",
     "output_type": "stream",
     "text": [
      "A\n",
      "65\n"
     ]
    }
   ],
   "source": [
    "a = ord(input())\n",
    "print(a)"
   ]
  },
  {
   "cell_type": "markdown",
   "metadata": {},
   "source": [
    "2번"
   ]
  },
  {
   "cell_type": "code",
   "execution_count": 5,
   "metadata": {},
   "outputs": [
    {
     "name": "stdout",
     "output_type": "stream",
     "text": [
      "5\n",
      "54321\n",
      "15\n"
     ]
    }
   ],
   "source": [
    "a = int(input())\n",
    "b = str(input())\n",
    "c=0\n",
    "for i in b:\n",
    "    c+=int(i)\n",
    "print(c)"
   ]
  },
  {
   "cell_type": "markdown",
   "metadata": {},
   "source": [
    "3번"
   ]
  },
  {
   "cell_type": "code",
   "execution_count": 52,
   "metadata": {},
   "outputs": [
    {
     "name": "stdout",
     "output_type": "stream",
     "text": [
      "aaaa\n",
      "0 -1 -1 -1 -1 -1 -1 -1 -1 -1 -1 -1 -1 -1 -1 -1 -1 -1 -1 -1 -1 -1 -1 -1 -1 -1 "
     ]
    }
   ],
   "source": [
    "a = str(input())\n",
    "b = 'abcdefghijklmnopqrstuvwxyz'\n",
    "for i in b:\n",
    "    if i in a:\n",
    "        print(a.find(i), end = ' ')\n",
    "    else:\n",
    "        print(-1, end = ' ')"
   ]
  },
  {
   "cell_type": "markdown",
   "metadata": {},
   "source": [
    "4번"
   ]
  },
  {
   "cell_type": "code",
   "execution_count": 85,
   "metadata": {},
   "outputs": [
    {
     "name": "stdout",
     "output_type": "stream",
     "text": [
      "2\n",
      "3 abc\n",
      "aaabbbccc\n",
      "5 /htp\n",
      "/////hhhhhtttttppppp\n"
     ]
    }
   ],
   "source": [
    "a = int(input())\n",
    "for i in range(a):\n",
    "    b = list(map(str, input().split()))\n",
    "    c=''\n",
    "    for j in range(len(b[1])):\n",
    "        c+=b[1][j:j+1]*int(b[0])\n",
    "    print(c)"
   ]
  },
  {
   "cell_type": "markdown",
   "metadata": {},
   "source": [
    "5번"
   ]
  },
  {
   "cell_type": "code",
   "execution_count": 174,
   "metadata": {},
   "outputs": [
    {
     "name": "stdout",
     "output_type": "stream",
     "text": [
      "zZa\n",
      "Z\n"
     ]
    }
   ],
   "source": [
    "a = input().lower()\n",
    "b=[]\n",
    "c=''\n",
    "\n",
    "for i in set(a):\n",
    "    b.append(int(a.count(i)))\n",
    "for j in set(a):\n",
    "    if a.count(j)==max(b):\n",
    "        c+=j\n",
    "        \n",
    "if len(c)>1:\n",
    "    print('?')\n",
    "else:\n",
    "    print(c.upper())"
   ]
  },
  {
   "cell_type": "markdown",
   "metadata": {},
   "source": [
    "6번"
   ]
  },
  {
   "cell_type": "code",
   "execution_count": null,
   "metadata": {},
   "outputs": [],
   "source": [
    "a = list(map(str,input().split()))\n",
    "print(len(a))"
   ]
  },
  {
   "cell_type": "markdown",
   "metadata": {},
   "source": [
    "7번"
   ]
  },
  {
   "cell_type": "code",
   "execution_count": null,
   "metadata": {},
   "outputs": [],
   "source": [
    "a,b = map(str,input().split())\n",
    "c=int(a[2]+a[1]+a[0])\n",
    "d=int(b[2]+b[1]+b[0])\n",
    "if c>d:\n",
    "    print(c)\n",
    "else:\n",
    "    print(d)"
   ]
  },
  {
   "cell_type": "markdown",
   "metadata": {},
   "source": [
    "8번"
   ]
  },
  {
   "cell_type": "code",
   "execution_count": null,
   "metadata": {},
   "outputs": [],
   "source": [
    "a = str(input())\n",
    "b=0\n",
    "for i in a:\n",
    "    if i in ('A','B','C'):\n",
    "        b+=3\n",
    "    elif i in ('D','E','F'):\n",
    "        b+=4\n",
    "    elif i in ('G','H','I'):\n",
    "        b+=5\n",
    "    elif i in ('J','K','L'):\n",
    "        b+=6\n",
    "    elif i in ('M','N','O'):\n",
    "        b+=7\n",
    "    elif i in ('P','Q','R','S'):\n",
    "        b+=8\n",
    "    elif i in ('T','U','V'):\n",
    "        b+=9\n",
    "    else:\n",
    "        b+=10\n",
    "print(b)"
   ]
  },
  {
   "cell_type": "markdown",
   "metadata": {},
   "source": [
    "9번"
   ]
  },
  {
   "cell_type": "code",
   "execution_count": 156,
   "metadata": {},
   "outputs": [
    {
     "name": "stdout",
     "output_type": "stream",
     "text": [
      "nfdjnzkjdnkzdnzdzdzdz=\n",
      "20\n"
     ]
    }
   ],
   "source": [
    "a = str(input())\n",
    "b = ['c=', 'c-','dz=', 'd-', 'lj', 'nj', 's=','z=']\n",
    "\n",
    "for i in range(len(b)):\n",
    "    a=a.replace(b[i],'1')\n",
    "print(len(a))"
   ]
  },
  {
   "cell_type": "markdown",
   "metadata": {},
   "source": [
    "10번"
   ]
  },
  {
   "cell_type": "code",
   "execution_count": 47,
   "metadata": {},
   "outputs": [
    {
     "name": "stdout",
     "output_type": "stream",
     "text": [
      "1\n",
      "aabaa\n",
      "0\n"
     ]
    }
   ],
   "source": [
    "a = int(input())\n",
    "b='abcdefghijklmnopqrstuvwxyz'\n",
    "e=0\n",
    "for i in range(a):\n",
    "    c = str(input())\n",
    "    d=''\n",
    "    for j in range(len(b)):\n",
    "        if b[j] in c and b[j]*c.count(b[j]) not in c :\n",
    "            d=''\n",
    "        else:\n",
    "            d+=b[j]\n",
    "    if len(d)==26:\n",
    "        e+=1\n",
    "print(e)"
   ]
  }
 ],
 "metadata": {
  "kernelspec": {
   "display_name": "Python 3 (ipykernel)",
   "language": "python",
   "name": "python3"
  },
  "language_info": {
   "codemirror_mode": {
    "name": "ipython",
    "version": 3
   },
   "file_extension": ".py",
   "mimetype": "text/x-python",
   "name": "python",
   "nbconvert_exporter": "python",
   "pygments_lexer": "ipython3",
   "version": "3.9.12"
  }
 },
 "nbformat": 4,
 "nbformat_minor": 4
}

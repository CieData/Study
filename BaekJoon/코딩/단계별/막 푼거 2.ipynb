{
 "cells": [
  {
   "cell_type": "markdown",
   "id": "00b961a7",
   "metadata": {},
   "source": [
    "이항 계수 4 플4(11402)"
   ]
  },
  {
   "cell_type": "code",
   "execution_count": 20,
   "id": "c58f8943",
   "metadata": {},
   "outputs": [
    {
     "name": "stdout",
     "output_type": "stream",
     "text": [
      "30 15\n",
      "155117520\n"
     ]
    }
   ],
   "source": [
    "def f(n):\n",
    "    ans=1\n",
    "    if n==0:\n",
    "        return 1\n",
    "    else:\n",
    "        for i in range(1,n+1):\n",
    "            ans*=i\n",
    "        return ans\n",
    "    \n",
    "def co(n, r):\n",
    "    return f(n)//(f(r)*f(n-r))\n",
    "\n",
    "a,b,c=map(int,input().split())\n",
    "\n",
    "a_list=[]\n",
    "b_list=[]\n",
    "while a!=0 or b!=0:\n",
    "    a_list.append(a%c)\n",
    "    b_list.append(b%c)\n",
    "    a=a//c\n",
    "    b=b//c\n",
    "\n",
    "result=1\n",
    "for i in range(len(a_list)):\n",
    "    if a_list[i]<b_list[i]:\n",
    "        result=0\n",
    "        break\n",
    "    else:\n",
    "        result*=co(a_list[i],b_list[i])\n",
    "        result%=c\n",
    "print(result)"
   ]
  },
  {
   "cell_type": "markdown",
   "id": "11fb6a71",
   "metadata": {},
   "source": [
    "곱셈 실1(1629)"
   ]
  },
  {
   "cell_type": "code",
   "execution_count": 72,
   "id": "2890a221",
   "metadata": {},
   "outputs": [
    {
     "name": "stdout",
     "output_type": "stream",
     "text": [
      "10 11 12\n",
      "4\n"
     ]
    }
   ],
   "source": [
    "a,b,c=map(int,input().split())\n",
    "b_list=[]\n",
    "d=1\n",
    "while b!=0:\n",
    "    b_list.append(b%2)\n",
    "    b=b//2\n",
    "for i in range(len(b_list)):\n",
    "    if b_list[i]==1:\n",
    "        e=a\n",
    "        for j in range(i):\n",
    "            e**=2\n",
    "        d*=e\n",
    "    else:\n",
    "        pass\n",
    "print(d%c)"
   ]
  },
  {
   "cell_type": "code",
   "execution_count": 78,
   "id": "99e67401",
   "metadata": {},
   "outputs": [
    {
     "name": "stdout",
     "output_type": "stream",
     "text": [
      "10 11 12\n",
      "4\n"
     ]
    }
   ],
   "source": [
    "a,b,c=map(int,input().split())\n"
   ]
  },
  {
   "cell_type": "code",
   "execution_count": 76,
   "id": "84fad201",
   "metadata": {},
   "outputs": [
    {
     "data": {
      "text/plain": [
       "1"
      ]
     },
     "execution_count": 76,
     "metadata": {},
     "output_type": "execute_result"
    }
   ],
   "source": [
    "11%2"
   ]
  },
  {
   "cell_type": "code",
   "execution_count": 4,
   "id": "56932efc",
   "metadata": {},
   "outputs": [
    {
     "data": {
      "text/plain": [
       "2"
      ]
     },
     "execution_count": 4,
     "metadata": {},
     "output_type": "execute_result"
    }
   ],
   "source": [
    "14%12"
   ]
  },
  {
   "cell_type": "code",
   "execution_count": 5,
   "id": "93710a01",
   "metadata": {
    "scrolled": true
   },
   "outputs": [
    {
     "data": {
      "text/plain": [
       "4"
      ]
     },
     "execution_count": 5,
     "metadata": {},
     "output_type": "execute_result"
    }
   ],
   "source": [
    "196%12"
   ]
  },
  {
   "cell_type": "code",
   "execution_count": 7,
   "id": "c41efa03",
   "metadata": {},
   "outputs": [
    {
     "data": {
      "text/plain": [
       "8"
      ]
     },
     "execution_count": 7,
     "metadata": {},
     "output_type": "execute_result"
    }
   ],
   "source": [
    "14**3%12"
   ]
  },
  {
   "cell_type": "code",
   "execution_count": null,
   "id": "027986f8",
   "metadata": {},
   "outputs": [],
   "source": []
  },
  {
   "cell_type": "markdown",
   "id": "06d86cf3",
   "metadata": {},
   "source": [
    "2xn 타일링 실3(11726)"
   ]
  },
  {
   "cell_type": "code",
   "execution_count": 85,
   "id": "0a3e99e1",
   "metadata": {},
   "outputs": [
    {
     "name": "stdout",
     "output_type": "stream",
     "text": [
      "9\n",
      "55\n"
     ]
    }
   ],
   "source": [
    "def f(n):\n",
    "    ans=1\n",
    "    if n==0:\n",
    "        return 1\n",
    "    else:\n",
    "        for i in range(1,n+1):\n",
    "            ans*=i\n",
    "        return ans\n",
    "    \n",
    "def co(n, r):\n",
    "    return f(n)//(f(r)*f(n-r))\n",
    "\n",
    "a= int(input())\n",
    "b=0\n",
    "for i in range(a//2+1):\n",
    "    b+=co(a-i,i)\n",
    "print(b%10007)"
   ]
  },
  {
   "cell_type": "markdown",
   "id": "4bc1bb4f",
   "metadata": {},
   "source": [
    "2xn 타일링 2 실3(11727)"
   ]
  },
  {
   "cell_type": "code",
   "execution_count": 88,
   "id": "798c5f35",
   "metadata": {},
   "outputs": [
    {
     "name": "stdout",
     "output_type": "stream",
     "text": [
      "12\n",
      "2731\n"
     ]
    }
   ],
   "source": [
    "def f(n):\n",
    "    ans=1\n",
    "    if n==0:\n",
    "        return 1\n",
    "    else:\n",
    "        for i in range(1,n+1):\n",
    "            ans*=i\n",
    "        return ans\n",
    "    \n",
    "def co(n, r):\n",
    "    return f(n)//(f(r)*f(n-r))\n",
    "\n",
    "a= int(input())\n",
    "b=0\n",
    "for i in range(a//2+1):\n",
    "    b+=(co(a-i,i)*(2**i))\n",
    "print(b%10007)"
   ]
  },
  {
   "cell_type": "markdown",
   "id": "88af8dfd",
   "metadata": {},
   "source": [
    "평균 점수 브4(10039)"
   ]
  },
  {
   "cell_type": "code",
   "execution_count": 1,
   "id": "25345953",
   "metadata": {},
   "outputs": [
    {
     "name": "stdout",
     "output_type": "stream",
     "text": [
      "10\n",
      "65\n",
      "100\n",
      "30\n",
      "95\n",
      "68\n"
     ]
    }
   ],
   "source": [
    "a=[]\n",
    "c=0\n",
    "for i in range(5):\n",
    "    b=int(input())\n",
    "    a.append(b)\n",
    "for j in a:\n",
    "    if j<40:\n",
    "        c+=40\n",
    "    else:\n",
    "        c+=j\n",
    "print(c//5)"
   ]
  },
  {
   "cell_type": "markdown",
   "id": "f8ed6f85",
   "metadata": {},
   "source": [
    "터렛 실3(1002)"
   ]
  },
  {
   "cell_type": "code",
   "execution_count": 1,
   "id": "bc8c2830",
   "metadata": {},
   "outputs": [
    {
     "name": "stdout",
     "output_type": "stream",
     "text": [
      "1\n",
      "1 1 1 1 1 1\n",
      "-1\n"
     ]
    }
   ],
   "source": [
    "import math\n",
    "a= int(input())\n",
    "for i in range(a):\n",
    "    b=list(map(int, input().split()))\n",
    "    c=math.sqrt((b[0]-b[3])**2+(b[1]-b[4])**2)\n",
    "    if c==0:\n",
    "        if b[2]==b[5]:\n",
    "            print(-1)\n",
    "        else:\n",
    "            print(0)\n",
    "    elif abs(b[2]-b[5])==c or b[2]+b[5]==c:\n",
    "        print(1)\n",
    "    elif abs(b[2]-b[5])<c<b[2]+b[5]:\n",
    "        print(2)\n",
    "    else:\n",
    "        print(0)\n",
    "        \n",
    "        "
   ]
  },
  {
   "cell_type": "markdown",
   "id": "228d6d4d",
   "metadata": {},
   "source": [
    "좌표 정렬 2 실5(11651)"
   ]
  },
  {
   "cell_type": "code",
   "execution_count": 25,
   "id": "9949682d",
   "metadata": {
    "scrolled": true
   },
   "outputs": [
    {
     "name": "stdout",
     "output_type": "stream",
     "text": [
      "5\n",
      "0 4\n",
      "1 2\n",
      "1 -1\n",
      "2 2\n",
      "3 3\n",
      "1 -1\n",
      "1 2\n",
      "2 2\n",
      "3 3\n",
      "0 4\n"
     ]
    }
   ],
   "source": [
    "a = int(input())\n",
    "b=[]\n",
    "for i in range(a):\n",
    "    c=list(map(int, input().split()))\n",
    "    b.append([c[1],c[0]])\n",
    "b.sort()\n",
    "for j in range(a):\n",
    "    print(b[j][1],b[j][0])"
   ]
  },
  {
   "cell_type": "markdown",
   "id": "58f3ae6e",
   "metadata": {},
   "source": [
    "조합 실4(2407)"
   ]
  },
  {
   "cell_type": "code",
   "execution_count": 62,
   "id": "589d6234",
   "metadata": {},
   "outputs": [
    {
     "name": "stdout",
     "output_type": "stream",
     "text": [
      "100 6\n",
      "1192052400\n"
     ]
    }
   ],
   "source": [
    "def f(n):\n",
    "    if n==0:\n",
    "        return 1\n",
    "    else:\n",
    "        return n*f(n-1)\n",
    "def co(a,b):\n",
    "    return f(a)//(f(b)*f(a-b))\n",
    "a,b=map(int, input().split())\n",
    "print(co(a,b))"
   ]
  },
  {
   "cell_type": "code",
   "execution_count": 27,
   "id": "f08e378b",
   "metadata": {},
   "outputs": [
    {
     "name": "stdout",
     "output_type": "stream",
     "text": [
      "6\n",
      "6\n",
      "5\n",
      "8\n",
      "12\n",
      "10\n",
      "28\n",
      "12\n",
      "64\n",
      "14\n",
      "144\n",
      "16\n",
      "320\n"
     ]
    }
   ],
   "source": [
    "a=int(input())\n",
    "def st(n):\n",
    "    if n==0:\n",
    "        return 0\n",
    "    elif n==2:\n",
    "        return 1\n",
    "    elif n==4:\n",
    "        return 2\n",
    "    elif n%2==1:\n",
    "        return 0\n",
    "    elif n%2==0:\n",
    "        return 2*st(n-2)+(2**(n//2-3))\n",
    "    \n",
    "for i in range(a):\n",
    "    b=int(input())\n",
    "    print(st(b)%(10**9+7))\n",
    "    "
   ]
  },
  {
   "cell_type": "code",
   "execution_count": 11,
   "id": "b9512510",
   "metadata": {},
   "outputs": [
    {
     "data": {
      "text/plain": [
       "4"
      ]
     },
     "execution_count": 11,
     "metadata": {},
     "output_type": "execute_result"
    }
   ],
   "source": [
    "8//2"
   ]
  },
  {
   "cell_type": "code",
   "execution_count": 25,
   "id": "97601f2a",
   "metadata": {},
   "outputs": [
    {
     "data": {
      "text/plain": [
       "6.0"
      ]
     },
     "execution_count": 25,
     "metadata": {},
     "output_type": "execute_result"
    }
   ],
   "source": [
    "st(4)*2+(2**((6//2)-3))"
   ]
  },
  {
   "cell_type": "code",
   "execution_count": 21,
   "id": "f807b4a2",
   "metadata": {},
   "outputs": [
    {
     "data": {
      "text/plain": [
       "-1"
      ]
     },
     "execution_count": 21,
     "metadata": {},
     "output_type": "execute_result"
    }
   ],
   "source": [
    "4//2-3"
   ]
  },
  {
   "cell_type": "code",
   "execution_count": null,
   "id": "7393df07",
   "metadata": {},
   "outputs": [],
   "source": []
  },
  {
   "cell_type": "code",
   "execution_count": null,
   "id": "745f3dc5",
   "metadata": {},
   "outputs": [],
   "source": []
  },
  {
   "cell_type": "code",
   "execution_count": 60,
   "id": "40032bc2",
   "metadata": {},
   "outputs": [
    {
     "name": "stdout",
     "output_type": "stream",
     "text": [
      "4 9\n",
      "8 52\n",
      "6 80\n",
      "26 42\n",
      "2 72\n",
      "51 19\n",
      "39 11\n",
      "37 29\n",
      "81 3\n",
      "59 5\n",
      "79 23\n",
      "53 7\n",
      "43 33\n",
      "77 21\n",
      "5\n"
     ]
    }
   ],
   "source": [
    "player=1\n",
    "a,b=map(int,input().split())\n",
    "plus=[]\n",
    "plus_area=[]\n",
    "plus_end=[]\n",
    "minus=[]\n",
    "for i in range(a):\n",
    "    c= list(map(int,input().split()))\n",
    "    plus_area.append(c[0])\n",
    "    plus_end.append(c[1])\n",
    "    plus.append(c[1]-c[0])\n",
    "for j in range(b):\n",
    "    d=list(map(int,input().split()))\n",
    "    minus.append(d[0])\n",
    "start=(plus_area[plus.index(max(plus))]-player)//6+1\n",
    "end=(100-plus_end[plus.index(max(plus))])//6+1\n",
    "print(start+end)\n",
    "    "
   ]
  },
  {
   "cell_type": "code",
   "execution_count": 55,
   "id": "04d6a197",
   "metadata": {},
   "outputs": [
    {
     "data": {
      "text/plain": [
       "[32, 42, 12]"
      ]
     },
     "execution_count": 55,
     "metadata": {},
     "output_type": "execute_result"
    }
   ],
   "source": [
    "plus_area=[32,42,12]\n",
    "plus_area"
   ]
  },
  {
   "cell_type": "code",
   "execution_count": 57,
   "id": "b5061ee3",
   "metadata": {},
   "outputs": [
    {
     "data": {
      "text/plain": [
       "2"
      ]
     },
     "execution_count": 57,
     "metadata": {},
     "output_type": "execute_result"
    }
   ],
   "source": [
    "plus.index(max(plus))"
   ]
  },
  {
   "cell_type": "code",
   "execution_count": 53,
   "id": "890930f1",
   "metadata": {},
   "outputs": [
    {
     "data": {
      "text/plain": [
       "[95, 97, 93, 79, 75, 49, 67]"
      ]
     },
     "execution_count": 53,
     "metadata": {},
     "output_type": "execute_result"
    }
   ],
   "source": [
    "minus"
   ]
  },
  {
   "cell_type": "markdown",
   "id": "21f9f571",
   "metadata": {},
   "source": [
    "비슷한 단어 실3(1411)"
   ]
  },
  {
   "cell_type": "code",
   "execution_count": 42,
   "id": "9673e1f0",
   "metadata": {},
   "outputs": [
    {
     "name": "stdout",
     "output_type": "stream",
     "text": [
      "12\n",
      "cacccdaabc\n",
      "cdcccaddbc\n",
      "dcdddbccad\n",
      "bdbbbaddcb\n",
      "bdbcadbbdc\n",
      "abaadcbbda\n",
      "babcdabbac\n",
      "cacdbaccad\n",
      "dcddabccad\n",
      "cacccbaadb\n",
      "bbcdcbcbdd\n",
      "bcbadcbbca\n",
      "13\n"
     ]
    }
   ],
   "source": [
    "def f(n):\n",
    "    if n==0:\n",
    "        return 1\n",
    "    else:\n",
    "        return n*f(n-1)\n",
    "def co(a,b):\n",
    "    return f(a)//(f(b)*f(a-b))\n",
    "from collections import Counter\n",
    "\n",
    "a = int(input())\n",
    "word_list=[]\n",
    "han='ㄱㄴㄷㄹㅁㅂㅅㅇㅈㅊㅋㅍㅌㅎㅏㅑㅓㅕㅗㅛㅜㅠㅡㅣㅐㅔ1234567890가나다라마바사아자차카파타하'\n",
    "S=0\n",
    "\n",
    "for i in range(a):\n",
    "    b=str(input())\n",
    "    for i in range(len(b)):\n",
    "        b=b.replace(b[i],han[i])\n",
    "    word_list.append(b)\n",
    "count=Counter(word_list).most_common()\n",
    "for x in range(len(count)):\n",
    "    if count[x][1]==1:\n",
    "        S+=0\n",
    "    else:\n",
    "        S+=co(count[x][1],2)\n",
    "print(S)"
   ]
  },
  {
   "cell_type": "code",
   "execution_count": null,
   "id": "07f855c3",
   "metadata": {},
   "outputs": [],
   "source": []
  }
 ],
 "metadata": {
  "kernelspec": {
   "display_name": "Python 3 (ipykernel)",
   "language": "python",
   "name": "python3"
  },
  "language_info": {
   "codemirror_mode": {
    "name": "ipython",
    "version": 3
   },
   "file_extension": ".py",
   "mimetype": "text/x-python",
   "name": "python",
   "nbconvert_exporter": "python",
   "pygments_lexer": "ipython3",
   "version": "3.9.12"
  }
 },
 "nbformat": 4,
 "nbformat_minor": 5
}

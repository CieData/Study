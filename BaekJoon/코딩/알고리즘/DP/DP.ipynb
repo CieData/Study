{
 "cells": [
  {
   "cell_type": "code",
   "execution_count": 1,
   "id": "694a3cae",
   "metadata": {},
   "outputs": [
    {
     "data": {
      "text/plain": [
       "218922995834555169026"
      ]
     },
     "execution_count": 1,
     "metadata": {},
     "output_type": "execute_result"
    }
   ],
   "source": [
    "#피보나치수열\n",
    "d=[0]*100\n",
    "def fibo(x):\n",
    "    if x==1 or x==2:\n",
    "        return 1\n",
    "    if d[x]!=0:\n",
    "        return d[x]\n",
    "    d[x]=fibo(x-1)+fibo(x-2)\n",
    "    return d[x]\n",
    "fibo(99)"
   ]
  },
  {
   "cell_type": "code",
   "execution_count": 5,
   "id": "6cfb821b",
   "metadata": {},
   "outputs": [
    {
     "data": {
      "text/plain": [
       "218922995834555169026"
      ]
     },
     "execution_count": 5,
     "metadata": {},
     "output_type": "execute_result"
    }
   ],
   "source": [
    "#for 문\n",
    "d=[0]*100\n",
    "d[1]=1\n",
    "d[2]=1\n",
    "n=99\n",
    "for i in range(3,n+1):\n",
    "    d[i]= d[i-1]+d[i-2]\n",
    "d[n]"
   ]
  },
  {
   "cell_type": "code",
   "execution_count": 7,
   "id": "2a6d6952",
   "metadata": {},
   "outputs": [
    {
     "name": "stdout",
     "output_type": "stream",
     "text": [
      "4\n",
      "1 3 1 5\n",
      "8\n"
     ]
    }
   ],
   "source": [
    "#1. 개미 전사\n",
    "n=int(input())\n",
    "a=list(map(int,input().split()))\n",
    "d=[0]*100\n",
    "d[0]=a[0]\n",
    "d[1]=max(a[0],a[1])\n",
    "for i in range(2,n):\n",
    "    d[i]=max(d[i-1],d[i-2]+a[i])\n",
    "print(d[n-1])"
   ]
  },
  {
   "cell_type": "code",
   "execution_count": 9,
   "id": "4bb15705",
   "metadata": {},
   "outputs": [
    {
     "name": "stdout",
     "output_type": "stream",
     "text": [
      "11\n",
      "3\n"
     ]
    }
   ],
   "source": [
    "#2. 1로 만들기\n",
    "x=int(input())\n",
    "d=[0]*30001\n",
    "for i in range(2,x+1):\n",
    "    d[i]=d[i-1]+1\n",
    "    if i%2==0:\n",
    "        d[i]=min(d[i],d[i//2]+1)\n",
    "    if i%3==0:\n",
    "        d[i]=min(d[i],d[i//3]+1)\n",
    "    if i%5==0:\n",
    "        d[i]=min(d[i],d[i//5]+1)\n",
    "print(d[x])"
   ]
  },
  {
   "cell_type": "code",
   "execution_count": 12,
   "id": "8eec1225",
   "metadata": {},
   "outputs": [
    {
     "name": "stdout",
     "output_type": "stream",
     "text": [
      "1 7\n",
      "1\n",
      "3\n"
     ]
    }
   ],
   "source": [
    "#3. 효율적인 화폐 구성\n",
    "n,m=map(int,input().split())\n",
    "a=[]\n",
    "for i in range(n):\n",
    "    a.append(int(input()))\n",
    "dp=[10001]*(m+1)\n",
    "dp[0]=0\n",
    "for i in range(n):\n",
    "    for j in range(a[i],m+1):\n",
    "        if dp[j-a[i]]!=10001:\n",
    "            dp[j]=min(dp[j],d[j-a[i]]+1)\n",
    "if dp[m]==10001:\n",
    "    print(-1)\n",
    "else:\n",
    "    print(dp[m])"
   ]
  },
  {
   "cell_type": "code",
   "execution_count": null,
   "id": "3e7d17b4",
   "metadata": {},
   "outputs": [],
   "source": [
    "#4. 금광\n",
    "for tc in range(int(input())):\n",
    "    n,m=map(int,input().split())\n",
    "    a=list(map(int,input().split()))\n",
    "    dp=[]\n",
    "    index=0\n",
    "    for i in range(n):\n",
    "        dp.append(a[index:index+m])\n",
    "        index+=m\n",
    "        \n",
    "        \n",
    "    for j in range(1,m):\n",
    "        for i in range(n):\n",
    "            if i ==0:\n",
    "                left_up=0\n",
    "            else:\n",
    "                left_up=dp[i-1][j-1]\n",
    "                \n",
    "            if i==n-1:\n",
    "                left_down=0\n",
    "            else:\n",
    "                left_down=dp[i+1][j-1]\n",
    "            \n",
    "            left=dp[i][j-1]\n",
    "            dp[i][j]=dp[i][j]+max(left_up,left_down,left)\n",
    "    result=0\n",
    "    for i in range(n):\n",
    "        result=max(result,dp[i][m-1])\n",
    "    print(result)"
   ]
  },
  {
   "cell_type": "code",
   "execution_count": null,
   "id": "83486020",
   "metadata": {},
   "outputs": [],
   "source": [
    "#5. 병사 배치하기\n",
    "n=int(input())\n",
    "a=list(map(int,input().split()))\n",
    "a.reverse()\n",
    "dp=[1]*n\n",
    "for i in range(1,n):\n",
    "    for j in range(0,i):\n",
    "        if a[j]<a[i]:\n",
    "            dp[i]=max(dp[i],dp[j]+1)\n",
    "print(n-max(dp))"
   ]
  }
 ],
 "metadata": {
  "kernelspec": {
   "display_name": "Python 3 (ipykernel)",
   "language": "python",
   "name": "python3"
  },
  "language_info": {
   "codemirror_mode": {
    "name": "ipython",
    "version": 3
   },
   "file_extension": ".py",
   "mimetype": "text/x-python",
   "name": "python",
   "nbconvert_exporter": "python",
   "pygments_lexer": "ipython3",
   "version": "3.9.12"
  }
 },
 "nbformat": 4,
 "nbformat_minor": 5
}

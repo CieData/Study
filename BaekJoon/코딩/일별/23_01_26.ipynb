{
 "cells": [
  {
   "cell_type": "code",
   "execution_count": 38,
   "metadata": {},
   "outputs": [
    {
     "name": "stdout",
     "output_type": "stream",
     "text": [
      "28\n"
     ]
    }
   ],
   "source": [
    "#괄호의 값 2504\n",
    "s=input()\n",
    "stack=[]\n",
    "value=1\n",
    "Sum=0\n",
    "right=True\n",
    "for i in range(len(s)):\n",
    "    if s[i]=='(':\n",
    "        value*=2\n",
    "        stack.append(s[i])\n",
    "    elif s[i]=='[':\n",
    "        value*=3\n",
    "        stack.append(s[i])\n",
    "    elif s[i]==')':\n",
    "        if not stack or stack[-1]=='[':\n",
    "            right=False\n",
    "            break\n",
    "        if s[i-1]=='(':\n",
    "            Sum+=value\n",
    "        stack.pop()\n",
    "        value//=2\n",
    "    elif s[i]==']':\n",
    "        if not stack or stack[-1]=='(':\n",
    "            right=False\n",
    "            break\n",
    "        if s[i-1]=='[':\n",
    "            Sum+=value\n",
    "        stack.pop()\n",
    "        value//=3\n",
    "if stack:\n",
    "    right=False\n",
    "if right==False:\n",
    "    print(0)\n",
    "else:\n",
    "    print(Sum)"
   ]
  }
 ],
 "metadata": {
  "kernelspec": {
   "display_name": "base",
   "language": "python",
   "name": "python3"
  },
  "language_info": {
   "codemirror_mode": {
    "name": "ipython",
    "version": 3
   },
   "file_extension": ".py",
   "mimetype": "text/x-python",
   "name": "python",
   "nbconvert_exporter": "python",
   "pygments_lexer": "ipython3",
   "version": "3.9.12"
  },
  "orig_nbformat": 4,
  "vscode": {
   "interpreter": {
    "hash": "7f368c48a586e931bd654761381ef86d5d2c1d8e94773dbceeccd45cd5f51e02"
   }
  }
 },
 "nbformat": 4,
 "nbformat_minor": 2
}

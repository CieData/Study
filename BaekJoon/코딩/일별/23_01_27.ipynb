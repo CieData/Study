{
 "cells": [
  {
   "cell_type": "code",
   "execution_count": 4,
   "metadata": {},
   "outputs": [
    {
     "name": "stdout",
     "output_type": "stream",
     "text": [
      "\n"
     ]
    }
   ],
   "source": [
    "#에디터 1406\n",
    "stack1=list(input())\n",
    "stack2=[]\n",
    "n=int(input())\n",
    "for i in range(n):\n",
    "    ss=input().split()\n",
    "    if ss[0]=='L' and stack1:\n",
    "        stack2.append(stack1.pop())\n",
    "    elif ss[0]=='D' and stack2:\n",
    "        stack1.append(stack2.pop())\n",
    "    elif ss[0]=='B' and stack1:\n",
    "        stack1.pop()\n",
    "    elif ss[0]=='P':\n",
    "        stack1.append(ss[1])\n",
    "stack=stack1+stack2[::-1]\n",
    "print(''.join(stack))"
   ]
  },
  {
   "cell_type": "code",
   "execution_count": 22,
   "metadata": {},
   "outputs": [
    {
     "name": "stdout",
     "output_type": "stream",
     "text": [
      "<   space   >ecaps ecaps ecaps<    spa   c e>\n"
     ]
    }
   ],
   "source": [
    "#단어 뒤집기2 17413\n",
    "stack=[]\n",
    "result=[]\n",
    "s=input()\n",
    "for i in s:\n",
    "    if i==' ':\n",
    "        if '<' in stack and '>' in stack:\n",
    "            result+=stack\n",
    "            stack=[]\n",
    "        elif '<' in stack and '>' not in stack:\n",
    "            stack.append(i)\n",
    "        else:\n",
    "            result+=stack[::-1]\n",
    "            result.append(i)\n",
    "            stack=[]\n",
    "    elif i=='>':\n",
    "        stack.append(i)\n",
    "        result+=stack\n",
    "        stack=[]\n",
    "    elif i=='<':\n",
    "        result+=stack[::-1]\n",
    "        stack=[]\n",
    "        stack.append(i)\n",
    "    else:\n",
    "        stack.append(i)\n",
    "if stack:\n",
    "    result+=stack[::-1]\n",
    "print(''.join(result))"
   ]
  },
  {
   "cell_type": "code",
   "execution_count": null,
   "metadata": {},
   "outputs": [],
   "source": []
  }
 ],
 "metadata": {
  "kernelspec": {
   "display_name": "base",
   "language": "python",
   "name": "python3"
  },
  "language_info": {
   "codemirror_mode": {
    "name": "ipython",
    "version": 3
   },
   "file_extension": ".py",
   "mimetype": "text/x-python",
   "name": "python",
   "nbconvert_exporter": "python",
   "pygments_lexer": "ipython3",
   "version": "3.9.12"
  },
  "orig_nbformat": 4,
  "vscode": {
   "interpreter": {
    "hash": "7f368c48a586e931bd654761381ef86d5d2c1d8e94773dbceeccd45cd5f51e02"
   }
  }
 },
 "nbformat": 4,
 "nbformat_minor": 2
}

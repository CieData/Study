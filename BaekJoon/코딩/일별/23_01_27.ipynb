{
 "cells": [
  {
   "cell_type": "code",
   "execution_count": 4,
   "metadata": {},
   "outputs": [
    {
     "name": "stdout",
     "output_type": "stream",
     "text": [
      "\n"
     ]
    }
   ],
   "source": [
    "#에디터 1406\n",
    "stack1=list(input())\n",
    "stack2=[]\n",
    "n=int(input())\n",
    "for i in range(n):\n",
    "    ss=input().split()\n",
    "    if ss[0]=='L' and stack1:\n",
    "        stack2.append(stack1.pop())\n",
    "    elif ss[0]=='D' and stack2:\n",
    "        stack1.append(stack2.pop())\n",
    "    elif ss[0]=='B' and stack1:\n",
    "        stack1.pop()\n",
    "    elif ss[0]=='P':\n",
    "        stack1.append(ss[1])\n",
    "stack=stack1+stack2[::-1]\n",
    "print(''.join(stack))"
   ]
  },
  {
   "cell_type": "code",
   "execution_count": 22,
   "metadata": {},
   "outputs": [
    {
     "name": "stdout",
     "output_type": "stream",
     "text": [
      "<   space   >ecaps ecaps ecaps<    spa   c e>\n"
     ]
    }
   ],
   "source": [
    "#단어 뒤집기2 17413\n",
    "stack=[]\n",
    "result=[]\n",
    "s=input()\n",
    "for i in s:\n",
    "    if i==' ':\n",
    "        if '<' in stack and '>' in stack:\n",
    "            result+=stack\n",
    "            stack=[]\n",
    "        elif '<' in stack and '>' not in stack:\n",
    "            stack.append(i)\n",
    "        else:\n",
    "            result+=stack[::-1]\n",
    "            result.append(i)\n",
    "            stack=[]\n",
    "    elif i=='>':\n",
    "        stack.append(i)\n",
    "        result+=stack\n",
    "        stack=[]\n",
    "    elif i=='<':\n",
    "        result+=stack[::-1]\n",
    "        stack=[]\n",
    "        stack.append(i)\n",
    "    else:\n",
    "        stack.append(i)\n",
    "if stack:\n",
    "    result+=stack[::-1]\n",
    "print(''.join(result))"
   ]
  },
  {
   "cell_type": "code",
   "execution_count": 3,
   "metadata": {},
   "outputs": [
    {
     "name": "stdout",
     "output_type": "stream",
     "text": [
      "44\n"
     ]
    }
   ],
   "source": [
    "#순서쌍의 곱의 합 13900\n",
    "n=int(input())\n",
    "tot=0\n",
    "num=list(map(int,input().split()))\n",
    "Sum=sum(num)\n",
    "for i in num:\n",
    "    tot+=(Sum-i)*i\n",
    "print(tot//2)"
   ]
  },
  {
   "cell_type": "code",
   "execution_count": 64,
   "metadata": {},
   "outputs": [
    {
     "name": "stdout",
     "output_type": "stream",
     "text": [
      "8\n"
     ]
    }
   ],
   "source": [
    "#01타일 1904\n",
    "n=int(input())\n",
    "dp=[1,1,2]\n",
    "for i in range(n-1):\n",
    "    dp.append((dp[-1]+dp[-2])%15746)\n",
    "print(dp[n])"
   ]
  },
  {
   "cell_type": "code",
   "execution_count": 63,
   "metadata": {},
   "outputs": [
    {
     "name": "stdout",
     "output_type": "stream",
     "text": [
      "2\n"
     ]
    }
   ],
   "source": [
    "#제곱수의 합 1699\n",
    "n=int(input())\n",
    "dp=[10000000000]*(n+1)\n",
    "dp[0]=0\n",
    "sq=[]\n",
    "for i in range(1,int(n**(1/2))+2):\n",
    "    sq.append(i**2)\n",
    "for i in range(1,n+1):\n",
    "    j=0\n",
    "    while True:\n",
    "        if sq[j]>i:\n",
    "            break\n",
    "        dp[i]=min(dp[i],dp[i-sq[j]]+1)\n",
    "        j+=1\n",
    "print(dp[n])"
   ]
  }
 ],
 "metadata": {
  "kernelspec": {
   "display_name": "base",
   "language": "python",
   "name": "python3"
  },
  "language_info": {
   "codemirror_mode": {
    "name": "ipython",
    "version": 3
   },
   "file_extension": ".py",
   "mimetype": "text/x-python",
   "name": "python",
   "nbconvert_exporter": "python",
   "pygments_lexer": "ipython3",
   "version": "3.9.12"
  },
  "orig_nbformat": 4,
  "vscode": {
   "interpreter": {
    "hash": "7f368c48a586e931bd654761381ef86d5d2c1d8e94773dbceeccd45cd5f51e02"
   }
  }
 },
 "nbformat": 4,
 "nbformat_minor": 2
}

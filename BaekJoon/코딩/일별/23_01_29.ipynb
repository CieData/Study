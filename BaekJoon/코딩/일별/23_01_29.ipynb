{
 "cells": [
  {
   "cell_type": "code",
   "execution_count": 1,
   "metadata": {},
   "outputs": [
    {
     "name": "stdout",
     "output_type": "stream",
     "text": [
      "1\n",
      "2\n"
     ]
    }
   ],
   "source": [
    "#단순한 문제 25494\n",
    "for i in range(int(input())):\n",
    "    a,b,c=map(int,input().split())\n",
    "    cnt=0\n",
    "    for x in range(1,a+1):\n",
    "        for y in range(1,b+1):\n",
    "            for z in range(1,c+1):\n",
    "                if x%y==y%z and x%y==z%x:\n",
    "                    cnt+=1\n",
    "    print(cnt)"
   ]
  },
  {
   "cell_type": "code",
   "execution_count": 3,
   "metadata": {},
   "outputs": [
    {
     "name": "stdout",
     "output_type": "stream",
     "text": [
      "18\n"
     ]
    }
   ],
   "source": [
    "#369 17614\n",
    "cnt=0\n",
    "n=int(input())\n",
    "for i in range(1,n+1):\n",
    "    i=str(i)\n",
    "    cnt+=i.count('3')\n",
    "    cnt+=i.count('6')\n",
    "    cnt+=i.count('9')\n",
    "print(cnt)"
   ]
  },
  {
   "cell_type": "code",
   "execution_count": 4,
   "metadata": {},
   "outputs": [
    {
     "name": "stdout",
     "output_type": "stream",
     "text": [
      "0\n",
      "1\n",
      "1\n",
      "2\n",
      "2\n"
     ]
    }
   ],
   "source": [
    "#지각 10419\n",
    "for i in range(int(input())):\n",
    "    n=int(input())\n",
    "    late=0\n",
    "    for j in range(1,n):\n",
    "        if j+j**2<=n:\n",
    "            late=j\n",
    "        else:\n",
    "            break\n",
    "    print(late)"
   ]
  },
  {
   "cell_type": "code",
   "execution_count": 18,
   "metadata": {},
   "outputs": [
    {
     "name": "stdout",
     "output_type": "stream",
     "text": [
      "1 1 1\n",
      "1 1 2\n",
      "1 1 3\n",
      "1 1 4\n",
      "1 2 1\n",
      "1 2 2\n",
      "1 2 3\n",
      "1 3 1\n",
      "1 3 2\n",
      "1 4 1\n",
      "1\n"
     ]
    }
   ],
   "source": [
    "#2017 연세대학교 프로그래밍 경시대회 14568\n",
    "n=int(input())\n",
    "cnt=0\n",
    "for a in range(2,n-3,2):\n",
    "    for b in range(1,n+1-a):\n",
    "        for c in range(1,n+1-a-b):\n",
    "            if a+b+c==n and c>=b+2:\n",
    "                cnt+=1\n",
    "print(cnt)"
   ]
  },
  {
   "cell_type": "code",
   "execution_count": 5,
   "metadata": {},
   "outputs": [
    {
     "name": "stdout",
     "output_type": "stream",
     "text": [
      "4\n"
     ]
    }
   ],
   "source": [
    "#2018 연세대학교 프로글매이 경진대회 15667\n",
    "n=int(input())\n",
    "for i in range(1,n):\n",
    "    if 1+i+i**2==n:\n",
    "        break\n",
    "print(i)"
   ]
  },
  {
   "cell_type": "code",
   "execution_count": 6,
   "metadata": {},
   "outputs": [],
   "source": [
    "#완전 제곱수 6131\n",
    "cnt=0\n",
    "n=int(input())\n",
    "for b in range(1,501):\n",
    "    a=b**2+n\n",
    "    if a**(1/2)==int(a**(1/2)):\n",
    "        cnt+=1\n",
    "print(cnt)"
   ]
  },
  {
   "cell_type": "code",
   "execution_count": 13,
   "metadata": {},
   "outputs": [
    {
     "name": "stdout",
     "output_type": "stream",
     "text": [
      "14\n"
     ]
    }
   ],
   "source": [
    "#신기한 수 17618\n",
    "cnt=0\n",
    "n=int(input())\n",
    "for i in range(1,n+1):\n",
    "    tot=sum(list(map(int,str(i))))\n",
    "    if i%tot==0:\n",
    "        cnt+=1\n",
    "print(cnt)"
   ]
  },
  {
   "cell_type": "code",
   "execution_count": 20,
   "metadata": {},
   "outputs": [
    {
     "name": "stdout",
     "output_type": "stream",
     "text": [
      "BAD 11\n"
     ]
    }
   ],
   "source": [
    "#좋은 암호 2061\n",
    "k,l=map(int,input().split())\n",
    "for i in range(2,l+1):\n",
    "    if k%i==0:\n",
    "        break\n",
    "if i<l:\n",
    "    print(f'BAD {i}')\n",
    "else:\n",
    "    print('GOOD')"
   ]
  },
  {
   "cell_type": "code",
   "execution_count": 22,
   "metadata": {},
   "outputs": [
    {
     "name": "stdout",
     "output_type": "stream",
     "text": [
      "6\n"
     ]
    }
   ],
   "source": [
    "#Fan Death 15633\n",
    "n=int(input())\n",
    "l=[]\n",
    "for i in range(1,int(n**.5)+1):\n",
    "    if n%i==0:\n",
    "        l.append(i)\n",
    "        l.append(n//i)\n",
    "print(sum(l)*5-24)"
   ]
  }
 ],
 "metadata": {
  "kernelspec": {
   "display_name": "base",
   "language": "python",
   "name": "python3"
  },
  "language_info": {
   "codemirror_mode": {
    "name": "ipython",
    "version": 3
   },
   "file_extension": ".py",
   "mimetype": "text/x-python",
   "name": "python",
   "nbconvert_exporter": "python",
   "pygments_lexer": "ipython3",
   "version": "3.9.12"
  },
  "orig_nbformat": 4,
  "vscode": {
   "interpreter": {
    "hash": "7f368c48a586e931bd654761381ef86d5d2c1d8e94773dbceeccd45cd5f51e02"
   }
  }
 },
 "nbformat": 4,
 "nbformat_minor": 2
}

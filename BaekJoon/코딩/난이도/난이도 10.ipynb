{
 "cells": [
  {
   "cell_type": "code",
   "execution_count": null,
   "id": "9a81bf0c",
   "metadata": {},
   "outputs": [],
   "source": [
    "#1. 포켓몬 GO\n",
    "a=[]\n",
    "b=[]\n",
    "for i in range(int(input())):\n",
    "    b.append(str(input()))\n",
    "    x,y=map(int,input().split())\n",
    "    count=0\n",
    "    while True:\n",
    "        if y<x:\n",
    "            break\n",
    "        y-=x\n",
    "        count+=1\n",
    "        y+=2\n",
    "    a.append(count)\n",
    "print(sum(a))\n",
    "print(b[a.index(max(a))])"
   ]
  },
  {
   "cell_type": "code",
   "execution_count": null,
   "id": "b86cc684",
   "metadata": {},
   "outputs": [],
   "source": [
    "#3. 성지의 생일파티\n",
    "a=[]\n",
    "b=[0]\n",
    "n=int(input())\n",
    "for i in range(n):\n",
    "    a.append(int(input()))\n",
    "for i in range(1,n+1):\n",
    "    b.append(b[-1]+a.count(i-1))\n",
    "    if b[-1]>=i:\n",
    "        break\n",
    "       \n",
    "print(i)"
   ]
  },
  {
   "cell_type": "code",
   "execution_count": null,
   "id": "16823655",
   "metadata": {},
   "outputs": [],
   "source": [
    "#4. 기상청 인턴 신현수\n",
    "n,k=map(int,input().split())\n",
    "a=list(map(int,input().split()))\n",
    "b=[]\n",
    "for i in range(n-k+1):\n",
    "    b.append(sum(a[i:i+k]))\n",
    "print(max(b))"
   ]
  },
  {
   "cell_type": "code",
   "execution_count": 9,
   "id": "0f0aa3d7",
   "metadata": {},
   "outputs": [
    {
     "name": "stdout",
     "output_type": "stream",
     "text": [
      "5 3\n",
      "5 4 3\n",
      "3 4 5\n",
      "3 5 4\n",
      "4 5 3\n",
      "3 4 4\n",
      "1 2 3 4\n"
     ]
    }
   ],
   "source": [
    "#5. 최후의 승자는 누구?\n",
    "n,m=map(int,input().split())\n",
    "a=[0]*n\n",
    "b=[]\n",
    "for i in range(n):\n",
    "    c=list(map(int,input().split()))\n",
    "    c.sort(reverse=True)\n",
    "    b.append(c)\n",
    "\n",
    "for i in range(m):\n",
    "    d=[]\n",
    "    for j in range(len(b)):\n",
    "        d.append(b[j][i])\n",
    "    for j in range(len(b)):\n",
    "        if d[j]==max(d):\n",
    "            a[j]+=1\n",
    "d=[]\n",
    "for i in range(len(a)):\n",
    "    if a[i]==max(a):\n",
    "        d.append(i+1)\n",
    "print(*d)"
   ]
  },
  {
   "cell_type": "code",
   "execution_count": 23,
   "id": "8361c4fb",
   "metadata": {},
   "outputs": [
    {
     "name": "stdout",
     "output_type": "stream",
     "text": [
      "3\n",
      "22 14\n",
      "13 5\n",
      "35 30\n",
      "13\n"
     ]
    }
   ],
   "source": [
    "#6. 물건 팔기\n",
    "n=int(input())\n",
    "total=[0]*n\n",
    "l=[]\n",
    "for i in range(n):\n",
    "    a=list(map(int,input().split()))\n",
    "    l.append(a)\n",
    "l.sort()\n",
    "for i in range(n):\n",
    "    for j in range(n):\n",
    "        if l[i][0]<=l[j][0] and l[i][0]>l[j][1]:\n",
    "            total[i]+=l[i][0]\n",
    "            total[i]-=l[j][1]\n",
    "if max(total)<=0:\n",
    "    print(0)\n",
    "else:\n",
    "    print(l[total.index(max(total))][0])"
   ]
  },
  {
   "cell_type": "code",
   "execution_count": 44,
   "id": "99e52bc5",
   "metadata": {},
   "outputs": [
    {
     "name": "stdout",
     "output_type": "stream",
     "text": [
      "20\n",
      "1 1 1 -1 -1 1 1 1 1 1 1 1 1 1 1 1 1 1 -1 -1\n",
      "7\n",
      "9\n",
      "9\n"
     ]
    }
   ],
   "source": [
    "#7 2811\n",
    "N=int(input())\n",
    "l=list(map(int,input().split()))\n",
    "import copy\n",
    "L=[0]*N\n",
    "idx=[]\n",
    "cntl=[]\n",
    "cnt=0\n",
    "for i in range(N):\n",
    "    if l[i]< 0 :\n",
    "        if cnt ==0:\n",
    "            idx+=[i]\n",
    "        cnt+=1\n",
    "    if cnt >=1:\n",
    "        if l[i] >=0:\n",
    "            cntl+=[cnt]\n",
    "            cnt=0\n",
    "if l[-1]<0:\n",
    "    cntl+=[cnt]\n",
    "for i in range(len(idx)):\n",
    "    if idx[i]-2*cntl[i]<0:\n",
    "        a=0\n",
    "    else: \n",
    "        a=idx[i]-2*cntl[i]\n",
    "    for ii in range(a,idx[i]):\n",
    "        L[ii]=1\n",
    "ans=sum(L)\n",
    "idxx=[]\n",
    "cntll=[]\n",
    "for i in range(len(idx)):\n",
    "    if cntl[i]==max(cntl):\n",
    "        idxx+=[idx[i]]\n",
    "        cntll+=[cntl[i]]\n",
    "for i in range(len(idxx)):\n",
    "    LL=copy.deepcopy(L)\n",
    "    if idxx[i]-3*cntll[i]<0:\n",
    "        a=0\n",
    "    else: \n",
    "        a=idxx[i]-3*cntll[i]\n",
    "    for ii in range(a,idxx[i]):\n",
    "        LL[ii]=1\n",
    "    print(sum(LL))\n",
    "    if ans <sum(LL):\n",
    "        ans=sum(LL)\n",
    "        \n",
    "print(ans)"
   ]
  },
  {
   "cell_type": "code",
   "execution_count": 19,
   "id": "533a876d",
   "metadata": {},
   "outputs": [
    {
     "data": {
      "text/plain": [
       "894"
      ]
     },
     "execution_count": 19,
     "metadata": {},
     "output_type": "execute_result"
    }
   ],
   "source": [
    "ans"
   ]
  },
  {
   "cell_type": "code",
   "execution_count": 49,
   "id": "1eaac4a8",
   "metadata": {},
   "outputs": [
    {
     "name": "stdout",
     "output_type": "stream",
     "text": [
      "942\n",
      "-83 -89 -18 -27 -12 55 -15 -10 -39 33 -76 46 -17 -79 -41 -31 -63 21 -85 -49 -6 39 -69 -24 30 -84 81 -27 -31 64 -50 -87 89 -15 49 -71 -92 1 -98 -30 -5 -40 -1 67 -64 18 -39 -17 65 -34 -97 66 -25 -40 -79 -14 38 -9 -11 -15 -73 -75 48 -54 -95 -2 -24 6 -2 -93 -60 64 -71 -91 -3 20 -78 -35 75 -34 62 -18 -43 82 -90 -70 -96 39 -63 -53 -74 -72 1 -97 57 -7 -17 17 -27 -7 -47 -16 -21 6 -34 -88 -61 -45 76 -30 -64 -20 -68 3 -49 -19 86 -30 -81 8 -99 -50 -35 -11 83 -88 -93 54 -94 -1 -48 -48 39 -81 86 -53 -21 -26 -98 -61 60 -99 -35 -52 -7 -43 12 -58 -65 -83 -12 45 -17 -20 -1 -95 35 -67 -62 10 -51 -68 -36 -57 -11 21 -63 -71 -89 -25 25 -6 -92 8 -10 -17 -97 17 -25 -44 -8 70 -46 -91 -56 66 -48 -14 85 -22 -91 -55 -54 11 -76 -60 -96 -6 2 -38 -38 -53 -6 65 -66 -66 -99 -26 92 -87 -50 -95 -48 -2 2 -10 -72 -73 89 -12 -42 44 -33 -5 6 -61 -36 -73 45 -74 -8 -56 -55 63 -37 -15 -64 -58 -97 85 -25 -61 5 -67 18 -66 -14 -98 31 -44 -62 52 -3 -31 -79 -87 -45 31 -91 -95 7 -96 -61 -1 26 -38 84 -37 -38 -41 48 -50 -16 -87 -62 -85 60 -97 -63 -89 1 -74 -7 -55 75 -47 -28 -67 -55 -51 73 -61 -94 -47 -9 -10 25 -59 -3 -70 57 -44 -81 -59 -89 -97 27 -21 -91 -38 -4 2 -71 43 -44 -16 -78 -10 -96 37 -3 -39 25 -61 -38 -57 66 -32 -39 -49 70 -33 -60 -87 40 -40 -61 -71 -27 48 -39 -23 80 -6 -48 -77 27 -95 -23 6 -79 -64 -67 -74 85 -20 58 -36 -94 -49 0 -73 -61 -57 88 -89 -27 -93 -67 31 -19 -57 -28 -33 -88 92 -48 -25 17 -68 -48 -14 -59 -21 17 -99 -37 -37 -66 57 -69 -61 -82 80 -4 -15 -9 13 -72 -86 -10 -36 -62 25 -50 -10 -20 -75 -45 29 -85 -87 35 -65 86 -46 -22 -87 -48 52 -22 -93 59 -19 -38 27 -14 -55 -99 -72 23 -48 -72 43 -91 -32 51 -73 -93 -2 -88 -83 59 -89 -99 -42 54 -9 -19 -54 13 -74 -66 64 -52 -97 -75 16 -75 -61 -52 -66 -25 40 -64 -82 -28 46 -56 -14 -96 -21 -19 44 -23 -74 -33 -97 -33 90 -53 -63 4 -45 -34 62 -59 -38 -76 -97 -32 56 -58 -20 78 -11 -72 -76 80 -2 5 -40 -90 46 -54 -31 -78 81 -55 -7 -50 -79 -26 52 -99 -47 -52 -44 -23 14 -52 -94 -37 -68 87 -91 -84 -46 -30 -30 12 -35 -35 -96 49 -8 -47 -44 -32 -99 8 -88 -71 -96 52 -71 -12 -95 -1 -25 82 -49 -84 63 -86 -81 -23 -87 77 -21 67 -97 -32 -52 -27 -72 87 -65 46 -82 26 -91 -23 -89 7 -84 85 -42 -25 -24 70 -80 -29 -99 -81 27 -74 -80 -71 54 -8 5 -99 20 -50 67 -64 -45 46 -65 -41 -34 -66 26 -82 -18 -88 -50 20 -84 -41 -2 -18 76 -83 38 -32 -12 -73 -73 -97 38 -89 -84 75 -18 -10 -84 -26 -13 9 -8 -38 -62 -13 7 -69 -94 -59 -37 26 -37 75 -86 -51 -46 -71 -70 40 -4 24 -34 -11 -87 -65 -66 72 -99 1 -63 71 -15 81 -63 -96 -96 -25 -95 78 -52 41 -72 -25 -8 -53 67 -89 -18 -41 -77 46 -17 -60 -77 -66 -40 66 -56 -12 -98 84 -58 -78 -54 -19 95 -99 -50 -36 -22 -9 26 -27 -26 18 -31 -75 -92 45 -50 -13 -94 -12 31 -15 -87 -74 3 -98 69 -71 -66 -84 3 -23 -83 21 -27 2 -30 9 -95 -96 -74 -78 73 -33 -18 -43 -19 -24 16 -49 -68 -14 -60 17 -28 -99 -67 -64 -56 45 -31 -68 -94 -79 13 -8 -13 -87 -89 -34 78 -36 -46 -86 74 -81 -45 -87 -20 72 -17 -56 -40 -44 41 -88 -71 39 -56 55 -37 -8 -54 -82 66 -70 -57 -83 24 -99 -19 -66 -24 18 -28 71 -85 -29 41 -63 61 -18 -17 -37 -2 40 -5 4 -79 -53 -40 88 -58 -50 -50 -90 -61 56 -46 -78 -49 -22 60 -30 -60 -94 39 -95 -83 -70 92 -21 -44 -17 -58 -86 51 -29 -37 -83 61 -51 -66 -72 -28 84 -52 -28 -28 -57 47 -81 -54 7 -25 -98 -59 -94 36 -13 -7 -65 29 -75 -26 -33 -83 62 -63 -11 -79 -58 5 -25 -58 -66 -97 56 -80 19 -46 -94 31 -29 -97 -92 -45 86 -25 3 -17 72 -98 -96 -67 -20 5 -54 -52 -12 -23 38 -23 -79 -89 -67 -43 59 -42 -50 -2 -88 -51 30 -40 -7 -12 -92 16 -59 55 -49 -90 57 -84 -79 -19 -76 -96 37 -47 -38 -94 40 -1 -26 -79 -30 -24\n",
      "900\n"
     ]
    }
   ],
   "source": [
    "#7. 상범이의 우울\n",
    "\n",
    "n=int(input())\n",
    "l=[0]*n\n",
    "ll=[0]*n\n",
    "lll=[]\n",
    "a=list(map(int,input().split()))\n",
    "a.append(0)\n",
    "b=0\n",
    "for i in range(n+1):\n",
    "    if a[i]<0:\n",
    "        b+=1\n",
    "    if b>0 and a[i]>=0:\n",
    "        l[i-b]+=b\n",
    "        b=0\n",
    "for i in range(n):\n",
    "    if l[i]>0:\n",
    "        for j in range(1,l[i]*2+1):\n",
    "            if i-j<0:\n",
    "                break\n",
    "            else:\n",
    "                ll[i-j]+=1\n",
    "\n",
    "ap=max(l)\n",
    "for i in range(l.count(ap)):\n",
    "    cc=0\n",
    "    count=0\n",
    "    for j in range(n):\n",
    "        if l[j]==ap:\n",
    "            cc+=1\n",
    "        if cc==i:\n",
    "            break\n",
    "    for j in range(n):\n",
    "        if l[j]==ap and cc==i:\n",
    "            for k in range(1,l[j]*3+1):\n",
    "                if j-k<0:\n",
    "                    break\n",
    "                elif ll[j-k]==0:\n",
    "                    count+=1\n",
    "    for j in range(n):\n",
    "        if ll[j]>0:\n",
    "            count+=1\n",
    "    lll.append(count)\n",
    "    \n",
    "print(max(lll))"
   ]
  },
  {
   "cell_type": "code",
   "execution_count": 56,
   "id": "634675fa",
   "metadata": {},
   "outputs": [
    {
     "name": "stdout",
     "output_type": "stream",
     "text": [
      "4\n",
      "-1 -1 0 -1\n",
      "2\n"
     ]
    }
   ],
   "source": [
    "#7. 상범이의 우울\n",
    "\n",
    "n=int(input())\n",
    "l=[0]*n\n",
    "ll=[0]*n\n",
    "lll=[]\n",
    "a=list(map(int,input().split()))\n",
    "a.append(0)\n",
    "b=0\n",
    "for i in range(n+1):\n",
    "    if a[i]<0:\n",
    "        b+=1\n",
    "    if b>0 and a[i]>=0:\n",
    "        l[i-b]+=b\n",
    "        b=0\n",
    "for i in range(n):\n",
    "    if l[i]>0:\n",
    "        for j in range(1,l[i]*2+1):\n",
    "            if i-j<0:\n",
    "                break\n",
    "            else:\n",
    "                ll[i-j]+=1\n",
    "\n",
    "ap=max(l)\n",
    "for i in range(l.count(ap)):\n",
    "    cc=0\n",
    "    count=0\n",
    "    for j in range(n):\n",
    "        if l[j]==ap:\n",
    "            cc+=1\n",
    "        if cc==i:\n",
    "            break\n",
    "    for j in range(n):\n",
    "        if l[j]==ap and cc==i:\n",
    "            for k in range(1,l[j]*3+1):\n",
    "                if j-k<0:\n",
    "                    break\n",
    "                elif ll[j-k]==0:\n",
    "                    count+=1\n",
    "    for j in range(n):\n",
    "        if ll[j]>0:\n",
    "            count+=1\n",
    "    lll.append(count)\n",
    "    \n",
    "print(max(lll))"
   ]
  },
  {
   "cell_type": "code",
   "execution_count": 55,
   "id": "bf90bcb5",
   "metadata": {},
   "outputs": [
    {
     "data": {
      "text/plain": [
       "[2, 3]"
      ]
     },
     "execution_count": 55,
     "metadata": {},
     "output_type": "execute_result"
    }
   ],
   "source": [
    "lll"
   ]
  },
  {
   "cell_type": "code",
   "execution_count": 37,
   "id": "b46a45db",
   "metadata": {},
   "outputs": [],
   "source": [
    "import sys\n",
    "input=sys.stdin.readline\n",
    "a=int(input())\n",
    "b=[]\n",
    "c=[]\n",
    "for i in range(a):\n",
    "    b.append(list(map(int,input().split())))\n",
    "b.sort(key = lambda x:(x[1], x[0]))\n",
    "\n",
    "c.append(b[0])\n",
    "for i in range(1,a):\n",
    "    if b[i][0]>=c[-1][1]:\n",
    "        c.append(b[i])\n",
    "print(len(c))"
   ]
  },
  {
   "cell_type": "code",
   "execution_count": 39,
   "id": "74e7a137",
   "metadata": {},
   "outputs": [
    {
     "data": {
      "text/plain": [
       "591"
      ]
     },
     "execution_count": 39,
     "metadata": {},
     "output_type": "execute_result"
    }
   ],
   "source": [
    "len(a)"
   ]
  },
  {
   "cell_type": "code",
   "execution_count": 54,
   "id": "247f2892",
   "metadata": {},
   "outputs": [
    {
     "name": "stdout",
     "output_type": "stream",
     "text": [
      "2\n",
      "7\n",
      "20\n",
      "100\n",
      "89900\n"
     ]
    }
   ],
   "source": [
    "#8. 이런 반전이\n",
    "t=int(input())\n",
    "def F(n):\n",
    "    a=list(str(n))\n",
    "    b=''\n",
    "    for i in range(len(a)):\n",
    "        b+=str(9-int(a[i]))\n",
    "    return int(b)\n",
    "for i in range(t):\n",
    "    a=str(input())\n",
    "    if int(a[0])<=4:\n",
    "        print(int(a)*F(int(a)))\n",
    "    else:\n",
    "        print(int('4'+'9'*(len(a)-1))*F(int('4'+'9'*(len(a)-1))))"
   ]
  },
  {
   "cell_type": "code",
   "execution_count": null,
   "id": "943daf05",
   "metadata": {},
   "outputs": [],
   "source": [
    "#9. 회의실 배정\n",
    "import sys\n",
    "input=sys.stdin.readline\n",
    "a=int(input())\n",
    "b=[]\n",
    "for i in range(a):\n",
    "    b.append(list(map(int,input().split())))\n",
    "b.sort(key = lambda x:(x[1], x[0]))\n",
    "c=[b[0]]\n",
    "for i in range(1,a):\n",
    "    if b[i][0]>=c[-1][1]:\n",
    "        c.append(b[i])\n",
    "print(len(c))"
   ]
  },
  {
   "cell_type": "code",
   "execution_count": 31,
   "id": "d60f1ba8",
   "metadata": {},
   "outputs": [
    {
     "name": "stdout",
     "output_type": "stream",
     "text": [
      "3 4 0\n",
      "64 64 64 64\n",
      "64 64 64 64\n",
      "64 64 64 63\n",
      "22 63\n"
     ]
    }
   ],
   "source": [
    "#10. 마인크래프트\n",
    "n,m,b=map(int,input().split())\n",
    "a=[]\n",
    "time=10000000000\n",
    "time_n=0\n",
    "maxnum=0\n",
    "for i in range(n):\n",
    "    c=list(map(int,input().split()))\n",
    "    maxnum=max(maxnum,max(c))\n",
    "    a.append(c)\n",
    "for k in range(maxnum+1):\n",
    "    k_t=0\n",
    "    inven=b\n",
    "    for i in range(n):\n",
    "        for j in range(m):\n",
    "            x=a[i][j]-k\n",
    "            y=abs(x)\n",
    "            if x>=0:\n",
    "                k_t+=2*y\n",
    "                inven+=y\n",
    "            else:\n",
    "                k_t+=y\n",
    "                inven-=y\n",
    "    if inven>=0 and k_t<=time:\n",
    "        time=k_t\n",
    "        time_n=k\n",
    "print(time,time_n)    "
   ]
  },
  {
   "cell_type": "code",
   "execution_count": 50,
   "id": "96d52ef7",
   "metadata": {},
   "outputs": [
    {
     "name": "stdout",
     "output_type": "stream",
     "text": [
      "3 2 18\n",
      "011101001101110001\n",
      "8\n",
      "16\n"
     ]
    }
   ],
   "source": [
    "#11. 소변기\n",
    "k,l,n=map(int,input().split())\n",
    "a=list(map(int,input()))\n",
    "b=[]\n",
    "onoff='off'\n",
    "cnt_zero=0\n",
    "cnt_one=0\n",
    "if a[0]==0:\n",
    "    cnt_zero=1\n",
    "else:\n",
    "    cnt_one=1\n",
    "    if k==1:\n",
    "        onoff='on'\n",
    "        \n",
    "for i in range(1,n):\n",
    "    if a[i]==0:\n",
    "        cnt_one=0\n",
    "        if cnt_zero==0:\n",
    "            cnt_zero+=1\n",
    "        elif a[i-1]==a[i]:\n",
    "            cnt_zero+=1\n",
    "    elif a[i]==1:\n",
    "        cnt_zero=0\n",
    "        if cnt_one==0:\n",
    "            cnt_one+=1\n",
    "        elif a[i-1]==a[i]:\n",
    "            cnt_one+=1\n",
    "    \n",
    "    if cnt_one==k and onoff=='off':\n",
    "        onoff='on'\n",
    "        cnt_one=0\n",
    "    elif cnt_zero==l and onoff=='on':\n",
    "        onoff='off'\n",
    "        cnt_zero=0\n",
    "        b.append(i+1)\n",
    "if onoff=='on':\n",
    "    if a[-1]==1:\n",
    "        b.append(n+l)\n",
    "    else:\n",
    "        b.append(n+l-cnt_zero)\n",
    "if len(b)==0:\n",
    "    print('NIKAD')\n",
    "else:\n",
    "    for i in range(len(b)):\n",
    "        print(b[i],end='\\n')"
   ]
  },
  {
   "cell_type": "code",
   "execution_count": 57,
   "id": "66047101",
   "metadata": {},
   "outputs": [
    {
     "name": "stdout",
     "output_type": "stream",
     "text": [
      "3\n",
      "1\n",
      "After\n"
     ]
    }
   ],
   "source": [
    "#12. 특별한 날\n",
    "m=int(input())\n",
    "d=int(input())\n",
    "if m>2 or (m==2 and d>18):\n",
    "    print('After')\n",
    "elif m==2 and d==18:\n",
    "    print('Special')\n",
    "else:\n",
    "    print('Before')"
   ]
  },
  {
   "cell_type": "code",
   "execution_count": 69,
   "id": "567f543e",
   "metadata": {},
   "outputs": [
    {
     "name": "stdout",
     "output_type": "stream",
     "text": [
      "1\n",
      "가\n"
     ]
    }
   ],
   "source": [
    "#13. 한글\n",
    "a=int(input())\n",
    "print(chr(44031+a))"
   ]
  },
  {
   "cell_type": "code",
   "execution_count": 76,
   "id": "9048995d",
   "metadata": {},
   "outputs": [
    {
     "name": "stdout",
     "output_type": "stream",
     "text": [
      "9\n",
      "1 2\n",
      "3 2\n",
      "1 2\n",
      "2 1\n",
      "2 1\n",
      "3 2\n",
      "1 3\n",
      "3 1\n",
      "1 2\n",
      "1\n"
     ]
    }
   ],
   "source": [
    "#14. 공\n",
    "a=1\n",
    "for i in range(int(input())):\n",
    "    b,c=map(int,input().split())\n",
    "    if b==a:\n",
    "        a=c\n",
    "    elif c==a:\n",
    "        a=b\n",
    "print(a)"
   ]
  },
  {
   "cell_type": "code",
   "execution_count": 80,
   "id": "2d4ace99",
   "metadata": {},
   "outputs": [
    {
     "name": "stdout",
     "output_type": "stream",
     "text": [
      "3\n",
      "17 168 15 23 275 22 241\n",
      "12 95 21 37 224 35 221\n",
      "19 90 11 29 264 20 131\n",
      "3772\n",
      "3419\n",
      "2901\n"
     ]
    }
   ],
   "source": [
    "#15. 7종 경기\n",
    "a=[9.23076,1.84523,56.0211,4.99087,0.188807,15.9803,0.11193]\n",
    "b=[26.7,75,1.5,42.5,210,3.8,254]\n",
    "c=[1.835,1.348,1.05,1.81,1.41,1.04,1.88]\n",
    "tp=[0,1,1,0,1,1,0]\n",
    "score=0\n",
    "to=[]\n",
    "n=int(input())\n",
    "for i in range(n):\n",
    "    p=list(map(int,input().split()))\n",
    "    for j in range(7):\n",
    "        score+=int(a[j]*(abs(b[j]-p[j])**c[j]))\n",
    "    to.append(score)\n",
    "    score=0\n",
    "for i in range(n):\n",
    "    print(to[i],end='\\n')"
   ]
  },
  {
   "cell_type": "code",
   "execution_count": 83,
   "id": "338bf6f1",
   "metadata": {},
   "outputs": [
    {
     "name": "stdout",
     "output_type": "stream",
     "text": [
      "2\n",
      "6 3\n",
      "0 3\n",
      "5 3\n",
      "1 2\n"
     ]
    }
   ],
   "source": [
    "#16. 남욱이의 닭장\n",
    "for i in range(int(input())):\n",
    "    a,b=map(int,input().split())\n",
    "    for j in range(b+1):\n",
    "        if j*2+(b-j)==a:\n",
    "            break\n",
    "    print(b-j,j)"
   ]
  },
  {
   "cell_type": "code",
   "execution_count": 9,
   "id": "608dbd40",
   "metadata": {},
   "outputs": [],
   "source": [
    "#17. 하얀 칸\n",
    "for i in range(8):\n",
    "    a=list(input())\n",
    "    if i%2"
   ]
  },
  {
   "cell_type": "code",
   "execution_count": null,
   "id": "683f8156",
   "metadata": {},
   "outputs": [],
   "source": []
  }
 ],
 "metadata": {
  "kernelspec": {
   "display_name": "Python 3 (ipykernel)",
   "language": "python",
   "name": "python3"
  },
  "language_info": {
   "codemirror_mode": {
    "name": "ipython",
    "version": 3
   },
   "file_extension": ".py",
   "mimetype": "text/x-python",
   "name": "python",
   "nbconvert_exporter": "python",
   "pygments_lexer": "ipython3",
   "version": "3.9.12"
  }
 },
 "nbformat": 4,
 "nbformat_minor": 5
}

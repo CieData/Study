{
 "cells": [
  {
   "cell_type": "markdown",
   "id": "b47a6978",
   "metadata": {},
   "source": [
    "1. 펫 브2(1362)"
   ]
  },
  {
   "cell_type": "code",
   "execution_count": 12,
   "id": "a59e1065",
   "metadata": {},
   "outputs": [
    {
     "name": "stdout",
     "output_type": "stream",
     "text": [
      "100 100\n",
      "F 10\n",
      "F 10\n",
      "E 20\n",
      "# 0\n",
      "1 :-)\n",
      "0 0\n"
     ]
    }
   ],
   "source": [
    "d=0\n",
    "while True:\n",
    "    d+=1\n",
    "    a,b=map(int,input().split())\n",
    "    if a==0 and b==0:\n",
    "        break\n",
    "    else:\n",
    "        while True:\n",
    "            c=list(map(str,input().split()))\n",
    "            if b<=0:\n",
    "                if c[0]=='#':\n",
    "                    break\n",
    "                pass\n",
    "            else:\n",
    "                if c[0]=='F':\n",
    "                    b+=int(c[1])\n",
    "                elif c[0]=='E':\n",
    "                    b-=int(c[1])\n",
    "                elif c[0]=='#':\n",
    "                    break\n",
    "        if a*0.5<b<a*2:\n",
    "            print('{} :-)'.format(d))\n",
    "        elif b<=0:\n",
    "            print('{} RIP'.format(d))\n",
    "        else:\n",
    "            print('{} :-('.format(d))"
   ]
  },
  {
   "cell_type": "markdown",
   "id": "f8b71a33",
   "metadata": {},
   "source": [
    "2. 일곱 난쟁이 브1(2309)"
   ]
  },
  {
   "cell_type": "code",
   "execution_count": 51,
   "id": "ccd1bf8e",
   "metadata": {},
   "outputs": [
    {
     "name": "stdout",
     "output_type": "stream",
     "text": [
      "20\n",
      "7\n",
      "23\n",
      "19\n",
      "10\n",
      "15\n",
      "25\n",
      "8\n",
      "13\n",
      "7\n",
      "8\n",
      "10\n",
      "13\n",
      "19\n",
      "20\n",
      "23\n"
     ]
    }
   ],
   "source": [
    "b=[]\n",
    "for i in range(9):\n",
    "    a=int(input())\n",
    "    b.append(a)\n",
    "b.sort()\n",
    "\n",
    "c=[]\n",
    "\n",
    "for x in range(9):\n",
    "        if len(c)>0:\n",
    "            break\n",
    "        else:\n",
    "            for y in range(x,9):\n",
    "                if b[x]+b[y]==sum(b)-100:\n",
    "                    i=b[x]\n",
    "                    j=b[y]\n",
    "                    c.append(i)\n",
    "                    c.append(j)\n",
    "\n",
    "b.remove(c[0])\n",
    "b.remove(c[1])\n",
    "for i in range(7):\n",
    "    print(b[i],end='\\n')"
   ]
  },
  {
   "cell_type": "markdown",
   "id": "9b06da6d",
   "metadata": {},
   "source": [
    "3. 거리의 합 브2(2399)"
   ]
  },
  {
   "cell_type": "code",
   "execution_count": 53,
   "id": "e8ea9f40",
   "metadata": {
    "scrolled": true
   },
   "outputs": [
    {
     "name": "stdout",
     "output_type": "stream",
     "text": [
      "5\n",
      "1 2 3 4 5\n",
      "40\n"
     ]
    }
   ],
   "source": [
    "a=int(input())\n",
    "b=list(map(int,input().split()))\n",
    "c=0\n",
    "for i in range(len(b)):\n",
    "    for j in range(i,len(b)):\n",
    "        c+=abs(b[i]-b[j])\n",
    "print(c*2)"
   ]
  },
  {
   "cell_type": "markdown",
   "id": "1488f6cf",
   "metadata": {},
   "source": [
    "4. 초6 수학 브2(2702)"
   ]
  },
  {
   "cell_type": "code",
   "execution_count": 58,
   "id": "9d561e66",
   "metadata": {},
   "outputs": [
    {
     "name": "stdout",
     "output_type": "stream",
     "text": [
      "1\n",
      "5 10\n",
      "10 5\n"
     ]
    }
   ],
   "source": [
    "def gcd(a,b):\n",
    "    while b>0:\n",
    "        a,b = b,a%b\n",
    "    return a\n",
    "\n",
    "def lcm(a,b):\n",
    "    return a*b//gcd(a,b)\n",
    "\n",
    "n=int(input())\n",
    "for i in range(n):\n",
    "    a,b = map(int,input().split())\n",
    "    print(lcm(a,b),gcd(a,b))"
   ]
  },
  {
   "cell_type": "markdown",
   "id": "8c610f82",
   "metadata": {},
   "source": [
    "5. 오타맨 고창영 브2(2711)"
   ]
  },
  {
   "cell_type": "code",
   "execution_count": 70,
   "id": "940ea71d",
   "metadata": {},
   "outputs": [
    {
     "name": "stdout",
     "output_type": "stream",
     "text": [
      "4\n",
      "4 MISSPELL\n",
      "MISPELL\n",
      "1 PROGRAMMING\n",
      "ROGRAMMING\n",
      "7 CONTEST\n",
      "CONTES\n",
      "3 BALLOON\n",
      "BALOON\n"
     ]
    }
   ],
   "source": [
    "a=int(input())\n",
    "for i in range(a):\n",
    "    b=list(map(str,input().split()))\n",
    "    print(b[1][:int(b[0])-1]+b[1][int(b[0]):])"
   ]
  },
  {
   "cell_type": "markdown",
   "id": "2065572f",
   "metadata": {},
   "source": [
    "6. 블랙잭 브2(2798)"
   ]
  },
  {
   "cell_type": "code",
   "execution_count": 54,
   "id": "2e30e945",
   "metadata": {},
   "outputs": [
    {
     "name": "stdout",
     "output_type": "stream",
     "text": [
      "10 500\n",
      "93 181 245 214 315 36 185 138 216 295\n",
      "497\n"
     ]
    }
   ],
   "source": [
    "a,b = map(int, input().split())\n",
    "c = list(map(int, input().split()))\n",
    "d=[]\n",
    "for i in range(len(c)):\n",
    "    for j in range(i+1,len(c)):\n",
    "        for x in range(j+1,len(c)):\n",
    "            if c[i]+c[j]+c[x]<=b:\n",
    "                d.append(c[i]+c[j]+c[x])\n",
    "            else:\n",
    "                pass\n",
    "print(max(d))"
   ]
  },
  {
   "cell_type": "markdown",
   "id": "e485abe3",
   "metadata": {},
   "source": [
    "7. 비밀 이메일 브1(2999)"
   ]
  },
  {
   "cell_type": "code",
   "execution_count": 95,
   "id": "5056258d",
   "metadata": {},
   "outputs": [
    {
     "name": "stdout",
     "output_type": "stream",
     "text": [
      "boudonuimilcbsai\n",
      "bombonisuuladici\n"
     ]
    }
   ],
   "source": [
    "import math\n",
    "a=str(input())\n",
    "n=len(a)\n",
    "r_list=[]\n",
    "for i in range(1,int(math.sqrt(n))+1):\n",
    "    if n%i==0:\n",
    "        r_list.append(i)\n",
    "r=max(r_list)\n",
    "\n",
    "count=0\n",
    "masage=''\n",
    "for j in range(r):\n",
    "    masage+=a[0+count::r]\n",
    "    count+=1\n",
    "print(masage)"
   ]
  },
  {
   "cell_type": "markdown",
   "id": "90685d4d",
   "metadata": {},
   "source": [
    "8. 페이지 세기 실5(4821)"
   ]
  },
  {
   "cell_type": "code",
   "execution_count": 170,
   "id": "3af40825",
   "metadata": {},
   "outputs": [
    {
     "name": "stdout",
     "output_type": "stream",
     "text": [
      "19\n",
      "10-15,25-28,8-4,13-20,9,8-8\n",
      "12\n",
      "0\n"
     ]
    }
   ],
   "source": [
    "while True:\n",
    "    a=int(input())\n",
    "    if a==0:\n",
    "        break\n",
    "    else:\n",
    "        c=[0]*(a+1)\n",
    "        b=list(map(str,input().split(',')))\n",
    "        for i in range(len(b)):\n",
    "            if len(b[i])==1:\n",
    "                c[int(b[i])]+=1\n",
    "            else:\n",
    "                if int(b[i][b[i].index('-')+1:])>a:\n",
    "                    b[i]=b[i].replace(b[i][b[i].index('-')+1:],str(a))\n",
    "                    if int(b[i][:b[i].index('-')])>int(b[i][b[i].index('-')+1:]):\n",
    "                        pass\n",
    "                    else:\n",
    "                        for k in range(int(b[i][:b[i].index('-')]),int(b[i][b[i].index('-')+1:])+1):\n",
    "                            c[k]+=1\n",
    "                else:\n",
    "                    if int(b[i][:b[i].index('-')])>int(b[i][b[i].index('-')+1:]):\n",
    "                        pass\n",
    "                    else:\n",
    "                        for k in range(int(b[i][:b[i].index('-')]),int(b[i][b[i].index('-')+1:])+1):\n",
    "                            c[k]+=1\n",
    "    print(a-(c.count(0)-1))"
   ]
  },
  {
   "cell_type": "code",
   "execution_count": 171,
   "id": "9f520ccf",
   "metadata": {},
   "outputs": [
    {
     "data": {
      "text/plain": [
       "['10-15', '25-19', '8-4', '13-19', '9', '8-8']"
      ]
     },
     "execution_count": 171,
     "metadata": {},
     "output_type": "execute_result"
    }
   ],
   "source": [
    "b"
   ]
  },
  {
   "cell_type": "code",
   "execution_count": 163,
   "id": "adc7c53e",
   "metadata": {},
   "outputs": [
    {
     "data": {
      "text/plain": [
       "25"
      ]
     },
     "execution_count": 163,
     "metadata": {},
     "output_type": "execute_result"
    }
   ],
   "source": [
    "k"
   ]
  },
  {
   "cell_type": "code",
   "execution_count": 159,
   "id": "c52f62d5",
   "metadata": {},
   "outputs": [
    {
     "data": {
      "text/plain": [
       "'0'"
      ]
     },
     "execution_count": 159,
     "metadata": {},
     "output_type": "execute_result"
    }
   ],
   "source": [
    "str(a)"
   ]
  },
  {
   "cell_type": "code",
   "execution_count": null,
   "id": "6f9daacd",
   "metadata": {},
   "outputs": [],
   "source": []
  },
  {
   "cell_type": "code",
   "execution_count": null,
   "id": "0d292cc1",
   "metadata": {},
   "outputs": [],
   "source": []
  },
  {
   "cell_type": "markdown",
   "id": "fa1f37d3",
   "metadata": {},
   "source": [
    "9. 희주의 수학시험 브1(8974)"
   ]
  },
  {
   "cell_type": "code",
   "execution_count": 205,
   "id": "8236445e",
   "metadata": {},
   "outputs": [
    {
     "name": "stdout",
     "output_type": "stream",
     "text": [
      "50 50\n",
      "10\n"
     ]
    }
   ],
   "source": [
    "a=[0]\n",
    "for i in range(46):\n",
    "    a+=[i]*i\n",
    "b,c=map(int, input().split())\n",
    "print(sum(a[b:c+1]))"
   ]
  },
  {
   "cell_type": "markdown",
   "id": "e4035f9f",
   "metadata": {},
   "source": [
    "10. 택시 거리 브1(17247)"
   ]
  },
  {
   "cell_type": "code",
   "execution_count": 223,
   "id": "8a74be90",
   "metadata": {},
   "outputs": [
    {
     "name": "stdout",
     "output_type": "stream",
     "text": [
      "3 4\n",
      "0 0 0 1\n",
      "0 0 0 0\n",
      "0 1 0 0\n",
      "4\n"
     ]
    }
   ],
   "source": [
    "a,b=map(int, input().split())\n",
    "d=[]\n",
    "x=[]\n",
    "y=[]\n",
    "for i in range(a):\n",
    "    c=list(map(int,input().split()))\n",
    "    d.append(c)\n",
    "for j in range(a):\n",
    "    if 1 in d[j]:\n",
    "        x.append(j)\n",
    "        y.append(d[j].index(1))\n",
    "    else:\n",
    "        pass\n",
    "                 \n",
    "print(abs(x[0]-x[1])+abs(y[0]-y[1]))"
   ]
  },
  {
   "cell_type": "markdown",
   "id": "1368f3ee",
   "metadata": {},
   "source": [
    "11. 요세푸스 문제 실4(1158)"
   ]
  },
  {
   "cell_type": "code",
   "execution_count": null,
   "id": "5a8a42f1",
   "metadata": {},
   "outputs": [],
   "source": [
    "n,k = map(int,input().split())\n",
    "a = list(range(1,n+1)) \n",
    "b= []\n",
    "c = 0\n",
    "for i in range(n):\n",
    "    c+=(k-1)\n",
    "    if c >= len(a):\n",
    "        c %= len(a)\n",
    "    b.append(str(a[c]))\n",
    "    a.remove(a[c])\n",
    "\n",
    "print(\"<\",', '.join(b),\">\",sep='')"
   ]
  },
  {
   "cell_type": "markdown",
   "id": "a941ec3d",
   "metadata": {},
   "source": [
    "12. 쉽게 푸는 문제 브1(1292)"
   ]
  },
  {
   "cell_type": "code",
   "execution_count": null,
   "id": "af12befa",
   "metadata": {},
   "outputs": [],
   "source": [
    "a=[0]\n",
    "for i in range(46):\n",
    "    a+=[i]*i\n",
    "b,c=map(int, input().split())\n",
    "print(sum(a[b:c+1]))"
   ]
  },
  {
   "cell_type": "markdown",
   "id": "e8f39883",
   "metadata": {},
   "source": [
    "13. 소수 실5(1312)"
   ]
  },
  {
   "cell_type": "code",
   "execution_count": 62,
   "id": "67f52136",
   "metadata": {},
   "outputs": [
    {
     "name": "stdout",
     "output_type": "stream",
     "text": [
      "25 7 5\n",
      "2\n"
     ]
    }
   ],
   "source": [
    "a,b,c=map(int,input().split())\n",
    "d=str(a/b)\n",
    "\n",
    "num_list=[]\n",
    "for i in range(2,len(d)):\n",
    "    if d[i] not in num_list:\n",
    "        num_list.append(d[i])\n",
    "    else:\n",
    "        break\n",
    "d1=str((a/b)*10**5-int((a/b)*10**5))\n",
    "for j in range(2,len(d1)):\n",
    "    if d1[i] not in num_list:\n",
    "        num_list.append(d1[i])\n",
    "    else:\n",
    "        break\n",
    "print(num_list[c%len(num_list)-1])"
   ]
  },
  {
   "cell_type": "markdown",
   "id": "81417c52",
   "metadata": {},
   "source": [
    "14. 3의 배수 실5(1769)"
   ]
  },
  {
   "cell_type": "code",
   "execution_count": 286,
   "id": "a4c8aa1d",
   "metadata": {},
   "outputs": [
    {
     "name": "stdout",
     "output_type": "stream",
     "text": [
      "1234567\n",
      "3\n",
      "NO\n"
     ]
    }
   ],
   "source": [
    "a=str(input())\n",
    "count=0\n",
    "while True:\n",
    "    b=0\n",
    "    if len(a)==1:\n",
    "        break\n",
    "    else:\n",
    "        for i in range(len(a)):\n",
    "            b+=int(a[i])\n",
    "    a=str(b)\n",
    "    count+=1\n",
    "print(count)\n",
    "if int(a)%3==0:\n",
    "    print('YES')\n",
    "else:\n",
    "    print('NO')"
   ]
  },
  {
   "cell_type": "markdown",
   "id": "bb76a4c5",
   "metadata": {},
   "source": [
    "15. 도비의 난독증 테스트 브1(2204)"
   ]
  },
  {
   "cell_type": "code",
   "execution_count": 306,
   "id": "1e753220",
   "metadata": {},
   "outputs": [
    {
     "name": "stdout",
     "output_type": "stream",
     "text": [
      "3\n",
      "Cat\n",
      "fat\n",
      "bAt\n",
      "bAt\n",
      "4\n",
      "call\n",
      "ball\n",
      "All\n",
      "Hall\n",
      "All\n",
      "0\n"
     ]
    }
   ],
   "source": [
    "while True:\n",
    "    a=int(input())\n",
    "    if a==0:\n",
    "        break\n",
    "    else:\n",
    "        b=[]\n",
    "        d=[]\n",
    "        for i in range(a):\n",
    "            c=str(input())\n",
    "            b.append(c.lower())\n",
    "            d.append(c)\n",
    "        b.sort()\n",
    "        for j in range(a):\n",
    "            if b[0]==d[j].lower():\n",
    "                print(d[j])\n",
    "                break "
   ]
  },
  {
   "cell_type": "markdown",
   "id": "937b60e2",
   "metadata": {},
   "source": [
    "16. 학번 실5(3711)"
   ]
  },
  {
   "cell_type": "code",
   "execution_count": 357,
   "id": "cfca1e96",
   "metadata": {},
   "outputs": [
    {
     "name": "stdout",
     "output_type": "stream",
     "text": [
      "0\n"
     ]
    }
   ],
   "source": [
    "a=int(input())\n",
    "for i in range(a):\n",
    "    b=int(input())\n",
    "    c=[]\n",
    "    \n",
    "    for j in range(b):\n",
    "        d=int(input())\n",
    "        c.append(d)\n",
    "    \n",
    "    for j in range(1,100000):\n",
    "        m=[]\n",
    "        for k in range(b):\n",
    "            m.append(c[k]%j)\n",
    "        if len(set(m))==b:\n",
    "            print(j)\n",
    "            break"
   ]
  },
  {
   "cell_type": "markdown",
   "id": "40241bb5",
   "metadata": {},
   "source": [
    "17. 소가 길을 건너간 이유 1 브1(14467) 쉽게?"
   ]
  },
  {
   "cell_type": "code",
   "execution_count": 381,
   "id": "5cdd91ed",
   "metadata": {},
   "outputs": [
    {
     "name": "stdout",
     "output_type": "stream",
     "text": [
      "8\n",
      "3 1\n",
      "3 0\n",
      "6 0\n",
      "2 1\n",
      "4 1\n",
      "3 0\n",
      "4 0\n",
      "3 1\n",
      "3\n"
     ]
    }
   ],
   "source": [
    "a= int(input())\n",
    "for j in range(1,a+1):\n",
    "    globals()['cow_{}'.format(j)]=[]\n",
    "cow=[0]*a\n",
    "for i in range(a):\n",
    "    b,c=map(int,input().split())\n",
    "    globals()['cow_{}'.format(b)].append(c)\n",
    "count=0\n",
    "for k in range(1,a+1):\n",
    "    if len(globals()['cow_{}'.format(k)])==0 or len(globals()['cow_{}'.format(k)])==1:\n",
    "        pass\n",
    "    else:\n",
    "        for l in range(len(globals()['cow_{}'.format(k)])-1):\n",
    "            if globals()['cow_{}'.format(k)][l]!=globals()['cow_{}'.format(k)][l+1]:\n",
    "                count+=1\n",
    "print(count)"
   ]
  },
  {
   "cell_type": "markdown",
   "id": "28a2ed78",
   "metadata": {},
   "source": [
    "18. 칠무해 실5(14729)"
   ]
  },
  {
   "cell_type": "code",
   "execution_count": 2,
   "id": "b86ec2e5",
   "metadata": {},
   "outputs": [
    {
     "name": "stdout",
     "output_type": "stream",
     "text": [
      "8\n",
      "20.000\n",
      "70.000\n",
      "50.000\n",
      "30.000\n",
      "70.000\n",
      "30.000\n",
      "60.000\n",
      "70.000\n",
      "20.000\n",
      "30.000\n",
      "30.000\n",
      "50.000\n",
      "60.000\n",
      "70.000\n",
      "70.000\n"
     ]
    }
   ],
   "source": [
    "a= int(input())\n",
    "b=[]\n",
    "for i in range(a):\n",
    "    c=str(input())\n",
    "    b.append(c)\n",
    "b.sort()\n",
    "print('\\n'.join(b[:7]))"
   ]
  },
  {
   "cell_type": "code",
   "execution_count": 1,
   "id": "1d56bf9b",
   "metadata": {},
   "outputs": [
    {
     "data": {
      "text/plain": [
       "99999.0"
      ]
     },
     "execution_count": 1,
     "metadata": {},
     "output_type": "execute_result"
    }
   ],
   "source": []
  },
  {
   "cell_type": "markdown",
   "id": "597e542a",
   "metadata": {},
   "source": [
    "19. 박 터뜨리기 실5(19939)"
   ]
  },
  {
   "cell_type": "code",
   "execution_count": 389,
   "id": "2fff6729",
   "metadata": {},
   "outputs": [
    {
     "name": "stdout",
     "output_type": "stream",
     "text": [
      "6 3\n",
      "2\n"
     ]
    }
   ],
   "source": [
    "def plus(n):\n",
    "    return (n*(n+1))//2\n",
    "a,b=map(int,input().split())\n",
    "if a<plus(b):\n",
    "    print(-1)\n",
    "else:\n",
    "    if (a-plus(b))%b==0:\n",
    "        print(b-1)\n",
    "    else:\n",
    "        print(b)"
   ]
  },
  {
   "cell_type": "markdown",
   "id": "4f2357ab",
   "metadata": {},
   "source": [
    "20. 파도반 수열 실3(9461)"
   ]
  },
  {
   "cell_type": "code",
   "execution_count": 7,
   "id": "d49e85eb",
   "metadata": {},
   "outputs": [
    {
     "name": "stdout",
     "output_type": "stream",
     "text": [
      "2\n",
      "6\n",
      "3\n",
      "12\n",
      "16\n"
     ]
    }
   ],
   "source": [
    "pado=[0,1,1,1,2,2]\n",
    "for j in range(6,101):\n",
    "    pado.append(pado[-1]+pado[-5])\n",
    "a=int(input())\n",
    "for i in range(a):\n",
    "    b=int(input())\n",
    "    print(pado[b])"
   ]
  }
 ],
 "metadata": {
  "kernelspec": {
   "display_name": "Python 3 (ipykernel)",
   "language": "python",
   "name": "python3"
  },
  "language_info": {
   "codemirror_mode": {
    "name": "ipython",
    "version": 3
   },
   "file_extension": ".py",
   "mimetype": "text/x-python",
   "name": "python",
   "nbconvert_exporter": "python",
   "pygments_lexer": "ipython3",
   "version": "3.9.12"
  }
 },
 "nbformat": 4,
 "nbformat_minor": 5
}

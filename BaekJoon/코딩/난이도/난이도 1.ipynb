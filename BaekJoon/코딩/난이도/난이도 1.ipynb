{
 "cells": [
  {
   "cell_type": "markdown",
   "id": "f48bfc40",
   "metadata": {},
   "source": [
    "분산처리 브2(1009)"
   ]
  },
  {
   "cell_type": "code",
   "execution_count": 85,
   "id": "2b1f3344",
   "metadata": {},
   "outputs": [
    {
     "name": "stdout",
     "output_type": "stream",
     "text": [
      "1\n",
      "10 11\n",
      "10\n"
     ]
    }
   ],
   "source": [
    "a = int(input())\n",
    "for i in range(a):\n",
    "    b,c=map(int,input().split())\n",
    "    d=[]\n",
    "    e=b\n",
    "    d.append(str(b)[-1])\n",
    "    for j in range(c):\n",
    "        b=b*e\n",
    "        if str(b)[-1] in d:\n",
    "            break\n",
    "        d.append(str(b)[-1])\n",
    "    if d[-1]=='0':\n",
    "        print(10)\n",
    "    else:\n",
    "        print(d[c%len(d)-1])"
   ]
  },
  {
   "cell_type": "code",
   "execution_count": null,
   "id": "6a793ae1",
   "metadata": {},
   "outputs": [],
   "source": [
    "n =int(input())\n",
    "\n",
    "for i in range(n):\n",
    "    a,b = map(int, input().split())\n",
    "    computer = a**b\n",
    "    if a ==1 or a ==5 or a ==6 :\n",
    "        print(a)\n",
    "    elif computer%10 == 0 :\n",
    "        print(10)\n",
    "    else:\n",
    "        print(computer%10)"
   ]
  },
  {
   "cell_type": "markdown",
   "id": "2b7a0462",
   "metadata": {},
   "source": [
    "연도 진행바 실5(1340)"
   ]
  },
  {
   "cell_type": "code",
   "execution_count": 34,
   "id": "0194f3a9",
   "metadata": {},
   "outputs": [
    {
     "name": "stdout",
     "output_type": "stream",
     "text": [
      "December 31, 2007 23:59\n",
      "99.9998097412481\n"
     ]
    }
   ],
   "source": [
    "month=['January', 'February', 'March', 'April', 'May', 'June', 'July', \n",
    "       'August', 'September', 'October', 'November', 'December']\n",
    "day=[31,59,90,120,151,181,212,243,273,304,334]\n",
    "day_2=[31,60,91,121,152,182,213,244,274,305,335]\n",
    "a=list(map(str, input().split()))\n",
    "time=0\n",
    "year=0\n",
    "if int(a[2])%4==0 and int(a[2])%100!=0:\n",
    "    year+=1\n",
    "elif int(a[2])%400==0:\n",
    "    year+=1\n",
    "else:\n",
    "    year+=0\n",
    "for i in range(len(month)):\n",
    "    if year==0 and a[0]==month[i]:\n",
    "        if i==0:\n",
    "            time+=0\n",
    "        else:\n",
    "            time+=day[i-1]\n",
    "        break\n",
    "    elif year==1 and a[0]==month[i]:\n",
    "        if i==0:\n",
    "            time+=0\n",
    "        else:\n",
    "            time+=day_2[i-1]\n",
    "        break\n",
    "time+=(int(a[1][:-1])-1)\n",
    "time*=1440\n",
    "time+=(int(a[3][:2])*60)+(int(a[3][3:]))\n",
    "if year==1:\n",
    "    print(time/5270.4)\n",
    "elif year==0:\n",
    "    print(time/5256)"
   ]
  },
  {
   "cell_type": "markdown",
   "id": "83e56c45",
   "metadata": {},
   "source": [
    "지능형 기차 브3(2455)"
   ]
  },
  {
   "cell_type": "code",
   "execution_count": 36,
   "id": "730343cd",
   "metadata": {},
   "outputs": [
    {
     "name": "stdout",
     "output_type": "stream",
     "text": [
      "0 32\n",
      "3 13\n",
      "28 25\n",
      "39 0\n",
      "42\n"
     ]
    }
   ],
   "source": [
    "human=0\n",
    "many=[]\n",
    "for i in range(4):\n",
    "    a,b =map(int,input().split())\n",
    "    human-=a\n",
    "    many.append(human)\n",
    "    human+=b\n",
    "    many.append(human)\n",
    "print(max(many))"
   ]
  },
  {
   "cell_type": "markdown",
   "id": "ee19b436",
   "metadata": {},
   "source": [
    "지능형 기차 2 브3(2460)"
   ]
  },
  {
   "cell_type": "code",
   "execution_count": 43,
   "id": "57b14896",
   "metadata": {},
   "outputs": [
    {
     "name": "stdout",
     "output_type": "stream",
     "text": [
      "0 32\n",
      "3 13\n",
      "28 25\n",
      "17 5\n",
      "21 20\n",
      "11 0\n",
      "12 12\n",
      "4 2\n",
      "0 8\n",
      "21 0\n",
      "42\n"
     ]
    }
   ],
   "source": [
    "human=0\n",
    "many=[]\n",
    "for i in range(10):\n",
    "    a,b =map(int,input().split())\n",
    "    human-=a\n",
    "    many.append(human)\n",
    "    human+=b\n",
    "    many.append(human)\n",
    "print(max(many))"
   ]
  },
  {
   "cell_type": "markdown",
   "id": "1606f99d",
   "metadata": {},
   "source": [
    "행렬 덧셈 브5(2738)"
   ]
  },
  {
   "cell_type": "code",
   "execution_count": 16,
   "id": "a91be774",
   "metadata": {},
   "outputs": [
    {
     "name": "stdout",
     "output_type": "stream",
     "text": [
      "3 1\n",
      "1\n",
      "1\n",
      "1\n",
      "2\n",
      "2\n",
      "2\n",
      "3\n",
      "3\n",
      "3\n"
     ]
    }
   ],
   "source": [
    "a,b = map(int, input().split())\n",
    "A=[]\n",
    "C=[]\n",
    "B=[]\n",
    "for j in range(2):\n",
    "    for i in range(a):\n",
    "        c=list(map(int, input().split()))\n",
    "        if j==0:\n",
    "            A.append(c)\n",
    "            C.append(c)\n",
    "        else:\n",
    "            B.append(c)\n",
    "for x in range(a):\n",
    "    for y in range(b):\n",
    "        C[x][y]=str(A[x][y]+B[x][y])\n",
    "for c in range(len(C)):\n",
    "    print(' '.join(C[c]))"
   ]
  },
  {
   "cell_type": "markdown",
   "id": "7226a21d",
   "metadata": {},
   "source": [
    "대회 or 인턴 브3(2875)"
   ]
  },
  {
   "cell_type": "code",
   "execution_count": 110,
   "id": "aaa1177a",
   "metadata": {},
   "outputs": [
    {
     "name": "stdout",
     "output_type": "stream",
     "text": [
      "6 10 3\n",
      "3\n"
     ]
    }
   ],
   "source": [
    "a,b,c = map(int,input().split())\n",
    "while True:\n",
    "    if c>0:\n",
    "        if a>=2*b:\n",
    "            a-=1\n",
    "            c-=1\n",
    "        else:\n",
    "            b-=1\n",
    "            c-=1\n",
    "    if c==0:\n",
    "        break\n",
    "\n",
    "if a>=2*b:\n",
    "    print(b)\n",
    "else:\n",
    "    print(a//2)"
   ]
  },
  {
   "cell_type": "markdown",
   "id": "e75ddf45",
   "metadata": {},
   "source": [
    "줄임말 만들기 브1(3181)"
   ]
  },
  {
   "cell_type": "code",
   "execution_count": 137,
   "id": "c77bce61",
   "metadata": {},
   "outputs": [
    {
     "name": "stdout",
     "output_type": "stream",
     "text": [
      "ali ja sam i jucer jeo\n",
      "AJSJJ"
     ]
    }
   ],
   "source": [
    "a=list(map(str, input().split()))\n",
    "b=['i', 'pa', 'te', 'ni', 'niti', 'a', 'ali', 'nego', 'no', 'ili']\n",
    "waste=[]\n",
    "for i in range(len(a)):\n",
    "    if i==0 and a[i] in b:\n",
    "        pass\n",
    "    elif i!=0 and a[i] in b:\n",
    "        waste.append(a[i])\n",
    "for j in waste:\n",
    "    a.remove(j)\n",
    "for x in range(len(a)):\n",
    "    a[x]=a[x][0].upper()\n",
    "    print(a[x],end='')"
   ]
  },
  {
   "cell_type": "markdown",
   "id": "2085b259",
   "metadata": {},
   "source": [
    "탄산 음료 브2(5032)"
   ]
  },
  {
   "cell_type": "code",
   "execution_count": 145,
   "id": "77cd87ce",
   "metadata": {},
   "outputs": [
    {
     "name": "stdout",
     "output_type": "stream",
     "text": [
      "5 5 2\n",
      "9\n"
     ]
    }
   ],
   "source": [
    "a,b,c=map(int, input().split())\n",
    "sum_ab=a+b\n",
    "cola=0\n",
    "while sum_ab>=c:\n",
    "    cola+=(sum_ab//c)\n",
    "    sum_ab=(sum_ab//c)+(sum_ab%c)\n",
    "print(cola)"
   ]
  },
  {
   "cell_type": "markdown",
   "id": "3c72c100",
   "metadata": {},
   "source": [
    "길면 기차, 기차는 빨라, 빠른 것은 비행기 브3(9493)"
   ]
  },
  {
   "cell_type": "code",
   "execution_count": 240,
   "id": "cf4316b6",
   "metadata": {},
   "outputs": [
    {
     "name": "stdout",
     "output_type": "stream",
     "text": [
      "21 70 80\n",
      "0:02:15\n",
      "26 65 80\n",
      "0:04:30\n",
      "0 0 0\n"
     ]
    }
   ],
   "source": [
    "import math\n",
    "while True:\n",
    "    a,b,c=map(int,input().split())\n",
    "    if a==0 and b==0 and c==0:\n",
    "        break\n",
    "    else:\n",
    "        train=a/b*3600\n",
    "        air=a/c*3600\n",
    "        time=train-air\n",
    "        hour=int(time//3600)\n",
    "        minute=int((time-3600*hour)//60)\n",
    "        second=round(time-3600*hour-60*minute)\n",
    "        if minute<10 and second<10:\n",
    "            print(str(hour)+':0'+str(minute)+':0'+str(second))\n",
    "        elif minute<10 and second>=10:\n",
    "            print(str(hour)+':0'+str(minute)+':'+str(second))\n",
    "        elif minute>=10 and second<10:\n",
    "            print(str(hour)+':'+str(minute)+':0'+str(second))\n",
    "        elif minute>=10 and second>=10:\n",
    "            print(str(hour)+':'+str(minute)+':'+str(second))"
   ]
  },
  {
   "cell_type": "markdown",
   "id": "57673bf7",
   "metadata": {},
   "source": [
    "Baseball 브3(10214)"
   ]
  },
  {
   "cell_type": "code",
   "execution_count": 242,
   "id": "fdf87295",
   "metadata": {},
   "outputs": [
    {
     "name": "stdout",
     "output_type": "stream",
     "text": [
      "1\n",
      "1 0\n",
      "0 0\n",
      "0 0\n",
      "0 0\n",
      "0 0\n",
      "0 0\n",
      "0 0\n",
      "0 0\n",
      "0 0\n",
      "Yonsei\n"
     ]
    }
   ],
   "source": [
    "a= int(input())\n",
    "for i in range(a):\n",
    "    y=0\n",
    "    k=0\n",
    "    for j in range(9):\n",
    "        b,c=map(int, input().split())\n",
    "        y+=b\n",
    "        k+=c\n",
    "    if y>k:\n",
    "        print('Yonsei')\n",
    "    elif k>y:\n",
    "        print('Korea')\n",
    "    else:\n",
    "        print('Draw')"
   ]
  },
  {
   "cell_type": "markdown",
   "id": "dc38b77a",
   "metadata": {},
   "source": [
    "수빈이와 수열 브2(10539)"
   ]
  },
  {
   "cell_type": "code",
   "execution_count": 267,
   "id": "f4ecef04",
   "metadata": {},
   "outputs": [
    {
     "name": "stdout",
     "output_type": "stream",
     "text": [
      "4\n",
      "3 2 3 5\n",
      "3 1 5 11 "
     ]
    }
   ],
   "source": [
    "a= int(input())\n",
    "b= list(map(int, input().split()))\n",
    "c=[]\n",
    "for i in range(a):\n",
    "    c.append(b[i]*(i+1))\n",
    "for j in range(1,a+1):\n",
    "    if j==a:\n",
    "        b[-j]=c[-j]\n",
    "    else:\n",
    "        b[-j]=c[-j]-c[-j-1]\n",
    "for x in range(a):\n",
    "    print(b[x],end=' ')"
   ]
  },
  {
   "cell_type": "markdown",
   "id": "0ee070e4",
   "metadata": {},
   "source": [
    "시험 감독 브2(13458)"
   ]
  },
  {
   "cell_type": "code",
   "execution_count": 281,
   "id": "0cbe1a8c",
   "metadata": {},
   "outputs": [
    {
     "name": "stdout",
     "output_type": "stream",
     "text": [
      "5\n",
      "10 9 10 9 10\n",
      "7 2\n",
      "13\n"
     ]
    }
   ],
   "source": [
    "n= int(input())\n",
    "a= list(map(int, input().split()))\n",
    "b,c=map(int, input().split())\n",
    "total=0\n",
    "for i in range(n):\n",
    "    if a[i]<b:\n",
    "        pass\n",
    "    else:\n",
    "        if (a[i]-b)%c==0:\n",
    "            total+=(a[i]-b)//c\n",
    "        else:\n",
    "            total+=(1+(a[i]-b)//c)\n",
    "total+=n\n",
    "print(total)"
   ]
  },
  {
   "cell_type": "markdown",
   "id": "f767c2b7",
   "metadata": {},
   "source": [
    "치킨 두 마리(...) 브4(14489)"
   ]
  },
  {
   "cell_type": "code",
   "execution_count": 286,
   "id": "4dd91c87",
   "metadata": {},
   "outputs": [
    {
     "name": "stdout",
     "output_type": "stream",
     "text": [
      "0 0\n",
      "0\n",
      "0\n"
     ]
    }
   ],
   "source": [
    "a,b=map(int,input().split())\n",
    "c=int(input())\n",
    "if c==0:\n",
    "    print(a+b)\n",
    "else:\n",
    "    if (a+b)//c>=2:\n",
    "        print(a+b-2*c)\n",
    "    else:\n",
    "        print(a+b)"
   ]
  },
  {
   "cell_type": "markdown",
   "id": "b9051f4d",
   "metadata": {},
   "source": [
    "핸드폰 번호 궁합 브1(17202)"
   ]
  },
  {
   "cell_type": "code",
   "execution_count": 293,
   "id": "77a07b0a",
   "metadata": {},
   "outputs": [
    {
     "name": "stdout",
     "output_type": "stream",
     "text": [
      "01234567\n",
      "12345678\n",
      "02\n"
     ]
    }
   ],
   "source": [
    "a=str(input())\n",
    "b=str(input())\n",
    "c=''\n",
    "for i in range(len(a)):\n",
    "    c+=a[i]\n",
    "    c+=b[i]\n",
    "while True:\n",
    "    d=''\n",
    "    for j in range(len(c)-1):\n",
    "        sum=int(c[j])+int(c[j+1])\n",
    "        if sum>=10:\n",
    "            d+=str(sum)[-1]\n",
    "        else:\n",
    "            d+=str(sum)\n",
    "    c=d\n",
    "    if len(c)<=2:\n",
    "        break\n",
    "print(c)"
   ]
  },
  {
   "cell_type": "markdown",
   "id": "5bab6c9b",
   "metadata": {},
   "source": [
    "태보태보 총난타 브2(17249)"
   ]
  },
  {
   "cell_type": "code",
   "execution_count": 308,
   "id": "a83fc91b",
   "metadata": {},
   "outputs": [
    {
     "name": "stdout",
     "output_type": "stream",
     "text": [
      "@===@==@=@==(^0^)==@=@===@\n",
      "4 3\n"
     ]
    }
   ],
   "source": [
    "a=str(input())\n",
    "print(a[:a.index('(')].count('@='),a[a.index(')'):].count('=@'))"
   ]
  },
  {
   "cell_type": "markdown",
   "id": "c0b345be",
   "metadata": {},
   "source": [
    "통학의 신 브3(17945)"
   ]
  },
  {
   "cell_type": "code",
   "execution_count": 344,
   "id": "efd69dbf",
   "metadata": {},
   "outputs": [
    {
     "name": "stdout",
     "output_type": "stream",
     "text": [
      "2 3\n",
      "-3 -1 "
     ]
    }
   ],
   "source": [
    "import math\n",
    "a,b=map(int, input().split())\n",
    "c=[]\n",
    "for i in range(-1000,1001):\n",
    "    if i**2 + 2*a*i + b==0:\n",
    "        print('\\n'.join)"
   ]
  },
  {
   "cell_type": "markdown",
   "id": "d1849e24",
   "metadata": {},
   "source": [
    "N M 찍기 브3(18883)"
   ]
  },
  {
   "cell_type": "code",
   "execution_count": 56,
   "id": "6c445d04",
   "metadata": {},
   "outputs": [
    {
     "name": "stdout",
     "output_type": "stream",
     "text": [
      "7 8\n",
      "1 2 3 4 5 6 7 8\n",
      "9 10 11 12 13 14 15 16\n",
      "17 18 19 20 21 22 23 24\n",
      "25 26 27 28 29 30 31 32\n",
      "33 34 35 36 37 38 39 40\n",
      "41 42 43 44 45 46 47 48\n",
      "49 50 51 52 53 54 55 56\n"
     ]
    }
   ],
   "source": [
    "a,b=map(int, input().split())\n",
    "c=[]\n",
    "for i in range(a):\n",
    "    d=[]\n",
    "    for j in range(1+i*b,i*b+b+1):\n",
    "        d.append(str(j))\n",
    "    c.append(d)\n",
    "for x in range(len(c)):\n",
    "    print(' '.join(c[x]))"
   ]
  },
  {
   "cell_type": "code",
   "execution_count": 57,
   "id": "a8d5fe63",
   "metadata": {},
   "outputs": [
    {
     "data": {
      "text/plain": [
       "[['1', '2', '3', '4', '5', '6', '7', '8'],\n",
       " ['9', '10', '11', '12', '13', '14', '15', '16'],\n",
       " ['17', '18', '19', '20', '21', '22', '23', '24'],\n",
       " ['25', '26', '27', '28', '29', '30', '31', '32'],\n",
       " ['33', '34', '35', '36', '37', '38', '39', '40'],\n",
       " ['41', '42', '43', '44', '45', '46', '47', '48'],\n",
       " ['49', '50', '51', '52', '53', '54', '55', '56']]"
      ]
     },
     "execution_count": 57,
     "metadata": {},
     "output_type": "execute_result"
    }
   ],
   "source": [
    "c"
   ]
  },
  {
   "cell_type": "markdown",
   "id": "4e440bf4",
   "metadata": {},
   "source": [
    "수학은 비대면강의입니다 브2(19532)"
   ]
  },
  {
   "cell_type": "code",
   "execution_count": 11,
   "id": "306b3d90",
   "metadata": {},
   "outputs": [
    {
     "name": "stdout",
     "output_type": "stream",
     "text": [
      "2 5 8 3 -4 -11\n",
      "-1 2\n"
     ]
    }
   ],
   "source": [
    "a,b,c,d,e,f=map(int, input().split())\n",
    "for x in range(-999,1000):\n",
    "    for y in range(-999,1000):\n",
    "        if a*x+b*y==c and d*x+e*y==f:\n",
    "            print(x,y)"
   ]
  },
  {
   "cell_type": "markdown",
   "id": "980afa90",
   "metadata": {},
   "source": [
    "백발백준하는 명사수 브3(22938)"
   ]
  },
  {
   "cell_type": "code",
   "execution_count": 15,
   "id": "5954d847",
   "metadata": {},
   "outputs": [
    {
     "name": "stdout",
     "output_type": "stream",
     "text": [
      "0 0 1\n",
      "10 10 14\n",
      "YES\n"
     ]
    }
   ],
   "source": [
    "import math\n",
    "a,b,c=map(int,input().split())\n",
    "d,e,f=map(int,input().split())\n",
    "if math.sqrt((a-d)**2+(b-e)**2)>=c+f:\n",
    "    print('NO')\n",
    "else:\n",
    "    print('YES')"
   ]
  },
  {
   "cell_type": "markdown",
   "id": "903af353",
   "metadata": {},
   "source": [
    "영화 평가 브1(23278)"
   ]
  },
  {
   "cell_type": "code",
   "execution_count": 28,
   "id": "74a4ee32",
   "metadata": {},
   "outputs": [
    {
     "name": "stdout",
     "output_type": "stream",
     "text": [
      "10 1 4\n",
      "31 52 20 86 47 76 82 27 42 29\n",
      "35.2\n"
     ]
    }
   ],
   "source": [
    "n,l,h = map(int,input().split())\n",
    "score=list(map(int, input().split()))\n",
    "score.sort()\n",
    "for i in range(l):\n",
    "    score.remove(score[l-1-i])\n",
    "for j in range(h):\n",
    "    score.pop()\n",
    "print(sum(score)/len(score))"
   ]
  }
 ],
 "metadata": {
  "kernelspec": {
   "display_name": "Python 3 (ipykernel)",
   "language": "python",
   "name": "python3"
  },
  "language_info": {
   "codemirror_mode": {
    "name": "ipython",
    "version": 3
   },
   "file_extension": ".py",
   "mimetype": "text/x-python",
   "name": "python",
   "nbconvert_exporter": "python",
   "pygments_lexer": "ipython3",
   "version": "3.9.12"
  }
 },
 "nbformat": 4,
 "nbformat_minor": 5
}

{
 "cells": [
  {
   "cell_type": "code",
   "execution_count": 87,
   "id": "5e1637cf",
   "metadata": {},
   "outputs": [
    {
     "name": "stdout",
     "output_type": "stream",
     "text": [
      "3 3\n",
      "###\n",
      "###\n",
      "###\n",
      "1 4\n",
      "###.##\n",
      "######\n",
      "######\n",
      "######\n",
      "######\n",
      "######\n"
     ]
    }
   ],
   "source": [
    "#1. 마술사 이민혁(다른방법)\n",
    "import copy\n",
    "r,c=map(int,input().split())\n",
    "c_=[]\n",
    "for i in range(r):\n",
    "    d=input()\n",
    "    c_.append(list(d)+copy.deepcopy(list(d))[::-1])\n",
    "k=copy.deepcopy(c_)[::-1]\n",
    "d_=c_+k\n",
    "a,b=map(int,input().split())\n",
    "\n",
    "if d_[a-1][b-1]=='#':\n",
    "    d_[a-1][b-1]='.'\n",
    "elif d_[a-1][b-1]=='.':\n",
    "    d_[a-1][b-1]='#'\n",
    "\n",
    "for i in range(len(d_)):\n",
    "    print(*d_[i],sep='')"
   ]
  },
  {
   "cell_type": "code",
   "execution_count": 96,
   "id": "392e0539",
   "metadata": {},
   "outputs": [
    {
     "name": "stdout",
     "output_type": "stream",
     "text": [
      "10\n",
      "1\n",
      "3 8\n",
      "1\n",
      "1\n"
     ]
    }
   ],
   "source": [
    "#2. 롤 케이크\n",
    "a=[1]*(int(input())+1)\n",
    "a_=[]\n",
    "a__=[]\n",
    "for i in range(int(input())):\n",
    "    b,c=map(int,input().split())\n",
    "    a_.append(c-b)\n",
    "    count=0\n",
    "    for j in range(b,c+1):\n",
    "        if a[j]==1:\n",
    "            a[j]-=1\n",
    "            count+=1\n",
    "    a__.append(count)\n",
    "print(a_.index(max(a_))+1)\n",
    "print(a__.index(max(a__))+1)"
   ]
  },
  {
   "cell_type": "code",
   "execution_count": 107,
   "id": "abdf98b1",
   "metadata": {},
   "outputs": [
    {
     "name": "stdout",
     "output_type": "stream",
     "text": [
      "14\n",
      "ab13c9d07jeden\n",
      "29\n"
     ]
    }
   ],
   "source": [
    "#3. 히든 넘버\n",
    "import re\n",
    "input()\n",
    "a=input()\n",
    "numbers = re.findall(r'\\d+', a)\n",
    "count=0\n",
    "for i in range(len(numbers)):\n",
    "    count+=int(numbers[i])\n",
    "print(count)"
   ]
  },
  {
   "cell_type": "code",
   "execution_count": 4,
   "id": "80933df8",
   "metadata": {},
   "outputs": [
    {
     "name": "stdout",
     "output_type": "stream",
     "text": [
      "1\n",
      "4 6\n",
      "1 2 0 11\n",
      "1 3 17 13\n",
      "1 4 17 1\n",
      "2 3 7 12\n",
      "2 4 19 17\n",
      "3 4 17 0\n",
      "753\n",
      "103\n"
     ]
    }
   ],
   "source": [
    "#4. 피타고라스 기댓값\n",
    "import math\n",
    "for i in range(int(input())):\n",
    "    n,m=map(int,input().split())\n",
    "    n_=[0]*(2*n+1)\n",
    "    n__=[0]*(n+1)\n",
    "    for j in range(m):\n",
    "        a,b,p,q=map(int,input().split())\n",
    "        n_[a]+=p\n",
    "        n_[a+n]+=q\n",
    "        n_[b]+=q\n",
    "        n_[b+n]+=p\n",
    "    for j in range(1,n+1):\n",
    "        if n_[j]==0 and n_[j+n]==0:\n",
    "            n__[j]=0\n",
    "        else:\n",
    "            n__[j]=1000*((n_[j]**2)/(n_[j]**2+n_[j+n]**2))\n",
    "    print(math.floor(max(n__[1:])))\n",
    "    print(math.floor(min(n__[1:])))"
   ]
  },
  {
   "cell_type": "code",
   "execution_count": 30,
   "id": "188d513e",
   "metadata": {},
   "outputs": [
    {
     "name": "stdout",
     "output_type": "stream",
     "text": [
      "15\n",
      "20 20 33 98 15 6 4 1 1 1 2 3 6 14\n",
      "TIMING\n"
     ]
    }
   ],
   "source": [
    "#5. 기적의 매매법\n",
    "a=[int(input())]*2\n",
    "b=[0,0]\n",
    "MD=list(map(int,input().split()))\n",
    "up=0\n",
    "down=0\n",
    "for i in range(len(MD)):\n",
    "    b[0]+=a[0]//MD[i]\n",
    "    a[0]-=MD[i]*(a[0]//MD[i])\n",
    "\n",
    "for i in range(3,len(MD)):\n",
    "    if MD[i-3]>MD[i-2]>MD[i-1]>MD[i]:\n",
    "        b[1]+=a[1]//MD[i]\n",
    "        a[1]-=MD[i]*(a[1]//MD[i])\n",
    "    elif MD[i-3]<MD[i-2]<MD[i-1]<MD[i]:\n",
    "        a[1]+=b[1]*MD[i]\n",
    "        b[1]=0\n",
    "        \n",
    "if a[0]+b[0]*MD[-1]>a[1]+b[1]*MD[-1]:\n",
    "    print('BNP')\n",
    "elif a[0]+b[0]*MD[-1]<a[1]+b[1]*MD[-1]:\n",
    "    print('TIMING')\n",
    "else:\n",
    "    print('SAMESAME')"
   ]
  },
  {
   "cell_type": "code",
   "execution_count": 41,
   "id": "bfa2c2d0",
   "metadata": {},
   "outputs": [
    {
     "name": "stdout",
     "output_type": "stream",
     "text": [
      "a\n",
      "<a> is acceptable.\n",
      "tv\n",
      "<tv> is not acceptable.\n",
      "ptoui\n",
      "<ptoui> is not acceptable.\n",
      "bontres\n",
      "<bontres> is not acceptable.\n",
      "eep\n",
      "<eep> is acceptable.\n",
      "houctuh\n",
      "<houctuh> is acceptable.\n",
      "end\n"
     ]
    }
   ],
   "source": [
    "#6. 비밀번호 발음하기\n",
    "m=['a','e','i','o','u']\n",
    "al='abcdfghijklmnpqrstuvwxyz'\n",
    "al_=[]\n",
    "for i in range(len(al)):\n",
    "    al_.append(al[i]*2)\n",
    "while True:\n",
    "    a=str(input())\n",
    "    if a=='end':\n",
    "        break\n",
    "    m_count=0\n",
    "    for i in range(len(m)):\n",
    "        if m[i] in a:\n",
    "            m_count+=1\n",
    "    c_count=0\n",
    "    for i in range(2,len(a)):\n",
    "        m_=0\n",
    "        notm_=0\n",
    "        for j in range(3):\n",
    "            if a[i-2:i+1][j] in m:\n",
    "                m_+=1\n",
    "            else:\n",
    "                notm_+=1\n",
    "        if m_==3 or notm_==3:\n",
    "            c_count+=1\n",
    "            break\n",
    "    t_count=0\n",
    "    for i in range(len(al_)):\n",
    "        if al_[i] in a:\n",
    "            t_count+=1\n",
    "            break\n",
    "    if m_count>0 and c_count==0 and t_count==0:\n",
    "        print('<{}> is acceptable.'.format(a))\n",
    "    else:\n",
    "        print('<{}> is not acceptable.'.format(a))\n",
    "        "
   ]
  },
  {
   "cell_type": "code",
   "execution_count": 92,
   "id": "a287c7b8",
   "metadata": {},
   "outputs": [
    {
     "name": "stdout",
     "output_type": "stream",
     "text": [
      "University Computer Programming\n",
      "I hate UCPC\n"
     ]
    }
   ],
   "source": [
    "#7. UCPC는 무엇의 약자일까\n",
    "a=input()\n",
    "b=[]\n",
    "for i in range(len(a)):\n",
    "    if a[i].isupper():      \n",
    "        b.append(a[i])\n",
    "c=0\n",
    "if 'U' in b:\n",
    "    c+=1\n",
    "    b=b[b.index('U')+1:]\n",
    "if c==1 and 'C' in b:\n",
    "    c+=1\n",
    "    b=b[b.index('C')+1:]    \n",
    "if c==2 and 'P' in b:\n",
    "    c+=1\n",
    "    b=b[b.index('P')+1:]    \n",
    "if c==3 and 'C' in b:\n",
    "    c+=1\n",
    "    \n",
    "    \n",
    "if c==4:\n",
    "    print('I love UCPC')\n",
    "else:\n",
    "    print('I hate UCPC')"
   ]
  },
  {
   "cell_type": "code",
   "execution_count": 94,
   "id": "24243e14",
   "metadata": {},
   "outputs": [
    {
     "name": "stdout",
     "output_type": "stream",
     "text": [
      "9 1\n",
      "9 5 8 1 3 2 7 6 4\n",
      "10\n"
     ]
    }
   ],
   "source": [
    "#8. 스네이크버드\n",
    "n,l=map(int,input().split())\n",
    "a=list(map(int,input().split()))\n",
    "a.sort()\n",
    "for i in range(n):\n",
    "    if a[i]<=l:\n",
    "        l+=1\n",
    "    else:\n",
    "        break\n",
    "print(l)"
   ]
  },
  {
   "cell_type": "code",
   "execution_count": 102,
   "id": "a06ab824",
   "metadata": {},
   "outputs": [
    {
     "name": "stdout",
     "output_type": "stream",
     "text": [
      "4\n",
      "12 3 8 4\n",
      "4/1\n",
      "3/2\n",
      "3/1\n"
     ]
    }
   ],
   "source": [
    "#9. 링\n",
    "import math\n",
    "n=int(input())\n",
    "a=list(map(int,input().split()))\n",
    "for i in range(1,n):\n",
    "    print(a[0]//math.gcd(a[0],a[i]),'/',a[i]//math.gcd(a[0],a[i]),sep='')"
   ]
  },
  {
   "cell_type": "code",
   "execution_count": 229,
   "id": "d3615748",
   "metadata": {},
   "outputs": [
    {
     "name": "stdout",
     "output_type": "stream",
     "text": [
      "5 0\n",
      "-7 -3 -2 5 8\n",
      "1\n"
     ]
    }
   ],
   "source": [
    "#10. 부분수열의 합\n",
    "from itertools import combinations\n",
    "n,s=map(int,input().split())\n",
    "nl=list(map(int,input().split()))\n",
    "count=0\n",
    "a=[]\n",
    "for i in range(1,n+1):\n",
    "    a.append(list(combinations(nl, i)))\n",
    "for i in range(n):\n",
    "    for j in range(len(a[i])):\n",
    "        if sum(a[i][j])==s:\n",
    "            count+=1\n",
    "print(count)"
   ]
  },
  {
   "cell_type": "code",
   "execution_count": 231,
   "id": "e9fa78de",
   "metadata": {},
   "outputs": [
    {
     "name": "stdout",
     "output_type": "stream",
     "text": [
      "5 0\n",
      "-7 -3 -2 5 8\n",
      "1\n"
     ]
    }
   ],
   "source": [
    "#10. 똑똑이의 방법(종남)\n",
    "N,S =map(int,input().split())\n",
    "l=list(map(int,input().split()))\n",
    "cnt=0\n",
    "for i in range(2**N):\n",
    "    sum_=0\n",
    "    ll=bin(i)[2::][::-1]\n",
    "    for ii in range(len(ll)):\n",
    "        if ll[ii]=='1':\n",
    "            sum_+=l[ii]\n",
    "    if sum_==S:\n",
    "        cnt+=1\n",
    "if S==0:\n",
    "    cnt-=1\n",
    "print(cnt)  "
   ]
  },
  {
   "cell_type": "code",
   "execution_count": 230,
   "id": "10a1dfd8",
   "metadata": {},
   "outputs": [
    {
     "name": "stdout",
     "output_type": "stream",
     "text": [
      "[[1, 2, 3, 4, 5], [1, 2, 3, 4], [1, 2, 3, 5], [1, 2, 3], [1, 2, 4, 5], [1, 2, 4], [1, 2, 5], [1, 2], [1, 3, 4, 5], [1, 3, 4], [1, 3, 5], [1, 3], [1, 4, 5], [1, 4], [1, 5], [1], [2, 3, 4, 5], [2, 3, 4], [2, 3, 5], [2, 3], [2, 4, 5], [2, 4], [2, 5], [2], [3, 4, 5], [3, 4], [3, 5], [3], [4, 5], [4], [5], []]\n"
     ]
    }
   ],
   "source": [
    "nums = [1, 2, 3, 4, 5]\n",
    "\n",
    "answer_list = []\n",
    "\n",
    "def combi(n, ans):\n",
    "    if n == len(nums):\n",
    "        temp = [i for i in ans]\n",
    "        answer_list.append(temp)\n",
    "        return\n",
    "    ans.append(nums[n])\n",
    "    combi(n + 1, ans)\n",
    "    ans.pop()\n",
    "    combi(n + 1, ans)\n",
    "\n",
    "combi(0, [])\n",
    "print(answer_list)"
   ]
  },
  {
   "cell_type": "code",
   "execution_count": 228,
   "id": "b5242da4",
   "metadata": {},
   "outputs": [
    {
     "data": {
      "text/plain": [
       "[[(-7,), (-3,), (-2,), (5,), (8,)],\n",
       " [(-7, -3),\n",
       "  (-7, -2),\n",
       "  (-7, 5),\n",
       "  (-7, 8),\n",
       "  (-3, -7),\n",
       "  (-3, -2),\n",
       "  (-3, 5),\n",
       "  (-3, 8),\n",
       "  (-2, -7),\n",
       "  (-2, -3),\n",
       "  (-2, 5),\n",
       "  (-2, 8),\n",
       "  (5, -7),\n",
       "  (5, -3),\n",
       "  (5, -2),\n",
       "  (5, 8),\n",
       "  (8, -7),\n",
       "  (8, -3),\n",
       "  (8, -2),\n",
       "  (8, 5)],\n",
       " [(-7, -3, -2),\n",
       "  (-7, -3, 5),\n",
       "  (-7, -3, 8),\n",
       "  (-7, -2, -3),\n",
       "  (-7, -2, 5),\n",
       "  (-7, -2, 8),\n",
       "  (-7, 5, -3),\n",
       "  (-7, 5, -2),\n",
       "  (-7, 5, 8),\n",
       "  (-7, 8, -3),\n",
       "  (-7, 8, -2),\n",
       "  (-7, 8, 5),\n",
       "  (-3, -7, -2),\n",
       "  (-3, -7, 5),\n",
       "  (-3, -7, 8),\n",
       "  (-3, -2, -7),\n",
       "  (-3, -2, 5),\n",
       "  (-3, -2, 8),\n",
       "  (-3, 5, -7),\n",
       "  (-3, 5, -2),\n",
       "  (-3, 5, 8),\n",
       "  (-3, 8, -7),\n",
       "  (-3, 8, -2),\n",
       "  (-3, 8, 5),\n",
       "  (-2, -7, -3),\n",
       "  (-2, -7, 5),\n",
       "  (-2, -7, 8),\n",
       "  (-2, -3, -7),\n",
       "  (-2, -3, 5),\n",
       "  (-2, -3, 8),\n",
       "  (-2, 5, -7),\n",
       "  (-2, 5, -3),\n",
       "  (-2, 5, 8),\n",
       "  (-2, 8, -7),\n",
       "  (-2, 8, -3),\n",
       "  (-2, 8, 5),\n",
       "  (5, -7, -3),\n",
       "  (5, -7, -2),\n",
       "  (5, -7, 8),\n",
       "  (5, -3, -7),\n",
       "  (5, -3, -2),\n",
       "  (5, -3, 8),\n",
       "  (5, -2, -7),\n",
       "  (5, -2, -3),\n",
       "  (5, -2, 8),\n",
       "  (5, 8, -7),\n",
       "  (5, 8, -3),\n",
       "  (5, 8, -2),\n",
       "  (8, -7, -3),\n",
       "  (8, -7, -2),\n",
       "  (8, -7, 5),\n",
       "  (8, -3, -7),\n",
       "  (8, -3, -2),\n",
       "  (8, -3, 5),\n",
       "  (8, -2, -7),\n",
       "  (8, -2, -3),\n",
       "  (8, -2, 5),\n",
       "  (8, 5, -7),\n",
       "  (8, 5, -3),\n",
       "  (8, 5, -2)],\n",
       " [(-7, -3, -2, 5),\n",
       "  (-7, -3, -2, 8),\n",
       "  (-7, -3, 5, -2),\n",
       "  (-7, -3, 5, 8),\n",
       "  (-7, -3, 8, -2),\n",
       "  (-7, -3, 8, 5),\n",
       "  (-7, -2, -3, 5),\n",
       "  (-7, -2, -3, 8),\n",
       "  (-7, -2, 5, -3),\n",
       "  (-7, -2, 5, 8),\n",
       "  (-7, -2, 8, -3),\n",
       "  (-7, -2, 8, 5),\n",
       "  (-7, 5, -3, -2),\n",
       "  (-7, 5, -3, 8),\n",
       "  (-7, 5, -2, -3),\n",
       "  (-7, 5, -2, 8),\n",
       "  (-7, 5, 8, -3),\n",
       "  (-7, 5, 8, -2),\n",
       "  (-7, 8, -3, -2),\n",
       "  (-7, 8, -3, 5),\n",
       "  (-7, 8, -2, -3),\n",
       "  (-7, 8, -2, 5),\n",
       "  (-7, 8, 5, -3),\n",
       "  (-7, 8, 5, -2),\n",
       "  (-3, -7, -2, 5),\n",
       "  (-3, -7, -2, 8),\n",
       "  (-3, -7, 5, -2),\n",
       "  (-3, -7, 5, 8),\n",
       "  (-3, -7, 8, -2),\n",
       "  (-3, -7, 8, 5),\n",
       "  (-3, -2, -7, 5),\n",
       "  (-3, -2, -7, 8),\n",
       "  (-3, -2, 5, -7),\n",
       "  (-3, -2, 5, 8),\n",
       "  (-3, -2, 8, -7),\n",
       "  (-3, -2, 8, 5),\n",
       "  (-3, 5, -7, -2),\n",
       "  (-3, 5, -7, 8),\n",
       "  (-3, 5, -2, -7),\n",
       "  (-3, 5, -2, 8),\n",
       "  (-3, 5, 8, -7),\n",
       "  (-3, 5, 8, -2),\n",
       "  (-3, 8, -7, -2),\n",
       "  (-3, 8, -7, 5),\n",
       "  (-3, 8, -2, -7),\n",
       "  (-3, 8, -2, 5),\n",
       "  (-3, 8, 5, -7),\n",
       "  (-3, 8, 5, -2),\n",
       "  (-2, -7, -3, 5),\n",
       "  (-2, -7, -3, 8),\n",
       "  (-2, -7, 5, -3),\n",
       "  (-2, -7, 5, 8),\n",
       "  (-2, -7, 8, -3),\n",
       "  (-2, -7, 8, 5),\n",
       "  (-2, -3, -7, 5),\n",
       "  (-2, -3, -7, 8),\n",
       "  (-2, -3, 5, -7),\n",
       "  (-2, -3, 5, 8),\n",
       "  (-2, -3, 8, -7),\n",
       "  (-2, -3, 8, 5),\n",
       "  (-2, 5, -7, -3),\n",
       "  (-2, 5, -7, 8),\n",
       "  (-2, 5, -3, -7),\n",
       "  (-2, 5, -3, 8),\n",
       "  (-2, 5, 8, -7),\n",
       "  (-2, 5, 8, -3),\n",
       "  (-2, 8, -7, -3),\n",
       "  (-2, 8, -7, 5),\n",
       "  (-2, 8, -3, -7),\n",
       "  (-2, 8, -3, 5),\n",
       "  (-2, 8, 5, -7),\n",
       "  (-2, 8, 5, -3),\n",
       "  (5, -7, -3, -2),\n",
       "  (5, -7, -3, 8),\n",
       "  (5, -7, -2, -3),\n",
       "  (5, -7, -2, 8),\n",
       "  (5, -7, 8, -3),\n",
       "  (5, -7, 8, -2),\n",
       "  (5, -3, -7, -2),\n",
       "  (5, -3, -7, 8),\n",
       "  (5, -3, -2, -7),\n",
       "  (5, -3, -2, 8),\n",
       "  (5, -3, 8, -7),\n",
       "  (5, -3, 8, -2),\n",
       "  (5, -2, -7, -3),\n",
       "  (5, -2, -7, 8),\n",
       "  (5, -2, -3, -7),\n",
       "  (5, -2, -3, 8),\n",
       "  (5, -2, 8, -7),\n",
       "  (5, -2, 8, -3),\n",
       "  (5, 8, -7, -3),\n",
       "  (5, 8, -7, -2),\n",
       "  (5, 8, -3, -7),\n",
       "  (5, 8, -3, -2),\n",
       "  (5, 8, -2, -7),\n",
       "  (5, 8, -2, -3),\n",
       "  (8, -7, -3, -2),\n",
       "  (8, -7, -3, 5),\n",
       "  (8, -7, -2, -3),\n",
       "  (8, -7, -2, 5),\n",
       "  (8, -7, 5, -3),\n",
       "  (8, -7, 5, -2),\n",
       "  (8, -3, -7, -2),\n",
       "  (8, -3, -7, 5),\n",
       "  (8, -3, -2, -7),\n",
       "  (8, -3, -2, 5),\n",
       "  (8, -3, 5, -7),\n",
       "  (8, -3, 5, -2),\n",
       "  (8, -2, -7, -3),\n",
       "  (8, -2, -7, 5),\n",
       "  (8, -2, -3, -7),\n",
       "  (8, -2, -3, 5),\n",
       "  (8, -2, 5, -7),\n",
       "  (8, -2, 5, -3),\n",
       "  (8, 5, -7, -3),\n",
       "  (8, 5, -7, -2),\n",
       "  (8, 5, -3, -7),\n",
       "  (8, 5, -3, -2),\n",
       "  (8, 5, -2, -7),\n",
       "  (8, 5, -2, -3)],\n",
       " [(-7, -3, -2, 5, 8),\n",
       "  (-7, -3, -2, 8, 5),\n",
       "  (-7, -3, 5, -2, 8),\n",
       "  (-7, -3, 5, 8, -2),\n",
       "  (-7, -3, 8, -2, 5),\n",
       "  (-7, -3, 8, 5, -2),\n",
       "  (-7, -2, -3, 5, 8),\n",
       "  (-7, -2, -3, 8, 5),\n",
       "  (-7, -2, 5, -3, 8),\n",
       "  (-7, -2, 5, 8, -3),\n",
       "  (-7, -2, 8, -3, 5),\n",
       "  (-7, -2, 8, 5, -3),\n",
       "  (-7, 5, -3, -2, 8),\n",
       "  (-7, 5, -3, 8, -2),\n",
       "  (-7, 5, -2, -3, 8),\n",
       "  (-7, 5, -2, 8, -3),\n",
       "  (-7, 5, 8, -3, -2),\n",
       "  (-7, 5, 8, -2, -3),\n",
       "  (-7, 8, -3, -2, 5),\n",
       "  (-7, 8, -3, 5, -2),\n",
       "  (-7, 8, -2, -3, 5),\n",
       "  (-7, 8, -2, 5, -3),\n",
       "  (-7, 8, 5, -3, -2),\n",
       "  (-7, 8, 5, -2, -3),\n",
       "  (-3, -7, -2, 5, 8),\n",
       "  (-3, -7, -2, 8, 5),\n",
       "  (-3, -7, 5, -2, 8),\n",
       "  (-3, -7, 5, 8, -2),\n",
       "  (-3, -7, 8, -2, 5),\n",
       "  (-3, -7, 8, 5, -2),\n",
       "  (-3, -2, -7, 5, 8),\n",
       "  (-3, -2, -7, 8, 5),\n",
       "  (-3, -2, 5, -7, 8),\n",
       "  (-3, -2, 5, 8, -7),\n",
       "  (-3, -2, 8, -7, 5),\n",
       "  (-3, -2, 8, 5, -7),\n",
       "  (-3, 5, -7, -2, 8),\n",
       "  (-3, 5, -7, 8, -2),\n",
       "  (-3, 5, -2, -7, 8),\n",
       "  (-3, 5, -2, 8, -7),\n",
       "  (-3, 5, 8, -7, -2),\n",
       "  (-3, 5, 8, -2, -7),\n",
       "  (-3, 8, -7, -2, 5),\n",
       "  (-3, 8, -7, 5, -2),\n",
       "  (-3, 8, -2, -7, 5),\n",
       "  (-3, 8, -2, 5, -7),\n",
       "  (-3, 8, 5, -7, -2),\n",
       "  (-3, 8, 5, -2, -7),\n",
       "  (-2, -7, -3, 5, 8),\n",
       "  (-2, -7, -3, 8, 5),\n",
       "  (-2, -7, 5, -3, 8),\n",
       "  (-2, -7, 5, 8, -3),\n",
       "  (-2, -7, 8, -3, 5),\n",
       "  (-2, -7, 8, 5, -3),\n",
       "  (-2, -3, -7, 5, 8),\n",
       "  (-2, -3, -7, 8, 5),\n",
       "  (-2, -3, 5, -7, 8),\n",
       "  (-2, -3, 5, 8, -7),\n",
       "  (-2, -3, 8, -7, 5),\n",
       "  (-2, -3, 8, 5, -7),\n",
       "  (-2, 5, -7, -3, 8),\n",
       "  (-2, 5, -7, 8, -3),\n",
       "  (-2, 5, -3, -7, 8),\n",
       "  (-2, 5, -3, 8, -7),\n",
       "  (-2, 5, 8, -7, -3),\n",
       "  (-2, 5, 8, -3, -7),\n",
       "  (-2, 8, -7, -3, 5),\n",
       "  (-2, 8, -7, 5, -3),\n",
       "  (-2, 8, -3, -7, 5),\n",
       "  (-2, 8, -3, 5, -7),\n",
       "  (-2, 8, 5, -7, -3),\n",
       "  (-2, 8, 5, -3, -7),\n",
       "  (5, -7, -3, -2, 8),\n",
       "  (5, -7, -3, 8, -2),\n",
       "  (5, -7, -2, -3, 8),\n",
       "  (5, -7, -2, 8, -3),\n",
       "  (5, -7, 8, -3, -2),\n",
       "  (5, -7, 8, -2, -3),\n",
       "  (5, -3, -7, -2, 8),\n",
       "  (5, -3, -7, 8, -2),\n",
       "  (5, -3, -2, -7, 8),\n",
       "  (5, -3, -2, 8, -7),\n",
       "  (5, -3, 8, -7, -2),\n",
       "  (5, -3, 8, -2, -7),\n",
       "  (5, -2, -7, -3, 8),\n",
       "  (5, -2, -7, 8, -3),\n",
       "  (5, -2, -3, -7, 8),\n",
       "  (5, -2, -3, 8, -7),\n",
       "  (5, -2, 8, -7, -3),\n",
       "  (5, -2, 8, -3, -7),\n",
       "  (5, 8, -7, -3, -2),\n",
       "  (5, 8, -7, -2, -3),\n",
       "  (5, 8, -3, -7, -2),\n",
       "  (5, 8, -3, -2, -7),\n",
       "  (5, 8, -2, -7, -3),\n",
       "  (5, 8, -2, -3, -7),\n",
       "  (8, -7, -3, -2, 5),\n",
       "  (8, -7, -3, 5, -2),\n",
       "  (8, -7, -2, -3, 5),\n",
       "  (8, -7, -2, 5, -3),\n",
       "  (8, -7, 5, -3, -2),\n",
       "  (8, -7, 5, -2, -3),\n",
       "  (8, -3, -7, -2, 5),\n",
       "  (8, -3, -7, 5, -2),\n",
       "  (8, -3, -2, -7, 5),\n",
       "  (8, -3, -2, 5, -7),\n",
       "  (8, -3, 5, -7, -2),\n",
       "  (8, -3, 5, -2, -7),\n",
       "  (8, -2, -7, -3, 5),\n",
       "  (8, -2, -7, 5, -3),\n",
       "  (8, -2, -3, -7, 5),\n",
       "  (8, -2, -3, 5, -7),\n",
       "  (8, -2, 5, -7, -3),\n",
       "  (8, -2, 5, -3, -7),\n",
       "  (8, 5, -7, -3, -2),\n",
       "  (8, 5, -7, -2, -3),\n",
       "  (8, 5, -3, -7, -2),\n",
       "  (8, 5, -3, -2, -7),\n",
       "  (8, 5, -2, -7, -3),\n",
       "  (8, 5, -2, -3, -7)]]"
      ]
     },
     "execution_count": 228,
     "metadata": {},
     "output_type": "execute_result"
    }
   ],
   "source": [
    "a"
   ]
  },
  {
   "cell_type": "code",
   "execution_count": 220,
   "id": "7307a690",
   "metadata": {},
   "outputs": [
    {
     "name": "stdout",
     "output_type": "stream",
     "text": [
      "1 1 2\n",
      "2\n"
     ]
    }
   ],
   "source": [
    "#11. 부재중 전화\n",
    "n,l,d=map(int,input().split())\n",
    "count=0\n",
    "for i in range(n):\n",
    "    for j in range(n):\n",
    "        if l*(i+1)+5*i<d*j<l*(i+1)+5*(i+1):\n",
    "            count+=1\n",
    "            break\n",
    "    if count==1:\n",
    "        break\n",
    "if count==0:\n",
    "    print(d*(((l*(i+1)+5*i)//d)+1))\n",
    "else:\n",
    "    print(d*j)"
   ]
  },
  {
   "cell_type": "code",
   "execution_count": 29,
   "id": "d5e92b74",
   "metadata": {},
   "outputs": [
    {
     "name": "stdout",
     "output_type": "stream",
     "text": [
      "3 5\n",
      "2\n",
      "1\n",
      "3\n",
      "3\n",
      "3\n",
      "2\n",
      "2\n",
      "4\n",
      "3\n",
      "0\n",
      "1\n",
      "1\n",
      "1\n"
     ]
    }
   ],
   "source": [
    "#12. 노래 악보\n",
    "n,q=map(int,input().split())\n",
    "nl=[0]\n",
    "for i in range(n):\n",
    "    nl.append(nl[-1]+int(input()))\n",
    "for i in range(q):\n",
    "    x=int(input())\n",
    "    for j in range(1,len(nl)):\n",
    "        if nl[j-1]<=x<nl[j]:\n",
    "            print(j)\n",
    "            break"
   ]
  },
  {
   "cell_type": "code",
   "execution_count": 38,
   "id": "fbfdd1da",
   "metadata": {},
   "outputs": [
    {
     "name": "stdout",
     "output_type": "stream",
     "text": [
      "15 4 9\n",
      "15\n"
     ]
    }
   ],
   "source": [
    "#13. 영식이와 친구들\n",
    "n,m,l=map(int,input().split())\n",
    "nl=[1]+[0]*(n-1)\n",
    "count=0\n",
    "i=0\n",
    "while True:\n",
    "    if nl.count(m)>0:\n",
    "        break\n",
    "    if nl[i]%2==1:\n",
    "        i=i+l\n",
    "        if i>n-1:\n",
    "            i-=n\n",
    "        nl[i]+=1\n",
    "        count+=1\n",
    "    else:\n",
    "        i=i-l\n",
    "        if i<-n:\n",
    "            i+=n\n",
    "        nl[i]+=1\n",
    "        count+=1\n",
    "\n",
    "\n",
    "print(count)"
   ]
  },
  {
   "cell_type": "code",
   "execution_count": 44,
   "id": "9cc5c7e4",
   "metadata": {},
   "outputs": [
    {
     "name": "stdout",
     "output_type": "stream",
     "text": [
      "2\n",
      "ABC-0123\n",
      "nice\n",
      "AAA-9999\n",
      "not nice\n"
     ]
    }
   ],
   "source": [
    "#14. 좋은 자동차 번호판\n",
    "alpha='ABCDEFGHIJKLMNOPQRSTUVWXYZ'\n",
    "for i in range(int(input())):\n",
    "    x=0\n",
    "    a=input().split('-')\n",
    "    y=int(a[1])\n",
    "    x+=(26**2)*alpha.index(a[0][0])+(26**1)*alpha.index(a[0][1])+(26**0)*alpha.index(a[0][2])\n",
    "    if abs(x-y)<=100:\n",
    "        print('nice')\n",
    "    else:\n",
    "        print('not nice')"
   ]
  },
  {
   "cell_type": "code",
   "execution_count": 67,
   "id": "b0ed89ce",
   "metadata": {},
   "outputs": [
    {
     "name": "stdout",
     "output_type": "stream",
     "text": [
      "1 2 4 4\n",
      "2 3 5 7\n",
      "3 1 6 5\n",
      "7 3 8 6\n",
      "26\n"
     ]
    }
   ],
   "source": [
    "#15. 직사각형 네개의 합집합의 면적 구하기\n",
    "a=[[0]*101]\n",
    "count=0\n",
    "for i in range(100):\n",
    "    a+=[[0]*101]\n",
    "for i in range(4):\n",
    "    x,y,x1,y1=map(int,input().split())\n",
    "    for j in range(y,y1):\n",
    "        for l in range(x,x1):\n",
    "            a[j][l]+=1\n",
    "for i in range(101):\n",
    "    for j in range(101):\n",
    "        if a[i][j]>0:\n",
    "            count+=1\n",
    "print(count)"
   ]
  },
  {
   "cell_type": "code",
   "execution_count": 215,
   "id": "1331ef05",
   "metadata": {},
   "outputs": [
    {
     "name": "stdout",
     "output_type": "stream",
     "text": [
      "3 2\n",
      "3 4 2 5\n",
      "1 2 0 10\n",
      "6 5 5 8\n",
      "0 6\n",
      "3\n",
      "8 2\n",
      "2\n",
      "1 2\n",
      "8 9 0 10\n",
      "9 1\n",
      "1\n",
      "10 1\n",
      "0\n",
      "0 0\n"
     ]
    }
   ],
   "source": [
    "#16. 행복한 전화 통화\n",
    "while True:\n",
    "    n,m=map(int,input().split())\n",
    "    l=[]\n",
    "    if n==0 and m==0:\n",
    "        break\n",
    "        \n",
    "    for i in range(n):\n",
    "        so,de,st,du=map(int,input().split())\n",
    "        l.append([st,st+du-1])\n",
    "    for i in range(m):\n",
    "        count=0\n",
    "        start,duration=map(int,input().split())\n",
    "        for j in range(n):\n",
    "            if start>l[j][1] or start+duration<=l[j][0]:\n",
    "                pass\n",
    "            else:\n",
    "                count+=1\n",
    "        print(count)"
   ]
  },
  {
   "cell_type": "code",
   "execution_count": null,
   "id": "b1a4f8a9",
   "metadata": {},
   "outputs": [],
   "source": [
    "# 17. 조옮김\n",
    "a='A A# B C C# D D# E F F# G G#'.split()\n",
    "while True:\n",
    "    b=input().split()\n",
    "    if b==['***']:\n",
    "        break\n",
    "    c=int(input())\n",
    "    b_=[]\n",
    "    for i in range(len(b)):\n",
    "        if b[i][-1]=='b':\n",
    "            b[i]=a[a.index(b[i][0])-1]\n",
    "        elif b[i]=='E#':\n",
    "            b[i]='F'\n",
    "        elif b[i]=='B#':\n",
    "            b[i]='C'\n",
    "    for i in range(len(b)):\n",
    "        if c==1:\n",
    "            if a.index(b[i])+1==12:\n",
    "                b_.append(a[0])\n",
    "            else:\n",
    "                b_.append(a[a.index(b[i])+1])\n",
    "        else:\n",
    "            b_.append(a[a.index(b[i])-1])\n",
    "    print(*b_)"
   ]
  },
  {
   "cell_type": "code",
   "execution_count": 203,
   "id": "a2c17a9b",
   "metadata": {},
   "outputs": [
    {
     "name": "stdout",
     "output_type": "stream",
     "text": [
      "2014-04-02 160\n",
      "2014-09-08\n"
     ]
    }
   ],
   "source": [
    "#18. 기념일 2\n",
    "m=[1,2,3,4,5,6,7,8,9,10,11,12]\n",
    "d=[31,28,31,30,31,30,31,31,30,31,30,31]\n",
    "d_=[31,29,31,30,31,30,31,31,30,31,30,31]\n",
    "a=input().split()\n",
    "b=list(map(int,a[0].split('-')))\n",
    "c=int(a[1])-1\n",
    "\n",
    "while True:\n",
    "    if c==0:\n",
    "        break\n",
    "    b[2]+=1\n",
    "    c-=1\n",
    "    if (b[0]%4==0 and b[0]%100!=0) or b[0]%400==0:\n",
    "        if d_[m.index(b[1])]+1==b[2]:\n",
    "            b[2]-=d_[m.index(b[1])]\n",
    "            b[1]+=1\n",
    "    else:\n",
    "        if d[m.index(b[1])]+1==b[2]:\n",
    "            b[2]-=d[m.index(b[1])]\n",
    "            b[1]+=1\n",
    "    if b[1]==13:\n",
    "        b[0]+=1\n",
    "        b[1]-=12\n",
    "for i in range(3):\n",
    "    b[i]=str(b[i])\n",
    "if len(b[1])==1:\n",
    "    b[1]='0'+b[1]\n",
    "if len(b[2])==1:\n",
    "    b[2]='0'+b[2]\n",
    "print(b[0]+'-'+b[1]+'-'+b[2])"
   ]
  },
  {
   "cell_type": "code",
   "execution_count": 237,
   "id": "2f3bb21d",
   "metadata": {},
   "outputs": [
    {
     "name": "stdout",
     "output_type": "stream",
     "text": [
      "2\n",
      "4 5\n",
      "1 0\n"
     ]
    }
   ],
   "source": [
    "#19. 짝수? 홀수?\n",
    "import math\n",
    "c=int(input())\n",
    "a=list(map(int,input().split()))\n",
    "b=[]\n",
    "for i in range(c):\n",
    "    if math.sqrt(a[i])==int(math.sqrt(a[i])) and  math.sqrt(a[i])**2==a[i]:\n",
    "        b.append(1)\n",
    "    else:\n",
    "        b.append(0)\n",
    "print(*b)"
   ]
  },
  {
   "cell_type": "code",
   "execution_count": 236,
   "id": "8643d1cb",
   "metadata": {},
   "outputs": [
    {
     "data": {
      "text/plain": [
       "True"
      ]
     },
     "execution_count": 236,
     "metadata": {},
     "output_type": "execute_result"
    }
   ],
   "source": [
    "math.sqrt(101)**2==101"
   ]
  },
  {
   "cell_type": "code",
   "execution_count": null,
   "id": "4f70ee32",
   "metadata": {},
   "outputs": [],
   "source": [
    "#19. 짝수? 홀수?\n",
    "c=int(input())\n",
    "a=list(map(int,input().split()))\n",
    "b=[]\n",
    "for i in range(c):\n",
    "    if (a[i]**2)**0.5==a[i]:\n",
    "        b.append(1)\n",
    "    else:\n",
    "        b.append(0)\n",
    "print(*b)"
   ]
  }
 ],
 "metadata": {
  "kernelspec": {
   "display_name": "Python 3 (ipykernel)",
   "language": "python",
   "name": "python3"
  },
  "language_info": {
   "codemirror_mode": {
    "name": "ipython",
    "version": 3
   },
   "file_extension": ".py",
   "mimetype": "text/x-python",
   "name": "python",
   "nbconvert_exporter": "python",
   "pygments_lexer": "ipython3",
   "version": "3.9.12"
  }
 },
 "nbformat": 4,
 "nbformat_minor": 5
}

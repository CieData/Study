{
 "cells": [
  {
   "cell_type": "markdown",
   "metadata": {
    "id": "QOuwET5_7Ydp"
   },
   "source": [
    "# **Mission #1**"
   ]
  },
  {
   "cell_type": "code",
   "execution_count": null,
   "metadata": {
    "colab": {
     "base_uri": "https://localhost:8080/"
    },
    "id": "sYyMqCT9cbF8",
    "outputId": "dc99a67d-659f-44ab-ba39-0b8c944ceec5"
   },
   "outputs": [
    {
     "name": "stdout",
     "output_type": "stream",
     "text": [
      "Mounted at /content/drive\n"
     ]
    }
   ],
   "source": [
    "from google.colab import drive\n",
    "drive.mount('/content/drive')"
   ]
  },
  {
   "cell_type": "code",
   "execution_count": 33,
   "metadata": {
    "id": "oqAWA2oM5OZ_"
   },
   "outputs": [],
   "source": [
    "import tensorflow as tf\n",
    "import pandas as pd\n",
    "import numpy as np\n",
    "import matplotlib.pyplot as plt\n",
    "import glob\n",
    "import os\n",
    "from PIL import Image\n",
    "import cv2\n",
    "import seaborn as sns"
   ]
  },
  {
   "cell_type": "markdown",
   "metadata": {
    "id": "egXMfGXr44H-"
   },
   "source": [
    "###1. EDA수행 (10)"
   ]
  },
  {
   "cell_type": "code",
   "execution_count": 34,
   "metadata": {
    "id": "HbyS5WPF44V3"
   },
   "outputs": [],
   "source": [
    "img_dir = 'C:/Users/hoon3/크롤링/이미지/'\n",
    "categoris = os.listdir(img_dir)\n",
    "nb_categoris = len(categoris)"
   ]
  },
  {
   "cell_type": "code",
   "execution_count": 35,
   "metadata": {
    "colab": {
     "base_uri": "https://localhost:8080/"
    },
    "id": "IVPFqtPt44p-",
    "outputId": "9f3bbf70-84fd-4b66-bd40-bff12041d924"
   },
   "outputs": [
    {
     "name": "stdout",
     "output_type": "stream",
     "text": [
      "audi : 233개\n",
      "benz : 376개\n",
      "bmw : 534개\n",
      "ferrari : 292개\n",
      "hyundai : 270개\n",
      "클래스의 개수는 5개 입니다\n",
      "전체 데이터 개수는 1705개 입니다.\n"
     ]
    }
   ],
   "source": [
    "import os\n",
    "img_dir = 'C:/Users/hoon3/크롤링/이미지/'\n",
    "categoris = os.listdir(img_dir)\n",
    "image_total=0\n",
    "count_list=[]\n",
    "\n",
    "def folder_image_count(path):\n",
    "    image_count = os.listdir(path)\n",
    "    return len(image_count)\n",
    "\n",
    "for i in range(nb_categoris):\n",
    "    count=folder_image_count(img_dir+categoris[i])\n",
    "    print(\"{0} : {1}개\".format(categoris[i],count))\n",
    "    image_total+=count\n",
    "    count_list.append(count)\n",
    "print(\"클래스의 개수는 {0}개 입니다\".format(nb_categoris))\n",
    "print(\"전체 데이터 개수는 {0}개 입니다.\".format(image_total))"
   ]
  },
  {
   "cell_type": "code",
   "execution_count": 36,
   "metadata": {
    "id": "w_ImTqmJ94sS"
   },
   "outputs": [],
   "source": [
    "import math\n",
    "percent_list=[]\n",
    "for i in range(nb_categoris):\n",
    "  percent=count_list[i] / image_total * 100\n",
    "  percent=round(percent,3)\n",
    "  percent_list.append(percent)"
   ]
  },
  {
   "cell_type": "code",
   "execution_count": 37,
   "metadata": {
    "colab": {
     "base_uri": "https://localhost:8080/"
    },
    "id": "IIf3Lowd44yQ",
    "outputId": "e54b2c89-b304-46fa-c005-e4b7fa397e47"
   },
   "outputs": [
    {
     "name": "stdout",
     "output_type": "stream",
     "text": [
      "[233, 376, 534, 292, 270]\n"
     ]
    }
   ],
   "source": [
    "print(count_list)"
   ]
  },
  {
   "cell_type": "code",
   "execution_count": 38,
   "metadata": {
    "colab": {
     "base_uri": "https://localhost:8080/"
    },
    "id": "b7irKrjx447J",
    "outputId": "d471e555-6462-4e29-d7c3-1297fea42a18"
   },
   "outputs": [
    {
     "name": "stdout",
     "output_type": "stream",
     "text": [
      "['audi', 'benz', 'bmw', 'ferrari', 'hyundai']\n"
     ]
    }
   ],
   "source": [
    "print(categoris)"
   ]
  },
  {
   "cell_type": "code",
   "execution_count": 39,
   "metadata": {
    "colab": {
     "base_uri": "https://localhost:8080/",
     "height": 143
    },
    "id": "xgIFs15C45Ef",
    "outputId": "7565f1bc-4063-4b87-9281-3fcfb97b5ad4"
   },
   "outputs": [
    {
     "data": {
      "text/html": [
       "<div>\n",
       "<style scoped>\n",
       "    .dataframe tbody tr th:only-of-type {\n",
       "        vertical-align: middle;\n",
       "    }\n",
       "\n",
       "    .dataframe tbody tr th {\n",
       "        vertical-align: top;\n",
       "    }\n",
       "\n",
       "    .dataframe thead th {\n",
       "        text-align: right;\n",
       "    }\n",
       "</style>\n",
       "<table border=\"1\" class=\"dataframe\">\n",
       "  <thead>\n",
       "    <tr style=\"text-align: right;\">\n",
       "      <th></th>\n",
       "      <th>0</th>\n",
       "      <th>1</th>\n",
       "      <th>2</th>\n",
       "      <th>3</th>\n",
       "      <th>4</th>\n",
       "    </tr>\n",
       "  </thead>\n",
       "  <tbody>\n",
       "    <tr>\n",
       "      <th>Category</th>\n",
       "      <td>audi</td>\n",
       "      <td>benz</td>\n",
       "      <td>bmw</td>\n",
       "      <td>ferrari</td>\n",
       "      <td>hyundai</td>\n",
       "    </tr>\n",
       "    <tr>\n",
       "      <th>Count</th>\n",
       "      <td>233</td>\n",
       "      <td>376</td>\n",
       "      <td>534</td>\n",
       "      <td>292</td>\n",
       "      <td>270</td>\n",
       "    </tr>\n",
       "    <tr>\n",
       "      <th>Percent</th>\n",
       "      <td>13.666</td>\n",
       "      <td>22.053</td>\n",
       "      <td>31.32</td>\n",
       "      <td>17.126</td>\n",
       "      <td>15.836</td>\n",
       "    </tr>\n",
       "  </tbody>\n",
       "</table>\n",
       "</div>"
      ],
      "text/plain": [
       "               0       1      2        3        4\n",
       "Category    audi    benz    bmw  ferrari  hyundai\n",
       "Count        233     376    534      292      270\n",
       "Percent   13.666  22.053  31.32   17.126   15.836"
      ]
     },
     "execution_count": 39,
     "metadata": {},
     "output_type": "execute_result"
    }
   ],
   "source": [
    "dataframe=pd.DataFrame({\"Category\":categoris,\n",
    "                      \"Count\": count_list,\n",
    "                      \"Percent\": percent_list} )\n",
    "dataframe.T"
   ]
  },
  {
   "cell_type": "code",
   "execution_count": 40,
   "metadata": {
    "colab": {
     "base_uri": "https://localhost:8080/",
     "height": 300
    },
    "id": "xXR2nnHACDgs",
    "outputId": "978bf0d9-6948-4115-9740-3d9f1b5503f0"
   },
   "outputs": [
    {
     "data": {
      "text/html": [
       "<div>\n",
       "<style scoped>\n",
       "    .dataframe tbody tr th:only-of-type {\n",
       "        vertical-align: middle;\n",
       "    }\n",
       "\n",
       "    .dataframe tbody tr th {\n",
       "        vertical-align: top;\n",
       "    }\n",
       "\n",
       "    .dataframe thead th {\n",
       "        text-align: right;\n",
       "    }\n",
       "</style>\n",
       "<table border=\"1\" class=\"dataframe\">\n",
       "  <thead>\n",
       "    <tr style=\"text-align: right;\">\n",
       "      <th></th>\n",
       "      <th>Count</th>\n",
       "      <th>Percent</th>\n",
       "    </tr>\n",
       "  </thead>\n",
       "  <tbody>\n",
       "    <tr>\n",
       "      <th>count</th>\n",
       "      <td>5.000000</td>\n",
       "      <td>5.000000</td>\n",
       "    </tr>\n",
       "    <tr>\n",
       "      <th>mean</th>\n",
       "      <td>341.000000</td>\n",
       "      <td>20.000200</td>\n",
       "    </tr>\n",
       "    <tr>\n",
       "      <th>std</th>\n",
       "      <td>119.979165</td>\n",
       "      <td>7.036966</td>\n",
       "    </tr>\n",
       "    <tr>\n",
       "      <th>min</th>\n",
       "      <td>233.000000</td>\n",
       "      <td>13.666000</td>\n",
       "    </tr>\n",
       "    <tr>\n",
       "      <th>25%</th>\n",
       "      <td>270.000000</td>\n",
       "      <td>15.836000</td>\n",
       "    </tr>\n",
       "    <tr>\n",
       "      <th>50%</th>\n",
       "      <td>292.000000</td>\n",
       "      <td>17.126000</td>\n",
       "    </tr>\n",
       "    <tr>\n",
       "      <th>75%</th>\n",
       "      <td>376.000000</td>\n",
       "      <td>22.053000</td>\n",
       "    </tr>\n",
       "    <tr>\n",
       "      <th>max</th>\n",
       "      <td>534.000000</td>\n",
       "      <td>31.320000</td>\n",
       "    </tr>\n",
       "  </tbody>\n",
       "</table>\n",
       "</div>"
      ],
      "text/plain": [
       "            Count    Percent\n",
       "count    5.000000   5.000000\n",
       "mean   341.000000  20.000200\n",
       "std    119.979165   7.036966\n",
       "min    233.000000  13.666000\n",
       "25%    270.000000  15.836000\n",
       "50%    292.000000  17.126000\n",
       "75%    376.000000  22.053000\n",
       "max    534.000000  31.320000"
      ]
     },
     "execution_count": 40,
     "metadata": {},
     "output_type": "execute_result"
    }
   ],
   "source": [
    "dataframe.describe()"
   ]
  },
  {
   "cell_type": "code",
   "execution_count": 41,
   "metadata": {
    "colab": {
     "base_uri": "https://localhost:8080/",
     "height": 265
    },
    "id": "7pzKwV3eCS3d",
    "outputId": "3a20585b-03ed-4e8f-dc89-c325fb333cbc"
   },
   "outputs": [
    {
     "data": {
      "image/png": "[encoded data removed]",
      "text/plain": [
       "<Figure size 1080x576 with 1 Axes>"
      ]
     },
     "metadata": {},
     "output_type": "display_data"
    }
   ],
   "source": [
    "plt.boxplot(count_list)\n",
    "plt.rcParams['figure.figsize'] = [3, 5]\n",
    "plt.show()"
   ]
  },
  {
   "cell_type": "code",
   "execution_count": 42,
   "metadata": {
    "colab": {
     "base_uri": "https://localhost:8080/",
     "height": 523
    },
    "id": "M1unKSmP45YH",
    "outputId": "3d33fa38-c085-4712-f342-9d260f92af87"
   },
   "outputs": [
    {
     "data": {
      "image/png": "[encoded data removed]",
      "text/plain": [
       "<Figure size 1080x576 with 1 Axes>"
      ]
     },
     "metadata": {},
     "output_type": "display_data"
    }
   ],
   "source": [
    "sns.set(rc={'figure.figsize':(15,8)})\n",
    "fig = sns.barplot(x='Category',y='Count',data=dataframe)\n",
    "plt.xticks(rotation=45)\n",
    "plt.show()"
   ]
  },
  {
   "cell_type": "code",
   "execution_count": 43,
   "metadata": {
    "id": "pJgd-L1m6Ymv"
   },
   "outputs": [
    {
     "data": {
      "image/png": "[encoded data removed]",
      "text/plain": [
       "<Figure size 1080x576 with 1 Axes>"
      ]
     },
     "metadata": {},
     "output_type": "display_data"
    }
   ],
   "source": [
    "fig= plt.bar(categoris,count_list)\n",
    "plt.xticks(rotation=45)\n",
    "plt.show()"
   ]
  },
  {
   "cell_type": "markdown",
   "metadata": {
    "id": "U0mb60lq2DrA"
   },
   "source": [
    "### EDA 프로그램 출처\n",
    "https://github.com/Soongja/basic-image-eda"
   ]
  },
  {
   "cell_type": "markdown",
   "metadata": {
    "id": "3FK7otS-9Tbw"
   },
   "source": [
    "![EDA.png](data:image/png;base64,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)"
   ]
  },
  {
   "cell_type": "code",
   "execution_count": 44,
   "metadata": {
    "id": "I-mEV6cQc4P8"
   },
   "outputs": [
    {
     "name": "stdout",
     "output_type": "stream",
     "text": [
      "C:\\Users\\hoon3\\크롤링\n"
     ]
    }
   ],
   "source": [
    "print(os.getcwd())"
   ]
  },
  {
   "cell_type": "code",
   "execution_count": 61,
   "metadata": {
    "id": "duzXFOjUc4Gd"
   },
   "outputs": [
    {
     "ename": "AttributeError",
     "evalue": "'NoneType' object has no attribute 'shape'",
     "output_type": "error",
     "traceback": [
      "\u001b[1;31m---------------------------------------------------------------------------\u001b[0m",
      "\u001b[1;31mAttributeError\u001b[0m                            Traceback (most recent call last)",
      "Input \u001b[1;32mIn [61]\u001b[0m, in \u001b[0;36m<cell line: 10>\u001b[1;34m()\u001b[0m\n\u001b[0;32m     20\u001b[0m     img \u001b[38;5;241m=\u001b[39m cv2\u001b[38;5;241m.\u001b[39mimread(a[j], cv2\u001b[38;5;241m.\u001b[39mIMREAD_UNCHANGED) \u001b[38;5;66;03m#cv2.IMREAD_UNCHANGED 해당 옵션이 있어야 채널값이 4인 데이터 분별 가능 \u001b[39;00m\n\u001b[0;32m     21\u001b[0m \u001b[38;5;66;03m#     if img.ndim ==2: # 흑백 이미지의 경우 채널값이 없는 2차원 배열이므로 조건문처리\u001b[39;00m\n\u001b[0;32m     22\u001b[0m \u001b[38;5;66;03m#       w, h = img.shape\u001b[39;00m\n\u001b[0;32m     23\u001b[0m \u001b[38;5;66;03m#       c=1\u001b[39;00m\n\u001b[0;32m     24\u001b[0m \u001b[38;5;66;03m#     else:\u001b[39;00m\n\u001b[1;32m---> 25\u001b[0m     w, h, c \u001b[38;5;241m=\u001b[39m \u001b[43mimg\u001b[49m\u001b[38;5;241;43m.\u001b[39;49m\u001b[43mshape\u001b[49m\n\u001b[0;32m     26\u001b[0m     cat_list\u001b[38;5;241m.\u001b[39mappend(cat)\n\u001b[0;32m     27\u001b[0m     img_name_list\u001b[38;5;241m.\u001b[39mappend(img_name)\n",
      "\u001b[1;31mAttributeError\u001b[0m: 'NoneType' object has no attribute 'shape'"
     ]
    }
   ],
   "source": [
    "import glob\n",
    "#print(nb_categoris)\n",
    "img_name_list=[] # 파일명 리스트\n",
    "channel_list=[]  # 영상 채널 리스트\n",
    "ext_list=[] # 확장자 리스트\n",
    "width_list=[] # 영상 데이터 가로 길이\n",
    "height_list=[] # 영상 데이터 세로 길이\n",
    "cat_list=[] # 클래스\n",
    "path_list=[] # 이미지 경로\n",
    "for i in range(nb_categoris):\n",
    "  a=glob.glob(img_dir+categoris[i]+'/*')\n",
    "  for j in range(len(a)):\n",
    "    cat_img_name= a[j].split('/')[-2:]\n",
    "    img_name=cat_img_name[-1]\n",
    "    cat=cat_img_name[0]\n",
    "    ext=img_name.split('.')[-1]\n",
    "    #print(cat)\n",
    "    #print(img_name)\n",
    "    #print(ext)\n",
    "    img = cv2.imread(a[j], cv2.IMREAD_UNCHANGED) #cv2.IMREAD_UNCHANGED 해당 옵션이 있어야 채널값이 4인 데이터 분별 가능 \n",
    "#     if img.ndim ==2: # 흑백 이미지의 경우 채널값이 없는 2차원 배열이므로 조건문처리\n",
    "#       w, h = img.shape\n",
    "#       c=1\n",
    "#     else:\n",
    "    w, h, c = img.shape\n",
    "    cat_list.append(cat)\n",
    "    img_name_list.append(img_name)\n",
    "    ext_list.append(ext)\n",
    "    width_list.append(w)\n",
    "    height_list.append(h)\n",
    "    channel_list.append(c)\n",
    "    path_list.append(a[j])"
   ]
  },
  {
   "cell_type": "code",
   "execution_count": 57,
   "metadata": {},
   "outputs": [
    {
     "data": {
      "text/plain": [
       "'C:/Users/hoon3/크롤링/이미지/audi\\\\102아우디.jpg'"
      ]
     },
     "execution_count": 57,
     "metadata": {},
     "output_type": "execute_result"
    }
   ],
   "source": [
    "a[j]"
   ]
  },
  {
   "cell_type": "code",
   "execution_count": 63,
   "metadata": {},
   "outputs": [],
   "source": [
    "img = cv2.imread(a[j], cv2.IMREAD_UNCHANGED)"
   ]
  },
  {
   "cell_type": "code",
   "execution_count": null,
   "metadata": {
    "id": "zcapEa0kc33F"
   },
   "outputs": [],
   "source": [
    "# img_info=pd.DataFrame({\"IMG_ID\":img_name_list,\n",
    "#                        \"Category\": cat_list,\n",
    "#                       \"Extension\": ext_list,\n",
    "#                       \"Width\": width_list,\n",
    "#                       \"Height\": height_list,\n",
    "#                       \"Channel\": channel_list,\n",
    "#                        \"Path\": path_list} )\n",
    "# img_info"
   ]
  },
  {
   "cell_type": "code",
   "execution_count": null,
   "metadata": {
    "id": "xRVlwfjSKtjf"
   },
   "outputs": [],
   "source": [
    "#img_info.to_csv('./drive/MyDrive/img_info2.csv',index=False)"
   ]
  },
  {
   "cell_type": "code",
   "execution_count": null,
   "metadata": {
    "id": "OTIGVw7P5J2P"
   },
   "outputs": [],
   "source": [
    "img_info=pd.read_csv(\"./drive/MyDrive/img_info2.csv\")"
   ]
  },
  {
   "cell_type": "code",
   "execution_count": null,
   "metadata": {
    "colab": {
     "base_uri": "https://localhost:8080/",
     "height": 424
    },
    "id": "D0pMBzQIvowL",
    "outputId": "b49d508b-5b1c-4b00-90a7-1b341d372d7e"
   },
   "outputs": [
    {
     "data": {
      "text/html": [
       "\n",
       "  <div id=\"df-778d2741-9b23-45c2-80d8-1f818a6a3576\">\n",
       "    <div class=\"colab-df-container\">\n",
       "      <div>\n",
       "<style scoped>\n",
       "    .dataframe tbody tr th:only-of-type {\n",
       "        vertical-align: middle;\n",
       "    }\n",
       "\n",
       "    .dataframe tbody tr th {\n",
       "        vertical-align: top;\n",
       "    }\n",
       "\n",
       "    .dataframe thead th {\n",
       "        text-align: right;\n",
       "    }\n",
       "</style>\n",
       "<table border=\"1\" class=\"dataframe\">\n",
       "  <thead>\n",
       "    <tr style=\"text-align: right;\">\n",
       "      <th></th>\n",
       "      <th>IMG_ID</th>\n",
       "      <th>Category</th>\n",
       "      <th>Extension</th>\n",
       "      <th>Width</th>\n",
       "      <th>Height</th>\n",
       "      <th>Channel</th>\n",
       "      <th>Path</th>\n",
       "      <th>img</th>\n",
       "    </tr>\n",
       "  </thead>\n",
       "  <tbody>\n",
       "    <tr>\n",
       "      <th>0</th>\n",
       "      <td>bmctcsqlzotwfhmvrnjo.jpg</td>\n",
       "      <td>L2_10</td>\n",
       "      <td>jpg</td>\n",
       "      <td>300</td>\n",
       "      <td>300</td>\n",
       "      <td>3</td>\n",
       "      <td>./drive/MyDrive/data/L2_10/bmctcsqlzotwfhmvrnj...</td>\n",
       "      <td>bmctcsqlzotwfhmvrnjo</td>\n",
       "    </tr>\n",
       "    <tr>\n",
       "      <th>1</th>\n",
       "      <td>btuixnvjxcztpmutlehv.jpg</td>\n",
       "      <td>L2_10</td>\n",
       "      <td>jpg</td>\n",
       "      <td>700</td>\n",
       "      <td>700</td>\n",
       "      <td>3</td>\n",
       "      <td>./drive/MyDrive/data/L2_10/btuixnvjxcztpmutleh...</td>\n",
       "      <td>btuixnvjxcztpmutlehv</td>\n",
       "    </tr>\n",
       "    <tr>\n",
       "      <th>2</th>\n",
       "      <td>edkxyljaevluzpccthfb.jpg</td>\n",
       "      <td>L2_10</td>\n",
       "      <td>jpg</td>\n",
       "      <td>700</td>\n",
       "      <td>700</td>\n",
       "      <td>3</td>\n",
       "      <td>./drive/MyDrive/data/L2_10/edkxyljaevluzpccthf...</td>\n",
       "      <td>edkxyljaevluzpccthfb</td>\n",
       "    </tr>\n",
       "    <tr>\n",
       "      <th>3</th>\n",
       "      <td>iggmyrvxuuodahwxdpcs.jpg</td>\n",
       "      <td>L2_10</td>\n",
       "      <td>jpg</td>\n",
       "      <td>300</td>\n",
       "      <td>300</td>\n",
       "      <td>3</td>\n",
       "      <td>./drive/MyDrive/data/L2_10/iggmyrvxuuodahwxdpc...</td>\n",
       "      <td>iggmyrvxuuodahwxdpcs</td>\n",
       "    </tr>\n",
       "    <tr>\n",
       "      <th>4</th>\n",
       "      <td>mnplauecvcurkywnpqfa.jpg</td>\n",
       "      <td>L2_10</td>\n",
       "      <td>jpg</td>\n",
       "      <td>700</td>\n",
       "      <td>700</td>\n",
       "      <td>3</td>\n",
       "      <td>./drive/MyDrive/data/L2_10/mnplauecvcurkywnpqf...</td>\n",
       "      <td>mnplauecvcurkywnpqfa</td>\n",
       "    </tr>\n",
       "    <tr>\n",
       "      <th>...</th>\n",
       "      <td>...</td>\n",
       "      <td>...</td>\n",
       "      <td>...</td>\n",
       "      <td>...</td>\n",
       "      <td>...</td>\n",
       "      <td>...</td>\n",
       "      <td>...</td>\n",
       "      <td>...</td>\n",
       "    </tr>\n",
       "    <tr>\n",
       "      <th>25498</th>\n",
       "      <td>xazvpjwaydqrbvpjbvul.png</td>\n",
       "      <td>L2_52</td>\n",
       "      <td>png</td>\n",
       "      <td>700</td>\n",
       "      <td>700</td>\n",
       "      <td>4</td>\n",
       "      <td>./drive/MyDrive/data/L2_52/xazvpjwaydqrbvpjbvu...</td>\n",
       "      <td>xazvpjwaydqrbvpjbvul</td>\n",
       "    </tr>\n",
       "    <tr>\n",
       "      <th>25499</th>\n",
       "      <td>dtxfpcggpnrgqolnmdoy.png</td>\n",
       "      <td>L2_52</td>\n",
       "      <td>png</td>\n",
       "      <td>700</td>\n",
       "      <td>700</td>\n",
       "      <td>4</td>\n",
       "      <td>./drive/MyDrive/data/L2_52/dtxfpcggpnrgqolnmdo...</td>\n",
       "      <td>dtxfpcggpnrgqolnmdoy</td>\n",
       "    </tr>\n",
       "    <tr>\n",
       "      <th>25500</th>\n",
       "      <td>yifaakzphsggoouohtan.jpg</td>\n",
       "      <td>L2_52</td>\n",
       "      <td>jpg</td>\n",
       "      <td>300</td>\n",
       "      <td>300</td>\n",
       "      <td>3</td>\n",
       "      <td>./drive/MyDrive/data/L2_52/yifaakzphsggoouohta...</td>\n",
       "      <td>yifaakzphsggoouohtan</td>\n",
       "    </tr>\n",
       "    <tr>\n",
       "      <th>25501</th>\n",
       "      <td>cpexnivtruoevtlazloq.jpg</td>\n",
       "      <td>L2_52</td>\n",
       "      <td>jpg</td>\n",
       "      <td>2480</td>\n",
       "      <td>3508</td>\n",
       "      <td>3</td>\n",
       "      <td>./drive/MyDrive/data/L2_52/cpexnivtruoevtlazlo...</td>\n",
       "      <td>cpexnivtruoevtlazloq</td>\n",
       "    </tr>\n",
       "    <tr>\n",
       "      <th>25502</th>\n",
       "      <td>bzzgdseklzecfcoujbaf.png</td>\n",
       "      <td>L2_52</td>\n",
       "      <td>png</td>\n",
       "      <td>700</td>\n",
       "      <td>700</td>\n",
       "      <td>4</td>\n",
       "      <td>./drive/MyDrive/data/L2_52/bzzgdseklzecfcoujba...</td>\n",
       "      <td>bzzgdseklzecfcoujbaf</td>\n",
       "    </tr>\n",
       "  </tbody>\n",
       "</table>\n",
       "<p>25503 rows × 8 columns</p>\n",
       "</div>\n",
       "      <button class=\"colab-df-convert\" onclick=\"convertToInteractive('df-778d2741-9b23-45c2-80d8-1f818a6a3576')\"\n",
       "              title=\"Convert this dataframe to an interactive table.\"\n",
       "              style=\"display:none;\">\n",
       "        \n",
       "  <svg xmlns=\"http://www.w3.org/2000/svg\" height=\"24px\"viewBox=\"0 0 24 24\"\n",
       "       width=\"24px\">\n",
       "    <path d=\"M0 0h24v24H0V0z\" fill=\"none\"/>\n",
       "    <path d=\"M18.56 5.44l.94 2.06.94-2.06 2.06-.94-2.06-.94-.94-2.06-.94 2.06-2.06.94zm-11 1L8.5 8.5l.94-2.06 2.06-.94-2.06-.94L8.5 2.5l-.94 2.06-2.06.94zm10 10l.94 2.06.94-2.06 2.06-.94-2.06-.94-.94-2.06-.94 2.06-2.06.94z\"/><path d=\"M17.41 7.96l-1.37-1.37c-.4-.4-.92-.59-1.43-.59-.52 0-1.04.2-1.43.59L10.3 9.45l-7.72 7.72c-.78.78-.78 2.05 0 2.83L4 21.41c.39.39.9.59 1.41.59.51 0 1.02-.2 1.41-.59l7.78-7.78 2.81-2.81c.8-.78.8-2.07 0-2.86zM5.41 20L4 18.59l7.72-7.72 1.47 1.35L5.41 20z\"/>\n",
       "  </svg>\n",
       "      </button>\n",
       "      \n",
       "  <style>\n",
       "    .colab-df-container {\n",
       "      display:flex;\n",
       "      flex-wrap:wrap;\n",
       "      gap: 12px;\n",
       "    }\n",
       "\n",
       "    .colab-df-convert {\n",
       "      background-color: #E8F0FE;\n",
       "      border: none;\n",
       "      border-radius: 50%;\n",
       "      cursor: pointer;\n",
       "      display: none;\n",
       "      fill: #1967D2;\n",
       "      height: 32px;\n",
       "      padding: 0 0 0 0;\n",
       "      width: 32px;\n",
       "    }\n",
       "\n",
       "    .colab-df-convert:hover {\n",
       "      background-color: #E2EBFA;\n",
       "      box-shadow: 0px 1px 2px rgba(60, 64, 67, 0.3), 0px 1px 3px 1px rgba(60, 64, 67, 0.15);\n",
       "      fill: #174EA6;\n",
       "    }\n",
       "\n",
       "    [theme=dark] .colab-df-convert {\n",
       "      background-color: #3B4455;\n",
       "      fill: #D2E3FC;\n",
       "    }\n",
       "\n",
       "    [theme=dark] .colab-df-convert:hover {\n",
       "      background-color: #434B5C;\n",
       "      box-shadow: 0px 1px 3px 1px rgba(0, 0, 0, 0.15);\n",
       "      filter: drop-shadow(0px 1px 2px rgba(0, 0, 0, 0.3));\n",
       "      fill: #FFFFFF;\n",
       "    }\n",
       "  </style>\n",
       "\n",
       "      <script>\n",
       "        const buttonEl =\n",
       "          document.querySelector('#df-778d2741-9b23-45c2-80d8-1f818a6a3576 button.colab-df-convert');\n",
       "        buttonEl.style.display =\n",
       "          google.colab.kernel.accessAllowed ? 'block' : 'none';\n",
       "\n",
       "        async function convertToInteractive(key) {\n",
       "          const element = document.querySelector('#df-778d2741-9b23-45c2-80d8-1f818a6a3576');\n",
       "          const dataTable =\n",
       "            await google.colab.kernel.invokeFunction('convertToInteractive',\n",
       "                                                     [key], {});\n",
       "          if (!dataTable) return;\n",
       "\n",
       "          const docLinkHtml = 'Like what you see? Visit the ' +\n",
       "            '<a target=\"_blank\" href=https://colab.research.google.com/notebooks/data_table.ipynb>data table notebook</a>'\n",
       "            + ' to learn more about interactive tables.';\n",
       "          element.innerHTML = '';\n",
       "          dataTable['output_type'] = 'display_data';\n",
       "          await google.colab.output.renderOutput(dataTable, element);\n",
       "          const docLink = document.createElement('div');\n",
       "          docLink.innerHTML = docLinkHtml;\n",
       "          element.appendChild(docLink);\n",
       "        }\n",
       "      </script>\n",
       "    </div>\n",
       "  </div>\n",
       "  "
      ],
      "text/plain": [
       "                         IMG_ID Category Extension  Width  Height  Channel  \\\n",
       "0      bmctcsqlzotwfhmvrnjo.jpg    L2_10       jpg    300     300        3   \n",
       "1      btuixnvjxcztpmutlehv.jpg    L2_10       jpg    700     700        3   \n",
       "2      edkxyljaevluzpccthfb.jpg    L2_10       jpg    700     700        3   \n",
       "3      iggmyrvxuuodahwxdpcs.jpg    L2_10       jpg    300     300        3   \n",
       "4      mnplauecvcurkywnpqfa.jpg    L2_10       jpg    700     700        3   \n",
       "...                         ...      ...       ...    ...     ...      ...   \n",
       "25498  xazvpjwaydqrbvpjbvul.png    L2_52       png    700     700        4   \n",
       "25499  dtxfpcggpnrgqolnmdoy.png    L2_52       png    700     700        4   \n",
       "25500  yifaakzphsggoouohtan.jpg    L2_52       jpg    300     300        3   \n",
       "25501  cpexnivtruoevtlazloq.jpg    L2_52       jpg   2480    3508        3   \n",
       "25502  bzzgdseklzecfcoujbaf.png    L2_52       png    700     700        4   \n",
       "\n",
       "                                                    Path                   img  \n",
       "0      ./drive/MyDrive/data/L2_10/bmctcsqlzotwfhmvrnj...  bmctcsqlzotwfhmvrnjo  \n",
       "1      ./drive/MyDrive/data/L2_10/btuixnvjxcztpmutleh...  btuixnvjxcztpmutlehv  \n",
       "2      ./drive/MyDrive/data/L2_10/edkxyljaevluzpccthf...  edkxyljaevluzpccthfb  \n",
       "3      ./drive/MyDrive/data/L2_10/iggmyrvxuuodahwxdpc...  iggmyrvxuuodahwxdpcs  \n",
       "4      ./drive/MyDrive/data/L2_10/mnplauecvcurkywnpqf...  mnplauecvcurkywnpqfa  \n",
       "...                                                  ...                   ...  \n",
       "25498  ./drive/MyDrive/data/L2_52/xazvpjwaydqrbvpjbvu...  xazvpjwaydqrbvpjbvul  \n",
       "25499  ./drive/MyDrive/data/L2_52/dtxfpcggpnrgqolnmdo...  dtxfpcggpnrgqolnmdoy  \n",
       "25500  ./drive/MyDrive/data/L2_52/yifaakzphsggoouohta...  yifaakzphsggoouohtan  \n",
       "25501  ./drive/MyDrive/data/L2_52/cpexnivtruoevtlazlo...  cpexnivtruoevtlazloq  \n",
       "25502  ./drive/MyDrive/data/L2_52/bzzgdseklzecfcoujba...  bzzgdseklzecfcoujbaf  \n",
       "\n",
       "[25503 rows x 8 columns]"
      ]
     },
     "execution_count": 33,
     "metadata": {},
     "output_type": "execute_result"
    }
   ],
   "source": [
    "img_info"
   ]
  },
  {
   "cell_type": "code",
   "execution_count": null,
   "metadata": {
    "colab": {
     "base_uri": "https://localhost:8080/",
     "height": 206
    },
    "id": "kAIhmm-8uPQQ",
    "outputId": "8b4be7f4-d465-48b0-ca40-625822c54135"
   },
   "outputs": [
    {
     "data": {
      "text/html": [
       "\n",
       "  <div id=\"df-469b6179-d533-4f51-a3c2-a31f1090eea0\">\n",
       "    <div class=\"colab-df-container\">\n",
       "      <div>\n",
       "<style scoped>\n",
       "    .dataframe tbody tr th:only-of-type {\n",
       "        vertical-align: middle;\n",
       "    }\n",
       "\n",
       "    .dataframe tbody tr th {\n",
       "        vertical-align: top;\n",
       "    }\n",
       "\n",
       "    .dataframe thead th {\n",
       "        text-align: right;\n",
       "    }\n",
       "</style>\n",
       "<table border=\"1\" class=\"dataframe\">\n",
       "  <thead>\n",
       "    <tr style=\"text-align: right;\">\n",
       "      <th></th>\n",
       "      <th>IMG_ID</th>\n",
       "      <th>Category</th>\n",
       "      <th>Extension</th>\n",
       "      <th>Width</th>\n",
       "      <th>Height</th>\n",
       "      <th>Channel</th>\n",
       "      <th>Path</th>\n",
       "      <th>img</th>\n",
       "    </tr>\n",
       "  </thead>\n",
       "  <tbody>\n",
       "    <tr>\n",
       "      <th>0</th>\n",
       "      <td>bmctcsqlzotwfhmvrnjo.jpg</td>\n",
       "      <td>L2_10</td>\n",
       "      <td>jpg</td>\n",
       "      <td>300</td>\n",
       "      <td>300</td>\n",
       "      <td>3</td>\n",
       "      <td>./drive/MyDrive/data/L2_10/bmctcsqlzotwfhmvrnj...</td>\n",
       "      <td>bmctcsqlzotwfhmvrnjo</td>\n",
       "    </tr>\n",
       "    <tr>\n",
       "      <th>1</th>\n",
       "      <td>btuixnvjxcztpmutlehv.jpg</td>\n",
       "      <td>L2_10</td>\n",
       "      <td>jpg</td>\n",
       "      <td>700</td>\n",
       "      <td>700</td>\n",
       "      <td>3</td>\n",
       "      <td>./drive/MyDrive/data/L2_10/btuixnvjxcztpmutleh...</td>\n",
       "      <td>btuixnvjxcztpmutlehv</td>\n",
       "    </tr>\n",
       "    <tr>\n",
       "      <th>2</th>\n",
       "      <td>edkxyljaevluzpccthfb.jpg</td>\n",
       "      <td>L2_10</td>\n",
       "      <td>jpg</td>\n",
       "      <td>700</td>\n",
       "      <td>700</td>\n",
       "      <td>3</td>\n",
       "      <td>./drive/MyDrive/data/L2_10/edkxyljaevluzpccthf...</td>\n",
       "      <td>edkxyljaevluzpccthfb</td>\n",
       "    </tr>\n",
       "    <tr>\n",
       "      <th>3</th>\n",
       "      <td>iggmyrvxuuodahwxdpcs.jpg</td>\n",
       "      <td>L2_10</td>\n",
       "      <td>jpg</td>\n",
       "      <td>300</td>\n",
       "      <td>300</td>\n",
       "      <td>3</td>\n",
       "      <td>./drive/MyDrive/data/L2_10/iggmyrvxuuodahwxdpc...</td>\n",
       "      <td>iggmyrvxuuodahwxdpcs</td>\n",
       "    </tr>\n",
       "    <tr>\n",
       "      <th>4</th>\n",
       "      <td>mnplauecvcurkywnpqfa.jpg</td>\n",
       "      <td>L2_10</td>\n",
       "      <td>jpg</td>\n",
       "      <td>700</td>\n",
       "      <td>700</td>\n",
       "      <td>3</td>\n",
       "      <td>./drive/MyDrive/data/L2_10/mnplauecvcurkywnpqf...</td>\n",
       "      <td>mnplauecvcurkywnpqfa</td>\n",
       "    </tr>\n",
       "  </tbody>\n",
       "</table>\n",
       "</div>\n",
       "      <button class=\"colab-df-convert\" onclick=\"convertToInteractive('df-469b6179-d533-4f51-a3c2-a31f1090eea0')\"\n",
       "              title=\"Convert this dataframe to an interactive table.\"\n",
       "              style=\"display:none;\">\n",
       "        \n",
       "  <svg xmlns=\"http://www.w3.org/2000/svg\" height=\"24px\"viewBox=\"0 0 24 24\"\n",
       "       width=\"24px\">\n",
       "    <path d=\"M0 0h24v24H0V0z\" fill=\"none\"/>\n",
       "    <path d=\"M18.56 5.44l.94 2.06.94-2.06 2.06-.94-2.06-.94-.94-2.06-.94 2.06-2.06.94zm-11 1L8.5 8.5l.94-2.06 2.06-.94-2.06-.94L8.5 2.5l-.94 2.06-2.06.94zm10 10l.94 2.06.94-2.06 2.06-.94-2.06-.94-.94-2.06-.94 2.06-2.06.94z\"/><path d=\"M17.41 7.96l-1.37-1.37c-.4-.4-.92-.59-1.43-.59-.52 0-1.04.2-1.43.59L10.3 9.45l-7.72 7.72c-.78.78-.78 2.05 0 2.83L4 21.41c.39.39.9.59 1.41.59.51 0 1.02-.2 1.41-.59l7.78-7.78 2.81-2.81c.8-.78.8-2.07 0-2.86zM5.41 20L4 18.59l7.72-7.72 1.47 1.35L5.41 20z\"/>\n",
       "  </svg>\n",
       "      </button>\n",
       "      \n",
       "  <style>\n",
       "    .colab-df-container {\n",
       "      display:flex;\n",
       "      flex-wrap:wrap;\n",
       "      gap: 12px;\n",
       "    }\n",
       "\n",
       "    .colab-df-convert {\n",
       "      background-color: #E8F0FE;\n",
       "      border: none;\n",
       "      border-radius: 50%;\n",
       "      cursor: pointer;\n",
       "      display: none;\n",
       "      fill: #1967D2;\n",
       "      height: 32px;\n",
       "      padding: 0 0 0 0;\n",
       "      width: 32px;\n",
       "    }\n",
       "\n",
       "    .colab-df-convert:hover {\n",
       "      background-color: #E2EBFA;\n",
       "      box-shadow: 0px 1px 2px rgba(60, 64, 67, 0.3), 0px 1px 3px 1px rgba(60, 64, 67, 0.15);\n",
       "      fill: #174EA6;\n",
       "    }\n",
       "\n",
       "    [theme=dark] .colab-df-convert {\n",
       "      background-color: #3B4455;\n",
       "      fill: #D2E3FC;\n",
       "    }\n",
       "\n",
       "    [theme=dark] .colab-df-convert:hover {\n",
       "      background-color: #434B5C;\n",
       "      box-shadow: 0px 1px 3px 1px rgba(0, 0, 0, 0.15);\n",
       "      filter: drop-shadow(0px 1px 2px rgba(0, 0, 0, 0.3));\n",
       "      fill: #FFFFFF;\n",
       "    }\n",
       "  </style>\n",
       "\n",
       "      <script>\n",
       "        const buttonEl =\n",
       "          document.querySelector('#df-469b6179-d533-4f51-a3c2-a31f1090eea0 button.colab-df-convert');\n",
       "        buttonEl.style.display =\n",
       "          google.colab.kernel.accessAllowed ? 'block' : 'none';\n",
       "\n",
       "        async function convertToInteractive(key) {\n",
       "          const element = document.querySelector('#df-469b6179-d533-4f51-a3c2-a31f1090eea0');\n",
       "          const dataTable =\n",
       "            await google.colab.kernel.invokeFunction('convertToInteractive',\n",
       "                                                     [key], {});\n",
       "          if (!dataTable) return;\n",
       "\n",
       "          const docLinkHtml = 'Like what you see? Visit the ' +\n",
       "            '<a target=\"_blank\" href=https://colab.research.google.com/notebooks/data_table.ipynb>data table notebook</a>'\n",
       "            + ' to learn more about interactive tables.';\n",
       "          element.innerHTML = '';\n",
       "          dataTable['output_type'] = 'display_data';\n",
       "          await google.colab.output.renderOutput(dataTable, element);\n",
       "          const docLink = document.createElement('div');\n",
       "          docLink.innerHTML = docLinkHtml;\n",
       "          element.appendChild(docLink);\n",
       "        }\n",
       "      </script>\n",
       "    </div>\n",
       "  </div>\n",
       "  "
      ],
      "text/plain": [
       "                     IMG_ID Category Extension  Width  Height  Channel  \\\n",
       "0  bmctcsqlzotwfhmvrnjo.jpg    L2_10       jpg    300     300        3   \n",
       "1  btuixnvjxcztpmutlehv.jpg    L2_10       jpg    700     700        3   \n",
       "2  edkxyljaevluzpccthfb.jpg    L2_10       jpg    700     700        3   \n",
       "3  iggmyrvxuuodahwxdpcs.jpg    L2_10       jpg    300     300        3   \n",
       "4  mnplauecvcurkywnpqfa.jpg    L2_10       jpg    700     700        3   \n",
       "\n",
       "                                                Path                   img  \n",
       "0  ./drive/MyDrive/data/L2_10/bmctcsqlzotwfhmvrnj...  bmctcsqlzotwfhmvrnjo  \n",
       "1  ./drive/MyDrive/data/L2_10/btuixnvjxcztpmutleh...  btuixnvjxcztpmutlehv  \n",
       "2  ./drive/MyDrive/data/L2_10/edkxyljaevluzpccthf...  edkxyljaevluzpccthfb  \n",
       "3  ./drive/MyDrive/data/L2_10/iggmyrvxuuodahwxdpc...  iggmyrvxuuodahwxdpcs  \n",
       "4  ./drive/MyDrive/data/L2_10/mnplauecvcurkywnpqf...  mnplauecvcurkywnpqfa  "
      ]
     },
     "execution_count": 19,
     "metadata": {},
     "output_type": "execute_result"
    }
   ],
   "source": [
    "img_info2=img_info\n",
    "\n",
    "img_info2['img']=img_info2.IMG_ID.str.split('.').str[0]\n",
    "img_info2.head()"
   ]
  },
  {
   "cell_type": "code",
   "execution_count": null,
   "metadata": {
    "colab": {
     "base_uri": "https://localhost:8080/"
    },
    "id": "oAOtCq5YzMYW",
    "outputId": "c4142e77-91e4-488e-cbf4-472c2561e602"
   },
   "outputs": [
    {
     "data": {
      "text/plain": [
       "25503"
      ]
     },
     "execution_count": 20,
     "metadata": {},
     "output_type": "execute_result"
    }
   ],
   "source": [
    "len(img_info.IMG_ID.unique())"
   ]
  },
  {
   "cell_type": "code",
   "execution_count": null,
   "metadata": {
    "colab": {
     "base_uri": "https://localhost:8080/"
    },
    "id": "PSoeUOj6yJ5l",
    "outputId": "7a75055b-507c-4fad-bbc6-660f11751624"
   },
   "outputs": [
    {
     "name": "stdout",
     "output_type": "stream",
     "text": [
      "<class 'pandas.core.frame.DataFrame'>\n",
      "RangeIndex: 25503 entries, 0 to 25502\n",
      "Data columns (total 8 columns):\n",
      " #   Column     Non-Null Count  Dtype \n",
      "---  ------     --------------  ----- \n",
      " 0   IMG_ID     25503 non-null  object\n",
      " 1   Category   25503 non-null  object\n",
      " 2   Extension  25503 non-null  object\n",
      " 3   Width      25503 non-null  int64 \n",
      " 4   Height     25503 non-null  int64 \n",
      " 5   Channel    25503 non-null  int64 \n",
      " 6   Path       25503 non-null  object\n",
      " 7   img        25503 non-null  object\n",
      "dtypes: int64(3), object(5)\n",
      "memory usage: 1.6+ MB\n"
     ]
    }
   ],
   "source": [
    "img_info2.info()"
   ]
  },
  {
   "cell_type": "code",
   "execution_count": null,
   "metadata": {
    "colab": {
     "base_uri": "https://localhost:8080/"
    },
    "id": "_JACtH-lyRb2",
    "outputId": "9b9b07c4-da5a-44dd-9be3-9d5703807bc8"
   },
   "outputs": [
    {
     "name": "stdout",
     "output_type": "stream",
     "text": [
      "<class 'pandas.core.frame.DataFrame'>\n",
      "Int64Index: 25503 entries, 0 to 25502\n",
      "Data columns (total 8 columns):\n",
      " #   Column     Non-Null Count  Dtype \n",
      "---  ------     --------------  ----- \n",
      " 0   IMG_ID     25503 non-null  object\n",
      " 1   Category   25503 non-null  object\n",
      " 2   Extension  25503 non-null  object\n",
      " 3   Width      25503 non-null  int64 \n",
      " 4   Height     25503 non-null  int64 \n",
      " 5   Channel    25503 non-null  int64 \n",
      " 6   Path       25503 non-null  object\n",
      " 7   img        25503 non-null  object\n",
      "dtypes: int64(3), object(5)\n",
      "memory usage: 1.8+ MB\n"
     ]
    }
   ],
   "source": [
    "#중복이미지 확인\n",
    "img_info2.drop_duplicates(['img'],inplace=True)\n",
    "img_info2.info()"
   ]
  },
  {
   "cell_type": "code",
   "execution_count": null,
   "metadata": {
    "colab": {
     "base_uri": "https://localhost:8080/",
     "height": 524
    },
    "id": "TS4WMx13NqOl",
    "outputId": "0f234aca-6a9d-497f-fe47-37d022fe577d"
   },
   "outputs": [
    {
     "name": "stdout",
     "output_type": "stream",
     "text": [
      "./drive/MyDrive/data/L2_10/bmctcsqlzotwfhmvrnjo.jpg\n"
     ]
    },
    {
     "data": {
      "text/plain": [
       "<matplotlib.image.AxesImage at 0x7f826c2e74d0>"
      ]
     },
     "execution_count": 23,
     "metadata": {},
     "output_type": "execute_result"
    },
    {
     "data": {
      "image/png": "[encoded data removed]",
      "text/plain": [
       "<Figure size 1080x576 with 1 Axes>"
      ]
     },
     "metadata": {},
     "output_type": "display_data"
    }
   ],
   "source": [
    "path=img_info.Path[0]\n",
    "print(path)\n",
    "test=cv2.imread(path)\n",
    "plt.imshow(test)"
   ]
  },
  {
   "cell_type": "code",
   "execution_count": null,
   "metadata": {
    "colab": {
     "base_uri": "https://localhost:8080/"
    },
    "id": "UIngaqcB1xn2",
    "outputId": "b8e0ec09-f65e-45f6-9d56-1d42c745633b"
   },
   "outputs": [
    {
     "data": {
      "text/plain": [
       "array([3, 4, 1])"
      ]
     },
     "execution_count": 24,
     "metadata": {},
     "output_type": "execute_result"
    }
   ],
   "source": [
    "img_info.Channel.unique()"
   ]
  },
  {
   "cell_type": "code",
   "execution_count": null,
   "metadata": {
    "colab": {
     "base_uri": "https://localhost:8080/"
    },
    "id": "rB2Wn7Zj2zSu",
    "outputId": "7475f40b-9070-46a3-808b-61b1f6b5fdb5"
   },
   "outputs": [
    {
     "data": {
      "text/plain": [
       "IMG_ID       0\n",
       "Category     0\n",
       "Extension    0\n",
       "Width        0\n",
       "Height       0\n",
       "Channel      0\n",
       "Path         0\n",
       "img          0\n",
       "dtype: int64"
      ]
     },
     "execution_count": 25,
     "metadata": {},
     "output_type": "execute_result"
    }
   ],
   "source": [
    "#결측값\n",
    "img_info.isnull().sum()"
   ]
  },
  {
   "cell_type": "code",
   "execution_count": null,
   "metadata": {
    "colab": {
     "base_uri": "https://localhost:8080/"
    },
    "id": "0k9e8zhe0ZYv",
    "outputId": "fcfd504a-5c5e-420a-b025-6c1e56669d18"
   },
   "outputs": [
    {
     "name": "stdout",
     "output_type": "stream",
     "text": [
      "Category\n",
      "L2_10    1893\n",
      "L2_12     518\n",
      "L2_15    1509\n",
      "L2_20     410\n",
      "L2_21     410\n",
      "L2_24     782\n",
      "L2_25    6189\n",
      "L2_27     426\n",
      "L2_3      595\n",
      "L2_30     364\n",
      "L2_33    6206\n",
      "L2_34     419\n",
      "L2_39     454\n",
      "L2_40     180\n",
      "L2_41     593\n",
      "L2_44     547\n",
      "L2_45     631\n",
      "L2_46    2214\n",
      "L2_50     781\n",
      "L2_52     382\n",
      "Name: IMG_ID, dtype: int64\n",
      "\n",
      "\n",
      "1275.15\n"
     ]
    }
   ],
   "source": [
    "# 클래스 별 데이터 개수 및 평균\n",
    "print(img_info.groupby(\"Category\")[\"IMG_ID\"].count())\n",
    "print('\\n')\n",
    "print(img_info.groupby(\"Category\")[\"IMG_ID\"].count().mean())"
   ]
  },
  {
   "cell_type": "code",
   "execution_count": null,
   "metadata": {
    "colab": {
     "base_uri": "https://localhost:8080/",
     "height": 237
    },
    "id": "cVQXX6Kw42ki",
    "outputId": "063ffd9b-2bc7-49b9-e424-8e8cca6be04b"
   },
   "outputs": [
    {
     "data": {
      "text/html": [
       "\n",
       "  <div id=\"df-985d2044-e72c-4a86-b082-dd5e2c339a22\">\n",
       "    <div class=\"colab-df-container\">\n",
       "      <div>\n",
       "<style scoped>\n",
       "    .dataframe tbody tr th:only-of-type {\n",
       "        vertical-align: middle;\n",
       "    }\n",
       "\n",
       "    .dataframe tbody tr th {\n",
       "        vertical-align: top;\n",
       "    }\n",
       "\n",
       "    .dataframe thead th {\n",
       "        text-align: right;\n",
       "    }\n",
       "</style>\n",
       "<table border=\"1\" class=\"dataframe\">\n",
       "  <thead>\n",
       "    <tr style=\"text-align: right;\">\n",
       "      <th></th>\n",
       "      <th>IMG_ID</th>\n",
       "      <th>Category</th>\n",
       "      <th>Extension</th>\n",
       "      <th>Width</th>\n",
       "      <th>Height</th>\n",
       "      <th>Channel</th>\n",
       "      <th>Path</th>\n",
       "      <th>img</th>\n",
       "    </tr>\n",
       "  </thead>\n",
       "  <tbody>\n",
       "    <tr>\n",
       "      <th>4965</th>\n",
       "      <td>tymqqdoygnolomnkjkph.jpg</td>\n",
       "      <td>L2_24</td>\n",
       "      <td>jpg</td>\n",
       "      <td>3508</td>\n",
       "      <td>2480</td>\n",
       "      <td>1</td>\n",
       "      <td>./drive/MyDrive/data/L2_24/tymqqdoygnolomnkjkp...</td>\n",
       "      <td>tymqqdoygnolomnkjkph</td>\n",
       "    </tr>\n",
       "    <tr>\n",
       "      <th>12925</th>\n",
       "      <td>ztkcyprbncgkluufgxxh.jpg</td>\n",
       "      <td>L2_30</td>\n",
       "      <td>jpg</td>\n",
       "      <td>3508</td>\n",
       "      <td>2480</td>\n",
       "      <td>1</td>\n",
       "      <td>./drive/MyDrive/data/L2_30/ztkcyprbncgkluufgxx...</td>\n",
       "      <td>ztkcyprbncgkluufgxxh</td>\n",
       "    </tr>\n",
       "    <tr>\n",
       "      <th>12951</th>\n",
       "      <td>sejkpoipoqtssdispyqq.jpg</td>\n",
       "      <td>L2_30</td>\n",
       "      <td>jpg</td>\n",
       "      <td>3508</td>\n",
       "      <td>2480</td>\n",
       "      <td>1</td>\n",
       "      <td>./drive/MyDrive/data/L2_30/sejkpoipoqtssdispyq...</td>\n",
       "      <td>sejkpoipoqtssdispyqq</td>\n",
       "    </tr>\n",
       "    <tr>\n",
       "      <th>21510</th>\n",
       "      <td>qowbaduogreoqlqgkzsc.jpg</td>\n",
       "      <td>L2_45</td>\n",
       "      <td>jpg</td>\n",
       "      <td>3508</td>\n",
       "      <td>2480</td>\n",
       "      <td>1</td>\n",
       "      <td>./drive/MyDrive/data/L2_45/qowbaduogreoqlqgkzs...</td>\n",
       "      <td>qowbaduogreoqlqgkzsc</td>\n",
       "    </tr>\n",
       "    <tr>\n",
       "      <th>21596</th>\n",
       "      <td>oitkkvuasrrheybiwgfw.jpg</td>\n",
       "      <td>L2_45</td>\n",
       "      <td>jpg</td>\n",
       "      <td>2480</td>\n",
       "      <td>3508</td>\n",
       "      <td>1</td>\n",
       "      <td>./drive/MyDrive/data/L2_45/oitkkvuasrrheybiwgf...</td>\n",
       "      <td>oitkkvuasrrheybiwgfw</td>\n",
       "    </tr>\n",
       "    <tr>\n",
       "      <th>21597</th>\n",
       "      <td>yudjtlslwipvblwncold.jpg</td>\n",
       "      <td>L2_45</td>\n",
       "      <td>jpg</td>\n",
       "      <td>3508</td>\n",
       "      <td>2480</td>\n",
       "      <td>1</td>\n",
       "      <td>./drive/MyDrive/data/L2_45/yudjtlslwipvblwncol...</td>\n",
       "      <td>yudjtlslwipvblwncold</td>\n",
       "    </tr>\n",
       "  </tbody>\n",
       "</table>\n",
       "</div>\n",
       "      <button class=\"colab-df-convert\" onclick=\"convertToInteractive('df-985d2044-e72c-4a86-b082-dd5e2c339a22')\"\n",
       "              title=\"Convert this dataframe to an interactive table.\"\n",
       "              style=\"display:none;\">\n",
       "        \n",
       "  <svg xmlns=\"http://www.w3.org/2000/svg\" height=\"24px\"viewBox=\"0 0 24 24\"\n",
       "       width=\"24px\">\n",
       "    <path d=\"M0 0h24v24H0V0z\" fill=\"none\"/>\n",
       "    <path d=\"M18.56 5.44l.94 2.06.94-2.06 2.06-.94-2.06-.94-.94-2.06-.94 2.06-2.06.94zm-11 1L8.5 8.5l.94-2.06 2.06-.94-2.06-.94L8.5 2.5l-.94 2.06-2.06.94zm10 10l.94 2.06.94-2.06 2.06-.94-2.06-.94-.94-2.06-.94 2.06-2.06.94z\"/><path d=\"M17.41 7.96l-1.37-1.37c-.4-.4-.92-.59-1.43-.59-.52 0-1.04.2-1.43.59L10.3 9.45l-7.72 7.72c-.78.78-.78 2.05 0 2.83L4 21.41c.39.39.9.59 1.41.59.51 0 1.02-.2 1.41-.59l7.78-7.78 2.81-2.81c.8-.78.8-2.07 0-2.86zM5.41 20L4 18.59l7.72-7.72 1.47 1.35L5.41 20z\"/>\n",
       "  </svg>\n",
       "      </button>\n",
       "      \n",
       "  <style>\n",
       "    .colab-df-container {\n",
       "      display:flex;\n",
       "      flex-wrap:wrap;\n",
       "      gap: 12px;\n",
       "    }\n",
       "\n",
       "    .colab-df-convert {\n",
       "      background-color: #E8F0FE;\n",
       "      border: none;\n",
       "      border-radius: 50%;\n",
       "      cursor: pointer;\n",
       "      display: none;\n",
       "      fill: #1967D2;\n",
       "      height: 32px;\n",
       "      padding: 0 0 0 0;\n",
       "      width: 32px;\n",
       "    }\n",
       "\n",
       "    .colab-df-convert:hover {\n",
       "      background-color: #E2EBFA;\n",
       "      box-shadow: 0px 1px 2px rgba(60, 64, 67, 0.3), 0px 1px 3px 1px rgba(60, 64, 67, 0.15);\n",
       "      fill: #174EA6;\n",
       "    }\n",
       "\n",
       "    [theme=dark] .colab-df-convert {\n",
       "      background-color: #3B4455;\n",
       "      fill: #D2E3FC;\n",
       "    }\n",
       "\n",
       "    [theme=dark] .colab-df-convert:hover {\n",
       "      background-color: #434B5C;\n",
       "      box-shadow: 0px 1px 3px 1px rgba(0, 0, 0, 0.15);\n",
       "      filter: drop-shadow(0px 1px 2px rgba(0, 0, 0, 0.3));\n",
       "      fill: #FFFFFF;\n",
       "    }\n",
       "  </style>\n",
       "\n",
       "      <script>\n",
       "        const buttonEl =\n",
       "          document.querySelector('#df-985d2044-e72c-4a86-b082-dd5e2c339a22 button.colab-df-convert');\n",
       "        buttonEl.style.display =\n",
       "          google.colab.kernel.accessAllowed ? 'block' : 'none';\n",
       "\n",
       "        async function convertToInteractive(key) {\n",
       "          const element = document.querySelector('#df-985d2044-e72c-4a86-b082-dd5e2c339a22');\n",
       "          const dataTable =\n",
       "            await google.colab.kernel.invokeFunction('convertToInteractive',\n",
       "                                                     [key], {});\n",
       "          if (!dataTable) return;\n",
       "\n",
       "          const docLinkHtml = 'Like what you see? Visit the ' +\n",
       "            '<a target=\"_blank\" href=https://colab.research.google.com/notebooks/data_table.ipynb>data table notebook</a>'\n",
       "            + ' to learn more about interactive tables.';\n",
       "          element.innerHTML = '';\n",
       "          dataTable['output_type'] = 'display_data';\n",
       "          await google.colab.output.renderOutput(dataTable, element);\n",
       "          const docLink = document.createElement('div');\n",
       "          docLink.innerHTML = docLinkHtml;\n",
       "          element.appendChild(docLink);\n",
       "        }\n",
       "      </script>\n",
       "    </div>\n",
       "  </div>\n",
       "  "
      ],
      "text/plain": [
       "                         IMG_ID Category Extension  Width  Height  Channel  \\\n",
       "4965   tymqqdoygnolomnkjkph.jpg    L2_24       jpg   3508    2480        1   \n",
       "12925  ztkcyprbncgkluufgxxh.jpg    L2_30       jpg   3508    2480        1   \n",
       "12951  sejkpoipoqtssdispyqq.jpg    L2_30       jpg   3508    2480        1   \n",
       "21510  qowbaduogreoqlqgkzsc.jpg    L2_45       jpg   3508    2480        1   \n",
       "21596  oitkkvuasrrheybiwgfw.jpg    L2_45       jpg   2480    3508        1   \n",
       "21597  yudjtlslwipvblwncold.jpg    L2_45       jpg   3508    2480        1   \n",
       "\n",
       "                                                    Path                   img  \n",
       "4965   ./drive/MyDrive/data/L2_24/tymqqdoygnolomnkjkp...  tymqqdoygnolomnkjkph  \n",
       "12925  ./drive/MyDrive/data/L2_30/ztkcyprbncgkluufgxx...  ztkcyprbncgkluufgxxh  \n",
       "12951  ./drive/MyDrive/data/L2_30/sejkpoipoqtssdispyq...  sejkpoipoqtssdispyqq  \n",
       "21510  ./drive/MyDrive/data/L2_45/qowbaduogreoqlqgkzs...  qowbaduogreoqlqgkzsc  \n",
       "21596  ./drive/MyDrive/data/L2_45/oitkkvuasrrheybiwgf...  oitkkvuasrrheybiwgfw  \n",
       "21597  ./drive/MyDrive/data/L2_45/yudjtlslwipvblwncol...  yudjtlslwipvblwncold  "
      ]
     },
     "execution_count": 27,
     "metadata": {},
     "output_type": "execute_result"
    }
   ],
   "source": [
    "img_info[img_info.Channel==1]"
   ]
  },
  {
   "cell_type": "code",
   "execution_count": null,
   "metadata": {
    "colab": {
     "base_uri": "https://localhost:8080/",
     "height": 424
    },
    "id": "onMQcS-PEpml",
    "outputId": "28ee1af7-650d-4c86-98f2-454bf6e52544"
   },
   "outputs": [
    {
     "data": {
      "text/html": [
       "\n",
       "  <div id=\"df-be1f60cb-6c36-4c94-ad29-31197a4d3e30\">\n",
       "    <div class=\"colab-df-container\">\n",
       "      <div>\n",
       "<style scoped>\n",
       "    .dataframe tbody tr th:only-of-type {\n",
       "        vertical-align: middle;\n",
       "    }\n",
       "\n",
       "    .dataframe tbody tr th {\n",
       "        vertical-align: top;\n",
       "    }\n",
       "\n",
       "    .dataframe thead th {\n",
       "        text-align: right;\n",
       "    }\n",
       "</style>\n",
       "<table border=\"1\" class=\"dataframe\">\n",
       "  <thead>\n",
       "    <tr style=\"text-align: right;\">\n",
       "      <th></th>\n",
       "      <th>IMG_ID</th>\n",
       "      <th>Category</th>\n",
       "      <th>Extension</th>\n",
       "      <th>Width</th>\n",
       "      <th>Height</th>\n",
       "      <th>Channel</th>\n",
       "      <th>Path</th>\n",
       "      <th>img</th>\n",
       "    </tr>\n",
       "  </thead>\n",
       "  <tbody>\n",
       "    <tr>\n",
       "      <th>1003</th>\n",
       "      <td>lqemgjlhgrhxvcjaaosl.png</td>\n",
       "      <td>L2_10</td>\n",
       "      <td>png</td>\n",
       "      <td>300</td>\n",
       "      <td>300</td>\n",
       "      <td>4</td>\n",
       "      <td>./drive/MyDrive/data/L2_10/lqemgjlhgrhxvcjaaos...</td>\n",
       "      <td>lqemgjlhgrhxvcjaaosl</td>\n",
       "    </tr>\n",
       "    <tr>\n",
       "      <th>1006</th>\n",
       "      <td>kktuzbhlvgnwferqiiex.png</td>\n",
       "      <td>L2_10</td>\n",
       "      <td>png</td>\n",
       "      <td>300</td>\n",
       "      <td>300</td>\n",
       "      <td>4</td>\n",
       "      <td>./drive/MyDrive/data/L2_10/kktuzbhlvgnwferqiie...</td>\n",
       "      <td>kktuzbhlvgnwferqiiex</td>\n",
       "    </tr>\n",
       "    <tr>\n",
       "      <th>1009</th>\n",
       "      <td>ehlcplifvjivgrvpdscq.png</td>\n",
       "      <td>L2_10</td>\n",
       "      <td>png</td>\n",
       "      <td>700</td>\n",
       "      <td>700</td>\n",
       "      <td>4</td>\n",
       "      <td>./drive/MyDrive/data/L2_10/ehlcplifvjivgrvpdsc...</td>\n",
       "      <td>ehlcplifvjivgrvpdscq</td>\n",
       "    </tr>\n",
       "    <tr>\n",
       "      <th>1015</th>\n",
       "      <td>qzidvnlijkajswudeibk.png</td>\n",
       "      <td>L2_10</td>\n",
       "      <td>png</td>\n",
       "      <td>700</td>\n",
       "      <td>700</td>\n",
       "      <td>4</td>\n",
       "      <td>./drive/MyDrive/data/L2_10/qzidvnlijkajswudeib...</td>\n",
       "      <td>qzidvnlijkajswudeibk</td>\n",
       "    </tr>\n",
       "    <tr>\n",
       "      <th>1022</th>\n",
       "      <td>zagdtzxkiofygvapxlnk.png</td>\n",
       "      <td>L2_10</td>\n",
       "      <td>png</td>\n",
       "      <td>700</td>\n",
       "      <td>700</td>\n",
       "      <td>4</td>\n",
       "      <td>./drive/MyDrive/data/L2_10/zagdtzxkiofygvapxln...</td>\n",
       "      <td>zagdtzxkiofygvapxlnk</td>\n",
       "    </tr>\n",
       "    <tr>\n",
       "      <th>...</th>\n",
       "      <td>...</td>\n",
       "      <td>...</td>\n",
       "      <td>...</td>\n",
       "      <td>...</td>\n",
       "      <td>...</td>\n",
       "      <td>...</td>\n",
       "      <td>...</td>\n",
       "      <td>...</td>\n",
       "    </tr>\n",
       "    <tr>\n",
       "      <th>25492</th>\n",
       "      <td>kgylmsktwdpvjipuxcjy.png</td>\n",
       "      <td>L2_52</td>\n",
       "      <td>png</td>\n",
       "      <td>300</td>\n",
       "      <td>300</td>\n",
       "      <td>4</td>\n",
       "      <td>./drive/MyDrive/data/L2_52/kgylmsktwdpvjipuxcj...</td>\n",
       "      <td>kgylmsktwdpvjipuxcjy</td>\n",
       "    </tr>\n",
       "    <tr>\n",
       "      <th>25495</th>\n",
       "      <td>dpngxxqgngecscrgtrdl.png</td>\n",
       "      <td>L2_52</td>\n",
       "      <td>png</td>\n",
       "      <td>700</td>\n",
       "      <td>700</td>\n",
       "      <td>4</td>\n",
       "      <td>./drive/MyDrive/data/L2_52/dpngxxqgngecscrgtrd...</td>\n",
       "      <td>dpngxxqgngecscrgtrdl</td>\n",
       "    </tr>\n",
       "    <tr>\n",
       "      <th>25498</th>\n",
       "      <td>xazvpjwaydqrbvpjbvul.png</td>\n",
       "      <td>L2_52</td>\n",
       "      <td>png</td>\n",
       "      <td>700</td>\n",
       "      <td>700</td>\n",
       "      <td>4</td>\n",
       "      <td>./drive/MyDrive/data/L2_52/xazvpjwaydqrbvpjbvu...</td>\n",
       "      <td>xazvpjwaydqrbvpjbvul</td>\n",
       "    </tr>\n",
       "    <tr>\n",
       "      <th>25499</th>\n",
       "      <td>dtxfpcggpnrgqolnmdoy.png</td>\n",
       "      <td>L2_52</td>\n",
       "      <td>png</td>\n",
       "      <td>700</td>\n",
       "      <td>700</td>\n",
       "      <td>4</td>\n",
       "      <td>./drive/MyDrive/data/L2_52/dtxfpcggpnrgqolnmdo...</td>\n",
       "      <td>dtxfpcggpnrgqolnmdoy</td>\n",
       "    </tr>\n",
       "    <tr>\n",
       "      <th>25502</th>\n",
       "      <td>bzzgdseklzecfcoujbaf.png</td>\n",
       "      <td>L2_52</td>\n",
       "      <td>png</td>\n",
       "      <td>700</td>\n",
       "      <td>700</td>\n",
       "      <td>4</td>\n",
       "      <td>./drive/MyDrive/data/L2_52/bzzgdseklzecfcoujba...</td>\n",
       "      <td>bzzgdseklzecfcoujbaf</td>\n",
       "    </tr>\n",
       "  </tbody>\n",
       "</table>\n",
       "<p>1137 rows × 8 columns</p>\n",
       "</div>\n",
       "      <button class=\"colab-df-convert\" onclick=\"convertToInteractive('df-be1f60cb-6c36-4c94-ad29-31197a4d3e30')\"\n",
       "              title=\"Convert this dataframe to an interactive table.\"\n",
       "              style=\"display:none;\">\n",
       "        \n",
       "  <svg xmlns=\"http://www.w3.org/2000/svg\" height=\"24px\"viewBox=\"0 0 24 24\"\n",
       "       width=\"24px\">\n",
       "    <path d=\"M0 0h24v24H0V0z\" fill=\"none\"/>\n",
       "    <path d=\"M18.56 5.44l.94 2.06.94-2.06 2.06-.94-2.06-.94-.94-2.06-.94 2.06-2.06.94zm-11 1L8.5 8.5l.94-2.06 2.06-.94-2.06-.94L8.5 2.5l-.94 2.06-2.06.94zm10 10l.94 2.06.94-2.06 2.06-.94-2.06-.94-.94-2.06-.94 2.06-2.06.94z\"/><path d=\"M17.41 7.96l-1.37-1.37c-.4-.4-.92-.59-1.43-.59-.52 0-1.04.2-1.43.59L10.3 9.45l-7.72 7.72c-.78.78-.78 2.05 0 2.83L4 21.41c.39.39.9.59 1.41.59.51 0 1.02-.2 1.41-.59l7.78-7.78 2.81-2.81c.8-.78.8-2.07 0-2.86zM5.41 20L4 18.59l7.72-7.72 1.47 1.35L5.41 20z\"/>\n",
       "  </svg>\n",
       "      </button>\n",
       "      \n",
       "  <style>\n",
       "    .colab-df-container {\n",
       "      display:flex;\n",
       "      flex-wrap:wrap;\n",
       "      gap: 12px;\n",
       "    }\n",
       "\n",
       "    .colab-df-convert {\n",
       "      background-color: #E8F0FE;\n",
       "      border: none;\n",
       "      border-radius: 50%;\n",
       "      cursor: pointer;\n",
       "      display: none;\n",
       "      fill: #1967D2;\n",
       "      height: 32px;\n",
       "      padding: 0 0 0 0;\n",
       "      width: 32px;\n",
       "    }\n",
       "\n",
       "    .colab-df-convert:hover {\n",
       "      background-color: #E2EBFA;\n",
       "      box-shadow: 0px 1px 2px rgba(60, 64, 67, 0.3), 0px 1px 3px 1px rgba(60, 64, 67, 0.15);\n",
       "      fill: #174EA6;\n",
       "    }\n",
       "\n",
       "    [theme=dark] .colab-df-convert {\n",
       "      background-color: #3B4455;\n",
       "      fill: #D2E3FC;\n",
       "    }\n",
       "\n",
       "    [theme=dark] .colab-df-convert:hover {\n",
       "      background-color: #434B5C;\n",
       "      box-shadow: 0px 1px 3px 1px rgba(0, 0, 0, 0.15);\n",
       "      filter: drop-shadow(0px 1px 2px rgba(0, 0, 0, 0.3));\n",
       "      fill: #FFFFFF;\n",
       "    }\n",
       "  </style>\n",
       "\n",
       "      <script>\n",
       "        const buttonEl =\n",
       "          document.querySelector('#df-be1f60cb-6c36-4c94-ad29-31197a4d3e30 button.colab-df-convert');\n",
       "        buttonEl.style.display =\n",
       "          google.colab.kernel.accessAllowed ? 'block' : 'none';\n",
       "\n",
       "        async function convertToInteractive(key) {\n",
       "          const element = document.querySelector('#df-be1f60cb-6c36-4c94-ad29-31197a4d3e30');\n",
       "          const dataTable =\n",
       "            await google.colab.kernel.invokeFunction('convertToInteractive',\n",
       "                                                     [key], {});\n",
       "          if (!dataTable) return;\n",
       "\n",
       "          const docLinkHtml = 'Like what you see? Visit the ' +\n",
       "            '<a target=\"_blank\" href=https://colab.research.google.com/notebooks/data_table.ipynb>data table notebook</a>'\n",
       "            + ' to learn more about interactive tables.';\n",
       "          element.innerHTML = '';\n",
       "          dataTable['output_type'] = 'display_data';\n",
       "          await google.colab.output.renderOutput(dataTable, element);\n",
       "          const docLink = document.createElement('div');\n",
       "          docLink.innerHTML = docLinkHtml;\n",
       "          element.appendChild(docLink);\n",
       "        }\n",
       "      </script>\n",
       "    </div>\n",
       "  </div>\n",
       "  "
      ],
      "text/plain": [
       "                         IMG_ID Category Extension  Width  Height  Channel  \\\n",
       "1003   lqemgjlhgrhxvcjaaosl.png    L2_10       png    300     300        4   \n",
       "1006   kktuzbhlvgnwferqiiex.png    L2_10       png    300     300        4   \n",
       "1009   ehlcplifvjivgrvpdscq.png    L2_10       png    700     700        4   \n",
       "1015   qzidvnlijkajswudeibk.png    L2_10       png    700     700        4   \n",
       "1022   zagdtzxkiofygvapxlnk.png    L2_10       png    700     700        4   \n",
       "...                         ...      ...       ...    ...     ...      ...   \n",
       "25492  kgylmsktwdpvjipuxcjy.png    L2_52       png    300     300        4   \n",
       "25495  dpngxxqgngecscrgtrdl.png    L2_52       png    700     700        4   \n",
       "25498  xazvpjwaydqrbvpjbvul.png    L2_52       png    700     700        4   \n",
       "25499  dtxfpcggpnrgqolnmdoy.png    L2_52       png    700     700        4   \n",
       "25502  bzzgdseklzecfcoujbaf.png    L2_52       png    700     700        4   \n",
       "\n",
       "                                                    Path                   img  \n",
       "1003   ./drive/MyDrive/data/L2_10/lqemgjlhgrhxvcjaaos...  lqemgjlhgrhxvcjaaosl  \n",
       "1006   ./drive/MyDrive/data/L2_10/kktuzbhlvgnwferqiie...  kktuzbhlvgnwferqiiex  \n",
       "1009   ./drive/MyDrive/data/L2_10/ehlcplifvjivgrvpdsc...  ehlcplifvjivgrvpdscq  \n",
       "1015   ./drive/MyDrive/data/L2_10/qzidvnlijkajswudeib...  qzidvnlijkajswudeibk  \n",
       "1022   ./drive/MyDrive/data/L2_10/zagdtzxkiofygvapxln...  zagdtzxkiofygvapxlnk  \n",
       "...                                                  ...                   ...  \n",
       "25492  ./drive/MyDrive/data/L2_52/kgylmsktwdpvjipuxcj...  kgylmsktwdpvjipuxcjy  \n",
       "25495  ./drive/MyDrive/data/L2_52/dpngxxqgngecscrgtrd...  dpngxxqgngecscrgtrdl  \n",
       "25498  ./drive/MyDrive/data/L2_52/xazvpjwaydqrbvpjbvu...  xazvpjwaydqrbvpjbvul  \n",
       "25499  ./drive/MyDrive/data/L2_52/dtxfpcggpnrgqolnmdo...  dtxfpcggpnrgqolnmdoy  \n",
       "25502  ./drive/MyDrive/data/L2_52/bzzgdseklzecfcoujba...  bzzgdseklzecfcoujbaf  \n",
       "\n",
       "[1137 rows x 8 columns]"
      ]
     },
     "execution_count": 28,
     "metadata": {},
     "output_type": "execute_result"
    }
   ],
   "source": [
    "img_info[img_info.Channel==4]"
   ]
  },
  {
   "cell_type": "code",
   "execution_count": null,
   "metadata": {
    "colab": {
     "base_uri": "https://localhost:8080/"
    },
    "id": "QCVImshLqri0",
    "outputId": "6f7986c3-3e4c-4ac7-cb74-adb2c4feff2c"
   },
   "outputs": [
    {
     "name": "stdout",
     "output_type": "stream",
     "text": [
      "./drive/MyDrive/data/L2_10/lqemgjlhgrhxvcjaaosl.png\n"
     ]
    },
    {
     "data": {
      "text/plain": [
       "(300, 300, 3)"
      ]
     },
     "execution_count": 29,
     "metadata": {},
     "output_type": "execute_result"
    }
   ],
   "source": [
    "path=img_info.Path[1003]\n",
    "print(path)\n",
    "test=cv2.imread(path)\n",
    "test.shape\n",
    "#plt.imshow(test)"
   ]
  },
  {
   "cell_type": "code",
   "execution_count": null,
   "metadata": {
    "colab": {
     "base_uri": "https://localhost:8080/"
    },
    "id": "rKgvNWyXw1ar",
    "outputId": "608ca56a-a56f-4c7e-fc08-a80b120bcbb1"
   },
   "outputs": [
    {
     "name": "stdout",
     "output_type": "stream",
     "text": [
      "클래스 => 20개\n",
      "******************************\n",
      "1 Channel : 6 개\n",
      "3 Channel : 24360 개\n",
      "4 Channel : 1137 개\n",
      "******************************\n",
      "파일 확장자 => ['jpg' 'png']\n",
      "JPG FIle : 23992 개\n",
      "PNG FIle : 1511 개\n",
      "******************************\n",
      "이미지 크기 Min,Max\n",
      "Max Width : 5000\n",
      "Min Width : 97\n",
      "Max Height : 5001\n",
      "Min Height : 162\n"
     ]
    }
   ],
   "source": [
    "# 클래스 수\n",
    "#print(img_info.Category.unique())\n",
    "print(\"클래스 => {0}개\".format(len(img_info.Category.unique())))\n",
    "print(\"*\"*30)\n",
    "# 채널 개수\n",
    "print(\"1 Channel : {0} 개\".format(img_info.IMG_ID[img_info.Channel==1].count()))\n",
    "print(\"3 Channel : {0} 개\".format(img_info.IMG_ID[img_info.Channel==3].count()))\n",
    "print(\"4 Channel : {0} 개\".format(img_info.IMG_ID[img_info.Channel==4].count()))\n",
    "print(\"*\"*30)\n",
    "# 확장자\n",
    "print(\"파일 확장자 => {0}\".format(img_info.Extension.unique()))\n",
    "print(\"JPG FIle : {0} 개\".format(img_info.IMG_ID[img_info.Extension=='jpg'].count()))\n",
    "print(\"PNG FIle : {0} 개\".format(img_info.IMG_ID[img_info.Extension=='png'].count()))\n",
    "print(\"*\"*30)\n",
    "# 영상데이터 크기\n",
    "print(\"이미지 크기 Min,Max\")\n",
    "print(\"Max Width : {0}\".format(img_info.Width.max()))\n",
    "print(\"Min Width : {0}\".format(img_info.Width.min()))\n",
    "print(\"Max Height : {0}\".format(img_info.Height.max()))\n",
    "print(\"Min Height : {0}\".format(img_info.Height.min()))"
   ]
  },
  {
   "cell_type": "code",
   "execution_count": null,
   "metadata": {
    "id": "Ywcth4EYvfQR"
   },
   "outputs": [],
   "source": [
    "# L2_10    1893\n",
    "# > 전화기 / 공유기 \n",
    "# L2_12     518\n",
    "# > 네비게이션 / 풍경, 인물사진?\n",
    "# L2_15    1509\n",
    "# > 바코드 스캐너 / 자판기(ATM)\n",
    "# L2_20     410\n",
    "# > 트로피 / 램프 / 병풍\n",
    "# L2_21     410\n",
    "# > 멀티탭 / 사다리 \n",
    "# L2_24     782\n",
    "# > 풍경, 인물사진 / 빗 / 마스크 팩\n",
    "# L2_25    6189\n",
    "# > 표지판 / 자물쇠 / 열쇠\n",
    "# L2_27     426\n",
    "# > 개껌 / 캣타워 / 새둥지\n",
    "# L2_3      595\n",
    "# L2_30     364\n",
    "# L2_33    6206\n",
    "# L2_34     419\n",
    "# L2_39     454\n",
    "# L2_40     180\n",
    "# L2_41     593\n",
    "# L2_44     547\n",
    "# L2_45     631\n",
    "# L2_46    2214\n",
    "# L2_50     781\n",
    "# L2_52     382"
   ]
  },
  {
   "cell_type": "markdown",
   "metadata": {
    "id": "r88jbmvQ6YV_"
   },
   "source": [
    "##2. 문제점 도출 (10)"
   ]
  },
  {
   "cell_type": "markdown",
   "metadata": {
    "id": "4vm1jvkt7H9W"
   },
   "source": [
    "1. 데이터 불균형 -> 오버샘플링 , 언더샘플링 필요\n",
    ">  -> L2_25 , L2_33 클래스가 절반 차지\n",
    "\n",
    "2. 영상 데이터 차원 1, 3, 4 차원으로 다양함\n",
    "> 4차원-> RGBA\n",
    "\n",
    "\n",
    "3. 확장자 png , jpg 두 종류\n",
    "4. 너비, 높이 Resize 필요\n",
    "\n",
    "5. 특정 클래스에 불필요한 인물, 풍경사진 포함 -> 일러스트와 사진 이진분류로 사진 삭제-> 2번문제"
   ]
  },
  {
   "cell_type": "markdown",
   "metadata": {
    "id": "A84zhwcp5lFh"
   },
   "source": [
    " 영상 색상 경고??\n",
    "> 해결방안\n",
    "https://jh-bk.tistory.com/41\n",
    "\n",
    "\n"
   ]
  },
  {
   "cell_type": "markdown",
   "metadata": {
    "id": "DMRu3DDx5iaT"
   },
   "source": [
    "![image.png](data:image/png;base64,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)"
   ]
  },
  {
   "cell_type": "markdown",
   "metadata": {
    "id": "jqKO_HY267Wf"
   },
   "source": [
    "##3. 데이터 분포 문제 해결(10)"
   ]
  },
  {
   "cell_type": "markdown",
   "metadata": {
    "id": "2L_z2NnL7IKp"
   },
   "source": [
    "1. 데이터 불균형 -> 오버샘플링 , 언더샘플링 필요\n",
    ">  -> L2_25 , L2_33 클래스가 절반 차지\n",
    "\n",
    "  > 일정 수치를 기준으로 데이터 작은 클래스는 augmentation 하고 많은 클래스는 랜덤 추출  \n",
    "\n",
    "\n",
    "2. 영상 데이터 차원 1, 3, 4 차원으로 다양함\n",
    "> 4차원-> RGBA\n",
    " \n",
    " **해결방안**\n",
    " 1차원의 이미지 -> 6개이므로 삭제 /\n",
    " 4차원의 이미지 -> cv2.COLOR_BGRA2BGR을 통해 3차원으로 변경, cv2.IMREAD_UNCHANGED 옵션 안넣으면 자동으로 3채널로 인식\n",
    "\n",
    "3. 확장자 png , jpg 두 종류\n",
    "\n",
    "4. 너비, 높이 Resize 필요 (ex) 32px 64px ~~"
   ]
  },
  {
   "cell_type": "markdown",
   "metadata": {
    "id": "bhHLY3KS4f7E"
   },
   "source": [
    "### 이미지 Augmentation 후 jpg로 저장하는 코드"
   ]
  },
  {
   "cell_type": "code",
   "execution_count": null,
   "metadata": {
    "id": "TSbdepTZpe9C"
   },
   "outputs": [],
   "source": [
    "# 학과 서버 환경 실행 코드\n",
    "# 출처\n",
    "# https://jeongmin-lee.tistory.com/5\n",
    "# import numpy as np\n",
    "# import os\n",
    "# from os import listdir\n",
    "# from os.path import isfile, join\n",
    "# from PIL import Image\n",
    "# from keras.utils import load_img,img_to_array\n",
    " \n",
    "\n",
    "# np.random.seed(3)\n",
    " \n",
    "# from keras.preprocessing.image import ImageDataGenerator\n",
    "# img_gen = ImageDataGenerator(\n",
    "#                                    #rotation_range=30, \n",
    "#                                    #shear_range=5.5,  \n",
    "#                                    # width_shift_range=0.1,\n",
    "#                                    # height_shift_range=0.1,\n",
    "#                                    #zoom_range=0.,\n",
    "#                                    horizontal_flip=True,\n",
    "#                                    #vertical_flip=True,\n",
    "#                                    fill_mode='nearest') \n",
    " \n",
    "# filename_in_dir = [] \n",
    " \n",
    "# for root, dirs, files in os.walk('./test'): #해당폴더에 있는 이미지 사용 \n",
    "#     for  fname in files:\n",
    "#         full_fname = os.path.join(root, fname)\n",
    "#         filename_in_dir.append(full_fname)\n",
    "        \n",
    "# for file_image in filename_in_dir:\n",
    "#     print(file_image)\n",
    "#     img = load_img(file_image) \n",
    "#     x = img_to_array(img)\n",
    "#     x = x.reshape((1,) + x.shape)\n",
    " \n",
    "#     i = 0\n",
    " \n",
    "#     for batch in img_gen.flow(x,save_to_dir='./test', save_prefix='food', save_format='jpg'): #저장\n",
    "#         i += 1\n",
    "#         if i > 5:\n",
    "#             break\n"
   ]
  },
  {
   "cell_type": "code",
   "execution_count": null,
   "metadata": {
    "id": "GnYnePyfD-8q"
   },
   "outputs": [],
   "source": []
  }
 ],
 "metadata": {
  "accelerator": "GPU",
  "colab": {
   "provenance": []
  },
  "gpuClass": "standard",
  "kernelspec": {
   "display_name": "Python 3 (ipykernel)",
   "language": "python",
   "name": "python3"
  },
  "language_info": {
   "codemirror_mode": {
    "name": "ipython",
    "version": 3
   },
   "file_extension": ".py",
   "mimetype": "text/x-python",
   "name": "python",
   "nbconvert_exporter": "python",
   "pygments_lexer": "ipython3",
   "version": "3.9.12"
  }
 },
 "nbformat": 4,
 "nbformat_minor": 1
}

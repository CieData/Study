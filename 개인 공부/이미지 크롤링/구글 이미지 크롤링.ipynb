{
 "cells": [
  {
   "cell_type": "code",
   "execution_count": 2,
   "metadata": {},
   "outputs": [],
   "source": [
    "from selenium import webdriver\n",
    "from selenium.webdriver.common.keys import Keys\n",
    "from selenium.webdriver.common.by import By\n",
    "import time\n",
    "import urllib.request"
   ]
  },
  {
   "cell_type": "code",
   "execution_count": null,
   "metadata": {
    "collapsed": true
   },
   "outputs": [],
   "source": [
    "#원하는 사진 개수?\n",
    "driver = webdriver.Chrome()\n",
    "driver.get(\"https://www.google.co.kr/imghp?hl=ko&tab=ri&authuser=0&ogbl\")\n",
    "elem = driver.find_element(By.NAME, \"q\")\n",
    "elem.send_keys(\"조코딩\")\n",
    "elem.send_keys(Keys.RETURN)\n",
    "\n",
    "SCROLL_PAUSE_TIME = 2\n",
    "last_height = driver.execute_script(\"return document.body.scrollHeight\")\n",
    "while True:\n",
    "    driver.execute_script(\"window.scrollTo(0, document.body.scrollHeight);\")\n",
    "    time.sleep(SCROLL_PAUSE_TIME)\n",
    "    new_height = driver.execute_script(\"return document.body.scrollHeight\")\n",
    "    if new_height == last_height:\n",
    "        try:\n",
    "            driver.find_element(By.CSS_SELECTOR,'.mye4qd').click()\n",
    "        except:\n",
    "            break\n",
    "    images=driver.find_elements(By.CSS_SELECTOR,'.rg_i.Q4LuWd')\n",
    "    if len(images)>=100:\n",
    "        break\n",
    "    last_height = new_height\n",
    "\n",
    "images=driver.find_elements(By.CSS_SELECTOR,'.rg_i.Q4LuWd')\n",
    "count=1\n",
    "for i in images:\n",
    "    try:\n",
    "        i.click()\n",
    "        time.sleep(3)\n",
    "        imgUrl=driver.find_element(By.XPAHT,'/html/body/div[2]/c-wiz/div[3]/div[2]/div[3]/div/div/div/div[3]/div[2]/c-wiz/div[2]/div[1]/div[1]/div[2]/div/a/img').get_attribute('src')\n",
    "        urllib.request.urlretrieve(imgUrl,str(count)+'.jpg'.format)\n",
    "        count+=1\n",
    "    except:\n",
    "        pass\n",
    "\n",
    "driver.close()"
   ]
  },
  {
   "cell_type": "code",
   "execution_count": null,
   "metadata": {},
   "outputs": [],
   "source": [
    "#원하는 사진 개수?\n",
    "driver = webdriver.Chrome()\n",
    "driver.get(\"https://www.google.co.kr/imghp?hl=ko&tab=ri&authuser=0&ogbl\")\n",
    "elem = driver.find_element(By.NAME, \"q\")\n",
    "elem.send_keys(\"현대 자동차\")\n",
    "elem.send_keys(Keys.RETURN)\n",
    "\n",
    "SCROLL_PAUSE_TIME = 2\n",
    "last_height = driver.execute_script(\"return document.body.scrollHeight\")\n",
    "while True:\n",
    "    driver.execute_script(\"window.scrollTo(0, document.body.scrollHeight);\")\n",
    "    time.sleep(SCROLL_PAUSE_TIME)\n",
    "    new_height = driver.execute_script(\"return document.body.scrollHeight\")\n",
    "    if new_height == last_height:\n",
    "        try:\n",
    "            driver.find_element(By.CSS_SELECTOR,'.mye4qd').click()\n",
    "        except:\n",
    "            break\n",
    "    images=driver.find_elements(By.CSS_SELECTOR,'.rg_i.Q4LuWd')\n",
    "    if len(images)>=1500:\n",
    "        break\n",
    "    last_height = new_height\n",
    "\n",
    "images=driver.find_elements(By.CSS_SELECTOR,'.rg_i.Q4LuWd')\n",
    "count=1\n",
    "for i in images:\n",
    "    try:\n",
    "        i.click()\n",
    "        time.sleep(2)\n",
    "        imgUrl=driver.find_element(By.CSS_SELECTOR,'.n3VNCb').get_attribute('src')\n",
    "        urllib.request.urlretrieve(imgUrl,'현대'+str(count)+'-3.jpg')\n",
    "        count+=1\n",
    "    except:\n",
    "        pass\n",
    "\n",
    "driver.close()"
   ]
  },
  {
   "cell_type": "code",
   "execution_count": null,
   "metadata": {},
   "outputs": [],
   "source": []
  }
 ],
 "metadata": {
  "kernelspec": {
   "display_name": "base",
   "language": "python",
   "name": "python3"
  },
  "language_info": {
   "codemirror_mode": {
    "name": "ipython",
    "version": 3
   },
   "file_extension": ".py",
   "mimetype": "text/x-python",
   "name": "python",
   "nbconvert_exporter": "python",
   "pygments_lexer": "ipython3",
   "version": "3.9.12"
  },
  "vscode": {
   "interpreter": {
    "hash": "7f368c48a586e931bd654761381ef86d5d2c1d8e94773dbceeccd45cd5f51e02"
   }
  }
 },
 "nbformat": 4,
 "nbformat_minor": 4
}

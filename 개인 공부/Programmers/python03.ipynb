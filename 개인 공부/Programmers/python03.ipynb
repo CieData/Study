{
 "cells": [
  {
   "cell_type": "code",
   "execution_count": null,
   "metadata": {},
   "outputs": [],
   "source": [
    "#세균 증식\n",
    "'''\n",
    "문제 설명\n",
    "어떤 세균은 1시간에 두배만큼 증식한다고 합니다. 처음 세균의 마리수 n과 경과한 시간 t가 매개변수로 주어질 때 t시간 후 세균의 수를 return하도록 solution 함수를 완성해주세요.\n",
    "'''\n",
    "def solution(n, t):\n",
    "    answer = n*(2**(t))\n",
    "    return answer"
   ]
  },
  {
   "cell_type": "code",
   "execution_count": null,
   "metadata": {},
   "outputs": [],
   "source": [
    "# 가위 바위 보\n",
    "'''\n",
    "문제 설명\n",
    "가위는 2 바위는 0 보는 5로 표현합니다. 가위 바위 보를 내는 순서대로 나타낸 문자열 rsp가 매개변수로 주어질 때, rsp에 저장된 가위 바위 보를 모두 이기는 경우를 순서대로 나타낸 문자열을 return하도록 solution 함수를 완성해보세요.\n",
    "'''\n",
    "def solution(rsp):\n",
    "    answer = ''\n",
    "    for i in range(len(rsp)):\n",
    "        if rsp[i]=='2':\n",
    "            answer+='0'\n",
    "        elif rsp[i]=='0':\n",
    "            answer+='5'\n",
    "        else:\n",
    "            answer+='2'\n",
    "    return answer\n"
   ]
  },
  {
   "cell_type": "code",
   "execution_count": null,
   "metadata": {},
   "outputs": [],
   "source": [
    "#대문자와 소문자\n",
    "'''\n",
    "문제 설명\n",
    "문자열 my_string이 매개변수로 주어질 때, 대문자는 소문자로 소문자는 대문자로 변환한 문자열을 return하도록 solution 함수를 완성해주세요.\n",
    "'''\n",
    "def solution(my_string):\n",
    "    answer = ''\n",
    "    for i in range(len(my_string)):\n",
    "        if my_string[i].isupper():\n",
    "            answer+=my_string[i].lower()\n",
    "        else:\n",
    "            answer+=my_string[i].upper()\n",
    "    return answer"
   ]
  },
  {
   "cell_type": "code",
   "execution_count": null,
   "metadata": {},
   "outputs": [],
   "source": [
    "#암호 해독\n",
    "'''\n",
    "문제 설명\n",
    "군 전략가 머쓱이는 전쟁 중 적군이 다음과 같은 암호 체계를 사용한다는 것을 알아냈습니다.\n",
    "\n",
    "암호화된 문자열 cipher를 주고받습니다.\n",
    "그 문자열에서 code의 배수 번째 글자만 진짜 암호입니다.\n",
    "문자열 cipher와 정수 code가 매개변수로 주어질 때 해독된 암호 문자열을 return하도록 solution 함수를 완성해주세요.\n",
    "'''\n",
    "def solution(cipher, code):\n",
    "    answer = ''\n",
    "    for i in range(len(cipher)):\n",
    "        if i%code==code-1:\n",
    "            answer+=cipher[i]\n",
    "    return answer"
   ]
  },
  {
   "cell_type": "code",
   "execution_count": null,
   "metadata": {},
   "outputs": [],
   "source": [
    "#n의 배수 고르기\n",
    "'''\n",
    "문제 설명\n",
    "정수 n과 정수 배열 numlist가 매개변수로 주어질 때, numlist에서 n의 배수가 아닌 수들을 제거한 배열을 return하도록 solution 함수를 완성해주세요.\n",
    "'''\n",
    "def solution(n, numlist):\n",
    "    answer = []\n",
    "    for i in range(len(numlist)):\n",
    "        if numlist[i]%n==0:\n",
    "            answer.append(numlist[i])\n",
    "    return answer"
   ]
  },
  {
   "cell_type": "code",
   "execution_count": null,
   "metadata": {},
   "outputs": [],
   "source": [
    "#직각삼각형 출력하기\n",
    "'''\n",
    "문제 설명\n",
    "\"*\"의 높이와 너비를 1이라고 했을 때, \"*\"을 이용해 직각 이등변 삼각형을 그리려고합니다. 정수 n 이 주어지면 높이와 너비가 n 인 직각 이등변 삼각형을 출력하도록 코드를 작성해보세요.\n",
    "'''\n",
    "n = int(input())\n",
    "for i in range(1,n+1):\n",
    "    print('*'*i)"
   ]
  },
  {
   "cell_type": "code",
   "execution_count": null,
   "metadata": {},
   "outputs": [],
   "source": [
    "#문자열 정렬하기 (1)\n",
    "'''\n",
    "문제 설명\n",
    "문자열 my_string이 매개변수로 주어질 때, my_string 안에 있는 숫자만 골라 오름차순 정렬한 리스트를 return 하도록 solution 함수를 작성해보세요.\n",
    "'''\n",
    "def solution(my_string):\n",
    "    answer = []\n",
    "    for i in range(len(my_string)):\n",
    "        if my_string[i].isdigit():\n",
    "            answer.append(int(my_string[i]))\n",
    "    answer.sort()\n",
    "    return answer"
   ]
  },
  {
   "cell_type": "code",
   "execution_count": null,
   "metadata": {},
   "outputs": [],
   "source": [
    "#주사위의 개수\n",
    "'''\n",
    "문제 설명\n",
    "머쓱이는 직육면체 모양의 상자를 하나 가지고 있는데 이 상자에 정육면체 모양의 주사위를 최대한 많이 채우고 싶습니다. 상자의 가로, 세로, 높이가 저장되어있는 배열 box와 주사위 모서리의 길이 정수 n이 매개변수로 주어졌을 때, 상자에 들어갈 수 있는 주사위의 최대 개수를 return 하도록 solution 함수를 완성해주세요.\n",
    "'''\n",
    "def solution(box, n):\n",
    "    a=box[0]//n\n",
    "    b=box[1]//n\n",
    "    c=box[2]//n\n",
    "    answer = a*b*c\n",
    "    return answer"
   ]
  },
  {
   "cell_type": "code",
   "execution_count": null,
   "metadata": {},
   "outputs": [],
   "source": [
    "#짝수와 홀수\n",
    "'''\n",
    "문제 설명\n",
    "정수 num이 짝수일 경우 \"Even\"을 반환하고 홀수인 경우 \"Odd\"를 반환하는 함수, solution을 완성해주세요.\n",
    "'''\n",
    "def solution(num):\n",
    "    if num%2==1:\n",
    "        answer='Odd'\n",
    "    else:\n",
    "        answer='Even'\n",
    "    \n",
    "    return answer"
   ]
  },
  {
   "cell_type": "code",
   "execution_count": null,
   "metadata": {},
   "outputs": [],
   "source": [
    "#평균 구하기\n",
    "'''문제 설명\n",
    "정수를 담고 있는 배열 arr의 평균값을 return하는 함수, solution을 완성해보세요.\n",
    "'''\n",
    "def solution(arr):\n",
    "    answer = sum(arr)/len(arr)\n",
    "    return answer"
   ]
  },
  {
   "cell_type": "code",
   "execution_count": null,
   "metadata": {},
   "outputs": [],
   "source": [
    "#약수의 합\n",
    "'''\n",
    "문제 설명\n",
    "정수 n을 입력받아 n의 약수를 모두 더한 값을 리턴하는 함수, solution을 완성해주세요.\n",
    "'''\n",
    "import math\n",
    "def solution(n):\n",
    "    answer = 0\n",
    "    for i in range(1,int(n**(1/2))+1):\n",
    "        if n%i==0:\n",
    "            if i==n//i:\n",
    "                answer+=i\n",
    "            else:\n",
    "                answer+=i\n",
    "                answer+=n//i\n",
    "    \n",
    "    return answer"
   ]
  },
  {
   "cell_type": "code",
   "execution_count": null,
   "metadata": {},
   "outputs": [],
   "source": [
    "#자릿수 더하기\n",
    "'''\n",
    "문제 설명\n",
    "자연수 N이 주어지면, N의 각 자릿수의 합을 구해서 return 하는 solution 함수를 만들어 주세요.\n",
    "예를들어 N = 123이면 1 + 2 + 3 = 6을 return 하면 됩니다.\n",
    "'''\n",
    "def solution(n):\n",
    "    n=list(str(n))\n",
    "    answer = 0\n",
    "    for i in range(len(n)):\n",
    "        answer+=int(n[i])\n",
    "    return answer"
   ]
  },
  {
   "cell_type": "code",
   "execution_count": null,
   "metadata": {},
   "outputs": [],
   "source": [
    "#가장 큰 수 찾기\n",
    "'''\n",
    "문제 설명\n",
    "정수 배열 array가 매개변수로 주어질 때, 가장 큰 수와 그 수의 인덱스를 담은 배열을 return 하도록 solution 함수를 완성해보세요.\n",
    "'''\n",
    "def solution(array):\n",
    "    answer = []\n",
    "    answer.append(max(array))\n",
    "    answer.append(array.index(max(array)))\n",
    "    return answer"
   ]
  },
  {
   "cell_type": "code",
   "execution_count": null,
   "metadata": {},
   "outputs": [],
   "source": [
    "#배열 회전시키기\n",
    "'''\n",
    "문제 설명\n",
    "정수가 담긴 배열 numbers와 문자열 direction가 매개변수로 주어집니다. 배열 numbers의 원소를 direction방향으로 한 칸씩 회전시킨 배열을 return하도록 solution 함수를 완성해주세요.\n",
    "'''\n",
    "def solution(numbers, direction):\n",
    "    if direction=='right':\n",
    "        answer=[numbers[-1]]+numbers[0:len(numbers)-1]\n",
    "    else:\n",
    "        answer=numbers[1:]+[numbers[0]]\n",
    "    return answer"
   ]
  },
  {
   "cell_type": "code",
   "execution_count": null,
   "metadata": {},
   "outputs": [],
   "source": [
    "#자연수 뒤집어 배열로 만들기\n",
    "'''\n",
    "문제 설명\n",
    "자연수 n을 뒤집어 각 자리 숫자를 원소로 가지는 배열 형태로 리턴해주세요. 예를들어 n이 12345이면 [5,4,3,2,1]을 리턴합니다.\n",
    "'''\n",
    "def solution(n):\n",
    "    a=list(str(n))\n",
    "    answer = []\n",
    "    for i in range(len(a)):\n",
    "        answer.append(int(a[-i-1]))\n",
    "    return answer"
   ]
  },
  {
   "cell_type": "code",
   "execution_count": null,
   "metadata": {},
   "outputs": [],
   "source": [
    "#정수 제곱근 판별\n",
    "'''\n",
    "문제 설명\n",
    "임의의 양의 정수 n에 대해, n이 어떤 양의 정수 x의 제곱인지 아닌지 판단하려 합니다.\n",
    "n이 양의 정수 x의 제곱이라면 x+1의 제곱을 리턴하고, n이 양의 정수 x의 제곱이 아니라면 -1을 리턴하는 함수를 완성하세요.\n",
    "'''\n",
    "def solution(n):\n",
    "    answer=-1\n",
    "    if int(n**0.5)**2==n:\n",
    "        answer = ((n**0.5)+1)**2\n",
    "    return answer"
   ]
  },
  {
   "cell_type": "code",
   "execution_count": null,
   "metadata": {},
   "outputs": [],
   "source": [
    "#문자열 내 p와 y의 개수\n",
    "'''\n",
    "문제 설명\n",
    "대문자와 소문자가 섞여있는 문자열 s가 주어집니다. s에 'p'의 개수와 'y'의 개수를 비교해 같으면 True, 다르면 False를 return 하는 solution를 완성하세요. 'p', 'y' 모두 하나도 없는 경우는 항상 True를 리턴합니다. 단, 개수를 비교할 때 대문자와 소문자는 구별하지 않습니다.\n",
    "\n",
    "예를 들어 s가 \"pPoooyY\"면 true를 return하고 \"Pyy\"라면 false를 return합니다.\n",
    "'''\n",
    "def solution(s):\n",
    "    s=s.lower()\n",
    "    if s.count('p')==s.count('y'):\n",
    "        answer = True\n",
    "    else:\n",
    "        answer= False\n",
    "\n",
    "    return answer"
   ]
  },
  {
   "cell_type": "code",
   "execution_count": null,
   "metadata": {},
   "outputs": [],
   "source": [
    "#외계행성의 나이\n",
    "'''문제 설명\n",
    "우주여행을 하던 머쓱이는 엔진 고장으로 PROGRAMMERS-962 행성에 불시착하게 됐습니다. 입국심사에서 나이를 말해야 하는데, PROGRAMMERS-962 행성에서는 나이를 알파벳으로 말하고 있습니다. a는 0, b는 1, c는 2, ..., j는 9입니다. 예를 들어 23살은 cd, 51살은 fb로 표현합니다. 나이 age가 매개변수로 주어질 때 PROGRAMMER-962식 나이를 return하도록 solution 함수를 완성해주세요.\n",
    "'''\n",
    "def solution(age):\n",
    "    ak='abcdefghij'\n",
    "    answer = ''\n",
    "    for i in range(len(str(age))):\n",
    "        answer+=ak[int(str(age)[i])]\n",
    "    return answer"
   ]
  },
  {
   "cell_type": "code",
   "execution_count": null,
   "metadata": {},
   "outputs": [],
   "source": [
    "#x만큼 간격이 있는 n개의 숫자\n",
    "'''문제 설명\n",
    "함수 solution은 정수 x와 자연수 n을 입력 받아, x부터 시작해 x씩 증가하는 숫자를 n개 지니는 리스트를 리턴해야 합니다. 다음 제한 조건을 보고, 조건을 만족하는 함수, solution을 완성해주세요.\n",
    "'''\n",
    "def solution(x, n):\n",
    "    answer = []\n",
    "    for i in range(1,n+1):\n",
    "        answer.append(x*i)\n",
    "    return answer"
   ]
  },
  {
   "cell_type": "code",
   "execution_count": null,
   "metadata": {},
   "outputs": [],
   "source": [
    "#피자 나눠 먹기 (2)\n",
    "'''문제 설명\n",
    "머쓱이네 피자가게는 피자를 여섯 조각으로 잘라 줍니다. 피자를 나눠먹을 사람의 수 n이 매개변수로 주어질 때, n명이 주문한 피자를 남기지 않고 모두 같은 수의 피자 조각을 먹어야 한다면 최소 몇 판을 시켜야 하는지를 return 하도록 solution 함수를 완성해보세요.\n",
    "'''\n",
    "import math\n",
    "def solution(n):\n",
    "    for i in range(1,100):\n",
    "        if (6*i)%n==0:\n",
    "            break\n",
    "    answer = i\n",
    "    return answer"
   ]
  }
 ],
 "metadata": {
  "kernelspec": {
   "display_name": "base",
   "language": "python",
   "name": "python3"
  },
  "language_info": {
   "name": "python",
   "version": "3.9.12 (main, Apr  4 2022, 05:22:27) [MSC v.1916 64 bit (AMD64)]"
  },
  "orig_nbformat": 4,
  "vscode": {
   "interpreter": {
    "hash": "7f368c48a586e931bd654761381ef86d5d2c1d8e94773dbceeccd45cd5f51e02"
   }
  }
 },
 "nbformat": 4,
 "nbformat_minor": 2
}

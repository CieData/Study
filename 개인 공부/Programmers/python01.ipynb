{
 "cells": [
  {
   "cell_type": "code",
   "execution_count": 1,
   "metadata": {},
   "outputs": [],
   "source": [
    "#나머지 구하기\n",
    "def solution(num1, num2):\n",
    "    answer = num1%num2\n",
    "    return answer"
   ]
  },
  {
   "cell_type": "code",
   "execution_count": 7,
   "metadata": {},
   "outputs": [],
   "source": [
    "#두 수의 합\n",
    "def solution(num1, num2):\n",
    "    answer = num1+num2\n",
    "    return answer"
   ]
  },
  {
   "cell_type": "code",
   "execution_count": 2,
   "metadata": {},
   "outputs": [],
   "source": [
    "#두 수의 차\n",
    "def solution(num1, num2):\n",
    "    answer = num1-num2\n",
    "    return answer"
   ]
  },
  {
   "cell_type": "code",
   "execution_count": 3,
   "metadata": {},
   "outputs": [],
   "source": [
    "#두 수의 곱\n",
    "def solution(num1, num2):\n",
    "    answer = num1*num2\n",
    "    return answer"
   ]
  },
  {
   "cell_type": "code",
   "execution_count": 4,
   "metadata": {},
   "outputs": [],
   "source": [
    "#몫 구하기\n",
    "def solution(num1, num2):\n",
    "    answer = num1//num2\n",
    "    return answer"
   ]
  },
  {
   "cell_type": "code",
   "execution_count": 5,
   "metadata": {},
   "outputs": [],
   "source": [
    "#숫자 비교하기\n",
    "def solution(num1, num2):\n",
    "    if num1==num2:\n",
    "        answer=1\n",
    "    else:\n",
    "        answer=-1\n",
    "    return answer"
   ]
  },
  {
   "cell_type": "code",
   "execution_count": 6,
   "metadata": {},
   "outputs": [],
   "source": [
    "#나이 출력\n",
    "def solution(age):\n",
    "    answer = 2022-age+1\n",
    "    return answer"
   ]
  },
  {
   "cell_type": "code",
   "execution_count": 8,
   "metadata": {},
   "outputs": [],
   "source": [
    "#각도기\n",
    "def solution(angle):\n",
    "    if 0<angle<90:\n",
    "        answer=1\n",
    "    elif angle==90:\n",
    "        answer=2\n",
    "    elif 90<angle<180:\n",
    "        answer=3\n",
    "    else:\n",
    "        answer=4\n",
    "    return answer"
   ]
  },
  {
   "cell_type": "code",
   "execution_count": 9,
   "metadata": {},
   "outputs": [],
   "source": [
    "#두 수의 나눗셈\n",
    "def solution(num1, num2):\n",
    "    answer = num1/num2\n",
    "    answer*=1000\n",
    "    answer=int(answer)\n",
    "    return answer"
   ]
  },
  {
   "cell_type": "code",
   "execution_count": 10,
   "metadata": {},
   "outputs": [],
   "source": [
    "#짝수의 합\n",
    "def solution(n):\n",
    "    answer=0\n",
    "    for i in range(1,n+1):\n",
    "        if i%2==0:\n",
    "            answer+=i\n",
    "    return answer"
   ]
  },
  {
   "cell_type": "code",
   "execution_count": 11,
   "metadata": {},
   "outputs": [],
   "source": [
    "#배열의 평균값\n",
    "def solution(numbers):\n",
    "    answer = sum(numbers)/len(numbers)\n",
    "    return answer"
   ]
  },
  {
   "cell_type": "code",
   "execution_count": 12,
   "metadata": {},
   "outputs": [],
   "source": [
    "#양꼬치\n",
    "def solution(n, k):\n",
    "    answer = n*12000+(k-n//10)*2000\n",
    "    return answer"
   ]
  },
  {
   "cell_type": "code",
   "execution_count": 13,
   "metadata": {},
   "outputs": [],
   "source": [
    "#중복된 숫자 개수\n",
    "def solution(array, n):\n",
    "    answer = array.count(n)\n",
    "    return answer"
   ]
  },
  {
   "cell_type": "code",
   "execution_count": 14,
   "metadata": {},
   "outputs": [],
   "source": [
    "#머쓱이보다 키 큰 사람\n",
    "def solution(array, height):\n",
    "    answer = 0\n",
    "    for i in range(len(array)):\n",
    "        if array[i]>height:\n",
    "            answer+=1\n",
    "    return answer"
   ]
  },
  {
   "cell_type": "code",
   "execution_count": 15,
   "metadata": {},
   "outputs": [],
   "source": [
    "#배열 원소의 길이\n",
    "def solution(strlist):\n",
    "    answer = []\n",
    "    for i in range(len(strlist)):\n",
    "        answer.append(len(strlist[i]))\n",
    "    return answer"
   ]
  },
  {
   "cell_type": "code",
   "execution_count": 16,
   "metadata": {},
   "outputs": [],
   "source": [
    "#아이스 아메리카노\n",
    "def solution(money):\n",
    "    answer = []\n",
    "    answer.append(money//5500)\n",
    "    answer.append(money%5500)\n",
    "    return answer"
   ]
  },
  {
   "cell_type": "code",
   "execution_count": 17,
   "metadata": {},
   "outputs": [],
   "source": [
    "#배열 뒤집기\n",
    "def solution(num_list):\n",
    "    answer = num_list[::-1]\n",
    "    return answer"
   ]
  },
  {
   "cell_type": "code",
   "execution_count": 18,
   "metadata": {},
   "outputs": [],
   "source": [
    "#배열 자르기\n",
    "def solution(numbers, num1, num2):\n",
    "    answer = numbers[num1:num2+1]\n",
    "    return answer"
   ]
  },
  {
   "cell_type": "code",
   "execution_count": 19,
   "metadata": {},
   "outputs": [],
   "source": [
    "#피자 나눠 먹기 (1)\n",
    "import math\n",
    "def solution(n):\n",
    "    answer = math.ceil(n/7)\n",
    "    return answer"
   ]
  },
  {
   "cell_type": "code",
   "execution_count": 20,
   "metadata": {},
   "outputs": [],
   "source": [
    "#문자열 뒤집기\n",
    "def solution(my_string):\n",
    "    answer = my_string[::-1]\n",
    "    return answer"
   ]
  },
  {
   "cell_type": "code",
   "execution_count": null,
   "metadata": {},
   "outputs": [],
   "source": []
  }
 ],
 "metadata": {
  "kernelspec": {
   "display_name": "base",
   "language": "python",
   "name": "python3"
  },
  "language_info": {
   "codemirror_mode": {
    "name": "ipython",
    "version": 3
   },
   "file_extension": ".py",
   "mimetype": "text/x-python",
   "name": "python",
   "nbconvert_exporter": "python",
   "pygments_lexer": "ipython3",
   "version": "3.9.12 (main, Apr  4 2022, 05:22:27) [MSC v.1916 64 bit (AMD64)]"
  },
  "orig_nbformat": 4,
  "vscode": {
   "interpreter": {
    "hash": "7f368c48a586e931bd654761381ef86d5d2c1d8e94773dbceeccd45cd5f51e02"
   }
  }
 },
 "nbformat": 4,
 "nbformat_minor": 2
}

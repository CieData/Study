{
 "cells": [
  {
   "cell_type": "code",
   "execution_count": 24,
   "metadata": {},
   "outputs": [],
   "source": [
    "'''마지막 두 원소\n",
    "문제 설명\n",
    "정수 리스트 num_list가 주어질 때, 마지막 원소가 그전 원소보다 크면 마지막 원소에서 그전 원소를 뺀 값을 마지막 원소가 그전 원소보다 크지 않다면 마지막 원소를 두 배한 값을 추가하여 return하도록 solution 함수를 완성해주세요.\n",
    "'''\n",
    "def solution(num_list):\n",
    "    answer = num_list\n",
    "    a = num_list[-1]\n",
    "    b = num_list[-2]\n",
    "    if a > b:\n",
    "        answer.append(a - b)\n",
    "    else:\n",
    "        answer.append(a * 2)\n",
    "    return answer"
   ]
  },
  {
   "cell_type": "code",
   "execution_count": 25,
   "metadata": {},
   "outputs": [],
   "source": [
    "'''배열 만들기 1\n",
    "문제 설명\n",
    "정수 n과 k가 주어졌을 때, 1 이상 n이하의 정수 중에서 k의 배수를 오름차순으로 저장한 배열을 return 하는 solution 함수를 완성해 주세요.\n",
    "'''\n",
    "def solution(n, k):\n",
    "    answer = [i for i in range(1, n + 1) if i % k == 0]\n",
    "    return answer"
   ]
  },
  {
   "cell_type": "code",
   "execution_count": 26,
   "metadata": {},
   "outputs": [],
   "source": [
    "'''n개 간격의 원소들\n",
    "문제 설명\n",
    "정수 리스트 num_list와 정수 n이 주어질 때, num_list의 첫 번째 원소부터 마지막 원소까지 n개 간격으로 저장되어있는 원소들을 차례로 담은 리스트를 return하도록 solution 함수를 완성해주세요.\n",
    "'''\n",
    "def solution(num_list, n):\n",
    "    answer = []\n",
    "    for i in range(len(num_list)):\n",
    "        if i % n == 0:\n",
    "            answer.append(num_list[i])\n",
    "    return answer"
   ]
  },
  {
   "cell_type": "code",
   "execution_count": 27,
   "metadata": {},
   "outputs": [],
   "source": [
    "'''조건에 맞게 수열 변환하기 1\n",
    "문제 설명\n",
    "정수 배열 arr가 주어집니다. arr의 각 원소에 대해 값이 50보다 크거나 같은 짝수라면 2로 나누고, 50보다 작은 홀수라면 2를 곱합니다. 그 결과인 정수 배열을 return 하는 solution 함수를 완성해 주세요.\n",
    "'''\n",
    "def solution(arr):\n",
    "    answer = []\n",
    "    for i in arr:\n",
    "        if i >= 50 and i % 2 == 0:\n",
    "            answer.append(i // 2)\n",
    "        elif i < 50 and i % 2 == 1:\n",
    "            answer.append(i * 2)\n",
    "        else:\n",
    "            answer.append(i)\n",
    "    return answer"
   ]
  },
  {
   "cell_type": "code",
   "execution_count": 28,
   "metadata": {},
   "outputs": [],
   "source": [
    "'''홀수 vs 짝수\n",
    "문제 설명\n",
    "정수 리스트 num_list가 주어집니다. 가장 첫 번째 원소를 1번 원소라고 할 때, 홀수 번째 원소들의 합과 짝수 번째 원소들의 합 중 큰 값을 return 하도록 solution 함수를 완성해주세요. 두 값이 같을 경우 그 값을 return합니다.\n",
    "'''\n",
    "def solution(num_list):\n",
    "    a = 0\n",
    "    b = 0\n",
    "    for i in range(len(num_list)):\n",
    "        if i % 2 == 0:\n",
    "            a += num_list[i]\n",
    "        else:\n",
    "            b += num_list[i]\n",
    "    answer = max(a, b)\n",
    "    return answer"
   ]
  },
  {
   "cell_type": "code",
   "execution_count": 29,
   "metadata": {},
   "outputs": [],
   "source": [
    "'''문자열 바꿔서 찾기\n",
    "문제 설명\n",
    "문자 \"A\"와 \"B\"로 이루어진 문자열 myString과 pat가 주어집니다. myString의 \"A\"를 \"B\"로, \"B\"를 \"A\"로 바꾼 문자열의 연속하는 부분 문자열 중 pat이 있으면 1을 아니면 0을 return 하는 solution 함수를 완성하세요.\n",
    "'''\n",
    "def solution(myString, pat):\n",
    "    answer = 0\n",
    "    s = ''\n",
    "    for i in myString:\n",
    "        if i == 'A':\n",
    "            s += 'B'\n",
    "        else:\n",
    "            s += 'A'\n",
    "    if pat in s:\n",
    "        answer = 1\n",
    "    return answer"
   ]
  },
  {
   "cell_type": "code",
   "execution_count": 30,
   "metadata": {},
   "outputs": [],
   "source": [
    "'''배열의 원소만큼 추가하기\n",
    "문제 설명\n",
    "아무 원소도 들어있지 않은 빈 배열 X가 있습니다. 양의 정수 배열 arr가 매개변수로 주어질 때, arr의 앞에서부터 차례대로 원소를 보면서 원소가 a라면 X의 맨 뒤에 a를 a번 추가하는 일을 반복한 뒤의 배열 X를 return 하는 solution 함수를 작성해 주세요.\n",
    "'''\n",
    "def solution(arr):\n",
    "    answer = []\n",
    "    for i in arr:\n",
    "        for j in range(i):\n",
    "            answer.append(i)\n",
    "    return answer"
   ]
  },
  {
   "cell_type": "code",
   "execution_count": 31,
   "metadata": {},
   "outputs": [],
   "source": [
    "'''뒤에서 5등까지\n",
    "문제 설명\n",
    "정수로 이루어진 리스트 num_list가 주어집니다. num_list에서 가장 작은 5개의 수를 오름차순으로 담은 리스트를 return하도록 solution 함수를 완성해주세요.\n",
    "'''\n",
    "def solution(num_list):\n",
    "    num_list.sort()\n",
    "    answer = num_list[:5]\n",
    "    return answer"
   ]
  },
  {
   "cell_type": "code",
   "execution_count": 32,
   "metadata": {},
   "outputs": [],
   "source": [
    "'''홀짝에 따라 다른 값 반환하기\n",
    "문제 설명\n",
    "양의 정수 n이 매개변수로 주어질 때, n이 홀수라면 n 이하의 홀수인 모든 양의 정수의 합을 return 하고 n이 짝수라면 n 이하의 짝수인 모든 양의 정수의 제곱의 합을 return 하는 solution 함수를 작성해 주세요.\n",
    "'''\n",
    "def solution(n):\n",
    "    answer = 0\n",
    "    if n % 2 == 0:\n",
    "        for i in range(0, n + 1, 2):\n",
    "            answer += i ** 2\n",
    "    else:\n",
    "        for i in range(1, n + 1, 2):\n",
    "            answer += i\n",
    "    return answer"
   ]
  },
  {
   "cell_type": "code",
   "execution_count": 33,
   "metadata": {},
   "outputs": [],
   "source": [
    "'''접미사인지 확인하기\n",
    "문제 설명\n",
    "어떤 문자열에 대해서 접미사는 특정 인덱스부터 시작하는 문자열을 의미합니다. 예를 들어, \"banana\"의 모든 접미사는 \"banana\", \"anana\", \"nana\", \"ana\", \"na\", \"a\"입니다.\n",
    "문자열 my_string과 is_suffix가 주어질 때, is_suffix가 my_string의 접미사라면 1을, 아니면 0을 return 하는 solution 함수를 작성해 주세요.\n",
    "'''\n",
    "def solution(my_string, is_suffix):\n",
    "    answer = 0\n",
    "    try:\n",
    "        if my_string[-len(is_suffix):] == is_suffix:\n",
    "            answer = 1\n",
    "    except:\n",
    "        pass\n",
    "    return answer"
   ]
  },
  {
   "cell_type": "code",
   "execution_count": 34,
   "metadata": {},
   "outputs": [],
   "source": [
    "'''A 강조하기\n",
    "문제 설명\n",
    "문자열 myString이 주어집니다. myString에서 알파벳 \"a\"가 등장하면 전부 \"A\"로 변환하고, \"A\"가 아닌 모든 대문자 알파벳은 소문자 알파벳으로 변환하여 return 하는 solution 함수를 완성하세요.\n",
    "'''\n",
    "def solution(myString):\n",
    "    answer = myString.lower().replace('a', 'A')\n",
    "    return answer"
   ]
  },
  {
   "cell_type": "code",
   "execution_count": 35,
   "metadata": {},
   "outputs": [],
   "source": [
    "'''공백으로 구분하기 2\n",
    "문제 설명\n",
    "단어가 공백 한 개 이상으로 구분되어 있는 문자열 my_string이 매개변수로 주어질 때, my_string에 나온 단어를 앞에서부터 순서대로 담은 문자열 배열을 return 하는 solution 함수를 작성해 주세요.\n",
    "'''\n",
    "def solution(my_string):\n",
    "    answer = my_string.split()\n",
    "    return answer"
   ]
  },
  {
   "cell_type": "code",
   "execution_count": 36,
   "metadata": {},
   "outputs": [
    {
     "ename": "ValueError",
     "evalue": "invalid literal for int() with base 10: ''",
     "output_type": "error",
     "traceback": [
      "\u001b[1;31m---------------------------------------------------------------------------\u001b[0m",
      "\u001b[1;31mValueError\u001b[0m                                Traceback (most recent call last)",
      "Cell \u001b[1;32mIn[36], line 7\u001b[0m\n\u001b[0;32m      1\u001b[0m \u001b[39m'''덧셈식 출력하기\u001b[39;00m\n\u001b[0;32m      2\u001b[0m \u001b[39m문제 설명\u001b[39;00m\n\u001b[0;32m      3\u001b[0m \u001b[39m두 정수 a, b가 주어질 때 다음과 같은 형태의 계산식을 출력하는 코드를 작성해 보세요.\u001b[39;00m\n\u001b[0;32m      4\u001b[0m \n\u001b[0;32m      5\u001b[0m \u001b[39ma + b = c\u001b[39;00m\n\u001b[0;32m      6\u001b[0m \u001b[39m'''\u001b[39;00m\n\u001b[1;32m----> 7\u001b[0m a, b \u001b[39m=\u001b[39m \u001b[39mmap\u001b[39m(\u001b[39mint\u001b[39m, \u001b[39minput\u001b[39m()\u001b[39m.\u001b[39mstrip()\u001b[39m.\u001b[39msplit(\u001b[39m'\u001b[39m\u001b[39m \u001b[39m\u001b[39m'\u001b[39m))\n\u001b[0;32m      8\u001b[0m \u001b[39mprint\u001b[39m(a, \u001b[39m'\u001b[39m\u001b[39m+\u001b[39m\u001b[39m'\u001b[39m, b, \u001b[39m'\u001b[39m\u001b[39m=\u001b[39m\u001b[39m'\u001b[39m, a \u001b[39m+\u001b[39m b)\n",
      "\u001b[1;31mValueError\u001b[0m: invalid literal for int() with base 10: ''"
     ]
    }
   ],
   "source": [
    "'''덧셈식 출력하기\n",
    "문제 설명\n",
    "두 정수 a, b가 주어질 때 다음과 같은 형태의 계산식을 출력하는 코드를 작성해 보세요.\n",
    "\n",
    "a + b = c\n",
    "'''\n",
    "a, b = map(int, input().strip().split(' '))\n",
    "print(a, '+', b, '=', a + b)"
   ]
  },
  {
   "cell_type": "code",
   "execution_count": null,
   "metadata": {},
   "outputs": [],
   "source": [
    "'''부분 문자열 이어 붙여 문자열 만들기\n",
    "문제 설명\n",
    "길이가 같은 문자열 배열 my_strings와 이차원 정수 배열 parts가 매개변수로 주어집니다. parts[i]는 [s, e] 형태로, my_string[i]의 인덱스 s부터 인덱스 e까지의 부분 문자열을 의미합니다. 각 my_strings의 원소의 parts에 해당하는 부분 문자열을 순서대로 이어 붙인 문자열을 return 하는 solution 함수를 작성해 주세요.\n",
    "'''\n",
    "def solution(my_strings, parts):\n",
    "    answer = ''\n",
    "    for i in range(len(parts)):\n",
    "        answer += my_strings[i][parts[i][0]:parts[i][1] + 1]\n",
    "    return answer"
   ]
  },
  {
   "cell_type": "code",
   "execution_count": null,
   "metadata": {},
   "outputs": [],
   "source": [
    "'''꼬리 문자열\n",
    "문제 설명\n",
    "문자열들이 담긴 리스트가 주어졌을 때, 모든 문자열들을 순서대로 합친 문자열을 꼬리 문자열이라고 합니다. 꼬리 문자열을 만들 때 특정 문자열을 포함한 문자열은 제외시키려고 합니다. 예를 들어 문자열 리스트 [\"abc\", \"def\", \"ghi\"]가 있고 문자열 \"ef\"를 포함한 문자열은 제외하고 꼬리 문자열을 만들면 \"abcghi\"가 됩니다.\n",
    "\n",
    "문자열 리스트 str_list와 제외하려는 문자열 ex가 주어질 때, str_list에서 ex를 포함한 문자열을 제외하고 만든 꼬리 문자열을 return하도록 solution 함수를 완성해주세요.\n",
    "'''\n",
    "def solution(str_list, ex):\n",
    "    answer = ''\n",
    "    for i in str_list:\n",
    "        if ex in i:\n",
    "            pass\n",
    "        else:\n",
    "            answer += i\n",
    "    return answer"
   ]
  },
  {
   "cell_type": "code",
   "execution_count": null,
   "metadata": {},
   "outputs": [],
   "source": [
    "'''접미사 배열\n",
    "문제 설명\n",
    "어떤 문자열에 대해서 접미사는 특정 인덱스부터 시작하는 문자열을 의미합니다. 예를 들어, \"banana\"의 모든 접미사는 \"banana\", \"anana\", \"nana\", \"ana\", \"na\", \"a\"입니다.\n",
    "문자열 my_string이 매개변수로 주어질 때, my_string의 모든 접미사를 사전순으로 정렬한 문자열 배열을 return 하는 solution 함수를 작성해 주세요.\n",
    "'''\n",
    "def solution(my_string):\n",
    "    answer = []\n",
    "    for i in range(1, len(my_string) + 1):\n",
    "        answer.append(my_string[-i:])\n",
    "    answer.sort()\n",
    "    return answer"
   ]
  },
  {
   "cell_type": "code",
   "execution_count": null,
   "metadata": {},
   "outputs": [
    {
     "name": "stdout",
     "output_type": "stream",
     "text": [
      "a\n",
      "d\n",
      "s\n"
     ]
    }
   ],
   "source": [
    "'''문자열 돌리기\n",
    "문제 설명\n",
    "문자열 str이 주어집니다.\n",
    "문자열을 시계방향으로 90도 돌려서 아래 입출력 예와 같이 출력하는 코드를 작성해 보세요.\n",
    "'''\n",
    "str = input()\n",
    "for i in str:\n",
    "    print(i)"
   ]
  },
  {
   "cell_type": "code",
   "execution_count": null,
   "metadata": {},
   "outputs": [],
   "source": [
    "'''문자열 섞기\n",
    "문제 설명\n",
    "길이가 같은 두 문자열 str1과 str2가 주어집니다.\n",
    "\n",
    "두 문자열의 각 문자가 앞에서부터 서로 번갈아가면서 한 번씩 등장하는 문자열을 만들어 return 하는 solution 함수를 완성해 주세요.\n",
    "'''\n",
    "def solution(str1, str2):\n",
    "    answer = ''\n",
    "    for i in range(len(str1)):\n",
    "        answer += str1[i]\n",
    "        answer += str2[i]\n",
    "    return answer"
   ]
  },
  {
   "cell_type": "code",
   "execution_count": null,
   "metadata": {},
   "outputs": [],
   "source": [
    "'''순서 바꾸기\n",
    "문제 설명\n",
    "정수 리스트 num_list와 정수 n이 주어질 때, num_list를 n 번째 원소 이후의 원소들과 n 번째까지의 원소들로 나눠 n 번째 원소 이후의 원소들을 n 번째까지의 원소들 앞에 붙인 리스트를 return하도록 solution 함수를 완성해주세요.\n",
    "'''\n",
    "def solution(num_list, n):\n",
    "    answer = num_list[n:] + num_list[:n]\n",
    "    return answer"
   ]
  },
  {
   "cell_type": "code",
   "execution_count": null,
   "metadata": {},
   "outputs": [],
   "source": [
    "'''0 떼기\n",
    "문제 설명\n",
    "정수로 이루어진 문자열 n_str이 주어질 때, n_str의 가장 왼쪽에 처음으로 등장하는 0들을 뗀 문자열을 return하도록 solution 함수를 완성해주세요.\n",
    "'''\n",
    "def solution(n_str):\n",
    "    for i in n_str:\n",
    "        if i != '0':\n",
    "            break\n",
    "    answer = n_str[n_str.index(i):]\n",
    "    return answer"
   ]
  }
 ],
 "metadata": {
  "kernelspec": {
   "display_name": "base",
   "language": "python",
   "name": "python3"
  },
  "language_info": {
   "codemirror_mode": {
    "name": "ipython",
    "version": 3
   },
   "file_extension": ".py",
   "mimetype": "text/x-python",
   "name": "python",
   "nbconvert_exporter": "python",
   "pygments_lexer": "ipython3",
   "version": "3.9.12"
  },
  "orig_nbformat": 4
 },
 "nbformat": 4,
 "nbformat_minor": 2
}

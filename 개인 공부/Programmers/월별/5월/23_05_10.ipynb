{
 "cells": [
  {
   "cell_type": "code",
   "execution_count": 2,
   "metadata": {},
   "outputs": [],
   "source": [
    "'''문자열 정수의 합\n",
    "문제 설명\n",
    "한 자리 정수로 이루어진 문자열 num_str이 주어질 때, 각 자리수의 합을 return하도록 solution 함수를 완성해주세요.\n",
    "'''\n",
    "def solution(num_str):\n",
    "    answer = 0\n",
    "    for i in num_str:\n",
    "        answer += int(i)\n",
    "    return answer"
   ]
  },
  {
   "cell_type": "code",
   "execution_count": 1,
   "metadata": {},
   "outputs": [],
   "source": [
    "'''더 크게 합치기\n",
    "문제 설명\n",
    "연산 ⊕는 두 정수에 대한 연산으로 두 정수를 붙여서 쓴 값을 반환합니다. 예를 들면 다음과 같습니다.\n",
    "\n",
    "12 ⊕ 3 = 123\n",
    "3 ⊕ 12 = 312\n",
    "양의 정수 a와 b가 주어졌을 때, a ⊕ b와 b ⊕ a 중 더 큰 값을 return 하는 solution 함수를 완성해 주세요.\n",
    "\n",
    "단, a ⊕ b와 b ⊕ a가 같다면 a ⊕ b를 return 합니다.\n",
    "'''\n",
    "def solution(a, b):\n",
    "    c = int(str(a) + str(b))\n",
    "    d = int(str(b) + str(a))\n",
    "    answer = max(c, d)\n",
    "    return answer"
   ]
  },
  {
   "cell_type": "code",
   "execution_count": 3,
   "metadata": {},
   "outputs": [],
   "source": [
    "'''n 번째 원소부터\n",
    "문제 설명\n",
    "정수 리스트 num_list와 정수 n이 주어질 때, n 번째 원소부터 마지막 원소까지의 모든 원소를 담은 리스트를 return하도록 solution 함수를 완성해주세요.\n",
    "'''\n",
    "def solution(num_list, n):\n",
    "    answer = num_list[n - 1:]\n",
    "    return answer"
   ]
  },
  {
   "cell_type": "code",
   "execution_count": 4,
   "metadata": {},
   "outputs": [],
   "source": [
    "'''n보다 커질 때까지 더하기\n",
    "문제 설명\n",
    "정수 배열 numbers와 정수 n이 매개변수로 주어집니다. numbers의 원소를 앞에서부터 하나씩 더하다가 그 합이 n보다 커지는 순간 이때까지 더했던 원소들의 합을 return 하는 solution 함수를 작성해 주세요.\n",
    "'''\n",
    "def solution(numbers, n):\n",
    "    answer = 0\n",
    "    for i in numbers:\n",
    "        if answer > n:\n",
    "            break\n",
    "        answer += i\n",
    "    return answer"
   ]
  },
  {
   "cell_type": "code",
   "execution_count": 5,
   "metadata": {},
   "outputs": [],
   "source": [
    "'''첫 번째로 나오는 음수\n",
    "문제 설명\n",
    "정수 리스트 num_list가 주어질 때, 첫 번째로 나오는 음수의 인덱스를 return하도록 solution 함수를 완성해주세요. 음수가 없다면 -1을 return합니다.\n",
    "'''\n",
    "def solution(num_list):\n",
    "    answer = -1\n",
    "    for i in num_list:\n",
    "        if i < 0:\n",
    "            answer = num_list.index(i)\n",
    "            break\n",
    "    return answer"
   ]
  },
  {
   "cell_type": "code",
   "execution_count": 6,
   "metadata": {},
   "outputs": [],
   "source": [
    "'''수 조작하기 1\n",
    "문제 설명\n",
    "정수 n과 문자열 control이 주어집니다. control은 \"w\", \"a\", \"s\", \"d\"의 4개의 문자로 이루어져 있으며, control의 앞에서부터 순서대로 문자에 따라 n의 값을 바꿉니다.\n",
    "\n",
    "\"w\" : n이 1 커집니다.\n",
    "\"s\" : n이 1 작아집니다.\n",
    "\"d\" : n이 10 커집니다.\n",
    "\"a\" : n이 10 작아집니다.\n",
    "위 규칙에 따라 n을 바꿨을 때 가장 마지막에 나오는 n의 값을 return 하는 solution 함수를 완성해 주세요.\n",
    "'''\n",
    "def solution(n, control):\n",
    "    l = [1, -1, 10, -10]\n",
    "    s = 'wsda'\n",
    "    for i in control:\n",
    "        n += l[s.index(i)]\n",
    "    return n\n"
   ]
  },
  {
   "cell_type": "code",
   "execution_count": 7,
   "metadata": {},
   "outputs": [],
   "source": [
    "'''글자 이어 붙여 문자열 만들기\n",
    "문제 설명\n",
    "문자열 my_string과 정수 배열 index_list가 매개변수로 주어집니다. my_string의 index_list의 원소들에 해당하는 인덱스의 글자들을 순서대로 이어 붙인 문자열을 return 하는 solution 함수를 작성해 주세요.\n",
    "'''\n",
    "def solution(my_string, index_list):\n",
    "    answer = ''\n",
    "    for i in index_list:\n",
    "        answer += my_string[i]\n",
    "    return answer"
   ]
  },
  {
   "cell_type": "code",
   "execution_count": 9,
   "metadata": {},
   "outputs": [],
   "source": [
    "'''원하는 문자열 찾기\n",
    "문제 설명\n",
    "알파벳으로 이루어진 문자열 myString과 pat이 주어집니다. myString의 연속된 부분 문자열 중 pat이 존재하면 1을 그렇지 않으면 0을 return 하는 solution 함수를 완성해 주세요.\n",
    "\n",
    "단, 알파벳 대문자와 소문자는 구분하지 않습니다.\n",
    "'''\n",
    "def solution(myString, pat):\n",
    "    answer = 0\n",
    "    m = myString.lower()\n",
    "    p = pat.lower()\n",
    "    if p in m:\n",
    "        answer = 1\n",
    "    return answer"
   ]
  },
  {
   "cell_type": "code",
   "execution_count": 10,
   "metadata": {},
   "outputs": [],
   "source": [
    "'''카운트 다운\n",
    "문제 설명\n",
    "정수 start와 end가 주어질 때, start에서 end까지 1씩 감소하는 수들을 차례로 담은 리스트를 return하도록 solution 함수를 완성해주세요.\n",
    "'''\n",
    "def solution(start, end):\n",
    "    answer = [i for i in range(start, end - 1, - 1)]\n",
    "    return answer"
   ]
  },
  {
   "cell_type": "code",
   "execution_count": 11,
   "metadata": {},
   "outputs": [],
   "source": [
    "'''rny_string\n",
    "문제 설명\n",
    "'m'과 \"rn\"이 모양이 비슷하게 생긴 점을 활용해 문자열에 장난을 하려고 합니다. 문자열 rny_string이 주어질 때, rny_string의 모든 'm'을 \"rn\"으로 바꾼 문자열을 return 하는 solution 함수를 작성해 주세요.\n",
    "'''\n",
    "def solution(rny_string):\n",
    "    answer = rny_string.replace('m', 'rn')\n",
    "    return answer"
   ]
  },
  {
   "cell_type": "code",
   "execution_count": 12,
   "metadata": {},
   "outputs": [],
   "source": [
    "'''뒤에서 5등 위로\n",
    "문제 설명\n",
    "정수로 이루어진 리스트 num_list가 주어집니다. num_list에서 가장 작은 5개의 수를 제외한 수들을 오름차순으로 담은 리스트를 return하도록 solution 함수를 완성해주세요.\n",
    "'''\n",
    "def solution(num_list):\n",
    "    num_list.sort()\n",
    "    answer = num_list[5:]\n",
    "    return answer"
   ]
  },
  {
   "cell_type": "code",
   "execution_count": 22,
   "metadata": {},
   "outputs": [],
   "source": [
    "'''배열의 길이에 따라 다른 연산하기\n",
    "문제 설명\n",
    "정수 배열 arr과 정수 n이 매개변수로 주어집니다. arr의 길이가 홀수라면 arr의 모든 짝수 인덱스 위치에 n을 더한 배열을, arr의 길이가 짝수라면 arr의 모든 홀수 인덱스 위치에 n을 더한 배열을 return 하는 solution 함수를 작성해 주세요.\n",
    "'''\n",
    "def solution(arr, n):\n",
    "    l = len(arr)\n",
    "    if l % 2 == 1:\n",
    "        answer = [arr[i] + n if i % 2 == 0 else arr[i] for i in range(len(arr))]\n",
    "    else:\n",
    "        answer = [arr[i] + n if i % 2 == 1 else arr[i] for i in range(len(arr))]\n",
    "    return answer"
   ]
  },
  {
   "cell_type": "code",
   "execution_count": 23,
   "metadata": {},
   "outputs": [],
   "source": [
    "'''배열에서 문자열 대소문자 변환하기\n",
    "문제 설명\n",
    "문자열 배열 strArr가 주어집니다. 모든 원소가 알파벳으로만 이루어져 있을 때, 배열에서 홀수번째 인덱스의 문자열은 모든 문자를 대문자로, 짝수번째 인덱스의 문자열은 모든 문자를 소문자로 바꿔서 반환하는 solution 함수를 완성해 주세요.\n",
    "'''\n",
    "def solution(strArr):\n",
    "    answer = []\n",
    "    for i in range(len(strArr)):\n",
    "        if i % 2 == 0:\n",
    "            answer.append(strArr[i].lower())\n",
    "        else:\n",
    "            answer.append(strArr[i].upper())\n",
    "    return answer"
   ]
  },
  {
   "cell_type": "code",
   "execution_count": 24,
   "metadata": {},
   "outputs": [
    {
     "data": {
      "text/plain": [
       "'문자열 붙여서 출력하기\\n문제 설명\\n두 개의 문자열 str1, str2가 공백으로 구분되어 입력으로 주어집니다.\\n입출력 예와 같이 str1과 str2을 이어서 출력하는 코드를 작성해 보세요.\\n'"
      ]
     },
     "execution_count": 24,
     "metadata": {},
     "output_type": "execute_result"
    }
   ],
   "source": [
    "'''문자열 붙여서 출력하기\n",
    "문제 설명\n",
    "두 개의 문자열 str1, str2가 공백으로 구분되어 입력으로 주어집니다.\n",
    "입출력 예와 같이 str1과 str2을 이어서 출력하는 코드를 작성해 보세요.\n",
    "'''\n",
    "# str1, str2 = input().strip().split(' ')\n",
    "# print(str1+str2)"
   ]
  },
  {
   "cell_type": "code",
   "execution_count": 25,
   "metadata": {},
   "outputs": [],
   "source": [
    "'''이어 붙인 수\n",
    "문제 설명\n",
    "정수가 담긴 리스트 num_list가 주어집니다. num_list의 홀수만 순서대로 이어 붙인 수와 짝수만 순서대로 이어 붙인 수의 합을 return하도록 solution 함수를 완성해주세요.\n",
    "'''\n",
    "def solution(num_list):\n",
    "    a = ''\n",
    "    b = ''\n",
    "    for i in num_list:\n",
    "        if i % 2 == 0:\n",
    "            a += str(i)\n",
    "        else:\n",
    "            b += str(i)\n",
    "    answer = int(a) + int(b)\n",
    "    return answer"
   ]
  },
  {
   "cell_type": "code",
   "execution_count": 26,
   "metadata": {},
   "outputs": [],
   "source": [
    "'''특정한 문자를 대문자로 바꾸기\n",
    "문제 설명\n",
    "영소문자로 이루어진 문자열 my_string과 영소문자 1글자로 이루어진 문자열 alp가 매개변수로 주어질 때, my_string에서 alp에 해당하는 모든 글자를 대문자로 바꾼 문자열을 return 하는 solution 함수를 작성해 주세요.\n",
    "'''\n",
    "def solution(my_string, alp):\n",
    "    answer = ''\n",
    "    for i in my_string:\n",
    "        if i == alp:\n",
    "            answer += i.upper()\n",
    "        else:\n",
    "            answer += i\n",
    "    return answer"
   ]
  },
  {
   "cell_type": "code",
   "execution_count": 27,
   "metadata": {},
   "outputs": [
    {
     "name": "stdout",
     "output_type": "stream",
     "text": [
      "2 is even\n"
     ]
    }
   ],
   "source": [
    "'''홀짝 구분하기\n",
    "문제 설명\n",
    "자연수 n이 입력으로 주어졌을 때 만약 n이 짝수이면 \"n is even\"을, 홀수이면 \"n is odd.\"를 출력하는 코드를 작성해 보세요.\n",
    "'''\n",
    "a = int(input())\n",
    "if a % 2 == 0:\n",
    "    print(a, 'is even')\n",
    "else:\n",
    "    print(a, 'is odd')"
   ]
  },
  {
   "cell_type": "code",
   "execution_count": 28,
   "metadata": {},
   "outputs": [],
   "source": [
    "'''부분 문자열\n",
    "문제 설명\n",
    "어떤 문자열 A가 다른 문자열 B안에 속하면 A를 B의 부분 문자열이라고 합니다. 예를 들어 문자열 \"abc\"는 문자열 \"aabcc\"의 부분 문자열입니다.\n",
    "\n",
    "문자열 str1과 str2가 주어질 때, str1이 str2의 부분 문자열이라면 1을 부분 문자열이 아니라면 0을 return하도록 solution 함수를 완성해주세요.\n",
    "'''\n",
    "def solution(str1, str2):\n",
    "    answer = 0\n",
    "    if str1 in str2:\n",
    "        answer = 1\n",
    "    return answer"
   ]
  },
  {
   "cell_type": "code",
   "execution_count": 29,
   "metadata": {},
   "outputs": [],
   "source": [
    "'''접두사인지 확인하기\n",
    "문제 설명\n",
    "어떤 문자열에 대해서 접두사는 특정 인덱스까지의 문자열을 의미합니다. 예를 들어, \"banana\"의 모든 접두사는 \"b\", \"ba\", \"ban\", \"bana\", \"banan\", \"banana\"입니다.\n",
    "문자열 my_string과 is_prefix가 주어질 때, is_prefix가 my_string의 접두사라면 1을, 아니면 0을 return 하는 solution 함수를 작성해 주세요.\n",
    "'''\n",
    "def solution(my_string, is_prefix):\n",
    "    answer = 0\n",
    "    try:\n",
    "        if my_string[:len(is_prefix)] == is_prefix:\n",
    "            answer = 1\n",
    "    except:\n",
    "        pass\n",
    "    return answer"
   ]
  },
  {
   "cell_type": "code",
   "execution_count": 1,
   "metadata": {},
   "outputs": [],
   "source": [
    "'''주사위 게임 1\n",
    "문제 설명\n",
    "1부터 6까지 숫자가 적힌 주사위가 두 개 있습니다. 두 주사위를 굴렸을 때 나온 \b숫자를 각각 a, b라고 했을 때 얻는 점수는 다음과 같습니다.\n",
    "\n",
    "a와 b가 모두 홀수라면 a2 + b2 점을 얻습니다.\n",
    "a와 b 중 하나만 홀수라면 2 × (a + b) 점을 얻습니다.\n",
    "a와 b 모두 홀수가 아니라면 |a - b| 점을 얻습니다.\n",
    "두 정수 a와 b가 매개변수로 주어질 때, 얻는 점수를 return 하는 solution 함수를 작성해 주세요.\n",
    "'''\n",
    "def solution(a, b):\n",
    "    answer = 0\n",
    "    if a % 2 == 0 and b % 2 == 0:\n",
    "        answer = abs(a - b)\n",
    "    elif a % 2 == 1 and b % 2 == 1:\n",
    "        answer = (a ** 2) + (b ** 2)\n",
    "    else:\n",
    "        answer = 2 * (a + b)\n",
    "    return answer"
   ]
  },
  {
   "cell_type": "code",
   "execution_count": null,
   "metadata": {},
   "outputs": [],
   "source": []
  }
 ],
 "metadata": {
  "kernelspec": {
   "display_name": "base",
   "language": "python",
   "name": "python3"
  },
  "language_info": {
   "codemirror_mode": {
    "name": "ipython",
    "version": 3
   },
   "file_extension": ".py",
   "mimetype": "text/x-python",
   "name": "python",
   "nbconvert_exporter": "python",
   "pygments_lexer": "ipython3",
   "version": "3.9.12"
  },
  "orig_nbformat": 4
 },
 "nbformat": 4,
 "nbformat_minor": 2
}

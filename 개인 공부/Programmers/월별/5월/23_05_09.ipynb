{
 "cells": [
  {
   "cell_type": "code",
   "execution_count": 1,
   "metadata": {},
   "outputs": [],
   "source": [
    "'''n의 배수\n",
    "문제 설명\n",
    "정수 num과 n이 매개 변수로 주어질 때, num이 n의 배수이면 1을 return n의 배수가 아니라면 0을 return하도록 solution 함수를 완성해주세요.\n",
    "'''\n",
    "def solution(num, n):\n",
    "    answer = 0\n",
    "    if num % n == 0:\n",
    "        answer = 1\n",
    "    return answer"
   ]
  },
  {
   "cell_type": "code",
   "execution_count": 2,
   "metadata": {},
   "outputs": [],
   "source": [
    "'''문자열의 앞의 n글자\n",
    "문제 설명\n",
    "문자열 my_string과 정수 n이 매개변수로 주어질 때, my_string의 앞의 n글자로 이루어진 문자열을 return 하는 solution 함수를 작성해 주세요.\n",
    "'''\n",
    "def solution(my_string, n):\n",
    "    answer = my_string[:n]\n",
    "    return answer"
   ]
  },
  {
   "cell_type": "code",
   "execution_count": 3,
   "metadata": {},
   "outputs": [],
   "source": [
    "'''대문자로 바꾸기\n",
    "문제 설명\n",
    "알파벳으로 이루어진 문자열 myString이 주어집니다. 모든 알파벳을 대문자로 변환하여 return 하는 solution 함수를 완성해 주세요.\n",
    "'''\n",
    "def solution(myString):\n",
    "    answer = myString.upper()\n",
    "    return answer"
   ]
  },
  {
   "cell_type": "code",
   "execution_count": 4,
   "metadata": {},
   "outputs": [],
   "source": [
    "'''flag에 따라 다른 값 반환하기\n",
    "문제 설명\n",
    "두 정수 a, b와 boolean 변수 flag가 매개변수로 주어질 때, flag가 true면 a + b를 false면 a - b를 return 하는 solution 함수를 작성해 주세요.\n",
    "'''\n",
    "def solution(a, b, flag):\n",
    "    answer = 0\n",
    "    if flag == True:\n",
    "        answer = a + b\n",
    "    else:\n",
    "        answer = a - b\n",
    "    return answer"
   ]
  },
  {
   "cell_type": "code",
   "execution_count": 5,
   "metadata": {},
   "outputs": [],
   "source": [
    "'''조건에 맞게 수열 변환하기 3\n",
    "문제 설명\n",
    "정수 배열 arr와 자연수 k가 주어집니다.\n",
    "\n",
    "만약 k가 홀수라면 arr의 모든 원소에 k를 곱하고, k가 짝수라면 arr의 모든 원소에 k를 더합니다.\n",
    "\n",
    "이러한 변환을 마친 후의 arr를 return 하는 solution 함수를 완성해 주세요.\n",
    "'''\n",
    "def solution(arr, k):\n",
    "    answer = []\n",
    "    if k % 2 == 1:\n",
    "        for i in arr:\n",
    "            answer.append(i * k)\n",
    "    else:\n",
    "        for i in arr:\n",
    "            answer.append(i + k)\n",
    "        \n",
    "    return answer"
   ]
  },
  {
   "cell_type": "code",
   "execution_count": 6,
   "metadata": {},
   "outputs": [],
   "source": [
    "'''정수 부분\n",
    "문제 설명\n",
    "실수 flo가 매개 변수로 주어질 때, flo의 정수 부분을 return하도록 solution 함수를 완성해주세요.\n",
    "'''\n",
    "def solution(flo):\n",
    "    answer = int(flo)\n",
    "    return answer"
   ]
  },
  {
   "cell_type": "code",
   "execution_count": 7,
   "metadata": {},
   "outputs": [],
   "source": [
    "'''문자열로 변환\n",
    "문제 설명\n",
    "정수 n이 주어질 때, n을 문자열로 변환하여 return하도록 solution 함수를 완성해주세요.\n",
    "'''\n",
    "def solution(n):\n",
    "    answer = str(n)\n",
    "    return answer"
   ]
  },
  {
   "cell_type": "code",
   "execution_count": 8,
   "metadata": {},
   "outputs": [],
   "source": [
    "'''소문자로 바꾸기\n",
    "문제 설명\n",
    "알파벳으로 이루어진 문자열 myString이 주어집니다. 모든 알파벳을 소문자로 변환하여 return 하는 solution 함수를 완성해 주세요.\n",
    "'''\n",
    "def solution(myString):\n",
    "    answer = myString.lower()\n",
    "    return answer"
   ]
  },
  {
   "cell_type": "code",
   "execution_count": 9,
   "metadata": {},
   "outputs": [],
   "source": [
    "'''n 번째 원소까지\n",
    "문제 설명\n",
    "정수 리스트 num_list와 정수 n이 주어질 때, num_list의 첫 번째 원소부터 n 번째 원소까지의 모든 원소를 담은 리스트를 return하도록 solution 함수를 완성해주세요.\n",
    "'''\n",
    "def solution(num_list, n):\n",
    "    answer = num_list[:n]\n",
    "    return answer"
   ]
  },
  {
   "cell_type": "code",
   "execution_count": 10,
   "metadata": {},
   "outputs": [],
   "source": [
    "'''문자열을 정수로 변환하기\n",
    "문제 설명\n",
    "숫자로만 이루어진 문자열 n_str이 주어질 때, n_str을 정수로 변환하여 return하도록 solution 함수를 완성해주세요.\n",
    "'''\n",
    "def solution(n_str):\n",
    "    answer = int(n_str)\n",
    "    return answer "
   ]
  },
  {
   "cell_type": "code",
   "execution_count": 11,
   "metadata": {},
   "outputs": [],
   "source": [
    "'''문자열 곱하기\n",
    "문제 설명\n",
    "문자열 my_string과 정수 k가 주어질 때, my_string을 k번 반복한 문자열을 return 하는 solution 함수를 작성해 주세요.\n",
    "'''\n",
    "def solution(my_string, k):\n",
    "    answer = my_string * k\n",
    "    return answer"
   ]
  },
  {
   "cell_type": "code",
   "execution_count": 12,
   "metadata": {},
   "outputs": [],
   "source": [
    "'''원소들의 곱과 합\n",
    "문제 설명\n",
    "정수가 담긴 리스트 num_list가 주어질 때, 모든 원소들의 곱이 모든 원소들의 합의 제곱보다 작으면 1을 크면 0을 return하도록 solution 함수를 완성해주세요.\n",
    "'''\n",
    "def solution(num_list):\n",
    "    answer = 0\n",
    "    x = 1\n",
    "    y = 0\n",
    "    for i in num_list:\n",
    "        x *= i\n",
    "        y += i\n",
    "    if x < y ** 2:\n",
    "        answer = 1\n",
    "    return answer"
   ]
  },
  {
   "cell_type": "code",
   "execution_count": 13,
   "metadata": {},
   "outputs": [],
   "source": [
    "'''공배수\n",
    "문제 설명\n",
    "정수 number와 n, m이 주어집니다. number가 n의 배수이면서 m의 배수이면 1을 아니라면 0을 return하도록 solution 함수를 완성해주세요.\n",
    "'''\n",
    "def solution(number, n, m):\n",
    "    answer = 0\n",
    "    if number % n == 0 and number % m == 0:\n",
    "        answer = 1\n",
    "    return answer"
   ]
  },
  {
   "cell_type": "code",
   "execution_count": 14,
   "metadata": {},
   "outputs": [],
   "source": [
    "'''문자열의 뒤의 n글자\n",
    "문제 설명\n",
    "문자열 my_string과 정수 n이 매개변수로 주어질 때, my_string의 뒤의 n글자로 이루어진 문자열을 return 하는 solution 함수를 작성해 주세요.\n",
    "'''\n",
    "def solution(my_string, n):\n",
    "    answer = my_string[-n:]\n",
    "    return answer"
   ]
  },
  {
   "cell_type": "code",
   "execution_count": 15,
   "metadata": {},
   "outputs": [],
   "source": [
    "'''문자 리스트를 문자열로 변환하기\n",
    "문제 설명\n",
    "문자들이 담겨있는 배열 arr가 주어집니다. arr의 원소들을 순서대로 이어 붙인 문자열을 return 하는 solution함수를 작성해 주세요.\n",
    "'''\n",
    "def solution(arr):\n",
    "    answer = ''\n",
    "    for i in arr:\n",
    "        answer += i\n",
    "    return answer"
   ]
  },
  {
   "cell_type": "code",
   "execution_count": 16,
   "metadata": {},
   "outputs": [],
   "source": [
    "'''카운트 업\n",
    "문제 설명\n",
    "정수 start와 end가 주어질 때, start부터 end까지의 숫자를 차례로 담은 리스트를 return하도록 solution 함수를 완성해주세요.\n",
    "'''\n",
    "def solution(start, end):\n",
    "    answer = []\n",
    "    for i in range(start, end + 1):\n",
    "        answer.append(i)\n",
    "    return answer"
   ]
  },
  {
   "cell_type": "code",
   "execution_count": 17,
   "metadata": {},
   "outputs": [],
   "source": [
    "'''공백으로 구분하기 1\n",
    "문제 설명\n",
    "단어가 공백 한 개로 구분되어 있는 문자열 my_string이 매개변수로 주어질 때, my_string에 나온 단어를 앞에서부터 순서대로 담은 문자열 배열을 return 하는 solution 함수를 작성해 주세요.\n",
    "'''\n",
    "def solution(my_string):\n",
    "    answer = my_string.split()\n",
    "    return answer"
   ]
  },
  {
   "cell_type": "code",
   "execution_count": 18,
   "metadata": {},
   "outputs": [],
   "source": [
    "'''정수 찾기\n",
    "문제 설명\n",
    "정수 리스트 num_list와 찾으려는 정수 n이 주어질 때, num_list안에 n이 있으면 1을 없으면 0을 return하도록 solution 함수를 완성해주세요.\n",
    "'''\n",
    "def solution(num_list, n):\n",
    "    answer = 0\n",
    "    if n in num_list:\n",
    "        answer = 1\n",
    "    return answer"
   ]
  },
  {
   "cell_type": "code",
   "execution_count": 19,
   "metadata": {},
   "outputs": [],
   "source": [
    "'''부분 문자열인지 확인하기\n",
    "문제 설명\n",
    "부분 문자열이란 문자열에서 연속된 일부분에 해당하는 문자열을 의미합니다. 예를 들어, 문자열 \"ana\", \"ban\", \"anana\", \"banana\", \"n\"는 모두 문자열 \"banana\"의 부분 문자열이지만, \"aaa\", \"bnana\", \"wxyz\"는 모두 \"banana\"의 부분 문자열이 아닙니다.\n",
    "\n",
    "문자열 my_string과 target이 매개변수로 주어질 때, target이 문자열 my_string의 부분 문자열이라면 1을, 아니라면 0을 return 하는 solution 함수를 작성해 주세요.\n",
    "'''\n",
    "def solution(my_string, target):\n",
    "    answer = 0\n",
    "    if target in my_string:\n",
    "        answer = 1\n",
    "    return answer"
   ]
  },
  {
   "cell_type": "code",
   "execution_count": 20,
   "metadata": {},
   "outputs": [],
   "source": [
    "'''길이에 따른 연산\n",
    "문제 설명\n",
    "정수가 담긴 리스트 num_list가 주어질 때, 리스트의 길이가 11 이상이면 리스트에 있는 모든 원소의 합을 10 이하이면 모든 원소의 곱을 return하도록 solution 함수를 완성해주세요.\n",
    "'''\n",
    "def solution(num_list):\n",
    "    length = len(num_list)\n",
    "    answer = 1\n",
    "    if length >= 11:\n",
    "        answer = sum(num_list)\n",
    "    else:\n",
    "        for i in num_list:\n",
    "            answer *= i\n",
    "    return answer"
   ]
  },
  {
   "cell_type": "code",
   "execution_count": null,
   "metadata": {},
   "outputs": [],
   "source": []
  }
 ],
 "metadata": {
  "kernelspec": {
   "display_name": "base",
   "language": "python",
   "name": "python3"
  },
  "language_info": {
   "codemirror_mode": {
    "name": "ipython",
    "version": 3
   },
   "file_extension": ".py",
   "mimetype": "text/x-python",
   "name": "python",
   "nbconvert_exporter": "python",
   "pygments_lexer": "ipython3",
   "version": "3.9.12"
  },
  "orig_nbformat": 4
 },
 "nbformat": 4,
 "nbformat_minor": 2
}

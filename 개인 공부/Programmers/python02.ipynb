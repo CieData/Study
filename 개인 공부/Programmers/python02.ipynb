{
 "cells": [
  {
   "cell_type": "code",
   "execution_count": 1,
   "metadata": {},
   "outputs": [],
   "source": [
    "#피자 나눠 먹기 (3)\n",
    "import math\n",
    "def solution(slice, n):\n",
    "    answer = math.ceil(n/slice)\n",
    "    return answer"
   ]
  },
  {
   "cell_type": "code",
   "execution_count": 2,
   "metadata": {},
   "outputs": [],
   "source": [
    "#특정 문자 제거하기\n",
    "def solution(my_string, letter):\n",
    "    answer = ''\n",
    "    for i in range(len(my_string)):\n",
    "        if my_string[i]!=letter:\n",
    "            answer+=my_string[i]\n",
    "    return answer"
   ]
  },
  {
   "cell_type": "code",
   "execution_count": 3,
   "metadata": {},
   "outputs": [],
   "source": [
    "#삼각형의 완성조건 (1)\n",
    "def solution(sides):\n",
    "    sides.sort()\n",
    "    if sides[-1]<sides[0]+sides[1]:\n",
    "        answer = 1\n",
    "    else:\n",
    "        answer=2\n",
    "    return answer"
   ]
  },
  {
   "cell_type": "code",
   "execution_count": 4,
   "metadata": {},
   "outputs": [],
   "source": [
    "#짝수 홀수 개수\n",
    "def solution(num_list):\n",
    "    a=0\n",
    "    b=0\n",
    "    for i in range(len(num_list)):\n",
    "        if num_list[i]%2==0:\n",
    "            a+=1\n",
    "        else:\n",
    "            b+=1\n",
    "    answer = [a,b]\n",
    "    return answer"
   ]
  },
  {
   "cell_type": "code",
   "execution_count": 5,
   "metadata": {},
   "outputs": [],
   "source": [
    "#점의 위치 구하기\n",
    "def solution(dot):\n",
    "    if dot[0]>0 and dot[1]>0:\n",
    "        answer=1\n",
    "    elif dot[0]>0 and dot[1]<0:\n",
    "        answer=4\n",
    "    elif dot[0]<0 and dot[1]>0:\n",
    "        answer=2\n",
    "    else:\n",
    "        answer=3\n",
    "    return answer"
   ]
  },
  {
   "cell_type": "code",
   "execution_count": 6,
   "metadata": {},
   "outputs": [],
   "source": [
    "#최댓값 만들기 (1)\n",
    "def solution(numbers):\n",
    "    numbers.sort()\n",
    "    answer = numbers[-1]*numbers[-2]\n",
    "    return answer"
   ]
  },
  {
   "cell_type": "code",
   "execution_count": 7,
   "metadata": {},
   "outputs": [],
   "source": [
    "#문자 반복 출력하기\n",
    "def solution(my_string, n):\n",
    "    answer = ''\n",
    "    for i in range(len(my_string)):\n",
    "        answer+=my_string[i]*n\n",
    "    return answer"
   ]
  },
  {
   "cell_type": "code",
   "execution_count": 8,
   "metadata": {},
   "outputs": [],
   "source": [
    "#짝수는 싫어요\n",
    "def solution(n):\n",
    "    answer = []\n",
    "    for i in range(1,n+1):\n",
    "        if i%2==1:\n",
    "            answer.append(i)\n",
    "    return answer"
   ]
  },
  {
   "cell_type": "code",
   "execution_count": 9,
   "metadata": {},
   "outputs": [],
   "source": [
    "#배열 두배 만들기\n",
    "def solution(numbers):\n",
    "    answer=[]\n",
    "    for i in range(len(numbers)):\n",
    "        answer.append(numbers[i]*2)\n",
    "    return answer"
   ]
  },
  {
   "cell_type": "code",
   "execution_count": 10,
   "metadata": {},
   "outputs": [],
   "source": [
    "#편지\n",
    "def solution(message):\n",
    "    answer = len(message)*2\n",
    "    return answer"
   ]
  },
  {
   "cell_type": "code",
   "execution_count": 11,
   "metadata": {},
   "outputs": [],
   "source": [
    "#중앙값 구하기\n",
    "def solution(array):\n",
    "    array.sort()\n",
    "    answer = array[len(array)//2]\n",
    "    return answer"
   ]
  },
  {
   "cell_type": "code",
   "execution_count": 12,
   "metadata": {},
   "outputs": [],
   "source": [
    "#옷가게 할인 받기\n",
    "def solution(price):\n",
    "    answer=price\n",
    "    if 100000<=price<300000:\n",
    "        answer=int(price*0.95)\n",
    "    elif 300000<=price<500000:\n",
    "        answer=int(price*0.9)\n",
    "    elif 500000<=price:\n",
    "        answer=int(price*0.8)\n",
    "    return answer"
   ]
  },
  {
   "cell_type": "code",
   "execution_count": 13,
   "metadata": {},
   "outputs": [],
   "source": [
    "#순서쌍의 개수\n",
    "import math\n",
    "def solution(n):\n",
    "    a=[]\n",
    "    for i in range(1, int(math.sqrt(n))+1):\n",
    "        if n%i==0:\n",
    "            if i!=n//i:\n",
    "                a.append(i)\n",
    "                a.append(n//i)\n",
    "            else:\n",
    "                a.append(i)\n",
    "    answer = math.ceil(len(a))\n",
    "    return answer"
   ]
  },
  {
   "cell_type": "code",
   "execution_count": 14,
   "metadata": {},
   "outputs": [],
   "source": [
    "#배열의 유사도\n",
    "def solution(s1, s2):\n",
    "    answer = 0\n",
    "    for i in range(len(s1)):\n",
    "        if s1[i] in s2:\n",
    "            answer+=1\n",
    "    return answer"
   ]
  },
  {
   "cell_type": "code",
   "execution_count": 15,
   "metadata": {},
   "outputs": [],
   "source": [
    "#문자열안에 문자열\n",
    "def solution(str1, str2):\n",
    "    answer = 0\n",
    "    if str2 in str1:\n",
    "        answer+=1\n",
    "    else:\n",
    "        answer+=2\n",
    "    return answer"
   ]
  },
  {
   "cell_type": "code",
   "execution_count": 16,
   "metadata": {},
   "outputs": [],
   "source": [
    "#자릿수 더하기\n",
    "def solution(n):\n",
    "    a=list(str(n))\n",
    "    answer = 0\n",
    "    for i in range(len(a)):\n",
    "        answer+=int(a[i])\n",
    "    return answer"
   ]
  },
  {
   "cell_type": "code",
   "execution_count": 17,
   "metadata": {},
   "outputs": [],
   "source": [
    "#제곱수 판별하기\n",
    "def solution(n):\n",
    "    answer = 0\n",
    "    if int(n**(1/2))**2==n:\n",
    "        answer=1\n",
    "    else:\n",
    "        answer=2\n",
    "    return answer"
   ]
  },
  {
   "cell_type": "code",
   "execution_count": 18,
   "metadata": {},
   "outputs": [],
   "source": [
    "#개미 군단\n",
    "def solution(hp):\n",
    "    answer = 0\n",
    "    answer+=hp//5\n",
    "    hp-=5*(hp//5)\n",
    "    answer+=hp//3\n",
    "    hp-=3*(hp//3)\n",
    "    answer+=hp\n",
    "    return answer"
   ]
  },
  {
   "cell_type": "code",
   "execution_count": 19,
   "metadata": {},
   "outputs": [],
   "source": [
    "#숨어있는 숫자의 덧셈 (1)\n",
    "def solution(my_string):\n",
    "    answer = 0\n",
    "    for i in range(len(my_string)):\n",
    "        if my_string[i].isdigit():\n",
    "            answer+=int(my_string[i])\n",
    "    return answer"
   ]
  },
  {
   "cell_type": "code",
   "execution_count": 20,
   "metadata": {},
   "outputs": [],
   "source": [
    "#모음 제거\n",
    "def solution(my_string):\n",
    "    a='aeiou'\n",
    "    answer = ''\n",
    "    for i in range(len(my_string)):\n",
    "        if my_string[i] not in a:\n",
    "            answer+=my_string[i]\n",
    "    return answer"
   ]
  },
  {
   "cell_type": "code",
   "execution_count": null,
   "metadata": {},
   "outputs": [],
   "source": []
  }
 ],
 "metadata": {
  "kernelspec": {
   "display_name": "base",
   "language": "python",
   "name": "python3"
  },
  "language_info": {
   "codemirror_mode": {
    "name": "ipython",
    "version": 3
   },
   "file_extension": ".py",
   "mimetype": "text/x-python",
   "name": "python",
   "nbconvert_exporter": "python",
   "pygments_lexer": "ipython3",
   "version": "3.9.12 (main, Apr  4 2022, 05:22:27) [MSC v.1916 64 bit (AMD64)]"
  },
  "orig_nbformat": 4,
  "vscode": {
   "interpreter": {
    "hash": "7f368c48a586e931bd654761381ef86d5d2c1d8e94773dbceeccd45cd5f51e02"
   }
  }
 },
 "nbformat": 4,
 "nbformat_minor": 2
}

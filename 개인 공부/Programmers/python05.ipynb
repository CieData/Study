{
 "cells": [
  {
   "cell_type": "code",
   "execution_count": null,
   "metadata": {},
   "outputs": [],
   "source": [
    "'''팩토리얼\n",
    "문제 설명\n",
    "i팩토리얼 (i!)은 1부터 i까지 정수의 곱을 의미합니다. 예를들어 5! = 5 * 4 * 3 * 2 * 1 = 120 입니다. 정수 n이 주어질 때 다음 조건을 만족하는 가장 큰 정수 i를 return 하도록 solution 함수를 완성해주세요.\n",
    "\n",
    "i! ≤ n\n",
    "'''\n",
    "def fac(x):\n",
    "    if x==0:\n",
    "        return 1\n",
    "    else:\n",
    "        return x*fac(x-1)\n",
    "def solution(n):\n",
    "    for i in range(n):\n",
    "        if fac(i)>n:\n",
    "            break\n",
    "    answer=i-1\n",
    "    if n<=2:\n",
    "        answer=i+1\n",
    "    elif n==3:\n",
    "        answer=2\n",
    "    return answer"
   ]
  },
  {
   "cell_type": "code",
   "execution_count": null,
   "metadata": {},
   "outputs": [],
   "source": [
    "'''없는 숫자 더하기\n",
    "문제 설명\n",
    "0부터 9까지의 숫자 중 일부가 들어있는 정수 배열 numbers가 매개변수로 주어집니다. numbers에서 찾을 수 없는 0부터 9까지의 숫자를 모두 찾아 더한 수를 return 하도록 solution 함수를 완성해주세요.\n",
    "'''\n",
    "def solution(numbers):\n",
    "    answer = 0\n",
    "    for i in range(10):\n",
    "        if i not in numbers:\n",
    "            answer+=i\n",
    "    return answer"
   ]
  },
  {
   "cell_type": "code",
   "execution_count": null,
   "metadata": {},
   "outputs": [],
   "source": [
    "'''A로 B 만들기\n",
    "문제 설명\n",
    "문자열 before와 after가 매개변수로 주어질 때, before의 순서를 바꾸어 after를 만들 수 있으면 1을, 만들 수 없으면 0을 return 하도록 solution 함수를 완성해보세요.\n",
    "'''\n",
    "def solution(before, after):\n",
    "    answer = 0\n",
    "    cou=0\n",
    "    for i in range(len(before)):\n",
    "        if before.count(before[i])==after.count(before[i]):\n",
    "            cou+=1\n",
    "    if cou==len(before):\n",
    "        answer=1\n",
    "\n",
    "    return answer"
   ]
  },
  {
   "cell_type": "code",
   "execution_count": null,
   "metadata": {},
   "outputs": [],
   "source": [
    "'''가운데 글자 가져오기\n",
    "문제 설명\n",
    "단어 s의 가운데 글자를 반환하는 함수, solution을 만들어 보세요. 단어의 길이가 짝수라면 가운데 두글자를 반환하면 됩니다.\n",
    "'''\n",
    "def solution(s):\n",
    "    answer = ''\n",
    "    if len(s)%2==1:\n",
    "        answer=s[len(s)//2]\n",
    "    else:\n",
    "        answer=s[len(s)//2-1:len(s)//2+1]\n",
    "    return answer"
   ]
  },
  {
   "cell_type": "code",
   "execution_count": null,
   "metadata": {},
   "outputs": [],
   "source": [
    "'''수박수박수박수박수박수?\n",
    "문제 설명\n",
    "길이가 n이고, \"수박수박수박수....\"와 같은 패턴을 유지하는 문자열을 리턴하는 함수, solution을 완성하세요. 예를들어 n이 4이면 \"수박수박\"을 리턴하고 3이라면 \"수박수\"를 리턴하면 됩니다.\n",
    "'''\n",
    "def solution(n):\n",
    "    answer = ''\n",
    "    for i in range(n):\n",
    "        if i%2==0:\n",
    "            answer+='수'\n",
    "        else:\n",
    "            answer+='박'\n",
    "    return answer"
   ]
  },
  {
   "cell_type": "code",
   "execution_count": null,
   "metadata": {},
   "outputs": [],
   "source": [
    "'''2차원으로 만들기\n",
    "문제 설명\n",
    "정수 배열 num_list와 정수 n이 매개변수로 주어집니다. num_list를 다음 설명과 같이 2차원 배열로 바꿔 return하도록 solution 함수를 완성해주세요.\n",
    "\n",
    "num_list가 [1, 2, 3, 4, 5, 6, 7, 8] 로 길이가 8이고 n이 2이므로 num_list를 2 * 4 배열로 다음과 같이 변경합니다. 2차원으로 바꿀 때에는 num_list의 원소들을 앞에서부터 n개씩 나눠 2차원 배열로 변경합니다.\n",
    "'''\n",
    "def solution(num_list, n):\n",
    "    answer = []\n",
    "    a=[]\n",
    "    for i in range(len(num_list)):\n",
    "        a.append(num_list[i])\n",
    "        if len(a)==n:\n",
    "            answer.append(a)\n",
    "            a=[]\n",
    "    return answer"
   ]
  },
  {
   "cell_type": "code",
   "execution_count": null,
   "metadata": {},
   "outputs": [],
   "source": [
    "'''가까운 수\n",
    "문제 설명\n",
    "정수 배열 array와 정수 n이 매개변수로 주어질 때, array에 들어있는 정수 중 n과 가장 가까운 수를 return 하도록 solution 함수를 완성해주세요.\n",
    "'''\n",
    "def solution(array, n):\n",
    "    answer = 0\n",
    "    array.sort()\n",
    "    a=[]\n",
    "    for i in range(len(array)):\n",
    "        a.append(abs(array[i]-n))\n",
    "    answer=array[a.index(min(a))]\n",
    "    return answer"
   ]
  },
  {
   "cell_type": "code",
   "execution_count": null,
   "metadata": {},
   "outputs": [],
   "source": [
    "'''k의 개수\n",
    "문제 설명\n",
    "1부터 13까지의 수에서, 1은 1, 10, 11, 12, 13 이렇게 총 6번 등장합니다. 정수 i, j, k가 매개변수로 주어질 때, i부터 j까지 k가 몇 번 등장하는지 return 하도록 solution 함수를 완성해주세요.\n",
    "'''\n",
    "def solution(i, j, k):\n",
    "    answer = 0\n",
    "    for x in range(i,j+1):\n",
    "        answer+=str(x).count(str(k))\n",
    "    return answer"
   ]
  },
  {
   "cell_type": "code",
   "execution_count": null,
   "metadata": {},
   "outputs": [],
   "source": [
    "'''내적\n",
    "문제 설명\n",
    "길이가 같은 두 1차원 정수 배열 a, b가 매개변수로 주어집니다. a와 b의 내적을 return 하도록 solution 함수를 완성해주세요.\n",
    "\n",
    "이때, a와 b의 내적은 a[0]*b[0] + a[1]*b[1] + ... + a[n-1]*b[n-1] 입니다. (n은 a, b의 길이)\n",
    "'''\n",
    "def solution(a, b):\n",
    "    answer = 0\n",
    "    for i in range(len(a)):\n",
    "        answer+=a[i]*b[i]\n",
    "    return answer"
   ]
  },
  {
   "cell_type": "code",
   "execution_count": null,
   "metadata": {},
   "outputs": [],
   "source": [
    "'''진료 순서 정하기\n",
    "문제 설명\n",
    "외과의사 머쓱이는 응급실에 온 환자의 응급도를 기준으로 진료 순서를 정하려고 합니다. 정수 배열 emergency가 매개변수로 주어질 때 응급도가 높은 순서대로 진료 순서를 정한 배열을 return하도록 solution 함수를 완성해주세요.\n",
    "'''\n",
    "def solution(a):\n",
    "    answer = []\n",
    "    for i in range(len(a)):\n",
    "        count=1\n",
    "        for j in range(len(a)):\n",
    "            if a[i]<a[j]:\n",
    "                count+=1\n",
    "        answer.append(count)\n",
    "    return answer"
   ]
  },
  {
   "cell_type": "code",
   "execution_count": null,
   "metadata": {},
   "outputs": [],
   "source": [
    "'''문자열 내림차순으로 배치하기\n",
    "문제 설명\n",
    "문자열 s에 나타나는 문자를 큰것부터 작은 순으로 정렬해 새로운 문자열을 리턴하는 함수, solution을 완성해주세요.\n",
    "s는 영문 대소문자로만 구성되어 있으며, 대문자는 소문자보다 작은 것으로 간주합니다.\n",
    "'''\n",
    "def solution(s):\n",
    "    answer = ''\n",
    "    a=[]\n",
    "    b=[]\n",
    "    for i in s:\n",
    "        if i.isupper():\n",
    "            b.append(i)\n",
    "        else:\n",
    "            a.append(i)\n",
    "    a.sort(reverse=True)\n",
    "    b.sort(reverse=True)\n",
    "    answer=''.join(a)\n",
    "    answer+=''.join(b)\n",
    "    return answer"
   ]
  },
  {
   "cell_type": "code",
   "execution_count": null,
   "metadata": {},
   "outputs": [],
   "source": [
    "'''한 번만 등장한 문자\n",
    "문제 설명\n",
    "문자열 s가 매개변수로 주어집니다. s에서 한 번만 등장하는 문자를 사전 순으로 정렬한 문자열을 return 하도록 solution 함수를 완성해보세요. 한 번만 등장하는 문자가 없을 경우 빈 문자열을 return 합니다.\n",
    "'''\n",
    "def solution(s):\n",
    "    answer = ''\n",
    "    s=sorted(s)\n",
    "    for i in range(len(s)):\n",
    "        if s.count(s[i])==1:\n",
    "            answer+=s[i]\n",
    "    return answer"
   ]
  },
  {
   "cell_type": "code",
   "execution_count": null,
   "metadata": {},
   "outputs": [],
   "source": [
    "'''숨어있는 숫자의 덧셈 (2)\n",
    "문제 설명\n",
    "문자열 my_string이 매개변수로 주어집니다. my_string은 소문자, 대문자, 자연수로만 구성되어있습니다. my_string안의 자연수들의 합을 return하도록 solution 함수를 완성해주세요.\n",
    "'''\n",
    "def solution(my_string):\n",
    "    answer = 0\n",
    "    b=''\n",
    "    for i in range(len(my_string)):\n",
    "        if my_string[i].isdigit():\n",
    "            b+=my_string[i]\n",
    "        else:\n",
    "            if len(b)>0:\n",
    "                answer+=int(b)\n",
    "                b=''\n",
    "        if i==len(my_string)-1 and len(b)>0:\n",
    "            answer+=int(b)\n",
    "    return answer"
   ]
  },
  {
   "cell_type": "code",
   "execution_count": null,
   "metadata": {},
   "outputs": [],
   "source": [
    "'''약수의 개수와 덧셈\n",
    "문제 설명\n",
    "두 정수 left와 right가 매개변수로 주어집니다. left부터 right까지의 모든 수들 중에서, 약수의 개수가 짝수인 수는 더하고, 약수의 개수가 홀수인 수는 뺀 수를 return 하도록 solution 함수를 완성해주세요.\n",
    "'''\n",
    "def solution(left, right):\n",
    "    answer = 0\n",
    "    for i in range(left,right+1):\n",
    "        if i**(1/2)==int(i**(1/2)):\n",
    "            answer-=i\n",
    "        else:\n",
    "            answer+=i\n",
    "    return answer"
   ]
  },
  {
   "cell_type": "code",
   "execution_count": null,
   "metadata": {},
   "outputs": [],
   "source": [
    "'''이진수 더하기\n",
    "문제 설명\n",
    "이진수를 의미하는 두 개의 문자열 bin1과 bin2가 매개변수로 주어질 때, 두 이진수의 합을 return하도록 solution 함수를 완성해주세요.\n",
    "'''\n",
    "def solution(bin1, bin2):\n",
    "    answer=''\n",
    "    a=0\n",
    "    for i in range(1,len(bin1)+1):\n",
    "        a+=2**(i-1)*int(bin1[-i])\n",
    "    for i in range(1,len(bin2)+1):\n",
    "        a+=2**(i-1)*int(bin2[-i])\n",
    "    while True:\n",
    "        answer+=str(a%2)\n",
    "        a//=2\n",
    "        if a==0:\n",
    "            break\n",
    "    answer=answer[::-1]\n",
    "    return answer"
   ]
  },
  {
   "cell_type": "code",
   "execution_count": null,
   "metadata": {},
   "outputs": [],
   "source": [
    "'''7의 개수\n",
    "문제 설명\n",
    "머쓱이는 행운의 숫자 7을 가장 좋아합니다. 정수 배열 array가 매개변수로 주어질 때, 7이 총 몇 개 있는지 return 하도록 solution 함수를 완성해보세요.\n",
    "'''\n",
    "def solution(array):\n",
    "    a=''\n",
    "    for i in range(len(array)):\n",
    "        a+=str(array[i])\n",
    "        \n",
    "    answer = a.count('7')\n",
    "    return answer"
   ]
  },
  {
   "cell_type": "code",
   "execution_count": null,
   "metadata": {},
   "outputs": [],
   "source": [
    "'''문자열 다루기 기본\n",
    "문제 설명\n",
    "문자열 s의 길이가 4 혹은 6이고, 숫자로만 구성돼있는지 확인해주는 함수, solution을 완성하세요. 예를 들어 s가 \"a234\"이면 False를 리턴하고 \"1234\"라면 True를 리턴하면 됩니다.\n",
    "'''\n",
    "def solution(s):\n",
    "    answer = False\n",
    "    a=0\n",
    "    for i in s:\n",
    "        if i.isdigit():\n",
    "            a+=1\n",
    "    if a==len(s) and (len(s)==4 or len(s)==6):\n",
    "        answer=True\n",
    "    return answer"
   ]
  },
  {
   "cell_type": "code",
   "execution_count": null,
   "metadata": {},
   "outputs": [],
   "source": [
    "'''공 던지기\n",
    "문제 설명\n",
    "머쓱이는 친구들과 동그랗게 서서 공 던지기 게임을 하고 있습니다. 공은 1번부터 던지며 오른쪽으로 한 명을 건너뛰고 그다음 사람에게만 던질 수 있습니다. 친구들의 번호가 들어있는 정수 배열 numbers와 정수 K가 주어질 때, k번째로 공을 던지는 사람의 번호는 무엇인지 return 하도록 solution 함수를 완성해보세요.\n",
    "'''\n",
    "def solution(numbers, k):\n",
    "    a=numbers*k\n",
    "    answer=a[2*k-2]\n",
    "    return answer"
   ]
  },
  {
   "cell_type": "code",
   "execution_count": null,
   "metadata": {},
   "outputs": [],
   "source": [
    "'''최댓값과 최솟값\n",
    "문제 설명\n",
    "문자열 s에는 공백으로 구분된 숫자들이 저장되어 있습니다. str에 나타나는 숫자 중 최소값과 최대값을 찾아 이를 \"(최소값) (최대값)\"형태의 문자열을 반환하는 함수, solution을 완성하세요.\n",
    "예를들어 s가 \"1 2 3 4\"라면 \"1 4\"를 리턴하고, \"-1 -2 -3 -4\"라면 \"-4 -1\"을 리턴하면 됩니다.\n",
    "'''\n",
    "def solution(s):\n",
    "    answer = ''\n",
    "    a=list(map(int,s.split()))\n",
    "    answer+=str(min(a))\n",
    "    answer+=' '\n",
    "    answer+=str(max(a))\n",
    "    return answer"
   ]
  },
  {
   "cell_type": "code",
   "execution_count": null,
   "metadata": {},
   "outputs": [],
   "source": [
    "'''소인수분해\n",
    "문제 설명\n",
    "소인수분해란 어떤 수를 소수들의 곱으로 표현하는 것입니다. 예를 들어 12를 소인수 분해하면 2 * 2 * 3 으로 나타낼 수 있습니다. 따라서 12의 소인수는 2와 3입니다. 자연수 n이 매개변수로 주어질 때 n의 소인수를 오름차순으로 담은 배열을 return하도록 solution 함수를 완성해주세요.\n",
    "'''\n",
    "def solution(n):\n",
    "    answer = []\n",
    "    i=2\n",
    "    count=0\n",
    "    a=n\n",
    "    while True:\n",
    "        if n%i==0:\n",
    "            count+=1\n",
    "            n//=i\n",
    "        else:\n",
    "            if count>0:\n",
    "                answer.append(i)\n",
    "                count=0\n",
    "            i+=1\n",
    "        if i>a:\n",
    "            break\n",
    "    return answer"
   ]
  },
  {
   "cell_type": "code",
   "execution_count": null,
   "metadata": {},
   "outputs": [],
   "source": []
  },
  {
   "cell_type": "code",
   "execution_count": null,
   "metadata": {},
   "outputs": [],
   "source": []
  }
 ],
 "metadata": {
  "language_info": {
   "name": "python"
  },
  "orig_nbformat": 4
 },
 "nbformat": 4,
 "nbformat_minor": 2
}

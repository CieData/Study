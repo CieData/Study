{
 "cells": [
  {
   "cell_type": "markdown",
   "id": "47265cb8",
   "metadata": {},
   "source": [
    "8. 메시지"
   ]
  },
  {
   "cell_type": "code",
   "execution_count": 6,
   "id": "1dcc11a8",
   "metadata": {
    "scrolled": true
   },
   "outputs": [
    {
     "name": "stdout",
     "output_type": "stream",
     "text": [
      "5\n",
      "Ann P N P P\n",
      "Ann1 P N P P\n",
      "Ann2 P N P P\n",
      "Ann3 P N P P\n",
      "Ann4 P N P P\n",
      "Group 1\n",
      "Ann3 was nasty about Ann\n",
      "Ann4 was nasty about Ann1\n",
      "Ann was nasty about Ann2\n",
      "Ann1 was nasty about Ann3\n",
      "Ann2 was nasty about Ann4\n",
      "6\n",
      "Zheng P P P P P\n",
      "Zheng1 P P P P P\n",
      "2Zheng P P P P P\n",
      "3Zheng P P P P P\n",
      "34Zheng P P P P P\n",
      "5Zheng P P P P P\n",
      "Group 2\n",
      "Nobody was nasty\n"
     ]
    },
    {
     "ename": "KeyboardInterrupt",
     "evalue": "Interrupted by user",
     "output_type": "error",
     "traceback": [
      "\u001b[1;31m---------------------------------------------------------------------------\u001b[0m",
      "\u001b[1;31mKeyboardInterrupt\u001b[0m                         Traceback (most recent call last)",
      "Input \u001b[1;32mIn [6]\u001b[0m, in \u001b[0;36m<cell line: 3>\u001b[1;34m()\u001b[0m\n\u001b[0;32m      2\u001b[0m \u001b[38;5;28;01mwhile\u001b[39;00m \u001b[38;5;28;01mTrue\u001b[39;00m:\n\u001b[0;32m      3\u001b[0m     count\u001b[38;5;241m+\u001b[39m\u001b[38;5;241m=\u001b[39m\u001b[38;5;241m1\u001b[39m\n\u001b[1;32m----> 4\u001b[0m     a\u001b[38;5;241m=\u001b[39m\u001b[38;5;28mint\u001b[39m(\u001b[38;5;28;43minput\u001b[39;49m\u001b[43m(\u001b[49m\u001b[43m)\u001b[49m)\n\u001b[0;32m      5\u001b[0m     \u001b[38;5;28;01mif\u001b[39;00m a\u001b[38;5;241m==\u001b[39m\u001b[38;5;241m0\u001b[39m:\n\u001b[0;32m      6\u001b[0m         \u001b[38;5;28;01mbreak\u001b[39;00m\n",
      "File \u001b[1;32m~\\anaconda3\\lib\\site-packages\\ipykernel\\kernelbase.py:1075\u001b[0m, in \u001b[0;36mKernel.raw_input\u001b[1;34m(self, prompt)\u001b[0m\n\u001b[0;32m   1071\u001b[0m \u001b[38;5;28;01mif\u001b[39;00m \u001b[38;5;129;01mnot\u001b[39;00m \u001b[38;5;28mself\u001b[39m\u001b[38;5;241m.\u001b[39m_allow_stdin:\n\u001b[0;32m   1072\u001b[0m     \u001b[38;5;28;01mraise\u001b[39;00m StdinNotImplementedError(\n\u001b[0;32m   1073\u001b[0m         \u001b[38;5;124m\"\u001b[39m\u001b[38;5;124mraw_input was called, but this frontend does not support input requests.\u001b[39m\u001b[38;5;124m\"\u001b[39m\n\u001b[0;32m   1074\u001b[0m     )\n\u001b[1;32m-> 1075\u001b[0m \u001b[38;5;28;01mreturn\u001b[39;00m \u001b[38;5;28;43mself\u001b[39;49m\u001b[38;5;241;43m.\u001b[39;49m\u001b[43m_input_request\u001b[49m\u001b[43m(\u001b[49m\n\u001b[0;32m   1076\u001b[0m \u001b[43m    \u001b[49m\u001b[38;5;28;43mstr\u001b[39;49m\u001b[43m(\u001b[49m\u001b[43mprompt\u001b[49m\u001b[43m)\u001b[49m\u001b[43m,\u001b[49m\n\u001b[0;32m   1077\u001b[0m \u001b[43m    \u001b[49m\u001b[38;5;28;43mself\u001b[39;49m\u001b[38;5;241;43m.\u001b[39;49m\u001b[43m_parent_ident\u001b[49m\u001b[43m[\u001b[49m\u001b[38;5;124;43m\"\u001b[39;49m\u001b[38;5;124;43mshell\u001b[39;49m\u001b[38;5;124;43m\"\u001b[39;49m\u001b[43m]\u001b[49m\u001b[43m,\u001b[49m\n\u001b[0;32m   1078\u001b[0m \u001b[43m    \u001b[49m\u001b[38;5;28;43mself\u001b[39;49m\u001b[38;5;241;43m.\u001b[39;49m\u001b[43mget_parent\u001b[49m\u001b[43m(\u001b[49m\u001b[38;5;124;43m\"\u001b[39;49m\u001b[38;5;124;43mshell\u001b[39;49m\u001b[38;5;124;43m\"\u001b[39;49m\u001b[43m)\u001b[49m\u001b[43m,\u001b[49m\n\u001b[0;32m   1079\u001b[0m \u001b[43m    \u001b[49m\u001b[43mpassword\u001b[49m\u001b[38;5;241;43m=\u001b[39;49m\u001b[38;5;28;43;01mFalse\u001b[39;49;00m\u001b[43m,\u001b[49m\n\u001b[0;32m   1080\u001b[0m \u001b[43m\u001b[49m\u001b[43m)\u001b[49m\n",
      "File \u001b[1;32m~\\anaconda3\\lib\\site-packages\\ipykernel\\kernelbase.py:1120\u001b[0m, in \u001b[0;36mKernel._input_request\u001b[1;34m(self, prompt, ident, parent, password)\u001b[0m\n\u001b[0;32m   1117\u001b[0m             \u001b[38;5;28;01mbreak\u001b[39;00m\n\u001b[0;32m   1118\u001b[0m \u001b[38;5;28;01mexcept\u001b[39;00m \u001b[38;5;167;01mKeyboardInterrupt\u001b[39;00m:\n\u001b[0;32m   1119\u001b[0m     \u001b[38;5;66;03m# re-raise KeyboardInterrupt, to truncate traceback\u001b[39;00m\n\u001b[1;32m-> 1120\u001b[0m     \u001b[38;5;28;01mraise\u001b[39;00m \u001b[38;5;167;01mKeyboardInterrupt\u001b[39;00m(\u001b[38;5;124m\"\u001b[39m\u001b[38;5;124mInterrupted by user\u001b[39m\u001b[38;5;124m\"\u001b[39m) \u001b[38;5;28;01mfrom\u001b[39;00m \u001b[38;5;28mNone\u001b[39m\n\u001b[0;32m   1121\u001b[0m \u001b[38;5;28;01mexcept\u001b[39;00m \u001b[38;5;167;01mException\u001b[39;00m:\n\u001b[0;32m   1122\u001b[0m     \u001b[38;5;28mself\u001b[39m\u001b[38;5;241m.\u001b[39mlog\u001b[38;5;241m.\u001b[39mwarning(\u001b[38;5;124m\"\u001b[39m\u001b[38;5;124mInvalid Message:\u001b[39m\u001b[38;5;124m\"\u001b[39m, exc_info\u001b[38;5;241m=\u001b[39m\u001b[38;5;28;01mTrue\u001b[39;00m)\n",
      "\u001b[1;31mKeyboardInterrupt\u001b[0m: Interrupted by user"
     ]
    }
   ],
   "source": [
    "count=0\n",
    "while True:\n",
    "    count+=1\n",
    "    a=int(input())\n",
    "    if a==0:\n",
    "        break\n",
    "    b=[]\n",
    "    d=[]\n",
    "    for i in range(a):\n",
    "        b.append(list(map(str,input().split())))\n",
    "    for i in range(a):\n",
    "        if 'N' in b[i]:\n",
    "            for j in range(1,len(b[i])):\n",
    "                if b[i][j]=='N':\n",
    "                    d.append([b[i][0],b[i-j][0]])\n",
    "    print('Group',count)\n",
    "    if len(d)>=1:\n",
    "        for i in range(len(d)):\n",
    "            print(d[i][1],'was nasty about',d[i][0])\n",
    "    else:\n",
    "        print('Nobody was nasty')"
   ]
  },
  {
   "cell_type": "markdown",
   "id": "13f57d78",
   "metadata": {},
   "source": [
    "11. 좋은 구간"
   ]
  },
  {
   "cell_type": "code",
   "execution_count": 52,
   "id": "bdb41d7a",
   "metadata": {},
   "outputs": [
    {
     "name": "stdout",
     "output_type": "stream",
     "text": [
      "2\n",
      "33 100\n",
      "59\n",
      "1065\n"
     ]
    }
   ],
   "source": [
    "a=int(input())\n",
    "b=list(map(int,input().split()))\n",
    "b.sort()\n",
    "c=int(input())\n",
    "count=0\n",
    "x=0\n",
    "y=0\n",
    "\n",
    "for num in b:\n",
    "    if num<c:\n",
    "        x=num\n",
    "    elif num>c and y==0:\n",
    "        y=num\n",
    "      \n",
    "x+=1\n",
    "y-=1\n",
    "        \n",
    "if c in b:\n",
    "    print(0)\n",
    "else:\n",
    "    print((c-x)*(y-c+1)+(y-c))"
   ]
  },
  {
   "cell_type": "markdown",
   "id": "d610a79d",
   "metadata": {},
   "source": [
    "13.숫자 맞추기"
   ]
  },
  {
   "cell_type": "code",
   "execution_count": 64,
   "id": "fccceeb8",
   "metadata": {},
   "outputs": [
    {
     "name": "stdout",
     "output_type": "stream",
     "text": [
      "10\n",
      "too high\n",
      "3\n",
      "too low\n",
      "4\n",
      "too high\n",
      "2\n",
      "right on\n",
      "Stan is dishonest\n",
      "5\n",
      "too low\n",
      "7\n",
      "too high\n",
      "6\n",
      "right on\n",
      "Stan may be honest\n",
      "0\n"
     ]
    }
   ],
   "source": [
    "while True:\n",
    "    high=[]\n",
    "    low=[]\n",
    "    count=0\n",
    "    if a==0:\n",
    "        break\n",
    "    while True:\n",
    "        a=int(input())\n",
    "        if a==0:\n",
    "            break\n",
    "        else:\n",
    "            b=str(input())\n",
    "            if b=='too high':\n",
    "                high.append(a)\n",
    "            elif b=='too low':\n",
    "                low.append(a)\n",
    "            elif b=='right on':\n",
    "                for i in high:\n",
    "                    if i<=a:\n",
    "                        count+=1\n",
    "                        break\n",
    "                for i in low:\n",
    "                    if i>=a:\n",
    "                        count+=1\n",
    "                        break\n",
    "                if count==0:\n",
    "                    print('Stan may be honest')\n",
    "                else:\n",
    "                    print('Stan is dishonest')\n",
    "                break"
   ]
  },
  {
   "cell_type": "markdown",
   "id": "13e883ef",
   "metadata": {},
   "source": [
    "14. 전국 대학생 프로그래밍 대회 동아리 연합"
   ]
  },
  {
   "cell_type": "code",
   "execution_count": 71,
   "id": "5bfb2b95",
   "metadata": {
    "collapsed": true
   },
   "outputs": [
    {
     "ename": "KeyboardInterrupt",
     "evalue": "Interrupted by user",
     "output_type": "error",
     "traceback": [
      "\u001b[1;31m---------------------------------------------------------------------------\u001b[0m",
      "\u001b[1;31mKeyboardInterrupt\u001b[0m                         Traceback (most recent call last)",
      "Input \u001b[1;32mIn [71]\u001b[0m, in \u001b[0;36m<cell line: 1>\u001b[1;34m()\u001b[0m\n\u001b[1;32m----> 1\u001b[0m n,b,h,w\u001b[38;5;241m=\u001b[39m\u001b[38;5;28mmap\u001b[39m(\u001b[38;5;28mint\u001b[39m,\u001b[38;5;28;43minput\u001b[39;49m\u001b[43m(\u001b[49m\u001b[43m)\u001b[49m\u001b[38;5;241m.\u001b[39msplit())\n\u001b[0;32m      2\u001b[0m price\u001b[38;5;241m=\u001b[39m[]\n\u001b[0;32m      3\u001b[0m \u001b[38;5;28;01mfor\u001b[39;00m i \u001b[38;5;129;01min\u001b[39;00m \u001b[38;5;28mrange\u001b[39m(h):\n",
      "File \u001b[1;32m~\\anaconda3\\lib\\site-packages\\ipykernel\\kernelbase.py:1075\u001b[0m, in \u001b[0;36mKernel.raw_input\u001b[1;34m(self, prompt)\u001b[0m\n\u001b[0;32m   1071\u001b[0m \u001b[38;5;28;01mif\u001b[39;00m \u001b[38;5;129;01mnot\u001b[39;00m \u001b[38;5;28mself\u001b[39m\u001b[38;5;241m.\u001b[39m_allow_stdin:\n\u001b[0;32m   1072\u001b[0m     \u001b[38;5;28;01mraise\u001b[39;00m StdinNotImplementedError(\n\u001b[0;32m   1073\u001b[0m         \u001b[38;5;124m\"\u001b[39m\u001b[38;5;124mraw_input was called, but this frontend does not support input requests.\u001b[39m\u001b[38;5;124m\"\u001b[39m\n\u001b[0;32m   1074\u001b[0m     )\n\u001b[1;32m-> 1075\u001b[0m \u001b[38;5;28;01mreturn\u001b[39;00m \u001b[38;5;28;43mself\u001b[39;49m\u001b[38;5;241;43m.\u001b[39;49m\u001b[43m_input_request\u001b[49m\u001b[43m(\u001b[49m\n\u001b[0;32m   1076\u001b[0m \u001b[43m    \u001b[49m\u001b[38;5;28;43mstr\u001b[39;49m\u001b[43m(\u001b[49m\u001b[43mprompt\u001b[49m\u001b[43m)\u001b[49m\u001b[43m,\u001b[49m\n\u001b[0;32m   1077\u001b[0m \u001b[43m    \u001b[49m\u001b[38;5;28;43mself\u001b[39;49m\u001b[38;5;241;43m.\u001b[39;49m\u001b[43m_parent_ident\u001b[49m\u001b[43m[\u001b[49m\u001b[38;5;124;43m\"\u001b[39;49m\u001b[38;5;124;43mshell\u001b[39;49m\u001b[38;5;124;43m\"\u001b[39;49m\u001b[43m]\u001b[49m\u001b[43m,\u001b[49m\n\u001b[0;32m   1078\u001b[0m \u001b[43m    \u001b[49m\u001b[38;5;28;43mself\u001b[39;49m\u001b[38;5;241;43m.\u001b[39;49m\u001b[43mget_parent\u001b[49m\u001b[43m(\u001b[49m\u001b[38;5;124;43m\"\u001b[39;49m\u001b[38;5;124;43mshell\u001b[39;49m\u001b[38;5;124;43m\"\u001b[39;49m\u001b[43m)\u001b[49m\u001b[43m,\u001b[49m\n\u001b[0;32m   1079\u001b[0m \u001b[43m    \u001b[49m\u001b[43mpassword\u001b[49m\u001b[38;5;241;43m=\u001b[39;49m\u001b[38;5;28;43;01mFalse\u001b[39;49;00m\u001b[43m,\u001b[49m\n\u001b[0;32m   1080\u001b[0m \u001b[43m\u001b[49m\u001b[43m)\u001b[49m\n",
      "File \u001b[1;32m~\\anaconda3\\lib\\site-packages\\ipykernel\\kernelbase.py:1120\u001b[0m, in \u001b[0;36mKernel._input_request\u001b[1;34m(self, prompt, ident, parent, password)\u001b[0m\n\u001b[0;32m   1117\u001b[0m             \u001b[38;5;28;01mbreak\u001b[39;00m\n\u001b[0;32m   1118\u001b[0m \u001b[38;5;28;01mexcept\u001b[39;00m \u001b[38;5;167;01mKeyboardInterrupt\u001b[39;00m:\n\u001b[0;32m   1119\u001b[0m     \u001b[38;5;66;03m# re-raise KeyboardInterrupt, to truncate traceback\u001b[39;00m\n\u001b[1;32m-> 1120\u001b[0m     \u001b[38;5;28;01mraise\u001b[39;00m \u001b[38;5;167;01mKeyboardInterrupt\u001b[39;00m(\u001b[38;5;124m\"\u001b[39m\u001b[38;5;124mInterrupted by user\u001b[39m\u001b[38;5;124m\"\u001b[39m) \u001b[38;5;28;01mfrom\u001b[39;00m \u001b[38;5;28mNone\u001b[39m\n\u001b[0;32m   1121\u001b[0m \u001b[38;5;28;01mexcept\u001b[39;00m \u001b[38;5;167;01mException\u001b[39;00m:\n\u001b[0;32m   1122\u001b[0m     \u001b[38;5;28mself\u001b[39m\u001b[38;5;241m.\u001b[39mlog\u001b[38;5;241m.\u001b[39mwarning(\u001b[38;5;124m\"\u001b[39m\u001b[38;5;124mInvalid Message:\u001b[39m\u001b[38;5;124m\"\u001b[39m, exc_info\u001b[38;5;241m=\u001b[39m\u001b[38;5;28;01mTrue\u001b[39;00m)\n",
      "\u001b[1;31mKeyboardInterrupt\u001b[0m: Interrupted by user"
     ]
    }
   ],
   "source": [
    "n,b,h,w=map(int,input().split())\n",
    "price=[]\n",
    "for i in range(h):\n",
    "    p=int(input())\n",
    "    state=list(map(int,input().split()))\n",
    "    if max(state)>=n:\n",
    "        price.append(p*n)\n",
    "        \n",
    "if len(price)>0:\n",
    "    if min(price)<=b:\n",
    "        print(min(price))\n",
    "    else:\n",
    "        print('stay home')\n",
    "else:\n",
    "    print('stay home')"
   ]
  },
  {
   "cell_type": "markdown",
   "id": "b1370a6e",
   "metadata": {},
   "source": [
    "15. 호텔 방 번호"
   ]
  },
  {
   "cell_type": "code",
   "execution_count": 94,
   "id": "f7c86ba3",
   "metadata": {},
   "outputs": [
    {
     "name": "stdout",
     "output_type": "stream",
     "text": [
      "87 104\n",
      "14\n",
      "989 1022\n",
      "0\n",
      "22 25\n",
      "3\n",
      "1234 1234\n",
      "1\n",
      "1\n"
     ]
    }
   ],
   "source": [
    "while True:\n",
    "    try:\n",
    "        a,b=map(str,input().split())\n",
    "        count=0\n",
    "        for i in range(int(a),int(b)+1):\n",
    "            num=[0]*11\n",
    "            for j in str(i):\n",
    "                num[int(j)]+=1\n",
    "            if num.count(1)==len(str(i)):\n",
    "                count+=1\n",
    "            \n",
    "        print(count)\n",
    "    except:\n",
    "        break"
   ]
  },
  {
   "cell_type": "markdown",
   "id": "39aa196c",
   "metadata": {},
   "source": [
    "16.짝 정하기"
   ]
  },
  {
   "cell_type": "code",
   "execution_count": 100,
   "id": "c975e187",
   "metadata": {},
   "outputs": [
    {
     "name": "stdout",
     "output_type": "stream",
     "text": [
      "6\n",
      "1 4\n",
      "1 1\n",
      "4 1\n",
      "0\n"
     ]
    }
   ],
   "source": [
    "n=int(input())\n",
    "am,aw=map(int,input().split())\n",
    "bm,bw=map(int,input().split())\n",
    "cm,cw=map(int,input().split())\n",
    "a=[0,0]\n",
    "b=[0,0]\n",
    "c=[0,0]\n",
    "while am!=0 and bw!=0:\n",
    "    am-=1\n",
    "    bw-=1\n",
    "    a[0]+=1\n",
    "while am!=0 and cw!=0:\n",
    "    am-=1\n",
    "    cw-=1\n",
    "    a[1]+=1\n",
    "while bm!=0 and aw!=0:\n",
    "    bm-=1\n",
    "    aw-=1\n",
    "    b[0]+=1\n",
    "while bm!=0 and cw!=0:\n",
    "    bm-=1\n",
    "    cw-=1\n",
    "    b[1]+=1\n",
    "while cm!=0 and aw!=0:\n",
    "    cm-=1\n",
    "    aw-=1\n",
    "    c[0]+=1\n",
    "while cm!=0 and bw!=0:\n",
    "    cm-=1\n",
    "    bw-=1\n",
    "    c[1]+=1\n",
    "if am+aw+bm+bw+cm+cw==0:\n",
    "    print(1)\n",
    "    print(a[0],a[1])\n",
    "    print(b[0],b[1])\n",
    "    print(c[0],c[1])\n",
    "else:\n",
    "    print(0)"
   ]
  },
  {
   "cell_type": "markdown",
   "id": "8f63e335",
   "metadata": {},
   "source": [
    "17. 토끼"
   ]
  },
  {
   "cell_type": "code",
   "execution_count": 110,
   "id": "1b9c6476",
   "metadata": {},
   "outputs": [
    {
     "name": "stdout",
     "output_type": "stream",
     "text": [
      "26 1\n",
      "1 4\n"
     ]
    },
    {
     "data": {
      "text/plain": [
       "5"
      ]
     },
     "execution_count": 110,
     "metadata": {},
     "output_type": "execute_result"
    }
   ],
   "source": [
    "n,m=map(int,input().split())\n",
    "import math\n",
    "k=math.floor(math.sqrt(n))\n",
    "for i in range(m):\n",
    "    a,b=map(int,input().split())"
   ]
  },
  {
   "cell_type": "markdown",
   "id": "e0bb8448",
   "metadata": {},
   "source": [
    "18. 대표 자연수"
   ]
  },
  {
   "cell_type": "code",
   "execution_count": 126,
   "id": "9e001ebd",
   "metadata": {},
   "outputs": [
    {
     "name": "stdout",
     "output_type": "stream",
     "text": [
      "6\n",
      "4 3 2 2 9 10\n",
      "3\n"
     ]
    }
   ],
   "source": [
    "a=int(input())\n",
    "b=list(map(int,input().split()))\n",
    "c=0\n",
    "for i in range(len(b)):\n",
    "    s=0\n",
    "    for j in range(len(b)):\n",
    "        s+=abs(b[i]-b[j])\n",
    "        \n",
    "    if c==0:\n",
    "        c=[b[i],s]\n",
    "    else:\n",
    "        if c[1]>s:\n",
    "            c=[b[i],s]\n",
    "        elif c[1]==s:\n",
    "            if c[0]>b[i]:\n",
    "                c=[b[i],s]\n",
    "print(c[0])"
   ]
  },
  {
   "cell_type": "markdown",
   "id": "9850af5f",
   "metadata": {},
   "source": [
    "19. 어려운 문제"
   ]
  },
  {
   "cell_type": "code",
   "execution_count": 127,
   "id": "0455fffd",
   "metadata": {},
   "outputs": [
    {
     "ename": "SyntaxError",
     "evalue": "invalid syntax (1889192765.py, line 1)",
     "output_type": "error",
     "traceback": [
      "\u001b[1;36m  Input \u001b[1;32mIn [127]\u001b[1;36m\u001b[0m\n\u001b[1;33m    1 mod 1\u001b[0m\n\u001b[1;37m      ^\u001b[0m\n\u001b[1;31mSyntaxError\u001b[0m\u001b[1;31m:\u001b[0m invalid syntax\n"
     ]
    }
   ],
   "source": [
    "t=int(input())\n",
    "for i in range(t):\n",
    "    x=int(input())\n",
    "    "
   ]
  },
  {
   "cell_type": "markdown",
   "id": "e2db288b",
   "metadata": {},
   "source": [
    "20. 알고리즘 기말고사"
   ]
  },
  {
   "cell_type": "code",
   "execution_count": 157,
   "id": "d38cfd4a",
   "metadata": {},
   "outputs": [
    {
     "name": "stdout",
     "output_type": "stream",
     "text": [
      "5\n",
      "1 2 3 4 5\n",
      "0\n",
      "0\n",
      "0\n",
      "0\n",
      "0\n"
     ]
    }
   ],
   "source": [
    "a=int(input())\n",
    "b=list(map(int,input().split()))\n",
    "c=[]\n",
    "tot=[]\n",
    "for i in range(len(b)):\n",
    "    c.append([b[i],i+1])\n",
    "c.sort(key= lambda x : x[0])\n",
    "for i in range(len(c)):\n",
    "    bi=0\n",
    "    ci=0\n",
    "    for j in range(len(c)):\n",
    "        if c[i][0]>c[j][0] and c[i][1]<c[j][1]:\n",
    "            bi+=1\n",
    "        elif c[i][0]<c[j][0] and c[i][1]>c[j][1]:\n",
    "            ci+=1\n",
    "    tot.append(bi-ci)\n",
    "for i in tot:\n",
    "    print(i,end='\\n')"
   ]
  },
  {
   "cell_type": "code",
   "execution_count": null,
   "id": "097f9237",
   "metadata": {},
   "outputs": [],
   "source": []
  }
 ],
 "metadata": {
  "kernelspec": {
   "display_name": "Python 3 (ipykernel)",
   "language": "python",
   "name": "python3"
  },
  "language_info": {
   "codemirror_mode": {
    "name": "ipython",
    "version": 3
   },
   "file_extension": ".py",
   "mimetype": "text/x-python",
   "name": "python",
   "nbconvert_exporter": "python",
   "pygments_lexer": "ipython3",
   "version": "3.9.12"
  }
 },
 "nbformat": 4,
 "nbformat_minor": 5
}

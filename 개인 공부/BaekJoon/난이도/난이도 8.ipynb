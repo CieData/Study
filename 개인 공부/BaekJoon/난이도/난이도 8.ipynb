{
 "cells": [
  {
   "cell_type": "code",
   "execution_count": 8,
   "id": "3965699f",
   "metadata": {},
   "outputs": [
    {
     "name": "stdout",
     "output_type": "stream",
     "text": [
      "5\n",
      "1089\n"
     ]
    }
   ],
   "source": [
    "#1. 중앙 이동 알고리즘\n",
    "a=int(input())\n",
    "print((1+2**a)**2)"
   ]
  },
  {
   "cell_type": "code",
   "execution_count": 12,
   "id": "e6b1b521",
   "metadata": {},
   "outputs": [
    {
     "name": "stdout",
     "output_type": "stream",
     "text": [
      "2 12 17\n",
      "21\n",
      "NE\n",
      "20\n",
      "DA\n"
     ]
    }
   ],
   "source": [
    "#2. 앵그리 창영\n",
    "n,w,h=map(int,input().split())\n",
    "for i in range(n):\n",
    "    a=int(input())\n",
    "    if a<=((w**2)+(h**2))**(1/2):\n",
    "        print('DA')\n",
    "    else:\n",
    "        print('NE')"
   ]
  },
  {
   "cell_type": "code",
   "execution_count": 19,
   "id": "e8051a9e",
   "metadata": {},
   "outputs": [
    {
     "name": "stdout",
     "output_type": "stream",
     "text": [
      "3\n",
      "10 1\n",
      "2\n",
      "20 3\n",
      "4\n",
      "30 4\n",
      "5\n"
     ]
    }
   ],
   "source": [
    "#3. 수학적 호기심\n",
    "for i in range(int(input())):\n",
    "    n,m=map(int,input().split())\n",
    "    count=0\n",
    "    for b in range(2,n):\n",
    "        for a in range(1,b):\n",
    "            if ((a**2+b**2+m)/(a*b))%1==0:\n",
    "                count+=1\n",
    "    print(count)"
   ]
  },
  {
   "cell_type": "code",
   "execution_count": 21,
   "id": "b17b3cba",
   "metadata": {},
   "outputs": [
    {
     "name": "stdout",
     "output_type": "stream",
     "text": [
      "appa\n",
      ":fan::fan::fan:\n",
      ":fan::appa::fan:\n",
      ":fan::fan::fan:\n"
     ]
    }
   ],
   "source": [
    "#4. 팬들에게 둘러싸인 홍준\n",
    "a=input()\n",
    "print(':fan::fan::fan:')\n",
    "print(':fan::{}::fan:'.format(a))\n",
    "print(':fan::fan::fan:')"
   ]
  },
  {
   "cell_type": "code",
   "execution_count": 24,
   "id": "19d14051",
   "metadata": {},
   "outputs": [
    {
     "name": "stdout",
     "output_type": "stream",
     "text": [
      "6\n",
      "8 4\n",
      "1780000\n",
      "13 19\n",
      "620000\n",
      "8 10\n",
      "1140000\n",
      "18 18\n",
      "420000\n",
      "8 25\n",
      "820000\n",
      "13 16\n",
      "620000\n"
     ]
    }
   ],
   "source": [
    "#5. 상금 헌터\n",
    "a_=[500,300,200,50,30,10]\n",
    "b_=[512,256,128,64,32]\n",
    "for i in range(int(input())):\n",
    "    a,b=map(int,input().split())\n",
    "    tot=0\n",
    "    for j in range(6):\n",
    "        if (j*(j+1))//2<a<=((j+1)*(j+2))//2:\n",
    "            tot+=a_[j]\n",
    "            break\n",
    "    for j in range(5):\n",
    "        if 2**j<=b<2**(j+1):\n",
    "            tot+=b_[j]\n",
    "            break\n",
    "    print(tot*10000)"
   ]
  },
  {
   "cell_type": "code",
   "execution_count": 37,
   "id": "feefe625",
   "metadata": {},
   "outputs": [
    {
     "name": "stdout",
     "output_type": "stream",
     "text": [
      "5\n",
      "ba\n",
      "ba\n",
      "ba\n",
      "ba\n",
      "ba\n",
      "b\n"
     ]
    }
   ],
   "source": [
    "#6. 농구 경기\n",
    "alpha='abcdefghijklmnopqrstuvwxyz'\n",
    "a_=[]\n",
    "b=''\n",
    "for i in range(int(input())):\n",
    "    a=input()\n",
    "    a_.append(a[0])\n",
    "    \n",
    "for j in alpha:\n",
    "    if a_.count(j)>=5:\n",
    "        b+=j\n",
    "if len(b)==0:\n",
    "    print('PREDAJA')\n",
    "else:\n",
    "    print(b)"
   ]
  },
  {
   "cell_type": "code",
   "execution_count": 40,
   "id": "a02ca096",
   "metadata": {},
   "outputs": [
    {
     "name": "stdout",
     "output_type": "stream",
     "text": [
      "aaah\n",
      "ah\n",
      "go\n"
     ]
    }
   ],
   "source": [
    "#7. 아!\n",
    "a=input()\n",
    "b=input()\n",
    "if len(a)>=len(b):\n",
    "    print('go')\n",
    "else:\n",
    "    print('no')"
   ]
  },
  {
   "cell_type": "code",
   "execution_count": 41,
   "id": "c98d7b65",
   "metadata": {},
   "outputs": [
    {
     "name": "stdout",
     "output_type": "stream",
     "text": [
      "!edoc doog a tahW\n",
      "What a good code!\n",
      "noitacitsufbo\n",
      "obfustication\n",
      "END\n"
     ]
    }
   ],
   "source": [
    "#8. !밀비 급일\n",
    "while True:\n",
    "    a=input()\n",
    "    if a=='END':\n",
    "        break\n",
    "    print(a[::-1])"
   ]
  },
  {
   "cell_type": "code",
   "execution_count": 42,
   "id": "c9d965dd",
   "metadata": {},
   "outputs": [
    {
     "name": "stdout",
     "output_type": "stream",
     "text": [
      "5 7\n",
      "0010000\n",
      "0000100\n",
      "01\n",
      "10\n",
      "10\n",
      "01\n",
      "1020\n",
      "0201\n",
      "202\n",
      "202\n"
     ]
    }
   ],
   "source": [
    "#9. 뜨거운 붕어빵\n",
    "a,b=map(int,input().split())\n",
    "for i in range(a):\n",
    "    c=input()\n",
    "    print(c[::-1])"
   ]
  },
  {
   "cell_type": "code",
   "execution_count": 45,
   "id": "c2040b72",
   "metadata": {},
   "outputs": [
    {
     "name": "stdout",
     "output_type": "stream",
     "text": [
      "5\n",
      "100 99 98\n",
      "100 97 92\n",
      "63 89 63\n",
      "99 99 99\n",
      "89 97 98\n",
      "0\n",
      "92\n",
      "215\n",
      "198\n",
      "89\n"
     ]
    }
   ],
   "source": [
    "#10. 유니크\n",
    "a_=[]\n",
    "b_=[]\n",
    "c_=[]\n",
    "n=int(input())\n",
    "for i in range(n):\n",
    "    a,b,c=map(int,input().split())\n",
    "    a_.append(a)\n",
    "    b_.append(b)\n",
    "    c_.append(c)\n",
    "\n",
    "for i in range(n):\n",
    "    score=0\n",
    "    if a_.count(a_[i])==1:\n",
    "        score+=a_[i]\n",
    "    if b_.count(b_[i])==1:\n",
    "        score+=b_[i]\n",
    "    if c_.count(c_[i])==1:\n",
    "        score+=c_[i]\n",
    "    print(score)"
   ]
  },
  {
   "cell_type": "code",
   "execution_count": 11,
   "id": "ad4868cb",
   "metadata": {},
   "outputs": [
    {
     "name": "stdout",
     "output_type": "stream",
     "text": [
      "4\n",
      "0 0 0 0\n",
      "0\n"
     ]
    }
   ],
   "source": [
    "#11. Q-인덱스\n",
    "a=int(input())\n",
    "b=list(map(int,input().split()))\n",
    "b.sort()\n",
    "if max(b)==0:\n",
    "    print(0)\n",
    "elif min(b)>=a:\n",
    "    print(a)\n",
    "else:\n",
    "    for i in range(1,a):\n",
    "        if b[-i]>=i and b[-i-1]<=i:\n",
    "            print(i)\n",
    "            break"
   ]
  },
  {
   "cell_type": "code",
   "execution_count": 18,
   "id": "6bcdebec",
   "metadata": {},
   "outputs": [
    {
     "name": "stdout",
     "output_type": "stream",
     "text": [
      "5\n",
      "1 4\n",
      "4 3 3 2 1\n",
      "A\n",
      "5 2 4 3 2 1\n",
      "4 4 3 3 1\n",
      "B\n",
      "4 3 2 1 1\n",
      "4 2 3 2 1\n",
      "B\n",
      "4 4 3 2 1\n",
      "3 4 3 2\n",
      "A\n",
      "5 4 4 2 3 1\n",
      "5 4 2 4 1 3\n",
      "D\n"
     ]
    }
   ],
   "source": [
    "#12. 딱지놀이\n",
    "n=int(input())\n",
    "for i in range(n):\n",
    "    a_=[]\n",
    "    b_=[]\n",
    "    a=list(map(int,input().split()))\n",
    "    a=a[1:]\n",
    "    b=list(map(int,input().split()))\n",
    "    b=b[1:]\n",
    "    for j in range(1,5):\n",
    "        a_.insert(0,a.count(j))\n",
    "        b_.insert(0,b.count(j))\n",
    "    count=0\n",
    "    for j in range(4):\n",
    "        if a_[j]>b_[j]:\n",
    "            print('A')\n",
    "            count+=1\n",
    "            break\n",
    "        elif a_[j]<b_[j]:\n",
    "            print('B')\n",
    "            count+=1\n",
    "            break\n",
    "    if count==0:\n",
    "        print('D')"
   ]
  },
  {
   "cell_type": "code",
   "execution_count": 26,
   "id": "df0b4073",
   "metadata": {},
   "outputs": [
    {
     "name": "stdout",
     "output_type": "stream",
     "text": [
      "11101101\n",
      "2\n"
     ]
    }
   ],
   "source": [
    "#13. 뒤집기\n",
    "import math\n",
    "a=input()\n",
    "count=0\n",
    "for i in range(1,len(a)):\n",
    "    if a[i-1]!=a[i]:\n",
    "        count+=1\n",
    "print(math.ceil(count/2))"
   ]
  },
  {
   "cell_type": "code",
   "execution_count": 28,
   "id": "c0313cd3",
   "metadata": {},
   "outputs": [
    {
     "name": "stdout",
     "output_type": "stream",
     "text": [
      "100\n",
      "8\n",
      "100 62 38 24 14 10 4 6\n"
     ]
    }
   ],
   "source": [
    "#14. 수 이어가기\n",
    "a=int(input())\n",
    "a_=[]\n",
    "for i in range(a+1):\n",
    "    b=[a,i]\n",
    "    while True:\n",
    "        if b[-2]-b[-1]<0:\n",
    "            break\n",
    "        else:\n",
    "            b.append(b[-2]-b[-1])\n",
    "    if len(a_)<len(b):\n",
    "        a_=b\n",
    "print(len(a_))\n",
    "print(*a_)"
   ]
  },
  {
   "cell_type": "code",
   "execution_count": 32,
   "id": "1614610a",
   "metadata": {},
   "outputs": [
    {
     "name": "stdout",
     "output_type": "stream",
     "text": [
      "2\n",
      "5\n",
      "aaba\n",
      "ba\n",
      "ababa\n",
      "bbaa\n",
      "baaba\n",
      "abababa\n",
      "3\n",
      "abc\n",
      "bcd\n",
      "cde\n",
      "0\n"
     ]
    }
   ],
   "source": [
    "#15. 팰린드롬\n",
    "a=int(input())\n",
    "for i in range(a):\n",
    "    b=int(input())\n",
    "    c=[]\n",
    "    count=0\n",
    "    for j in range(b):\n",
    "        c.append(input())\n",
    "    for j in range(b):\n",
    "        for k in range(b):\n",
    "            if j==k:\n",
    "                pass\n",
    "            else:\n",
    "                d=c[j]+c[k]\n",
    "                if d==d[::-1]:\n",
    "                    print(d)\n",
    "                    count+=1\n",
    "                    break\n",
    "        if count>0:\n",
    "            break\n",
    "    if count==0:\n",
    "        print(0)"
   ]
  },
  {
   "cell_type": "code",
   "execution_count": 33,
   "id": "6981fc90",
   "metadata": {},
   "outputs": [
    {
     "name": "stdout",
     "output_type": "stream",
     "text": [
      "5\n",
      "SK\n"
     ]
    }
   ],
   "source": [
    "#16. 돌 게임\n",
    "dp=[10000]*1001\n",
    "dp[1]=1\n",
    "dp[2]=2\n",
    "dp[3]=1\n",
    "for i in range(4,1001):\n",
    "    dp[i]=1+dp[i-3]\n",
    "a=int(input())\n",
    "if dp[a]%2==0:\n",
    "    print('CY')\n",
    "else:\n",
    "    print('SK')"
   ]
  },
  {
   "cell_type": "code",
   "execution_count": 24,
   "id": "061d5378",
   "metadata": {},
   "outputs": [
    {
     "name": "stdout",
     "output_type": "stream",
     "text": [
      "AABB\n",
      "ABBA\n"
     ]
    }
   ],
   "source": [
    "#17. 팰린드롬 만들기\n",
    "alpha='ABCDEFGHIJKLMNOPQRSTUVWXYZ'\n",
    "a=list(input())\n",
    "b=''\n",
    "c=[]\n",
    "count=0\n",
    "for i in alpha:\n",
    "    if a.count(i)%2==1:\n",
    "        c.append(i)\n",
    "        count+=1\n",
    "        \n",
    "if len(a)%2==1 and count>1:\n",
    "    print('''I'm Sorry Hansoo''')\n",
    "elif len(a)%2==0 and count>0:\n",
    "    print('''I'm Sorry Hansoo''')\n",
    "else:\n",
    "    for i in alpha:\n",
    "        b+=i*(a.count(i)//2)\n",
    "    if len(c)==0:\n",
    "        print(b+b[::-1])\n",
    "    else:\n",
    "        print(b+c[0]+b[::-1])"
   ]
  },
  {
   "cell_type": "code",
   "execution_count": 29,
   "id": "f0a153e9",
   "metadata": {},
   "outputs": [
    {
     "name": "stdout",
     "output_type": "stream",
     "text": [
      "aaaaaa\n",
      "aa\n",
      "3\n"
     ]
    }
   ],
   "source": [
    "#18. 문서검색\n",
    "a=input()\n",
    "print(a.count(input()))"
   ]
  },
  {
   "cell_type": "code",
   "execution_count": 47,
   "id": "31828da8",
   "metadata": {},
   "outputs": [
    {
     "name": "stdout",
     "output_type": "stream",
     "text": [
      "6\n",
      "3\n",
      "0\n",
      "60\n",
      "14\n",
      "100\n",
      "24\n",
      "1024\n",
      "253\n",
      "23456\n",
      "5861\n",
      "324\n",
      "78\n"
     ]
    }
   ],
   "source": [
    "#19. 교수가 된 현우(빠른방법?)\n",
    "for i in range(int(input())):\n",
    "    count=0\n",
    "    b=int(input())\n",
    "    for j in range(1,13):\n",
    "        if b//5**j>0:\n",
    "            count+=b//5**j\n",
    "        else:\n",
    "            break\n",
    "    print(count)"
   ]
  },
  {
   "cell_type": "code",
   "execution_count": 91,
   "id": "91e511d7",
   "metadata": {},
   "outputs": [
    {
     "name": "stdout",
     "output_type": "stream",
     "text": [
      "1\n",
      "10 12 10 12\n",
      "60\n"
     ]
    }
   ],
   "source": [
    "#20. 카잉 달력\n",
    "import math\n",
    "for i in range(int(input())):\n",
    "    m,n,x,y=map(int,input().split())\n",
    "    a=(m*n)//math.gcd(m,n)\n",
    "    k=0\n",
    "    if n==y:\n",
    "        y=0\n",
    "    while True:\n",
    "        if m*k+x>a:\n",
    "            print(-1)\n",
    "            break\n",
    "        if (m*k+x)%n==y:\n",
    "            print(m*k+x)\n",
    "            break\n",
    "        else:\n",
    "            k+=1"
   ]
  },
  {
   "cell_type": "code",
   "execution_count": 89,
   "id": "ee5e6547",
   "metadata": {},
   "outputs": [
    {
     "data": {
      "text/plain": [
       "70"
      ]
     },
     "execution_count": 89,
     "metadata": {},
     "output_type": "execute_result"
    }
   ],
   "source": [
    "m*k+x"
   ]
  },
  {
   "cell_type": "code",
   "execution_count": null,
   "id": "f9c5ae34",
   "metadata": {},
   "outputs": [],
   "source": []
  }
 ],
 "metadata": {
  "kernelspec": {
   "display_name": "Python 3 (ipykernel)",
   "language": "python",
   "name": "python3"
  },
  "language_info": {
   "codemirror_mode": {
    "name": "ipython",
    "version": 3
   },
   "file_extension": ".py",
   "mimetype": "text/x-python",
   "name": "python",
   "nbconvert_exporter": "python",
   "pygments_lexer": "ipython3",
   "version": "3.9.12"
  }
 },
 "nbformat": 4,
 "nbformat_minor": 5
}

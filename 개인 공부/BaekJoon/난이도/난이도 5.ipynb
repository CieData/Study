{
 "cells": [
  {
   "cell_type": "markdown",
   "id": "cc9f3e81",
   "metadata": {},
   "source": [
    "1. 짝수를 찾아라 브3(3058)"
   ]
  },
  {
   "cell_type": "code",
   "execution_count": null,
   "id": "45903382",
   "metadata": {},
   "outputs": [],
   "source": []
  }
 ],
 "metadata": {
  "kernelspec": {
   "display_name": "Python 3 (ipykernel)",
   "language": "python",
   "name": "python3"
  },
  "language_info": {
   "codemirror_mode": {
    "name": "ipython",
    "version": 3
   },
   "file_extension": ".py",
   "mimetype": "text/x-python",
   "name": "python",
   "nbconvert_exporter": "python",
   "pygments_lexer": "ipython3",
   "version": "3.9.12"
  }
 },
 "nbformat": 4,
 "nbformat_minor": 5
}

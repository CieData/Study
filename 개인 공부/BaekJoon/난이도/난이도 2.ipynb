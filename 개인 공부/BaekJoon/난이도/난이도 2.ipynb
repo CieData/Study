{
 "cells": [
  {
   "cell_type": "markdown",
   "id": "9ceab464",
   "metadata": {},
   "source": [
    "1. 저항 브2(1076)"
   ]
  },
  {
   "cell_type": "code",
   "execution_count": 15,
   "id": "870a2294",
   "metadata": {},
   "outputs": [
    {
     "name": "stdout",
     "output_type": "stream",
     "text": [
      "yellow\n",
      "violet\n",
      "red\n"
     ]
    },
    {
     "data": {
      "text/plain": [
       "4700"
      ]
     },
     "execution_count": 15,
     "metadata": {},
     "output_type": "execute_result"
    }
   ],
   "source": [
    "color=['black','brown','red','orange','yellow',\n",
    "       'green','blue','violet','grey','white']\n",
    "num = [0,1,2,3,4,5,6,7,8,9]\n",
    "mul=[]\n",
    "for i in range(10):\n",
    "    mul.append(10**i)\n",
    "a=str(input())\n",
    "b=str(input())\n",
    "c=str(input())\n",
    "print((num[color.index(a)]*10+num[color.index(b)])*mul[color.index(c)])"
   ]
  },
  {
   "cell_type": "markdown",
   "id": "7a3baa72",
   "metadata": {},
   "source": [
    "2. 성 지키기 브1(1236)"
   ]
  },
  {
   "cell_type": "code",
   "execution_count": 36,
   "id": "96e7aebc",
   "metadata": {},
   "outputs": [
    {
     "name": "stdout",
     "output_type": "stream",
     "text": [
      "3 5\n",
      "XX...\n",
      ".XX..\n",
      "...XX\n",
      "0\n"
     ]
    }
   ],
   "source": [
    "a,b=map(int,input().split())\n",
    "x_list=[]\n",
    "y_list=[]\n",
    "castle=[]\n",
    "for i in range(a):\n",
    "    x_list.append(i)\n",
    "for j in range(b):\n",
    "    y_list.append(j)    \n",
    "for i in range(a):\n",
    "    c=str(input())\n",
    "    castle.append(c)\n",
    "for x in range(a):\n",
    "    for y in range(b):\n",
    "        if castle[x][y]=='X':\n",
    "            if x in x_list:\n",
    "                x_list.remove(x)\n",
    "            if y in y_list:\n",
    "                y_list.remove(y)\n",
    "print(max(len(x_list),len(y_list)))"
   ]
  },
  {
   "cell_type": "markdown",
   "id": "71ef9d30",
   "metadata": {},
   "source": [
    "3. 진짜 공간 브2(1350)"
   ]
  },
  {
   "cell_type": "code",
   "execution_count": 45,
   "id": "6416f71e",
   "metadata": {},
   "outputs": [
    {
     "name": "stdout",
     "output_type": "stream",
     "text": [
      "6\n",
      "0 0 0 0 0 0\n",
      "8\n",
      "0\n"
     ]
    }
   ],
   "source": [
    "import math\n",
    "a= int(input())\n",
    "size=list(map(int, input().split()))\n",
    "cluster=int(input())\n",
    "count=0\n",
    "for i in range(a):\n",
    "    count+=math.ceil(size[i]/cluster)\n",
    "print(count*cluster)"
   ]
  },
  {
   "cell_type": "markdown",
   "id": "16e3c9ac",
   "metadata": {},
   "source": [
    "4. 피시방 알바 브2(1453)"
   ]
  },
  {
   "cell_type": "code",
   "execution_count": 49,
   "id": "933bdeae",
   "metadata": {
    "scrolled": true
   },
   "outputs": [
    {
     "name": "stdout",
     "output_type": "stream",
     "text": [
      "6\n",
      "6 4 5 5 4 5\n",
      "3\n"
     ]
    }
   ],
   "source": [
    "a=int(input())\n",
    "b=list(map(int, input().split()))\n",
    "c=[]\n",
    "count=0\n",
    "for i in range(a):\n",
    "    if b[i] not in c:\n",
    "        c.append(b[i])\n",
    "    elif b[i] in c:\n",
    "        count+=1\n",
    "print(count)"
   ]
  },
  {
   "cell_type": "markdown",
   "id": "41d6e2c8",
   "metadata": {},
   "source": [
    "5. 나머지와 몫이 같은 수 브1(1834)"
   ]
  },
  {
   "cell_type": "code",
   "execution_count": 53,
   "id": "4ba5f659",
   "metadata": {},
   "outputs": [
    {
     "name": "stdout",
     "output_type": "stream",
     "text": [
      "2000000\n",
      "3999999999999000000\n"
     ]
    }
   ],
   "source": [
    "a= int(input())\n",
    "sum_list=[]\n",
    "for i in range(1,a):\n",
    "    sum_list.append(a*i+i)\n",
    "print(sum(sum_list))"
   ]
  },
  {
   "cell_type": "markdown",
   "id": "d171206f",
   "metadata": {},
   "source": [
    "6. 주사위 네개 브2(2484)(코드 간단하게)"
   ]
  },
  {
   "cell_type": "code",
   "execution_count": 75,
   "id": "038da645",
   "metadata": {},
   "outputs": [
    {
     "name": "stdout",
     "output_type": "stream",
     "text": [
      "4\n",
      "3 3 3 3\n",
      "3 3 6 3\n",
      "2 2 6 6\n",
      "6 2 1 5\n",
      "65000\n"
     ]
    }
   ],
   "source": [
    "a= int(input())\n",
    "c=[]\n",
    "for i in range(a):\n",
    "    b=list(map(int,input().split()))\n",
    "    if len(set(b))==4:\n",
    "        c.append(max(b)*100)\n",
    "    elif len(set(b))==3:\n",
    "        for i in range(4):\n",
    "            if b.count(b[i])==2:\n",
    "                break\n",
    "        c.append(b[i]*100+1000)\n",
    "    elif len(set(b))==2:\n",
    "        for i in range(4):\n",
    "            if b.count(b[i])==2:\n",
    "                c.append(list(set(b))[0]*500+list(set(b))[1]*500+2000)\n",
    "                break\n",
    "            elif b.count(b[i])==3:\n",
    "                c.append(b[i]*1000+10000)\n",
    "                break\n",
    "    elif len(set(b))==1:\n",
    "        c.append(50000+b[0]*5000)\n",
    "print(max(c))"
   ]
  },
  {
   "cell_type": "markdown",
   "id": "63dbf7a6",
   "metadata": {},
   "source": [
    "7. 트럭 주차 브2(2979)"
   ]
  },
  {
   "cell_type": "code",
   "execution_count": 93,
   "id": "81cca502",
   "metadata": {},
   "outputs": [
    {
     "name": "stdout",
     "output_type": "stream",
     "text": [
      "10 8 6\n",
      "15 30\n",
      "25 50\n",
      "70 80\n",
      "480\n"
     ]
    }
   ],
   "source": [
    "a,b,c=map(int, input().split())\n",
    "i_list=[]\n",
    "o_list=[]\n",
    "io=[0]*100\n",
    "count=0\n",
    "for i in range(3):\n",
    "    i,o=map(int, input().split())\n",
    "    i_list.append(i)\n",
    "    o_list.append(o)\n",
    "    for j in range(i,o):\n",
    "        io[j]+=1\n",
    "count+=io.count(1)*a\n",
    "count+=io.count(2)*2*b\n",
    "count+=io.count(3)*3*c\n",
    "print(count)"
   ]
  },
  {
   "cell_type": "markdown",
   "id": "928f52a0",
   "metadata": {},
   "source": [
    "8. 체스판 조각 브3(3004)"
   ]
  },
  {
   "cell_type": "code",
   "execution_count": 103,
   "id": "5aa0cda3",
   "metadata": {},
   "outputs": [
    {
     "name": "stdout",
     "output_type": "stream",
     "text": [
      "6\n",
      "16\n"
     ]
    }
   ],
   "source": [
    "a = int(input())\n",
    "if a%2==0:\n",
    "    print((a//2+1)**2)\n",
    "elif a%2==1:\n",
    "    print(((a+1)//2+1)**2-((a+1)//2+1))"
   ]
  },
  {
   "cell_type": "markdown",
   "id": "1925732d",
   "metadata": {},
   "source": [
    "9. 시험 점수 브4(5596)"
   ]
  },
  {
   "cell_type": "code",
   "execution_count": 104,
   "id": "100a3cd1",
   "metadata": {},
   "outputs": [
    {
     "name": "stdout",
     "output_type": "stream",
     "text": [
      "100 80 70 60\n",
      "80 70 80 90\n",
      "320\n"
     ]
    }
   ],
   "source": [
    "a=list(map(int,input().split()))\n",
    "b=list(map(int,input().split()))\n",
    "c=[]\n",
    "c.append(sum(a))\n",
    "c.append(sum(b))\n",
    "print(max(c))"
   ]
  },
  {
   "cell_type": "markdown",
   "id": "ac7e7852",
   "metadata": {},
   "source": [
    "10. 싱기한 네자리 숫자 브2(6679)"
   ]
  },
  {
   "cell_type": "code",
   "execution_count": 133,
   "id": "d01f0407",
   "metadata": {
    "collapsed": true
   },
   "outputs": [
    {
     "name": "stdout",
     "output_type": "stream",
     "text": [
      "2992\n",
      "2993\n",
      "2994\n",
      "2995\n",
      "2996\n",
      "2997\n",
      "2998\n",
      "2999\n",
      "4470\n",
      "4471\n",
      "4472\n",
      "4473\n",
      "4474\n",
      "4475\n",
      "4970\n",
      "4971\n",
      "4972\n",
      "4973\n",
      "4974\n",
      "4975\n",
      "5460\n",
      "5461\n",
      "5462\n",
      "5463\n",
      "5464\n",
      "5465\n",
      "5466\n",
      "5467\n",
      "5468\n",
      "5469\n",
      "5960\n",
      "5961\n",
      "5962\n",
      "5963\n",
      "6456\n",
      "6457\n",
      "6458\n",
      "6459\n",
      "7440\n",
      "7441\n",
      "7442\n",
      "7443\n",
      "7444\n",
      "7445\n",
      "7446\n",
      "7447\n",
      "7448\n",
      "7449\n",
      "7940\n",
      "7941\n",
      "7942\n",
      "7943\n",
      "8436\n",
      "8437\n",
      "8438\n",
      "8439\n",
      "9424\n",
      "9425\n",
      "9426\n",
      "9427\n",
      "9428\n",
      "9429\n",
      "9924\n",
      "9925\n",
      "9926\n",
      "9927\n",
      "9928\n",
      "9929\n"
     ]
    }
   ],
   "source": [
    "need_list=[]\n",
    "num=[]\n",
    "for i in range(1000,10000):\n",
    "    num.append(i)\n",
    "\n",
    "for j in num:\n",
    "    \n",
    "    j_10=j\n",
    "    j_12=j\n",
    "    j_16=j\n",
    "    ten_list=[]\n",
    "    two_list=[]\n",
    "    six_list=[]\n",
    "    \n",
    "    while j_10!=0:\n",
    "        ten_list.append(j_10%10)\n",
    "        j_10=j_10//10\n",
    "    while j_12!=0:\n",
    "        two_list.append(j_12%12)\n",
    "        j_12=j_12//12\n",
    "    while j_16!=0:\n",
    "        six_list.append(j_16%16)\n",
    "        j_16=j_16//16\n",
    "        \n",
    "    if sum(ten_list)==sum(two_list)==sum(six_list):\n",
    "        need_list.append(j)\n",
    "\n",
    "for k in range(len(need_list)):\n",
    "    print(need_list[k],end='\\n')"
   ]
  },
  {
   "cell_type": "markdown",
   "id": "f565d519",
   "metadata": {},
   "source": [
    "11. 니모를 찾아서 브2(10173)"
   ]
  },
  {
   "cell_type": "code",
   "execution_count": 159,
   "id": "e525d83b",
   "metadata": {},
   "outputs": [
    {
     "name": "stdout",
     "output_type": "stream",
     "text": [
      "Marlin names this last egg Nemo, a name that Coral liked.\n",
      "Found\n",
      "While attempting to save nemo, Marlin meets Dory,\n",
      "Found\n",
      "a good-hearted and optimistic regal blue tang with short-term memory loss. \n",
      "Missing\n",
      "Upon leaving the East Australian Current,(888*%$^&%0928375)Marlin and Dory\n",
      "Missing\n",
      "NEMO leaves for school and Marlin watches NeMo swim away.\n",
      "Found\n",
      "EOI\n"
     ]
    }
   ],
   "source": [
    "while True:\n",
    "    a= list(map(str, input().split()))\n",
    "    if a[0]=='EOI':\n",
    "        break\n",
    "    else:\n",
    "        for i in range(len(a)):\n",
    "            a[i]=a[i].lower()\n",
    "        if 'nemo' in a or 'nemo,' in a:\n",
    "            print('Found')\n",
    "        else:\n",
    "            print('Missing')\n",
    "    "
   ]
  },
  {
   "cell_type": "markdown",
   "id": "b0c73856",
   "metadata": {},
   "source": [
    "12. 수도요금 브3(10707)"
   ]
  },
  {
   "cell_type": "code",
   "execution_count": 172,
   "id": "1d70e398",
   "metadata": {},
   "outputs": [
    {
     "name": "stdout",
     "output_type": "stream",
     "text": [
      "8\n",
      "300\n",
      "100\n",
      "10\n",
      "250\n",
      "1800\n"
     ]
    }
   ],
   "source": [
    "a=int(input())\n",
    "b=int(input())\n",
    "c=int(input())\n",
    "d=int(input())\n",
    "e=int(input())\n",
    "\n",
    "X=[]\n",
    "Y=[]\n",
    "X.append(a*e)\n",
    "if e<=c:\n",
    "    Y.append(b)\n",
    "else:\n",
    "    Y.append(b+(e-c)*d)\n",
    "print(min(X[0],Y[0]))"
   ]
  },
  {
   "cell_type": "markdown",
   "id": "56fc6b60",
   "metadata": {},
   "source": [
    "13. 세로읽기 브1(10798)"
   ]
  },
  {
   "cell_type": "code",
   "execution_count": 183,
   "id": "2fa12732",
   "metadata": {},
   "outputs": [
    {
     "name": "stdout",
     "output_type": "stream",
     "text": [
      "AABCDD\n",
      "afzz\n",
      "09121\n",
      "a8EWg6\n",
      "P5h3kx\n",
      "Aa0aPAf985Bz1EhCz2W3D1gkD6x"
     ]
    }
   ],
   "source": [
    "a=str(input())\n",
    "b=str(input())\n",
    "c=str(input())\n",
    "d=str(input())\n",
    "e=str(input())\n",
    "\n",
    "total=[]\n",
    "\n",
    "for i in range(max(len(a),len(b),len(c),len(d),len(e))):\n",
    "    if i>=len(a):\n",
    "        pass\n",
    "    else:\n",
    "        total.append(a[i])\n",
    "    if i>=len(b):\n",
    "        pass\n",
    "    else:\n",
    "        total.append(b[i])\n",
    "    if i>=len(c):\n",
    "        pass\n",
    "    else:\n",
    "        total.append(c[i])\n",
    "    if i>=len(d):\n",
    "        pass\n",
    "    else:\n",
    "        total.append(d[i])\n",
    "    if i>=len(e):\n",
    "        pass\n",
    "    else:\n",
    "        total.append(e[i])\n",
    "for k in range(len(total)):\n",
    "    print(total[k],end='')"
   ]
  },
  {
   "cell_type": "markdown",
   "id": "7e227210",
   "metadata": {},
   "source": [
    "14. 정수의 개수 브2(10821)"
   ]
  },
  {
   "cell_type": "code",
   "execution_count": 185,
   "id": "9205ed7e",
   "metadata": {},
   "outputs": [
    {
     "name": "stdout",
     "output_type": "stream",
     "text": [
      "10,20,30,50,100\n",
      "5\n"
     ]
    }
   ],
   "source": [
    "a=str(input())\n",
    "b=a.count(',')+1\n",
    "print(b)"
   ]
  },
  {
   "cell_type": "markdown",
   "id": "1cb4102e",
   "metadata": {},
   "source": [
    "15. 지영 공주님의 마법 거울 브3(11586)"
   ]
  },
  {
   "cell_type": "code",
   "execution_count": 213,
   "id": "beabd1b5",
   "metadata": {},
   "outputs": [
    {
     "name": "stdout",
     "output_type": "stream",
     "text": [
      "1\n",
      "aa\n",
      "2\n",
      "aa\n"
     ]
    }
   ],
   "source": [
    "a = int(input())\n",
    "c=[]\n",
    "two=[]\n",
    "for i in range(a):\n",
    "    b=str(input())\n",
    "    c.append(b)\n",
    "    two.append(b)\n",
    "d=int(input())\n",
    "for j in range(a):\n",
    "    three=[]\n",
    "    if d==1:\n",
    "        print(c[j],end='\\n')\n",
    "    elif d==2:\n",
    "        print(c[j][::-1],end='\\n')      \n",
    "    elif d==3:\n",
    "        print(c[-j-1],end='\\n')"
   ]
  },
  {
   "cell_type": "markdown",
   "id": "9156bd66",
   "metadata": {},
   "source": [
    "16. Do Not Touch Anything 브4(13136)"
   ]
  },
  {
   "cell_type": "code",
   "execution_count": 216,
   "id": "1758707e",
   "metadata": {},
   "outputs": [
    {
     "name": "stdout",
     "output_type": "stream",
     "text": [
      "9 9 3\n",
      "9\n"
     ]
    }
   ],
   "source": [
    "import math\n",
    "a,b,c=map(int, input().split())\n",
    "print(math.ceil(a/c)*math.ceil(b/c))"
   ]
  },
  {
   "cell_type": "markdown",
   "id": "e45658f7",
   "metadata": {},
   "source": [
    "17. FA 브4(14935)"
   ]
  },
  {
   "cell_type": "code",
   "execution_count": 221,
   "id": "37553be3",
   "metadata": {},
   "outputs": [
    {
     "name": "stdout",
     "output_type": "stream",
     "text": [
      "932\n",
      "FA\n"
     ]
    }
   ],
   "source": [
    "n=str(input())\n",
    "while True:\n",
    "    n=str(int(n[0])*len(n))\n",
    "    if len(n)==1:\n",
    "        print('FA')\n",
    "        break"
   ]
  },
  {
   "cell_type": "markdown",
   "id": "58091614",
   "metadata": {},
   "source": [
    "18. 이칙연산 브4(15726)"
   ]
  },
  {
   "cell_type": "code",
   "execution_count": 222,
   "id": "a4335050",
   "metadata": {},
   "outputs": [
    {
     "name": "stdout",
     "output_type": "stream",
     "text": [
      "32 16 8\n",
      "64\n"
     ]
    }
   ],
   "source": [
    "a,b,c=map(int,input().split())\n",
    "if b>=c:\n",
    "    print((a*b)//c)\n",
    "elif b<c:\n",
    "    print((a*c)//b)"
   ]
  },
  {
   "cell_type": "markdown",
   "id": "115e6e94",
   "metadata": {},
   "source": [
    "19. 긴급 회의 브1(20113)"
   ]
  },
  {
   "cell_type": "code",
   "execution_count": 250,
   "id": "a04a63a3",
   "metadata": {},
   "outputs": [
    {
     "name": "stdout",
     "output_type": "stream",
     "text": [
      "7\n",
      "0 0 0 1 1 0 0\n",
      "1\n"
     ]
    }
   ],
   "source": [
    "a=int(input())\n",
    "b=list(map(int, input().split()))\n",
    "c=[]\n",
    "for zero in range(b.count(0)):\n",
    "    b.remove(0)\n",
    "\n",
    "for i in range(a+1):\n",
    "    c.append(0)\n",
    "for j in b:\n",
    "    c[j]+=1\n",
    "if c.count(max(c))>1:\n",
    "    print('skipped')\n",
    "else:\n",
    "    print(c.index(max(c)))"
   ]
  },
  {
   "cell_type": "markdown",
   "id": "7e5c03b7",
   "metadata": {},
   "source": [
    "20. Darius님 한타 안 함? 브4(20499)"
   ]
  },
  {
   "cell_type": "code",
   "execution_count": 261,
   "id": "a75a5fdb",
   "metadata": {},
   "outputs": [
    {
     "name": "stdout",
     "output_type": "stream",
     "text": [
      "0/0/1\n",
      "hasu\n"
     ]
    }
   ],
   "source": [
    "k,d,a=map(int,input().split('/'))\n",
    "if k+a<d or d==0:\n",
    "    print('hasu')\n",
    "else:\n",
    "    print('gosu')"
   ]
  }
 ],
 "metadata": {
  "kernelspec": {
   "display_name": "Python 3 (ipykernel)",
   "language": "python",
   "name": "python3"
  },
  "language_info": {
   "codemirror_mode": {
    "name": "ipython",
    "version": 3
   },
   "file_extension": ".py",
   "mimetype": "text/x-python",
   "name": "python",
   "nbconvert_exporter": "python",
   "pygments_lexer": "ipython3",
   "version": "3.9.12"
  }
 },
 "nbformat": 4,
 "nbformat_minor": 5
}

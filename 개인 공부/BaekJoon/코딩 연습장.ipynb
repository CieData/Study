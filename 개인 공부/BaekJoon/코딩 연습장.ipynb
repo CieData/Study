{
 "cells": [
  {
   "cell_type": "code",
   "execution_count": 19,
   "id": "dbe968b4",
   "metadata": {},
   "outputs": [
    {
     "name": "stdout",
     "output_type": "stream",
     "text": [
      "7\n",
      "4 50\n",
      "2 160\n",
      "3 30\n",
      "1 60\n",
      "3 20\n",
      "1 100\n",
      "35000\n"
     ]
    }
   ],
   "source": [
    "n=int(input())\n",
    "l=[[]for i in range(4)]\n",
    "for i in range(6):\n",
    "    a,b=map(int,input().split())\n",
    "    if a==1:\n",
    "        l[1].append(b)\n",
    "    elif a==2:\n",
    "        l[3].append(b)\n",
    "    elif a==3:\n",
    "        l[0].append(b)\n",
    "    else:\n",
    "        l[2].append(b)\n",
    "mx=1\n",
    "mi=1\n",
    "if len(l[0])==2 and len(l[3])==2:\n",
    "    mi*=l[3][1]*l[0][0]\n",
    "else:\n",
    "    for i in range(3):\n",
    "        if len(l[i])==2:\n",
    "            mi*=l[i][1]*l[i+1][0]\n",
    "            break\n",
    "for i in range(4):\n",
    "    if len(l[i])==1:\n",
    "        mx*=l[i][0]\n",
    "print((mx-mi)*n)"
   ]
  },
  {
   "cell_type": "code",
   "execution_count": 20,
   "id": "d50be3c6",
   "metadata": {},
   "outputs": [
    {
     "data": {
      "text/plain": [
       "[[50], [60, 100], [30, 20], [160]]"
      ]
     },
     "execution_count": 20,
     "metadata": {},
     "output_type": "execute_result"
    }
   ],
   "source": [
    "l"
   ]
  },
  {
   "cell_type": "code",
   "execution_count": 17,
   "id": "e9c0de2e",
   "metadata": {},
   "outputs": [
    {
     "data": {
      "text/plain": [
       "16000"
      ]
     },
     "execution_count": 17,
     "metadata": {},
     "output_type": "execute_result"
    }
   ],
   "source": [
    "mi"
   ]
  },
  {
   "cell_type": "code",
   "execution_count": null,
   "id": "6eb276a2",
   "metadata": {},
   "outputs": [],
   "source": [
    "ㄱ,┏, ┗, ┛\n",
    "l[0][2]*l[1][1]\n",
    "l[1][2]*l[2][1]\n",
    "l[2][2]*l[3][1]\n",
    "l[3][2]*l[0][1]"
   ]
  },
  {
   "cell_type": "code",
   "execution_count": 25,
   "id": "535e05ea",
   "metadata": {},
   "outputs": [
    {
     "name": "stdout",
     "output_type": "stream",
     "text": [
      "(\n",
      "no\n",
      "()\n",
      "yes\n",
      "([ (([( [ ] ) ( ) (( ))] )) ]).\n",
      "yes\n",
      " .\n",
      "yes\n",
      "Help( I[m being held prisoner in a fortune cookie factory)].\n",
      "no\n",
      "A rope may form )( a trail in a maze.\n",
      "no\n",
      "Half Moon tonight (At least it is better than no Moon at all].\n",
      "no\n",
      "[ first in ] ( first out ).\n",
      "yes\n",
      "So when I die (the [first] I will see in (heaven) is a score list).\n",
      "yes\n",
      ".\n"
     ]
    }
   ],
   "source": [
    "t=['[' , ']' , '(' , ')']\n",
    "tl=['[','(']\n",
    "tr=[']',')']\n",
    "while True:\n",
    "    a=input()\n",
    "    if a=='.':\n",
    "        break\n",
    "    result=0\n",
    "    l=[]\n",
    "    ll=[]\n",
    "    for i in a:\n",
    "        if i in t:\n",
    "            l.append(i)\n",
    "    for i in l:\n",
    "        if i in tl:\n",
    "            ll.append(i)\n",
    "        elif i in tr:\n",
    "            if len(ll)==0:\n",
    "                result+=1\n",
    "                break\n",
    "            else:\n",
    "                if ll.pop()==tl[tr.index(i)]:\n",
    "                    pass\n",
    "                else:\n",
    "                    result+=1\n",
    "                    break\n",
    "    if result==0 and len(ll)==0:\n",
    "        print('yes')\n",
    "    else:\n",
    "        print('no')"
   ]
  },
  {
   "cell_type": "code",
   "execution_count": 37,
   "id": "e1104e9c",
   "metadata": {},
   "outputs": [
    {
     "name": "stdout",
     "output_type": "stream",
     "text": [
      "3\n",
      "AAA\n",
      "AA\n",
      "AB\n",
      "1\n"
     ]
    }
   ],
   "source": [
    "n=int(input())\n",
    "\n",
    "tot=0\n",
    "for i in range(n):\n",
    "    a=input()\n",
    "    while True:\n",
    "        b=a\n",
    "        a=a.replace('AA','').replace('BB','')\n",
    "        if b==a:\n",
    "            break\n",
    "    if a=='':\n",
    "        tot+=1\n",
    "print(tot)"
   ]
  },
  {
   "cell_type": "code",
   "execution_count": 38,
   "id": "6c143074",
   "metadata": {},
   "outputs": [
    {
     "data": {
      "text/plain": [
       "'(((1(11))(1)1))(11)'"
      ]
     },
     "execution_count": 38,
     "metadata": {},
     "output_type": "execute_result"
    }
   ],
   "source": [
    "'(((()(()()))(())()))(()())'.replace('()','1')"
   ]
  },
  {
   "cell_type": "code",
   "execution_count": 40,
   "id": "bf69898b",
   "metadata": {},
   "outputs": [
    {
     "data": {
      "text/plain": [
       "'l(((ll)(l)l))(l)'"
      ]
     },
     "execution_count": 40,
     "metadata": {},
     "output_type": "execute_result"
    }
   ],
   "source": [
    "'()(((()())(())()))(())'.replace('()','')"
   ]
  },
  {
   "cell_type": "code",
   "execution_count": 54,
   "id": "4a81a45e",
   "metadata": {},
   "outputs": [],
   "source": [
    "a='()((( () () )(())()))(())'"
   ]
  },
  {
   "cell_type": "code",
   "execution_count": 63,
   "id": "69b60613",
   "metadata": {},
   "outputs": [
    {
     "data": {
      "text/plain": [
       "0"
      ]
     },
     "execution_count": 63,
     "metadata": {},
     "output_type": "execute_result"
    }
   ],
   "source": [
    "a.count('()')"
   ]
  },
  {
   "cell_type": "code",
   "execution_count": 64,
   "id": "2391d1bd",
   "metadata": {},
   "outputs": [],
   "source": [
    "a=a.replace('()','')"
   ]
  },
  {
   "cell_type": "code",
   "execution_count": 65,
   "id": "a9fe615c",
   "metadata": {},
   "outputs": [
    {
     "data": {
      "text/plain": [
       "''"
      ]
     },
     "execution_count": 65,
     "metadata": {},
     "output_type": "execute_result"
    }
   ],
   "source": [
    "a"
   ]
  },
  {
   "cell_type": "code",
   "execution_count": 74,
   "id": "8aea1804",
   "metadata": {},
   "outputs": [
    {
     "name": "stdout",
     "output_type": "stream",
     "text": [
      "(((()(()()))(())()))(()())\n",
      "24\n"
     ]
    }
   ],
   "source": [
    "a=input()\n",
    "a=a.replace('()','l')\n",
    "l=[]\n",
    "tot=0\n",
    "for i in range(len(a)):\n",
    "    if a[i]=='(':\n",
    "        l.append(i)\n",
    "    elif a[i]==')':\n",
    "        tot+=a[l.pop():i+1].count('l')+1\n",
    "print(tot)"
   ]
  },
  {
   "cell_type": "code",
   "execution_count": 7,
   "id": "66389975",
   "metadata": {},
   "outputs": [
    {
     "name": "stdout",
     "output_type": "stream",
     "text": [
      "A*(B+C)\n",
      "ABC+*\n"
     ]
    }
   ],
   "source": [
    "def pre(op):\n",
    "    if op in '()':\n",
    "        return 0\n",
    "    elif op in '+-':\n",
    "        return 1\n",
    "    elif op in '*/':\n",
    "        return 2\n",
    "    else:\n",
    "        return -1\n",
    "    \n",
    "a=input()\n",
    "l=[]\n",
    "result=[]\n",
    "for i in a:\n",
    "    if i in '(':\n",
    "        l.append(i)\n",
    "    elif i in ')':\n",
    "        while True:\n",
    "            op=l.pop()\n",
    "            if op=='(':\n",
    "                break\n",
    "            else:\n",
    "                result.append(op)\n",
    "    elif i in '+-*/':\n",
    "        while l!=[]:\n",
    "            a=l[-1]\n",
    "            if pre(i)<=pre(op):\n",
    "                result.append(op)\n",
    "                l.pop()\n",
    "            else:\n",
    "                break\n",
    "        l.append(i)\n",
    "    else:\n",
    "        result.append(i)\n",
    "while l!=[]:\n",
    "    result.append(l.pop())\n",
    "print(''.join(result))"
   ]
  },
  {
   "cell_type": "code",
   "execution_count": 112,
   "id": "77583038",
   "metadata": {},
   "outputs": [
    {
     "data": {
      "text/plain": [
       "'('"
      ]
     },
     "execution_count": 112,
     "metadata": {},
     "output_type": "execute_result"
    }
   ],
   "source": [
    "l=['(']\n",
    "op=l.pop()\n",
    "op"
   ]
  },
  {
   "cell_type": "code",
   "execution_count": 105,
   "id": "0ad184c1",
   "metadata": {},
   "outputs": [
    {
     "data": {
      "text/plain": [
       "False"
      ]
     },
     "execution_count": 105,
     "metadata": {},
     "output_type": "execute_result"
    }
   ],
   "source": [
    "len(l)!=0"
   ]
  },
  {
   "cell_type": "code",
   "execution_count": 114,
   "id": "e4146c08",
   "metadata": {},
   "outputs": [
    {
     "name": "stdout",
     "output_type": "stream",
     "text": [
      "a\n",
      "b\n",
      "c\n",
      "d\n"
     ]
    }
   ],
   "source": [
    "for i in 'abcd':\n",
    "    print(i)"
   ]
  },
  {
   "cell_type": "code",
   "execution_count": null,
   "id": "c83d2aa8",
   "metadata": {},
   "outputs": [],
   "source": [
    "def pre(op):\n",
    "    if op in '()':\n",
    "        return 0\n",
    "    elif op in '+-':\n",
    "        return 1\n",
    "    elif op in '*/':\n",
    "        return 2\n",
    "    else:\n",
    "        return -1"
   ]
  },
  {
   "cell_type": "code",
   "execution_count": null,
   "id": "9543f78f",
   "metadata": {},
   "outputs": [],
   "source": []
  },
  {
   "cell_type": "code",
   "execution_count": 404,
   "id": "d2fc2cd8",
   "metadata": {},
   "outputs": [
    {
     "name": "stdout",
     "output_type": "stream",
     "text": [
      "P1 : 58, P2 : 74\n",
      "P2 Win\n"
     ]
    }
   ],
   "source": [
    "import random\n",
    "card_number = [1, 2, 3, 4, 5, 6, 7, 8, 9, 10, 11, 12, 13]\n",
    "card_suit = [\"♥\",\"◆\",\"♠\",\"♣\"]\n",
    "total_card=[]\n",
    "for i in card_suit:\n",
    "    for j in card_number:\n",
    "        total_card.append((i,j))\n",
    "total_card\n",
    "random.shuffle(total_card)\n",
    "P1=[]\n",
    "P2=[]\n",
    "p1_score=0\n",
    "p2_score=0\n",
    "for i in range(6):\n",
    "    if i%2==0:\n",
    "        P1.append(total_card[i])\n",
    "    else:\n",
    "        P2.append(total_card[i])\n",
    "for i in P1:\n",
    "    p1_score+=(card_suit.index(i[0])+1)*i[1]\n",
    "for i in P2:\n",
    "    p2_score+=(card_suit.index(i[0])+1)*i[1]\n",
    "print(f'P1 : {p1_score}, P2 : {p2_score}')\n",
    "\n",
    "if p1_score>p2_score:\n",
    "    print('P1 Win')\n",
    "elif p1_score<p2_score:\n",
    "    print('P2 Win')\n",
    "else:\n",
    "    print('Draw')"
   ]
  },
  {
   "cell_type": "code",
   "execution_count": 1,
   "id": "cc158944",
   "metadata": {},
   "outputs": [
    {
     "name": "stdout",
     "output_type": "stream",
     "text": [
      "10\n",
      "55\n"
     ]
    }
   ],
   "source": [
    "f=[0,1,1]\n",
    "n=int(input())\n",
    "for i in range(n-2):\n",
    "    f.append(f[-1]+f[-2])\n",
    "print(f[n])"
   ]
  },
  {
   "cell_type": "code",
   "execution_count": 10,
   "id": "50d84018",
   "metadata": {},
   "outputs": [
    {
     "name": "stdout",
     "output_type": "stream",
     "text": [
      "6\n",
      "6\n",
      "10\n",
      "13\n",
      "9\n",
      "8\n",
      "1\n"
     ]
    }
   ],
   "source": [
    "n=int(input())\n",
    "dp=[0]*(n+1)\n",
    "l=[]\n",
    "for i in range(n):\n",
    "    l.append(int(input()))\n",
    "dp[0]=l[0]\n",
    "if n>1:\n",
    "    dp[1]=l[1]+l[0]\n",
    "if n>2:\n",
    "    dp[2]=max(dp[1],l[2]+l[0],l[1]+l[2])\n",
    "for i in range(3,n):\n",
    "    dp[i]=max(dp[i-1],l[i]+dp[i-2],l[i]+l[i-1]+dp[i-3])\n",
    "print(max(dp))"
   ]
  },
  {
   "cell_type": "code",
   "execution_count": 35,
   "id": "ad7202cf",
   "metadata": {},
   "outputs": [
    {
     "name": "stdout",
     "output_type": "stream",
     "text": [
      "8\n",
      "813\n"
     ]
    }
   ],
   "source": [
    "n=int(input())\n",
    "dp=[[0,1,1,1,1,1,1,1,1,1]for i in range(n)]\n",
    "for i in range(1,n):\n",
    "    dp[i][0]=dp[i-1][1]\n",
    "    dp[i][9]=dp[i-1][8]\n",
    "    for j in range(1,9):\n",
    "        dp[i][j]=dp[i-1][j-1]+dp[i-1][j+1]\n",
    "print(sum(dp[n-1])%1000000000)"
   ]
  },
  {
   "cell_type": "code",
   "execution_count": 42,
   "id": "e5278398",
   "metadata": {},
   "outputs": [
    {
     "name": "stdout",
     "output_type": "stream",
     "text": [
      "3\n",
      "2\n"
     ]
    }
   ],
   "source": [
    "n=int(input())\n",
    "dp=[[1,0]for i in range(n)]\n",
    "\n",
    "for i in range(1,n):\n",
    "    dp[i][0]=dp[i-1][1]\n",
    "    dp[i][1]=dp[i-1][0]+dp[i-1][1]\n",
    "print(sum(dp[n-1]))"
   ]
  },
  {
   "cell_type": "code",
   "execution_count": 41,
   "id": "ba1bdb04",
   "metadata": {},
   "outputs": [
    {
     "data": {
      "text/plain": [
       "[[1, 0], [0, 1], [1, 1]]"
      ]
     },
     "execution_count": 41,
     "metadata": {},
     "output_type": "execute_result"
    }
   ],
   "source": [
    "n,k=map(int,input().split())\n",
    "dp=[0]*(k+1)\n",
    "for i in range(n):\n",
    "    w,v=map(int,input().split())\n",
    "    "
   ]
  },
  {
   "cell_type": "code",
   "execution_count": null,
   "id": "9c1f11b7",
   "metadata": {},
   "outputs": [],
   "source": []
  }
 ],
 "metadata": {
  "kernelspec": {
   "display_name": "Python 3",
   "language": "python",
   "name": "python3"
  },
  "language_info": {
   "codemirror_mode": {
    "name": "ipython",
    "version": 3
   },
   "file_extension": ".py",
   "mimetype": "text/x-python",
   "name": "python",
   "nbconvert_exporter": "python",
   "pygments_lexer": "ipython3",
   "version": "3.9.12"
  }
 },
 "nbformat": 4,
 "nbformat_minor": 5
}

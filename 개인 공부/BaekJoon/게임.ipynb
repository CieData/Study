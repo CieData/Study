{
 "cells": [
  {
   "cell_type": "code",
   "execution_count": null,
   "id": "e8001acd",
   "metadata": {},
   "outputs": [],
   "source": [
    "#루나의 게임 세팅\n",
    "a,b=map(int,input().split())\n",
    "c=map(int, input().split())\n",
    "d=1\n",
    "e=1\n",
    "f=1\n",
    "for i in range(1,a+1):\n",
    "    d*=i\n",
    "for j in range(1,b+1):\n",
    "    e*=j\n",
    "for l in range(1,a-b+1):\n",
    "    f*=l\n",
    "print((2**(b-1)*d//(e*f))%(10**9+7))"
   ]
  },
  {
   "cell_type": "code",
   "execution_count": 44,
   "id": "8f9ca8c6",
   "metadata": {},
   "outputs": [
    {
     "name": "stdout",
     "output_type": "stream",
     "text": [
      "3\n",
      "0 0 0\n",
      "1\n"
     ]
    }
   ],
   "source": [
    "#다오와 트리플 멕스 게임\n",
    "n=int(input())\n",
    "a=list(map(int,input().split()))\n",
    "b=[]\n",
    "c=[]\n",
    "l=[0]*(100005)\n",
    "for i in range(len(a)):\n",
    "    if a[i]<=100001:\n",
    "        l[a[i]]+=1\n",
    "for i in range(len(l)):\n",
    "    if l[i]==0:\n",
    "        break\n",
    "if 0 not in a:\n",
    "    print(0)\n",
    "elif a.count(0)==n:\n",
    "    print(1)\n",
    "else:\n",
    "    print(i+2)"
   ]
  }
 ],
 "metadata": {
  "kernelspec": {
   "display_name": "Python 3 (ipykernel)",
   "language": "python",
   "name": "python3"
  },
  "language_info": {
   "codemirror_mode": {
    "name": "ipython",
    "version": 3
   },
   "file_extension": ".py",
   "mimetype": "text/x-python",
   "name": "python",
   "nbconvert_exporter": "python",
   "pygments_lexer": "ipython3",
   "version": "3.9.12"
  }
 },
 "nbformat": 4,
 "nbformat_minor": 5
}

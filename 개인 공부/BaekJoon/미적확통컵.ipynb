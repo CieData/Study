{
 "cells": [
  {
   "cell_type": "code",
   "execution_count": 3,
   "id": "f9f7f92b",
   "metadata": {
    "scrolled": true
   },
   "outputs": [
    {
     "name": "stdout",
     "output_type": "stream",
     "text": [
      "-7\n",
      "-9 -6 -7 -8\n",
      "No\n"
     ]
    }
   ],
   "source": [
    "#1. 연속인가? ?\n",
    "k=int(input())\n",
    "a,b,c,d=map(int,input().split())\n",
    "if a*k+b==c*k+d:\n",
    "    print('Yes',a*k+b)\n",
    "else:\n",
    "    print('No')"
   ]
  },
  {
   "cell_type": "code",
   "execution_count": 4,
   "id": "5ffa4483",
   "metadata": {},
   "outputs": [
    {
     "name": "stdout",
     "output_type": "stream",
     "text": [
      "1 1 1 1\n",
      "1.618033988749895\n"
     ]
    }
   ],
   "source": [
    "#2. 수열의 극한값\n",
    "b,c,a1,a2=map(int,input().split())\n",
    "l=[a1,a2]\n",
    "count=0\n",
    "while True:\n",
    "    l.append(b*l[-1]+c*l[-2])\n",
    "    count+=1\n",
    "    if count==10000:\n",
    "        break\n",
    "print(l[-1]/l[-2])"
   ]
  },
  {
   "cell_type": "code",
   "execution_count": 11,
   "id": "7e43d429",
   "metadata": {
    "collapsed": true
   },
   "outputs": [
    {
     "ename": "KeyboardInterrupt",
     "evalue": "Interrupted by user",
     "output_type": "error",
     "traceback": [
      "\u001b[1;31m---------------------------------------------------------------------------\u001b[0m",
      "\u001b[1;31mKeyboardInterrupt\u001b[0m                         Traceback (most recent call last)",
      "Input \u001b[1;32mIn [11]\u001b[0m, in \u001b[0;36m<cell line: 5>\u001b[1;34m()\u001b[0m\n\u001b[0;32m      3\u001b[0m sd\u001b[38;5;241m=\u001b[39m\u001b[38;5;241m0\u001b[39m\n\u001b[0;32m      5\u001b[0m \u001b[38;5;28;01mfor\u001b[39;00m i \u001b[38;5;129;01min\u001b[39;00m \u001b[38;5;28mrange\u001b[39m(\u001b[38;5;241m5000\u001b[39m):\n\u001b[1;32m----> 6\u001b[0m     l\u001b[38;5;241m.\u001b[39mappend(\u001b[38;5;28mfloat\u001b[39m(\u001b[38;5;28;43minput\u001b[39;49m\u001b[43m(\u001b[49m\u001b[43m)\u001b[49m))\n\u001b[0;32m      7\u001b[0m m\u001b[38;5;241m=\u001b[39m\u001b[38;5;28msum\u001b[39m(l)\u001b[38;5;241m/\u001b[39m\u001b[38;5;241m5000\u001b[39m\n\u001b[0;32m      8\u001b[0m \u001b[38;5;28;01mfor\u001b[39;00m i \u001b[38;5;129;01min\u001b[39;00m l:\n",
      "File \u001b[1;32m~\\anaconda3\\lib\\site-packages\\ipykernel\\kernelbase.py:1075\u001b[0m, in \u001b[0;36mKernel.raw_input\u001b[1;34m(self, prompt)\u001b[0m\n\u001b[0;32m   1071\u001b[0m \u001b[38;5;28;01mif\u001b[39;00m \u001b[38;5;129;01mnot\u001b[39;00m \u001b[38;5;28mself\u001b[39m\u001b[38;5;241m.\u001b[39m_allow_stdin:\n\u001b[0;32m   1072\u001b[0m     \u001b[38;5;28;01mraise\u001b[39;00m StdinNotImplementedError(\n\u001b[0;32m   1073\u001b[0m         \u001b[38;5;124m\"\u001b[39m\u001b[38;5;124mraw_input was called, but this frontend does not support input requests.\u001b[39m\u001b[38;5;124m\"\u001b[39m\n\u001b[0;32m   1074\u001b[0m     )\n\u001b[1;32m-> 1075\u001b[0m \u001b[38;5;28;01mreturn\u001b[39;00m \u001b[38;5;28;43mself\u001b[39;49m\u001b[38;5;241;43m.\u001b[39;49m\u001b[43m_input_request\u001b[49m\u001b[43m(\u001b[49m\n\u001b[0;32m   1076\u001b[0m \u001b[43m    \u001b[49m\u001b[38;5;28;43mstr\u001b[39;49m\u001b[43m(\u001b[49m\u001b[43mprompt\u001b[49m\u001b[43m)\u001b[49m\u001b[43m,\u001b[49m\n\u001b[0;32m   1077\u001b[0m \u001b[43m    \u001b[49m\u001b[38;5;28;43mself\u001b[39;49m\u001b[38;5;241;43m.\u001b[39;49m\u001b[43m_parent_ident\u001b[49m\u001b[43m[\u001b[49m\u001b[38;5;124;43m\"\u001b[39;49m\u001b[38;5;124;43mshell\u001b[39;49m\u001b[38;5;124;43m\"\u001b[39;49m\u001b[43m]\u001b[49m\u001b[43m,\u001b[49m\n\u001b[0;32m   1078\u001b[0m \u001b[43m    \u001b[49m\u001b[38;5;28;43mself\u001b[39;49m\u001b[38;5;241;43m.\u001b[39;49m\u001b[43mget_parent\u001b[49m\u001b[43m(\u001b[49m\u001b[38;5;124;43m\"\u001b[39;49m\u001b[38;5;124;43mshell\u001b[39;49m\u001b[38;5;124;43m\"\u001b[39;49m\u001b[43m)\u001b[49m\u001b[43m,\u001b[49m\n\u001b[0;32m   1079\u001b[0m \u001b[43m    \u001b[49m\u001b[43mpassword\u001b[49m\u001b[38;5;241;43m=\u001b[39;49m\u001b[38;5;28;43;01mFalse\u001b[39;49;00m\u001b[43m,\u001b[49m\n\u001b[0;32m   1080\u001b[0m \u001b[43m\u001b[49m\u001b[43m)\u001b[49m\n",
      "File \u001b[1;32m~\\anaconda3\\lib\\site-packages\\ipykernel\\kernelbase.py:1120\u001b[0m, in \u001b[0;36mKernel._input_request\u001b[1;34m(self, prompt, ident, parent, password)\u001b[0m\n\u001b[0;32m   1117\u001b[0m             \u001b[38;5;28;01mbreak\u001b[39;00m\n\u001b[0;32m   1118\u001b[0m \u001b[38;5;28;01mexcept\u001b[39;00m \u001b[38;5;167;01mKeyboardInterrupt\u001b[39;00m:\n\u001b[0;32m   1119\u001b[0m     \u001b[38;5;66;03m# re-raise KeyboardInterrupt, to truncate traceback\u001b[39;00m\n\u001b[1;32m-> 1120\u001b[0m     \u001b[38;5;28;01mraise\u001b[39;00m \u001b[38;5;167;01mKeyboardInterrupt\u001b[39;00m(\u001b[38;5;124m\"\u001b[39m\u001b[38;5;124mInterrupted by user\u001b[39m\u001b[38;5;124m\"\u001b[39m) \u001b[38;5;28;01mfrom\u001b[39;00m \u001b[38;5;28mNone\u001b[39m\n\u001b[0;32m   1121\u001b[0m \u001b[38;5;28;01mexcept\u001b[39;00m \u001b[38;5;167;01mException\u001b[39;00m:\n\u001b[0;32m   1122\u001b[0m     \u001b[38;5;28mself\u001b[39m\u001b[38;5;241m.\u001b[39mlog\u001b[38;5;241m.\u001b[39mwarning(\u001b[38;5;124m\"\u001b[39m\u001b[38;5;124mInvalid Message:\u001b[39m\u001b[38;5;124m\"\u001b[39m, exc_info\u001b[38;5;241m=\u001b[39m\u001b[38;5;28;01mTrue\u001b[39;00m)\n",
      "\u001b[1;31mKeyboardInterrupt\u001b[0m: Interrupted by user"
     ]
    }
   ],
   "source": [
    "#3. 균등분포와 정규분포\n",
    "l=[]\n",
    "u=0\n",
    "\n",
    "for i in range(5000):\n",
    "    l.append(float(input()))\n",
    "m=sum(l)/5000\n",
    "for i in l:\n",
    "    sd+=(i-m)**2\n",
    "if abs(sd/5000-0.1)<=0.11:\n",
    "    print('B')\n",
    "else:\n",
    "    print('A')"
   ]
  },
  {
   "cell_type": "code",
   "execution_count": null,
   "id": "87afcea2",
   "metadata": {},
   "outputs": [],
   "source": [
    "#3. 균등분포와 정규분포\n",
    "l=[]\n",
    "u=0\n",
    "d=0\n",
    "for i in range(5000):\n",
    "    l.append(float(input()))\n",
    "for i in l:\n",
    "    if i>=0.4 and i<=0.6:\n",
    "        u+=1\n",
    "    elif i<=0.4:\n",
    "        d+=1\n",
    "if abs(u-d)>500:\n",
    "    print('B')\n",
    "else:\n",
    "    print('A')"
   ]
  },
  {
   "cell_type": "code",
   "execution_count": 17,
   "id": "7ab52156",
   "metadata": {},
   "outputs": [
    {
     "name": "stdout",
     "output_type": "stream",
     "text": [
      "100000\n",
      "86554195\n"
     ]
    }
   ],
   "source": [
    "#4. 방향 정하기\n",
    "n=int(input())\n",
    "num=2**(n-1)\n",
    "for i in range(3,n+1):\n",
    "    num*=i\n",
    "print(num%(10**9+7))"
   ]
  },
  {
   "cell_type": "code",
   "execution_count": 15,
   "id": "7911189a",
   "metadata": {},
   "outputs": [],
   "source": [
    "import numpy as np\n",
    "import matplotlib.pyplot as plt"
   ]
  },
  {
   "cell_type": "code",
   "execution_count": 235,
   "id": "b508e98b",
   "metadata": {},
   "outputs": [
    {
     "data": {
      "text/plain": [
       "(3372, 822)"
      ]
     },
     "execution_count": 235,
     "metadata": {},
     "output_type": "execute_result"
    }
   ],
   "source": [
    "a=np.random.normal(0.5, 0.1, 5000)\n",
    "u=0\n",
    "d=0\n",
    "\n",
    "for i in a:\n",
    "    if i>=0.4 and i<=0.6:\n",
    "        u+=1\n",
    "    elif i<=0.4:\n",
    "        d+=1\n",
    "u,d"
   ]
  },
  {
   "cell_type": "code",
   "execution_count": 242,
   "id": "77b4aa5f",
   "metadata": {},
   "outputs": [
    {
     "data": {
      "text/plain": [
       "(1034, 1979)"
      ]
     },
     "execution_count": 242,
     "metadata": {},
     "output_type": "execute_result"
    }
   ],
   "source": [
    "b=np.random.uniform(0,1, 5000)\n",
    "u=0\n",
    "d=0\n",
    "\n",
    "for i in b:\n",
    "    if i>=0.4 and i<=0.6:\n",
    "        u+=1\n",
    "    elif i<=0.4:\n",
    "        d+=1\n",
    "u,d"
   ]
  },
  {
   "cell_type": "code",
   "execution_count": 4,
   "id": "a94f2479",
   "metadata": {
    "scrolled": true
   },
   "outputs": [
    {
     "name": "stdout",
     "output_type": "stream",
     "text": [
      "10 0.1 0\n"
     ]
    }
   ],
   "source": [
    "#이항분포에서 가장 큰 직사각형\n",
    "import math\n",
    "n,p,q=map(float,input().split())\n",
    "n=int(n)\n",
    "q=int(q)\n",
    "ll=[]\n",
    "for i in range(int(n)+1):\n",
    "    ll.append((math.factorial(n)//(math.factorial(n-i)*math.factorial(i))*p**i)*(1-p)**(n-i))\n",
    "for i in range(q):\n",
    "    l,r=map(int,input().split())\n",
    "    "
   ]
  },
  {
   "cell_type": "code",
   "execution_count": 5,
   "id": "167979b9",
   "metadata": {},
   "outputs": [
    {
     "data": {
      "text/plain": [
       "[0.3486784401000001,\n",
       " 0.3874204890000001,\n",
       " 0.19371024450000007,\n",
       " 0.05739562800000002,\n",
       " 0.011160261000000003,\n",
       " 0.0014880348000000005,\n",
       " 0.00013778100000000007,\n",
       " 8.748000000000003e-06,\n",
       " 3.6450000000000023e-07,\n",
       " 9.000000000000004e-09,\n",
       " 1.0000000000000006e-10]"
      ]
     },
     "execution_count": 5,
     "metadata": {},
     "output_type": "execute_result"
    }
   ],
   "source": [
    "ll"
   ]
  },
  {
   "cell_type": "code",
   "execution_count": 251,
   "id": "b9851c6d",
   "metadata": {},
   "outputs": [
    {
     "data": {
      "text/plain": [
       "3628800"
      ]
     },
     "execution_count": 251,
     "metadata": {},
     "output_type": "execute_result"
    }
   ],
   "source": [
    "math.factorial(n)"
   ]
  },
  {
   "cell_type": "code",
   "execution_count": 252,
   "id": "946beba8",
   "metadata": {},
   "outputs": [
    {
     "data": {
      "text/plain": [
       "1"
      ]
     },
     "execution_count": 252,
     "metadata": {},
     "output_type": "execute_result"
    }
   ],
   "source": [
    "math.factorial(n)//(math.factorial(n-i)*math.factorial(i))"
   ]
  },
  {
   "cell_type": "code",
   "execution_count": 253,
   "id": "76490fe5",
   "metadata": {},
   "outputs": [
    {
     "data": {
      "text/plain": [
       "0.0009765625"
      ]
     },
     "execution_count": 253,
     "metadata": {},
     "output_type": "execute_result"
    }
   ],
   "source": [
    "(1-p)**(n-i)"
   ]
  },
  {
   "cell_type": "code",
   "execution_count": 254,
   "id": "b3cc7c0a",
   "metadata": {},
   "outputs": [
    {
     "ename": "SyntaxError",
     "evalue": "unmatched ')' (1414725602.py, line 1)",
     "output_type": "error",
     "traceback": [
      "\u001b[1;36m  Cell \u001b[1;32mIn[254], line 1\u001b[1;36m\u001b[0m\n\u001b[1;33m    math.factorial(n)//(math.factorial(n-i)*math.factorial(i))*p**i)\u001b[0m\n\u001b[1;37m                                                                   ^\u001b[0m\n\u001b[1;31mSyntaxError\u001b[0m\u001b[1;31m:\u001b[0m unmatched ')'\n"
     ]
    }
   ],
   "source": [
    "math.factorial(n)//(math.factorial(n-i)*math.factorial(i))*p**i)"
   ]
  },
  {
   "cell_type": "code",
   "execution_count": null,
   "id": "47c8ca54",
   "metadata": {},
   "outputs": [],
   "source": []
  }
 ],
 "metadata": {
  "kernelspec": {
   "display_name": "Python 3",
   "language": "python",
   "name": "python3"
  },
  "language_info": {
   "codemirror_mode": {
    "name": "ipython",
    "version": 3
   },
   "file_extension": ".py",
   "mimetype": "text/x-python",
   "name": "python",
   "nbconvert_exporter": "python",
   "pygments_lexer": "ipython3",
   "version": "3.9.12"
  }
 },
 "nbformat": 4,
 "nbformat_minor": 5
}

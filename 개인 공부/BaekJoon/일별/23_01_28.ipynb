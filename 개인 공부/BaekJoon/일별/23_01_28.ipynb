{
 "cells": [
  {
   "cell_type": "code",
   "execution_count": 1,
   "metadata": {},
   "outputs": [],
   "source": [
    "#그대로 출력하기1,2 11718,11719\n",
    "while True:\n",
    "    try:\n",
    "        s=input()\n",
    "        print(s)\n",
    "    except:\n",
    "        break"
   ]
  },
  {
   "cell_type": "code",
   "execution_count": 3,
   "metadata": {},
   "outputs": [
    {
     "name": "stdout",
     "output_type": "stream",
     "text": [
      "2\n"
     ]
    }
   ],
   "source": [
    "#A+B-6 10953\n",
    "for i in range(int(input())):\n",
    "    a,b=map(int,input().split(','))\n",
    "    print(a+b)"
   ]
  },
  {
   "cell_type": "code",
   "execution_count": 13,
   "metadata": {},
   "outputs": [
    {
     "name": "stdout",
     "output_type": "stream",
     "text": [
      "config????\n"
     ]
    }
   ],
   "source": [
    "#명령 프롬프트 1032\n",
    "l=[]\n",
    "n=int(input())\n",
    "answer=''\n",
    "for i in range(n):\n",
    "    l.append(input())\n",
    "Set=set()\n",
    "for i in range(len(l[0])):\n",
    "    for j in range(n):\n",
    "        Set.add(l[j][i])\n",
    "    if len(Set)==1:\n",
    "        answer+=Set.pop()\n",
    "    else:\n",
    "        answer+='?'\n",
    "        Set=set()\n",
    "print(answer)"
   ]
  },
  {
   "cell_type": "code",
   "execution_count": 15,
   "metadata": {},
   "outputs": [
    {
     "name": "stdout",
     "output_type": "stream",
     "text": [
      "1\n"
     ]
    }
   ],
   "source": [
    "#팰린드롬인지 확인하기 10988\n",
    "s=input()\n",
    "if s==s[::-1]:\n",
    "    print(1)\n",
    "else:\n",
    "    print(0)"
   ]
  },
  {
   "cell_type": "code",
   "execution_count": 14,
   "metadata": {},
   "outputs": [
    {
     "name": "stdout",
     "output_type": "stream",
     "text": [
      "I ma yppah yadot\n",
      "eW tnaw ot niw eht tsrif ezirp\n"
     ]
    }
   ],
   "source": [
    "#단어 뒤집기 9093\n",
    "n=int(input())\n",
    "for i in range(n):\n",
    "    ll=[]\n",
    "    l=list(map(str,input().split()))\n",
    "    for j in l:\n",
    "        ll.append(j[::-1])\n",
    "    print(*ll)"
   ]
  },
  {
   "cell_type": "code",
   "execution_count": 16,
   "metadata": {},
   "outputs": [
    {
     "name": "stdout",
     "output_type": "stream",
     "text": [
      "KMP"
     ]
    }
   ],
   "source": [
    "#KMP는 왜 KMP일까? 2902\n",
    "s=input().split('-')\n",
    "for i in s:\n",
    "    print(i[0],end='')"
   ]
  },
  {
   "cell_type": "code",
   "execution_count": 39,
   "metadata": {},
   "outputs": [
    {
     "name": "stdout",
     "output_type": "stream",
     "text": [
      "11001100\n"
     ]
    }
   ],
   "source": [
    "#8진수 2진수 1212\n",
    "print(bin(int(input(),8))[2:])"
   ]
  },
  {
   "cell_type": "code",
   "execution_count": 56,
   "metadata": {},
   "outputs": [
    {
     "name": "stdout",
     "output_type": "stream",
     "text": [
      "Bar vf 1\n"
     ]
    }
   ],
   "source": [
    "#ROT13 11655\n",
    "s=input()\n",
    "ss=''\n",
    "for i in s:\n",
    "    if i.isdigit() or i==' ':\n",
    "        ss+=i\n",
    "    else:\n",
    "        n=ord(i.lower())\n",
    "        n+=13\n",
    "        sss=chr(97+(n-97)%26)\n",
    "    \n",
    "        if i.isupper():\n",
    "            ss+=sss.upper()\n",
    "        else:\n",
    "            ss+=sss\n",
    "print(ss)"
   ]
  },
  {
   "cell_type": "code",
   "execution_count": 63,
   "metadata": {},
   "outputs": [
    {
     "name": "stdout",
     "output_type": "stream",
     "text": [
      "9\n"
     ]
    }
   ],
   "source": [
    "#Hashing 15829\n",
    "n=input()\n",
    "s=input()\n",
    "answer=0\n",
    "for i in range(len(s)):\n",
    "    answer+=(ord(s[i])-96)*31**i\n",
    "print(answer%1234567891)"
   ]
  },
  {
   "cell_type": "code",
   "execution_count": 64,
   "metadata": {},
   "outputs": [
    {
     "name": "stdout",
     "output_type": "stream",
     "text": [
      "4060\n"
     ]
    }
   ],
   "source": [
    "#네 수 10824\n",
    "a,b,c,d=map(str,input().split())\n",
    "print(int(a+b)+int(c+d))"
   ]
  },
  {
   "cell_type": "code",
   "execution_count": null,
   "metadata": {},
   "outputs": [],
   "source": [
    "#문자열 분석 10820\n",
    "while True:\n",
    "    try:\n",
    "        s=input()\n",
    "        l,u,d,o=0,0,0,0\n",
    "        for i in s:\n",
    "            if i.isdigit():\n",
    "                d+=1\n",
    "            elif i==' ':\n",
    "                o+=1\n",
    "            elif i.islower():\n",
    "                l+=1\n",
    "            else:\n",
    "                u+=1\n",
    "        print(l,u,d,o)\n",
    "    except:\n",
    "        break"
   ]
  },
  {
   "cell_type": "code",
   "execution_count": null,
   "metadata": {},
   "outputs": [],
   "source": [
    "#2진수 8진수 1373\n",
    "print(oct(int(input(),2))[2:])"
   ]
  }
 ],
 "metadata": {
  "kernelspec": {
   "display_name": "base",
   "language": "python",
   "name": "python3"
  },
  "language_info": {
   "codemirror_mode": {
    "name": "ipython",
    "version": 3
   },
   "file_extension": ".py",
   "mimetype": "text/x-python",
   "name": "python",
   "nbconvert_exporter": "python",
   "pygments_lexer": "ipython3",
   "version": "3.9.12"
  },
  "orig_nbformat": 4,
  "vscode": {
   "interpreter": {
    "hash": "7f368c48a586e931bd654761381ef86d5d2c1d8e94773dbceeccd45cd5f51e02"
   }
  }
 },
 "nbformat": 4,
 "nbformat_minor": 2
}

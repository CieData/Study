{
 "cells": [
  {
   "cell_type": "code",
   "execution_count": 25,
   "metadata": {},
   "outputs": [
    {
     "name": "stdout",
     "output_type": "stream",
     "text": [
      "3\n"
     ]
    }
   ],
   "source": [
    "#정수 제곱근 2417\n",
    "n=int(input())\n",
    "sq=int(n**.5)\n",
    "if sq**2>=n:\n",
    "    print(sq)\n",
    "else:\n",
    "    print(sq+1)"
   ]
  },
  {
   "cell_type": "code",
   "execution_count": 45,
   "metadata": {},
   "outputs": [
    {
     "name": "stdout",
     "output_type": "stream",
     "text": [
      "200\n"
     ]
    }
   ],
   "source": [
    "#랜선 자르기 1654\n",
    "k,n=map(int,input().split())\n",
    "l=[int(input()) for i in range(k)]\n",
    "s=1\n",
    "e=max(l)\n",
    "while s<=e:\n",
    "    mid=(s+e)//2\n",
    "    cnt=0\n",
    "    for i in l:\n",
    "        cnt+=i//mid\n",
    "    if cnt>=n:\n",
    "        s=mid+1\n",
    "    else:\n",
    "        e=mid-1\n",
    "print(e)"
   ]
  },
  {
   "cell_type": "code",
   "execution_count": 47,
   "metadata": {},
   "outputs": [
    {
     "name": "stdout",
     "output_type": "stream",
     "text": [
      "36\n"
     ]
    }
   ],
   "source": [
    "#나무 자르기 2805\n",
    "n,m=map(int,input().split())\n",
    "l=list(map(int,input().split()))\n",
    "s=0\n",
    "e=max(l)\n",
    "while s<=e:\n",
    "    mid=(s+e)//2\n",
    "    cnt=0\n",
    "    for i in l:\n",
    "        if i-mid>0:\n",
    "            cnt+=i-mid\n",
    "    if cnt>=m:\n",
    "        s=mid+1\n",
    "    else:\n",
    "        e=mid-1\n",
    "print(e)"
   ]
  },
  {
   "cell_type": "code",
   "execution_count": null,
   "metadata": {},
   "outputs": [],
   "source": []
  }
 ],
 "metadata": {
  "kernelspec": {
   "display_name": "base",
   "language": "python",
   "name": "python3"
  },
  "language_info": {
   "codemirror_mode": {
    "name": "ipython",
    "version": 3
   },
   "file_extension": ".py",
   "mimetype": "text/x-python",
   "name": "python",
   "nbconvert_exporter": "python",
   "pygments_lexer": "ipython3",
   "version": "3.9.12"
  },
  "orig_nbformat": 4,
  "vscode": {
   "interpreter": {
    "hash": "7f368c48a586e931bd654761381ef86d5d2c1d8e94773dbceeccd45cd5f51e02"
   }
  }
 },
 "nbformat": 4,
 "nbformat_minor": 2
}

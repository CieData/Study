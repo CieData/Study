{
 "cells": [
  {
   "cell_type": "code",
   "execution_count": 9,
   "metadata": {},
   "outputs": [
    {
     "name": "stdout",
     "output_type": "stream",
     "text": [
      "3 5\n"
     ]
    }
   ],
   "source": [
    "#TV 크기 1297\n",
    "d,h,w=map(int,input().split())\n",
    "t=h**2+w**2\n",
    "print(int((d**2*(h**2/t))**.5),int((d**2*(w**2/t))**.5))"
   ]
  },
  {
   "cell_type": "code",
   "execution_count": 10,
   "metadata": {},
   "outputs": [
    {
     "name": "stdout",
     "output_type": "stream",
     "text": [
      "6\n",
      "4\n"
     ]
    }
   ],
   "source": [
    "#다면체 10569\n",
    "for i in range(int(input())):\n",
    "    v,e=map(int,input().split())\n",
    "    print(2-v+e)"
   ]
  },
  {
   "cell_type": "code",
   "execution_count": 11,
   "metadata": {},
   "outputs": [
    {
     "name": "stdout",
     "output_type": "stream",
     "text": [
      "76.265472\n"
     ]
    }
   ],
   "source": [
    "#운동장 한 바퀴 16486\n",
    "d1=int(input())\n",
    "d2=int(input())\n",
    "print(d1*2+d2*2*3.141592)"
   ]
  },
  {
   "cell_type": "code",
   "execution_count": 12,
   "metadata": {},
   "outputs": [
    {
     "name": "stdout",
     "output_type": "stream",
     "text": [
      "Equilateral\n",
      "Scalene\n",
      "Invalid\n",
      "Isosceles\n"
     ]
    }
   ],
   "source": [
    "#삼각형과 세 변 5073\n",
    "while True:\n",
    "    a,b,c=map(int,input().split())\n",
    "    if [a,b,c]==[0,0,0]:\n",
    "        break\n",
    "    if a>=b+c or b>=a+c or c>=a+b:\n",
    "        print('Invalid')\n",
    "    elif a==b and b==c:\n",
    "        print('Equilateral')\n",
    "    elif len(set([a,b,c]))==2:\n",
    "        print('Isosceles')\n",
    "    else:\n",
    "        print('Scalene')"
   ]
  },
  {
   "cell_type": "code",
   "execution_count": 14,
   "metadata": {},
   "outputs": [
    {
     "name": "stdout",
     "output_type": "stream",
     "text": [
      "Scenario #1:\n",
      "no\n",
      "\n",
      "Scenario #2:\n",
      "no\n",
      "\n"
     ]
    }
   ],
   "source": [
    "#고급 수학 7510\n",
    "n=int(input())\n",
    "for i in range(1,n+1):\n",
    "    print(f'Scenario #{i}:')\n",
    "    a,b,c=map(int,input().split())\n",
    "    if a**2==b**2+c**2 or b**2==a**2+c**2 or c**2==b**2+a**2:\n",
    "        print('yes')\n",
    "    else:\n",
    "        print('no')\n",
    "    print('')"
   ]
  },
  {
   "cell_type": "code",
   "execution_count": 16,
   "metadata": {},
   "outputs": [
    {
     "name": "stdout",
     "output_type": "stream",
     "text": [
      "10.825317547305483\n"
     ]
    }
   ],
   "source": [
    "#정육각형과 삼각형 14264\n",
    "l=int(input())\n",
    "print(l*l*(3**.5/2)/2)"
   ]
  },
  {
   "cell_type": "code",
   "execution_count": null,
   "metadata": {},
   "outputs": [],
   "source": []
  }
 ],
 "metadata": {
  "kernelspec": {
   "display_name": "base",
   "language": "python",
   "name": "python3"
  },
  "language_info": {
   "codemirror_mode": {
    "name": "ipython",
    "version": 3
   },
   "file_extension": ".py",
   "mimetype": "text/x-python",
   "name": "python",
   "nbconvert_exporter": "python",
   "pygments_lexer": "ipython3",
   "version": "3.9.12"
  },
  "orig_nbformat": 4,
  "vscode": {
   "interpreter": {
    "hash": "7f368c48a586e931bd654761381ef86d5d2c1d8e94773dbceeccd45cd5f51e02"
   }
  }
 },
 "nbformat": 4,
 "nbformat_minor": 2
}

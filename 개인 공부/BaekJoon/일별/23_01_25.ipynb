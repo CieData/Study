{
 "cells": [
  {
   "cell_type": "code",
   "execution_count": 5,
   "metadata": {},
   "outputs": [
    {
     "name": "stdout",
     "output_type": "stream",
     "text": [
      "1 2\n",
      "1 3\n",
      "1 3\n",
      "0 2\n",
      "0 1\n"
     ]
    }
   ],
   "source": [
    "#재귀의 귀재 25501\n",
    "def recursion(s, l, r):\n",
    "    global i\n",
    "    i+=1\n",
    "    if l >= r: return 1\n",
    "    elif s[l] != s[r]: return 0\n",
    "    else: return recursion(s, l+1, r-1)\n",
    "\n",
    "def isPalindrome(s):\n",
    "    return recursion(s, 0, len(s)-1)\n",
    "\n",
    "n=int(input())\n",
    "for i in range(n):\n",
    "    i=0\n",
    "    s=input()\n",
    "    print(isPalindrome(s),i)"
   ]
  },
  {
   "cell_type": "code",
   "execution_count": 36,
   "metadata": {},
   "outputs": [
    {
     "name": "stdout",
     "output_type": "stream",
     "text": [
      "1 0 0 1 1 0 0 1 "
     ]
    }
   ],
   "source": [
    "#숫자 카드 10815\n",
    "a=int(input())\n",
    "b=list(map(int,input().split()))\n",
    "b.sort()\n",
    "c=int(input())\n",
    "d=list(map(int,input().split()))\n",
    "def isin(n,l):\n",
    "    start=0\n",
    "    end=len(l)-1\n",
    "    mid=len(l)//2\n",
    "    while True:\n",
    "        if l[mid]==n:\n",
    "            return 1\n",
    "            break\n",
    "        elif l[mid]<n:\n",
    "            start=mid+1\n",
    "            mid=(end+start)//2\n",
    "        else:\n",
    "            end=mid-1\n",
    "            mid=(end+start)//2\n",
    "        if start>end:\n",
    "            return 0\n",
    "            break\n",
    "for i in d:\n",
    "    print(isin(i,b),end=' ')"
   ]
  },
  {
   "cell_type": "code",
   "execution_count": 37,
   "metadata": {},
   "outputs": [
    {
     "name": "stdout",
     "output_type": "stream",
     "text": [
      "3\n",
      "0\n",
      "0\n",
      "1\n",
      "2\n",
      "0\n",
      "0\n",
      "2\n"
     ]
    }
   ],
   "source": [
    "#숫자 카드2 10816\n",
    "a=int(input())\n",
    "b=list(map(int,input().split()))\n",
    "l=[0]*20000001\n",
    "for i in b:\n",
    "    l[i+10000000]+=1\n",
    "c=int(input())\n",
    "d=list(map(int,input().split()))\n",
    "\n",
    "for i in d:\n",
    "    print(l[i+10000000],end=' ')"
   ]
  },
  {
   "cell_type": "code",
   "execution_count": 46,
   "metadata": {},
   "outputs": [
    {
     "name": "stdout",
     "output_type": "stream",
     "text": [
      "4\n"
     ]
    }
   ],
   "source": [
    "#문자열 집합 14425\n",
    "alpha='abcdefghijklmnopqrstuvwxyz'\n",
    "l=[[]for i in range(26)]\n",
    "cnt=0\n",
    "m,n=map(int,input().split())\n",
    "for i in range(m):\n",
    "    s=input()\n",
    "    l[ord(s[0])-97].append(s)\n",
    "\n",
    "for i in range(n):\n",
    "    ss=input()\n",
    "    if ss in l[ord(ss[0])-97]:\n",
    "        cnt+=1\n",
    "print(cnt)"
   ]
  },
  {
   "cell_type": "code",
   "execution_count": null,
   "metadata": {},
   "outputs": [],
   "source": []
  }
 ],
 "metadata": {
  "kernelspec": {
   "display_name": "base",
   "language": "python",
   "name": "python3"
  },
  "language_info": {
   "codemirror_mode": {
    "name": "ipython",
    "version": 3
   },
   "file_extension": ".py",
   "mimetype": "text/x-python",
   "name": "python",
   "nbconvert_exporter": "python",
   "pygments_lexer": "ipython3",
   "version": "3.9.12"
  },
  "orig_nbformat": 4,
  "vscode": {
   "interpreter": {
    "hash": "7f368c48a586e931bd654761381ef86d5d2c1d8e94773dbceeccd45cd5f51e02"
   }
  }
 },
 "nbformat": 4,
 "nbformat_minor": 2
}

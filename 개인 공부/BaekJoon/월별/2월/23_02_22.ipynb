{
 "cells": [
  {
   "cell_type": "code",
   "execution_count": 14,
   "metadata": {},
   "outputs": [
    {
     "name": "stdout",
     "output_type": "stream",
     "text": [
      "-1\n"
     ]
    }
   ],
   "source": [
    "# AFC 윔블던 4299\n",
    "x, y = map(int, input().split())\n",
    "z = x + y\n",
    "z1 = x - y\n",
    "if z/2 == z//2 and z1/2 == z1//2 and z1 >= 0:\n",
    "    print(z // 2, z1 // 2)\n",
    "else:\n",
    "    print(-1)"
   ]
  },
  {
   "cell_type": "code",
   "execution_count": 23,
   "metadata": {},
   "outputs": [
    {
     "name": "stdout",
     "output_type": "stream",
     "text": [
      "Hanyang\n"
     ]
    }
   ],
   "source": [
    "# 와글와글 숭고한 17388\n",
    "a, b, c = map(int, input().split())\n",
    "l = [a, b, c]\n",
    "if sum(l) >= 100:\n",
    "    print('OK')\n",
    "elif min(l) == a:\n",
    "    print('Soongsil')\n",
    "elif min(l) == b:\n",
    "    print('Korea')\n",
    "else:\n",
    "    print('Hanyang')"
   ]
  },
  {
   "cell_type": "code",
   "execution_count": 1,
   "metadata": {},
   "outputs": [
    {
     "name": "stdout",
     "output_type": "stream",
     "text": [
      "1\n"
     ]
    }
   ],
   "source": [
    "# CASIO 15963\n",
    "n, m = map(int, input().split())\n",
    "if n == m:\n",
    "    print(1)\n",
    "else:\n",
    "    print(0)"
   ]
  },
  {
   "cell_type": "code",
   "execution_count": 6,
   "metadata": {},
   "outputs": [
    {
     "name": "stdout",
     "output_type": "stream",
     "text": [
      "12\n"
     ]
    }
   ],
   "source": [
    "# 공백 없는 A+B 15873\n",
    "s = input()\n",
    "tot = 0\n",
    "if len(s) >= 3:\n",
    "    tot += 10 * s.count('10')\n",
    "    s = s.replace('10', '')\n",
    "    if len(s) != 0:\n",
    "        tot += int(s)\n",
    "    print(tot)\n",
    "else:\n",
    "    for i in s:\n",
    "        tot += int(i)\n",
    "    print(tot)"
   ]
  },
  {
   "cell_type": "code",
   "execution_count": 8,
   "metadata": {},
   "outputs": [
    {
     "name": "stdout",
     "output_type": "stream",
     "text": [
      "OLDBIE!\n"
     ]
    }
   ],
   "source": [
    "# 뉴비의 기준은 뭘까? 19944\n",
    "n, m = map(int, input().split())\n",
    "if m == 1 or m == 2:\n",
    "    print('NEWBIE!')\n",
    "elif n >= m:\n",
    "    print('OLDBIE!')\n",
    "else:\n",
    "    print('TLE!')"
   ]
  },
  {
   "cell_type": "code",
   "execution_count": 11,
   "metadata": {},
   "outputs": [
    {
     "name": "stdout",
     "output_type": "stream",
     "text": [
      "150\n"
     ]
    }
   ],
   "source": [
    "# 폰 노이만과 파리 14924\n",
    "s, t, d = map(int, input().split())\n",
    "print(t * (d // (s * 2)))"
   ]
  },
  {
   "cell_type": "code",
   "execution_count": 47,
   "metadata": {},
   "outputs": [
    {
     "name": "stdout",
     "output_type": "stream",
     "text": [
      "30\n"
     ]
    }
   ],
   "source": [
    "# 행렬 곱셈 순서 11049\n",
    "n = int(input())\n",
    "dp = [[0] * (n+1) for i in range(n+1)]\n",
    "mat = [list(map(int, input().split())) for i in range(n)]\n",
    "mat = [[0,0]] + mat\n",
    "for i in range(1, n+1):\n",
    "    for j in range(1, n+1-i):\n",
    "        dp[j][i + j] = 2 ** 31\n",
    "        for k in range(j, i+j):\n",
    "            dp[j][i + j] = min(dp[j][i + j], dp[j][k] + dp[k+1][i+j] + mat[j][0] * mat[k][1] * mat[i+j][1])\n",
    "\n",
    "print(dp[1][n])"
   ]
  },
  {
   "cell_type": "code",
   "execution_count": 76,
   "metadata": {},
   "outputs": [
    {
     "name": "stdout",
     "output_type": "stream",
     "text": [
      "0\n"
     ]
    }
   ],
   "source": [
    "# 행렬 1080\n",
    "n, m = map(int, input().split())\n",
    "cnt = 0\n",
    "l = [list(map(int, input())) for i in range(n)]\n",
    "ll = [list(map(int, input())) for i in range(n)]\n",
    "if n >= 3 and m >= 3:\n",
    "    for i in range(n-2):\n",
    "        for j in range(m-2):\n",
    "            if l[i][j] != ll[i][j]:\n",
    "                cnt += 1\n",
    "                for x in range(3):\n",
    "                    for y in range(3):\n",
    "                        if l[i+x][j+y] == 0:\n",
    "                            l[i+x][j+y] = 1\n",
    "                        else:\n",
    "                            l[i+x][j+y] = 0\n",
    "    for i in range(n):\n",
    "        if l[i] != ll[i]:\n",
    "            cnt = -1\n",
    "            break\n",
    "    print(cnt)\n",
    "else:\n",
    "    if l == ll:\n",
    "        print(0)\n",
    "    else:\n",
    "        print(-1)"
   ]
  },
  {
   "cell_type": "code",
   "execution_count": null,
   "metadata": {},
   "outputs": [],
   "source": [
    "# 행렬 1080\n",
    "n, m = map(int, input().split())\n",
    "cnt = 0\n",
    "l = [list(map(int, input())) for i in range(n)]\n",
    "ll = [list(map(int, input())) for i in range(n)]\n",
    "\n",
    "for i in range(n-2):\n",
    "    for j in range(m-2):\n",
    "        if l[i][j] != ll[i][j]:\n",
    "            cnt += 1\n",
    "            for x in range(3):\n",
    "                for y in range(3):\n",
    "                    if l[i+x][j+y] == 0:\n",
    "                        l[i+x][j+y] = 1\n",
    "                    else:\n",
    "                        l[i+x][j+y] = 0\n",
    "if l == ll:\n",
    "    print(cnt)\n",
    "else:\n",
    "    print(-1)"
   ]
  }
 ],
 "metadata": {
  "kernelspec": {
   "display_name": "base",
   "language": "python",
   "name": "python3"
  },
  "language_info": {
   "codemirror_mode": {
    "name": "ipython",
    "version": 3
   },
   "file_extension": ".py",
   "mimetype": "text/x-python",
   "name": "python",
   "nbconvert_exporter": "python",
   "pygments_lexer": "ipython3",
   "version": "3.9.12"
  },
  "orig_nbformat": 4,
  "vscode": {
   "interpreter": {
    "hash": "7f368c48a586e931bd654761381ef86d5d2c1d8e94773dbceeccd45cd5f51e02"
   }
  }
 },
 "nbformat": 4,
 "nbformat_minor": 2
}

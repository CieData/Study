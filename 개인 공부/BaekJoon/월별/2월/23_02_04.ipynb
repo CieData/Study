{
 "cells": [
  {
   "cell_type": "code",
   "execution_count": 1,
   "metadata": {},
   "outputs": [
    {
     "name": "stdout",
     "output_type": "stream",
     "text": [
      "1\n",
      "2\n",
      "5\n"
     ]
    }
   ],
   "source": [
    "#프린터 큐 1966\n",
    "from collections import deque\n",
    "for i in range(int(input())):\n",
    "    n,m=map(int,input().split())\n",
    "    pri=deque(list(map(int,input().split())))\n",
    "    l=deque([i for i in range(len(pri))])\n",
    "    cnt=0\n",
    "    while True:\n",
    "        maxnum=max(pri)\n",
    "        num=pri.popleft()\n",
    "        loc=l.popleft()\n",
    "        if num==maxnum:\n",
    "            if loc==m:\n",
    "                cnt+=1\n",
    "                break\n",
    "            else:\n",
    "                cnt+=1\n",
    "        else:\n",
    "            pri.append(num)\n",
    "            l.append(loc)\n",
    "    print(cnt)"
   ]
  },
  {
   "cell_type": "code",
   "execution_count": 3,
   "metadata": {},
   "outputs": [
    {
     "name": "stdout",
     "output_type": "stream",
     "text": [
      "1\n",
      "2\n",
      "2\n",
      "0\n",
      "1\n",
      "2\n",
      "-1\n",
      "0\n",
      "1\n",
      "-1\n",
      "0\n",
      "3\n"
     ]
    }
   ],
   "source": [
    "#큐 2 18258\n",
    "from collections import deque\n",
    "queue=deque()\n",
    "for i in range(int(input())):\n",
    "    s=input().split()\n",
    "    if s[0]=='push':\n",
    "        queue.append(s[1])\n",
    "    elif s[0]=='pop':\n",
    "        if len(queue)==0:\n",
    "            print(-1)\n",
    "        else:\n",
    "            print(queue.popleft())\n",
    "    elif s[0]=='size':\n",
    "        print(len(queue))\n",
    "    elif s[0]=='empty':\n",
    "        if len(queue)==0:\n",
    "            print(1)\n",
    "        else:\n",
    "            print(0)\n",
    "    else:\n",
    "        if len(queue)==0:\n",
    "            print(-1)\n",
    "        else:\n",
    "            if s[0]=='front':\n",
    "                print(queue[0])\n",
    "            else:\n",
    "                print(queue[-1])"
   ]
  },
  {
   "cell_type": "code",
   "execution_count": 11,
   "metadata": {},
   "outputs": [
    {
     "name": "stdout",
     "output_type": "stream",
     "text": [
      "10 8 8 8 8 8 8 10 -1 -1\n"
     ]
    }
   ],
   "source": [
    "# 오큰수 17298\n",
    "n=int(input())\n",
    "l=list(map(int,input().split()))\n",
    "result=[]\n",
    "max_num=-1\n",
    "max_l=[]\n",
    "for i in range(n):\n",
    "    num=l.pop()\n",
    "    if max_num<=num:\n",
    "        result.append(-1)\n",
    "    else:\n",
    "        while len(max_l)!=0:\n",
    "            nnum=max_l.pop()\n",
    "            if nnum>num:\n",
    "                max_l.append(nnum)\n",
    "                break\n",
    "        \n",
    "        if nnum<=num:\n",
    "            result.append(max_num)\n",
    "        else:\n",
    "            result.append(nnum)\n",
    "    max_l.append(num)\n",
    "    max_num=max(max_num,num)\n",
    "print(*result[::-1])"
   ]
  },
  {
   "cell_type": "code",
   "execution_count": 21,
   "metadata": {},
   "outputs": [],
   "source": [
    "#절댓값 힙 11286\n",
    "import heapq\n",
    "heapa=[]\n",
    "heapb=[]\n",
    "for i in range(int(input())):\n",
    "    x=int(input())\n",
    "    if x>0:\n",
    "        heapq.heappush(heapa,x)\n",
    "    elif x<0:\n",
    "        heapq.heappush(heapb,-x)\n",
    "    else:\n",
    "        if len(heapa)!=0 and len(heapb)!=0:\n",
    "            a=heapa[0]\n",
    "            b=heapb[0]\n",
    "            if a<b:\n",
    "                print(heapq.heappop(heapa))\n",
    "            else:\n",
    "                print(-heapq.heappop(heapb))\n",
    "        elif len(heapa)!=0:\n",
    "            print(heapq.heappop(heapa))\n",
    "        elif len(heapb)!=0:\n",
    "            print(-heapq.heappop(heapb))\n",
    "        else:\n",
    "            print(0)"
   ]
  },
  {
   "cell_type": "code",
   "execution_count": null,
   "metadata": {},
   "outputs": [],
   "source": []
  }
 ],
 "metadata": {
  "kernelspec": {
   "display_name": "base",
   "language": "python",
   "name": "python3"
  },
  "language_info": {
   "codemirror_mode": {
    "name": "ipython",
    "version": 3
   },
   "file_extension": ".py",
   "mimetype": "text/x-python",
   "name": "python",
   "nbconvert_exporter": "python",
   "pygments_lexer": "ipython3",
   "version": "3.9.12"
  },
  "orig_nbformat": 4,
  "vscode": {
   "interpreter": {
    "hash": "7f368c48a586e931bd654761381ef86d5d2c1d8e94773dbceeccd45cd5f51e02"
   }
  }
 },
 "nbformat": 4,
 "nbformat_minor": 2
}

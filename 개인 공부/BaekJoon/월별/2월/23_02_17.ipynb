{
 "cells": [
  {
   "cell_type": "code",
   "execution_count": 10,
   "metadata": {},
   "outputs": [
    {
     "name": "stdout",
     "output_type": "stream",
     "text": [
      "NO\n",
      "NO\n",
      "YES\n"
     ]
    }
   ],
   "source": [
    "#집합의 표현 1717\n",
    "n, m = map(int, input().split())    \n",
    "parent = [i for i in range(n+1)]\n",
    "def find_root(x):\n",
    "    if x == parent[x]:\n",
    "        return x\n",
    "    parent[x] = find_root(parent[x])\n",
    "    return parent[x]\n",
    "def union_root(x, y):\n",
    "    x = find_root(x)\n",
    "    y = find_root(y)\n",
    "\n",
    "    if x != y:\n",
    "        parent[x] = y\n",
    "\n",
    "for i in range(m):\n",
    "    a, x, y = map(int, input().split())\n",
    "    if a == 0:\n",
    "        union_root(x, y)\n",
    "    else:\n",
    "        if find_root(x) == find_root(y):\n",
    "            print('YES')\n",
    "        else:\n",
    "            print('NO')"
   ]
  },
  {
   "cell_type": "code",
   "execution_count": 3,
   "metadata": {},
   "outputs": [
    {
     "name": "stdout",
     "output_type": "stream",
     "text": [
      "4\n"
     ]
    }
   ],
   "source": [
    "# 사이클 게임 20040\n",
    "n, m = map(int, input().split())\n",
    "parent = [i for i in range(n+1)]\n",
    "break_point = 0\n",
    "def find_root(x):\n",
    "    if x == parent[x]:\n",
    "        return x\n",
    "    parent[x] = find_root(parent[x])\n",
    "    return parent[x]\n",
    "\n",
    "def union_root(x, y):\n",
    "    x = find_root(x)\n",
    "    y = find_root(y)\n",
    "\n",
    "    if x != y:\n",
    "        parent[x] = y\n",
    "l = [list(map(int, input().split())) for i in range(m)]\n",
    "for i in range(m):\n",
    "    x = l[i][0]\n",
    "    y = l[i][1]\n",
    "    if find_root(x) != find_root(y):\n",
    "        union_root(x, y)\n",
    "    else:\n",
    "        break_point = i + 1\n",
    "        break\n",
    "print(break_point)"
   ]
  },
  {
   "cell_type": "code",
   "execution_count": 8,
   "metadata": {},
   "outputs": [
    {
     "name": "stdout",
     "output_type": "stream",
     "text": [
      "2\n"
     ]
    }
   ],
   "source": [
    "# 소수가 아닌 수 27465\n",
    "n = int(input())\n",
    "if n == 1 or n == 2:\n",
    "    print(4)\n",
    "elif n % 2 == 0:\n",
    "    print(n)\n",
    "else:\n",
    "    print(n+1)"
   ]
  },
  {
   "cell_type": "code",
   "execution_count": 12,
   "metadata": {},
   "outputs": [
    {
     "name": "stdout",
     "output_type": "stream",
     "text": [
      "NO\n"
     ]
    }
   ],
   "source": [
    "# 그래서 대회 이름 뭐로 하죠 27466\n",
    "n, m = map(int, input().split())\n",
    "s = input()\n",
    "i = -1\n",
    "while 1:\n",
    "    if s[i] not in ['A','E','I','O','U']:\n",
    "        break\n",
    "    i -= 1\n",
    "s1 = s[:i].rfind('A')\n",
    "s2 = s[:s1].rfind('A')\n",
    "s3 = s[:s2+1]+'A'+s[i]\n",
    "if len(s3) < m:\n",
    "    print('NO')\n",
    "else:\n",
    "    print('YES')\n",
    "    print(s3[len(s3)-m:])"
   ]
  },
  {
   "cell_type": "code",
   "execution_count": 24,
   "metadata": {},
   "outputs": [
    {
     "name": "stdout",
     "output_type": "stream",
     "text": [
      "-2 -1\n"
     ]
    }
   ],
   "source": [
    "# 수학 퀴즈 27467\n",
    "n = int(input())\n",
    "l = list(map(int, input().split()))\n",
    "p = 0\n",
    "q = 0\n",
    "for i in l:\n",
    "    if i % 3 == 0:\n",
    "        q += 1\n",
    "    elif i % 3 == 1:\n",
    "        p += 1\n",
    "    else:\n",
    "        q -= 1\n",
    "        p -= 1\n",
    "print(p, q)"
   ]
  },
  {
   "cell_type": "code",
   "execution_count": 34,
   "metadata": {},
   "outputs": [
    {
     "name": "stdout",
     "output_type": "stream",
     "text": [
      "10\n"
     ]
    }
   ],
   "source": [
    "# 참살이길 27376\n",
    "n, k = map(int, input().split())\n",
    "time = 0\n",
    "loc = 0\n",
    "x = 0\n",
    "l = [list(map(int, input().split())) for i in range(k)]\n",
    "l.sort(key = lambda x : x[0])\n",
    "for i in l:\n",
    "    x, t, s = i[0], i[1], i[2]\n",
    "    time += x - loc\n",
    "    z = (time - s) // t\n",
    "    if z % 2 == 1:\n",
    "        time = (z + 1) * t + s\n",
    "    loc = x + 0\n",
    "time += n - x\n",
    "print(time)"
   ]
  },
  {
   "cell_type": "code",
   "execution_count": 64,
   "metadata": {},
   "outputs": [
    {
     "name": "stdout",
     "output_type": "stream",
     "text": [
      "1\n",
      "0\n",
      "1\n",
      "1\n"
     ]
    }
   ],
   "source": [
    "# 팰린드롬? 10942\n",
    "n = int(input())\n",
    "s = list(map(str, input().split()))\n",
    "dp = [[0]*n for i in range(n)]\n",
    "\n",
    "for i in range(n):\n",
    "    dp[i][i] = 1\n",
    "for i in range(n-1):\n",
    "    if s[i] == s[i + 1]:\n",
    "        dp[i][i + 1] = 1\n",
    "for i in range(n-2, -1, -1):\n",
    "    j = 2\n",
    "    while i + j < n:\n",
    "        k = i + j\n",
    "        if s[i] == s[k] and dp[i + 1][k - 1] == 1:\n",
    "            dp[i][k] = 1\n",
    "        j += 1\n",
    "\n",
    "m = int(input())\n",
    "for i in range(m):\n",
    "    start, end = map(int, input().split())\n",
    "    print(dp[start-1][end-1])"
   ]
  }
 ],
 "metadata": {
  "kernelspec": {
   "display_name": "base",
   "language": "python",
   "name": "python3"
  },
  "language_info": {
   "codemirror_mode": {
    "name": "ipython",
    "version": 3
   },
   "file_extension": ".py",
   "mimetype": "text/x-python",
   "name": "python",
   "nbconvert_exporter": "python",
   "pygments_lexer": "ipython3",
   "version": "3.9.12"
  },
  "orig_nbformat": 4,
  "vscode": {
   "interpreter": {
    "hash": "7f368c48a586e931bd654761381ef86d5d2c1d8e94773dbceeccd45cd5f51e02"
   }
  }
 },
 "nbformat": 4,
 "nbformat_minor": 2
}

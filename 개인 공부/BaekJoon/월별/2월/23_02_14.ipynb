{
 "cells": [
  {
   "cell_type": "code",
   "execution_count": 16,
   "metadata": {},
   "outputs": [
    {
     "name": "stdout",
     "output_type": "stream",
     "text": [
      "0 0\n"
     ]
    }
   ],
   "source": [
    "# 내려가기 2096\n",
    "import copy\n",
    "n = int(input())\n",
    "for i in range(n):\n",
    "    if i == 0:\n",
    "        l = list(map(int, input().split()))\n",
    "        ll = copy.deepcopy(l)\n",
    "    else:\n",
    "        a, b, c, d, e, f = l[0], l[1], l[2], ll[0], ll[1], ll[2]\n",
    "        x, y, z = map(int, input().split())\n",
    "        l[0] = max(a, b) + x\n",
    "        l[1] = max(a, b, c) + y\n",
    "        l[2] = max(b, c) + z\n",
    "\n",
    "        ll[0] = min(d, e) + x\n",
    "        ll[1] = min(d, e, f) + y\n",
    "        ll[2] = min(e, f) + z\n",
    "print(max(l), min(ll))"
   ]
  },
  {
   "cell_type": "code",
   "execution_count": 68,
   "metadata": {},
   "outputs": [
    {
     "name": "stdout",
     "output_type": "stream",
     "text": [
      "468 576 684 \n",
      "62 305 548 \n",
      "656 34 412 \n"
     ]
    }
   ],
   "source": [
    "# 행렬 제곱 10830\n",
    "n, b = map(int, input().split())\n",
    "matrix = [list(map(int, input().split())) for i in range(n)]\n",
    "\n",
    "def mat(a, b):\n",
    "    matrix = [[0]*n for i in range(n)]\n",
    "    for i in range(n):\n",
    "        for j in range(n):\n",
    "            for k in range(n):\n",
    "                matrix[i][j] += a[i][k] * b[k][j] % 1000\n",
    "    return matrix\n",
    "\n",
    "def exp(a, b):\n",
    "    if b == 1:\n",
    "        return a\n",
    "    else:\n",
    "        c = exp(a, b // 2)\n",
    "        if b % 2 ==0:\n",
    "            return mat(c, c)\n",
    "        else:\n",
    "            return mat(a, mat(c, c))\n",
    "\n",
    "ans = exp(matrix, b)\n",
    "for i in ans:\n",
    "    for j in i:\n",
    "        print(j % 1000, end = ' ')\n",
    "    print()"
   ]
  },
  {
   "cell_type": "code",
   "execution_count": 58,
   "metadata": {},
   "outputs": [
    {
     "name": "stdout",
     "output_type": "stream",
     "text": [
      "517691607\n"
     ]
    }
   ],
   "source": [
    "# 피보나치 수 6 11444\n",
    "n = int(input())\n",
    "fib = [[1, 1], [1, 0]]\n",
    "\n",
    "def mat(a, b):\n",
    "    matrix = [[0,0],[0,0]]\n",
    "    for i in range(2):\n",
    "        for j in range(2):\n",
    "            for k in range(2):\n",
    "                matrix[i][j] += a[i][k] * b[k][j] % (10**9 + 7)\n",
    "    return matrix\n",
    "\n",
    "def exp(a, b):\n",
    "    if b == 1:\n",
    "        return a\n",
    "    else:\n",
    "        c = exp(a, b // 2)\n",
    "        if b % 2 ==0:\n",
    "            return mat(c, c)\n",
    "        else:\n",
    "            return mat(a, mat(c, c))\n",
    "\n",
    "ans = exp(fib, n)\n",
    "print(ans[0][1] % 1000000007)"
   ]
  },
  {
   "cell_type": "code",
   "execution_count": 92,
   "metadata": {},
   "outputs": [
    {
     "name": "stdout",
     "output_type": "stream",
     "text": [
      "2097151\n"
     ]
    }
   ],
   "source": [
    "# 하노이 탑, 하노이 탑 이동 순서 1914, 11729\n",
    "n = int(input())\n",
    "def h(a, b, c, n):\n",
    "    if n == 0:\n",
    "        return\n",
    "    \n",
    "    h(a, c, b, n-1)\n",
    "    print(a, c)\n",
    "    h(b, a, c, n-1)\n",
    "print(2 ** n - 1)\n",
    "h(1, 2, 3, n)"
   ]
  },
  {
   "cell_type": "code",
   "execution_count": 39,
   "metadata": {},
   "outputs": [
    {
     "data": {
      "text/plain": [
       "333333338"
      ]
     },
     "execution_count": 39,
     "metadata": {},
     "output_type": "execute_result"
    }
   ],
   "source": [
    "# Σ 13172\n",
    "import math\n",
    "\n",
    "def exp(x, n):\n",
    "    p = 10 ** 9 + 7\n",
    "    if n == 1:\n",
    "        return x % p\n",
    "    if n % 2 == 1:\n",
    "        return exp(x, n-1) * x % p\n",
    "    h = exp(x, n // 2) % p\n",
    "    return h * h\n",
    "\n",
    "m = int(input())\n",
    "a, b = 0, 1\n",
    "for i in range(m):\n",
    "    n, s = map(int, input().split())\n",
    "    gcd = math.gcd(b, n)\n",
    "\n",
    "    a = ((a * n) + (s * b)) // gcd\n",
    "    b = (b * n) // gcd\n",
    "    \n",
    "    \n",
    "print((exp(b, 10 ** 9 + 5)) * a % (10 ** 9 + 7))"
   ]
  }
 ],
 "metadata": {
  "kernelspec": {
   "display_name": "base",
   "language": "python",
   "name": "python3"
  },
  "language_info": {
   "codemirror_mode": {
    "name": "ipython",
    "version": 3
   },
   "file_extension": ".py",
   "mimetype": "text/x-python",
   "name": "python",
   "nbconvert_exporter": "python",
   "pygments_lexer": "ipython3",
   "version": "3.9.12"
  },
  "orig_nbformat": 4,
  "vscode": {
   "interpreter": {
    "hash": "7f368c48a586e931bd654761381ef86d5d2c1d8e94773dbceeccd45cd5f51e02"
   }
  }
 },
 "nbformat": 4,
 "nbformat_minor": 2
}

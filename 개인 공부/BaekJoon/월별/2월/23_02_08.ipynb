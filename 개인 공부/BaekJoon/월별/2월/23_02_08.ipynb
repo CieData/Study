{
 "cells": [
  {
   "cell_type": "code",
   "execution_count": 1,
   "metadata": {},
   "outputs": [
    {
     "name": "stdout",
     "output_type": "stream",
     "text": [
      "3\n",
      "0\n"
     ]
    }
   ],
   "source": [
    "# 어린왕자 1004\n",
    "t = int(input())\n",
    "for i in range(t):\n",
    "    #출발점 도착점, 진입/이탈 횟수\n",
    "    x1, y1, x2, y2 = map(int, input().split())\n",
    "    cnt = 0\n",
    "\n",
    "    n = int(input())\n",
    "    # 원 좌표\n",
    "    circle = []\n",
    "    # 원 반지름\n",
    "    radius = []\n",
    "    for j in range(n):\n",
    "        # n개의 원들\n",
    "        cx, cy, r = map(int, input().split())\n",
    "        circle.append([cx, cy])\n",
    "        radius.append(r**2)\n",
    "\n",
    "    # 출발점과 도착점이 한 원의 안, 밖으로 나눠져 있으면 +1\n",
    "    for j in range(n):\n",
    "        x = (circle[j][0] - x1) ** 2 + (circle[j][1] - y1) ** 2\n",
    "        y = (circle[j][0] - x2) ** 2 + (circle[j][1] - y2) ** 2\n",
    "        if (x > radius[j] and y < radius[j])\\\n",
    "            or (x < radius[j] and y > radius[j]):\n",
    "            cnt += 1\n",
    "    print(cnt)"
   ]
  },
  {
   "cell_type": "code",
   "execution_count": 25,
   "metadata": {},
   "outputs": [
    {
     "data": {
      "text/plain": [
       "-16"
      ]
     },
     "execution_count": 25,
     "metadata": {},
     "output_type": "execute_result"
    }
   ],
   "source": [
    "#CCW 11758\n",
    "for i in range(1,4):\n",
    "    globals()[f'x{i}'], globals()[f'y{i}'] = map(int, input().split())\n",
    "\n",
    "a = x1*y2 + x2*y3 + x3*y1 - (y1*x2 + y2*x3 + y3*x1)\n",
    "if a < 0:\n",
    "    print(-1)\n",
    "elif a > 0:\n",
    "    print(1)\n",
    "else:\n",
    "    print(0)"
   ]
  },
  {
   "cell_type": "code",
   "execution_count": 54,
   "metadata": {},
   "outputs": [
    {
     "name": "stdout",
     "output_type": "stream",
     "text": [
      "1\n"
     ]
    }
   ],
   "source": [
    "# 하키 1358\n",
    "w, h, x, y, p = map(int, input().split())\n",
    "cnt = 0\n",
    "for i in range(p):\n",
    "    x1, y1 = map(int, input().split())\n",
    "    if (x1 - x) ** 2 + (y1 - (y + h/2)) ** 2 <= (h/2) ** 2:\n",
    "        cnt += 1\n",
    "    elif (x1 - (x + w)) ** 2 + (y1 - (y + h/2)) ** 2 <= (h/2) ** 2:\n",
    "        cnt += 1\n",
    "    elif x1 >= x and x1 <= x+w and y1 >= y and y1 <= y+h:\n",
    "        cnt += 1\n",
    "print(cnt)"
   ]
  },
  {
   "cell_type": "code",
   "execution_count": 84,
   "metadata": {},
   "outputs": [
    {
     "name": "stdout",
     "output_type": "stream",
     "text": [
      "0\n"
     ]
    }
   ],
   "source": [
    "# 선분 교차 1 17386\n",
    "def ccw(p1,p2,p3):\n",
    "    return p1[0]*p2[1] + p2[0]*p3[1] + p3[0]*p1[1] - (p1[1]*p2[0] + p2[1]*p3[0] + p3[1]*p1[0])\n",
    "x1, y1, x2, y2 = map(int, input().split())\n",
    "x3, y3, x4, y4 = map(int, input().split())\n",
    "p1 = [x1, y1]\n",
    "p2 = [x2, y2]\n",
    "p3 = [x3, y3]\n",
    "p4 = [x4, y4]\n",
    "x = ccw(p1, p2, p3) * ccw(p1,p2,p4)\n",
    "y = ccw(p3, p4, p1) * ccw(p3,p4,p2)\n",
    "if x <= 0 and y <= 0:\n",
    "    print(1)\n",
    "else:\n",
    "    print(0)"
   ]
  },
  {
   "cell_type": "code",
   "execution_count": 91,
   "metadata": {},
   "outputs": [
    {
     "name": "stdout",
     "output_type": "stream",
     "text": [
      "0\n"
     ]
    }
   ],
   "source": [
    "# 선분 교차 2 17387\n",
    "def ccw(p1,p2,p3):\n",
    "    num = (p1[0]*p2[1] + p2[0]*p3[1] + p3[0]*p1[1]) - (p2[0]*p1[1] + p3[0]*p2[1] + p1[0]*p3[1])\n",
    "    if num > 0:\n",
    "        return 1\n",
    "    elif num < 0:\n",
    "        return -1\n",
    "    else:\n",
    "        return 0\n",
    "def line(p1,p2,p3):\n",
    "    a1 = p1[0]\n",
    "    a2 = p2[0]\n",
    "    a3 = p3[0]\n",
    "    l = [a1, a2, a3]\n",
    "    l.sort()\n",
    "    if l.index(a3) == 1:\n",
    "        return print(1)\n",
    "    else:\n",
    "        return print(0)\n",
    "\n",
    "x1, y1, x2, y2 = map(int, input().split())\n",
    "x3, y3, x4, y4 = map(int, input().split())\n",
    "p1 = [x1, y1]\n",
    "p2 = [x2, y2]\n",
    "p3 = [x3, y3]\n",
    "p4 = [x4, y4]\n",
    "\n",
    "a = ccw(p1, p2, p3)\n",
    "b = ccw(p1, p2, p4)\n",
    "c = ccw(p3, p4, p1)\n",
    "d = ccw(p3, p4, p2)\n",
    "\n",
    "if a * b == 0 and c * d == 0:\n",
    "    if min(p1[0], p2[0])<=max(p3[0],p4[0]) and min(p3[0],p4[0])<=max(p1[0],p2[0]) and min(p1[1],p2[1])<=max(p3[1],p4[1]) and min(p3[1],p4[1])<=max(p1[1],p2[1]):\n",
    "        print(1)\n",
    "    else:\n",
    "        print(0)\n",
    "elif a * b <= 0 and c * d <= 0:\n",
    "    print(1)\n",
    "else:\n",
    "    print(0)"
   ]
  },
  {
   "cell_type": "code",
   "execution_count": 93,
   "metadata": {},
   "outputs": [
    {
     "name": "stdout",
     "output_type": "stream",
     "text": [
      "Pizza 1 fits on the table.\n",
      "Pizza 2 does not fit on the table.\n",
      "Pizza 3 fits on the table.\n"
     ]
    }
   ],
   "source": [
    "#동혁 피자 6502\n",
    "i=1\n",
    "while True:\n",
    "    try:\n",
    "        r, w, l = map(int, input().split())\n",
    "        w /= 2\n",
    "        l /= 2\n",
    "        if w ** 2 + l ** 2 <= r ** 2:\n",
    "            print(f'Pizza {i} fits on the table.')\n",
    "        else:\n",
    "            print(f'Pizza {i} does not fit on the table.')\n",
    "        i += 1\n",
    "    except:\n",
    "        break"
   ]
  },
  {
   "cell_type": "code",
   "execution_count": 105,
   "metadata": {},
   "outputs": [
    {
     "name": "stdout",
     "output_type": "stream",
     "text": [
      "32.0\n"
     ]
    }
   ],
   "source": [
    "#Abbey Courtyard 15610\n",
    "#Atrium 20353\n",
    "#Contemporary Art 16600\n",
    "print(int(input()) ** .5 * 4)"
   ]
  },
  {
   "cell_type": "code",
   "execution_count": 100,
   "metadata": {},
   "outputs": [
    {
     "name": "stdout",
     "output_type": "stream",
     "text": [
      "Triangle #1\n",
      "c = 5.000\n",
      "Triangle #2\n",
      "a = 6.708\n",
      "Triangle #3\n",
      "Impossible.\n"
     ]
    }
   ],
   "source": [
    "#직각 삼각형의 두 변 6322\n",
    "i = 1\n",
    "while True:\n",
    "    a, b, c = map(int, input().split())\n",
    "    if [a, b, c] == [0, 0, 0]:\n",
    "        break\n",
    "\n",
    "    print(f'Triangle #{i}')\n",
    "    i += 1\n",
    "    if c == -1:\n",
    "        print(f'c = {(a**2+b**2)**.5:.3f}')\n",
    "    elif c <= max(a, b):\n",
    "        print('Impossible.')\n",
    "    else:\n",
    "        if a == -1:\n",
    "            print(f'a = {(c**2-b**2)**.5:.3f}')\n",
    "        else:\n",
    "            print(f'b = {(c**2-a**2)**.5:.3f}')\n",
    "    print('')"
   ]
  },
  {
   "cell_type": "code",
   "execution_count": 103,
   "metadata": {},
   "outputs": [
    {
     "name": "stdout",
     "output_type": "stream",
     "text": [
      "196.0\n"
     ]
    }
   ],
   "source": [
    "#컵라면 측정하기 16479\n",
    "k = int(input())\n",
    "d1, d2 = map(int,input().split())\n",
    "print(k**2 - ((d1 - d2) / 2) ** 2)"
   ]
  },
  {
   "cell_type": "code",
   "execution_count": 111,
   "metadata": {},
   "outputs": [
    {
     "name": "stdout",
     "output_type": "stream",
     "text": [
      "72\n"
     ]
    }
   ],
   "source": [
    "# 접시 안의 원 16483\n",
    "t = int(input())\n",
    "print(round((t/2)**2))"
   ]
  },
  {
   "cell_type": "code",
   "execution_count": 138,
   "metadata": {},
   "outputs": [
    {
     "name": "stdout",
     "output_type": "stream",
     "text": [
      "6\n"
     ]
    }
   ],
   "source": [
    "# 겉넓이 구하기 16931\n",
    "cnt = 0\n",
    "n, m = map(int, input().split())\n",
    "l = [[0] * (m+2) for i in range(n+2)]\n",
    "for i in range(1, n+1):\n",
    "    l[i][1:m+1] = list(map(int,input().split()))\n",
    "cnt += n * m * 2\n",
    "for i in range(1, n+1):\n",
    "    for j in range(1, m+1):\n",
    "        x = l[i][j]\n",
    "        ll = [l[i][j-1], l[i][j+1], l[i-1][j], l[i+1][j]]\n",
    "        for k in ll:\n",
    "            if x - k > 0:\n",
    "                cnt += x - k\n",
    "    \n",
    "print(cnt)"
   ]
  },
  {
   "cell_type": "code",
   "execution_count": null,
   "metadata": {},
   "outputs": [],
   "source": [
    "# 원의 분할 16478\n",
    "a, b, c = map(int, input().split())\n",
    "print(a * (c / b))"
   ]
  },
  {
   "cell_type": "code",
   "execution_count": null,
   "metadata": {},
   "outputs": [],
   "source": [
    "# 개미 11880\n",
    "t = int(input())\n",
    "for i in range(t):\n",
    "    l = list(map(int, input().split()))\n",
    "    x = max(l)\n",
    "    print((sum(l) - x) ** 2 + x ** 2)"
   ]
  },
  {
   "cell_type": "code",
   "execution_count": 142,
   "metadata": {},
   "outputs": [
    {
     "name": "stdout",
     "output_type": "stream",
     "text": [
      "360\n"
     ]
    }
   ],
   "source": [
    "#대지 9063\n",
    "n = int(input())\n",
    "l = []\n",
    "ll = []\n",
    "for i in range(n):\n",
    "    a, b = map(int, input().split())\n",
    "    l.append(a)\n",
    "    ll.append(b)\n",
    "print((max(l) - min(l)) * (max(ll) - min(ll)))"
   ]
  },
  {
   "cell_type": "code",
   "execution_count": null,
   "metadata": {},
   "outputs": [],
   "source": [
    "# 삼각형으로 자르기 1198\n"
   ]
  }
 ],
 "metadata": {
  "kernelspec": {
   "display_name": "base",
   "language": "python",
   "name": "python3"
  },
  "language_info": {
   "codemirror_mode": {
    "name": "ipython",
    "version": 3
   },
   "file_extension": ".py",
   "mimetype": "text/x-python",
   "name": "python",
   "nbconvert_exporter": "python",
   "pygments_lexer": "ipython3",
   "version": "3.9.12"
  },
  "orig_nbformat": 4,
  "vscode": {
   "interpreter": {
    "hash": "7f368c48a586e931bd654761381ef86d5d2c1d8e94773dbceeccd45cd5f51e02"
   }
  }
 },
 "nbformat": 4,
 "nbformat_minor": 2
}

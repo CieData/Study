{
 "cells": [
  {
   "cell_type": "code",
   "execution_count": 36,
   "metadata": {},
   "outputs": [
    {
     "name": "stdout",
     "output_type": "stream",
     "text": [
      "9\n"
     ]
    }
   ],
   "source": [
    "#뱀 3190\n",
    "from collections import deque\n",
    "\n",
    "n=int(input())\n",
    "apple=[list(map(int, input().split())) for i in range(int(input()))]\n",
    "\n",
    "# 방향 돌리는 리스트\n",
    "dir_change_time = deque()\n",
    "dir_change = deque()\n",
    "for i in range(int(input())):\n",
    "    time,dir=input().split()\n",
    "    dir_change_time.append(int(time))\n",
    "    dir_change.append(dir)\n",
    "# 현재 방향 \n",
    "# dir 0 : 오른쪽, 1: 아래, 2: 왼쪽, 3: 위 \n",
    "dir = 0\n",
    "time = 0\n",
    "# 뱀 머리 위치\n",
    "head = [1,1]\n",
    "snake = deque([[1,1]])\n",
    "\n",
    "while True:\n",
    "    # 시간 지날때\n",
    "    time += 1\n",
    "\n",
    "    # 방향별로 머리 위치 변경\n",
    "    if dir == 0:\n",
    "        head[1] += 1\n",
    "    elif dir == 1:\n",
    "        head[0] += 1\n",
    "    elif dir == 2:\n",
    "        head[1] -= 1\n",
    "    else:\n",
    "        head[0] -= 1\n",
    "    # 머리가 몸통에 닿았는가?\n",
    "    if head in snake:\n",
    "        break\n",
    "    else:\n",
    "        snake.append([head[0], head[1]])\n",
    "    # 이동 칸에 사과 있는 경우 아닌 경우\n",
    "    if head in apple:\n",
    "        apple.remove([head[0], head[1]])\n",
    "    else:\n",
    "        snake.popleft()\n",
    "    # 게임이 끝나는 경우(머리가 부딪힐때)\n",
    "    if min(head) == 0 or max(head) == n+1:\n",
    "        break\n",
    "    # 시간 지날때 방향 변경\n",
    "    if len(dir_change_time) != 0:\n",
    "        if dir_change_time[0] == time:\n",
    "            dir_change_time.popleft()\n",
    "            c = dir_change.popleft()\n",
    "            if c == 'L':\n",
    "                dir -= 1\n",
    "            else:\n",
    "                dir += 1\n",
    "\n",
    "            if dir == -1:\n",
    "                dir = 3\n",
    "            else:\n",
    "                dir %= 4\n",
    "print(time)"
   ]
  },
  {
   "cell_type": "code",
   "execution_count": 46,
   "metadata": {},
   "outputs": [
    {
     "name": "stdout",
     "output_type": "stream",
     "text": [
      "NO\n",
      "NO\n",
      "YES\n"
     ]
    }
   ],
   "source": [
    "# 집합의 표현\n",
    "n,m = map(int, input().split())\n",
    "union = [[i] for i in range(n+1)]\n",
    "for i in range(m):\n",
    "    a,b,c = map(int, input().split())\n",
    "    if a == 0:\n",
    "        for j in union:\n",
    "            if b in j:\n",
    "                b = j\n",
    "            if c in j:\n",
    "                c = j\n",
    "        if b != c:\n",
    "            union.remove(b)\n",
    "            union.remove(c)\n",
    "            b += c\n",
    "            union.append(b)\n",
    "        else:\n",
    "            union.remove(b)\n",
    "            union.append(b)\n",
    "\n",
    "    else:\n",
    "        for j in union:\n",
    "            if b in j:\n",
    "                if c in j:\n",
    "                    print('YES')\n",
    "                else:\n",
    "                    print('NO')\n",
    "                break"
   ]
  },
  {
   "cell_type": "code",
   "execution_count": null,
   "metadata": {},
   "outputs": [],
   "source": []
  }
 ],
 "metadata": {
  "kernelspec": {
   "display_name": "base",
   "language": "python",
   "name": "python3"
  },
  "language_info": {
   "codemirror_mode": {
    "name": "ipython",
    "version": 3
   },
   "file_extension": ".py",
   "mimetype": "text/x-python",
   "name": "python",
   "nbconvert_exporter": "python",
   "pygments_lexer": "ipython3",
   "version": "3.9.12"
  },
  "orig_nbformat": 4,
  "vscode": {
   "interpreter": {
    "hash": "7f368c48a586e931bd654761381ef86d5d2c1d8e94773dbceeccd45cd5f51e02"
   }
  }
 },
 "nbformat": 4,
 "nbformat_minor": 2
}

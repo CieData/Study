{
 "cells": [
  {
   "cell_type": "code",
   "execution_count": 7,
   "metadata": {},
   "outputs": [
    {
     "name": "stdout",
     "output_type": "stream",
     "text": [
      "60466175\n"
     ]
    }
   ],
   "source": [
    "# 진법 변환 2745\n",
    "n, b = map(str, input().split())\n",
    "n = n[::-1]\n",
    "b = int(b)\n",
    "ans = 0\n",
    "for i in range(len(n)):\n",
    "    if n[i].isdigit():\n",
    "        ans += int(n[i]) * (b ** i)\n",
    "    else:\n",
    "        ans += (ord(n[i]) - 55) * (b ** i)\n",
    "print(ans)"
   ]
  },
  {
   "cell_type": "code",
   "execution_count": 10,
   "metadata": {},
   "outputs": [
    {
     "name": "stdout",
     "output_type": "stream",
     "text": [
      "12\n"
     ]
    }
   ],
   "source": [
    "# 서로 다른 부분 문자열의 개수 11478\n",
    "s = input()\n",
    "l = []\n",
    "for i in range(len(s)):\n",
    "    for j in range(i + 1, len(s) + 1):\n",
    "        l.append(s[i:j])\n",
    "print(len(set(l)))"
   ]
  },
  {
   "cell_type": "code",
   "execution_count": 25,
   "metadata": {},
   "outputs": [
    {
     "name": "stdout",
     "output_type": "stream",
     "text": [
      "JOI\n"
     ]
    }
   ],
   "source": [
    "# 카이사르 암호 5598\n",
    "s = input()\n",
    "ss = ''\n",
    "for i in s:\n",
    "    num = ord(i) - 3\n",
    "    if num < 65:\n",
    "        num += 26\n",
    "    ss += chr(num)\n",
    "print(ss)"
   ]
  },
  {
   "cell_type": "code",
   "execution_count": null,
   "metadata": {},
   "outputs": [],
   "source": [
    "# 개표 10102\n",
    "n = int(input())\n",
    "s = input()\n",
    "if s.count('A') > s.count('B'):\n",
    "    print('A')\n",
    "elif s.count('A') < s.count('B'):\n",
    "    print('B')\n",
    "else:\n",
    "    print('Tie')"
   ]
  },
  {
   "cell_type": "code",
   "execution_count": 4,
   "metadata": {},
   "outputs": [
    {
     "name": "stdout",
     "output_type": "stream",
     "text": [
      "1 0\n"
     ]
    }
   ],
   "source": [
    "# 누울 자리를 찾아라 1652\n",
    "n = int(input())\n",
    "l = [input() for i in range(n)]\n",
    "row = 0\n",
    "col = 0\n",
    "for i in l:\n",
    "    i = i.split('X')\n",
    "    for j in i:\n",
    "        if '..' in j:\n",
    "            row += 1\n",
    "for i in range(n):\n",
    "    ss = ''\n",
    "    for j in range(n):\n",
    "        ss += l[j][i]\n",
    "    ss = ss.split('X')\n",
    "    for k in ss:\n",
    "        if '..' in k:\n",
    "            col +=1\n",
    "print(row, col)"
   ]
  },
  {
   "cell_type": "code",
   "execution_count": 5,
   "metadata": {},
   "outputs": [
    {
     "name": "stdout",
     "output_type": "stream",
     "text": [
      "A\n"
     ]
    }
   ],
   "source": [
    "# 유학 금지 2789\n",
    "s = 'CAMBRIDGE'\n",
    "ss = input()\n",
    "ans = ''\n",
    "for i in ss:\n",
    "    if i not in s:\n",
    "        ans += i\n",
    "print(ans)"
   ]
  },
  {
   "cell_type": "code",
   "execution_count": 7,
   "metadata": {},
   "outputs": [
    {
     "name": "stdout",
     "output_type": "stream",
     "text": [
      "8\n"
     ]
    }
   ],
   "source": [
    "# 애너그램 만들기 1919\n",
    "s = input()\n",
    "ss = input()\n",
    "s_l = [0] * 26\n",
    "ss_l = [0] * 26\n",
    "tot = 0\n",
    "\n",
    "for i in s:\n",
    "    s_l[ord(i)-97] += 1\n",
    "for i in ss:\n",
    "    ss_l[ord(i)-97] += 1\n",
    "\n",
    "for i in range(26):\n",
    "    tot += abs(s_l[i] - ss_l[i])\n",
    "\n",
    "print(tot)"
   ]
  },
  {
   "cell_type": "code",
   "execution_count": 8,
   "metadata": {},
   "outputs": [
    {
     "name": "stdout",
     "output_type": "stream",
     "text": [
      "even\n"
     ]
    }
   ],
   "source": [
    "# 홀수일까 짝수일까 5988\n",
    "for i in range(int(input())):\n",
    "    k = int(input())\n",
    "    if k % 2 == 0:\n",
    "        print('even')\n",
    "    else:\n",
    "        print('odd')"
   ]
  },
  {
   "cell_type": "code",
   "execution_count": 9,
   "metadata": {},
   "outputs": [
    {
     "name": "stdout",
     "output_type": "stream",
     "text": [
      "4\n"
     ]
    }
   ],
   "source": [
    "# 이상한 곱셈 1225\n",
    "a, b = input().split()\n",
    "tot = [0, 0]\n",
    "for i in a:\n",
    "    tot[0] += int(i)\n",
    "for i in b:\n",
    "    tot[1] += int(i)\n",
    "\n",
    "print(tot[0] * tot[1])"
   ]
  },
  {
   "cell_type": "code",
   "execution_count": 14,
   "metadata": {},
   "outputs": [
    {
     "name": "stdout",
     "output_type": "stream",
     "text": [
      "Powdered Toast Man\n"
     ]
    }
   ],
   "source": [
    "# 첫 글자를 대문자로 4458\n",
    "for i in range(int(input())):\n",
    "    s = input()\n",
    "    print(s[0].upper() + s[1:])"
   ]
  },
  {
   "cell_type": "code",
   "execution_count": null,
   "metadata": {},
   "outputs": [],
   "source": []
  }
 ],
 "metadata": {
  "kernelspec": {
   "display_name": "base",
   "language": "python",
   "name": "python3"
  },
  "language_info": {
   "codemirror_mode": {
    "name": "ipython",
    "version": 3
   },
   "file_extension": ".py",
   "mimetype": "text/x-python",
   "name": "python",
   "nbconvert_exporter": "python",
   "pygments_lexer": "ipython3",
   "version": "3.9.12"
  },
  "orig_nbformat": 4,
  "vscode": {
   "interpreter": {
    "hash": "7f368c48a586e931bd654761381ef86d5d2c1d8e94773dbceeccd45cd5f51e02"
   }
  }
 },
 "nbformat": 4,
 "nbformat_minor": 2
}

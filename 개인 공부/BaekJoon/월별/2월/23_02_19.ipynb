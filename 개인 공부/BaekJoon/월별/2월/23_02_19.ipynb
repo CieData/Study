{
 "cells": [
  {
   "cell_type": "code",
   "execution_count": 7,
   "metadata": {},
   "outputs": [
    {
     "name": "stdout",
     "output_type": "stream",
     "text": [
      "4\n"
     ]
    }
   ],
   "source": [
    "# 대칭 차집합 1269\n",
    "n, m = map(int,input().split())\n",
    "a = set(list(map(str,input().split())))\n",
    "b = set(list(map(str,input().split())))\n",
    "c = n - len(a - b)\n",
    "print(n + m -(c * 2))"
   ]
  }
 ],
 "metadata": {
  "kernelspec": {
   "display_name": "base",
   "language": "python",
   "name": "python3"
  },
  "language_info": {
   "codemirror_mode": {
    "name": "ipython",
    "version": 3
   },
   "file_extension": ".py",
   "mimetype": "text/x-python",
   "name": "python",
   "nbconvert_exporter": "python",
   "pygments_lexer": "ipython3",
   "version": "3.9.12"
  },
  "orig_nbformat": 4,
  "vscode": {
   "interpreter": {
    "hash": "7f368c48a586e931bd654761381ef86d5d2c1d8e94773dbceeccd45cd5f51e02"
   }
  }
 },
 "nbformat": 4,
 "nbformat_minor": 2
}

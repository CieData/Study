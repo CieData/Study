{
 "cells": [
  {
   "cell_type": "code",
   "execution_count": 3,
   "metadata": {},
   "outputs": [
    {
     "name": "stdout",
     "output_type": "stream",
     "text": [
      "NE\n"
     ]
    }
   ],
   "source": [
    "# 한국이 그리울 땐 서버에 접속하지 9996\n",
    "n = int(input())\n",
    "s = input().split('*')\n",
    "s_len = len(s[0]) + len(s[1])\n",
    "for i in range(n):\n",
    "    ss = input()\n",
    "    if len(ss) < s_len:\n",
    "        print('NE')\n",
    "    else:\n",
    "        if ss[:len(s[0])] == s[0] and ss[-len(s[1]):] == s[1]:\n",
    "            print('DA')\n",
    "        else:\n",
    "            print('NE')"
   ]
  },
  {
   "cell_type": "code",
   "execution_count": 7,
   "metadata": {},
   "outputs": [
    {
     "name": "stdout",
     "output_type": "stream",
     "text": [
      "Possible\n",
      "Possible\n",
      "Possible\n",
      "Impossible\n"
     ]
    }
   ],
   "source": [
    "# Strfry 11328\n",
    "for i in range(int(input())):\n",
    "    l = input().split()\n",
    "    s = sorted(l[0])\n",
    "    ss = sorted(l[1])\n",
    "    if s == ss:\n",
    "        print('Possible')\n",
    "    else:\n",
    "        print('Impossible')"
   ]
  },
  {
   "cell_type": "code",
   "execution_count": 66,
   "metadata": {},
   "outputs": [
    {
     "name": "stdout",
     "output_type": "stream",
     "text": [
      "B.\n",
      "AB\n"
     ]
    }
   ],
   "source": [
    "# 크로스워드 만들기 2804\n",
    "A, B = input().split()\n",
    "l = [['.'] * len(A) for i in range(len(B))]\n",
    "find = False\n",
    "for i in range(len(A)):\n",
    "    for j in range(len(B)):\n",
    "        if A[i] == B[j]:\n",
    "            find = True\n",
    "            break\n",
    "    if find == True:\n",
    "        break\n",
    "\n",
    "for x in range(len(A)):\n",
    "    for y in range(len(B)):\n",
    "        if x == i:\n",
    "            l[y][x] = B[y]\n",
    "        if y == j:\n",
    "            l[y][x] = A[x]\n",
    "for i in l:\n",
    "    s = ''\n",
    "    for j in i:\n",
    "        s += j\n",
    "    print(s)"
   ]
  },
  {
   "cell_type": "code",
   "execution_count": 68,
   "metadata": {},
   "outputs": [
    {
     "data": {
      "text/plain": [
       "(9, 'nine')"
      ]
     },
     "execution_count": 68,
     "metadata": {},
     "output_type": "execute_result"
    }
   ],
   "source": [
    "# 숫자놀이 1755\n",
    "m, n = map(int, input().split())\n",
    "l = ['zero', 'one', 'two', 'three', 'four', 'five', 'six', 'seven', 'eight', 'nine']\n",
    "a = {}\n",
    "for i in range(m, n+1):\n",
    "    s = ''\n",
    "    if i >= 10:\n",
    "        s += l[i//10]\n",
    "        s += l[i%10]\n",
    "    else:\n",
    "        s += l[i]\n",
    "    a[i] = s\n",
    "s = sorted(a.items(), key = lambda x : x[1])\n",
    "for i in range(len(s)):\n",
    "    print(s[i][0], end = ' ')\n",
    "    if i % 10 == 9:\n",
    "        print()"
   ]
  },
  {
   "cell_type": "code",
   "execution_count": 74,
   "metadata": {},
   "outputs": [
    {
     "name": "stdout",
     "output_type": "stream",
     "text": [
      "happy\n"
     ]
    }
   ],
   "source": [
    "# 행복한지 슬픈지 10769\n",
    "s = input()\n",
    "happy = s.count(':-)')\n",
    "sad = s.count(':-(')\n",
    "if happy > sad:\n",
    "    print('happy')\n",
    "elif sad > happy:\n",
    "    print('sad')\n",
    "elif sad == 0 and happy == 0:\n",
    "    print('none')\n",
    "else:\n",
    "    print('unsure')"
   ]
  },
  {
   "cell_type": "code",
   "execution_count": 80,
   "metadata": {},
   "outputs": [
    {
     "name": "stdout",
     "output_type": "stream",
     "text": [
      "1\n"
     ]
    }
   ],
   "source": [
    "# 창영마을 3028\n",
    "s = input()\n",
    "ans = 1\n",
    "for i in s:\n",
    "    if i == 'A':\n",
    "        if ans == 1:\n",
    "            ans = 2\n",
    "        elif ans == 2:\n",
    "            ans = 1\n",
    "    elif i == 'B':\n",
    "        if ans == 2:\n",
    "            ans = 3\n",
    "        elif ans == 3:\n",
    "            ans = 2\n",
    "    else:\n",
    "        if ans == 1:\n",
    "            ans = 3\n",
    "        elif ans == 3:\n",
    "            ans = 1\n",
    "print(ans)"
   ]
  },
  {
   "cell_type": "code",
   "execution_count": 87,
   "metadata": {},
   "outputs": [
    {
     "name": "stdout",
     "output_type": "stream",
     "text": [
      "acm 1\n",
      "example 1\n",
      "hello 1\n",
      "korea 1\n",
      "sample 1\n",
      "sbrus 1\n",
      "sogang 1\n",
      "spc 1\n"
     ]
    }
   ],
   "source": [
    "# 파일 정리 20291\n",
    "n = int(input())\n",
    "dic = {}\n",
    "\n",
    "for i in range(n):\n",
    "    s = input().split('.')\n",
    "    if s[1] in dic:\n",
    "        dic[s[1]] += 1\n",
    "    else:\n",
    "        dic[s[1]] = 1\n",
    "dic = sorted(dic.items(), key = lambda x : x[0])\n",
    "for i in dic:\n",
    "    print(i[0], i[1])"
   ]
  },
  {
   "cell_type": "code",
   "execution_count": 88,
   "metadata": {},
   "outputs": [
    {
     "name": "stdout",
     "output_type": "stream",
     "text": [
      "6\n",
      "3\n"
     ]
    }
   ],
   "source": [
    "# 디지털 루트 6378\n",
    "while True:\n",
    "    n = int(input())\n",
    "    if n == 0:\n",
    "        break\n",
    "    while True:\n",
    "        if n < 10:\n",
    "            break\n",
    "        n = n//10 + n%10\n",
    "    print(n)"
   ]
  },
  {
   "cell_type": "code",
   "execution_count": 93,
   "metadata": {},
   "outputs": [
    {
     "name": "stdout",
     "output_type": "stream",
     "text": [
      "It is a prime word.\n"
     ]
    }
   ],
   "source": [
    "# 소수 단어 2153\n",
    "s = input()\n",
    "tot = 0\n",
    "ans = True\n",
    "for i in s:\n",
    "    if i.islower():\n",
    "        tot += ord(i) - 96\n",
    "    else:\n",
    "        tot += ord(i) - 38\n",
    "\n",
    "for i in range(2, int(tot**.5) + 1):\n",
    "    if tot // i == tot / i:\n",
    "        print('It is not a prime word.')\n",
    "        ans = False\n",
    "        break\n",
    "if ans == True:\n",
    "    print('It is a prime word.')"
   ]
  },
  {
   "cell_type": "code",
   "execution_count": 95,
   "metadata": {},
   "outputs": [
    {
     "name": "stdout",
     "output_type": "stream",
     "text": [
      "String #1\n",
      "IBM\n",
      "\n",
      "String #2\n",
      "TXFSD\n",
      "\n"
     ]
    }
   ],
   "source": [
    "# IBM 빼기 1 6321\n",
    "for i in range(int(input())):\n",
    "    s = input()\n",
    "    ss = ''\n",
    "    for j in s:\n",
    "        if j != 'Z':\n",
    "            ss += chr(ord(j) + 1)\n",
    "        else:\n",
    "            ss += 'A'\n",
    "    print(f'String #{i + 1}')\n",
    "    print(ss, end = '\\n\\n')"
   ]
  },
  {
   "cell_type": "code",
   "execution_count": 101,
   "metadata": {},
   "outputs": [
    {
     "name": "stdout",
     "output_type": "stream",
     "text": [
      "19\n"
     ]
    }
   ],
   "source": [
    "# 카드 합체 놀이 15903\n",
    "import heapq\n",
    "n, m = map(int, input().split())\n",
    "l = list(map(int, input().split()))\n",
    "heap = []\n",
    "for i in l:\n",
    "    heapq.heappush(heap, i)\n",
    "for i in range(m):\n",
    "    a = heapq.heappop(heap)\n",
    "    b = heapq.heappop(heap)\n",
    "    heapq.heappush(heap, a + b)\n",
    "    heapq.heappush(heap, a + b)\n",
    "print(sum(heap))"
   ]
  },
  {
   "cell_type": "code",
   "execution_count": 104,
   "metadata": {},
   "outputs": [
    {
     "name": "stdout",
     "output_type": "stream",
     "text": [
      "1\n",
      "4\n",
      "0\n"
     ]
    }
   ],
   "source": [
    "# 통나무 건너뛰기 11497\n",
    "t = int(input())\n",
    "for i in range(t):\n",
    "    n = int(input())\n",
    "    l = list(map(int, input().split()))\n",
    "    l.sort()\n",
    "    ll = []\n",
    "    lll = []\n",
    "    num = 0\n",
    "\n",
    "    for j in range(n):\n",
    "        if j % 2 == 0:\n",
    "            ll.append(l[j])\n",
    "        else:\n",
    "            lll.append(l[j])\n",
    "\n",
    "    l = ll + lll[::-1]\n",
    "\n",
    "    for j in range(n):\n",
    "        if j != n-1:\n",
    "            num = max(num, abs(l[j] - l[j + 1]))\n",
    "        else:\n",
    "            num = max(num, l[-1] - l[0])\n",
    "    print(num)"
   ]
  },
  {
   "cell_type": "code",
   "execution_count": 106,
   "metadata": {},
   "outputs": [
    {
     "name": "stdout",
     "output_type": "stream",
     "text": [
      "89 8 3\n",
      "144 55 1\n",
      "10946 987 377 34 1\n",
      "987 13 3\n"
     ]
    }
   ],
   "source": [
    "# 피보나치 9009\n",
    "fib = [0, 1]\n",
    "while fib[-1] <= 1000000000:\n",
    "    fib.append(fib[-1] + fib[-2])\n",
    "fib = fib[1:]\n",
    "t = int(input())\n",
    "for i in range(t):\n",
    "    n = int(input())\n",
    "    l = []\n",
    "    for i in fib[::-1]:\n",
    "        if i <= n:\n",
    "            l.append(i)\n",
    "            n -= i\n",
    "    print(*l[::-1])"
   ]
  },
  {
   "cell_type": "code",
   "execution_count": 113,
   "metadata": {},
   "outputs": [
    {
     "name": "stdout",
     "output_type": "stream",
     "text": [
      "5\n"
     ]
    }
   ],
   "source": [
    "# 안테나 18310\n",
    "n = int(input())\n",
    "l = list(map(int, input().split()))\n",
    "l.sort()\n",
    "if n % 2 == 0:\n",
    "    print(l[n//2 - 1])\n",
    "else:\n",
    "    print(l[n//2])"
   ]
  },
  {
   "cell_type": "code",
   "execution_count": 140,
   "metadata": {},
   "outputs": [
    {
     "name": "stdout",
     "output_type": "stream",
     "text": [
      "0\n",
      "10\n",
      "5\n"
     ]
    }
   ],
   "source": [
    "# 주식 11501\n",
    "t = int(input())\n",
    "for i in range(t):\n",
    "    n = int(input())\n",
    "    l = list(map(int, input().split()))\n",
    "    tot = 0\n",
    "    l = l[::-1]\n",
    "    maxnum = l[0]\n",
    "    for j in l:\n",
    "        if j < maxnum:\n",
    "            tot += maxnum - j\n",
    "        else:\n",
    "            maxnum = j\n",
    "    print(tot)"
   ]
  }
 ],
 "metadata": {
  "kernelspec": {
   "display_name": "base",
   "language": "python",
   "name": "python3"
  },
  "language_info": {
   "codemirror_mode": {
    "name": "ipython",
    "version": 3
   },
   "file_extension": ".py",
   "mimetype": "text/x-python",
   "name": "python",
   "nbconvert_exporter": "python",
   "pygments_lexer": "ipython3",
   "version": "3.9.12"
  },
  "orig_nbformat": 4,
  "vscode": {
   "interpreter": {
    "hash": "7f368c48a586e931bd654761381ef86d5d2c1d8e94773dbceeccd45cd5f51e02"
   }
  }
 },
 "nbformat": 4,
 "nbformat_minor": 2
}

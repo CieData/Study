{
 "cells": [
  {
   "cell_type": "code",
   "execution_count": 84,
   "metadata": {},
   "outputs": [
    {
     "name": "stdout",
     "output_type": "stream",
     "text": [
      "13.341664064126334\n"
     ]
    }
   ],
   "source": [
    "# 벡터 매칭 1007\n",
    "import math\n",
    "from itertools import combinations\n",
    "t = int(input())\n",
    "for i in range(t):\n",
    "    n = int(input())\n",
    "    min_value = 100000000000\n",
    "    x = 0\n",
    "    y = 0\n",
    "    l = []\n",
    "    for j in range(n):\n",
    "        a, b = map(int, input().split())\n",
    "        x += a\n",
    "        y += b\n",
    "        l.append([a, b])\n",
    "\n",
    "\n",
    "    comb_list = list(combinations(l, n//2))\n",
    "    comb_len = len(comb_list)//2\n",
    "    for j in comb_list[:comb_len]:\n",
    "        x1 = x + 0\n",
    "        y1 = y + 0\n",
    "        for k in j:\n",
    "            x1 -= k[0]\n",
    "            y1 -= k[1]\n",
    "        min_value = min(min_value, ((2 * x1 -x) ** 2 + (2 * y1 - y) ** 2) ** .5)\n",
    "\n",
    "    print(min_value)"
   ]
  },
  {
   "cell_type": "code",
   "execution_count": 89,
   "metadata": {},
   "outputs": [
    {
     "name": "stdout",
     "output_type": "stream",
     "text": [
      "5\n"
     ]
    }
   ],
   "source": [
    "# 선 긋기 2170\n",
    "n = int(input())\n",
    "l = [list(map(int, input().split())) for i in range(n)]\n",
    "l.sort()\n",
    "end = l[0][1]\n",
    "start = l[0][0]\n",
    "tot = 0\n",
    "for i in range(1, n):\n",
    "    if l[i][0] > end:\n",
    "        tot += end - start\n",
    "        start = l[i][0]\n",
    "        end = l[i][1]\n",
    "    else:\n",
    "        end = max(end, l[i][1])\n",
    "tot += end - start\n",
    "print(tot)"
   ]
  }
 ],
 "metadata": {
  "kernelspec": {
   "display_name": "base",
   "language": "python",
   "name": "python3"
  },
  "language_info": {
   "codemirror_mode": {
    "name": "ipython",
    "version": 3
   },
   "file_extension": ".py",
   "mimetype": "text/x-python",
   "name": "python",
   "nbconvert_exporter": "python",
   "pygments_lexer": "ipython3",
   "version": "3.9.12"
  },
  "orig_nbformat": 4,
  "vscode": {
   "interpreter": {
    "hash": "7f368c48a586e931bd654761381ef86d5d2c1d8e94773dbceeccd45cd5f51e02"
   }
  }
 },
 "nbformat": 4,
 "nbformat_minor": 2
}

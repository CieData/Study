{
 "cells": [
  {
   "cell_type": "code",
   "execution_count": 5,
   "metadata": {},
   "outputs": [
    {
     "name": "stdout",
     "output_type": "stream",
     "text": [
      "BAPC\n"
     ]
    }
   ],
   "source": [
    "# 키로거 5397\n",
    "t = int(input())\n",
    "for i in range(t):\n",
    "    stack1 = []\n",
    "    stack2 = []\n",
    "    s = input()\n",
    "    for j in s:\n",
    "        if j == '<':\n",
    "            if stack1 != []:\n",
    "                stack2.append(stack1.pop())\n",
    "        elif j == '>':\n",
    "            if stack2 != []:\n",
    "                stack1.append(stack2.pop())\n",
    "        elif j == '-':\n",
    "            if stack1 != []:\n",
    "                stack1.pop()\n",
    "        else:\n",
    "            stack1.append(j)\n",
    "    print(''.join(stack1 + stack2[::-1]))\n"
   ]
  },
  {
   "cell_type": "code",
   "execution_count": 27,
   "metadata": {},
   "outputs": [
    {
     "name": "stdout",
     "output_type": "stream",
     "text": [
      "1\n"
     ]
    }
   ],
   "source": [
    "# 카드 11652\n",
    "card = {}\n",
    "for i in range(int(input())):\n",
    "    num = int(input())\n",
    "    if num in card:\n",
    "        card[num] += 1\n",
    "    else:\n",
    "        card[num] = 1\n",
    "card = sorted(card.items(), key = lambda x : (-x[1], x[0]))\n",
    "print(card[0][0])"
   ]
  },
  {
   "cell_type": "code",
   "execution_count": 44,
   "metadata": {},
   "outputs": [
    {
     "name": "stdout",
     "output_type": "stream",
     "text": [
      "3.00\n"
     ]
    }
   ],
   "source": [
    "# 후위 표기식 2 1935\n",
    "n = int(input())\n",
    "s = input()\n",
    "number = [int(input()) for i in range(n)]\n",
    "stack = []\n",
    "for i in s:\n",
    "    if i in '*+-/':\n",
    "        a = stack.pop()\n",
    "        b = stack.pop()\n",
    "        if i == '*':\n",
    "            stack.append(a * b)\n",
    "        elif i == '+':\n",
    "            stack.append(a + b)\n",
    "        elif i == '-':\n",
    "            stack.append(b - a)\n",
    "        else:\n",
    "            stack.append(b / a)\n",
    "    else:\n",
    "        stack.append(number[ord(i) - 65])\n",
    "print(f'{stack[0]:.2f}')"
   ]
  },
  {
   "cell_type": "code",
   "execution_count": 76,
   "metadata": {},
   "outputs": [
    {
     "name": "stdout",
     "output_type": "stream",
     "text": [
      "Askar\n",
      "Artem\n"
     ]
    }
   ],
   "source": [
    "# 회사에 있는 사람 7785\n",
    "n = int(input())\n",
    "a = {}\n",
    "for i in range(n):\n",
    "    human, situ = input().split()\n",
    "    if situ == 'enter':\n",
    "        a[human] = 1\n",
    "    else:\n",
    "        a[human] = 0\n",
    "a = dict(sorted(a.items(), key = lambda x : (x[1], x[0])))\n",
    "for i in list(a.keys())[::-1]:\n",
    "    if a[i] == 0:\n",
    "        break\n",
    "    else:\n",
    "        print(i)"
   ]
  },
  {
   "cell_type": "code",
   "execution_count": 78,
   "metadata": {},
   "outputs": [
    {
     "name": "stdout",
     "output_type": "stream",
     "text": [
      "4 2 5 3 1\n"
     ]
    }
   ],
   "source": [
    "# 줄 세우기 2605\n",
    "n = int(input())\n",
    "l = list(map(int, input().split()))\n",
    "ll = []\n",
    "for i in range(n):\n",
    "    ll.insert(l[i], i + 1)\n",
    "print(*ll[::-1])"
   ]
  },
  {
   "cell_type": "code",
   "execution_count": null,
   "metadata": {},
   "outputs": [],
   "source": [
    "# FBI 2857\n",
    "l = []\n",
    "for i in range(5):\n",
    "    s = input()\n",
    "    if 'FBI' in s:\n",
    "        l.append(i + 1)\n",
    "if l == []:\n",
    "    print('HE GOT AWAY!')\n",
    "else:\n",
    "    print(*l)"
   ]
  },
  {
   "cell_type": "code",
   "execution_count": null,
   "metadata": {},
   "outputs": [],
   "source": [
    "# 첼시를 도와줘 11098\n",
    "n = int(input())\n",
    "for i in range(n):\n",
    "    p = int(input())\n",
    "    max_price = 0\n",
    "    name = ''\n",
    "    for j in range(p):\n",
    "        price, human = input().split()\n",
    "        if int(price) > max_price:\n",
    "            max_price = int(price)\n",
    "            name = human\n",
    "    print(name)"
   ]
  },
  {
   "cell_type": "code",
   "execution_count": 1,
   "metadata": {},
   "outputs": [],
   "source": [
    "# 럭키 스트레이트 18406\n",
    "s = input()\n",
    "s1 = s[:len(s)//2]\n",
    "s2 = s[len(s)//2:]\n",
    "a = 0\n",
    "b = 0\n",
    "for i in range(len(s1)):\n",
    "    a += int(s1[i])\n",
    "    b += int(s2[i])\n",
    "if a == b:\n",
    "    print('LUCKY')\n",
    "else:\n",
    "    print('READY')"
   ]
  },
  {
   "cell_type": "code",
   "execution_count": 5,
   "metadata": {},
   "outputs": [
    {
     "name": "stdout",
     "output_type": "stream",
     "text": [
      "Distances: 0 1 2 3\n"
     ]
    }
   ],
   "source": [
    "# 알파벳 거리 5218\n",
    "for i in range(int(input())):\n",
    "    a, b = input().split()\n",
    "    l = []\n",
    "    for j in range(len(a)):\n",
    "        x = ord(a[j])\n",
    "        y = ord(b[j])\n",
    "        if y >= x:\n",
    "            l.append(y-x)\n",
    "        else:\n",
    "            l.append(y + 26 -x)\n",
    "    print('Distances:',*l)"
   ]
  },
  {
   "cell_type": "code",
   "execution_count": 13,
   "metadata": {},
   "outputs": [
    {
     "name": "stdout",
     "output_type": "stream",
     "text": [
      "e\n"
     ]
    }
   ],
   "source": [
    "# 가장 많은 글자 1371\n",
    "l = [0] * 26\n",
    "while True:\n",
    "    try:\n",
    "        s = input().replace(' ', '')\n",
    "        for i in s:\n",
    "            l[ord(i)-97] += 1\n",
    "    except:\n",
    "        break\n",
    "ss = ''\n",
    "for i in range(26):\n",
    "    if l[i] == max(l):\n",
    "        ss += chr(i + 97)\n",
    "print(ss)"
   ]
  },
  {
   "cell_type": "code",
   "execution_count": 19,
   "metadata": {},
   "outputs": [
    {
     "name": "stdout",
     "output_type": "stream",
     "text": [
      "1\n",
      "3\n"
     ]
    }
   ],
   "source": [
    "# JOI와 IOI 5586\n",
    "s = input()\n",
    "joi = 0\n",
    "ioi = 0\n",
    "for i in range(len(s)-2):\n",
    "    joi += s[i:i+3].count('JOI')\n",
    "    ioi += s[i:i+3].count('IOI')\n",
    "print(joi)\n",
    "print(ioi)"
   ]
  },
  {
   "cell_type": "code",
   "execution_count": 23,
   "metadata": {},
   "outputs": [
    {
     "name": "stdout",
     "output_type": "stream",
     "text": [
      "1\n",
      "3\n",
      "4\n"
     ]
    }
   ],
   "source": [
    "# 연속구간 2495\n",
    "for i in range(3):\n",
    "    maxcnt = 0\n",
    "    cnt = 1\n",
    "    s = input()\n",
    "    for j in range(1, 8):\n",
    "        if s[j] == s[j - 1]:\n",
    "            cnt += 1\n",
    "        else:\n",
    "            maxcnt = max(maxcnt, cnt)\n",
    "            cnt = 1\n",
    "    maxcnt = max(maxcnt, cnt)\n",
    "    print(maxcnt)"
   ]
  },
  {
   "cell_type": "code",
   "execution_count": 24,
   "metadata": {},
   "outputs": [
    {
     "name": "stdout",
     "output_type": "stream",
     "text": [
      "1\n"
     ]
    }
   ],
   "source": [
    "# 부분 문자열 16916\n",
    "s = input()\n",
    "p = input()\n",
    "if p in s:\n",
    "    print(1)\n",
    "else:\n",
    "    print(0)"
   ]
  },
  {
   "cell_type": "code",
   "execution_count": 51,
   "metadata": {},
   "outputs": [
    {
     "name": "stdout",
     "output_type": "stream",
     "text": [
      "Ash 36.3636\n",
      "Aspen 9.0909\n",
      "Basswood 9.0909\n",
      "Beech 9.0909\n",
      "Cherry 9.0909\n",
      "Cottonwood 9.0909\n",
      "Red Alder 9.0909\n",
      "Yellow Birch 9.0909\n"
     ]
    }
   ],
   "source": [
    "# 생태학 4358 (try,except는 시간이 오래걸린다)\n",
    "tree = {}\n",
    "cnt = 0\n",
    "while True:\n",
    "    s = input().strip()\n",
    "    if not s:\n",
    "        break\n",
    "    if s in tree:\n",
    "        tree[s] += 1\n",
    "    else:\n",
    "        tree[s] = 1\n",
    "    cnt += 1\n",
    "l = list(tree)\n",
    "l.sort()\n",
    "for i in l:\n",
    "    print('%s %.4f' %(i, tree[i]/cnt*100))"
   ]
  },
  {
   "cell_type": "code",
   "execution_count": 67,
   "metadata": {},
   "outputs": [
    {
     "data": {
      "text/plain": [
       "1014"
      ]
     },
     "execution_count": 67,
     "metadata": {},
     "output_type": "execute_result"
    }
   ],
   "source": [
    "# 8진수, 10진수, 16진수 11816\n",
    "s = input()\n",
    "if len(s) > 1:\n",
    "    if s[:2] == '0x':\n",
    "        print(int(s,16))\n",
    "    elif s[0] == '0':\n",
    "        print(int(s,8))\n",
    "    else:\n",
    "        print(int(s))"
   ]
  },
  {
   "cell_type": "code",
   "execution_count": 69,
   "metadata": {},
   "outputs": [
    {
     "name": "stdout",
     "output_type": "stream",
     "text": [
      "267\n",
      "1950\n"
     ]
    }
   ],
   "source": [
    "# 등장하지 않는 문자의 합 3059\n",
    "t = int(input())\n",
    "sum_alpha = 0\n",
    "for i in range(65, 65 + 26):\n",
    "    sum_alpha += i\n",
    "for i in range(t):\n",
    "    s = set(list(input()))\n",
    "    ans = 0\n",
    "    for i in s:\n",
    "        ans += ord(i)\n",
    "    print(sum_alpha - ans)"
   ]
  },
  {
   "cell_type": "code",
   "execution_count": 72,
   "metadata": {},
   "outputs": [
    {
     "name": "stdout",
     "output_type": "stream",
     "text": [
      "3:4\n"
     ]
    }
   ],
   "source": [
    "# 백대열 14490\n",
    "import math\n",
    "a, b = map(int, input().split(':'))\n",
    "gcd = math.gcd(a, b)\n",
    "print(f'{a // gcd}:{b // gcd}')"
   ]
  },
  {
   "cell_type": "code",
   "execution_count": 76,
   "metadata": {},
   "outputs": [
    {
     "name": "stdout",
     "output_type": "stream",
     "text": [
      "38\n"
     ]
    }
   ],
   "source": [
    "#팰린드롬 만들기 1254\n",
    "s = input()\n",
    "for i in range(len(s)):\n",
    "    ss = s[i:]\n",
    "    if ss == ss[::-1]:\n",
    "        break\n",
    "print(len(s) + i)"
   ]
  },
  {
   "cell_type": "code",
   "execution_count": 78,
   "metadata": {},
   "outputs": [
    {
     "name": "stdout",
     "output_type": "stream",
     "text": [
      "YES\n",
      "NO\n",
      "YES\n",
      "NO\n"
     ]
    }
   ],
   "source": [
    "# 수 뒤집기 3062\n",
    "for i in range(int(input())):\n",
    "    num = int(input())\n",
    "    num1 = int(str(num)[::-1])\n",
    "    num2 = str(num + num1)\n",
    "    if num2 == num2[::-1]:\n",
    "        print('YES')\n",
    "    else:\n",
    "        print('NO')"
   ]
  },
  {
   "cell_type": "code",
   "execution_count": 83,
   "metadata": {},
   "outputs": [
    {
     "name": "stdout",
     "output_type": "stream",
     "text": [
      "bometil\n"
     ]
    }
   ],
   "source": [
    "# 단어 나누기 1251\n",
    "s = input()\n",
    "l = []\n",
    "for i in range(1, len(s) - 1):\n",
    "    for j in range(i + 1, len(s)):\n",
    "        s1 = s[:i]\n",
    "        s2 = s[i:j]\n",
    "        s3 = s[j:]\n",
    "        ss = s1[::-1] + s2[::-1] + s3[::-1]\n",
    "        l.append(ss)\n",
    "l.sort()\n",
    "print(l[0])"
   ]
  }
 ],
 "metadata": {
  "kernelspec": {
   "display_name": "base",
   "language": "python",
   "name": "python3"
  },
  "language_info": {
   "codemirror_mode": {
    "name": "ipython",
    "version": 3
   },
   "file_extension": ".py",
   "mimetype": "text/x-python",
   "name": "python",
   "nbconvert_exporter": "python",
   "pygments_lexer": "ipython3",
   "version": "3.9.12"
  },
  "orig_nbformat": 4,
  "vscode": {
   "interpreter": {
    "hash": "7f368c48a586e931bd654761381ef86d5d2c1d8e94773dbceeccd45cd5f51e02"
   }
  }
 },
 "nbformat": 4,
 "nbformat_minor": 2
}

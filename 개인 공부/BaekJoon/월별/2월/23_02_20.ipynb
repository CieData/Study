{
 "cells": [
  {
   "cell_type": "code",
   "execution_count": 5,
   "metadata": {},
   "outputs": [
    {
     "name": "stdout",
     "output_type": "stream",
     "text": [
      "BAPC\n"
     ]
    }
   ],
   "source": [
    "# 키로거 5397\n",
    "t = int(input())\n",
    "for i in range(t):\n",
    "    stack1 = []\n",
    "    stack2 = []\n",
    "    s = input()\n",
    "    for j in s:\n",
    "        if j == '<':\n",
    "            if stack1 != []:\n",
    "                stack2.append(stack1.pop())\n",
    "        elif j == '>':\n",
    "            if stack2 != []:\n",
    "                stack1.append(stack2.pop())\n",
    "        elif j == '-':\n",
    "            if stack1 != []:\n",
    "                stack1.pop()\n",
    "        else:\n",
    "            stack1.append(j)\n",
    "    print(''.join(stack1 + stack2[::-1]))\n"
   ]
  },
  {
   "cell_type": "code",
   "execution_count": 27,
   "metadata": {},
   "outputs": [
    {
     "name": "stdout",
     "output_type": "stream",
     "text": [
      "1\n"
     ]
    }
   ],
   "source": [
    "# 카드 11652\n",
    "card = {}\n",
    "for i in range(int(input())):\n",
    "    num = int(input())\n",
    "    if num in card:\n",
    "        card[num] += 1\n",
    "    else:\n",
    "        card[num] = 1\n",
    "card = sorted(card.items(), key = lambda x : (-x[1], x[0]))\n",
    "print(card[0][0])"
   ]
  },
  {
   "cell_type": "code",
   "execution_count": 44,
   "metadata": {},
   "outputs": [
    {
     "name": "stdout",
     "output_type": "stream",
     "text": [
      "3.00\n"
     ]
    }
   ],
   "source": [
    "# 후위 표기식 2 1935\n",
    "n = int(input())\n",
    "s = input()\n",
    "number = [int(input()) for i in range(n)]\n",
    "stack = []\n",
    "for i in s:\n",
    "    if i in '*+-/':\n",
    "        a = stack.pop()\n",
    "        b = stack.pop()\n",
    "        if i == '*':\n",
    "            stack.append(a * b)\n",
    "        elif i == '+':\n",
    "            stack.append(a + b)\n",
    "        elif i == '-':\n",
    "            stack.append(b - a)\n",
    "        else:\n",
    "            stack.append(b / a)\n",
    "    else:\n",
    "        stack.append(number[ord(i) - 65])\n",
    "print(f'{stack[0]:.2f}')"
   ]
  },
  {
   "cell_type": "code",
   "execution_count": 76,
   "metadata": {},
   "outputs": [
    {
     "name": "stdout",
     "output_type": "stream",
     "text": [
      "Askar\n",
      "Artem\n"
     ]
    }
   ],
   "source": [
    "# 회사에 있는 사람 7785\n",
    "n = int(input())\n",
    "a = {}\n",
    "for i in range(n):\n",
    "    human, situ = input().split()\n",
    "    if situ == 'enter':\n",
    "        a[human] = 1\n",
    "    else:\n",
    "        a[human] = 0\n",
    "a = dict(sorted(a.items(), key = lambda x : (x[1], x[0])))\n",
    "for i in list(a.keys())[::-1]:\n",
    "    if a[i] == 0:\n",
    "        break\n",
    "    else:\n",
    "        print(i)"
   ]
  },
  {
   "cell_type": "code",
   "execution_count": 78,
   "metadata": {},
   "outputs": [
    {
     "name": "stdout",
     "output_type": "stream",
     "text": [
      "4 2 5 3 1\n"
     ]
    }
   ],
   "source": [
    "# 줄 세우기 2605\n",
    "n = int(input())\n",
    "l = list(map(int, input().split()))\n",
    "ll = []\n",
    "for i in range(n):\n",
    "    ll.insert(l[i], i + 1)\n",
    "print(*ll[::-1])"
   ]
  }
 ],
 "metadata": {
  "kernelspec": {
   "display_name": "base",
   "language": "python",
   "name": "python3"
  },
  "language_info": {
   "codemirror_mode": {
    "name": "ipython",
    "version": 3
   },
   "file_extension": ".py",
   "mimetype": "text/x-python",
   "name": "python",
   "nbconvert_exporter": "python",
   "pygments_lexer": "ipython3",
   "version": "3.9.12"
  },
  "orig_nbformat": 4,
  "vscode": {
   "interpreter": {
    "hash": "7f368c48a586e931bd654761381ef86d5d2c1d8e94773dbceeccd45cd5f51e02"
   }
  }
 },
 "nbformat": 4,
 "nbformat_minor": 2
}

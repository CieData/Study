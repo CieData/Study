{
 "cells": [
  {
   "cell_type": "code",
   "execution_count": 4,
   "metadata": {},
   "outputs": [
    {
     "name": "stdout",
     "output_type": "stream",
     "text": [
      "4\n"
     ]
    }
   ],
   "source": [
    "#LCS 9251\n",
    "s1=input()\n",
    "s2=input()\n",
    "s1len=len(s1)\n",
    "s2len=len(s2)\n",
    "dp=[0]*(s2len)\n",
    "for i in range(s1len):\n",
    "    cnt=0\n",
    "    for j in range(s2len):\n",
    "        if cnt<dp[j]:\n",
    "            cnt=dp[j]\n",
    "        elif s1[i]==s2[j]:\n",
    "            dp[j]=cnt+1\n",
    "print(max(dp))"
   ]
  },
  {
   "cell_type": "code",
   "execution_count": 57,
   "metadata": {},
   "outputs": [
    {
     "name": "stdout",
     "output_type": "stream",
     "text": [
      "[2,1]\n",
      "error\n",
      "[1,2,3,5,8]\n",
      "error\n"
     ]
    }
   ],
   "source": [
    "#AC 5430\n",
    "from collections import deque\n",
    "for i in range(int(input())):\n",
    "    p=input()\n",
    "    n=int(input())\n",
    "    l=input()[1:-1].split(',')\n",
    "    que=deque(l)\n",
    "    cnt=0\n",
    "    if p.count('D')>n:\n",
    "        print('error')\n",
    "    else:\n",
    "        for j in p:\n",
    "            if j=='R':\n",
    "                cnt+=1\n",
    "            elif j=='D':\n",
    "                if cnt%2==0:\n",
    "                    que.popleft()\n",
    "                else:\n",
    "                    que.pop()\n",
    "        if cnt%2==0:\n",
    "            print('['+','.join(que)+']')\n",
    "        else:\n",
    "            que.reverse()\n",
    "            print('['+','.join(que)+']')"
   ]
  },
  {
   "cell_type": "code",
   "execution_count": 59,
   "metadata": {},
   "outputs": [
    {
     "name": "stdout",
     "output_type": "stream",
     "text": [
      "80\n"
     ]
    }
   ],
   "source": [
    "#그릇 7567\n",
    "s=input()\n",
    "tot=10\n",
    "for i in range(1,len(s)):\n",
    "    if s[i]!=s[i-1]:\n",
    "        tot+=10\n",
    "    else:\n",
    "        tot+=5\n",
    "print(tot)"
   ]
  },
  {
   "cell_type": "code",
   "execution_count": 64,
   "metadata": {},
   "outputs": [
    {
     "name": "stdout",
     "output_type": "stream",
     "text": [
      "2\n"
     ]
    }
   ],
   "source": [
    "#뒤집힌 덧셈 1357\n",
    "def rev(n):\n",
    "    n=str(n)\n",
    "    n=n[::-1]\n",
    "    return int(n)\n",
    "x,y=map(int,input().split())\n",
    "print(rev(rev(x)+rev(y)))"
   ]
  },
  {
   "cell_type": "code",
   "execution_count": 82,
   "metadata": {},
   "outputs": [],
   "source": [
    "#베스트셀러 1302\n",
    "a={}\n",
    "for i in range(int(input())):\n",
    "    s=input()\n",
    "    l=list(a.keys())\n",
    "    if s in l:\n",
    "        a[s]+=1\n",
    "    else:\n",
    "        a[s]=1\n",
    "a=dict(sorted(a.items(),key=lambda x : (-x[1],x[0])))\n",
    "print(list(a.keys())[0])"
   ]
  },
  {
   "cell_type": "code",
   "execution_count": null,
   "metadata": {},
   "outputs": [],
   "source": [
    "#소음 2935\n",
    "a=int(input())\n",
    "s=input()\n",
    "b=int(input())\n",
    "if s=='+':\n",
    "    print(a+b)\n",
    "else:\n",
    "    print(a*b)"
   ]
  }
 ],
 "metadata": {
  "kernelspec": {
   "display_name": "base",
   "language": "python",
   "name": "python3"
  },
  "language_info": {
   "codemirror_mode": {
    "name": "ipython",
    "version": 3
   },
   "file_extension": ".py",
   "mimetype": "text/x-python",
   "name": "python",
   "nbconvert_exporter": "python",
   "pygments_lexer": "ipython3",
   "version": "3.9.12"
  },
  "orig_nbformat": 4,
  "vscode": {
   "interpreter": {
    "hash": "7f368c48a586e931bd654761381ef86d5d2c1d8e94773dbceeccd45cd5f51e02"
   }
  }
 },
 "nbformat": 4,
 "nbformat_minor": 2
}

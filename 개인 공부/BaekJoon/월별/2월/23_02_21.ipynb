{
 "cells": [
  {
   "cell_type": "code",
   "execution_count": 1,
   "metadata": {},
   "outputs": [
    {
     "name": "stdout",
     "output_type": "stream",
     "text": [
      "The world says hello!\n"
     ]
    }
   ],
   "source": [
    "#The World Responds 23234\n",
    "print('The world says hello!')"
   ]
  },
  {
   "cell_type": "code",
   "execution_count": 7,
   "metadata": {},
   "outputs": [
    {
     "name": "stdout",
     "output_type": "stream",
     "text": [
      "561741\n"
     ]
    }
   ],
   "source": [
    "# Multiply  22193\n",
    "n, m = map(int,input().split())\n",
    "a = int(input())\n",
    "b = int(input())\n",
    "print(a * b)"
   ]
  },
  {
   "cell_type": "code",
   "execution_count": 9,
   "metadata": {},
   "outputs": [
    {
     "name": "stdout",
     "output_type": "stream",
     "text": [
      "27\n"
     ]
    }
   ],
   "source": [
    "# 立方体 (Cube) 24082\n",
    "print(int(input()) ** 3)"
   ]
  },
  {
   "cell_type": "code",
   "execution_count": 11,
   "metadata": {},
   "outputs": [
    {
     "name": "stdout",
     "output_type": "stream",
     "text": [
      "5\n"
     ]
    }
   ],
   "source": [
    "# 余り (Remainder) 24078\n",
    "print(int(input()) % 21)"
   ]
  },
  {
   "cell_type": "code",
   "execution_count": 12,
   "metadata": {},
   "outputs": [
    {
     "name": "stdout",
     "output_type": "stream",
     "text": [
      "5\n"
     ]
    }
   ],
   "source": [
    "# 身長 (Height) 24086\n",
    "a = int(input())\n",
    "b = int(input())\n",
    "print(b - a)"
   ]
  },
  {
   "cell_type": "code",
   "execution_count": 14,
   "metadata": {},
   "outputs": [
    {
     "name": "stdout",
     "output_type": "stream",
     "text": [
      "3\n"
     ]
    }
   ],
   "source": [
    "# Cupcake Party 24568\n",
    "a = int(input())\n",
    "b = int(input())\n",
    "print((a * 8) + (b * 3) - 28)"
   ]
  },
  {
   "cell_type": "code",
   "execution_count": 16,
   "metadata": {},
   "outputs": [
    {
     "name": "stdout",
     "output_type": "stream",
     "text": [
      "SciComLove\n",
      "SciComLove\n",
      "SciComLove\n",
      "\n"
     ]
    }
   ],
   "source": [
    "# SciComLove  21598\n",
    "print('SciComLove\\n' * int(input()))"
   ]
  },
  {
   "cell_type": "code",
   "execution_count": 17,
   "metadata": {},
   "outputs": [
    {
     "name": "stdout",
     "output_type": "stream",
     "text": [
      "0\n",
      "5\n"
     ]
    }
   ],
   "source": [
    "# Can you add this? 7891\n",
    "for i in range(int(input())):\n",
    "    l = list(map(int, input().split()))\n",
    "    print(sum(l))"
   ]
  },
  {
   "cell_type": "code",
   "execution_count": 18,
   "metadata": {},
   "outputs": [
    {
     "name": "stdout",
     "output_type": "stream",
     "text": [
      "cba\n"
     ]
    }
   ],
   "source": [
    "# Zadanie próbne 8545\n",
    "print(input()[::-1])"
   ]
  },
  {
   "cell_type": "code",
   "execution_count": 19,
   "metadata": {},
   "outputs": [
    {
     "name": "stdout",
     "output_type": "stream",
     "text": [
      "Leading the Way to the Future\n"
     ]
    }
   ],
   "source": [
    "# 연세대학교 15680\n",
    "n = int(input())\n",
    "if n == 0:\n",
    "    print('YONSEI')\n",
    "else:\n",
    "    print('Leading the Way to the Future')"
   ]
  },
  {
   "cell_type": "code",
   "execution_count": 26,
   "metadata": {},
   "outputs": [
    {
     "name": "stdout",
     "output_type": "stream",
     "text": [
      "3\n"
     ]
    }
   ],
   "source": [
    "# 수학은 체육과목 입니다 2 17362\n",
    "n = int(input())\n",
    "if n % 8 == 1:\n",
    "    print(1)\n",
    "elif n % 8 == 5:\n",
    "    print(5)\n",
    "elif n % 4 == 3:\n",
    "    print(3)\n",
    "elif n % 8 == 2 or n % 8 == 0:\n",
    "    print(2)\n",
    "else:\n",
    "    print(4)"
   ]
  },
  {
   "cell_type": "code",
   "execution_count": null,
   "metadata": {},
   "outputs": [],
   "source": []
  }
 ],
 "metadata": {
  "kernelspec": {
   "display_name": "base",
   "language": "python",
   "name": "python3"
  },
  "language_info": {
   "codemirror_mode": {
    "name": "ipython",
    "version": 3
   },
   "file_extension": ".py",
   "mimetype": "text/x-python",
   "name": "python",
   "nbconvert_exporter": "python",
   "pygments_lexer": "ipython3",
   "version": "3.9.12"
  },
  "orig_nbformat": 4,
  "vscode": {
   "interpreter": {
    "hash": "7f368c48a586e931bd654761381ef86d5d2c1d8e94773dbceeccd45cd5f51e02"
   }
  }
 },
 "nbformat": 4,
 "nbformat_minor": 2
}

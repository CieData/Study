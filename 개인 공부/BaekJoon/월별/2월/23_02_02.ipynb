{
 "cells": [
  {
   "cell_type": "code",
   "execution_count": 7,
   "metadata": {},
   "outputs": [
    {
     "name": "stdout",
     "output_type": "stream",
     "text": [
      "15\n"
     ]
    }
   ],
   "source": [
    "#거스름돈 5585\n",
    "n=1000-int(input())\n",
    "cnt=0\n",
    "l=[500,100,50,10,5,1]\n",
    "for i in l:\n",
    "    cnt+=n//i\n",
    "    n%=i\n",
    "print(cnt)"
   ]
  },
  {
   "cell_type": "code",
   "execution_count": 8,
   "metadata": {},
   "outputs": [
    {
     "name": "stdout",
     "output_type": "stream",
     "text": [
      "20\n"
     ]
    }
   ],
   "source": [
    "#로프 2217\n",
    "n=int(input())\n",
    "l=[int(input()) for i in range(n)]\n",
    "l.sort()\n",
    "ll=[(n-i)*l[i] for i in range(n)]\n",
    "print(max(ll))"
   ]
  },
  {
   "cell_type": "code",
   "execution_count": 37,
   "metadata": {},
   "outputs": [],
   "source": [
    "#수들의 합 1789\n",
    "def s(n):\n",
    "    return n*(n+1)//2\n",
    "n=int(input())\n",
    "l=[s(i) for i in range(1,100000) if s(i)<=n]\n",
    "print(len(l))"
   ]
  },
  {
   "cell_type": "code",
   "execution_count": 43,
   "metadata": {},
   "outputs": [
    {
     "name": "stdout",
     "output_type": "stream",
     "text": [
      "10\n"
     ]
    }
   ],
   "source": [
    "#주유소 13305\n",
    "n=int(input())\n",
    "m=list(map(int,input().split()))\n",
    "oil_l=list(map(int,input().split()))[:-1]\n",
    "oil=oil_l[0]\n",
    "tot=0\n",
    "for i in range(n-1):\n",
    "    oil=min(oil,oil_l[i])\n",
    "    tot+=oil*m[i]\n",
    "print(tot)"
   ]
  },
  {
   "cell_type": "code",
   "execution_count": 50,
   "metadata": {},
   "outputs": [
    {
     "name": "stdout",
     "output_type": "stream",
     "text": [
      "4\n",
      "3\n"
     ]
    }
   ],
   "source": [
    "#신입 사원 1946\n",
    "t=int(input())\n",
    "for i in range(t):\n",
    "    n=int(input())\n",
    "    l=[0]*(n+1)\n",
    "    for j in range(n):\n",
    "        a,b=map(int,input().split())\n",
    "        l[a]=b\n",
    "    min_num=200000\n",
    "    cnt=0\n",
    "    for j in range(1,n+1):\n",
    "        if l[j]<min_num:\n",
    "            cnt+=1\n",
    "            min_num=l[j]\n",
    "    print(cnt)"
   ]
  },
  {
   "cell_type": "code",
   "execution_count": 18,
   "metadata": {},
   "outputs": [
    {
     "name": "stdout",
     "output_type": "stream",
     "text": [
      "0\n"
     ]
    }
   ],
   "source": [
    "fac=[1]\n",
    "n,r=map(int,input().split())\n",
    "for i in range(1,n+1):\n",
    "    fac.append(fac[-1]*i%1000000007)\n",
    "print((fac[n]//(fac[r]*fac[n-r]))%1000000007)"
   ]
  },
  {
   "cell_type": "code",
   "execution_count": 62,
   "metadata": {},
   "outputs": [
    {
     "name": "stdout",
     "output_type": "stream",
     "text": [
      "1\n"
     ]
    }
   ],
   "source": [
    "# 조합(Combination) 16134\n",
    "n,r = map(int, input().split())\n",
    "fac = [1]\n",
    "l = [0] * 1000001\n",
    "l[0] = 1\n",
    "p = 10 ** 9 + 7\n",
    "# 분할 정복 거듭제곱\n",
    "def po(x, y, p):\n",
    "    if y == 0:\n",
    "        return 1\n",
    "    # 홀수 제곱일때 하나 따로\n",
    "    if y % 2 == 1:\n",
    "        return po(x, y-1, p) * x % p\n",
    "    h=po(x, y/2, p) % p\n",
    "    return h * h % p\n",
    "\n",
    "for i in range(1, 1000001):\n",
    "    fac.append(fac[-1] * i % p)\n",
    "\n",
    "l[1000000] = po(fac[1000000], p-2, p)\n",
    "for i in range(1000000-1, 0, -1):\n",
    "    l[i] = l[i+1] * (i+1) % p\n",
    "\n",
    "a = fac[n]\n",
    "b = (l[n-r] * l[r]) % p\n",
    "print(a * b % p)"
   ]
  }
 ],
 "metadata": {
  "kernelspec": {
   "display_name": "base",
   "language": "python",
   "name": "python3"
  },
  "language_info": {
   "codemirror_mode": {
    "name": "ipython",
    "version": 3
   },
   "file_extension": ".py",
   "mimetype": "text/x-python",
   "name": "python",
   "nbconvert_exporter": "python",
   "pygments_lexer": "ipython3",
   "version": "3.9.12 (main, Apr  4 2022, 05:22:27) [MSC v.1916 64 bit (AMD64)]"
  },
  "orig_nbformat": 4,
  "vscode": {
   "interpreter": {
    "hash": "7f368c48a586e931bd654761381ef86d5d2c1d8e94773dbceeccd45cd5f51e02"
   }
  }
 },
 "nbformat": 4,
 "nbformat_minor": 2
}

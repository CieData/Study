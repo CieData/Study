{
 "cells": [
  {
   "cell_type": "code",
   "execution_count": null,
   "metadata": {},
   "outputs": [],
   "source": [
    "# 상근이의 여행 9372 (꼼수 버젼)\n",
    "t = int(input())\n",
    "for i in range(t):\n",
    "    n, m = map(int, input().split())\n",
    "    for j in range(m):\n",
    "        a, b = map(int, input().split())\n",
    "\n",
    "    print(n-1)"
   ]
  },
  {
   "cell_type": "code",
   "execution_count": 3,
   "metadata": {},
   "outputs": [
    {
     "name": "stdout",
     "output_type": "stream",
     "text": [
      "4\n"
     ]
    }
   ],
   "source": [
    "# 상근이의 여행 9372\n",
    "def dfs(graph, i, visited, cnt):\n",
    "    visited[i] = 1\n",
    "\n",
    "    for x in graph[i]:\n",
    "        if visited[x] == 0:\n",
    "            cnt = dfs(graph, x, visited, cnt + 1)\n",
    "\n",
    "    return cnt\n",
    "\n",
    "t = int(input())\n",
    "for i in range(t):\n",
    "    n, m = map(int, input().split())\n",
    "    graph = [[] for i in range(n+1)]\n",
    "\n",
    "    for j in range(m):\n",
    "        a, b = map(int, input().split())\n",
    "        graph[a].append(b)\n",
    "        graph[b].append(a)\n",
    "\n",
    "    visited = [0] * (n+1)\n",
    "\n",
    "    print(dfs(graph, 1, visited, 0))"
   ]
  },
  {
   "cell_type": "code",
   "execution_count": 8,
   "metadata": {},
   "outputs": [
    {
     "name": "stdout",
     "output_type": "stream",
     "text": [
      "13\n"
     ]
    }
   ],
   "source": [
    "# 바닥 장식 1388\n",
    "n, m = map(int, input().split())\n",
    "l = []\n",
    "cnt = 0\n",
    "\n",
    "for i in range(n):\n",
    "    l.append(list(input()))\n",
    "\n",
    "for i in l:\n",
    "    s = ''\n",
    "    for j in range(m):\n",
    "        if i[j] == '-':\n",
    "            s += '-'\n",
    "        else:\n",
    "            if s != '':\n",
    "                cnt += 1\n",
    "                s = ''\n",
    "    if s != '':\n",
    "        cnt += 1\n",
    "\n",
    "for i in range(m):\n",
    "    s = ''\n",
    "    for j in range(n):\n",
    "        if l[j][i] == '|':\n",
    "            s += '|'\n",
    "        else:\n",
    "            if s != '':\n",
    "                cnt += 1\n",
    "                s = ''\n",
    "    if s != '':\n",
    "        cnt += 1\n",
    "print(cnt)"
   ]
  },
  {
   "cell_type": "code",
   "execution_count": 22,
   "metadata": {},
   "outputs": [
    {
     "name": "stdout",
     "output_type": "stream",
     "text": [
      "Hing\n"
     ]
    }
   ],
   "source": [
    "# 점프왕 쩰리 (Small) 16173\n",
    "n = int(input())\n",
    "graph = [list(map(int, input().split())) for i in range(n)]\n",
    "\n",
    "visited=[[0]*n for i in range(n)]\n",
    "\n",
    "def dfs(graph, x, y):\n",
    "  if x<=-1 or x>=n or y<=-1 or y>=n:\n",
    "    return False\n",
    "  k=graph[x][y]\n",
    "  if visited[x][y]==0:\n",
    "    visited[x][y]=1\n",
    "    dfs(graph, x+k, y)\n",
    "    dfs(graph, x, y+k)\n",
    "    return True\n",
    "\n",
    "dfs(graph, 0, 0)\n",
    "if visited[n-1][n-1] == 0:\n",
    "    print('Hing')\n",
    "else:\n",
    "    print('HaruHaru')"
   ]
  },
  {
   "cell_type": "code",
   "execution_count": 35,
   "metadata": {},
   "outputs": [
    {
     "name": "stdout",
     "output_type": "stream",
     "text": [
      "0\n"
     ]
    }
   ],
   "source": [
    "#체스판 다시 칠하기 1018\n",
    "n, m = map(int, input().split())\n",
    "chess1 = 'WBWBWBWBBWBWBWBWWBWBWBWBBWBWBWBWWBWBWBWBBWBWBWBWWBWBWBWBBWBWBWBW'\n",
    "chess2 = 'BWBWBWBWWBWBWBWBBWBWBWBWWBWBWBWBBWBWBWBWWBWBWBWBBWBWBWBWWBWBWBWB'\n",
    "chess = [input() for i in range(n)]\n",
    "cnt = []\n",
    "\n",
    "for i in range(n-7):\n",
    "    for j in range(m-7):\n",
    "        cnt1 = 0\n",
    "        cnt2 = 0\n",
    "        s = ''\n",
    "        \n",
    "        for x in range(i, i+8):\n",
    "            s += chess[x][j:j+8]\n",
    "\n",
    "        for x in range(64):\n",
    "            if s[x] != chess1[x]:\n",
    "                cnt1 += 1\n",
    "            if s[x] != chess2[x]:\n",
    "                cnt2 += 1\n",
    "        cnt.append(cnt1)\n",
    "        cnt.append(cnt2)\n",
    "print(min(cnt))"
   ]
  },
  {
   "cell_type": "code",
   "execution_count": 64,
   "metadata": {},
   "outputs": [
    {
     "name": "stdout",
     "output_type": "stream",
     "text": [
      "ABDCEFG\n",
      "BDACEFG\n",
      "DBEGFCA"
     ]
    }
   ],
   "source": [
    "# 트리 순회 1991\n",
    "alpha = 'ABCDEFGHIJKLMNOPQRSTUVWXYZ'\n",
    "def front(graph, i):\n",
    "    print(graph[i][0], end = '')\n",
    "    \n",
    "    if graph[i][1] != '.':\n",
    "        front(graph, alpha.index(graph[i][1]))\n",
    "    if graph[i][2] != '.':\n",
    "        front(graph, alpha.index(graph[i][2]))\n",
    "\n",
    "def middle(graph, i):\n",
    "    if graph[i][1] != '.':\n",
    "        middle(graph, alpha.index(graph[i][1]))\n",
    "\n",
    "    print(graph[i][0], end = '')\n",
    "\n",
    "    if graph[i][2] != '.':\n",
    "        middle(graph, alpha.index(graph[i][2]))\n",
    "\n",
    "def back(graph, i):\n",
    "    if graph[i][1] != '.':\n",
    "        back(graph, alpha.index(graph[i][1]))\n",
    "    if graph[i][2] != '.':\n",
    "        back(graph, alpha.index(graph[i][2]))\n",
    "\n",
    "    print(graph[i][0], end = '')\n",
    "\n",
    "\n",
    "n = int(input())\n",
    "graph = [0] * (n)\n",
    "for i in range(n):\n",
    "    l = list(map(str, input().split()))\n",
    "    graph[alpha.index(l[0])] = l\n",
    "front(graph, 0)\n",
    "print()\n",
    "middle(graph, 0)\n",
    "print()\n",
    "back(graph, 0)"
   ]
  },
  {
   "cell_type": "code",
   "execution_count": 67,
   "metadata": {},
   "outputs": [
    {
     "name": "stdout",
     "output_type": "stream",
     "text": [
      "7\n"
     ]
    }
   ],
   "source": [
    "# The Game of Death 11558\n",
    "t = int(input())\n",
    "for i in range(t):\n",
    "    n = int(input())\n",
    "    cnt = 0\n",
    "    l = [0]*(n+1)\n",
    "    i = 1\n",
    "    for j in range(n):\n",
    "        l[j+1] = int(input())\n",
    "    while True:\n",
    "        i = l[i]\n",
    "        cnt += 1\n",
    "        if i == n or cnt > n:\n",
    "            break\n",
    "    if i == n:\n",
    "        print(cnt)\n",
    "    else:\n",
    "        print(0)"
   ]
  },
  {
   "cell_type": "code",
   "execution_count": null,
   "metadata": {},
   "outputs": [],
   "source": [
    "# 후위 표기식 1918\n",
    "def pre(op):\n",
    "    if op in '()':\n",
    "        return 0\n",
    "    elif op in '+-':\n",
    "        return 1\n",
    "    elif op in '*/':\n",
    "        return 2\n",
    "    else:\n",
    "        return -1\n",
    "    \n",
    "a=input()\n",
    "l=[]\n",
    "result=[]\n",
    "for i in a:\n",
    "    if i in '(':\n",
    "        l.append(i)\n",
    "    elif i in ')':\n",
    "        while True:\n",
    "            op=l.pop()\n",
    "            if op=='(':\n",
    "                break\n",
    "            else:\n",
    "                result.append(op)\n",
    "    elif i in '+-*/':\n",
    "        while l!=[]:\n",
    "            a=l[-1]\n",
    "            if pre(i)<=pre(a):\n",
    "                result.append(a)\n",
    "                l.pop()\n",
    "            else:\n",
    "                break\n",
    "        l.append(i)\n",
    "    else:\n",
    "        result.append(i)\n",
    "while l!=[]:\n",
    "    result.append(l.pop())\n",
    "print(''.join(result))"
   ]
  },
  {
   "cell_type": "code",
   "execution_count": 97,
   "metadata": {},
   "outputs": [
    {
     "name": "stdout",
     "output_type": "stream",
     "text": [
      "1\n",
      "1\n",
      "2\n",
      "3\n",
      "3\n",
      "4\n",
      "4\n",
      "5\n",
      "5\n",
      "6\n",
      "6\n"
     ]
    }
   ],
   "source": [
    "# 트리의 부모 찾기 11725\n",
    "n = int(input())\n",
    "visited = [0] * (n+1)\n",
    "graph = [[] for i in range(n+1)]\n",
    "for i in range(n-1):\n",
    "    a, b = map(int, input().split())\n",
    "    graph[a].append(b)\n",
    "    graph[b].append(a)\n",
    "\n",
    "parent = [[1,100001] for i in range(n+1)]\n",
    "parent[1][1] = 1\n",
    "def dfs(graph, i):\n",
    "    visited[i] = 1\n",
    "\n",
    "    for x in graph[i]:\n",
    "        if parent[i][1] < parent[x][1]:\n",
    "            parent[x][0] = i\n",
    "            parent[x][1] = parent[i][1] + 1\n",
    "        if visited[x] == 0:\n",
    "            dfs(graph, x)\n",
    "dfs(graph, 1)\n",
    "\n",
    "for i in parent[2:]:\n",
    "    print(i[0])"
   ]
  },
  {
   "cell_type": "code",
   "execution_count": 98,
   "metadata": {},
   "outputs": [],
   "source": [
    "# 내려가기 2096\n",
    "n = int(input())\n",
    "l = [list(map(int, input().split())) for i in range(n)]\n"
   ]
  },
  {
   "cell_type": "code",
   "execution_count": null,
   "metadata": {},
   "outputs": [],
   "source": []
  }
 ],
 "metadata": {
  "kernelspec": {
   "display_name": "base",
   "language": "python",
   "name": "python3"
  },
  "language_info": {
   "codemirror_mode": {
    "name": "ipython",
    "version": 3
   },
   "file_extension": ".py",
   "mimetype": "text/x-python",
   "name": "python",
   "nbconvert_exporter": "python",
   "pygments_lexer": "ipython3",
   "version": "3.9.12"
  },
  "orig_nbformat": 4,
  "vscode": {
   "interpreter": {
    "hash": "7f368c48a586e931bd654761381ef86d5d2c1d8e94773dbceeccd45cd5f51e02"
   }
  }
 },
 "nbformat": 4,
 "nbformat_minor": 2
}

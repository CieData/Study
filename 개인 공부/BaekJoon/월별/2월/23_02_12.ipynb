{
 "cells": [
  {
   "cell_type": "code",
   "execution_count": 28,
   "metadata": {},
   "outputs": [
    {
     "name": "stdout",
     "output_type": "stream",
     "text": [
      "1 1 1\n",
      "1 1 2\n",
      "1 1 3\n",
      "1 2 2\n",
      "1 2 3\n",
      "1 3 3\n",
      "2 2 2\n",
      "2 2 3\n",
      "2 3 3\n",
      "3 3 3\n"
     ]
    }
   ],
   "source": [
    "# N과 M (4) 15652\n",
    "n, m = map(int, input().split())\n",
    "l = []\n",
    "ll = [1] * m\n",
    "while True:\n",
    "    l.append(ll.copy())\n",
    "    ll[-1] += 1\n",
    "    if n+1 in ll:\n",
    "        while n+1 in ll:\n",
    "            idx = ll.index(n+1)\n",
    "            if idx == 0:\n",
    "                break\n",
    "            ll[idx - 1] += 1\n",
    "            ll[idx:] = [ll[idx - 1]] * len(ll[idx:])\n",
    "    if ll[0] == n+1:\n",
    "        break\n",
    "\n",
    "for i in l:\n",
    "    print(*i)"
   ]
  },
  {
   "cell_type": "code",
   "execution_count": 35,
   "metadata": {},
   "outputs": [
    {
     "name": "stdout",
     "output_type": "stream",
     "text": [
      "1 7\n",
      "1 8\n",
      "1 9\n",
      "7 1\n",
      "7 8\n",
      "7 9\n",
      "8 1\n",
      "8 7\n",
      "8 9\n",
      "9 1\n",
      "9 7\n",
      "9 8\n"
     ]
    }
   ],
   "source": [
    "# N과 M (5) 15654\n",
    "from itertools import permutations\n",
    "n, m = map(int, input().split())\n",
    "l = list(map(int, input().split()))\n",
    "l.sort()\n",
    "ll = list(permutations(l,m))\n",
    "for i in ll:\n",
    "    print(*i)"
   ]
  }
 ],
 "metadata": {
  "kernelspec": {
   "display_name": "base",
   "language": "python",
   "name": "python3"
  },
  "language_info": {
   "codemirror_mode": {
    "name": "ipython",
    "version": 3
   },
   "file_extension": ".py",
   "mimetype": "text/x-python",
   "name": "python",
   "nbconvert_exporter": "python",
   "pygments_lexer": "ipython3",
   "version": "3.9.12"
  },
  "orig_nbformat": 4,
  "vscode": {
   "interpreter": {
    "hash": "7f368c48a586e931bd654761381ef86d5d2c1d8e94773dbceeccd45cd5f51e02"
   }
  }
 },
 "nbformat": 4,
 "nbformat_minor": 2
}

{
 "cells": [
  {
   "cell_type": "code",
   "execution_count": 1,
   "metadata": {},
   "outputs": [
    {
     "name": "stdout",
     "output_type": "stream",
     "text": [
      "10\n"
     ]
    }
   ],
   "source": [
    "# 욱제는 효도쟁이야 14487\n",
    "n = int(input())\n",
    "l = list(map(int, input().split()))\n",
    "print(sum(l) - max(l))"
   ]
  },
  {
   "cell_type": "code",
   "execution_count": 9,
   "metadata": {},
   "outputs": [
    {
     "data": {
      "text/plain": [
       "0"
      ]
     },
     "execution_count": 9,
     "metadata": {},
     "output_type": "execute_result"
    }
   ],
   "source": [
    "# 피로도 22864\n",
    "a, b, c, m = map(int, input().split())\n",
    "piro = 0\n",
    "result = 0\n",
    "t = 0\n",
    "while t < 24:\n",
    "    if a > m:\n",
    "        break\n",
    "    if piro + a <= m:\n",
    "        piro += a\n",
    "        result += b\n",
    "        t += 1\n",
    "    else:\n",
    "        t += 1\n",
    "        piro -= c\n",
    "    if piro < 0:\n",
    "        piro = 0\n",
    "print(result)"
   ]
  },
  {
   "cell_type": "code",
   "execution_count": 28,
   "metadata": {},
   "outputs": [
    {
     "name": "stdout",
     "output_type": "stream",
     "text": [
      "100\n"
     ]
    }
   ],
   "source": [
    "# ZOAC 2 18238\n",
    "alpha = 'ABCDEFGHIJKLMNOPQRSTUVWXYZ'\n",
    "point = 0\n",
    "cnt = 0\n",
    "s = input()\n",
    "def cnt_alpha(s):\n",
    "    global alpha\n",
    "    global point\n",
    "    global cnt\n",
    "    plus = alpha.index(s)\n",
    "    minus = alpha.index(s) - 26\n",
    "\n",
    "    p_p = point\n",
    "    m_p = point - 26\n",
    "\n",
    "    min_cnt = min(abs(p_p-plus),abs(p_p-minus),\n",
    "                    abs(m_p-plus),abs(m_p-minus))\n",
    "    cnt += min_cnt\n",
    "    point = plus\n",
    "\n",
    "for i in s:\n",
    "    cnt_alpha(i)\n",
    "print(cnt)"
   ]
  },
  {
   "cell_type": "code",
   "execution_count": 30,
   "metadata": {},
   "outputs": [
    {
     "name": "stdout",
     "output_type": "stream",
     "text": [
      "1 2 1 2\n"
     ]
    }
   ],
   "source": [
    "# 문어 21313\n",
    "n = int(input())\n",
    "l = [1, 2]\n",
    "l = l * (n//2)\n",
    "if n % 2 == 1:\n",
    "    l.append(3)\n",
    "print(*l)"
   ]
  },
  {
   "cell_type": "code",
   "execution_count": 37,
   "metadata": {},
   "outputs": [
    {
     "name": "stdout",
     "output_type": "stream",
     "text": [
      "0\n"
     ]
    }
   ],
   "source": [
    "# 포인트 카드 14471\n",
    "n, m = map(int, input().split())\n",
    "cnt = 0\n",
    "l = []\n",
    "tot = 0\n",
    "for i in range(m):\n",
    "    a, b = map(int,input().split())\n",
    "    if a >= n:\n",
    "        cnt += 1\n",
    "    else:\n",
    "        l.append([a, b])\n",
    "l.sort(key = lambda x : -x[1])\n",
    "\n",
    "while cnt < m-1:\n",
    "    tot += l.pop()[1] - n\n",
    "    cnt += 1\n",
    "\n",
    "print(tot)"
   ]
  },
  {
   "cell_type": "code",
   "execution_count": 38,
   "metadata": {},
   "outputs": [],
   "source": [
    "# 한조서열정리하고옴ㅋㅋ 14659\n",
    "n = int(input())\n",
    "l = list(map(int, input().split()))\n",
    "max_kill = 0\n",
    "for i in range(n):\n",
    "    cnt = 0\n",
    "    for j in range(i+1, n):\n",
    "        if l[i] > l[j]:\n",
    "            cnt += 1\n",
    "        else:\n",
    "            break\n",
    "    max_kill = max(max_kill, cnt)\n",
    "    if max_kill > n-i-1:\n",
    "        break\n",
    "print(max_kill)"
   ]
  },
  {
   "cell_type": "code",
   "execution_count": 82,
   "metadata": {},
   "outputs": [
    {
     "name": "stdout",
     "output_type": "stream",
     "text": [
      "380\n"
     ]
    }
   ],
   "source": [
    "# APC는 왜 서브태스크 대회가 되었을까? 17224\n",
    "n, l, k = map(int, input().split())\n",
    "easy, hard = 0, 0\n",
    "\n",
    "for i in range(n):\n",
    "    a, b = map(int, input().split())\n",
    "    if b <= l:\n",
    "        hard += 1\n",
    "    elif a <= l:\n",
    "        easy += 1\n",
    "\n",
    "tot = min(hard, k) * 140\n",
    "if hard < k:\n",
    "    tot += min(k-hard, easy) * 100\n",
    "\n",
    "print(tot)"
   ]
  },
  {
   "cell_type": "code",
   "execution_count": 44,
   "metadata": {},
   "outputs": [
    {
     "name": "stdout",
     "output_type": "stream",
     "text": [
      "24\n"
     ]
    }
   ],
   "source": [
    "# 청정수열(Easy) 25176\n",
    "n = int(input())\n",
    "tot = 1\n",
    "for i in range(1, n+1):\n",
    "    tot *= i\n",
    "print(tot)"
   ]
  },
  {
   "cell_type": "code",
   "execution_count": 61,
   "metadata": {},
   "outputs": [
    {
     "name": "stdout",
     "output_type": "stream",
     "text": [
      "p 15 -1 1\n",
      "o 14 15 1\n",
      "l 11 14 2\n",
      "y 24 11 3\n",
      "m 12 24 3\n",
      "a 0 12 4\n",
      "t 19 0 5\n",
      "h 7 19 5\n",
      "6\n"
     ]
    }
   ],
   "source": [
    "# 반복 19564\n",
    "s = input()\n",
    "alpha = 'abcdefghijklmnopqrstuvwxyz'\n",
    "cnt = 1\n",
    "idx = -1\n",
    "for i in s:\n",
    "    if alpha.index(i) <= idx:\n",
    "        cnt += 1\n",
    "    idx = alpha.index(i)\n",
    "print(cnt)"
   ]
  },
  {
   "cell_type": "code",
   "execution_count": 87,
   "metadata": {},
   "outputs": [
    {
     "name": "stdout",
     "output_type": "stream",
     "text": [
      "6\n"
     ]
    }
   ],
   "source": [
    "# 제자리 25400\n",
    "n = int(input())\n",
    "l = list(map(int, input().split()))\n",
    "cnt = 1\n",
    "for i in l:\n",
    "    if i == cnt:\n",
    "        cnt += 1\n",
    "print(n - cnt + 1)"
   ]
  },
  {
   "cell_type": "code",
   "execution_count": 92,
   "metadata": {},
   "outputs": [
    {
     "name": "stdout",
     "output_type": "stream",
     "text": [
      "7\n"
     ]
    }
   ],
   "source": [
    "# 우유 축제 14720\n",
    "#딸 초 바\n",
    "n = int(input())\n",
    "l = list(map(int, input().split()))\n",
    "cnt = 1\n",
    "milk = 0\n",
    "for i in l[l.index(0) + 1:]:\n",
    "    if i == 1 and milk == 0:\n",
    "        cnt += 1\n",
    "        milk = 1\n",
    "    elif i == 2 and milk == 1:\n",
    "        cnt += 1\n",
    "        milk = 2\n",
    "    elif i == 0 and milk == 2:\n",
    "        cnt += 1\n",
    "        milk = 0\n",
    "print(cnt)"
   ]
  },
  {
   "cell_type": "code",
   "execution_count": 93,
   "metadata": {},
   "outputs": [
    {
     "name": "stdout",
     "output_type": "stream",
     "text": [
      "1\n",
      "3\n"
     ]
    }
   ],
   "source": [
    "# 캥거루 세마리2 11034\n",
    "while True:\n",
    "    try:\n",
    "        a, b, c = map(int, input().split())\n",
    "        print(max(c-b, b-a)-1)\n",
    "    except:\n",
    "        break"
   ]
  },
  {
   "cell_type": "code",
   "execution_count": 95,
   "metadata": {},
   "outputs": [
    {
     "name": "stdout",
     "output_type": "stream",
     "text": [
      "2.142857142857143\n"
     ]
    }
   ],
   "source": [
    "# 작도하자 ! 16485\n",
    "a, b = map(int, input().split())\n",
    "print(a/b)"
   ]
  },
  {
   "cell_type": "code",
   "execution_count": 100,
   "metadata": {},
   "outputs": [
    {
     "name": "stdout",
     "output_type": "stream",
     "text": [
      "3\n"
     ]
    }
   ],
   "source": [
    "# 세 막대 14215\n",
    "l = list(map(int, input().split()))\n",
    "m_l = max(l)\n",
    "if m_l >= sum(l) - m_l:\n",
    "    print((sum(l) - m_l) * 2 - 1)\n",
    "else:\n",
    "    print(sum(l))"
   ]
  },
  {
   "cell_type": "code",
   "execution_count": 105,
   "metadata": {},
   "outputs": [
    {
     "name": "stdout",
     "output_type": "stream",
     "text": [
      "120\n"
     ]
    }
   ],
   "source": [
    "# 욱제는 건축왕이야!! 15923\n",
    "tot = 0\n",
    "n = int(input())\n",
    "l = []\n",
    "ll = []\n",
    "for i in range(n):\n",
    "    a, b = map(int, input().split())\n",
    "    l.append(a)\n",
    "    ll.append(b)\n",
    "print((max(l) - min(l)) * 2 + (max(ll) - min(ll)) * 2)"
   ]
  },
  {
   "cell_type": "code",
   "execution_count": 111,
   "metadata": {},
   "outputs": [
    {
     "name": "stdout",
     "output_type": "stream",
     "text": [
      "42.0\n"
     ]
    }
   ],
   "source": [
    "# 내접사각형 만들기 17177\n",
    "l = list(map(int, input().split()))\n",
    "m_l = max(l)\n",
    "l.remove(m_l)\n",
    "c = (m_l ** 2 - l[0] ** 2) ** .5\n",
    "d = (m_l ** 2 - l[1] ** 2) ** .5\n",
    "if (c * d) - (l[0] * l[1]) <= 0:\n",
    "    print(-1)\n",
    "else:\n",
    "    print(round((c * d) - (l[0] * l[1])) // m_l)"
   ]
  },
  {
   "cell_type": "code",
   "execution_count": 122,
   "metadata": {},
   "outputs": [
    {
     "name": "stdout",
     "output_type": "stream",
     "text": [
      "39999999999.5\n"
     ]
    }
   ],
   "source": [
    "# 다각형의 면적 2166\n",
    "n = int(input())\n",
    "l = [list(map(int, input().split())) for i in range(n)]\n",
    "l.append(l[0])\n",
    "a = 0\n",
    "b = 0\n",
    "\n",
    "for i in range(n):\n",
    "    a += l[i][0] * l[i+1][1]\n",
    "    b += l[i][1] * l[i+1][0]\n",
    "result = abs(round((a-b)/2,1))\n",
    "print(result)"
   ]
  },
  {
   "cell_type": "code",
   "execution_count": 133,
   "metadata": {},
   "outputs": [
    {
     "name": "stdout",
     "output_type": "stream",
     "text": [
      "6.999465436035157\n"
     ]
    }
   ],
   "source": [
    "# 사다리 2022\n",
    "x, y, c = map(float, input().split())\n",
    "h = min(x, y)\n",
    "l = 1\n",
    "ans = 0\n",
    "while l + 0.001 <= h:\n",
    "    w = (h + l) / 2\n",
    "\n",
    "    h1 = (x ** 2 - w ** 2) ** .5\n",
    "    h2 = (y ** 2 - w ** 2) ** .5\n",
    "    c1 = (h1 * h2) / (h1 + h2)\n",
    "    if c1 >= c:\n",
    "        ans = w\n",
    "        l = w\n",
    "    else:\n",
    "        h = w\n",
    "print(ans)"
   ]
  }
 ],
 "metadata": {
  "kernelspec": {
   "display_name": "base",
   "language": "python",
   "name": "python3"
  },
  "language_info": {
   "codemirror_mode": {
    "name": "ipython",
    "version": 3
   },
   "file_extension": ".py",
   "mimetype": "text/x-python",
   "name": "python",
   "nbconvert_exporter": "python",
   "pygments_lexer": "ipython3",
   "version": "3.9.12"
  },
  "orig_nbformat": 4,
  "vscode": {
   "interpreter": {
    "hash": "7f368c48a586e931bd654761381ef86d5d2c1d8e94773dbceeccd45cd5f51e02"
   }
  }
 },
 "nbformat": 4,
 "nbformat_minor": 2
}

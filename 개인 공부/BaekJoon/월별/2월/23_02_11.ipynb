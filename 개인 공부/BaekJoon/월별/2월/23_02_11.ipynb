{
 "cells": [
  {
   "cell_type": "code",
   "execution_count": 5,
   "metadata": {},
   "outputs": [
    {
     "name": "stdout",
     "output_type": "stream",
     "text": [
      "3\n"
     ]
    }
   ],
   "source": [
    "# 가장 긴 감소하는 부분 수열 11722\n",
    "n = int(input())\n",
    "l = list(map(int, input().split()))\n",
    "dp = [1]*(n+1)\n",
    "for i in range(1, n):\n",
    "    for j in range(i):\n",
    "        if l[i] < l[j]:\n",
    "            dp[i] = max(dp[i], dp[j]+1)\n",
    "print(max(dp))"
   ]
  },
  {
   "cell_type": "code",
   "execution_count": 21,
   "metadata": {},
   "outputs": [
    {
     "name": "stdout",
     "output_type": "stream",
     "text": [
      "5\n"
     ]
    }
   ],
   "source": [
    "# 가장 긴 바이토닉 부분 수열 11054\n",
    "n = int(input())\n",
    "l = list(map(int, input().split()))\n",
    "ll = l[::-1]\n",
    "dp = [1]*(n)\n",
    "dp2 = [1]*(n)\n",
    "for i in range(1, n):\n",
    "    for j in range(i):\n",
    "        if l[i] > l[j]:\n",
    "            dp[i] = max(dp[i], dp[j]+1)\n",
    "        if ll[i] > ll[j]:\n",
    "            dp2[i] = max(dp2[i], dp2[j]+1)\n",
    "for i in range(n):\n",
    "    dp[i] += dp2[-i-1]\n",
    "print(max(dp)-1)"
   ]
  },
  {
   "cell_type": "code",
   "execution_count": 77,
   "metadata": {},
   "outputs": [
    {
     "name": "stdout",
     "output_type": "stream",
     "text": [
      "7\n"
     ]
    }
   ],
   "source": [
    "# 가장 긴 증가하는 부분 수열 2,3 12015,12738\n",
    "def find(l, cnt, x):\n",
    "    start = 0\n",
    "    end = cnt\n",
    "    while start < end:\n",
    "        mid = (start + end)//2\n",
    "        if l[mid] < x:\n",
    "            start = mid + 1\n",
    "        else:\n",
    "            end = mid\n",
    "    return end\n",
    "\n",
    "n = int(input())\n",
    "l = list(map(int, input().split()))\n",
    "ans = []\n",
    "cnt = 1\n",
    "\n",
    "ans.append(l[0])\n",
    "for i in range(1, n):\n",
    "    if l[i] > ans[-1]:\n",
    "        ans.append(l[i])\n",
    "        cnt += 1\n",
    "    else:\n",
    "        idx = find(ans, cnt, l[i])\n",
    "        ans[idx] = l[i]\n",
    "\n",
    "print(len(ans))"
   ]
  },
  {
   "cell_type": "code",
   "execution_count": 112,
   "metadata": {},
   "outputs": [
    {
     "name": "stdout",
     "output_type": "stream",
     "text": [
      "7\n",
      "10 15 20 30 40 45 60\n"
     ]
    }
   ],
   "source": [
    "# 가장 긴 증가하는 부분 수열 4 14002\n",
    "n = int(input())\n",
    "l = list(map(int, input().split()))\n",
    "dp = [1]*(n)\n",
    "for i in range(n):\n",
    "    for j in range(i):\n",
    "        if l[i] > l[j]:\n",
    "            dp[i] = max(dp[i], dp[j]+1)\n",
    "\n",
    "max_dp = max(dp)\n",
    "print(max_dp)\n",
    "seq = []\n",
    "for i in range(n - 1, -1, -1):\n",
    "    if dp[i] == max_dp:\n",
    "        seq.append(l[i])\n",
    "        max_dp -= 1\n",
    "print(*seq[::-1])"
   ]
  },
  {
   "cell_type": "code",
   "execution_count": 116,
   "metadata": {},
   "outputs": [
    {
     "name": "stdout",
     "output_type": "stream",
     "text": [
      "7\n",
      "10 15 20 30 40 45 60\n"
     ]
    }
   ],
   "source": [
    "# 가장 긴 증가하는 부분 수열 5 14003\n",
    "def find(l, cnt, x):\n",
    "    start = 0\n",
    "    end = cnt\n",
    "    while start < end:\n",
    "        mid = (start + end)//2\n",
    "        if l[mid] < x:\n",
    "            start = mid + 1\n",
    "        else:\n",
    "            end = mid\n",
    "    return end\n",
    "\n",
    "n = int(input())\n",
    "l = list(map(int, input().split()))\n",
    "ans = []\n",
    "ans.append(l[0])\n",
    "cnt = 1\n",
    "dp = [1] * n\n",
    "\n",
    "for i in range(1, n):\n",
    "    idx = 1000001\n",
    "    if l[i] > ans[-1]:\n",
    "        ans.append(l[i])\n",
    "        cnt += 1\n",
    "    else:\n",
    "        idx = find(ans, cnt, l[i])\n",
    "        ans[idx] = l[i]\n",
    "    dp[i] = min(cnt, idx+1)\n",
    "    \n",
    "len_ans = len(ans)\n",
    "print(len_ans)\n",
    "\n",
    "seq = []\n",
    "for i in range(n - 1, -1, -1):\n",
    "    if dp[i] == len_ans:\n",
    "        seq.append(l[i])\n",
    "        len_ans -= 1\n",
    "print(*seq[::-1])"
   ]
  }
 ],
 "metadata": {
  "kernelspec": {
   "display_name": "base",
   "language": "python",
   "name": "python3"
  },
  "language_info": {
   "codemirror_mode": {
    "name": "ipython",
    "version": 3
   },
   "file_extension": ".py",
   "mimetype": "text/x-python",
   "name": "python",
   "nbconvert_exporter": "python",
   "pygments_lexer": "ipython3",
   "version": "3.9.12"
  },
  "orig_nbformat": 4,
  "vscode": {
   "interpreter": {
    "hash": "7f368c48a586e931bd654761381ef86d5d2c1d8e94773dbceeccd45cd5f51e02"
   }
  }
 },
 "nbformat": 4,
 "nbformat_minor": 2
}

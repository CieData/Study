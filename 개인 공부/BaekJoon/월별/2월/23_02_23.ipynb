{
 "cells": [
  {
   "cell_type": "code",
   "execution_count": 15,
   "metadata": {},
   "outputs": [
    {
     "name": "stdout",
     "output_type": "stream",
     "text": [
      "8\n"
     ]
    }
   ],
   "source": [
    "# 수들의 합 5 2018\n",
    "n = int(input())\n",
    "cnt = 0\n",
    "start = 0\n",
    "end = 1\n",
    "s = 1\n",
    "while start <= end:\n",
    "    if s == n:\n",
    "        cnt +=1\n",
    "        end += 1\n",
    "        s += end\n",
    "    elif s < n:\n",
    "        end += 1\n",
    "        s += end\n",
    "    elif s > n:\n",
    "        s -= start\n",
    "        start += 1\n",
    "print(cnt)"
   ]
  },
  {
   "cell_type": "code",
   "execution_count": 24,
   "metadata": {},
   "outputs": [
    {
     "name": "stdout",
     "output_type": "stream",
     "text": [
      "1\n"
     ]
    }
   ],
   "source": [
    "# CD 4158\n",
    "while True:\n",
    "    n, m = map(int, input().split())\n",
    "    if n == 0 and m == 0:\n",
    "        break \n",
    "    cnt = 0\n",
    "    l = [int(input()) for i in range(n)]\n",
    "    ll = [int(input()) for i in range(m)]\n",
    "    i = 0\n",
    "    j = 0\n",
    "    while True:\n",
    "        if i >= n or j >= m:\n",
    "            break\n",
    "\n",
    "        if l[i] == ll[j]:\n",
    "            cnt += 1\n",
    "            i += 1\n",
    "            j += 1\n",
    "        elif l[i] > ll[j]:\n",
    "            j += 1\n",
    "        elif l[i] < ll[j]:\n",
    "            i += 1\n",
    "    print(cnt)"
   ]
  },
  {
   "cell_type": "code",
   "execution_count": 45,
   "metadata": {},
   "outputs": [
    {
     "name": "stdout",
     "output_type": "stream",
     "text": [
      "3\n"
     ]
    }
   ],
   "source": [
    "# 수들의 합 2 2003\n",
    "n, m = map(int, input().split())\n",
    "l = list(map(int, input().split()))\n",
    "cnt = 0\n",
    "i = 0\n",
    "j = 0\n",
    "s = l[0]\n",
    "while True:\n",
    "    if s > m:\n",
    "        s -= l[i]\n",
    "        i += 1\n",
    "    elif s == m:\n",
    "        cnt += 1\n",
    "        s -= l[i]\n",
    "        i += 1\n",
    "    else:\n",
    "        j += 1\n",
    "        if j >= n:\n",
    "            break\n",
    "        s += l[j]\n",
    "    if i >= n or j >= n:\n",
    "        break\n",
    "\n",
    "print(cnt)"
   ]
  }
 ],
 "metadata": {
  "kernelspec": {
   "display_name": "base",
   "language": "python",
   "name": "python3"
  },
  "language_info": {
   "codemirror_mode": {
    "name": "ipython",
    "version": 3
   },
   "file_extension": ".py",
   "mimetype": "text/x-python",
   "name": "python",
   "nbconvert_exporter": "python",
   "pygments_lexer": "ipython3",
   "version": "3.9.12"
  },
  "orig_nbformat": 4,
  "vscode": {
   "interpreter": {
    "hash": "7f368c48a586e931bd654761381ef86d5d2c1d8e94773dbceeccd45cd5f51e02"
   }
  }
 },
 "nbformat": 4,
 "nbformat_minor": 2
}

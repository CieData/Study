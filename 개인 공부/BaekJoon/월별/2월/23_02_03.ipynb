{
 "cells": [
  {
   "cell_type": "code",
   "execution_count": 29,
   "metadata": {},
   "outputs": [
    {
     "name": "stdout",
     "output_type": "stream",
     "text": [
      "5\n"
     ]
    }
   ],
   "source": [
    "# A -> B 16953\n",
    "a,b=map(int,input().split())\n",
    "cnt=1\n",
    "while True:\n",
    "    cnt2=cnt\n",
    "    if b%10==1:\n",
    "        b//=10\n",
    "        cnt+=1\n",
    "    elif b%2==0:\n",
    "        b//=2\n",
    "        cnt+=1\n",
    "    if cnt==cnt2 or a==b or b==0:\n",
    "        break\n",
    "if b==a:\n",
    "    print(cnt)\n",
    "else:\n",
    "    print(-1)"
   ]
  },
  {
   "cell_type": "code",
   "execution_count": 35,
   "metadata": {},
   "outputs": [
    {
     "name": "stdout",
     "output_type": "stream",
     "text": [
      "Case 1: 14\n",
      "Case 2: 11\n"
     ]
    }
   ],
   "source": [
    "# 캠핑 4796\n",
    "cnum=1\n",
    "while True:\n",
    "    l,p,v=map(int,input().split())\n",
    "    cnt=0\n",
    "    if [l,p,v]==[0,0,0]:\n",
    "        break\n",
    "    cnt+=l*(v//p)\n",
    "    cnt+=min(l,v%p)\n",
    "    print(f'Case {cnum}: {cnt}')\n",
    "    cnum+=1"
   ]
  },
  {
   "cell_type": "code",
   "execution_count": 51,
   "metadata": {},
   "outputs": [
    {
     "name": "stdout",
     "output_type": "stream",
     "text": [
      "6\n"
     ]
    }
   ],
   "source": [
    "#기타줄 1049\n",
    "n, m = map(int,input().split())\n",
    "#n : 끊어진 기타줄\n",
    "#m : 기타줄 브랜드\n",
    "l = []\n",
    "min_pack = 10000\n",
    "min_one = 10000\n",
    "for i in range(m):\n",
    "    #pack : 6개 패키지 가격\n",
    "    #one : 낱개 가격\n",
    "    pack, one = map(int,input().split())\n",
    "    min_pack = min(min_pack, pack)\n",
    "    min_one = min(min_one, one)\n",
    "tot = 0\n",
    "if min_pack < min_one*6:\n",
    "    tot += (n//6) * min_pack\n",
    "    n %= 6\n",
    "    tot += min(min_one*n, min_pack)\n",
    "else:\n",
    "    tot += n * min_one\n",
    "\n",
    "print(tot)"
   ]
  },
  {
   "cell_type": "code",
   "execution_count": 62,
   "metadata": {},
   "outputs": [
    {
     "name": "stdout",
     "output_type": "stream",
     "text": [
      "6282 6292\n"
     ]
    }
   ],
   "source": [
    "# 5와 6의 차이 2864\n",
    "a,b=input().split()\n",
    "c=int(a.replace('6','5'))+int(b.replace('6','5'))\n",
    "d=int(a.replace('5','6'))+int(b.replace('5','6'))\n",
    "print(c,d)"
   ]
  },
  {
   "cell_type": "code",
   "execution_count": 71,
   "metadata": {},
   "outputs": [
    {
     "name": "stdout",
     "output_type": "stream",
     "text": [
      "3\n"
     ]
    }
   ],
   "source": [
    "# 수리공 항승 1449\n",
    "import math\n",
    "n,l=map(int,input().split())\n",
    "ll=[0]*(1001)\n",
    "li=list(map(int,input().split()))\n",
    "li.sort()\n",
    "cnt=0\n",
    "for i in li:\n",
    "    if ll[i]==0:\n",
    "        for j in range(l):\n",
    "            try:\n",
    "                ll[i+j]+=1\n",
    "            except:\n",
    "                pass\n",
    "        cnt+=1\n",
    "print(cnt)"
   ]
  },
  {
   "cell_type": "code",
   "execution_count": 78,
   "metadata": {},
   "outputs": [
    {
     "name": "stdout",
     "output_type": "stream",
     "text": [
      "4 2 0 4\n",
      "1 0 0 0\n",
      "7 1 1 4\n"
     ]
    }
   ],
   "source": [
    "# 세탁소 사장 동혁 2720\n",
    "for i in range(int(input())):\n",
    "    c = int(input())\n",
    "    l=[0, 0, 0, 0]\n",
    "    ll=[25, 10, 5, 1]\n",
    "    for i in range(4):\n",
    "        l[i] = c//ll[i]\n",
    "        c %= ll[i]\n",
    "    print(*l)"
   ]
  },
  {
   "cell_type": "code",
   "execution_count": 86,
   "metadata": {},
   "outputs": [
    {
     "name": "stdout",
     "output_type": "stream",
     "text": [
      "3\n"
     ]
    }
   ],
   "source": [
    "# 게임을 만든 동준이 2847\n",
    "l = []\n",
    "cnt = 0\n",
    "n = int(input())\n",
    "for i in range(n):\n",
    "    l.append(int(input()))\n",
    "for i in range(n-1, 0, -1):\n",
    "    if l[i] <= l[i-1]:\n",
    "        minus = l[i-1] - l[i] + 1\n",
    "        l[i-1] -= minus\n",
    "        cnt += minus\n",
    "print(cnt)"
   ]
  }
 ],
 "metadata": {
  "kernelspec": {
   "display_name": "base",
   "language": "python",
   "name": "python3"
  },
  "language_info": {
   "codemirror_mode": {
    "name": "ipython",
    "version": 3
   },
   "file_extension": ".py",
   "mimetype": "text/x-python",
   "name": "python",
   "nbconvert_exporter": "python",
   "pygments_lexer": "ipython3",
   "version": "3.9.12"
  },
  "orig_nbformat": 4,
  "vscode": {
   "interpreter": {
    "hash": "7f368c48a586e931bd654761381ef86d5d2c1d8e94773dbceeccd45cd5f51e02"
   }
  }
 },
 "nbformat": 4,
 "nbformat_minor": 2
}

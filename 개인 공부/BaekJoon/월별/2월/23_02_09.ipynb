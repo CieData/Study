{
 "cells": [
  {
   "cell_type": "code",
   "execution_count": 15,
   "metadata": {},
   "outputs": [
    {
     "name": "stdout",
     "output_type": "stream",
     "text": [
      "0\n"
     ]
    }
   ],
   "source": [
    "# 카드 정렬하기 1715\n",
    "import heapq\n",
    "n = int(input())\n",
    "heap = []\n",
    "for i in range(n):\n",
    "    heapq.heappush(heap, int(input()))\n",
    "\n",
    "tot = 0\n",
    "\n",
    "while len(heap) != 1:\n",
    "    cnt = 0\n",
    "    cnt += heapq.heappop(heap)\n",
    "    cnt += heapq.heappop(heap)\n",
    "\n",
    "    tot += cnt\n",
    "\n",
    "    heapq.heappush(heap, cnt)\n",
    "\n",
    "print(tot)"
   ]
  },
  {
   "cell_type": "code",
   "execution_count": 51,
   "metadata": {},
   "outputs": [
    {
     "name": "stdout",
     "output_type": "stream",
     "text": [
      "2\n"
     ]
    }
   ],
   "source": [
    "# 수 묶기 1744\n",
    "def mul(l):\n",
    "    t = 0\n",
    "    while len(l)>1:\n",
    "        a = l.pop()\n",
    "        b = l.pop()\n",
    "        if a * b > a + b:\n",
    "            t += a * b\n",
    "        else:\n",
    "            t += a + b\n",
    "    return t\n",
    "    \n",
    "n = int(input())\n",
    "minus = []\n",
    "plus = []\n",
    "zero = []\n",
    "tot = 0\n",
    "\n",
    "for i in range(n):\n",
    "    num = int(input())\n",
    "    if num > 0:\n",
    "        plus.append(num)\n",
    "    elif num < 0:\n",
    "        minus.append(num)\n",
    "    else:\n",
    "        zero.append(num)\n",
    "\n",
    "minus.sort()\n",
    "minus = minus[::-1]\n",
    "plus.sort()\n",
    "\n",
    "tot += mul(plus)\n",
    "tot += mul(minus)\n",
    "if len(plus) == 1:\n",
    "    tot += plus[0]\n",
    "if len(minus) == 1 and len(zero) == 0:\n",
    "    tot += minus[0]\n",
    "print(tot)"
   ]
  },
  {
   "cell_type": "code",
   "execution_count": 54,
   "metadata": {},
   "outputs": [
    {
     "name": "stdout",
     "output_type": "stream",
     "text": [
      "0\n"
     ]
    }
   ],
   "source": [
    "# A와 B 12904\n",
    "s = list(input())\n",
    "ss = list(input())\n",
    "while len(ss) > len(s):\n",
    "    a = ss.pop()\n",
    "    if a == 'B':\n",
    "        ss = ss[::-1]\n",
    "if s == ss:\n",
    "    print(1)\n",
    "else:\n",
    "    print(0)"
   ]
  },
  {
   "cell_type": "code",
   "execution_count": 57,
   "metadata": {},
   "outputs": [
    {
     "name": "stdout",
     "output_type": "stream",
     "text": [
      "3\n"
     ]
    }
   ],
   "source": [
    "# 컵홀더 2810\n",
    "n = int(input())\n",
    "s = input().replace('LL','S')\n",
    "print(min(n, len(s)+1))"
   ]
  }
 ],
 "metadata": {
  "kernelspec": {
   "display_name": "base",
   "language": "python",
   "name": "python3"
  },
  "language_info": {
   "codemirror_mode": {
    "name": "ipython",
    "version": 3
   },
   "file_extension": ".py",
   "mimetype": "text/x-python",
   "name": "python",
   "nbconvert_exporter": "python",
   "pygments_lexer": "ipython3",
   "version": "3.9.12"
  },
  "orig_nbformat": 4,
  "vscode": {
   "interpreter": {
    "hash": "7f368c48a586e931bd654761381ef86d5d2c1d8e94773dbceeccd45cd5f51e02"
   }
  }
 },
 "nbformat": 4,
 "nbformat_minor": 2
}

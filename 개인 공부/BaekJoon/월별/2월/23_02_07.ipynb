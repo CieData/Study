{
 "cells": [
  {
   "cell_type": "code",
   "execution_count": 8,
   "metadata": {},
   "outputs": [
    {
     "name": "stdout",
     "output_type": "stream",
     "text": [
      "-3998\n",
      "10\n",
      "2\n",
      "2\n",
      "1\n",
      "10\n"
     ]
    }
   ],
   "source": [
    "#통계학 2108\n",
    "n = int(input())\n",
    "l = [int(input()) for i in range(n)]\n",
    "\n",
    "ll = [0]*8001\n",
    "for i in l:\n",
    "    ll[i + 4000] += 1\n",
    "\n",
    "mean = 0\n",
    "median = 0\n",
    "mode = []\n",
    "ran = 0\n",
    "#평균\n",
    "for i in range(8001):\n",
    "    mean += ll[i]*(i-4000)\n",
    "#중앙값\n",
    "for i in range(8001):\n",
    "    median += ll[i]\n",
    "    if median >= n//2 + 1:\n",
    "        median = i-4000\n",
    "        break\n",
    "#최빈값\n",
    "for i in range(8001):\n",
    "    if ll[i] == max(ll):\n",
    "        mode.append(i-4000)\n",
    "mode.sort()\n",
    "if len(mode) > 1:\n",
    "    mode = mode[1]\n",
    "else:\n",
    "    mode = mode[0]\n",
    "#범위\n",
    "for i in range(8001):\n",
    "    if ll[i] != 0:\n",
    "        ran -= i\n",
    "        break\n",
    "for i in range(1,8002):\n",
    "    if ll[-i] != 0 :\n",
    "        ran += -i + 8001\n",
    "        break\n",
    "print(round(mean/n))\n",
    "print(median)\n",
    "print(mode)\n",
    "print(ran)"
   ]
  },
  {
   "cell_type": "code",
   "execution_count": null,
   "metadata": {},
   "outputs": [],
   "source": [
    "# 이항 계수 3 11401\n",
    "n,r = map(int, input().split())\n",
    "fac = [1]\n",
    "l = [0] * 4000001\n",
    "l[0] = 1\n",
    "p = 10 ** 9 + 7\n",
    "# 분할 정복 거듭제곱\n",
    "def po(x, y, p):\n",
    "    if y == 0:\n",
    "        return 1\n",
    "    # 홀수 제곱일때 하나 따로\n",
    "    if y % 2 == 1:\n",
    "        return po(x, y-1, p) * x % p\n",
    "    h=po(x, y/2, p) % p\n",
    "    return h * h % p\n",
    "\n",
    "for i in range(1, 4000001):\n",
    "    fac.append(fac[-1] * i % p)\n",
    "\n",
    "l[4000000] = po(fac[4000000], p-2, p)\n",
    "for i in range(4000000-1, 0, -1):\n",
    "    l[i] = l[i+1] * (i+1) % p\n",
    "\n",
    "a = fac[n]\n",
    "b = (l[n-r] * l[r]) % p\n",
    "print(a * b % p)"
   ]
  }
 ],
 "metadata": {
  "kernelspec": {
   "display_name": "base",
   "language": "python",
   "name": "python3"
  },
  "language_info": {
   "codemirror_mode": {
    "name": "ipython",
    "version": 3
   },
   "file_extension": ".py",
   "mimetype": "text/x-python",
   "name": "python",
   "nbconvert_exporter": "python",
   "pygments_lexer": "ipython3",
   "version": "3.9.12"
  },
  "orig_nbformat": 4,
  "vscode": {
   "interpreter": {
    "hash": "7f368c48a586e931bd654761381ef86d5d2c1d8e94773dbceeccd45cd5f51e02"
   }
  }
 },
 "nbformat": 4,
 "nbformat_minor": 2
}

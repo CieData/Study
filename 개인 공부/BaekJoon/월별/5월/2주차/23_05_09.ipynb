{
 "cells": [
  {
   "cell_type": "code",
   "execution_count": 57,
   "metadata": {},
   "outputs": [
    {
     "name": "stdout",
     "output_type": "stream",
     "text": [
      "0\n"
     ]
    }
   ],
   "source": [
    "# 물병 1052\n",
    "l = [2 ** i for i in range(24, -1, -1)]\n",
    "n, k = map(int, input().split())\n",
    "\n",
    "for i in range(len(l)):\n",
    "    if l[i] <= n:\n",
    "        break\n",
    "\n",
    "while n != 0:\n",
    "    if k != 1:\n",
    "        n -= l[i]\n",
    "        k -= 1\n",
    "    else:\n",
    "        if l[i] < n:\n",
    "            ans = l[i - 1] - n\n",
    "            break\n",
    "        else:\n",
    "            ans = l[i] - n\n",
    "            break\n",
    "    if l[i] > n and l[i] != 1:\n",
    "        i += 1\n",
    "print(ans)"
   ]
  },
  {
   "cell_type": "code",
   "execution_count": null,
   "metadata": {},
   "outputs": [],
   "source": []
  }
 ],
 "metadata": {
  "kernelspec": {
   "display_name": "base",
   "language": "python",
   "name": "python3"
  },
  "language_info": {
   "codemirror_mode": {
    "name": "ipython",
    "version": 3
   },
   "file_extension": ".py",
   "mimetype": "text/x-python",
   "name": "python",
   "nbconvert_exporter": "python",
   "pygments_lexer": "ipython3",
   "version": "3.9.12"
  },
  "orig_nbformat": 4
 },
 "nbformat": 4,
 "nbformat_minor": 2
}

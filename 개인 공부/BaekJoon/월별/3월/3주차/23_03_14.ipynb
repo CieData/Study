{
 "cells": [
  {
   "cell_type": "code",
   "execution_count": null,
   "metadata": {},
   "outputs": [],
   "source": [
    "from itertools import product\n",
    "n = int(input())\n",
    "length = len(str(n))\n",
    "m = int(input())\n",
    "l = list(map(int, input().split()))\n",
    "ll = [i for i in range(10) if i not in l]\n",
    "l = []\n",
    "for i in range(length - 1, length + 2):\n",
    "    l += list(product(ll, repeat = i))\n",
    "    \n",
    "minus = [abs(n - 100), 100]\n",
    "for i in l:\n",
    "    num = 0\n",
    "    for j in range(len(i)):\n",
    "        num += i[j] * 10 ** (len(i) - j - 1)\n",
    "    if abs(n - num) < minus\n",
    "    minus = [min(minus[0], abs(n - num)), num]\n",
    "if minus[1] == 100:\n",
    "    print(minus[0])\n",
    "else:\n",
    "    print(length + minus[0])"
   ]
  }
 ],
 "metadata": {
  "language_info": {
   "name": "python"
  },
  "orig_nbformat": 4
 },
 "nbformat": 4,
 "nbformat_minor": 2
}

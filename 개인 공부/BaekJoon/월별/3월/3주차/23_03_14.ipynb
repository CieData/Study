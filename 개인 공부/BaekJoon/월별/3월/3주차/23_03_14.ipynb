{
 "cells": [
  {
   "cell_type": "code",
   "execution_count": null,
   "metadata": {},
   "outputs": [],
   "source": [
    "# N과 M (1) 15649\n",
    "import itertools \n",
    "n, m = map(int, input().split())\n",
    "l = [i for i in range(1, n+1)]\n",
    "comb = list(itertools.permutations(l,m))\n",
    "for i in comb:\n",
    "    print(*i)"
   ]
  },
  {
   "cell_type": "code",
   "execution_count": null,
   "metadata": {},
   "outputs": [],
   "source": [
    "# N과 M (3) 15651\n",
    "import itertools \n",
    "n, m = map(int, input().split())\n",
    "l = [i for i in range(1, n+1)]\n",
    "ll = [l for i in range(m)]\n",
    "lll = list(itertools.product(*ll))\n",
    "for i in lll:\n",
    "    print(*i)"
   ]
  },
  {
   "cell_type": "code",
   "execution_count": 33,
   "metadata": {},
   "outputs": [
    {
     "name": "stdout",
     "output_type": "stream",
     "text": [
      "4\n",
      "5\n",
      "2\n"
     ]
    }
   ],
   "source": [
    "# N과 M (8) 15657\n",
    "n, m = map(int, input().split())\n",
    "x = list(map(int, input().split()))\n",
    "x.sort()\n",
    "l = []\n",
    "ll = [1] * m\n",
    "while True:\n",
    "    l.append(ll.copy())\n",
    "    ll[-1] += 1\n",
    "    if n+1 in ll:\n",
    "        while n+1 in ll:\n",
    "            idx = ll.index(n+1)\n",
    "            if idx == 0:\n",
    "                break\n",
    "            ll[idx - 1] += 1\n",
    "            ll[idx:] = [ll[idx - 1]] * len(ll[idx:])\n",
    "    if ll[0] == n+1:\n",
    "        break\n",
    "\n",
    "for i in l:\n",
    "    y = []\n",
    "    for j in i:\n",
    "        y.append(x[j - 1])\n",
    "    print(*y)"
   ]
  }
 ],
 "metadata": {
  "kernelspec": {
   "display_name": "base",
   "language": "python",
   "name": "python3"
  },
  "language_info": {
   "codemirror_mode": {
    "name": "ipython",
    "version": 3
   },
   "file_extension": ".py",
   "mimetype": "text/x-python",
   "name": "python",
   "nbconvert_exporter": "python",
   "pygments_lexer": "ipython3",
   "version": "3.9.12"
  },
  "orig_nbformat": 4
 },
 "nbformat": 4,
 "nbformat_minor": 2
}

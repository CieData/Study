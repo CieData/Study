{
 "cells": [
  {
   "cell_type": "code",
   "execution_count": 42,
   "metadata": {},
   "outputs": [
    {
     "name": "stdout",
     "output_type": "stream",
     "text": [
      "5\n"
     ]
    }
   ],
   "source": [
    "# N번째 큰 수 2075\n",
    "import heapq\n",
    "n = int(input())\n",
    "l = list(map(int, input().split()))\n",
    "heap = []\n",
    "\n",
    "for i in l:\n",
    "    heapq.heappush(heap, i)\n",
    "\n",
    "for i in range(n-1):\n",
    "    l = list(map(int, input().split()))\n",
    "    for j in l:\n",
    "        x = heap[0]\n",
    "        if j > x:\n",
    "            heapq.heappop(heap)\n",
    "            heapq.heappush(heap, j)\n",
    "print(heapq.heappop(heap))"
   ]
  }
 ],
 "metadata": {
  "kernelspec": {
   "display_name": "base",
   "language": "python",
   "name": "python3"
  },
  "language_info": {
   "codemirror_mode": {
    "name": "ipython",
    "version": 3
   },
   "file_extension": ".py",
   "mimetype": "text/x-python",
   "name": "python",
   "nbconvert_exporter": "python",
   "pygments_lexer": "ipython3",
   "version": "3.9.12"
  },
  "orig_nbformat": 4
 },
 "nbformat": 4,
 "nbformat_minor": 2
}

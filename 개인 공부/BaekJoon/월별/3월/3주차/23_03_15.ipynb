{
 "cells": [
  {
   "cell_type": "code",
   "execution_count": 43,
   "metadata": {},
   "outputs": [
    {
     "name": "stdout",
     "output_type": "stream",
     "text": [
      "10\n"
     ]
    }
   ],
   "source": [
    "# N-Queen 9663\n",
    "n = int(input())\n",
    "pos = [0] * n\n",
    "flag_a = [False] * n\n",
    "flag_b = [False] * (2 * n - 1)\n",
    "flag_c = [False] * (2 * n - 1)\n",
    "l = []\n",
    "def put():\n",
    "    ll = []\n",
    "    for i in range(n):\n",
    "        ll.append(pos[i])\n",
    "    l.append(ll)\n",
    "\n",
    "def set(i):\n",
    "    for j in range(n):\n",
    "        if( not flag_a[j]\n",
    "            and not flag_b[i + j]\n",
    "            and not flag_c[i - j + n - 1]):\n",
    "            pos[i] = j\n",
    "            if i == n - 1:\n",
    "                put()\n",
    "            else:\n",
    "                flag_a[j] = flag_b[i + j] = flag_c[i - j + (n - 1)] = True\n",
    "                set(i + 1)\n",
    "                flag_a[j] = flag_b[i + j] = flag_c[i - j + (n - 1)] = False\n",
    "set(0)\n",
    "print(len(l))"
   ]
  },
  {
   "cell_type": "code",
   "execution_count": null,
   "metadata": {},
   "outputs": [],
   "source": []
  }
 ],
 "metadata": {
  "kernelspec": {
   "display_name": "base",
   "language": "python",
   "name": "python3"
  },
  "language_info": {
   "codemirror_mode": {
    "name": "ipython",
    "version": 3
   },
   "file_extension": ".py",
   "mimetype": "text/x-python",
   "name": "python",
   "nbconvert_exporter": "python",
   "pygments_lexer": "ipython3",
   "version": "3.9.12"
  },
  "orig_nbformat": 4
 },
 "nbformat": 4,
 "nbformat_minor": 2
}

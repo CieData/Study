{
 "cells": [
  {
   "cell_type": "code",
   "execution_count": null,
   "metadata": {},
   "outputs": [],
   "source": [
    "pos = [0] * 8 # 각 열에 배치한 퀸의 위치\n",
    "flag_a = [False] * 8 # 각 행에 퀸을 배치했는지 체크\n",
    "flag_b = [False] * 15 # 대각선 방향（//》으로 퀸올 배치했는지 체크\n",
    "flag_c = [False] * 15 # 대각선 방향（、、）으로 퀸올 배치했는지 체크\n",
    "\n",
    "def put() -> None:\n",
    "\n",
    "for i in range(8):\n",
    "print(f .{pos[i]:2}、end='')\n",
    "print()\n",
    "13:\n",
    "14: def set(i: int) -> None:\n",
    "15: \"__\"i열의 알맞은 위치에 퀸을 배치\n",
    "16: for j in range(8):\n",
    "17: if( not flag_a[j] #j행에 퀸이 배치되지 않았다면\n",
    "18: and not flag_b[i + j] # 대각선 방향（//》으로 퀸이 배치되지 않았다면\n",
    "19: and not flag_c[i - j + 7]): # 대각선 방향（ \\\\）으로 퀸이 배치되지 않았다면\n",
    "20: pos[i] = j # 퀸을 j행에 배치\n",
    "21: if i == 7: # 모든 열에 퀸을 배치 완료\n",
    "22: put()\n",
    "23: else:\n",
    "24: flag_a[j] = flag_b[i + j] = flag_c[i - j + 7] = True\n",
    "25: set(i + 1) # 다음 열에 퀸을 배치\n",
    "26: flag a[j] = flag b[i + j] = flag c[i - j + 7] = False"
   ]
  }
 ],
 "metadata": {
  "language_info": {
   "name": "python"
  },
  "orig_nbformat": 4
 },
 "nbformat": 4,
 "nbformat_minor": 2
}

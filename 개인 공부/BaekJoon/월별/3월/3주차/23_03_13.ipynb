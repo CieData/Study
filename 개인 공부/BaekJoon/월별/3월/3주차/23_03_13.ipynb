{
 "cells": [
  {
   "cell_type": "code",
   "execution_count": 19,
   "metadata": {},
   "outputs": [
    {
     "name": "stdout",
     "output_type": "stream",
     "text": [
      "acis\n",
      "acit\n",
      "aciw\n",
      "acst\n",
      "acsw\n",
      "actw\n",
      "aist\n",
      "aisw\n",
      "aitw\n",
      "astw\n",
      "cist\n",
      "cisw\n",
      "citw\n",
      "istw\n"
     ]
    }
   ],
   "source": [
    "# 암호 만들기 1759\n",
    "from itertools import combinations\n",
    "a = 'aeiou'\n",
    "L, C = map(int, input().split())\n",
    "l = input().split()\n",
    "l.sort()\n",
    "comb = list(combinations(l, L))\n",
    "for i in comb:\n",
    "    cnt1 = 0\n",
    "    cnt2 = 0\n",
    "    for j in i:\n",
    "        if j in a:\n",
    "            cnt1 += 1\n",
    "        else:\n",
    "            cnt2 += 1\n",
    "    if cnt1 >= 1 and cnt2 >= 2:\n",
    "        print(''.join(i))"
   ]
  },
  {
   "cell_type": "code",
   "execution_count": 24,
   "metadata": {},
   "outputs": [
    {
     "name": "stdout",
     "output_type": "stream",
     "text": [
      "10\n"
     ]
    }
   ],
   "source": [
    "# 치킨 배달 15686\n",
    "from itertools import combinations\n",
    "n, m = map(int, input().split())\n",
    "l = [list(map(int, input().split())) for i in range(n)]\n",
    "chick = []\n",
    "home = []\n",
    "ans = 1000000000\n",
    "for i in range(n):\n",
    "    for j in range(n):\n",
    "        if l[i][j] == 1:\n",
    "            home.append([i, j])\n",
    "        elif l[i][j] == 2:\n",
    "            chick.append([i, j])\n",
    "comb = combinations(chick, m)\n",
    "for i in comb:\n",
    "    long = 0\n",
    "    for j in home:\n",
    "        x = 100000\n",
    "        for k in i:\n",
    "            x = min(x, abs(j[0] - k[0]) + abs(j[1] - k[1]))\n",
    "        long += x\n",
    "    ans = min(ans, long)\n",
    "print(ans)"
   ]
  }
 ],
 "metadata": {
  "kernelspec": {
   "display_name": "base",
   "language": "python",
   "name": "python3"
  },
  "language_info": {
   "codemirror_mode": {
    "name": "ipython",
    "version": 3
   },
   "file_extension": ".py",
   "mimetype": "text/x-python",
   "name": "python",
   "nbconvert_exporter": "python",
   "pygments_lexer": "ipython3",
   "version": "3.9.12"
  },
  "orig_nbformat": 4
 },
 "nbformat": 4,
 "nbformat_minor": 2
}

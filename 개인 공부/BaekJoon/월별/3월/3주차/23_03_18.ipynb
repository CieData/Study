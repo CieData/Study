{
 "cells": [
  {
   "cell_type": "code",
   "execution_count": 43,
   "metadata": {},
   "outputs": [
    {
     "name": "stdout",
     "output_type": "stream",
     "text": [
      "54\n",
      "-24\n"
     ]
    }
   ],
   "source": [
    "# 연산자 끼워넣기 14888\n",
    "from itertools import permutations\n",
    "n = int(input())\n",
    "num = list(map(int, input().split()))\n",
    "l = list(map(int, input().split()))\n",
    "a = '+-*%'\n",
    "ll = []\n",
    "for i in range(4):\n",
    "    for j in range(l[i]):\n",
    "        ll.append(a[i])\n",
    "l = list(permutations(ll, n - 1))\n",
    "maxnum = -1000000000\n",
    "minnum = 1000000000\n",
    "for i in l:\n",
    "    tot = num[0]\n",
    "    for j in range(n - 1):\n",
    "        if i[j] == '+':\n",
    "            tot += num[j + 1]\n",
    "        elif i[j] == '-':\n",
    "            tot -= num[j + 1]\n",
    "        elif i[j] == '*':\n",
    "            tot *= num[j + 1]\n",
    "        else:\n",
    "            if tot < 0:\n",
    "                tot = -(abs(tot) // num[j + 1])\n",
    "            else:\n",
    "                tot /= num[j + 1]\n",
    "    maxnum = max(maxnum, tot)\n",
    "    minnum = min(minnum, tot)\n",
    "print(maxnum)\n",
    "print(minnum)"
   ]
  },
  {
   "cell_type": "code",
   "execution_count": 50,
   "metadata": {},
   "outputs": [
    {
     "name": "stdout",
     "output_type": "stream",
     "text": [
      "30\n",
      "30\n"
     ]
    }
   ],
   "source": [
    "n = int(input())\n",
    "num = list(map(int, input().split()))\n",
    "a , b , c , d = map(int, input().split())\n",
    "\n",
    "maxnum = -1000000000\n",
    "minnum = 1000000000\n",
    "\n",
    "def minmax(x, i):\n",
    "  global a , b , c , d, maxnum, minnum\n",
    "  \n",
    "  if i == n:\n",
    "    maxnum = max(maxnum, x)\n",
    "    minnum = min(minnum, x)\n",
    "    return\n",
    "\n",
    "  if a > 0:\n",
    "    a -= 1\n",
    "    minmax(x + num[i] , i + 1)\n",
    "    a += 1\n",
    "  if b > 0:\n",
    "    b -= 1\n",
    "    minmax(x - num[i] , i + 1)\n",
    "    b += 1\n",
    "  if c > 0:\n",
    "    c -= 1\n",
    "    minmax(x * num[i] , i + 1)\n",
    "    c += 1\n",
    "  if d > 0:\n",
    "    d -= 1\n",
    "    minmax(int(x / num[i]), i + 1)\n",
    "    d += 1\n",
    "  \n",
    "minmax(num[0], 1)\n",
    "\n",
    "print(maxnum)\n",
    "print(minnum)"
   ]
  },
  {
   "cell_type": "code",
   "execution_count": null,
   "metadata": {},
   "outputs": [],
   "source": []
  }
 ],
 "metadata": {
  "kernelspec": {
   "display_name": "base",
   "language": "python",
   "name": "python3"
  },
  "language_info": {
   "codemirror_mode": {
    "name": "ipython",
    "version": 3
   },
   "file_extension": ".py",
   "mimetype": "text/x-python",
   "name": "python",
   "nbconvert_exporter": "python",
   "pygments_lexer": "ipython3",
   "version": "3.9.12"
  },
  "orig_nbformat": 4
 },
 "nbformat": 4,
 "nbformat_minor": 2
}

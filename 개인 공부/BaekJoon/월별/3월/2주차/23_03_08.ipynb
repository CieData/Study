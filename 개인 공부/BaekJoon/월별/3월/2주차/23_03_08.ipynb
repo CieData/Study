{
 "cells": [
  {
   "cell_type": "code",
   "execution_count": 49,
   "metadata": {},
   "outputs": [
    {
     "name": "stdout",
     "output_type": "stream",
     "text": [
      "-1\n"
     ]
    }
   ],
   "source": [
    "# 감소하는 수 1038\n",
    "\n",
    "from itertools import combinations\n",
    "\n",
    "n = int(input())\n",
    "nums=[str(i) for i in range(10)]\n",
    "c=[]\n",
    "for i in range(1, 11):\n",
    "    combi = list(combinations(nums, i))\n",
    "    for j in range(len(combi)):\n",
    "        d = ''\n",
    "        for k in range(i):\n",
    "            d += combi[j][k]\n",
    "        c.append(int(d[::-1]))\n",
    "c.sort()\n",
    "if n >= len(c):\n",
    "    print(-1)\n",
    "else:\n",
    "    print(c[n])"
   ]
  },
  {
   "cell_type": "code",
   "execution_count": 64,
   "metadata": {},
   "outputs": [
    {
     "name": "stdout",
     "output_type": "stream",
     "text": [
      "2\n"
     ]
    }
   ],
   "source": [
    "# 트리 1068\n",
    "n = int(input())\n",
    "l = list(map(int, input().split()))\n",
    "x = int(input())\n",
    "ll = [x]\n",
    "cnt = 0\n",
    "\n",
    "while True:\n",
    "    k = ll.pop()\n",
    "    l[k] = -2\n",
    "    for i in range(n):\n",
    "        if l[i] == k:\n",
    "            ll.append(i)\n",
    "    if ll == []:\n",
    "        break\n",
    "\n",
    "for i in range(n):\n",
    "    if l[i] != -2 and i not in l:\n",
    "        cnt += 1\n",
    "print(cnt)"
   ]
  },
  {
   "cell_type": "code",
   "execution_count": null,
   "metadata": {},
   "outputs": [],
   "source": []
  }
 ],
 "metadata": {
  "kernelspec": {
   "display_name": "base",
   "language": "python",
   "name": "python3"
  },
  "language_info": {
   "codemirror_mode": {
    "name": "ipython",
    "version": 3
   },
   "file_extension": ".py",
   "mimetype": "text/x-python",
   "name": "python",
   "nbconvert_exporter": "python",
   "pygments_lexer": "ipython3",
   "version": "3.9.12"
  },
  "orig_nbformat": 4
 },
 "nbformat": 4,
 "nbformat_minor": 2
}

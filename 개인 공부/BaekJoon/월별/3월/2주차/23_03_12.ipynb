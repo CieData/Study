{
 "cells": [
  {
   "cell_type": "code",
   "execution_count": null,
   "metadata": {},
   "outputs": [],
   "source": [
    "t = int(input())\n",
    "for i in range(t):\n",
    "    x, y = map(int, input().split())\n",
    "    z = y - x\n",
    "    cnt = 0\n",
    "    while True:\n",
    "        if z <= cnt * (cnt * 1):\n",
    "            break\n",
    "        cnt += 1\n",
    "    "
   ]
  },
  {
   "cell_type": "code",
   "execution_count": null,
   "metadata": {},
   "outputs": [],
   "source": [
    "# Fly me to the Alpha Centauri 1011\n",
    "t = int(input())\n",
    "l = []\n",
    "for i in range(1, 50000):\n",
    "    l.append(i ** 2)\n",
    "    l.append(i ** 2 + i)\n",
    "for i in range(t):\n",
    "    x, y = map(int, input().split())\n",
    "    z = y - x\n",
    "    for j in range(99998):\n",
    "        if l[j] >= z:\n",
    "            print(j + 1)\n",
    "            break"
   ]
  }
 ],
 "metadata": {
  "kernelspec": {
   "display_name": "base",
   "language": "python",
   "name": "python3"
  },
  "language_info": {
   "codemirror_mode": {
    "name": "ipython",
    "version": 3
   },
   "file_extension": ".py",
   "mimetype": "text/x-python",
   "name": "python",
   "nbconvert_exporter": "python",
   "pygments_lexer": "ipython3",
   "version": "3.9.12"
  },
  "orig_nbformat": 4
 },
 "nbformat": 4,
 "nbformat_minor": 2
}

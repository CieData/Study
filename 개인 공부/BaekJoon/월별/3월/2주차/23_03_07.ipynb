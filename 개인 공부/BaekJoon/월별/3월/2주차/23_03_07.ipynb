{
 "cells": [
  {
   "cell_type": "code",
   "execution_count": 41,
   "metadata": {},
   "outputs": [
    {
     "name": "stdout",
     "output_type": "stream",
     "text": [
      "1 1 1 3 3 3 2 2 2 "
     ]
    }
   ],
   "source": [
    "# 빈도 정렬 2910\n",
    "n, c = map(int, input().split())\n",
    "dic = {}\n",
    "l = list(map(int, input().split()))\n",
    "for i in range(n):\n",
    "    if l[i] in dic.keys():\n",
    "        dic[l[i]][1] += 1\n",
    "    else:\n",
    "        dic[l[i]] = [i, 1]\n",
    "sort_dic = sorted(dic.items(), key = lambda x : (-x[1][1], x[1][0]))\n",
    "for i in sort_dic:\n",
    "    for j in range(i[1][1]):\n",
    "        print(i[0], end = ' ')"
   ]
  },
  {
   "cell_type": "code",
   "execution_count": 57,
   "metadata": {},
   "outputs": [
    {
     "name": "stdout",
     "output_type": "stream",
     "text": [
      "68\n"
     ]
    }
   ],
   "source": [
    "# 카드 놓기 5568\n",
    "from itertools import permutations\n",
    "n = int(input())\n",
    "k = int(input())\n",
    "l = [input() for i in range(n)]\n",
    "comb = permutations(l, k)\n",
    "st = set()\n",
    "for i in permutations(l, k):\n",
    "    s = ''\n",
    "    for j in i:\n",
    "        s += j\n",
    "    st.add(s)\n",
    "print(len(st))"
   ]
  },
  {
   "cell_type": "code",
   "execution_count": 60,
   "metadata": {},
   "outputs": [
    {
     "name": "stdout",
     "output_type": "stream",
     "text": [
      "314\n"
     ]
    }
   ],
   "source": [
    "# 8진수 2998\n",
    "print(oct(int(input(),2))[2:])"
   ]
  },
  {
   "cell_type": "code",
   "execution_count": 61,
   "metadata": {},
   "outputs": [
    {
     "name": "stdout",
     "output_type": "stream",
     "text": [
      "zelena paprika\n"
     ]
    }
   ],
   "source": [
    "# 창영이의 일기장 2954\n",
    "s = input().replace('apa', 'a').replace('epe', 'e')\\\n",
    "    .replace('ipi', 'i').replace('opo', 'o').replace('upu', 'u')\n",
    "print(s)"
   ]
  },
  {
   "cell_type": "code",
   "execution_count": 64,
   "metadata": {},
   "outputs": [
    {
     "name": "stdout",
     "output_type": "stream",
     "text": [
      "YES\n"
     ]
    }
   ],
   "source": [
    "# Equality 13985\n",
    "s = input().split(' ')\n",
    "if int(s[0]) + int(s[2]) == int(s[4]):\n",
    "    print('YES')\n",
    "else:\n",
    "    print('NO')"
   ]
  },
  {
   "cell_type": "code",
   "execution_count": 65,
   "metadata": {},
   "outputs": [
    {
     "name": "stdout",
     "output_type": "stream",
     "text": [
      "Do-it\n",
      "Do-it-Not\n",
      "Do-it\n"
     ]
    }
   ],
   "source": [
    "# 한다 안한다 5789\n",
    "n = int(input())\n",
    "for i in range(n):\n",
    "    s = input()\n",
    "    if s[len(s)//2] == s[len(s)//2 - 1]:\n",
    "        print('Do-it')\n",
    "    else:\n",
    "        print('Do-it-Not')"
   ]
  }
 ],
 "metadata": {
  "kernelspec": {
   "display_name": "base",
   "language": "python",
   "name": "python3"
  },
  "language_info": {
   "codemirror_mode": {
    "name": "ipython",
    "version": 3
   },
   "file_extension": ".py",
   "mimetype": "text/x-python",
   "name": "python",
   "nbconvert_exporter": "python",
   "pygments_lexer": "ipython3",
   "version": "3.9.12"
  },
  "orig_nbformat": 4
 },
 "nbformat": 4,
 "nbformat_minor": 2
}

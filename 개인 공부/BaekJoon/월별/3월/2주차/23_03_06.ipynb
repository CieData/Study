{
 "cells": [
  {
   "cell_type": "code",
   "execution_count": 13,
   "metadata": {},
   "outputs": [
    {
     "name": "stdout",
     "output_type": "stream",
     "text": [
      "16\n"
     ]
    }
   ],
   "source": [
    "# 수열 2559\n",
    "n, k = map(int, input().split())\n",
    "l = list(map(int, input().split()))\n",
    "m = -100000\n",
    "x = sum(l[:k])\n",
    "m = max(x, m)\n",
    "for i in range(k, n):\n",
    "    x -= l[i - k]\n",
    "    x += l[i]\n",
    "    m = max(x, m)\n",
    "print(m)"
   ]
  },
  {
   "cell_type": "code",
   "execution_count": 53,
   "metadata": {},
   "outputs": [
    {
     "name": "stdout",
     "output_type": "stream",
     "text": [
      "0\n",
      "1\n",
      "2\n",
      "1\n"
     ]
    }
   ],
   "source": [
    "# 인간-컴퓨터 상호작용 16139\n",
    "s = input().strip()\n",
    "q = int(input())\n",
    "x = 0\n",
    "l = [0] * 26\n",
    "ll = [[0]* 26]\n",
    "for i in s:\n",
    "    l[ord(i) - 97] += 1\n",
    "    ll.append(l[0:])\n",
    "for i in range(q):\n",
    "    a, l, r = input().split()\n",
    "    a = ord(a) - 97\n",
    "    print(ll[int(r) + 1][a] - ll[int(l)][a])"
   ]
  }
 ],
 "metadata": {
  "kernelspec": {
   "display_name": "base",
   "language": "python",
   "name": "python3"
  },
  "language_info": {
   "codemirror_mode": {
    "name": "ipython",
    "version": 3
   },
   "file_extension": ".py",
   "mimetype": "text/x-python",
   "name": "python",
   "nbconvert_exporter": "python",
   "pygments_lexer": "ipython3",
   "version": "3.9.12"
  },
  "orig_nbformat": 4
 },
 "nbformat": 4,
 "nbformat_minor": 2
}

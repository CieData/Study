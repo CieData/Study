{
 "cells": [
  {
   "cell_type": "code",
   "execution_count": 28,
   "metadata": {},
   "outputs": [
    {
     "name": "stdout",
     "output_type": "stream",
     "text": [
      "60\n"
     ]
    }
   ],
   "source": [
    "# 싸이클 2526\n",
    "n, p = map(int, input().split())\n",
    "l = [n]\n",
    "for i in range(98):\n",
    "    x = l[-1] * n % p\n",
    "    if x in l:\n",
    "        print(i - l.index(x) + 1)\n",
    "        break\n",
    "    else:\n",
    "        l.append(x)"
   ]
  },
  {
   "cell_type": "code",
   "execution_count": 30,
   "metadata": {},
   "outputs": [
    {
     "name": "stdout",
     "output_type": "stream",
     "text": [
      "YES\n",
      "NO\n"
     ]
    }
   ],
   "source": [
    "# 사탕 선생 고창영 2547\n",
    "t = int(input())\n",
    "for i in range(t):\n",
    "    input()\n",
    "    n = int(input())\n",
    "    cnt = 0\n",
    "    for j in range(n):\n",
    "        cnt += int(input())\n",
    "    if cnt // n * n == cnt:\n",
    "        print('YES')\n",
    "    else:\n",
    "        print('NO')"
   ]
  },
  {
   "cell_type": "code",
   "execution_count": 42,
   "metadata": {},
   "outputs": [
    {
     "name": "stdout",
     "output_type": "stream",
     "text": [
      "[1]\n",
      "[1, 5]\n",
      "[1, 5, 2]\n",
      "[1, 5, 2, 10]\n",
      "[-99, 1, 2, 10, 5]\n",
      "[-99, 1, 2, 10, 5, 7]\n",
      "[-99, 1, 2, 10, 5, 7, 5]\n",
      "[-99, 1, 2, 8, 5, 7, 5, 10]\n",
      "[-99, 1, 2, 8, 5, 7, 5, 10, 9]\n",
      "[-99, 1, 2, 8, 3, 7, 5, 10, 9, 5]\n"
     ]
    }
   ],
   "source": [
    "import heapq\n",
    "heap = []\n",
    "for i in range(10):\n",
    "    heapq.heappush(heap, int(input()))\n",
    "    print(heap)"
   ]
  },
  {
   "cell_type": "code",
   "execution_count": null,
   "metadata": {},
   "outputs": [],
   "source": [
    "0,0,2,2,2,4,4,3,4\n"
   ]
  },
  {
   "cell_type": "code",
   "execution_count": 44,
   "metadata": {},
   "outputs": [
    {
     "data": {
      "text/plain": [
       "[-99, 1, 2, 3, 5, 5, 7, 8, 9, 10]"
      ]
     },
     "execution_count": 44,
     "metadata": {},
     "output_type": "execute_result"
    }
   ],
   "source": [
    "heap"
   ]
  },
  {
   "cell_type": "code",
   "execution_count": null,
   "metadata": {},
   "outputs": [],
   "source": []
  }
 ],
 "metadata": {
  "kernelspec": {
   "display_name": "base",
   "language": "python",
   "name": "python3"
  },
  "language_info": {
   "codemirror_mode": {
    "name": "ipython",
    "version": 3
   },
   "file_extension": ".py",
   "mimetype": "text/x-python",
   "name": "python",
   "nbconvert_exporter": "python",
   "pygments_lexer": "ipython3",
   "version": "3.9.12"
  },
  "orig_nbformat": 4
 },
 "nbformat": 4,
 "nbformat_minor": 2
}

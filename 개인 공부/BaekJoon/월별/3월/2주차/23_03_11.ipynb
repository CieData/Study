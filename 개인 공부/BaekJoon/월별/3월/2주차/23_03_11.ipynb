{
 "cells": [
  {
   "cell_type": "code",
   "execution_count": 15,
   "metadata": {},
   "outputs": [
    {
     "name": "stdout",
     "output_type": "stream",
     "text": [
      "10 9 1 2 3 4 5 6 7 8\n"
     ]
    }
   ],
   "source": [
    "# 소트 1083\n",
    "n = int(input())\n",
    "l = list(map(int, input().split()))\n",
    "x = sorted(l, reverse = True)\n",
    "s = int(input())\n",
    "cnt = 0\n",
    "while True:\n",
    "    ll = l[cnt : cnt + s + 1]\n",
    "    m = max(ll)\n",
    "    l.remove(m)\n",
    "    l.insert(cnt, m)\n",
    "    cnt += 1\n",
    "    s -= ll.index(m)\n",
    "    if s == 0 or l == x:\n",
    "        break\n",
    "print(*l)"
   ]
  },
  {
   "cell_type": "code",
   "execution_count": null,
   "metadata": {},
   "outputs": [],
   "source": []
  }
 ],
 "metadata": {
  "kernelspec": {
   "display_name": "base",
   "language": "python",
   "name": "python3"
  },
  "language_info": {
   "codemirror_mode": {
    "name": "ipython",
    "version": 3
   },
   "file_extension": ".py",
   "mimetype": "text/x-python",
   "name": "python",
   "nbconvert_exporter": "python",
   "pygments_lexer": "ipython3",
   "version": "3.9.12"
  },
  "orig_nbformat": 4
 },
 "nbformat": 4,
 "nbformat_minor": 2
}

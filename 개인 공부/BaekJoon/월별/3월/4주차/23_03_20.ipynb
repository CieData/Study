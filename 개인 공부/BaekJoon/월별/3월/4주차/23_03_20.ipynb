{
 "cells": [
  {
   "cell_type": "code",
   "execution_count": 3,
   "metadata": {},
   "outputs": [
    {
     "name": "stdout",
     "output_type": "stream",
     "text": [
      "0\n"
     ]
    }
   ],
   "source": [
    "# 초콜릿 자르기 2163\n",
    "n, m = map(int, input().split())\n",
    "print(n - 1 + (m - 1) * n)"
   ]
  },
  {
   "cell_type": "code",
   "execution_count": 12,
   "metadata": {},
   "outputs": [
    {
     "name": "stdout",
     "output_type": "stream",
     "text": [
      "18\n"
     ]
    }
   ],
   "source": [
    "# 카드 구매하기 11052\n",
    "n = int(input())\n",
    "l = [0] + list(map(int, input().split()))\n",
    "dp = [0] * (n + 1)\n",
    "for i in range(1, n + 1):\n",
    "    for j in range(1, i + 1):\n",
    "        dp[i] = max(dp[i], dp[i - j] + l[j])\n",
    "print(dp[n])"
   ]
  },
  {
   "cell_type": "code",
   "execution_count": null,
   "metadata": {},
   "outputs": [],
   "source": []
  }
 ],
 "metadata": {
  "kernelspec": {
   "display_name": "base",
   "language": "python",
   "name": "python3"
  },
  "language_info": {
   "codemirror_mode": {
    "name": "ipython",
    "version": 3
   },
   "file_extension": ".py",
   "mimetype": "text/x-python",
   "name": "python",
   "nbconvert_exporter": "python",
   "pygments_lexer": "ipython3",
   "version": "3.9.12"
  },
  "orig_nbformat": 4
 },
 "nbformat": 4,
 "nbformat_minor": 2
}

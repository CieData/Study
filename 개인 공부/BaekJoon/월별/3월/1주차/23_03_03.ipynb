{
 "cells": [
  {
   "cell_type": "code",
   "execution_count": 112,
   "metadata": {},
   "outputs": [
    {
     "name": "stdout",
     "output_type": "stream",
     "text": [
      "0 1 2 3 4 5 6 7 8 9\n"
     ]
    }
   ],
   "source": [
    "# 수열의 합 1024\n",
    "def s(n):\n",
    "    return n * (n - 1) // 2\n",
    "n, l = map(int, input().split())\n",
    "c = 0\n",
    "for i in range(l, 101):\n",
    "    y = n - s(i)\n",
    "    if y // i == y / i and y >= 0:\n",
    "        c += 1\n",
    "        break\n",
    "\n",
    "if c == 0:\n",
    "    print(-1)\n",
    "else:\n",
    "    ll = [k for k in range(y//i , y//i + i)]\n",
    "    print(*ll)"
   ]
  },
  {
   "cell_type": "code",
   "execution_count": null,
   "metadata": {},
   "outputs": [],
   "source": []
  }
 ],
 "metadata": {
  "kernelspec": {
   "display_name": "base",
   "language": "python",
   "name": "python3"
  },
  "language_info": {
   "codemirror_mode": {
    "name": "ipython",
    "version": 3
   },
   "file_extension": ".py",
   "mimetype": "text/x-python",
   "name": "python",
   "nbconvert_exporter": "python",
   "pygments_lexer": "ipython3",
   "version": "3.9.12"
  },
  "orig_nbformat": 4
 },
 "nbformat": 4,
 "nbformat_minor": 2
}

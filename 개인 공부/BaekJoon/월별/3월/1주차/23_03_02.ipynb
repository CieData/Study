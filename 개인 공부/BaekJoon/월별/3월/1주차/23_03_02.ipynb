{
 "cells": [
  {
   "cell_type": "code",
   "execution_count": 16,
   "metadata": {},
   "outputs": [
    {
     "name": "stdout",
     "output_type": "stream",
     "text": [
      "1\n"
     ]
    }
   ],
   "source": [
    "# 제곱 ㄴㄴ 수 1016\n",
    "n, m = map(int, input().split())\n",
    "cnt = m - n + 1\n",
    "l = [0] * (m - n + 1)\n",
    "for i in range(2, int(m ** .5) + 1):\n",
    "    db = i ** 2\n",
    "    for j in range(((n - 1) // db + 1) * db , m + 1, db):\n",
    "        if l[j - n] == 0:\n",
    "            l[j - n] = 1\n",
    "            cnt -= 1 \n",
    "print(cnt)"
   ]
  },
  {
   "cell_type": "code",
   "execution_count": 18,
   "metadata": {},
   "outputs": [
    {
     "name": "stdout",
     "output_type": "stream",
     "text": [
      "55\n"
     ]
    }
   ],
   "source": [
    "# 피보나치 수 2747\n",
    "n = int(input())\n",
    "fib = [0, 1, 1]\n",
    "for i in range(n):\n",
    "    fib.append(fib[-1] + fib[-2])\n",
    "print(fib[n])"
   ]
  }
 ],
 "metadata": {
  "kernelspec": {
   "display_name": "base",
   "language": "python",
   "name": "python3"
  },
  "language_info": {
   "codemirror_mode": {
    "name": "ipython",
    "version": 3
   },
   "file_extension": ".py",
   "mimetype": "text/x-python",
   "name": "python",
   "nbconvert_exporter": "python",
   "pygments_lexer": "ipython3",
   "version": "3.9.12"
  },
  "orig_nbformat": 4,
  "vscode": {
   "interpreter": {
    "hash": "7f368c48a586e931bd654761381ef86d5d2c1d8e94773dbceeccd45cd5f51e02"
   }
  }
 },
 "nbformat": 4,
 "nbformat_minor": 2
}

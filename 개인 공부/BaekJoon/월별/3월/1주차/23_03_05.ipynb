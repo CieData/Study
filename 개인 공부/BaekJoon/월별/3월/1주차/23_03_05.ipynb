{
 "cells": [
  {
   "cell_type": "code",
   "execution_count": 9,
   "metadata": {},
   "outputs": [
    {
     "name": "stdout",
     "output_type": "stream",
     "text": [
      "0.0\n"
     ]
    }
   ],
   "source": [
    "# 너의 평점은 25206\n",
    "score = 0\n",
    "cnt = 0\n",
    "l = ['A+', 'A0', 'B+', 'B0', 'C+', \n",
    "     'C0', 'D+', 'D0']\n",
    "while True:\n",
    "    try:\n",
    "        s = input().split()\n",
    "        x = int(s[1][:1])\n",
    "        if s[2] not in l:\n",
    "            if s[2] == 'F':\n",
    "                cnt += x\n",
    "        else:\n",
    "            cnt += x\n",
    "            score += x * (9 - l.index(s[2])) * .5\n",
    "    except:\n",
    "        break\n",
    "print(score/cnt)"
   ]
  },
  {
   "cell_type": "code",
   "execution_count": 13,
   "metadata": {},
   "outputs": [
    {
     "name": "stdout",
     "output_type": "stream",
     "text": [
      "factor\n",
      "multiple\n",
      "neither\n"
     ]
    }
   ],
   "source": [
    "# 배수와 약수 5086\n",
    "while True:\n",
    "    a, b = map(int, input().split())\n",
    "    if sum([a, b]) == 0:\n",
    "        break\n",
    "    if a % b == 0:\n",
    "        print('multiple')\n",
    "    elif b % a == 0:\n",
    "        print('factor')\n",
    "    else:\n",
    "        print('neither')"
   ]
  },
  {
   "cell_type": "code",
   "execution_count": 25,
   "metadata": {},
   "outputs": [
    {
     "name": "stdout",
     "output_type": "stream",
     "text": [
      "6 = 1 + 2 + 3\n",
      "12 is NOT perfect.\n",
      "28 = 1 + 2 + 4 + 7 + 14\n"
     ]
    }
   ],
   "source": [
    "# 약수들의 합 9506\n",
    "while True:\n",
    "    n = int(input())\n",
    "    if n == -1:\n",
    "        break\n",
    "    s = '1'\n",
    "    tot = 1\n",
    "    for i in range(2, n // 2 + 1):\n",
    "        if n % i == 0:\n",
    "            tot += i\n",
    "            s += f' + {i}'\n",
    "    if n == tot:\n",
    "        print(f'{n} = {s}')\n",
    "    else:\n",
    "        print(f'{n} is NOT perfect.')"
   ]
  },
  {
   "cell_type": "code",
   "execution_count": 27,
   "metadata": {},
   "outputs": [
    {
     "name": "stdout",
     "output_type": "stream",
     "text": [
      "1\n",
      "0\n"
     ]
    }
   ],
   "source": [
    "# 알고리즘 수업 - 알고리즘의 수행 시간 1 24262\n",
    "n = int(input())\n",
    "print(1)\n",
    "print(0)"
   ]
  },
  {
   "cell_type": "code",
   "execution_count": 28,
   "metadata": {},
   "outputs": [
    {
     "name": "stdout",
     "output_type": "stream",
     "text": [
      "7\n",
      "1\n"
     ]
    }
   ],
   "source": [
    "# 알고리즘 수업 - 알고리즘의 수행 시간 2 24263\n",
    "n = int(input())\n",
    "print(n)\n",
    "print(1)"
   ]
  },
  {
   "cell_type": "code",
   "execution_count": 29,
   "metadata": {},
   "outputs": [
    {
     "name": "stdout",
     "output_type": "stream",
     "text": [
      "49\n",
      "2\n"
     ]
    }
   ],
   "source": [
    "# 알고리즘 수업 - 알고리즘의 수행 시간 3 24264\n",
    "n = int(input())\n",
    "print(n ** 2)\n",
    "print(2)"
   ]
  },
  {
   "cell_type": "code",
   "execution_count": 31,
   "metadata": {},
   "outputs": [
    {
     "name": "stdout",
     "output_type": "stream",
     "text": [
      "21\n",
      "2\n"
     ]
    }
   ],
   "source": [
    "# 알고리즘 수업 - 알고리즘의 수행 시간 4 24265\n",
    "n = int(input())\n",
    "print(n * (n - 1) // 2)\n",
    "print(2)"
   ]
  },
  {
   "cell_type": "code",
   "execution_count": 32,
   "metadata": {},
   "outputs": [
    {
     "name": "stdout",
     "output_type": "stream",
     "text": [
      "343\n",
      "3\n"
     ]
    }
   ],
   "source": [
    "# 알고리즘 수업 - 알고리즘의 수행 시간 5 24266\n",
    "n = int(input())\n",
    "print(n ** 3)\n",
    "print(3)"
   ]
  },
  {
   "cell_type": "code",
   "execution_count": 60,
   "metadata": {},
   "outputs": [
    {
     "name": "stdout",
     "output_type": "stream",
     "text": [
      "56\n",
      "3\n"
     ]
    }
   ],
   "source": [
    "# 알고리즘 수업 - 알고리즘의 수행 시간 6 24267\n",
    "n = int(input())\n",
    "print(n * (n - 1) * (n - 2) // 6)\n",
    "print(3)"
   ]
  },
  {
   "cell_type": "code",
   "execution_count": 72,
   "metadata": {},
   "outputs": [
    {
     "name": "stdout",
     "output_type": "stream",
     "text": [
      "0\n"
     ]
    }
   ],
   "source": [
    "# 알고리즘 수업 - 점근적 표기 1 24313\n",
    "a1, a0 = map(int, input().split())\n",
    "c = int(input())\n",
    "n0 = int(input())\n",
    "if (c - a1) * n0 >= a0 and (c - a1) * (n0 + 100) >= a0:\n",
    "    print(1)\n",
    "else:\n",
    "    print(0)"
   ]
  },
  {
   "cell_type": "code",
   "execution_count": 20,
   "metadata": {},
   "outputs": [
    {
     "name": "stdout",
     "output_type": "stream",
     "text": [
      "2\n"
     ]
    }
   ],
   "source": [
    "# 조합 0의 개수 2004\n",
    "def cnt(x, y):\n",
    "    cnt2 = 0\n",
    "    cnt5 = 0\n",
    "    for i in range(1, 32):\n",
    "        cnt2 += x // (2 ** i)\n",
    "        cnt2 -= y // (2 ** i)\n",
    "        cnt2 -= (x - y) // (2 ** i)\n",
    "        \n",
    "        cnt5 += x // (5 ** i)\n",
    "        cnt5 -= y // (5 ** i)\n",
    "        cnt5 -= (x - y) // (5 ** i)\n",
    "    return min(cnt2, cnt5)\n",
    "\n",
    "n, m = map(int, input().split())\n",
    "print(cnt(n, m))"
   ]
  }
 ],
 "metadata": {
  "kernelspec": {
   "display_name": "base",
   "language": "python",
   "name": "python3"
  },
  "language_info": {
   "codemirror_mode": {
    "name": "ipython",
    "version": 3
   },
   "file_extension": ".py",
   "mimetype": "text/x-python",
   "name": "python",
   "nbconvert_exporter": "python",
   "pygments_lexer": "ipython3",
   "version": "3.9.12"
  },
  "orig_nbformat": 4
 },
 "nbformat": 4,
 "nbformat_minor": 2
}

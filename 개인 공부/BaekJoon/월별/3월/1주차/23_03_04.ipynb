{
 "cells": [
  {
   "cell_type": "code",
   "execution_count": 7,
   "metadata": {},
   "outputs": [
    {
     "name": "stdout",
     "output_type": "stream",
     "text": [
      "1 2 1 1 0\n"
     ]
    }
   ],
   "source": [
    "# 공 넣기 10810\n",
    "n, m = map(int, input().split())\n",
    "l = [0] * (n + 1)\n",
    "\n",
    "for _ in range(m):\n",
    "    i, j, k = map(int, input().split())\n",
    "    l[i : j + 1] = [k] * (j - i + 1)\n",
    "\n",
    "print(*l[1:])"
   ]
  },
  {
   "cell_type": "code",
   "execution_count": 13,
   "metadata": {},
   "outputs": [
    {
     "name": "stdout",
     "output_type": "stream",
     "text": [
      "3 4 1 2 5\n"
     ]
    }
   ],
   "source": [
    "# 바구니 뒤집기 10811\n",
    "n, m = map(int, input().split())\n",
    "l = [i for i in range(n+1)]\n",
    "for _ in range(m):\n",
    "    i, j = map(int, input().split())\n",
    "    l[i : j + 1] = l[i : j + 1][::-1]\n",
    "print(*l[1:])"
   ]
  },
  {
   "cell_type": "code",
   "execution_count": 16,
   "metadata": {},
   "outputs": [
    {
     "name": "stdout",
     "output_type": "stream",
     "text": [
      "1 4 6 2 3 7 10 5 8 9\n"
     ]
    }
   ],
   "source": [
    "# 바구니 순서 바꾸기 10812\n",
    "n, m = map(int, input().split())\n",
    "l = [i for i in range(n+1)]\n",
    "for _ in range(m):\n",
    "    i, j, k = map(int, input().split())\n",
    "    l[i : j + 1] = l[k : j + 1] + l[i : k]\n",
    "print(*l[1:])"
   ]
  },
  {
   "cell_type": "code",
   "execution_count": null,
   "metadata": {},
   "outputs": [],
   "source": [
    "# 윷놀이 2490\n",
    "while True:\n",
    "    try:\n",
    "        l = list(map(int, input().split()))\n",
    "        x = sum(l)\n",
    "        if x == 0:\n",
    "            print('D')\n",
    "        elif x == 1:\n",
    "            print('C')\n",
    "        elif x == 2:\n",
    "            print('B')\n",
    "        elif x == 3:\n",
    "            print('A')\n",
    "        else:\n",
    "            print('E')\n",
    "    except:\n",
    "        break"
   ]
  },
  {
   "cell_type": "code",
   "execution_count": 59,
   "metadata": {},
   "outputs": [
    {
     "name": "stdout",
     "output_type": "stream",
     "text": [
      "30050\n"
     ]
    }
   ],
   "source": [
    "# 운동 1173\n",
    "N, m, M, T, R = map(int, input().split())\n",
    "if m + T > M:\n",
    "    print(-1)\n",
    "else:\n",
    "    time = 0\n",
    "    x = m\n",
    "    while N != 0:\n",
    "        time += 1\n",
    "        if x + T <= M:\n",
    "            x += T\n",
    "            N -= 1\n",
    "        else:\n",
    "            x = max(m, x - R)\n",
    "    print(time)"
   ]
  }
 ],
 "metadata": {
  "kernelspec": {
   "display_name": "base",
   "language": "python",
   "name": "python3"
  },
  "language_info": {
   "codemirror_mode": {
    "name": "ipython",
    "version": 3
   },
   "file_extension": ".py",
   "mimetype": "text/x-python",
   "name": "python",
   "nbconvert_exporter": "python",
   "pygments_lexer": "ipython3",
   "version": "3.9.12"
  },
  "orig_nbformat": 4
 },
 "nbformat": 4,
 "nbformat_minor": 2
}

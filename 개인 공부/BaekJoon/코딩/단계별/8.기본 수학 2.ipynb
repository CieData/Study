{
 "cells": [
  {
   "cell_type": "markdown",
   "metadata": {},
   "source": [
    "1번"
   ]
  },
  {
   "cell_type": "code",
   "execution_count": 67,
   "metadata": {
    "scrolled": true
   },
   "outputs": [
    {
     "name": "stdout",
     "output_type": "stream",
     "text": [
      "4\n",
      "1 3 5 7\n",
      "3\n"
     ]
    }
   ],
   "source": [
    "a = int(input())\n",
    "b = list(map(int, input().split()))\n",
    "d=0\n",
    "for j in range(0,len(b)):\n",
    "    c=0\n",
    "    if b[j]==1:\n",
    "        pass\n",
    "    else:\n",
    "        for i in range(2, b[j]):\n",
    "            if b[j]%i==0:\n",
    "                c+=1\n",
    "                \n",
    "            else:\n",
    "                pass\n",
    "        if c==0:\n",
    "            d+=1\n",
    "print(d)"
   ]
  },
  {
   "cell_type": "markdown",
   "metadata": {},
   "source": [
    "2번"
   ]
  },
  {
   "cell_type": "code",
   "execution_count": 1,
   "metadata": {},
   "outputs": [
    {
     "name": "stdout",
     "output_type": "stream",
     "text": [
      "1\n",
      "6\n",
      "10\n",
      "2\n"
     ]
    }
   ],
   "source": [
    "a = int(input())\n",
    "b = int(input())\n",
    "c=list(range(a,b+1))\n",
    "if 1 in c:\n",
    "    c.remove(1)\n",
    "for j in range(a,b+1):\n",
    "    if j==1:\n",
    "        pass\n",
    "    else:\n",
    "        for i in range(2, b):\n",
    "            if j==i:\n",
    "                pass\n",
    "            elif j%i==0:\n",
    "                c.remove(j)\n",
    "                break\n",
    "if c==[]:\n",
    "    print(-1)\n",
    "else:\n",
    "    print(sum(c))\n",
    "    print(min(c))"
   ]
  },
  {
   "cell_type": "markdown",
   "metadata": {},
   "source": [
    "3번"
   ]
  },
  {
   "cell_type": "code",
   "execution_count": 127,
   "metadata": {},
   "outputs": [
    {
     "name": "stdout",
     "output_type": "stream",
     "text": [
      "3\n",
      "3\n"
     ]
    }
   ],
   "source": [
    "a = int(input())\n",
    "i=2\n",
    "for j in range(2,a+1):\n",
    "    \n",
    "    if a==1:\n",
    "        break\n",
    "    elif a%i==0:\n",
    "        a= a/i\n",
    "        print(i)\n",
    "    else:\n",
    "        i=i+1"
   ]
  },
  {
   "cell_type": "markdown",
   "metadata": {},
   "source": [
    "4번"
   ]
  },
  {
   "cell_type": "code",
   "execution_count": 15,
   "metadata": {},
   "outputs": [
    {
     "name": "stdout",
     "output_type": "stream",
     "text": [
      "1 16\n",
      "2\n",
      "3\n",
      "5\n",
      "7\n",
      "11\n",
      "13\n"
     ]
    }
   ],
   "source": [
    "import math\n",
    "a,b = map(int, input().split())\n",
    "if a==1:\n",
    "    a = a+1\n",
    "for j in range(a,b+1):\n",
    "    d = int(math.sqrt(j))\n",
    "    c=0\n",
    "    for i in range(2, d+1):\n",
    "        if j%i==0:\n",
    "            c+=1\n",
    "            break\n",
    "    if c==0:\n",
    "        print(j)"
   ]
  },
  {
   "cell_type": "markdown",
   "metadata": {},
   "source": [
    "5번"
   ]
  },
  {
   "cell_type": "code",
   "execution_count": 43,
   "metadata": {},
   "outputs": [
    {
     "name": "stdout",
     "output_type": "stream",
     "text": [
      "1\n",
      "1\n",
      "10\n",
      "4\n",
      "13\n",
      "3\n",
      "0\n"
     ]
    }
   ],
   "source": [
    "#구하긴 하는데 느림\n",
    "a = int(input())\n",
    "while a!=0:\n",
    "    \n",
    "    l=[]\n",
    "    if a==0 :\n",
    "        break\n",
    "    for j in range(a+1,a*2+1):\n",
    "        d = int(math.sqrt(j))\n",
    "        c=0\n",
    "        for i in range(2, d+1):\n",
    "            if j%i==0:\n",
    "                c+=1\n",
    "                break\n",
    "        if c==0:\n",
    "            l.append(j)\n",
    "    print(len(l))\n",
    "    a = int(input())"
   ]
  },
  {
   "cell_type": "markdown",
   "metadata": {},
   "source": [
    "# 답\n",
    "import math\n",
    "\n",
    "def isPrime(n):\n",
    "    if n == 1:\n",
    "        return False \n",
    "    else:\n",
    "        for i in range(2, int(math.sqrt(n))+1):\n",
    "            if n % i == 0:\n",
    "                return False\n",
    "        return True\n",
    "\n",
    "all_list = list(range(2, 246912))\n",
    "prime_list = [] \n",
    "for i in all_list:\n",
    "    if isPrime(i):\n",
    "        prime_list.append(i)\n",
    "\n",
    "n = int(input())\n",
    "\n",
    "while n != 0:\n",
    "    count = 0 \n",
    "    for i in prime_list:\n",
    "        if n < i <= n*2:\n",
    "            count +=1\n",
    "    print(count)\n",
    "    n = int(input())"
   ]
  },
  {
   "cell_type": "markdown",
   "metadata": {},
   "source": [
    "6번"
   ]
  },
  {
   "cell_type": "code",
   "execution_count": 1,
   "metadata": {},
   "outputs": [
    {
     "name": "stdout",
     "output_type": "stream",
     "text": [
      "3\n",
      "8\n",
      "3 5\n",
      "10\n",
      "5 5\n",
      "16\n",
      "5 11\n"
     ]
    }
   ],
   "source": [
    "import math\n",
    "\n",
    "def p(x):\n",
    "    if x==1:\n",
    "        return False\n",
    "    else:\n",
    "        for i in range(2, int(math.sqrt(x))+1):\n",
    "            if x%i==0:\n",
    "                return False\n",
    "        return True\n",
    "    \n",
    "prime_num=[]\n",
    "total_range=list(range(2,10001))\n",
    "\n",
    "for i in total_range:\n",
    "    if p(i):\n",
    "        prime_num.append(i)\n",
    "\n",
    "\n",
    "a = int(input())\n",
    "for i in range(a):\n",
    "    part=[]\n",
    "    b=int(input())\n",
    "    if b/2 in prime_num:\n",
    "        print(int(b/2), int(b/2))\n",
    "    else:    \n",
    "        for j in range(1229):\n",
    "            if b-prime_num[j] in prime_num:\n",
    "                part.append((prime_num[j]*2-b))\n",
    "        part = sorted(part, key=abs)\n",
    "        print(int((b+part[0])/2),int((b-part[0])/2))"
   ]
  },
  {
   "cell_type": "code",
   "execution_count": null,
   "metadata": {},
   "outputs": [],
   "source": []
  }
 ],
 "metadata": {
  "kernelspec": {
   "display_name": "Python 3 (ipykernel)",
   "language": "python",
   "name": "python3"
  },
  "language_info": {
   "codemirror_mode": {
    "name": "ipython",
    "version": 3
   },
   "file_extension": ".py",
   "mimetype": "text/x-python",
   "name": "python",
   "nbconvert_exporter": "python",
   "pygments_lexer": "ipython3",
   "version": "3.9.12"
  }
 },
 "nbformat": 4,
 "nbformat_minor": 4
}

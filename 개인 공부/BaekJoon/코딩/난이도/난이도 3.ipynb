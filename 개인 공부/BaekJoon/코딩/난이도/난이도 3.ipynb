{
 "cells": [
  {
   "cell_type": "markdown",
   "id": "02c46d2d",
   "metadata": {},
   "source": [
    "1. 약수 브1(1037)"
   ]
  },
  {
   "cell_type": "code",
   "execution_count": 7,
   "id": "3bd1472d",
   "metadata": {
    "scrolled": true
   },
   "outputs": [
    {
     "name": "stdout",
     "output_type": "stream",
     "text": [
      "14\n",
      "14 26456 2 28 13228 3307 7 23149 8 6614 46298 56 4 92596\n",
      "185192\n"
     ]
    }
   ],
   "source": [
    "a= int(input())\n",
    "b =list(map(int,input().split()))\n",
    "b.sort()\n",
    "if a%2==1:\n",
    "    print(b[(a-1)//2]**2)\n",
    "elif a%2==0:\n",
    "    print(b[0]*b[-1])"
   ]
  },
  {
   "cell_type": "markdown",
   "id": "bd61b1f2",
   "metadata": {},
   "source": [
    "2. 직사각형에서 탈출 브3(1085)"
   ]
  },
  {
   "cell_type": "code",
   "execution_count": 9,
   "id": "474a249d",
   "metadata": {},
   "outputs": [
    {
     "name": "stdout",
     "output_type": "stream",
     "text": [
      "6 2 10 3\n",
      "1\n"
     ]
    }
   ],
   "source": [
    "x,y,w,h = map(int, input().split()) \n",
    "print(min(x,w-x,y,h-y))"
   ]
  },
  {
   "cell_type": "markdown",
   "id": "4e56537b",
   "metadata": {},
   "source": [
    "3. 부호 브3(1247)"
   ]
  },
  {
   "cell_type": "code",
   "execution_count": 10,
   "id": "9eab2df5",
   "metadata": {
    "collapsed": true
   },
   "outputs": [
    {
     "name": "stdout",
     "output_type": "stream",
     "text": [
      "3\n",
      "0\n",
      "0\n",
      "0\n",
      "0\n",
      "10\n",
      "1\n",
      "2\n",
      "4\n",
      "8\n",
      "16\n",
      "32\n",
      "64\n",
      "128\n",
      "256\n",
      "-512\n",
      "-\n",
      "6\n",
      "9223372036854775807\n",
      "9223372036854775806\n",
      "9223372036854775805\n",
      "-9223372036854775807\n",
      "-9223372036854775806\n",
      "-9223372036854775804\n",
      "+\n"
     ]
    }
   ],
   "source": [
    "import sys\n",
    "input=sys.stdin.readline\n",
    "\n",
    "for i in range(3):\n",
    "    a=int(input())\n",
    "    c=[]\n",
    "    for j in range(a):\n",
    "        b=int(input())\n",
    "        c.append(b)\n",
    "    if sum(c)==0:\n",
    "        print(0)\n",
    "    elif sum(c)>0:\n",
    "        print('+')\n",
    "    else:\n",
    "        print('-')"
   ]
  },
  {
   "cell_type": "markdown",
   "id": "6fa773e0",
   "metadata": {},
   "source": [
    "4. 카드1 실5(2161)"
   ]
  },
  {
   "cell_type": "code",
   "execution_count": 35,
   "id": "8970ba88",
   "metadata": {},
   "outputs": [
    {
     "name": "stdout",
     "output_type": "stream",
     "text": [
      "7\n",
      "1 3 5 7 4 2 6 "
     ]
    }
   ],
   "source": [
    "a=int(input())\n",
    "b=list(range(1,a+1))\n",
    "b=b[::-1]\n",
    "c=[]\n",
    "while len(b)!=1:\n",
    "    c.append(b.pop())\n",
    "    b.insert(0,b.pop())\n",
    "c.append(b[0])\n",
    "for i in c:\n",
    "    print(i,end=' ')"
   ]
  },
  {
   "cell_type": "markdown",
   "id": "648c9508",
   "metadata": {},
   "source": [
    "5. 분해합 브2(2231)"
   ]
  },
  {
   "cell_type": "code",
   "execution_count": 36,
   "id": "3769bb20",
   "metadata": {},
   "outputs": [
    {
     "name": "stdout",
     "output_type": "stream",
     "text": [
      "216\n",
      "198\n"
     ]
    }
   ],
   "source": [
    "def d(n):\n",
    "    a = n + n%10 + n%100//10 + n%1000//100 + n%10000//1000 +n%100000//10000+n%1000000//100000\n",
    "    return a\n",
    "a = int(input())\n",
    "b=[]\n",
    "for i in range(1,a):\n",
    "    b.append(d(i))\n",
    "if a in b:\n",
    "    print(b.index(a)+1)\n",
    "elif a not in b:\n",
    "    print(0)"
   ]
  },
  {
   "cell_type": "markdown",
   "id": "8ea91155",
   "metadata": {},
   "source": [
    "6. 경고 브3(3029)?????"
   ]
  },
  {
   "cell_type": "code",
   "execution_count": 2,
   "id": "dad32c25",
   "metadata": {},
   "outputs": [
    {
     "name": "stdout",
     "output_type": "stream",
     "text": [
      "12:34:56\n",
      "14:36:22\n",
      "02:01:26\n"
     ]
    }
   ],
   "source": [
    "a=list(map(int, input().split(':')))\n",
    "b=list(map(int, input().split(':')))\n",
    "c=[]\n",
    "if b[2]<a[2]:\n",
    "    b[2]+=60\n",
    "    b[1]-=1\n",
    "    \n",
    "if b[1]<a[1]:\n",
    "    b[1]+=60\n",
    "    b[0]-=1\n",
    "\n",
    "if b[0]<a[0]:\n",
    "    b[0]+=24\n",
    "\n",
    "for i in range(3):\n",
    "    if b[i]-a[i]<10:\n",
    "        c.append('0'+str(b[i]-a[i]))\n",
    "    else:\n",
    "        c.append(str(b[i]-a[i]))\n",
    "print(':'.join(c))"
   ]
  },
  {
   "cell_type": "code",
   "execution_count": 5,
   "id": "2d10e3ac",
   "metadata": {},
   "outputs": [],
   "source": [
    "f='02:01:26'"
   ]
  },
  {
   "cell_type": "code",
   "execution_count": 7,
   "id": "b3e32646",
   "metadata": {},
   "outputs": [
    {
     "name": "stdout",
     "output_type": "stream",
     "text": [
      "02:01:26\n",
      "02:01:26\n"
     ]
    },
    {
     "data": {
      "text/plain": [
       "True"
      ]
     },
     "execution_count": 7,
     "metadata": {},
     "output_type": "execute_result"
    }
   ],
   "source": [
    "print(':'.join(c))==print(f)"
   ]
  },
  {
   "cell_type": "markdown",
   "id": "6b7b7c7f",
   "metadata": {},
   "source": [
    "7. 거울상 브2(4583)"
   ]
  },
  {
   "cell_type": "code",
   "execution_count": 162,
   "id": "ae062510",
   "metadata": {},
   "outputs": [
    {
     "name": "stdout",
     "output_type": "stream",
     "text": [
      "boowxod\n",
      "boxwood\n",
      "bidi\n",
      "ibid\n",
      "bbb\n",
      "ddd\n",
      "#\n"
     ]
    }
   ],
   "source": [
    "d=['b','d','p','q']\n",
    "e=['i','o','v','w','x']\n",
    "\n",
    "while True:\n",
    "    a=str(input())\n",
    "    b=[]\n",
    "    c=0\n",
    "    for i in range(1,len(a)+1):\n",
    "        b.append(a[-i])\n",
    "    if b[0]=='#':\n",
    "        break\n",
    "    else:\n",
    "        for i in range(len(a)):\n",
    "            if b[i] not in d and b[i] not in e:\n",
    "                c+=1\n",
    "            elif b[i] in b:\n",
    "                if b[i]=='b':\n",
    "                    b[i]='d'\n",
    "                elif b[i]=='d':\n",
    "                    b[i]='b'\n",
    "                elif b[i]=='p':\n",
    "                    b[i]='q'\n",
    "                elif b[i]=='q':\n",
    "                    b[i]='p'\n",
    "    if c==0:\n",
    "        print(''.join(b))\n",
    "    else:\n",
    "        print('INVALID')\n",
    "    "
   ]
  },
  {
   "cell_type": "markdown",
   "id": "04980f20",
   "metadata": {},
   "source": [
    "8. 카드 게임 브5(5522)"
   ]
  },
  {
   "cell_type": "code",
   "execution_count": 164,
   "id": "56fb4488",
   "metadata": {},
   "outputs": [
    {
     "name": "stdout",
     "output_type": "stream",
     "text": [
      "0\n",
      "100\n",
      "0\n",
      "10\n",
      "100\n",
      "210\n"
     ]
    }
   ],
   "source": [
    "b=[]\n",
    "for i in range(5):\n",
    "    a=int(input())\n",
    "    b.append(a)\n",
    "print(sum(b))"
   ]
  },
  {
   "cell_type": "markdown",
   "id": "35030c9a",
   "metadata": {},
   "source": [
    "9. 애너그램 브1(6996)"
   ]
  },
  {
   "cell_type": "code",
   "execution_count": 172,
   "id": "2d8f926a",
   "metadata": {},
   "outputs": [
    {
     "name": "stdout",
     "output_type": "stream",
     "text": [
      "3\n",
      "blather reblath\n",
      "blather & reblath are anagrams.\n",
      "maryland landam\n",
      "maryland & landam are NOT anagrams.\n",
      "bizarre brazier\n",
      "bizarre & brazier are anagrams.\n"
     ]
    }
   ],
   "source": [
    "a=int(input())\n",
    "for i in range(a):\n",
    "    b_list=[]\n",
    "    c_list=[]\n",
    "    b,c=map(str,input().split())\n",
    "    if len(b)!=len(c):\n",
    "        print(b,'&',c,'are NOT anagrams.')\n",
    "    else:\n",
    "        for j in range(len(b)):\n",
    "            b_list.append(b[j])\n",
    "            c_list.append(c[j])\n",
    "        b_list.sort()\n",
    "        c_list.sort()\n",
    "        if b_list==c_list:\n",
    "            print(b,'&',c,'are anagrams.')\n",
    "        else:\n",
    "            print(b,'&',c,'are NOT anagrams.')"
   ]
  },
  {
   "cell_type": "markdown",
   "id": "061708aa",
   "metadata": {},
   "source": [
    "10. 공 바꾸기 브2(10813)"
   ]
  },
  {
   "cell_type": "code",
   "execution_count": 204,
   "id": "794ac2d9",
   "metadata": {},
   "outputs": [
    {
     "name": "stdout",
     "output_type": "stream",
     "text": [
      "5 4\n",
      "1 2\n",
      "3 4\n",
      "1 4\n",
      "2 2\n",
      "3 1 4 2 5 "
     ]
    }
   ],
   "source": [
    "a,b=map(int, input().split())\n",
    "c=list(range(1,a+1))\n",
    "d=list(range(1,a+1))\n",
    "\n",
    "for x in range(b):\n",
    "    i,j=map(int,input().split())\n",
    "    d[i-1]=c[j-1]\n",
    "    d[j-1]=c[i-1]\n",
    "    c=d.copy()\n",
    "for k in range(a):\n",
    "    print(c[k],end=' ')"
   ]
  },
  {
   "cell_type": "markdown",
   "id": "3a51c35d",
   "metadata": {},
   "source": [
    "11. 모음의 개수 브2(10987)"
   ]
  },
  {
   "cell_type": "code",
   "execution_count": 211,
   "id": "2b87e41f",
   "metadata": {},
   "outputs": [
    {
     "name": "stdout",
     "output_type": "stream",
     "text": [
      "aeiou\n",
      "5\n"
     ]
    }
   ],
   "source": [
    "a= str(input())\n",
    "b=0\n",
    "for i in ('a','e','i','o','u'):\n",
    "    b+=a.count(i)\n",
    "print(b)"
   ]
  },
  {
   "cell_type": "markdown",
   "id": "c37da051",
   "metadata": {},
   "source": [
    "12. 단어순서 뒤집기 브1(12605)"
   ]
  },
  {
   "cell_type": "code",
   "execution_count": 215,
   "id": "0ec4d09e",
   "metadata": {},
   "outputs": [
    {
     "name": "stdout",
     "output_type": "stream",
     "text": [
      "3\n",
      "this is a test\n",
      "Case #1: test a is this\n",
      "foobar\n",
      "Case #2: foobar\n",
      "all your base\n",
      "Case #3: base your all\n"
     ]
    }
   ],
   "source": [
    "a= int(input())\n",
    "for i in range(a):\n",
    "    b=list(map(str,input().split()))\n",
    "    b=b[::-1]\n",
    "    print('Case #{}:'.format(i+1),' '.join(b))"
   ]
  },
  {
   "cell_type": "markdown",
   "id": "800cdb77",
   "metadata": {},
   "source": [
    "13. 카우버거 실5(15720) 짧은 코드?"
   ]
  },
  {
   "cell_type": "code",
   "execution_count": 24,
   "id": "87c5aee9",
   "metadata": {},
   "outputs": [
    {
     "name": "stdout",
     "output_type": "stream",
     "text": [
      "3 3 2\n",
      "2000 3000 2500\n",
      "800 1300 1000\n",
      "500 1000\n",
      "12100\n",
      "11170.0\n"
     ]
    }
   ],
   "source": [
    "a,b,c=map(int, input().split())\n",
    "total=[]\n",
    "sale_total=[]\n",
    "\n",
    "burger_list=list(map(int,input().split()))\n",
    "side_list=list(map(int,input().split()))\n",
    "juice_list=list(map(int,input().split()))\n",
    "burger_list.sort()\n",
    "side_list.sort()\n",
    "juice_list.sort()\n",
    "burger_list.reverse()\n",
    "side_list.reverse()\n",
    "juice_list.reverse()\n",
    "\n",
    "total.append(sum(burger_list))\n",
    "total.append(sum(side_list))\n",
    "total.append(sum(juice_list))\n",
    "\n",
    "sale_total.append(sum(burger_list[:min(a,b,c)])*0.9)\n",
    "sale_total.append(sum(side_list[:min(a,b,c)])*0.9)\n",
    "sale_total.append(sum(juice_list[:min(a,b,c)])*0.9)\n",
    "sale_total.append(sum(burger_list[min(a,b,c):]))\n",
    "sale_total.append(sum(side_list[min(a,b,c):]))\n",
    "sale_total.append(sum(juice_list[min(a,b,c):]))\n",
    "             \n",
    "\n",
    "print(sum(total))\n",
    "print(int(sum(sale_total)))"
   ]
  },
  {
   "cell_type": "markdown",
   "id": "b80b2371",
   "metadata": {},
   "source": [
    "14. 수학은 체육과목 입니다 브3(15894)"
   ]
  },
  {
   "cell_type": "code",
   "execution_count": 30,
   "id": "f7440122",
   "metadata": {},
   "outputs": [
    {
     "name": "stdout",
     "output_type": "stream",
     "text": [
      "3\n",
      "12\n"
     ]
    }
   ],
   "source": [
    "a=int(input())\n",
    "print(a*4)"
   ]
  },
  {
   "cell_type": "markdown",
   "id": "f49a7e83",
   "metadata": {},
   "source": [
    "15. 막대기 브2(17608)"
   ]
  },
  {
   "cell_type": "code",
   "execution_count": 23,
   "id": "c8fcb3a9",
   "metadata": {},
   "outputs": [
    {
     "name": "stdout",
     "output_type": "stream",
     "text": [
      "5\n",
      "5\n",
      "4\n",
      "3\n",
      "2\n",
      "1\n",
      "5\n"
     ]
    }
   ],
   "source": [
    "a= int(input())\n",
    "c=[]\n",
    "d=1\n",
    "for i in range(a):\n",
    "    b=int(input())\n",
    "    c.append(b)\n",
    "x=c[-1]\n",
    "for j in range(2,a+1):\n",
    "    if c[-j]>x:\n",
    "        d+=1\n",
    "        x=c[-j]\n",
    "print(d)"
   ]
  },
  {
   "cell_type": "markdown",
   "id": "f97e2565",
   "metadata": {},
   "source": [
    "16. 숫자 카드 브1(21394)"
   ]
  },
  {
   "cell_type": "code",
   "execution_count": 162,
   "id": "d735a7fa",
   "metadata": {
    "scrolled": true
   },
   "outputs": [
    {
     "name": "stdout",
     "output_type": "stream",
     "text": [
      "4\n",
      "0 0 0 0 0 2 1 1 1\n",
      "9 9 7 8 9\n",
      "1 1 1 1 1 1 1 1 1\n",
      "9 8 5 3 1 2 4 7 9\n",
      "1 1 3 0 0 0 0 0 0\n",
      "3 3 1 2 3\n",
      "1 2 2 0 0 0 0 0 0\n",
      "3 2 1 2 3\n"
     ]
    }
   ],
   "source": [
    "a= int(input())\n",
    "for i in range(a):\n",
    "    c=[]\n",
    "    d=[]\n",
    "    b= list(map(int,input().split()))\n",
    "    for j in range(9):\n",
    "        if b[j]==0:\n",
    "            pass\n",
    "        else:\n",
    "            for x in range(b[j]):\n",
    "                if j==5:\n",
    "                    c.append(9)\n",
    "                else:\n",
    "                    c.append(j+1)\n",
    "            c.sort()\n",
    "    if len(c)%2==1:\n",
    "        for k in range(len(c)):\n",
    "            if k%2==1:\n",
    "                d.append(str(c[k]))\n",
    "            elif k%2==0:\n",
    "                d.insert(0,str(c[k]))\n",
    "    elif len(c)%2==0:\n",
    "        for k in range(len(c)):\n",
    "            if k%2==1:\n",
    "                d.insert(0,str(c[k]))\n",
    "            elif k%2==0:\n",
    "                d.append(str(c[k]))\n",
    "    print(' '.join(d))"
   ]
  },
  {
   "cell_type": "markdown",
   "id": "c9db2583",
   "metadata": {},
   "source": [
    "17. 회전 브2(23813)"
   ]
  },
  {
   "cell_type": "code",
   "execution_count": 177,
   "id": "dfb25efc",
   "metadata": {},
   "outputs": [
    {
     "name": "stdout",
     "output_type": "stream",
     "text": [
      "12345\n"
     ]
    },
    {
     "data": {
      "text/plain": [
       "166665"
      ]
     },
     "execution_count": 177,
     "metadata": {},
     "output_type": "execute_result"
    }
   ],
   "source": [
    "a=str(input())\n",
    "b=[]\n",
    "c=[]\n",
    "for i in a:\n",
    "    b.append(i)\n",
    "for j in range(len(b)):\n",
    "    b.insert(0,b.pop())\n",
    "    c.append(int(''.join(b)))\n",
    "print(sum(c))"
   ]
  },
  {
   "cell_type": "markdown",
   "id": "5c894120",
   "metadata": {},
   "source": [
    "18. SASA 모형을 만들어보자 브4(23825)"
   ]
  },
  {
   "cell_type": "code",
   "execution_count": 186,
   "id": "2e00a62d",
   "metadata": {},
   "outputs": [
    {
     "name": "stdout",
     "output_type": "stream",
     "text": [
      "5 4\n",
      "2\n"
     ]
    }
   ],
   "source": [
    "a,b = map(int ,input().split())\n",
    "print(min(a,b)//2)"
   ]
  },
  {
   "cell_type": "markdown",
   "id": "9a9f5c42",
   "metadata": {},
   "source": [
    "19. ZOAC 4 브3(23971)"
   ]
  },
  {
   "cell_type": "code",
   "execution_count": 182,
   "id": "1e4f18ca",
   "metadata": {},
   "outputs": [
    {
     "name": "stdout",
     "output_type": "stream",
     "text": [
      "5 4 1 1\n",
      "6\n"
     ]
    }
   ],
   "source": [
    "import math\n",
    "a,b,c,d=map(int, input().split())\n",
    "print(math.ceil(a/(c+1))*math.ceil(b/(d+1)))"
   ]
  }
 ],
 "metadata": {
  "kernelspec": {
   "display_name": "Python 3 (ipykernel)",
   "language": "python",
   "name": "python3"
  },
  "language_info": {
   "codemirror_mode": {
    "name": "ipython",
    "version": 3
   },
   "file_extension": ".py",
   "mimetype": "text/x-python",
   "name": "python",
   "nbconvert_exporter": "python",
   "pygments_lexer": "ipython3",
   "version": "3.9.12"
  }
 },
 "nbformat": 4,
 "nbformat_minor": 5
}

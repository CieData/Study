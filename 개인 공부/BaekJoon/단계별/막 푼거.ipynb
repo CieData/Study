{
 "cells": [
  {
   "cell_type": "markdown",
   "id": "db7e4dd8",
   "metadata": {},
   "source": [
    "수 정렬하기 브2"
   ]
  },
  {
   "cell_type": "code",
   "execution_count": 2,
   "id": "a58a5ee3",
   "metadata": {},
   "outputs": [
    {
     "name": "stdout",
     "output_type": "stream",
     "text": [
      "5\n",
      "5\n",
      "2\n",
      "3\n",
      "4\n",
      "1\n",
      "1\n",
      "2\n",
      "3\n",
      "4\n",
      "5\n"
     ]
    }
   ],
   "source": [
    "a = int(input())\n",
    "c=[]\n",
    "for i in range(a):\n",
    "    b = int(input())\n",
    "    c.append(b)\n",
    "c = sorted(c)\n",
    "for j in range(len(c)):\n",
    "    print(c[j])"
   ]
  },
  {
   "cell_type": "markdown",
   "id": "71aad3fc",
   "metadata": {},
   "source": [
    "팩토리얼 브5"
   ]
  },
  {
   "cell_type": "code",
   "execution_count": 4,
   "id": "a608f303",
   "metadata": {},
   "outputs": [
    {
     "name": "stdout",
     "output_type": "stream",
     "text": [
      "10\n",
      "3628800\n"
     ]
    }
   ],
   "source": [
    "a = int(input())\n",
    "b=1\n",
    "for i in range(1,a+1):\n",
    "   b=b*i \n",
    "print(b)"
   ]
  },
  {
   "cell_type": "markdown",
   "id": "bb067606",
   "metadata": {},
   "source": [
    "A+B-2 브5"
   ]
  },
  {
   "cell_type": "code",
   "execution_count": 5,
   "id": "bb8dbe2d",
   "metadata": {},
   "outputs": [
    {
     "name": "stdout",
     "output_type": "stream",
     "text": [
      "1\n",
      "2\n",
      "3\n"
     ]
    }
   ],
   "source": [
    "a=int(input())\n",
    "b=int(input())\n",
    "print(a+b)"
   ]
  },
  {
   "cell_type": "markdown",
   "id": "30347ba2",
   "metadata": {},
   "source": [
    "세 수 브3"
   ]
  },
  {
   "cell_type": "code",
   "execution_count": 5,
   "id": "631063f1",
   "metadata": {},
   "outputs": [
    {
     "name": "stdout",
     "output_type": "stream",
     "text": [
      "20 30 10\n",
      "20\n"
     ]
    }
   ],
   "source": [
    "a = list(map(int, input().split()))\n",
    "a = sorted(a)\n",
    "print(a[1])"
   ]
  },
  {
   "cell_type": "markdown",
   "id": "3ae21cfb",
   "metadata": {},
   "source": [
    "스택 실4"
   ]
  },
  {
   "cell_type": "code",
   "execution_count": 6,
   "id": "e91e6705",
   "metadata": {
    "scrolled": true
   },
   "outputs": [
    {
     "name": "stdout",
     "output_type": "stream",
     "text": [
      "1\n",
      "push 3\n"
     ]
    }
   ],
   "source": [
    "a= int(input())\n",
    "c=[]\n",
    "for i in range(a):\n",
    "    b = list(map(str, input().split()))\n",
    "    order = b[0]\n",
    "    \n",
    "    if order=='push':\n",
    "        c.append(b[1])\n",
    "        \n",
    "    elif order=='pop':\n",
    "        if len(c)==0:\n",
    "            print(-1)\n",
    "        else:\n",
    "            print(c.pop())\n",
    "            \n",
    "    elif order=='size':\n",
    "        print(len(c))\n",
    "        \n",
    "    elif order=='empty':\n",
    "        if len(c)==0:\n",
    "            print(1)\n",
    "        else:\n",
    "            print(0)\n",
    "            \n",
    "    elif order=='top':\n",
    "        if len(c)==0:\n",
    "            print(-1)\n",
    "        else:\n",
    "            print(c[-1])"
   ]
  },
  {
   "cell_type": "markdown",
   "id": "18009dc0",
   "metadata": {},
   "source": [
    "별 찍기 -3 브4"
   ]
  },
  {
   "cell_type": "code",
   "execution_count": 14,
   "id": "d26569cd",
   "metadata": {},
   "outputs": [
    {
     "name": "stdout",
     "output_type": "stream",
     "text": [
      "5\n",
      "*****\n",
      "****\n",
      "***\n",
      "**\n",
      "*\n"
     ]
    }
   ],
   "source": [
    "a= int(input())\n",
    "for i in range(a):\n",
    "    print('*'*(a-i))"
   ]
  },
  {
   "cell_type": "markdown",
   "id": "08d6ed11",
   "metadata": {},
   "source": [
    "1로 만들기 실3"
   ]
  },
  {
   "cell_type": "code",
   "execution_count": 18,
   "id": "fd65f69e",
   "metadata": {},
   "outputs": [
    {
     "name": "stdout",
     "output_type": "stream",
     "text": [
      "10\n",
      "3\n"
     ]
    }
   ],
   "source": [
    "a=[0]*1000001\n",
    "a[1]=0\n",
    "a[2]=1\n",
    "a[3]=1\n",
    "n=int(input())\n",
    "for i in range(4,n+1):\n",
    "    if i%2==0 and i%3==0:\n",
    "        a[i]=1+min(a[i-1],a[i//2],a[i//3])\n",
    "    elif i%2==0 and i%3!=0:\n",
    "        a[i]=1+min(a[i-1],a[i//2])\n",
    "    elif i%2!=0 and i%3==0:\n",
    "        a[i]=1+min(a[i-1],a[i//3])\n",
    "    else:\n",
    "        a[i]=1+a[i-1]\n",
    "print(a[n])"
   ]
  },
  {
   "cell_type": "markdown",
   "id": "64e3c26c",
   "metadata": {},
   "source": [
    "캡틴 이다솜 실1(1660)"
   ]
  },
  {
   "cell_type": "code",
   "execution_count": 56,
   "id": "4cf9d890",
   "metadata": {},
   "outputs": [
    {
     "name": "stdout",
     "output_type": "stream",
     "text": [
      "300000\n",
      "3\n"
     ]
    }
   ],
   "source": [
    "c=int(input())\n",
    "b=[1]\n",
    "for i in range(2,c+1):\n",
    "    b.append(b[-1]+i)\n",
    "    if b[-1]>=c//2:\n",
    "        break\n",
    "d=[]\n",
    "for s in range(1,len(b)):\n",
    "    if sum(b[:s])<=c:\n",
    "        d.append(sum(b[:s]))\n",
    "    else:\n",
    "        break\n",
    "\n",
    "\n",
    "\n",
    "a=[100000]*(c+1)\n",
    "for j in d:\n",
    "    a[j]=1\n",
    "for k in range(1,c+1):\n",
    "    for s in d:\n",
    "        a[k]=min(a[k-s]+1,a[k])\n",
    "print(a[c])"
   ]
  },
  {
   "cell_type": "markdown",
   "id": "57f615ec",
   "metadata": {},
   "source": [
    "괄호 실4"
   ]
  },
  {
   "cell_type": "code",
   "execution_count": 56,
   "id": "6a344a83",
   "metadata": {},
   "outputs": [
    {
     "name": "stdout",
     "output_type": "stream",
     "text": [
      "6\n",
      "(())())\n",
      "NO\n",
      "(((()())()\n",
      "NO\n",
      "(()())((()))\n",
      "YES\n",
      "((()()(()))(((())))()\n",
      "NO\n",
      "()()()()(()()())()\n",
      "YES\n",
      "(()((())()(\n",
      "NO\n"
     ]
    }
   ],
   "source": [
    "a = int(input())\n",
    "for i in range(a):\n",
    "    c=0\n",
    "    b = str(input())\n",
    "    for j in range(1,len(b)+1):\n",
    "        if b[0:j].count('(')>=b[0:j].count(')'):\n",
    "            c+=1\n",
    "        else:\n",
    "            pass\n",
    "    if c==len(b) and b.count('(')==b.count(')'):\n",
    "        print('YES')\n",
    "    else:\n",
    "        print('NO')"
   ]
  },
  {
   "cell_type": "markdown",
   "id": "55c4e522",
   "metadata": {},
   "source": [
    "등록 브 5"
   ]
  },
  {
   "cell_type": "code",
   "execution_count": 138,
   "id": "12945ee7",
   "metadata": {},
   "outputs": [
    {
     "name": "stdout",
     "output_type": "stream",
     "text": [
      "77\n",
      "ciea1973\n"
     ]
    }
   ],
   "source": [
    "print(77)\n",
    "print('ciea1973')"
   ]
  },
  {
   "cell_type": "markdown",
   "id": "a51ed407",
   "metadata": {},
   "source": [
    "별 찍기 -4 브3"
   ]
  },
  {
   "cell_type": "code",
   "execution_count": 3,
   "id": "43b151c2",
   "metadata": {},
   "outputs": [
    {
     "name": "stdout",
     "output_type": "stream",
     "text": [
      "10\n",
      "**********\n",
      " *********\n",
      "  ********\n",
      "   *******\n",
      "    ******\n",
      "     *****\n",
      "      ****\n",
      "       ***\n",
      "        **\n",
      "         *\n"
     ]
    }
   ],
   "source": [
    "a = int(input())\n",
    "for i in range(a):\n",
    "    print(' '*i+'*'*(a-i))"
   ]
  },
  {
   "cell_type": "markdown",
   "id": "3250f44c",
   "metadata": {},
   "source": [
    "블랙잭 브2"
   ]
  },
  {
   "cell_type": "code",
   "execution_count": 42,
   "id": "6e174dff",
   "metadata": {},
   "outputs": [
    {
     "name": "stdout",
     "output_type": "stream",
     "text": [
      "10 500\n",
      "93 181 245 214 315 36 185 138 216 295\n",
      "497\n"
     ]
    }
   ],
   "source": [
    "a,b = map(int, input().split())\n",
    "c = list(map(int, input().split()))\n",
    "d=[]\n",
    "for i in range(len(c)):\n",
    "    for j in range(i+1,len(c)):\n",
    "        for x in range(j+1,len(c)):\n",
    "            if c[i]+c[j]+c[x]<=b:\n",
    "                d.append(c[i]+c[j]+c[x])\n",
    "            else:\n",
    "                pass\n",
    "print(max(d))"
   ]
  },
  {
   "cell_type": "markdown",
   "id": "4ed5205a",
   "metadata": {},
   "source": [
    "피보나치 수 5 브5"
   ]
  },
  {
   "cell_type": "code",
   "execution_count": 48,
   "id": "40274fcc",
   "metadata": {},
   "outputs": [
    {
     "name": "stdout",
     "output_type": "stream",
     "text": [
      "10\n",
      "55\n"
     ]
    }
   ],
   "source": [
    "a=int(input())\n",
    "b=[0,1]\n",
    "for i in range(a):\n",
    "    b.append(b[i]+b[i+1])\n",
    "print(b[a])"
   ]
  },
  {
   "cell_type": "markdown",
   "id": "f78cb913",
   "metadata": {},
   "source": [
    "수 정렬하기 2"
   ]
  },
  {
   "cell_type": "code",
   "execution_count": 50,
   "id": "33ba2b3e",
   "metadata": {},
   "outputs": [
    {
     "name": "stdout",
     "output_type": "stream",
     "text": [
      "5\n",
      "5\n",
      "4\n",
      "3\n",
      "2\n",
      "1\n",
      "1\n",
      "2\n",
      "3\n",
      "4\n",
      "5\n"
     ]
    }
   ],
   "source": [
    "import sys\n",
    "input = sys.stdin.readline\n",
    "\n",
    "a = int(input())\n",
    "b=[]\n",
    "for i in range(a):\n",
    "    c=int(input())\n",
    "    b.append(c)\n",
    "b=sorted(b)\n",
    "for j in range(a):\n",
    "    print(b[j])"
   ]
  },
  {
   "cell_type": "markdown",
   "id": "b47cadf2",
   "metadata": {},
   "source": [
    "별찍기 - 10 골5"
   ]
  },
  {
   "cell_type": "code",
   "execution_count": 1,
   "id": "b259f24b",
   "metadata": {
    "scrolled": true
   },
   "outputs": [
    {
     "name": "stdout",
     "output_type": "stream",
     "text": [
      "9\n",
      "*********\n",
      "* ** ** *\n",
      "*********\n",
      "***   ***\n",
      "* *   * *\n",
      "***   ***\n",
      "*********\n",
      "* ** ** *\n",
      "*********\n"
     ]
    }
   ],
   "source": [
    "def s(n):\n",
    "    if n==1:\n",
    "        return ['*']\n",
    "\n",
    "    a=s(n//3)\n",
    "    b=[]\n",
    "\n",
    "    for i in a:\n",
    "      b.append(i*3)\n",
    "    for i in a:\n",
    "      b.append(i+' '*(n//3)+i)\n",
    "    for i in a:\n",
    "      b.append(i*3)\n",
    "\n",
    "    return b\n",
    "\n",
    "c=int(input())\n",
    "print('\\n'.join(s(c)))"
   ]
  },
  {
   "cell_type": "markdown",
   "id": "41d8f86f",
   "metadata": {},
   "source": [
    "ATM 실4"
   ]
  },
  {
   "cell_type": "code",
   "execution_count": 52,
   "id": "ea418008",
   "metadata": {},
   "outputs": [
    {
     "name": "stdout",
     "output_type": "stream",
     "text": [
      "5\n",
      "3 1 4 3 2\n"
     ]
    }
   ],
   "source": [
    "a = int(input())\n",
    "b = list(map(int,input().split()))\n",
    "b=sorted(b)\n",
    "for i in range(1,a):\n",
    "    b[i]=b[i]+b[i-1]\n",
    "print(sum(b))"
   ]
  },
  {
   "cell_type": "markdown",
   "id": "a5045627",
   "metadata": {},
   "source": [
    "1,2,3 더하기 실3"
   ]
  },
  {
   "cell_type": "code",
   "execution_count": 78,
   "id": "84380c9b",
   "metadata": {},
   "outputs": [
    {
     "name": "stdout",
     "output_type": "stream",
     "text": [
      "3\n",
      "4\n",
      "7\n",
      "7\n",
      "44\n",
      "10\n",
      "274\n"
     ]
    }
   ],
   "source": [
    "def factorial(n):\n",
    "    if n == 1:\n",
    "        return 1\n",
    "    return n * factorial(n-1)\n",
    " \n",
    "a = int(input())\n",
    "for i in range(a):\n",
    "    b = int(input())\n",
    "    c=[]\n",
    "    d=[]\n",
    "    for x in range(0,b+1):\n",
    "        for y in range(0,b//2+1):\n",
    "            for z in range(0,b//3+1):\n",
    "                if x+2*y+3*z==b:\n",
    "                    c.append([x,y,z])\n",
    "                else:\n",
    "                    pass\n",
    "    for n in c:\n",
    "        e = factorial(sum(n))\n",
    "        for m in range(3):\n",
    "            if n[m]==0:\n",
    "                pass\n",
    "            else:\n",
    "                e = e//factorial(n[m])\n",
    "        d.append(e)\n",
    "    print(sum(d))   "
   ]
  },
  {
   "cell_type": "markdown",
   "id": "02cb719d",
   "metadata": {},
   "source": [
    "피보나치 함수 실3"
   ]
  },
  {
   "cell_type": "code",
   "execution_count": 7,
   "id": "d98c07ad",
   "metadata": {},
   "outputs": [
    {
     "name": "stdout",
     "output_type": "stream",
     "text": [
      "2\n",
      "6\n",
      "5 8\n",
      "22\n",
      "10946 17711\n"
     ]
    }
   ],
   "source": [
    "a=[1,0,1]\n",
    "b=[0,1,1]\n",
    "\n",
    "def f(n):\n",
    "    if n==0 or n==1 or n==2:\n",
    "        print('{} {}'.format(a[n],b[n]))\n",
    "    else:\n",
    "        for i in range(len(a), n+1):\n",
    "            a.append(a[i-1] + a[i-2])\n",
    "            b.append(b[i-1] + b[i-2])\n",
    "       \n",
    "        print('{} {}'.format(a[n],b[n]))\n",
    "        \n",
    "c = int(input())\n",
    "for i in range(c):\n",
    "    f(int(input()))"
   ]
  },
  {
   "cell_type": "markdown",
   "id": "2cb4d9a8",
   "metadata": {},
   "source": [
    "열 개씩 끊어 출력하기 브3"
   ]
  },
  {
   "cell_type": "code",
   "execution_count": 17,
   "id": "e90dd047",
   "metadata": {},
   "outputs": [
    {
     "name": "stdout",
     "output_type": "stream",
     "text": [
      "BaekjoonOnlineJudge\n",
      "BaekjoonOn\n",
      "lineJudge\n"
     ]
    }
   ],
   "source": [
    "import math\n",
    "b = str(input())\n",
    "for i in range(1,math.ceil(len(b)/10)+1):\n",
    "    print(b[10*i-10:10*i])"
   ]
  },
  {
   "cell_type": "markdown",
   "id": "46f8a637",
   "metadata": {},
   "source": [
    "최대공약수와 최소공배수 브1"
   ]
  },
  {
   "cell_type": "code",
   "execution_count": 15,
   "id": "a3f7e9e5",
   "metadata": {},
   "outputs": [],
   "source": [
    "a, b = map(int, input().split())\n",
    "\n",
    "def gcd(a, b):\n",
    "    while b > 0:\n",
    "        a, b = b, a % b\n",
    "    return a\n",
    "\n",
    "def lcm(a, b):\n",
    "    return a * b // gcd(a, b)\n",
    "\n",
    "print(gcd(a, b))\n",
    "print(lcm(a, b))"
   ]
  },
  {
   "cell_type": "code",
   "execution_count": 23,
   "id": "dfc1c811",
   "metadata": {},
   "outputs": [
    {
     "name": "stdout",
     "output_type": "stream",
     "text": [
      "1 1\n",
      "1\n",
      "1\n"
     ]
    }
   ],
   "source": [
    "import math\n",
    "\n",
    "a, b = map(int, input().split())\n",
    "\n",
    "print(math.gcd(a, b))\n",
    "print(math.lcm(a, b))"
   ]
  },
  {
   "cell_type": "markdown",
   "id": "3adccc5c",
   "metadata": {},
   "source": [
    "2007년 브1"
   ]
  },
  {
   "cell_type": "code",
   "execution_count": 50,
   "id": "3d8f20e7",
   "metadata": {},
   "outputs": [
    {
     "name": "stdout",
     "output_type": "stream",
     "text": [
      "9 2\n",
      "SUN\n"
     ]
    }
   ],
   "source": [
    "a ,b = map(int, input().split())\n",
    "c=['SUN','MON','TUE','WED','THU','FRI','SAT']\n",
    "d=0\n",
    "e=[31,59,90,120,151,181,212,243,273,304,334]\n",
    "for i in range(1,13):\n",
    "    if a-1==i:\n",
    "        d+=i\n",
    "if d==0:\n",
    "    print(c[b%7])\n",
    "else:\n",
    "    print(c[(e[d-1]+b)%7])"
   ]
  },
  {
   "cell_type": "markdown",
   "id": "25721872",
   "metadata": {},
   "source": [
    "직사각형에서 탈출 브3"
   ]
  },
  {
   "cell_type": "code",
   "execution_count": 59,
   "id": "179a65cd",
   "metadata": {},
   "outputs": [
    {
     "name": "stdout",
     "output_type": "stream",
     "text": [
      "161 181 762 375\n",
      "161\n"
     ]
    }
   ],
   "source": [
    "x,y,w,h = map(int, input().split()) \n",
    "print(min(x,w-x,y,h-y))"
   ]
  },
  {
   "cell_type": "markdown",
   "id": "b3a4b849",
   "metadata": {},
   "source": [
    "단어 정렬 실5"
   ]
  },
  {
   "cell_type": "code",
   "execution_count": 76,
   "id": "9acc5e87",
   "metadata": {},
   "outputs": [
    {
     "name": "stdout",
     "output_type": "stream",
     "text": [
      "13\n",
      "but\n",
      "i\n",
      "wont\n",
      "hesitate\n",
      "no\n",
      "more\n",
      "no\n",
      "more\n",
      "it\n",
      "cannot\n",
      "wait\n",
      "im\n",
      "yours\n"
     ]
    }
   ],
   "source": [
    "a= int(input())\n",
    "b=[]\n",
    "for i in range(a):\n",
    "    c= str(input())\n",
    "    b.append(c)\n",
    "b=set(b)\n",
    "b=sorted(b)\n",
    "b=sorted(b,key=len)\n",
    "for i in b:\n",
    "    print(i)"
   ]
  },
  {
   "cell_type": "markdown",
   "id": "f20753c4",
   "metadata": {},
   "source": [
    "팰린드롬수 브1"
   ]
  },
  {
   "cell_type": "code",
   "execution_count": 107,
   "id": "25808615",
   "metadata": {},
   "outputs": [
    {
     "name": "stdout",
     "output_type": "stream",
     "text": [
      "121\n",
      "yes\n",
      "1231\n",
      "no\n",
      "12321\n",
      "yes\n",
      "0\n"
     ]
    }
   ],
   "source": [
    "while True:\n",
    "    a = str(input())\n",
    "    b=0\n",
    "    if a=='0':\n",
    "        break\n",
    "    else:\n",
    "        for i in range(len(a)//2):\n",
    "            if a[i]==a[-(i+1)]:\n",
    "                b+=1\n",
    "        if b==len(a)//2:\n",
    "            print('yes')\n",
    "        else:\n",
    "            print('no')"
   ]
  },
  {
   "cell_type": "markdown",
   "id": "df447e31",
   "metadata": {},
   "source": [
    "분해합 브2"
   ]
  },
  {
   "cell_type": "code",
   "execution_count": 26,
   "id": "2e410b5e",
   "metadata": {},
   "outputs": [
    {
     "name": "stdout",
     "output_type": "stream",
     "text": [
      "216\n",
      "198\n"
     ]
    }
   ],
   "source": [
    "def d(n):\n",
    "    a = n + n%10 + n%100//10 + n%1000//100 + n%10000//1000 +n%100000//10000+n%1000000//100000\n",
    "    return a\n",
    "a = int(input())\n",
    "b=[]\n",
    "for i in range(1,a):\n",
    "    b.append(d(i))\n",
    "if a in b:\n",
    "    print(b.index(a)+1)\n",
    "elif a not in b:\n",
    "    print(0)"
   ]
  },
  {
   "cell_type": "markdown",
   "id": "cb1b626c",
   "metadata": {},
   "source": [
    "직각삼각형 브3"
   ]
  },
  {
   "cell_type": "code",
   "execution_count": 29,
   "id": "4459c091",
   "metadata": {},
   "outputs": [
    {
     "name": "stdout",
     "output_type": "stream",
     "text": [
      "12 5 13\n",
      "right\n",
      "0 0 0\n"
     ]
    }
   ],
   "source": [
    "while True:\n",
    "    a,b,c = map(int, input().split())\n",
    "    if a==0 and b==0 and c==0:\n",
    "        break\n",
    "    else:\n",
    "        if a**2+b**2==c**2 or a**2+c**2==b**2 or b**2+c**2==a**2:\n",
    "            print('right')\n",
    "        else:\n",
    "            print('wrong')"
   ]
  },
  {
   "cell_type": "markdown",
   "id": "309c1188",
   "metadata": {},
   "source": [
    "이항 계수 1 브1"
   ]
  },
  {
   "cell_type": "code",
   "execution_count": 43,
   "id": "f27fd487",
   "metadata": {},
   "outputs": [
    {
     "name": "stdout",
     "output_type": "stream",
     "text": [
      "5 2\n",
      "10\n"
     ]
    }
   ],
   "source": [
    "def factorial(n):\n",
    "    if n==0:\n",
    "        return 1\n",
    "    else:\n",
    "        return n*factorial(n-1)\n",
    "def combination(a,b):\n",
    "    return factorial(a)//(factorial(b)*factorial(a-b))\n",
    "a,b=map(int, input().split())\n",
    "print(combination(a,b))"
   ]
  },
  {
   "cell_type": "markdown",
   "id": "dd69fbc8",
   "metadata": {},
   "source": [
    "수 찾기 실4(1920)"
   ]
  },
  {
   "cell_type": "code",
   "execution_count": 12,
   "id": "b1134f59",
   "metadata": {},
   "outputs": [
    {
     "name": "stdout",
     "output_type": "stream",
     "text": [
      "5\n",
      "4 1 5 2 3\n",
      "5\n",
      "1 3 7 9 5\n",
      "1\n",
      "1\n",
      "0\n",
      "0\n",
      "1\n"
     ]
    }
   ],
   "source": [
    "a= int(input())\n",
    "b=list(map(int,input().split()))\n",
    "c= int(input())\n",
    "d=list(map(int,input().split()))\n",
    "b.sort()\n",
    "def two(i):\n",
    "    start=0\n",
    "    end=a-1\n",
    "    while start<=end:\n",
    "        mid = (start+end)//2\n",
    "        if i==b[mid]:\n",
    "            return True\n",
    "        elif i<b[mid]:\n",
    "            end=mid-1\n",
    "        elif i>b[mid]:\n",
    "            start=mid+1\n",
    "for i in range(c):\n",
    "    if two(d[i]):\n",
    "        print(1)\n",
    "    else:\n",
    "        print(0)"
   ]
  },
  {
   "cell_type": "markdown",
   "id": "7cdb899b",
   "metadata": {},
   "source": [
    "나이순 정렬 실5(10814)"
   ]
  },
  {
   "cell_type": "code",
   "execution_count": 42,
   "id": "b44ab241",
   "metadata": {},
   "outputs": [
    {
     "name": "stdout",
     "output_type": "stream",
     "text": [
      "10\n",
      "1 A\n",
      "10 B\n",
      "100 A\n",
      "1 C\n",
      "1 B\n",
      "12 A\n",
      "12 C\n",
      "12 B\n",
      "12 A\n",
      "12 A\n",
      "1 A\n",
      "1 C\n",
      "1 B\n",
      "10 B\n",
      "12 A\n",
      "12 C\n",
      "12 B\n",
      "12 A\n",
      "12 A\n",
      "100 A\n"
     ]
    }
   ],
   "source": [
    "from operator import itemgetter\n",
    "a=int(input())\n",
    "c=[]\n",
    "for i in range(a):\n",
    "    b = list(map(str, input().split()))\n",
    "    c.append((int(b[0]),b[1]))\n",
    "\n",
    "c.sort(key=itemgetter(0))    \n",
    "    \n",
    "\n",
    "for j in range(a):\n",
    "    print(c[j][0],c[j][1])"
   ]
  },
  {
   "cell_type": "markdown",
   "id": "3312bb00",
   "metadata": {},
   "source": [
    "좌표 정렬하기 실5"
   ]
  },
  {
   "cell_type": "code",
   "execution_count": 50,
   "id": "c8d10537",
   "metadata": {},
   "outputs": [
    {
     "name": "stdout",
     "output_type": "stream",
     "text": [
      "5\n",
      "3 4\n",
      "1 1\n",
      "1 -1\n",
      "2 2\n",
      "3 3\n",
      "1 -1\n",
      "1 1\n",
      "2 2\n",
      "3 3\n",
      "3 4\n"
     ]
    }
   ],
   "source": [
    "a = int(input())\n",
    "b=[]\n",
    "for i in range(a):\n",
    "    c=list(map(int, input().split()))\n",
    "    b.append(c)\n",
    "b.sort()\n",
    "for j in range(a):\n",
    "    print(b[j][0],b[j][1])"
   ]
  },
  {
   "cell_type": "markdown",
   "id": "514b9c64",
   "metadata": {},
   "source": [
    "카드 2 실4(2164)"
   ]
  },
  {
   "cell_type": "code",
   "execution_count": 169,
   "id": "d9dd9afa",
   "metadata": {},
   "outputs": [
    {
     "name": "stdout",
     "output_type": "stream",
     "text": [
      "66\n",
      "4\n"
     ]
    }
   ],
   "source": [
    "a = int(input())\n",
    "b=0\n",
    "for i in range(0,20):\n",
    "    if 2**i<=a<2**(i+1):\n",
    "        if a-2**i==0:\n",
    "            print(2**i)\n",
    "        else:\n",
    "            print(2*(a-2**i))\n",
    "    else:\n",
    "        pass"
   ]
  },
  {
   "cell_type": "markdown",
   "id": "5c0af545",
   "metadata": {},
   "source": [
    "큐 실4(10845)"
   ]
  },
  {
   "cell_type": "code",
   "execution_count": 216,
   "id": "2d4ef201",
   "metadata": {
    "collapsed": true
   },
   "outputs": [
    {
     "name": "stdout",
     "output_type": "stream",
     "text": [
      "15\n",
      "push 1\n",
      "push 2\n",
      "front\n",
      "1\n",
      "back\n",
      "2\n",
      "size\n",
      "2\n",
      "empty\n",
      "0\n",
      "pop\n",
      "1\n",
      "pop\n",
      "2\n",
      "pop\n",
      "-1\n",
      "size\n",
      "0\n",
      "empty\n",
      "1\n",
      "pop\n",
      "-1\n",
      "push 3\n",
      "empty\n",
      "0\n",
      "front\n",
      "3\n"
     ]
    }
   ],
   "source": [
    "a = int(input())\n",
    "c=[]\n",
    "for i in range(a):\n",
    "    b=list(map(str,input().split()))\n",
    "    if b[0]=='push':\n",
    "        c.insert(0,b[1])\n",
    "    elif b[0]=='pop':\n",
    "        if len(c)==0:\n",
    "            print(-1)\n",
    "        else:\n",
    "            print(c.pop())\n",
    "    elif b[0]=='size':\n",
    "        print(len(c))\n",
    "    elif b[0]=='empty':\n",
    "        if len(c)==0:\n",
    "            print(1)\n",
    "        else:\n",
    "            print(0)\n",
    "    elif b[0]=='front':\n",
    "        if len(c)==0:\n",
    "            print(-1)\n",
    "        else:\n",
    "            print(c[-1])\n",
    "    elif b[0]=='back':\n",
    "        if len(c)==0:\n",
    "            print(-1)\n",
    "        else:\n",
    "            print(c[0])"
   ]
  },
  {
   "cell_type": "markdown",
   "id": "020a29cc",
   "metadata": {},
   "source": [
    "덱 실4(10866)"
   ]
  },
  {
   "cell_type": "code",
   "execution_count": 221,
   "id": "eb1827c5",
   "metadata": {
    "collapsed": true
   },
   "outputs": [
    {
     "name": "stdout",
     "output_type": "stream",
     "text": [
      "15\n",
      "push_back 1\n",
      "push_front 2\n",
      "front\n",
      "2\n",
      "back\n",
      "1\n",
      "size\n",
      "2\n",
      "empty\n",
      "0\n",
      "pop_front\n",
      "2\n",
      "pop_back\n",
      "1\n",
      "pop_front\n",
      "-1\n",
      "size\n",
      "0\n",
      "empty\n",
      "1\n",
      "pop_back\n",
      "-1\n",
      "push_front 3\n",
      "empty\n",
      "0\n",
      "front\n",
      "3\n"
     ]
    }
   ],
   "source": [
    "a = int(input())\n",
    "c=[]\n",
    "for i in range(a):\n",
    "    b=list(map(str,input().split()))\n",
    "    if b[0]=='push_front':\n",
    "        c.insert(0,b[1])\n",
    "    elif b[0]=='push_back':\n",
    "        c.append(b[1])\n",
    "    elif b[0]=='pop_front':\n",
    "        if len(c)==0:\n",
    "            print(-1)\n",
    "        else:\n",
    "            print(c[0])\n",
    "            c.remove(c[0])\n",
    "    elif b[0]=='pop_back':\n",
    "        if len(c)==0:\n",
    "            print(-1)\n",
    "        else:\n",
    "            print(c.pop())\n",
    "    elif b[0]=='size':\n",
    "        print(len(c))\n",
    "    elif b[0]=='empty':\n",
    "        if len(c)==0:\n",
    "            print(1)\n",
    "        else:\n",
    "            print(0)\n",
    "    elif b[0]=='front':\n",
    "        if len(c)==0:\n",
    "            print(-1)\n",
    "        else:\n",
    "            print(c[0])\n",
    "    elif b[0]=='back':\n",
    "        if len(c)==0:\n",
    "            print(-1)\n",
    "        else:\n",
    "            print(c[-1])"
   ]
  },
  {
   "cell_type": "markdown",
   "id": "9be16029",
   "metadata": {},
   "source": [
    "요세푸스 문제 0 실5(11866)"
   ]
  },
  {
   "cell_type": "code",
   "execution_count": 447,
   "id": "b1748635",
   "metadata": {},
   "outputs": [
    {
     "name": "stdout",
     "output_type": "stream",
     "text": [
      "10 5\n",
      "<5, 10, 6, 2, 9, 8, 1, 4, 7, 3>\n"
     ]
    }
   ],
   "source": [
    "n,k = map(int,input().split())\n",
    "a = list(range(1,n+1)) \n",
    "b= []\n",
    "c = 0\n",
    "for i in range(n):\n",
    "    c+=(k-1)\n",
    "    if c >= len(a):\n",
    "        c %= len(a)\n",
    "    b.append(str(a[c]))\n",
    "    a.remove(a[c])\n",
    "\n",
    "print(\"<\",', '.join(b),\">\",sep='')"
   ]
  },
  {
   "cell_type": "markdown",
   "id": "8aac6b6c",
   "metadata": {},
   "source": [
    "수 정렬하기 3 브1(10989)"
   ]
  },
  {
   "cell_type": "code",
   "execution_count": 5,
   "id": "b53e9979",
   "metadata": {
    "collapsed": true
   },
   "outputs": [
    {
     "name": "stdout",
     "output_type": "stream",
     "text": [
      "10\n",
      "5\n",
      "2\n",
      "3\n",
      "1\n",
      "4\n",
      "2\n",
      "3\n",
      "5\n",
      "1\n",
      "7\n",
      "1\n",
      "1\n",
      "2\n",
      "2\n",
      "3\n",
      "3\n",
      "4\n",
      "5\n",
      "5\n",
      "7\n"
     ]
    }
   ],
   "source": [
    "a= int(input())\n",
    "b=[0]*10001\n",
    "for i in range(a):\n",
    "    c=int(input())\n",
    "    b[c]+=1\n",
    "for j in range(10001):\n",
    "    if b[j]!=0:\n",
    "        for k in range(b[j]):\n",
    "            print(j)"
   ]
  },
  {
   "cell_type": "markdown",
   "id": "131a2a07",
   "metadata": {},
   "source": [
    "합분해 골5(2225)"
   ]
  },
  {
   "cell_type": "code",
   "execution_count": 22,
   "id": "0bfd5b30",
   "metadata": {},
   "outputs": [
    {
     "name": "stdout",
     "output_type": "stream",
     "text": [
      "6 4\n",
      "84\n"
     ]
    }
   ],
   "source": [
    "def factorial(n):\n",
    "    if n==0:\n",
    "        return 1\n",
    "    else:\n",
    "        return n*factorial(n-1)\n",
    "a,b=map(int,input().split())\n",
    "print((factorial(a+b-1)//(factorial(a)*factorial(b-1)))%1000000000)"
   ]
  },
  {
   "cell_type": "markdown",
   "id": "75ab0835",
   "metadata": {},
   "source": [
    "루나의 게임 세팅 골5(25345)"
   ]
  },
  {
   "cell_type": "code",
   "execution_count": 2,
   "id": "585c3455",
   "metadata": {},
   "outputs": [
    {
     "name": "stdout",
     "output_type": "stream",
     "text": [
      "1 2\n",
      "3\n",
      "1\n"
     ]
    }
   ],
   "source": [
    "a,b=map(int,input().split())\n",
    "c=map(int, input().split())\n",
    "d=1\n",
    "e=1\n",
    "f=1\n",
    "for i in range(1,a+1):\n",
    "    d*=i\n",
    "for j in range(1,b+1):\n",
    "    e*=j\n",
    "for l in range(1,a-b+1):\n",
    "    f*=l\n",
    "print((2**(b-1)*d//(e*f))%(10**9+7))"
   ]
  },
  {
   "cell_type": "markdown",
   "id": "97229894",
   "metadata": {},
   "source": [
    "다리 놓기 실5(1010)"
   ]
  },
  {
   "cell_type": "code",
   "execution_count": 4,
   "id": "b5d3a218",
   "metadata": {},
   "outputs": [
    {
     "name": "stdout",
     "output_type": "stream",
     "text": [
      "2\n",
      "3 5\n",
      "10\n",
      "3 4\n",
      "4\n"
     ]
    }
   ],
   "source": [
    "def factorial(n):\n",
    "    if n==0:\n",
    "        return 1\n",
    "    else:\n",
    "        return n*factorial(n-1)\n",
    "\n",
    "a=int(input())\n",
    "for i in range(a):\n",
    "    b,c=map(int,input().split())\n",
    "    print(factorial(c)//(factorial(b)*factorial(c-b)))"
   ]
  },
  {
   "cell_type": "code",
   "execution_count": null,
   "id": "a823ff32",
   "metadata": {},
   "outputs": [],
   "source": []
  },
  {
   "cell_type": "code",
   "execution_count": null,
   "id": "84bbb94f",
   "metadata": {},
   "outputs": [],
   "source": []
  },
  {
   "cell_type": "code",
   "execution_count": null,
   "id": "03b8fc34",
   "metadata": {},
   "outputs": [],
   "source": []
  },
  {
   "cell_type": "code",
   "execution_count": null,
   "id": "5699c471",
   "metadata": {},
   "outputs": [],
   "source": []
  },
  {
   "cell_type": "markdown",
   "id": "db439faf",
   "metadata": {},
   "source": [
    "숫자 카드 2 실4(10816)X"
   ]
  },
  {
   "cell_type": "code",
   "execution_count": 209,
   "id": "754445ce",
   "metadata": {},
   "outputs": [
    {
     "name": "stdout",
     "output_type": "stream",
     "text": [
      "11\n",
      "6 3 2 10 10 10 -10 -10 7 3 0\n",
      "9\n",
      "10 9 -5 2 3 4 5 -10 0\n",
      "3 0 0 1 2 0 0 2 1 "
     ]
    }
   ],
   "source": [
    "a = int(input())\n",
    "b= list(map(int, input().split()))\n",
    "c= int(input())\n",
    "d= list(map(int,input().split()))\n",
    "e=list(set(b))\n",
    "zero=[]\n",
    "plus=[]\n",
    "minus=[]\n",
    "for i in range(len(e)):\n",
    "    if e[i]>0:\n",
    "        plus.append(e[i])\n",
    "    elif e[i]<0:\n",
    "        minus.append(e[i])\n",
    "    else:\n",
    "        zero.append(e[i])\n",
    "plus.sort()\n",
    "minus.sort()\n",
    "\n",
    "def four(i):\n",
    "    if i>0:\n",
    "        start_p=0\n",
    "        end_p=len(plus)-1\n",
    "        while start_p<=end_p:\n",
    "            mid_p = (start_p+end_p)//2\n",
    "            if i==plus[mid_p]:\n",
    "                return True\n",
    "            elif i<plus[mid_p]:\n",
    "                end_p=mid_p-1\n",
    "            elif i>plus[mid_p]:\n",
    "                start_p=mid_p+1\n",
    "    elif i<0:\n",
    "        start_m=0\n",
    "        end_m=len(minus)-1\n",
    "        while start_m<=end_m:\n",
    "            mid_m = (start_m+end_m)//2\n",
    "            if i==minus[mid_m]:\n",
    "                return True\n",
    "            elif i<minus[mid_m]:\n",
    "                end_m=mid_m-1\n",
    "            elif i>minus[mid_m]:\n",
    "                start_m=mid_m+1\n",
    "    else:\n",
    "        if i==zero[0]:\n",
    "            return True\n",
    "\n",
    "for i in d:\n",
    "    if four(i):\n",
    "        print(b.count(i),end=' ')\n",
    "    else:\n",
    "        print(0, end=' ')"
   ]
  },
  {
   "cell_type": "code",
   "execution_count": null,
   "id": "2337219f",
   "metadata": {},
   "outputs": [],
   "source": [
    "import math\n",
    "a= int(input())\n",
    "c=[]\n",
    "for i in range(a):\n",
    "    b=int(input())\n",
    "    c.append(b)\n",
    "c.sort()\n",
    "print(math.rount(sum(c)/a))\n",
    "print()"
   ]
  }
 ],
 "metadata": {
  "kernelspec": {
   "display_name": "Python 3 (ipykernel)",
   "language": "python",
   "name": "python3"
  },
  "language_info": {
   "codemirror_mode": {
    "name": "ipython",
    "version": 3
   },
   "file_extension": ".py",
   "mimetype": "text/x-python",
   "name": "python",
   "nbconvert_exporter": "python",
   "pygments_lexer": "ipython3",
   "version": "3.9.12"
  }
 },
 "nbformat": 4,
 "nbformat_minor": 5
}

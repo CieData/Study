{
 "cells": [
  {
   "cell_type": "markdown",
   "metadata": {},
   "source": [
    "1번"
   ]
  },
  {
   "cell_type": "code",
   "execution_count": 12,
   "metadata": {},
   "outputs": [
    {
     "name": "stdout",
     "output_type": "stream",
     "text": [
      "10 2\n",
      ">\n"
     ]
    }
   ],
   "source": [
    "a,b = input().split()\n",
    "if int(a)>int(b):\n",
    "    print('>')\n",
    "elif int(a)<int(b):\n",
    "    print('<')\n",
    "else:\n",
    "    print('==')"
   ]
  },
  {
   "cell_type": "markdown",
   "metadata": {},
   "source": [
    "2번"
   ]
  },
  {
   "cell_type": "code",
   "execution_count": 16,
   "metadata": {},
   "outputs": [
    {
     "name": "stdout",
     "output_type": "stream",
     "text": [
      "79\n",
      "C\n"
     ]
    }
   ],
   "source": [
    "a = int(input())\n",
    "if 90<=a<=100:\n",
    "    print('A')\n",
    "elif 80<=a<=89:\n",
    "    print('B')\n",
    "elif 70<=a<=79:\n",
    "    print('C')\n",
    "elif 60<=a<=69:\n",
    "    print('D')\n",
    "else:\n",
    "    print('F')"
   ]
  },
  {
   "cell_type": "markdown",
   "metadata": {},
   "source": [
    "3번"
   ]
  },
  {
   "cell_type": "code",
   "execution_count": 28,
   "metadata": {},
   "outputs": [
    {
     "name": "stdout",
     "output_type": "stream",
     "text": [
      "2000\n",
      "1\n"
     ]
    }
   ],
   "source": [
    "a = int(input())\n",
    "if a%4==0 and a%100!=0:\n",
    "    print('1')\n",
    "elif a%400==0:\n",
    "    print('1')\n",
    "else:\n",
    "    print('0')"
   ]
  },
  {
   "cell_type": "markdown",
   "metadata": {},
   "source": [
    "4번"
   ]
  },
  {
   "cell_type": "code",
   "execution_count": 32,
   "metadata": {},
   "outputs": [
    {
     "name": "stdout",
     "output_type": "stream",
     "text": [
      "9\n",
      "-13\n",
      "4\n"
     ]
    }
   ],
   "source": [
    "a = int(input())\n",
    "b = int(input())\n",
    "if a>0 and b>0:\n",
    "    print('1')\n",
    "elif a>0 and b<0:\n",
    "    print('4')\n",
    "elif a<0 and b<0:\n",
    "    print('3')\n",
    "else:\n",
    "    print('2')"
   ]
  },
  {
   "cell_type": "markdown",
   "metadata": {},
   "source": [
    "5번"
   ]
  },
  {
   "cell_type": "code",
   "execution_count": 55,
   "metadata": {},
   "outputs": [
    {
     "name": "stdout",
     "output_type": "stream",
     "text": [
      "0 45\n",
      "0 0\n"
     ]
    }
   ],
   "source": [
    "a,b = input().split()\n",
    "if int(a)!=0 and int(b)<45:\n",
    "    print(int(a)-1, 15+int(b))\n",
    "elif int(a)==0 and int(b)<45:\n",
    "    print(int(a)+23, 15+int(b))\n",
    "else:\n",
    "    print(int(a), int(b)-45)"
   ]
  },
  {
   "cell_type": "markdown",
   "metadata": {},
   "source": [
    "6번"
   ]
  },
  {
   "cell_type": "code",
   "execution_count": 66,
   "metadata": {},
   "outputs": [
    {
     "name": "stdout",
     "output_type": "stream",
     "text": [
      "23 48\n",
      "25\n",
      "0 13\n"
     ]
    }
   ],
   "source": [
    "a,b = input().split()\n",
    "c= int(input())\n",
    "if int(a)+int((int(b)+c)/60)>=24:\n",
    "    print(int(a)+int((int(b)+c)/60)-24, (int(b)+c)%60)\n",
    "elif (int(b)+c)>=60:\n",
    "    print(int(a)+int((int(b)+c)/60), (int(b)+c)%60)\n",
    "else:\n",
    "    print(int(a), int(b)+c)"
   ]
  },
  {
   "cell_type": "markdown",
   "metadata": {},
   "source": [
    "7번"
   ]
  },
  {
   "cell_type": "code",
   "execution_count": 77,
   "metadata": {},
   "outputs": [
    {
     "name": "stdout",
     "output_type": "stream",
     "text": [
      "1 2 2\n",
      "1200\n"
     ]
    }
   ],
   "source": [
    "a,b,c = input().split()\n",
    "if a==b==c:\n",
    "    print(10000+ int(a)*1000)\n",
    "elif a==b or a==c:\n",
    "    print(1000+ int(a)*100)\n",
    "elif b==c:\n",
    "    print(1000+int(b)*100)\n",
    "else:\n",
    "    print(max(int(a),int(b),int(c))*100)"
   ]
  },
  {
   "cell_type": "code",
   "execution_count": 12,
   "metadata": {},
   "outputs": [
    {
     "name": "stdout",
     "output_type": "stream",
     "text": [
      "8 1 7 2 6 3 5 4\n",
      "mixed\n"
     ]
    }
   ],
   "source": [
    "a = list(map(int,input().split()))\n",
    "b=0\n",
    "for i in range(len(a)-1):\n",
    "    if a[i]<a[i+1]:\n",
    "        b+=1\n",
    "    elif a[i]>a[i+1]:\n",
    "        b+=-1\n",
    "    else:\n",
    "        b+=0\n",
    "if b==7:\n",
    "    print('ascending')\n",
    "elif b==-7:\n",
    "    print('descending')\n",
    "else:\n",
    "    print('mixed')"
   ]
  },
  {
   "cell_type": "code",
   "execution_count": 6,
   "metadata": {},
   "outputs": [
    {
     "data": {
      "text/plain": [
       "2"
      ]
     },
     "execution_count": 6,
     "metadata": {},
     "output_type": "execute_result"
    }
   ],
   "source": [
    "a[1]"
   ]
  },
  {
   "cell_type": "code",
   "execution_count": null,
   "metadata": {},
   "outputs": [],
   "source": []
  }
 ],
 "metadata": {
  "kernelspec": {
   "display_name": "Python 3 (ipykernel)",
   "language": "python",
   "name": "python3"
  },
  "language_info": {
   "codemirror_mode": {
    "name": "ipython",
    "version": 3
   },
   "file_extension": ".py",
   "mimetype": "text/x-python",
   "name": "python",
   "nbconvert_exporter": "python",
   "pygments_lexer": "ipython3",
   "version": "3.9.12"
  }
 },
 "nbformat": 4,
 "nbformat_minor": 4
}

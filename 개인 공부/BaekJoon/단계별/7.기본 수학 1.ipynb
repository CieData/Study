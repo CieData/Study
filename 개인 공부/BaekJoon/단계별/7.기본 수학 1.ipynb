{
 "cells": [
  {
   "cell_type": "markdown",
   "metadata": {},
   "source": [
    "1번"
   ]
  },
  {
   "cell_type": "code",
   "execution_count": 32,
   "metadata": {},
   "outputs": [
    {
     "name": "stdout",
     "output_type": "stream",
     "text": [
      "3 2 1\n",
      "-1\n"
     ]
    }
   ],
   "source": [
    "a,b,c = map(int, input().split())\n",
    "if c-b>0:\n",
    "    print(int(a/(c-b))+1)\n",
    "else:\n",
    "    print(-1)"
   ]
  },
  {
   "cell_type": "markdown",
   "metadata": {},
   "source": [
    "2번"
   ]
  },
  {
   "cell_type": "code",
   "execution_count": 50,
   "metadata": {},
   "outputs": [
    {
     "name": "stdout",
     "output_type": "stream",
     "text": [
      "65\n",
      "6\n"
     ]
    }
   ],
   "source": [
    "a = int(input())\n",
    "b=1\n",
    "for i in range(1,1000000001):\n",
    "    if a == 1:\n",
    "        print(1)\n",
    "        break\n",
    "    elif b < a <= b+6*(i):\n",
    "        print(i+1)\n",
    "        break\n",
    "    else:\n",
    "        b= b+6*i"
   ]
  },
  {
   "cell_type": "markdown",
   "metadata": {},
   "source": [
    "3번"
   ]
  },
  {
   "cell_type": "code",
   "execution_count": 83,
   "metadata": {},
   "outputs": [
    {
     "name": "stdout",
     "output_type": "stream",
     "text": [
      "14\n",
      "2/4\n"
     ]
    }
   ],
   "source": [
    "a = int(input())\n",
    "b=2\n",
    "for i in range(2,10000001):\n",
    "    if a==1:\n",
    "        print('1/1')\n",
    "        break\n",
    "    elif i%2==1 and b <= a < b+i:\n",
    "        print('{}/{}'.format(i-(a-b),abs(a-b+1)))\n",
    "        break\n",
    "    elif i%2==0 and b <= a < b+i:\n",
    "        print('{}/{}'.format(abs(a-b+1),i-(a-b)))\n",
    "        break\n",
    "    else:\n",
    "        b = b + i"
   ]
  },
  {
   "cell_type": "markdown",
   "metadata": {},
   "source": [
    "4번"
   ]
  },
  {
   "cell_type": "code",
   "execution_count": 91,
   "metadata": {},
   "outputs": [
    {
     "name": "stdout",
     "output_type": "stream",
     "text": [
      "100 99 1000000000\n",
      "999999901\n"
     ]
    }
   ],
   "source": [
    "import math\n",
    "a,b,c = map(int, input().split())\n",
    "print(int(1+math.ceil((c-a)/(a-b))))"
   ]
  },
  {
   "cell_type": "markdown",
   "metadata": {},
   "source": [
    "5번"
   ]
  },
  {
   "cell_type": "code",
   "execution_count": 35,
   "metadata": {
    "scrolled": true
   },
   "outputs": [
    {
     "name": "stdout",
     "output_type": "stream",
     "text": [
      "2\n",
      "6 12 10\n",
      "402\n",
      "30 50 72\n",
      "1203\n"
     ]
    }
   ],
   "source": [
    "import math\n",
    "a = int(input())\n",
    "for i in range(a):\n",
    "    b,c,d = map(int, input().split())\n",
    "    if d%b == 0:\n",
    "        if d/b<10:\n",
    "            print(str(b)+'0'+str(int(d/b)))\n",
    "        else:\n",
    "            print(str(b)+str(int(d/b)))\n",
    "    else:\n",
    "        if d/b<9:\n",
    "            print(str(d%b)+'0'+str(math.ceil(d/b)))\n",
    "        else:\n",
    "            print(str(d%b)+str(math.ceil(d/b)))"
   ]
  },
  {
   "cell_type": "markdown",
   "metadata": {},
   "source": [
    "6번"
   ]
  },
  {
   "cell_type": "code",
   "execution_count": 115,
   "metadata": {},
   "outputs": [
    {
     "name": "stdout",
     "output_type": "stream",
     "text": [
      "3\n",
      "1\n",
      "1\n",
      "1\n",
      "2\n",
      "3\n",
      "10\n",
      "4\n",
      "9\n",
      "1287\n"
     ]
    }
   ],
   "source": [
    "a = int(input())\n",
    "for i in range(a):\n",
    "    b = int(input())\n",
    "    c = int(input())\n",
    "    d=[1,2,3,4,5,6,7,8,9,10,11,12,13,14]\n",
    "    d=d[0:c]\n",
    "    for j in range(0,b):\n",
    "        for x in range(1,c+1):\n",
    "            d[-x]=sum(d[0:c-(x-1)])      \n",
    "    print(int(d[-1]))"
   ]
  },
  {
   "cell_type": "markdown",
   "metadata": {},
   "source": [
    "7번"
   ]
  },
  {
   "cell_type": "code",
   "execution_count": 269,
   "metadata": {},
   "outputs": [
    {
     "name": "stdout",
     "output_type": "stream",
     "text": [
      "9\n",
      "3\n"
     ]
    }
   ],
   "source": [
    "a = int(input())\n",
    "b = []\n",
    "for i in range(int(a/3)+1):\n",
    "    for j in range(int(a/5)+1):\n",
    "        if i==0 and j==0:\n",
    "            pass\n",
    "        elif a/(5*j+3*i)==1:\n",
    "            b.append(i+j)\n",
    "            break\n",
    "if b ==[]:\n",
    "    print(-1)\n",
    "else:\n",
    "    print(min(b))"
   ]
  },
  {
   "cell_type": "markdown",
   "metadata": {},
   "source": [
    "8번"
   ]
  },
  {
   "cell_type": "code",
   "execution_count": 116,
   "metadata": {},
   "outputs": [
    {
     "name": "stdout",
     "output_type": "stream",
     "text": [
      "9223372036854775807 9223372036854775808\n",
      "18446744073709551615\n"
     ]
    }
   ],
   "source": [
    "a,b = map(int, input().split())\n",
    "print(a+b)"
   ]
  }
 ],
 "metadata": {
  "kernelspec": {
   "display_name": "Python 3",
   "language": "python",
   "name": "python3"
  },
  "language_info": {
   "codemirror_mode": {
    "name": "ipython",
    "version": 3
   },
   "file_extension": ".py",
   "mimetype": "text/x-python",
   "name": "python",
   "nbconvert_exporter": "python",
   "pygments_lexer": "ipython3",
   "version": "3.8.5"
  }
 },
 "nbformat": 4,
 "nbformat_minor": 4
}

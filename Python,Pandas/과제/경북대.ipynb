{
 "cells": [
  {
   "cell_type": "code",
   "execution_count": 1,
   "id": "1a2bf223",
   "metadata": {},
   "outputs": [],
   "source": [
    "#1.문자열 리스트를 입력 받아서 내림차순 결과 가장 낮은 문자열과 가장 높은 문자열을\n",
    "#출력하는 함수를 구현하세요.\n",
    "msg=['Good','child', 'Zoo', 'apple', 'Flower', 'zero']\n",
    "def a(msg):\n",
    "    msg.sort(reverse=True)\n",
    "    return msg[0],msg[-1]"
   ]
  },
  {
   "cell_type": "code",
   "execution_count": 6,
   "id": "4cf83364",
   "metadata": {},
   "outputs": [],
   "source": [
    "#2. 문자열을 입력하면 UTF-8로 인코딩된 값을 아래와 같이 출력된 함수를 구현해 주세요.\n",
    "data='가나다'\n",
    "a=''\n",
    "b=''\n",
    "for i in data:\n",
    "    a+=hex(ord(i))\n",
    "    b+=bin(ord(i))"
   ]
  },
  {
   "cell_type": "code",
   "execution_count": 7,
   "id": "cca7807c",
   "metadata": {},
   "outputs": [],
   "source": [
    "#3. 숫자와 콤마로만 이루어진 문자열 data가 주어진다. 이때, data에 포함되어있는 자연\n",
    "#수의 합과 가장 작은 수, 가장 큰 수를 출력하는 함수를 구현하세요.\n",
    "data='123,42,98,18'\n",
    "def c(data):\n",
    "    to=0\n",
    "    maxl=0\n",
    "    minl=10\n",
    "    for i in data:\n",
    "        if i.isdigit():\n",
    "            to+=int(i)\n",
    "            maxl=max(maxl,int(i))\n",
    "            minl=min(minl,int(i))\n",
    "    return data+'의 합 :'+str(to)+', 가장 큰 수 :'+str(maxl)+', 가장 작은 수 :'+str(minl)"
   ]
  },
  {
   "cell_type": "code",
   "execution_count": 8,
   "id": "d1706c6c",
   "metadata": {},
   "outputs": [
    {
     "name": "stdout",
     "output_type": "stream",
     "text": [
      "10\n"
     ]
    },
    {
     "data": {
      "text/plain": [
       "'1#3#567#910'"
      ]
     },
     "execution_count": 8,
     "metadata": {},
     "output_type": "execute_result"
    }
   ],
   "source": [
    "#4. 2, 4, 8 게임은 숫자의 끝 자리가 2, 4, 8로 끝나는 숫자의 경우 \n",
    "#다른 문자로 출력하는 게임으로 아래 조건을 만족하도록 구현하자.\n",
    "n=int(input())\n",
    "def d(n):\n",
    "    nl=''\n",
    "    for i in range(1,n+1):\n",
    "        j=str(i)[-1]\n",
    "        if j=='2' or j=='4' or j=='8':\n",
    "            nl+='#'\n",
    "        else:\n",
    "            nl+=str(i)\n",
    "    return nl\n",
    "d(n)"
   ]
  },
  {
   "cell_type": "code",
   "execution_count": 9,
   "id": "d3113561",
   "metadata": {},
   "outputs": [
    {
     "name": "stdout",
     "output_type": "stream",
     "text": [
      "5\n",
      "May Spring\n"
     ]
    }
   ],
   "source": [
    "#5. 월(Month)을 입력 받아 해당 월(Month)의 영어와 계절을 출력하는 코드를 작성하세요.\n",
    "n=int(input())\n",
    "def e(n):\n",
    "    mon=['December','Januaray','Febrary','March','April','May','June','July','Agust','September','October','November']\n",
    "    sea=['Winter','Spring','Summer','Fall']\n",
    "    if n>12:\n",
    "        print('존재하지 않는 월입니다.')\n",
    "    else:\n",
    "        if n==12:\n",
    "            n=0\n",
    "    return print(mon[n],sea[n//3])\n",
    "e(n)"
   ]
  },
  {
   "cell_type": "code",
   "execution_count": 10,
   "id": "f967906a",
   "metadata": {},
   "outputs": [],
   "source": [
    "#6. 숫자와 화폐단위를 입력 받아 세자리 마다 쉼표(,) 찍어서 출력하는 기능을 구현하세요.\n",
    "n=1234567\n",
    "s='$'\n",
    "def f(n,s):\n",
    "    n=str(n)[::-1]\n",
    "    c=0\n",
    "    for i in n:\n",
    "        s+=i\n",
    "        c+=1\n",
    "        if c==3:\n",
    "            c=0\n",
    "            s+=','\n",
    "    return s[::-1]"
   ]
  },
  {
   "cell_type": "code",
   "execution_count": 11,
   "id": "724287a0",
   "metadata": {},
   "outputs": [
    {
     "name": "stdout",
     "output_type": "stream",
     "text": [
      "[1, 3, 9]\n"
     ]
    }
   ],
   "source": [
    "#7. 입력받은 정수에 대한 약수를 출력하는 함수를 만들어 주세요.\n",
    "n=1\n",
    "def g(n):\n",
    "    l=[]\n",
    "    for i in range(1,int((n)**(1/2))+1):\n",
    "        if n//i*i==n:\n",
    "            if n//i==i:\n",
    "                l.append(i)\n",
    "            else:\n",
    "                l.append(i)\n",
    "                l.append(n//i)\n",
    "    l.sort()\n",
    "    return print(l)\n",
    "g(9)"
   ]
  },
  {
   "cell_type": "code",
   "execution_count": 13,
   "id": "ee7ed95d",
   "metadata": {},
   "outputs": [
    {
     "name": "stdout",
     "output_type": "stream",
     "text": [
      "Happy New Year 2023!\n",
      "[2, 0, 3]\n",
      "x\n"
     ]
    }
   ],
   "source": [
    "#8. 입력 받은 메시지 중에서 중복 없이 숫자만 출력하는 함수를 만들어 주세요.\n",
    "def printnum(s):\n",
    "    l=[]\n",
    "    for i in s:\n",
    "        if i.isdigit() and int(i) not in l:\n",
    "            l.append(int(i))\n",
    "    return l"
   ]
  },
  {
   "cell_type": "code",
   "execution_count": 14,
   "id": "0bdaebbf",
   "metadata": {},
   "outputs": [
    {
     "name": "stdout",
     "output_type": "stream",
     "text": [
      "2000.07.01.\n",
      "당신의 한국 나이는  23 세입니다.\n",
      "당신의 외국 나이는  22 세입니다.\n",
      "x\n"
     ]
    }
   ],
   "source": [
    "#9. 생일을 입력 받은 후 한국 나이, 외국 나이를 알려주는 함수를 생성해 주세요. \n",
    "def old(s):\n",
    "    print('당신의 한국 나이는 ',2022-int(s[:4])+1,'세입니다.')\n",
    "    if int(s[5:7])<12:\n",
    "        print('당신의 외국 나이는 ',2022-int(s[:4]),'세입니다.')\n",
    "    else:\n",
    "        if int(s[-2:])<=5:\n",
    "            print('당신의 외국 나이는 ',2022-int(s[:4]),'세입니다.')\n",
    "        else:\n",
    "            print('당신의 외국 나이는 ',2022-int(s[:4])-1,'세입니다.')"
   ]
  },
  {
   "cell_type": "code",
   "execution_count": 15,
   "id": "b5ba9b68",
   "metadata": {},
   "outputs": [
    {
     "name": "stdout",
     "output_type": "stream",
     "text": [
      "8\n",
      "8! =>8*7*6*5*4*3*2*1=40320\n",
      "0\n",
      "0! => 0\n",
      "x\n"
     ]
    }
   ],
   "source": [
    "#10. 팩토리얼(Factorial)을 while반복문으로 구현해 주세요. 팩토리얼 수를 입력 받아서 \n",
    "#팩토리얼 결과를 아래와 같이 출력하세요.\n",
    "while True:\n",
    "    try:\n",
    "        n=int(input())\n",
    "        s=''\n",
    "        to=1\n",
    "        if n==0:\n",
    "            print('0! => 0')\n",
    "        else:\n",
    "            while n!=0:\n",
    "                s+=str(n)+'*'\n",
    "                to*=n\n",
    "                n-=1\n",
    "            print(s[0]+'! =>'+s[:-1]+'='+str(to))\n",
    "        \n",
    "    except:\n",
    "        break"
   ]
  },
  {
   "cell_type": "code",
   "execution_count": 16,
   "id": "fe387c24",
   "metadata": {},
   "outputs": [],
   "source": [
    "#11. 입력받은 숫자 범위 안에서 소수(Prime Number)를\n",
    "#찾아서 반환하는 함수를 생성하세요.\n",
    "def pnum(n):\n",
    "    pl=[]\n",
    "    for i in range(2,n+1):\n",
    "        count=0\n",
    "        for j in range(2,int(i**(1/2)+1)):\n",
    "            if i//j==i/j:\n",
    "                count+=1\n",
    "                break\n",
    "        if i!=1 and count==0:\n",
    "            pl.append(i)\n",
    "    return pl"
   ]
  },
  {
   "cell_type": "code",
   "execution_count": 39,
   "id": "b6051da6",
   "metadata": {},
   "outputs": [
    {
     "name": "stdout",
     "output_type": "stream",
     "text": [
      "국어 최고점수 : 94, 최저점수 : 77\n",
      "수학 최고점수 : 100, 최저점수 : 71\n",
      "윤리 최고점수 : 98, 최저점수 : 80\n",
      "국사 최고점수 : 99, 최저점수 : 71\n"
     ]
    }
   ],
   "source": [
    "#12. 아래 데이터를 저장합니다. 그리고 과목별 최고점수, 최저점수 출력하세요.\n",
    "#??\n",
    "dict={'베트맨':{'국어':90,'수학':89,'윤리':98,'국사':99},\n",
    "     '마징가':{'국어':82,'수학':71,'윤리':80,'국사':91},\n",
    "     '슈퍼맨':{'국어':77,'수학':100,'윤리':92,'국사':90},\n",
    "     '슈렉':{'국어':94,'수학':82,'윤리':93,'국사':71},\n",
    "     '피오나':{'국어':78,'수학':99,'윤리':91,'국사':83}}\n",
    "l=['국어','수학','윤리','국사']\n",
    "for i in l:\n",
    "    maxi=-1\n",
    "    mini=101\n",
    "    for j in dict:\n",
    "        maxi=max(dict[j][i],maxi)\n",
    "        mini=min(dict[j][i],mini)\n",
    "    print(f'{i} 최고점수 : {maxi}, 최저점수 : {mini}')"
   ]
  },
  {
   "cell_type": "code",
   "execution_count": 63,
   "id": "bc257157",
   "metadata": {},
   "outputs": [
    {
     "name": "stdout",
     "output_type": "stream",
     "text": [
      "--[2단]--     --[3단]--     --[4단]--     \n",
      "2*1=2\t      3*1=3\t      4*1=4\t      \n",
      "2*2=4\t      3*2=6\t      4*2=8\t      \n",
      "2*3=6\t      3*3=9\t      4*3=12\t      \n",
      "2*4=8\t      3*4=12\t      4*4=16\t      \n",
      "2*5=10\t      3*5=15\t      4*5=20\t      \n",
      "2*6=12\t      3*6=18\t      4*6=24\t      \n",
      "2*7=14\t      3*7=21\t      4*7=28\t      \n",
      "2*8=16\t      3*8=24\t      4*8=32\t      \n",
      "2*9=18\t      3*9=27\t      4*9=36\t      \n"
     ]
    }
   ],
   "source": [
    "#13. 구구단 n단부터 m단까지를 반복문 1개로 구현하는 함수를 생성하세요.\n",
    "n,m=2,4\n",
    "def googoo(n,m):\n",
    "    for i in range(n,m+1):\n",
    "        print(f\"--[{i}단]--\",end='     ')\n",
    "    print()\n",
    "    for i in range(1,10):\n",
    "        for j in range(n,m+1):\n",
    "            print(f'{j}*{i}={i*j}',end='\\t      ')\n",
    "        print('')\n",
    "googoo(n,m)"
   ]
  },
  {
   "cell_type": "code",
   "execution_count": 17,
   "id": "870457e6",
   "metadata": {},
   "outputs": [],
   "source": [
    "#14. 입력받은 숫자에서 천자리, 백자리, 십자리, 일자리를 출력하세요.\n",
    "n=12345\n",
    "def num(n):\n",
    "    print('숫자:',n)\n",
    "    s=str(n)[::-1]\n",
    "    ss=['일','십','백','천','만','십만']\n",
    "    for i in range(1,len(s)+1):\n",
    "        print(ss[len(s)-i]+'의 자리 : ',s[-i])"
   ]
  },
  {
   "cell_type": "code",
   "execution_count": 25,
   "id": "3d0fddf9",
   "metadata": {},
   "outputs": [
    {
     "name": "stdout",
     "output_type": "stream",
     "text": [
      "AB\n"
     ]
    }
   ],
   "source": [
    "#15. 정수, 실수, 논리, 문자열 등 데이터 입력 시 모두 덧셈한 결과 출력하는 함수를 \n",
    "#생성하세요.\n",
    "def addData(*a):\n",
    "    if len(a)==0:\n",
    "        return print('None')\n",
    "    try:\n",
    "        return sum(a)\n",
    "    except:\n",
    "        b=''\n",
    "        for i in a:\n",
    "            b+=i\n",
    "        return print(b)\n",
    "addData('A','B')"
   ]
  },
  {
   "cell_type": "code",
   "execution_count": 26,
   "id": "0f5d7b8f",
   "metadata": {},
   "outputs": [
    {
     "name": "stdout",
     "output_type": "stream",
     "text": [
      "       *       \n",
      "      ***      \n",
      "     *****     \n",
      "    *******    \n",
      "   *********   \n",
      "  ***********  \n",
      " ************* \n",
      "***************\n",
      "     ****     \n",
      "     ****     \n",
      "Merry Christmas\n",
      "     2023     \n"
     ]
    }
   ],
   "source": [
    "#16. 아래 출력결과가 나오도록 코드를 작성하세요.\n",
    "for i in range(8):\n",
    "    print(' '*(7-i)+'*'*(2*i+1)+' '*(7-i))\n",
    "for i in range(2):\n",
    "    print(' '*(5)+'*'*(4)+' '*(5))\n",
    "print('Merry Christmas')\n",
    "print(' '*(5)+'2023'+' '*(5))"
   ]
  },
  {
   "cell_type": "code",
   "execution_count": 27,
   "id": "ff7e6688",
   "metadata": {},
   "outputs": [
    {
     "name": "stdout",
     "output_type": "stream",
     "text": [
      "mERRY cHRISTMAS hAppY nEW yeAr\n"
     ]
    }
   ],
   "source": [
    "#17. 문자열 ‘Merry Christmas HaPPy New YEaR’에서 대문자는 소문자로, 소문자는 대문자로 \n",
    "#변환하여 출력하는 코드를 구현하세요.(List Comprehension)\n",
    "a='Merry Christmas HaPPy New YEaR'\n",
    "b=[i.lower() if i.isupper() else i.upper() for i in a]\n",
    "print(''.join(b))"
   ]
  },
  {
   "cell_type": "code",
   "execution_count": 28,
   "id": "c28874a9",
   "metadata": {},
   "outputs": [],
   "source": [
    "#18. 6가지 연산 결과를 한꺼번에 반환하는 함수를 생성 후 호출하여 결과를 아래와 같이출력해 주세요.\n",
    "def cal(n,m):\n",
    "    print(n+m)\n",
    "    print(n-m)\n",
    "    print(n*m)\n",
    "    if m==0:\n",
    "        print(0)\n",
    "        print(0)\n",
    "        print(0)\n",
    "    else:\n",
    "        print(n/m)\n",
    "        print(n//m)\n",
    "        print(n%m)"
   ]
  },
  {
   "cell_type": "code",
   "execution_count": 36,
   "id": "a92d09b0",
   "metadata": {},
   "outputs": [
    {
     "data": {
      "text/plain": [
       "{'age': 12, 'id': 'mm'}"
      ]
     },
     "execution_count": 36,
     "metadata": {},
     "output_type": "execute_result"
    }
   ],
   "source": [
    "#19. 다양한 사람들로부터 개인정보를 입력받는 함수를 구현하세요.\n",
    "def Info(a):\n",
    "    l={}\n",
    "    for i in a.keys():\n",
    "        l[i]=a[i]\n",
    "    return l\n",
    "Info({'age':12,'id':'mm'})"
   ]
  },
  {
   "cell_type": "code",
   "execution_count": 42,
   "id": "dad806fd",
   "metadata": {},
   "outputs": [
    {
     "name": "stdout",
     "output_type": "stream",
     "text": [
      "------------------------------------------------------\n",
      "<나의계산기>\n",
      "------------------------------------------------------\n",
      "메뉴 선택(1~6)\n",
      "2\n",
      "1+2=3\n",
      "------------------------------------------------------\n",
      "<나의계산기>\n",
      "------------------------------------------------------\n",
      "메뉴 선택(1~6)\n",
      "6\n",
      "나의계산기 프로그램을 종료합니다.\n"
     ]
    }
   ],
   "source": [
    "#20. [나의 계산기] 프로그램을 구현하세요.\n",
    "while True:\n",
    "    print('------------------------------------------------------')\n",
    "    print('<나의계산기>')\n",
    "    print('------------------------------------------------------')\n",
    "    print('메뉴 선택(1~6)')\n",
    "    a=int(input())\n",
    "    if a==1:\n",
    "        print('숫자 2개 입력')\n",
    "        b,c=map(int,input().split())\n",
    "    elif a==2:\n",
    "        print('{0}+{1}={2}'.format(b,c,b+c))\n",
    "    elif a==3:\n",
    "        print('{0}-{1}={2}'.format(b,c,b-c))\n",
    "    elif a==4:\n",
    "        print('{0}*{1}={2}'.format(b,c,b*c))\n",
    "    elif a==5:\n",
    "        print('{0}/{1}={2}'.format(b,c,b/c)) \n",
    "    elif a==6:\n",
    "        print('나의계산기 프로그램을 종료합니다.')\n",
    "        break"
   ]
  },
  {
   "cell_type": "code",
   "execution_count": null,
   "id": "2d7cba84",
   "metadata": {},
   "outputs": [],
   "source": []
  }
 ],
 "metadata": {
  "kernelspec": {
   "display_name": "Python 3 (ipykernel)",
   "language": "python",
   "name": "python3"
  },
  "language_info": {
   "codemirror_mode": {
    "name": "ipython",
    "version": 3
   },
   "file_extension": ".py",
   "mimetype": "text/x-python",
   "name": "python",
   "nbconvert_exporter": "python",
   "pygments_lexer": "ipython3",
   "version": "3.9.12"
  }
 },
 "nbformat": 4,
 "nbformat_minor": 5
}

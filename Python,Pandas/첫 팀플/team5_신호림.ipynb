{
 "cells": [
  {
   "cell_type": "code",
   "execution_count": 20,
   "metadata": {},
   "outputs": [],
   "source": [
    "# ===========================================================================================\n",
    "# 대주제: 범죄 발생량 현황과 요인 분석\n",
    "# ===========================================================================================\n",
    "# 소주제\n",
    "# - 서울시 구별 범죄발생량 통계 분석\n",
    "# - 유동인구와 범죄발생률의 관계성 \n",
    "# ==========================================================================================="
   ]
  },
  {
   "cell_type": "code",
   "execution_count": 21,
   "metadata": {},
   "outputs": [],
   "source": [
    "# 모듈 로딩\n",
    "import pandas as pd\n",
    "import matplotlib.pyplot as plt"
   ]
  },
  {
   "cell_type": "code",
   "execution_count": 26,
   "metadata": {},
   "outputs": [
    {
     "name": "stderr",
     "output_type": "stream",
     "text": [
      "C:\\Users\\hoon3\\anaconda3\\lib\\site-packages\\openpyxl\\styles\\stylesheet.py:226: UserWarning: Workbook contains no default style, apply openpyxl's default\n",
      "  warn(\"Workbook contains no default style, apply openpyxl's default\")\n"
     ]
    }
   ],
   "source": [
    "# 파일 => DF\n",
    "FILE='5대+범죄+발생현황_20230105161648.xlsx'\n",
    "crmDF=pd.read_excel(FILE)"
   ]
  },
  {
   "cell_type": "code",
   "execution_count": 27,
   "metadata": {},
   "outputs": [
    {
     "data": {
      "text/html": [
       "<div>\n",
       "<style scoped>\n",
       "    .dataframe tbody tr th:only-of-type {\n",
       "        vertical-align: middle;\n",
       "    }\n",
       "\n",
       "    .dataframe tbody tr th {\n",
       "        vertical-align: top;\n",
       "    }\n",
       "\n",
       "    .dataframe thead th {\n",
       "        text-align: right;\n",
       "    }\n",
       "</style>\n",
       "<table border=\"1\" class=\"dataframe\">\n",
       "  <thead>\n",
       "    <tr style=\"text-align: right;\">\n",
       "      <th></th>\n",
       "      <th>자치구별(1)</th>\n",
       "      <th>자치구별(2)</th>\n",
       "      <th>2014</th>\n",
       "      <th>2015</th>\n",
       "      <th>2016</th>\n",
       "      <th>2017</th>\n",
       "      <th>2018</th>\n",
       "      <th>2019</th>\n",
       "      <th>2020</th>\n",
       "      <th>2021</th>\n",
       "    </tr>\n",
       "  </thead>\n",
       "  <tbody>\n",
       "    <tr>\n",
       "      <th>0</th>\n",
       "      <td>자치구별(1)</td>\n",
       "      <td>자치구별(2)</td>\n",
       "      <td>합계</td>\n",
       "      <td>합계</td>\n",
       "      <td>합계</td>\n",
       "      <td>합계</td>\n",
       "      <td>합계</td>\n",
       "      <td>합계</td>\n",
       "      <td>합계</td>\n",
       "      <td>합계</td>\n",
       "    </tr>\n",
       "    <tr>\n",
       "      <th>1</th>\n",
       "      <td>자치구별(1)</td>\n",
       "      <td>자치구별(2)</td>\n",
       "      <td>발생</td>\n",
       "      <td>발생</td>\n",
       "      <td>발생</td>\n",
       "      <td>발생</td>\n",
       "      <td>발생</td>\n",
       "      <td>발생</td>\n",
       "      <td>발생</td>\n",
       "      <td>발생</td>\n",
       "    </tr>\n",
       "    <tr>\n",
       "      <th>2</th>\n",
       "      <td>합계</td>\n",
       "      <td>소계</td>\n",
       "      <td>130674.0</td>\n",
       "      <td>126401.0</td>\n",
       "      <td>117839.0</td>\n",
       "      <td>107835.0</td>\n",
       "      <td>101948.0</td>\n",
       "      <td>103668.0</td>\n",
       "      <td>92679.0</td>\n",
       "      <td>80445.0</td>\n",
       "    </tr>\n",
       "    <tr>\n",
       "      <th>3</th>\n",
       "      <td>NaN</td>\n",
       "      <td>종로구</td>\n",
       "      <td>5021.0</td>\n",
       "      <td>4705.0</td>\n",
       "      <td>4459.0</td>\n",
       "      <td>4057.0</td>\n",
       "      <td>3690.0</td>\n",
       "      <td>3846.0</td>\n",
       "      <td>3102.0</td>\n",
       "      <td>2712.0</td>\n",
       "    </tr>\n",
       "    <tr>\n",
       "      <th>4</th>\n",
       "      <td>NaN</td>\n",
       "      <td>중구</td>\n",
       "      <td>5231.0</td>\n",
       "      <td>4954.0</td>\n",
       "      <td>4584.0</td>\n",
       "      <td>4184.0</td>\n",
       "      <td>4030.0</td>\n",
       "      <td>4327.0</td>\n",
       "      <td>3411.0</td>\n",
       "      <td>2861.0</td>\n",
       "    </tr>\n",
       "  </tbody>\n",
       "</table>\n",
       "</div>"
      ],
      "text/plain": [
       "   자치구별(1)  자치구별(2)      2014      2015      2016      2017      2018  \\\n",
       "0  자치구별(1)  자치구별(2)        합계        합계        합계        합계        합계   \n",
       "1  자치구별(1)  자치구별(2)        발생        발생        발생        발생        발생   \n",
       "2       합계       소계  130674.0  126401.0  117839.0  107835.0  101948.0   \n",
       "3      NaN      종로구    5021.0    4705.0    4459.0    4057.0    3690.0   \n",
       "4      NaN       중구    5231.0    4954.0    4584.0    4184.0    4030.0   \n",
       "\n",
       "       2019     2020     2021  \n",
       "0        합계       합계       합계  \n",
       "1        발생       발생       발생  \n",
       "2  103668.0  92679.0  80445.0  \n",
       "3    3846.0   3102.0   2712.0  \n",
       "4    4327.0   3411.0   2861.0  "
      ]
     },
     "execution_count": 27,
     "metadata": {},
     "output_type": "execute_result"
    }
   ],
   "source": [
    "# 데이터 확인\n",
    "crmDF.head()"
   ]
  },
  {
   "cell_type": "code",
   "execution_count": 28,
   "metadata": {},
   "outputs": [],
   "source": [
    "# 필요없는 행,렬 삭제 \n",
    "crmDF.drop([0,1],inplace=True)\n",
    "crmDF.drop('자치구별(1)',axis=1,inplace=True)"
   ]
  },
  {
   "cell_type": "code",
   "execution_count": 29,
   "metadata": {},
   "outputs": [
    {
     "data": {
      "text/plain": [
       "Index(['자치구별(2)', '2014', '2015', '2016', '2017', '2018', '2019', '2020',\n",
       "       '2021'],\n",
       "      dtype='object')"
      ]
     },
     "execution_count": 29,
     "metadata": {},
     "output_type": "execute_result"
    }
   ],
   "source": [
    "# 인덱스 정리\n",
    "crmDF.columns"
   ]
  },
  {
   "cell_type": "code",
   "execution_count": 30,
   "metadata": {},
   "outputs": [],
   "source": [
    "crmDF.columns=['location', '2014', '2015', '2016', '2017', '2018', '2019','2020', '2021']"
   ]
  },
  {
   "cell_type": "code",
   "execution_count": 31,
   "metadata": {},
   "outputs": [],
   "source": [
    "# 구 이름으로 인덱스 설정\n",
    "crmDF.set_index('location',inplace=True)"
   ]
  },
  {
   "cell_type": "code",
   "execution_count": 32,
   "metadata": {},
   "outputs": [
    {
     "data": {
      "text/html": [
       "<div>\n",
       "<style scoped>\n",
       "    .dataframe tbody tr th:only-of-type {\n",
       "        vertical-align: middle;\n",
       "    }\n",
       "\n",
       "    .dataframe tbody tr th {\n",
       "        vertical-align: top;\n",
       "    }\n",
       "\n",
       "    .dataframe thead th {\n",
       "        text-align: right;\n",
       "    }\n",
       "</style>\n",
       "<table border=\"1\" class=\"dataframe\">\n",
       "  <thead>\n",
       "    <tr style=\"text-align: right;\">\n",
       "      <th></th>\n",
       "      <th>2014</th>\n",
       "      <th>2015</th>\n",
       "      <th>2016</th>\n",
       "      <th>2017</th>\n",
       "      <th>2018</th>\n",
       "      <th>2019</th>\n",
       "      <th>2020</th>\n",
       "      <th>2021</th>\n",
       "    </tr>\n",
       "    <tr>\n",
       "      <th>location</th>\n",
       "      <th></th>\n",
       "      <th></th>\n",
       "      <th></th>\n",
       "      <th></th>\n",
       "      <th></th>\n",
       "      <th></th>\n",
       "      <th></th>\n",
       "      <th></th>\n",
       "    </tr>\n",
       "  </thead>\n",
       "  <tbody>\n",
       "    <tr>\n",
       "      <th>소계</th>\n",
       "      <td>130674.0</td>\n",
       "      <td>126401.0</td>\n",
       "      <td>117839.0</td>\n",
       "      <td>107835.0</td>\n",
       "      <td>101948.0</td>\n",
       "      <td>103668.0</td>\n",
       "      <td>92679.0</td>\n",
       "      <td>80445.0</td>\n",
       "    </tr>\n",
       "    <tr>\n",
       "      <th>종로구</th>\n",
       "      <td>5021.0</td>\n",
       "      <td>4705.0</td>\n",
       "      <td>4459.0</td>\n",
       "      <td>4057.0</td>\n",
       "      <td>3690.0</td>\n",
       "      <td>3846.0</td>\n",
       "      <td>3102.0</td>\n",
       "      <td>2712.0</td>\n",
       "    </tr>\n",
       "    <tr>\n",
       "      <th>중구</th>\n",
       "      <td>5231.0</td>\n",
       "      <td>4954.0</td>\n",
       "      <td>4584.0</td>\n",
       "      <td>4184.0</td>\n",
       "      <td>4030.0</td>\n",
       "      <td>4327.0</td>\n",
       "      <td>3411.0</td>\n",
       "      <td>2861.0</td>\n",
       "    </tr>\n",
       "    <tr>\n",
       "      <th>용산구</th>\n",
       "      <td>3799.0</td>\n",
       "      <td>3820.0</td>\n",
       "      <td>4137.0</td>\n",
       "      <td>4060.0</td>\n",
       "      <td>3411.0</td>\n",
       "      <td>3313.0</td>\n",
       "      <td>2969.0</td>\n",
       "      <td>2381.0</td>\n",
       "    </tr>\n",
       "    <tr>\n",
       "      <th>성동구</th>\n",
       "      <td>3582.0</td>\n",
       "      <td>3358.0</td>\n",
       "      <td>3026.0</td>\n",
       "      <td>2767.0</td>\n",
       "      <td>2457.0</td>\n",
       "      <td>2512.0</td>\n",
       "      <td>2362.0</td>\n",
       "      <td>2112.0</td>\n",
       "    </tr>\n",
       "  </tbody>\n",
       "</table>\n",
       "</div>"
      ],
      "text/plain": [
       "              2014      2015      2016      2017      2018      2019     2020  \\\n",
       "location                                                                        \n",
       "소계        130674.0  126401.0  117839.0  107835.0  101948.0  103668.0  92679.0   \n",
       "종로구         5021.0    4705.0    4459.0    4057.0    3690.0    3846.0   3102.0   \n",
       "중구          5231.0    4954.0    4584.0    4184.0    4030.0    4327.0   3411.0   \n",
       "용산구         3799.0    3820.0    4137.0    4060.0    3411.0    3313.0   2969.0   \n",
       "성동구         3582.0    3358.0    3026.0    2767.0    2457.0    2512.0   2362.0   \n",
       "\n",
       "             2021  \n",
       "location           \n",
       "소계        80445.0  \n",
       "종로구        2712.0  \n",
       "중구         2861.0  \n",
       "용산구        2381.0  \n",
       "성동구        2112.0  "
      ]
     },
     "execution_count": 32,
     "metadata": {},
     "output_type": "execute_result"
    }
   ],
   "source": [
    "crmDF.head()"
   ]
  },
  {
   "cell_type": "code",
   "execution_count": 33,
   "metadata": {},
   "outputs": [
    {
     "name": "stderr",
     "output_type": "stream",
     "text": [
      "C:\\Users\\hoon3\\AppData\\Local\\Temp\\ipykernel_8932\\1139117733.py:3: MatplotlibDeprecationWarning: \n",
      "The get_fontconfig_fonts function was deprecated in Matplotlib 3.5 and will be removed two minor releases later.\n",
      "  fm.get_fontconfig_fonts()\n"
     ]
    }
   ],
   "source": [
    "# plot에 한글표기 하기위해서 font manager 로딩\n",
    "import matplotlib.font_manager as fm\n",
    "fm.get_fontconfig_fonts()\n",
    "font_location = 'C:\\Windows\\Fonts\\malgun.ttf'\n",
    "font_name = fm.FontProperties(fname=font_location).get_name()\n",
    "plt.rc('font', family=font_name)"
   ]
  },
  {
   "cell_type": "code",
   "execution_count": 34,
   "metadata": {},
   "outputs": [
    {
     "data": {
      "text/plain": [
       "Text(0.5, 1.0, '서울시 연간 범죄발생량')"
      ]
     },
     "execution_count": 34,
     "metadata": {},
     "output_type": "execute_result"
    },
    {
     "data": {
      "image/png": "[encoded data removed]",
      "text/plain": [
       "<Figure size 432x288 with 1 Axes>"
      ]
     },
     "metadata": {
      "needs_background": "light"
     },
     "output_type": "display_data"
    }
   ],
   "source": [
    "# 서울시 전체 연도별 범죄 발생량 plot 확인\n",
    "sumDF=crmDF.sum()\n",
    "plt.plot(sumDF.index,sumDF.values)\n",
    "plt.title('서울시 연간 범죄발생량')"
   ]
  },
  {
   "cell_type": "code",
   "execution_count": 35,
   "metadata": {},
   "outputs": [],
   "source": [
    "# 구별 범죄발생량 plot 보기위해 구별로 추출\n",
    "DF00=crmDF.iloc[0];DF01=crmDF.iloc[1];DF02=crmDF.iloc[2];DF03=crmDF.iloc[3]\n",
    "DF04=crmDF.iloc[4];DF05=crmDF.iloc[5];DF06=crmDF.iloc[6];DF07=crmDF.iloc[7]\n",
    "DF08=crmDF.iloc[8];DF09=crmDF.iloc[9];DF10=crmDF.iloc[10];DF11=crmDF.iloc[11]\n",
    "DF12=crmDF.iloc[12];DF13=crmDF.iloc[13];DF14=crmDF.iloc[14];DF15=crmDF.iloc[15]\n",
    "DF16=crmDF.iloc[16];DF17=crmDF.iloc[17];DF18=crmDF.iloc[18];DF19=crmDF.iloc[19]\n",
    "DF20=crmDF.iloc[20];DF21=crmDF.iloc[21];DF22=crmDF.iloc[22];DF23=crmDF.iloc[23]\n",
    "DF24=crmDF.iloc[24]"
   ]
  },
  {
   "cell_type": "code",
   "execution_count": 36,
   "metadata": {},
   "outputs": [
    {
     "data": {
      "image/png": "[encoded data removed]",
      "text/plain": [
       "<Figure size 432x288 with 25 Axes>"
      ]
     },
     "metadata": {
      "needs_background": "light"
     },
     "output_type": "display_data"
    }
   ],
   "source": [
    "# 방법 못찾아서 복붙노가다\n",
    "\n",
    "fig=plt.figure()\n",
    "axes1=fig.add_subplot(5,5,1);axes2=fig.add_subplot(5,5,2)\n",
    "axes3=fig.add_subplot(5,5,3);axes4=fig.add_subplot(5,5,4)\n",
    "axes5=fig.add_subplot(5,5,5);axes6=fig.add_subplot(5,5,6)\n",
    "axes7=fig.add_subplot(5,5,7);axes8=fig.add_subplot(5,5,8)\n",
    "axes9=fig.add_subplot(5,5,9);axes10=fig.add_subplot(5,5,10)\n",
    "axes11=fig.add_subplot(5,5,11);axes12=fig.add_subplot(5,5,12)\n",
    "axes13=fig.add_subplot(5,5,13);axes14=fig.add_subplot(5,5,14)\n",
    "axes15=fig.add_subplot(5,5,15);axes16=fig.add_subplot(5,5,16)\n",
    "axes17=fig.add_subplot(5,5,17);axes18=fig.add_subplot(5,5,18)\n",
    "axes19=fig.add_subplot(5,5,19);axes20=fig.add_subplot(5,5,20)\n",
    "axes21=fig.add_subplot(5,5,21);axes22=fig.add_subplot(5,5,22)\n",
    "axes23=fig.add_subplot(5,5,23);axes24=fig.add_subplot(5,5,24)\n",
    "axes25=fig.add_subplot(5,5,25)\n",
    "axes1.plot(DF00.index,DF00.values);axes2.plot(DF01.index,DF01.values)\n",
    "axes3.plot(DF02.index,DF02.values);axes4.plot(DF03.index,DF03.values)\n",
    "axes5.plot(DF04.index,DF04.values);axes6.plot(DF05.index,DF05.values)\n",
    "axes7.plot(DF06.index,DF06.values);axes8.plot(DF07.index,DF07.values)\n",
    "axes9.plot(DF08.index,DF08.values);axes10.plot(DF09.index,DF09.values)\n",
    "axes11.plot(DF10.index,DF10.values);axes12.plot(DF11.index,DF11.values)\n",
    "axes13.plot(DF12.index,DF12.values);axes14.plot(DF13.index,DF13.values)\n",
    "axes15.plot(DF14.index,DF14.values);axes16.plot(DF15.index,DF15.values)\n",
    "axes17.plot(DF16.index,DF16.values);axes18.plot(DF17.index,DF17.values)\n",
    "axes19.plot(DF18.index,DF18.values);axes20.plot(DF19.index,DF19.values)\n",
    "axes21.plot(DF20.index,DF20.values);axes22.plot(DF21.index,DF21.values)\n",
    "axes23.plot(DF22.index,DF22.values);axes24.plot(DF23.index,DF23.values)\n",
    "axes25.plot(DF24.index,DF24.values)\n",
    "axes1.xaxis.set_visible(False);axes1.yaxis.set_visible(False)\n",
    "axes2.xaxis.set_visible(False);axes2.yaxis.set_visible(False)\n",
    "axes3.xaxis.set_visible(False);axes3.yaxis.set_visible(False)\n",
    "axes4.xaxis.set_visible(False);axes4.yaxis.set_visible(False)\n",
    "axes5.xaxis.set_visible(False);axes5.yaxis.set_visible(False)\n",
    "axes6.xaxis.set_visible(False);axes6.yaxis.set_visible(False)\n",
    "axes7.xaxis.set_visible(False);axes7.yaxis.set_visible(False)\n",
    "axes8.xaxis.set_visible(False);axes8.yaxis.set_visible(False)\n",
    "axes9.xaxis.set_visible(False);axes9.yaxis.set_visible(False)\n",
    "axes10.xaxis.set_visible(False);axes10.yaxis.set_visible(False)\n",
    "axes11.xaxis.set_visible(False);axes11.yaxis.set_visible(False)\n",
    "axes12.xaxis.set_visible(False);axes12.yaxis.set_visible(False)\n",
    "axes13.xaxis.set_visible(False);axes13.yaxis.set_visible(False)\n",
    "axes14.xaxis.set_visible(False);axes14.yaxis.set_visible(False)\n",
    "axes15.xaxis.set_visible(False);axes15.yaxis.set_visible(False)\n",
    "axes16.xaxis.set_visible(False);axes16.yaxis.set_visible(False)\n",
    "axes17.xaxis.set_visible(False);axes17.yaxis.set_visible(False)\n",
    "axes18.xaxis.set_visible(False);axes18.yaxis.set_visible(False)\n",
    "axes19.xaxis.set_visible(False);axes19.yaxis.set_visible(False)\n",
    "axes20.xaxis.set_visible(False);axes20.yaxis.set_visible(False)\n",
    "axes21.xaxis.set_visible(False);axes21.yaxis.set_visible(False)\n",
    "axes22.xaxis.set_visible(False);axes22.yaxis.set_visible(False)\n",
    "axes23.xaxis.set_visible(False);axes23.yaxis.set_visible(False)\n",
    "axes24.xaxis.set_visible(False);axes24.yaxis.set_visible(False)\n",
    "axes25.xaxis.set_visible(False);axes25.yaxis.set_visible(False)"
   ]
  },
  {
   "cell_type": "code",
   "execution_count": 37,
   "metadata": {},
   "outputs": [],
   "source": [
    "# 방법 찾았음 globals()사용\n",
    "for i in range(0,25):\n",
    "    globals()[f'DF{i+1}']=crmDF.iloc[i]"
   ]
  },
  {
   "cell_type": "code",
   "execution_count": 38,
   "metadata": {},
   "outputs": [
    {
     "data": {
      "image/png": "[encoded data removed]",
      "text/plain": [
       "<Figure size 432x288 with 25 Axes>"
      ]
     },
     "metadata": {
      "needs_background": "light"
     },
     "output_type": "display_data"
    }
   ],
   "source": [
    "fig=plt.figure()\n",
    "for i in range(1,26):\n",
    "    globals()[f'axes{i}']=fig.add_subplot(5,5,i)\n",
    "    globals()[f'axes{i}'].plot(globals()[f'DF{i}'].index,globals()[f'DF{i}'].values)\n",
    "    globals()[f'axes{i}'].xaxis.set_visible(False)\n",
    "    globals()[f'axes{i}'].yaxis.set_visible(False)"
   ]
  },
  {
   "cell_type": "code",
   "execution_count": 39,
   "metadata": {},
   "outputs": [],
   "source": [
    "# 2014~2021 구별 범죄발생량 그래프\n",
    "# 부분적으로 튀는 곳은 있으나 전체적으로 감소하는 추세"
   ]
  },
  {
   "cell_type": "code",
   "execution_count": 40,
   "metadata": {},
   "outputs": [
    {
     "data": {
      "image/png": "[encoded data removed]",
      "text/plain": [
       "<Figure size 432x288 with 1 Axes>"
      ]
     },
     "metadata": {
      "needs_background": "light"
     },
     "output_type": "display_data"
    }
   ],
   "source": [
    "# 구별 범죄발생량 합쳐봄\n",
    "for i in range(1,26):\n",
    "    plt.plot(globals()[f'DF{i}'].index,globals()[f'DF{i}'].values)\n",
    "    \n",
    "# 다 감소하긴하는데 유독 눈에 띄게 범죄 발생량 많은 구 있음 -> 확인필요"
   ]
  },
  {
   "cell_type": "code",
   "execution_count": 41,
   "metadata": {},
   "outputs": [
    {
     "data": {
      "text/plain": [
       "<function matplotlib.pyplot.show(close=None, block=None)>"
      ]
     },
     "execution_count": 41,
     "metadata": {},
     "output_type": "execute_result"
    },
    {
     "data": {
      "image/png": "[encoded data removed]",
      "text/plain": [
       "<Figure size 432x288 with 1 Axes>"
      ]
     },
     "metadata": {
      "needs_background": "light"
     },
     "output_type": "display_data"
    }
   ],
   "source": [
    "# 범례 이용해서 확인하고자 labeling에 index들 넣고 plt.legend() 메서드 이용함\n",
    "\n",
    "labeling=['종로구', '중구', '용산구', '성동구', '광진구', '동대문구', '중랑구', '성북구', '강북구', '도봉구',\n",
    "       '노원구', '은평구', '서대문구', '마포구', '양천구', '강서구', '구로구', '금천구', '영등포구', '동작구',\n",
    "       '관악구', '서초구', '강남구', '송파구', '강동구']\n",
    "for i in range(1,26):\n",
    "    plt.plot(globals()[f'DF{i}'].index,globals()[f'DF{i}'].values)\n",
    "plt.legend(labels=labeling)\n",
    "plt.show"
   ]
  },
  {
   "cell_type": "code",
   "execution_count": 42,
   "metadata": {},
   "outputs": [],
   "source": [
    "# 범례 위치도 마음에 안들뿐더러 자치구 수가 25개라서 색깔로 구분하기는 어려웠음\n",
    "# => mean이용해서 구한 평균 범죄발생량을 정렬해서 확인하는 방법 사용"
   ]
  },
  {
   "cell_type": "code",
   "execution_count": 43,
   "metadata": {},
   "outputs": [
    {
     "data": {
      "text/plain": [
       "location\n",
       "소계      107686.125\n",
       "강남구       7707.000\n",
       "송파구       6009.625\n",
       "영등포구      5902.125\n",
       "관악구       5548.500\n",
       "dtype: float64"
      ]
     },
     "execution_count": 43,
     "metadata": {},
     "output_type": "execute_result"
    }
   ],
   "source": [
    "crmDF.T.mean().sort_values(ascending=False).head()"
   ]
  },
  {
   "cell_type": "code",
   "execution_count": 44,
   "metadata": {},
   "outputs": [],
   "source": [
    "# 2014~2021년 평균 범죄발생량 비교를 통해 강남구가 범죄 발생량 가장 높다는것 확인\n",
    "# 강남구 인구가 많아서 그런것은 아닌지 의심\n",
    "\n",
    "# 인구수로 나눈 범죄발생률 확인 필요"
   ]
  },
  {
   "cell_type": "code",
   "execution_count": 45,
   "metadata": {
    "collapsed": true
   },
   "outputs": [
    {
     "ename": "FileNotFoundError",
     "evalue": "[Errno 2] No such file or directory: './dataset/주민등록인구(연령별_동별)_20230105212646.xlsx'",
     "output_type": "error",
     "traceback": [
      "\u001b[1;31m---------------------------------------------------------------------------\u001b[0m",
      "\u001b[1;31mFileNotFoundError\u001b[0m                         Traceback (most recent call last)",
      "Input \u001b[1;32mIn [45]\u001b[0m, in \u001b[0;36m<cell line: 5>\u001b[1;34m()\u001b[0m\n\u001b[0;32m      1\u001b[0m \u001b[38;5;66;03m# 방법은 위와 동일하므로 간단하게 작업 내용만 요약\u001b[39;00m\n\u001b[0;32m      2\u001b[0m \n\u001b[0;32m      3\u001b[0m \u001b[38;5;66;03m# 구별 주민등록인구수 파일 => DF\u001b[39;00m\n\u001b[0;32m      4\u001b[0m FILE\u001b[38;5;241m=\u001b[39m\u001b[38;5;124m'\u001b[39m\u001b[38;5;124m./dataset/주민등록인구(연령별_동별)_20230105212646.xlsx\u001b[39m\u001b[38;5;124m'\u001b[39m\n\u001b[1;32m----> 5\u001b[0m citizen\u001b[38;5;241m=\u001b[39m\u001b[43mpd\u001b[49m\u001b[38;5;241;43m.\u001b[39;49m\u001b[43mread_excel\u001b[49m\u001b[43m(\u001b[49m\u001b[43mFILE\u001b[49m\u001b[43m)\u001b[49m\n\u001b[0;32m      7\u001b[0m \u001b[38;5;66;03m# 필요없는 행,렬 삭제\u001b[39;00m\n\u001b[0;32m      8\u001b[0m citizen\u001b[38;5;241m.\u001b[39mdrop([\u001b[38;5;241m0\u001b[39m],inplace\u001b[38;5;241m=\u001b[39m\u001b[38;5;28;01mTrue\u001b[39;00m)\n",
      "File \u001b[1;32m~\\anaconda3\\lib\\site-packages\\pandas\\util\\_decorators.py:311\u001b[0m, in \u001b[0;36mdeprecate_nonkeyword_arguments.<locals>.decorate.<locals>.wrapper\u001b[1;34m(*args, **kwargs)\u001b[0m\n\u001b[0;32m    305\u001b[0m \u001b[38;5;28;01mif\u001b[39;00m \u001b[38;5;28mlen\u001b[39m(args) \u001b[38;5;241m>\u001b[39m num_allow_args:\n\u001b[0;32m    306\u001b[0m     warnings\u001b[38;5;241m.\u001b[39mwarn(\n\u001b[0;32m    307\u001b[0m         msg\u001b[38;5;241m.\u001b[39mformat(arguments\u001b[38;5;241m=\u001b[39marguments),\n\u001b[0;32m    308\u001b[0m         \u001b[38;5;167;01mFutureWarning\u001b[39;00m,\n\u001b[0;32m    309\u001b[0m         stacklevel\u001b[38;5;241m=\u001b[39mstacklevel,\n\u001b[0;32m    310\u001b[0m     )\n\u001b[1;32m--> 311\u001b[0m \u001b[38;5;28;01mreturn\u001b[39;00m func(\u001b[38;5;241m*\u001b[39margs, \u001b[38;5;241m*\u001b[39m\u001b[38;5;241m*\u001b[39mkwargs)\n",
      "File \u001b[1;32m~\\anaconda3\\lib\\site-packages\\pandas\\io\\excel\\_base.py:457\u001b[0m, in \u001b[0;36mread_excel\u001b[1;34m(io, sheet_name, header, names, index_col, usecols, squeeze, dtype, engine, converters, true_values, false_values, skiprows, nrows, na_values, keep_default_na, na_filter, verbose, parse_dates, date_parser, thousands, decimal, comment, skipfooter, convert_float, mangle_dupe_cols, storage_options)\u001b[0m\n\u001b[0;32m    455\u001b[0m \u001b[38;5;28;01mif\u001b[39;00m \u001b[38;5;129;01mnot\u001b[39;00m \u001b[38;5;28misinstance\u001b[39m(io, ExcelFile):\n\u001b[0;32m    456\u001b[0m     should_close \u001b[38;5;241m=\u001b[39m \u001b[38;5;28;01mTrue\u001b[39;00m\n\u001b[1;32m--> 457\u001b[0m     io \u001b[38;5;241m=\u001b[39m \u001b[43mExcelFile\u001b[49m\u001b[43m(\u001b[49m\u001b[43mio\u001b[49m\u001b[43m,\u001b[49m\u001b[43m \u001b[49m\u001b[43mstorage_options\u001b[49m\u001b[38;5;241;43m=\u001b[39;49m\u001b[43mstorage_options\u001b[49m\u001b[43m,\u001b[49m\u001b[43m \u001b[49m\u001b[43mengine\u001b[49m\u001b[38;5;241;43m=\u001b[39;49m\u001b[43mengine\u001b[49m\u001b[43m)\u001b[49m\n\u001b[0;32m    458\u001b[0m \u001b[38;5;28;01melif\u001b[39;00m engine \u001b[38;5;129;01mand\u001b[39;00m engine \u001b[38;5;241m!=\u001b[39m io\u001b[38;5;241m.\u001b[39mengine:\n\u001b[0;32m    459\u001b[0m     \u001b[38;5;28;01mraise\u001b[39;00m \u001b[38;5;167;01mValueError\u001b[39;00m(\n\u001b[0;32m    460\u001b[0m         \u001b[38;5;124m\"\u001b[39m\u001b[38;5;124mEngine should not be specified when passing \u001b[39m\u001b[38;5;124m\"\u001b[39m\n\u001b[0;32m    461\u001b[0m         \u001b[38;5;124m\"\u001b[39m\u001b[38;5;124man ExcelFile - ExcelFile already has the engine set\u001b[39m\u001b[38;5;124m\"\u001b[39m\n\u001b[0;32m    462\u001b[0m     )\n",
      "File \u001b[1;32m~\\anaconda3\\lib\\site-packages\\pandas\\io\\excel\\_base.py:1376\u001b[0m, in \u001b[0;36mExcelFile.__init__\u001b[1;34m(self, path_or_buffer, engine, storage_options)\u001b[0m\n\u001b[0;32m   1374\u001b[0m     ext \u001b[38;5;241m=\u001b[39m \u001b[38;5;124m\"\u001b[39m\u001b[38;5;124mxls\u001b[39m\u001b[38;5;124m\"\u001b[39m\n\u001b[0;32m   1375\u001b[0m \u001b[38;5;28;01melse\u001b[39;00m:\n\u001b[1;32m-> 1376\u001b[0m     ext \u001b[38;5;241m=\u001b[39m \u001b[43minspect_excel_format\u001b[49m\u001b[43m(\u001b[49m\n\u001b[0;32m   1377\u001b[0m \u001b[43m        \u001b[49m\u001b[43mcontent_or_path\u001b[49m\u001b[38;5;241;43m=\u001b[39;49m\u001b[43mpath_or_buffer\u001b[49m\u001b[43m,\u001b[49m\u001b[43m \u001b[49m\u001b[43mstorage_options\u001b[49m\u001b[38;5;241;43m=\u001b[39;49m\u001b[43mstorage_options\u001b[49m\n\u001b[0;32m   1378\u001b[0m \u001b[43m    \u001b[49m\u001b[43m)\u001b[49m\n\u001b[0;32m   1379\u001b[0m     \u001b[38;5;28;01mif\u001b[39;00m ext \u001b[38;5;129;01mis\u001b[39;00m \u001b[38;5;28;01mNone\u001b[39;00m:\n\u001b[0;32m   1380\u001b[0m         \u001b[38;5;28;01mraise\u001b[39;00m \u001b[38;5;167;01mValueError\u001b[39;00m(\n\u001b[0;32m   1381\u001b[0m             \u001b[38;5;124m\"\u001b[39m\u001b[38;5;124mExcel file format cannot be determined, you must specify \u001b[39m\u001b[38;5;124m\"\u001b[39m\n\u001b[0;32m   1382\u001b[0m             \u001b[38;5;124m\"\u001b[39m\u001b[38;5;124man engine manually.\u001b[39m\u001b[38;5;124m\"\u001b[39m\n\u001b[0;32m   1383\u001b[0m         )\n",
      "File \u001b[1;32m~\\anaconda3\\lib\\site-packages\\pandas\\io\\excel\\_base.py:1250\u001b[0m, in \u001b[0;36minspect_excel_format\u001b[1;34m(content_or_path, storage_options)\u001b[0m\n\u001b[0;32m   1247\u001b[0m \u001b[38;5;28;01mif\u001b[39;00m \u001b[38;5;28misinstance\u001b[39m(content_or_path, \u001b[38;5;28mbytes\u001b[39m):\n\u001b[0;32m   1248\u001b[0m     content_or_path \u001b[38;5;241m=\u001b[39m BytesIO(content_or_path)\n\u001b[1;32m-> 1250\u001b[0m \u001b[38;5;28;01mwith\u001b[39;00m \u001b[43mget_handle\u001b[49m\u001b[43m(\u001b[49m\n\u001b[0;32m   1251\u001b[0m \u001b[43m    \u001b[49m\u001b[43mcontent_or_path\u001b[49m\u001b[43m,\u001b[49m\u001b[43m \u001b[49m\u001b[38;5;124;43m\"\u001b[39;49m\u001b[38;5;124;43mrb\u001b[39;49m\u001b[38;5;124;43m\"\u001b[39;49m\u001b[43m,\u001b[49m\u001b[43m \u001b[49m\u001b[43mstorage_options\u001b[49m\u001b[38;5;241;43m=\u001b[39;49m\u001b[43mstorage_options\u001b[49m\u001b[43m,\u001b[49m\u001b[43m \u001b[49m\u001b[43mis_text\u001b[49m\u001b[38;5;241;43m=\u001b[39;49m\u001b[38;5;28;43;01mFalse\u001b[39;49;00m\n\u001b[0;32m   1252\u001b[0m \u001b[43m\u001b[49m\u001b[43m)\u001b[49m \u001b[38;5;28;01mas\u001b[39;00m handle:\n\u001b[0;32m   1253\u001b[0m     stream \u001b[38;5;241m=\u001b[39m handle\u001b[38;5;241m.\u001b[39mhandle\n\u001b[0;32m   1254\u001b[0m     stream\u001b[38;5;241m.\u001b[39mseek(\u001b[38;5;241m0\u001b[39m)\n",
      "File \u001b[1;32m~\\anaconda3\\lib\\site-packages\\pandas\\io\\common.py:798\u001b[0m, in \u001b[0;36mget_handle\u001b[1;34m(path_or_buf, mode, encoding, compression, memory_map, is_text, errors, storage_options)\u001b[0m\n\u001b[0;32m    789\u001b[0m         handle \u001b[38;5;241m=\u001b[39m \u001b[38;5;28mopen\u001b[39m(\n\u001b[0;32m    790\u001b[0m             handle,\n\u001b[0;32m    791\u001b[0m             ioargs\u001b[38;5;241m.\u001b[39mmode,\n\u001b[1;32m   (...)\u001b[0m\n\u001b[0;32m    794\u001b[0m             newline\u001b[38;5;241m=\u001b[39m\u001b[38;5;124m\"\u001b[39m\u001b[38;5;124m\"\u001b[39m,\n\u001b[0;32m    795\u001b[0m         )\n\u001b[0;32m    796\u001b[0m     \u001b[38;5;28;01melse\u001b[39;00m:\n\u001b[0;32m    797\u001b[0m         \u001b[38;5;66;03m# Binary mode\u001b[39;00m\n\u001b[1;32m--> 798\u001b[0m         handle \u001b[38;5;241m=\u001b[39m \u001b[38;5;28;43mopen\u001b[39;49m\u001b[43m(\u001b[49m\u001b[43mhandle\u001b[49m\u001b[43m,\u001b[49m\u001b[43m \u001b[49m\u001b[43mioargs\u001b[49m\u001b[38;5;241;43m.\u001b[39;49m\u001b[43mmode\u001b[49m\u001b[43m)\u001b[49m\n\u001b[0;32m    799\u001b[0m     handles\u001b[38;5;241m.\u001b[39mappend(handle)\n\u001b[0;32m    801\u001b[0m \u001b[38;5;66;03m# Convert BytesIO or file objects passed with an encoding\u001b[39;00m\n",
      "\u001b[1;31mFileNotFoundError\u001b[0m: [Errno 2] No such file or directory: './dataset/주민등록인구(연령별_동별)_20230105212646.xlsx'"
     ]
    }
   ],
   "source": [
    "# 방법은 위와 동일하므로 간단하게 작업 내용만 요약\n",
    "\n",
    "# 구별 주민등록인구수 파일 => DF\n",
    "FILE='./dataset/주민등록인구(연령별_동별)_20230105212646.xlsx'\n",
    "citizen=pd.read_excel(FILE)\n",
    "\n",
    "# 필요없는 행,렬 삭제\n",
    "citizen.drop([0],inplace=True)\n",
    "citizen.drop(['동별(1)','항목'],axis=1,inplace=True)\n",
    "\n",
    "# 컬럼 이름 변경 및 인덱스로 설정\n",
    "citizen.columns=['location',2014,2015,2016,2017,2018,2019,2020,2021]\n",
    "citizen.set_index('location',inplace=True)\n",
    "\n",
    "# 전처리 끝"
   ]
  },
  {
   "cell_type": "code",
   "execution_count": 142,
   "metadata": {},
   "outputs": [
    {
     "data": {
      "text/plain": [
       "location\n",
       "종로구    152238.500\n",
       "중구     125548.875\n",
       "용산구    229919.625\n",
       "성동구    298226.500\n",
       "광진구    354028.500\n",
       "dtype: float64"
      ]
     },
     "execution_count": 142,
     "metadata": {},
     "output_type": "execute_result"
    }
   ],
   "source": [
    "# 2014~2021 평균 주민등록인구수 확인\n",
    "citizen.mean(axis=1).head()"
   ]
  },
  {
   "cell_type": "code",
   "execution_count": 143,
   "metadata": {},
   "outputs": [],
   "source": [
    "# 범죄발생률 = 평균 범죄발생량 / 평균 주민등록인구수\n",
    "crmPerpop=crmDF.T.mean().values/citizen.mean(axis=1)"
   ]
  },
  {
   "cell_type": "code",
   "execution_count": 144,
   "metadata": {},
   "outputs": [
    {
     "data": {
      "text/plain": [
       "location\n",
       "중구      0.033435\n",
       "종로구     0.025940\n",
       "영등포구    0.015782\n",
       "용산구     0.015163\n",
       "강남구     0.013894\n",
       "dtype: float64"
      ]
     },
     "execution_count": 144,
     "metadata": {},
     "output_type": "execute_result"
    }
   ],
   "source": [
    "# 범죄발생률 내림차순 정렬해서 1~5위 확인\n",
    "crmPerpop.sort_values(ascending=False,inplace=True)\n",
    "crmPerpop.head()"
   ]
  },
  {
   "cell_type": "code",
   "execution_count": null,
   "metadata": {},
   "outputs": [],
   "source": [
    "threshold = 0.2\n",
    "\n",
    "# line plot\n",
    "plt.plot(x, y, color='blue')\n",
    "\n",
    "below_threshold = y < threshold\n",
    "\n",
    "# Add above threshold markers\n",
    "above_threshold = np.logical_not(below_threshold) # true/false 반대로\n",
    "plt.plot(x[above_threshold], y[above_threshold], color='red') "
   ]
  },
  {
   "cell_type": "code",
   "execution_count": 145,
   "metadata": {},
   "outputs": [
    {
     "data": {
      "image/png": "[encoded data removed]",
      "text/plain": [
       "<Figure size 640x480 with 1 Axes>"
      ]
     },
     "metadata": {},
     "output_type": "display_data"
    }
   ],
   "source": [
    "# 막대그래프로 시각화해서 확인\n",
    "crmPerpop.plot(kind='bar',xlabel='구별 범죄발생률')\n",
    "plt.xticks(rotation=45)\n",
    "plt.tight_layout()\n",
    "plt.show()"
   ]
  },
  {
   "cell_type": "code",
   "execution_count": 146,
   "metadata": {},
   "outputs": [],
   "source": [
    "# 강남구의 높은 범죄발생량은 인구수가 많아서 높아보였던 것이 맞았음\n",
    "\n",
    "# 즉 거주인구수는 범죄발생률에는 큰 영향이 없음.\n",
    "\n",
    "# 그런데 범죄발생률을 만들어 놓고 보니 중구와 종로구가 유독 높아 보임\n",
    "\n",
    "# 경찰에서 지목한 중구와 종로구의 범죄발생률이 높은 이유는 유동인구라고 함\n",
    "\n",
    "# 사실인지 확인"
   ]
  },
  {
   "cell_type": "code",
   "execution_count": 147,
   "metadata": {},
   "outputs": [],
   "source": [
    "# 연간 구별 유동인구 데이터 불러오기\n",
    "FILE='./dataset/구별 유동인구.xlsx'\n",
    "floatPop=pd.read_excel(FILE)"
   ]
  },
  {
   "cell_type": "code",
   "execution_count": 148,
   "metadata": {},
   "outputs": [
    {
     "data": {
      "text/html": [
       "<div>\n",
       "<style scoped>\n",
       "    .dataframe tbody tr th:only-of-type {\n",
       "        vertical-align: middle;\n",
       "    }\n",
       "\n",
       "    .dataframe tbody tr th {\n",
       "        vertical-align: top;\n",
       "    }\n",
       "\n",
       "    .dataframe thead th {\n",
       "        text-align: right;\n",
       "    }\n",
       "</style>\n",
       "<table border=\"1\" class=\"dataframe\">\n",
       "  <thead>\n",
       "    <tr style=\"text-align: right;\">\n",
       "      <th></th>\n",
       "      <th>자치구</th>\n",
       "      <th>유동인구(만명)</th>\n",
       "    </tr>\n",
       "  </thead>\n",
       "  <tbody>\n",
       "    <tr>\n",
       "      <th>0</th>\n",
       "      <td>종로구</td>\n",
       "      <td>179</td>\n",
       "    </tr>\n",
       "    <tr>\n",
       "      <th>1</th>\n",
       "      <td>중구</td>\n",
       "      <td>204</td>\n",
       "    </tr>\n",
       "    <tr>\n",
       "      <th>2</th>\n",
       "      <td>용산구</td>\n",
       "      <td>124</td>\n",
       "    </tr>\n",
       "    <tr>\n",
       "      <th>3</th>\n",
       "      <td>성동구</td>\n",
       "      <td>174</td>\n",
       "    </tr>\n",
       "    <tr>\n",
       "      <th>4</th>\n",
       "      <td>광진구</td>\n",
       "      <td>170</td>\n",
       "    </tr>\n",
       "  </tbody>\n",
       "</table>\n",
       "</div>"
      ],
      "text/plain": [
       "   자치구  유동인구(만명)\n",
       "0  종로구       179\n",
       "1   중구       204\n",
       "2  용산구       124\n",
       "3  성동구       174\n",
       "4  광진구       170"
      ]
     },
     "execution_count": 148,
     "metadata": {},
     "output_type": "execute_result"
    }
   ],
   "source": [
    "# floatingPopulation 데이터 확인\n",
    "floatPop.head()"
   ]
  },
  {
   "cell_type": "code",
   "execution_count": 149,
   "metadata": {},
   "outputs": [],
   "source": [
    "floatPop.set_index('자치구',inplace=True)"
   ]
  },
  {
   "cell_type": "code",
   "execution_count": 150,
   "metadata": {},
   "outputs": [
    {
     "data": {
      "image/png": "[encoded data removed]",
      "text/plain": [
       "<Figure size 640x480 with 1 Axes>"
      ]
     },
     "metadata": {},
     "output_type": "display_data"
    }
   ],
   "source": [
    "floatPop.sort_values(by='유동인구(만명)',ascending=False,inplace=True)\n",
    "floatPop.plot(kind='bar')\n",
    "plt.xticks(rotation=45)\n",
    "plt.tight_layout()\n",
    "plt.show()"
   ]
  },
  {
   "cell_type": "code",
   "execution_count": 151,
   "metadata": {},
   "outputs": [],
   "source": [
    "# 중구,종로구 7,9등.. 강남구가 1등 .. 이상함\n",
    "\n",
    "# 주거인구 대비 유동인구로 다시 확인 필요"
   ]
  },
  {
   "cell_type": "code",
   "execution_count": 152,
   "metadata": {},
   "outputs": [
    {
     "data": {
      "text/html": [
       "<div>\n",
       "<style scoped>\n",
       "    .dataframe tbody tr th:only-of-type {\n",
       "        vertical-align: middle;\n",
       "    }\n",
       "\n",
       "    .dataframe tbody tr th {\n",
       "        vertical-align: top;\n",
       "    }\n",
       "\n",
       "    .dataframe thead th {\n",
       "        text-align: right;\n",
       "    }\n",
       "</style>\n",
       "<table border=\"1\" class=\"dataframe\">\n",
       "  <thead>\n",
       "    <tr style=\"text-align: right;\">\n",
       "      <th></th>\n",
       "      <th>유동인구</th>\n",
       "    </tr>\n",
       "    <tr>\n",
       "      <th>자치구</th>\n",
       "      <th></th>\n",
       "    </tr>\n",
       "  </thead>\n",
       "  <tbody>\n",
       "    <tr>\n",
       "      <th>강남구</th>\n",
       "      <td>4400000</td>\n",
       "    </tr>\n",
       "    <tr>\n",
       "      <th>강동구</th>\n",
       "      <td>1470000</td>\n",
       "    </tr>\n",
       "    <tr>\n",
       "      <th>강북구</th>\n",
       "      <td>900000</td>\n",
       "    </tr>\n",
       "    <tr>\n",
       "      <th>강서구</th>\n",
       "      <td>2420000</td>\n",
       "    </tr>\n",
       "    <tr>\n",
       "      <th>관악구</th>\n",
       "      <td>1560000</td>\n",
       "    </tr>\n",
       "  </tbody>\n",
       "</table>\n",
       "</div>"
      ],
      "text/plain": [
       "        유동인구\n",
       "자치구         \n",
       "강남구  4400000\n",
       "강동구  1470000\n",
       "강북구   900000\n",
       "강서구  2420000\n",
       "관악구  1560000"
      ]
     },
     "execution_count": 152,
     "metadata": {},
     "output_type": "execute_result"
    }
   ],
   "source": [
    "# 만명단위 -> 명단위로 변경\n",
    "# 내림차순 정렬후 데이터 확인\n",
    "floatPop=floatPop*10000\n",
    "floatPop.columns=['유동인구']\n",
    "floatPop.sort_index(inplace=True)\n",
    "floatPop.head()"
   ]
  },
  {
   "cell_type": "code",
   "execution_count": 153,
   "metadata": {},
   "outputs": [],
   "source": [
    "# 주거인구 다시 불러옴\n",
    "ctz=pd.DataFrame(citizen.T.mean().sort_index())"
   ]
  },
  {
   "cell_type": "code",
   "execution_count": 155,
   "metadata": {},
   "outputs": [],
   "source": [
    "#주거인구 대비 유동인구 = 유동인구 / 주거인구\n",
    "fpPerctz = floatPop / ctz.values"
   ]
  },
  {
   "cell_type": "code",
   "execution_count": 156,
   "metadata": {},
   "outputs": [
    {
     "data": {
      "text/html": [
       "<div>\n",
       "<style scoped>\n",
       "    .dataframe tbody tr th:only-of-type {\n",
       "        vertical-align: middle;\n",
       "    }\n",
       "\n",
       "    .dataframe tbody tr th {\n",
       "        vertical-align: top;\n",
       "    }\n",
       "\n",
       "    .dataframe thead th {\n",
       "        text-align: right;\n",
       "    }\n",
       "</style>\n",
       "<table border=\"1\" class=\"dataframe\">\n",
       "  <thead>\n",
       "    <tr style=\"text-align: right;\">\n",
       "      <th></th>\n",
       "      <th>주거인구_대비_유동인구</th>\n",
       "    </tr>\n",
       "    <tr>\n",
       "      <th>자치구</th>\n",
       "      <th></th>\n",
       "    </tr>\n",
       "  </thead>\n",
       "  <tbody>\n",
       "    <tr>\n",
       "      <th>강남구</th>\n",
       "      <td>7.932048</td>\n",
       "    </tr>\n",
       "    <tr>\n",
       "      <th>강동구</th>\n",
       "      <td>3.264925</td>\n",
       "    </tr>\n",
       "    <tr>\n",
       "      <th>강북구</th>\n",
       "      <td>2.814779</td>\n",
       "    </tr>\n",
       "    <tr>\n",
       "      <th>강서구</th>\n",
       "      <td>4.106345</td>\n",
       "    </tr>\n",
       "    <tr>\n",
       "      <th>관악구</th>\n",
       "      <td>3.107719</td>\n",
       "    </tr>\n",
       "  </tbody>\n",
       "</table>\n",
       "</div>"
      ],
      "text/plain": [
       "     주거인구_대비_유동인구\n",
       "자치구              \n",
       "강남구      7.932048\n",
       "강동구      3.264925\n",
       "강북구      2.814779\n",
       "강서구      4.106345\n",
       "관악구      3.107719"
      ]
     },
     "execution_count": 156,
     "metadata": {},
     "output_type": "execute_result"
    }
   ],
   "source": [
    "fpPerctz.columns=['주거인구_대비_유동인구']\n",
    "fpPerctz.head()"
   ]
  },
  {
   "cell_type": "code",
   "execution_count": 157,
   "metadata": {},
   "outputs": [
    {
     "data": {
      "text/plain": [
       "array([[ 7.93204759],\n",
       "       [ 3.26492537],\n",
       "       [ 2.81477931],\n",
       "       [ 4.106345  ],\n",
       "       [ 3.10771907],\n",
       "       [ 4.8018733 ],\n",
       "       [ 4.54913261],\n",
       "       [ 4.69443997],\n",
       "       [ 3.13456129],\n",
       "       [ 2.74261953],\n",
       "       [ 3.85158694],\n",
       "       [ 4.30975548],\n",
       "       [ 6.12367436],\n",
       "       [ 4.05435898],\n",
       "       [ 9.20010164],\n",
       "       [ 5.83449157],\n",
       "       [ 3.38698869],\n",
       "       [ 4.95084797],\n",
       "       [ 3.20551434],\n",
       "       [ 7.43367186],\n",
       "       [ 5.39318903],\n",
       "       [ 2.69325312],\n",
       "       [11.75786677],\n",
       "       [16.24865217],\n",
       "       [ 3.2650517 ]])"
      ]
     },
     "execution_count": 157,
     "metadata": {},
     "output_type": "execute_result"
    }
   ],
   "source": [
    "# values 값들이 []에 한번더 갇혀있어서 sort_value 메서드 오류가 발생\n",
    "fpPerctz.values"
   ]
  },
  {
   "cell_type": "code",
   "execution_count": 158,
   "metadata": {},
   "outputs": [],
   "source": [
    "# 직접 괄호 떼서 재입력\n",
    "fpPerctz['주거인구_대비_유동인구']=[7.93204759,3.26492537,2.81477931,4.106345,3.10771907,4.8018733,4.54913261,\n",
    "4.69443997,3.13456129,2.74261953,3.85158694,4.30975548,6.12367436,4.05435898,9.20010164,5.83449157,3.38698869,\n",
    "4.95084797,3.20551434,7.43367186,5.39318903,2.69325312,11.75786677,16.24865217,3.2650517]"
   ]
  },
  {
   "cell_type": "code",
   "execution_count": 159,
   "metadata": {},
   "outputs": [
    {
     "data": {
      "text/html": [
       "<div>\n",
       "<style scoped>\n",
       "    .dataframe tbody tr th:only-of-type {\n",
       "        vertical-align: middle;\n",
       "    }\n",
       "\n",
       "    .dataframe tbody tr th {\n",
       "        vertical-align: top;\n",
       "    }\n",
       "\n",
       "    .dataframe thead th {\n",
       "        text-align: right;\n",
       "    }\n",
       "</style>\n",
       "<table border=\"1\" class=\"dataframe\">\n",
       "  <thead>\n",
       "    <tr style=\"text-align: right;\">\n",
       "      <th></th>\n",
       "      <th>주거인구_대비_유동인구</th>\n",
       "    </tr>\n",
       "    <tr>\n",
       "      <th>자치구</th>\n",
       "      <th></th>\n",
       "    </tr>\n",
       "  </thead>\n",
       "  <tbody>\n",
       "    <tr>\n",
       "      <th>중구</th>\n",
       "      <td>16.248652</td>\n",
       "    </tr>\n",
       "    <tr>\n",
       "      <th>종로구</th>\n",
       "      <td>11.757867</td>\n",
       "    </tr>\n",
       "    <tr>\n",
       "      <th>서초구</th>\n",
       "      <td>9.200102</td>\n",
       "    </tr>\n",
       "    <tr>\n",
       "      <th>강남구</th>\n",
       "      <td>7.932048</td>\n",
       "    </tr>\n",
       "    <tr>\n",
       "      <th>영등포구</th>\n",
       "      <td>7.433672</td>\n",
       "    </tr>\n",
       "  </tbody>\n",
       "</table>\n",
       "</div>"
      ],
      "text/plain": [
       "      주거인구_대비_유동인구\n",
       "자치구               \n",
       "중구       16.248652\n",
       "종로구      11.757867\n",
       "서초구       9.200102\n",
       "강남구       7.932048\n",
       "영등포구      7.433672"
      ]
     },
     "execution_count": 159,
     "metadata": {},
     "output_type": "execute_result"
    }
   ],
   "source": [
    "fpPerctz.sort_values(by='주거인구_대비_유동인구',ascending=False,inplace=True)\n",
    "fpPerctz.head()"
   ]
  },
  {
   "cell_type": "code",
   "execution_count": 160,
   "metadata": {},
   "outputs": [
    {
     "data": {
      "image/png": "[encoded data removed]",
      "text/plain": [
       "<Figure size 640x480 with 1 Axes>"
      ]
     },
     "metadata": {},
     "output_type": "display_data"
    }
   ],
   "source": [
    "fpPerctz.plot(kind='bar')\n",
    "plt.xticks(rotation=45)\n",
    "plt.tight_layout()\n",
    "plt.show()"
   ]
  },
  {
   "cell_type": "code",
   "execution_count": 161,
   "metadata": {},
   "outputs": [],
   "source": [
    "# 범죄발생률 - 주거인구 대비 유동인구 상관관계\n",
    "crmPerpop=pd.DataFrame(crmPerpop)\n",
    "crmPerpop.columns=['범죄발생률']"
   ]
  },
  {
   "cell_type": "code",
   "execution_count": 162,
   "metadata": {},
   "outputs": [
    {
     "data": {
      "text/html": [
       "<div>\n",
       "<style scoped>\n",
       "    .dataframe tbody tr th:only-of-type {\n",
       "        vertical-align: middle;\n",
       "    }\n",
       "\n",
       "    .dataframe tbody tr th {\n",
       "        vertical-align: top;\n",
       "    }\n",
       "\n",
       "    .dataframe thead th {\n",
       "        text-align: right;\n",
       "    }\n",
       "</style>\n",
       "<table border=\"1\" class=\"dataframe\">\n",
       "  <thead>\n",
       "    <tr style=\"text-align: right;\">\n",
       "      <th></th>\n",
       "      <th>범죄발생률</th>\n",
       "      <th>주거인구_대비_유동인구</th>\n",
       "    </tr>\n",
       "  </thead>\n",
       "  <tbody>\n",
       "    <tr>\n",
       "      <th>0</th>\n",
       "      <td>0.033435</td>\n",
       "      <td>16.248652</td>\n",
       "    </tr>\n",
       "    <tr>\n",
       "      <th>1</th>\n",
       "      <td>0.025940</td>\n",
       "      <td>11.757867</td>\n",
       "    </tr>\n",
       "    <tr>\n",
       "      <th>2</th>\n",
       "      <td>0.015782</td>\n",
       "      <td>7.433672</td>\n",
       "    </tr>\n",
       "    <tr>\n",
       "      <th>3</th>\n",
       "      <td>0.015163</td>\n",
       "      <td>5.393189</td>\n",
       "    </tr>\n",
       "    <tr>\n",
       "      <th>4</th>\n",
       "      <td>0.013894</td>\n",
       "      <td>7.932048</td>\n",
       "    </tr>\n",
       "  </tbody>\n",
       "</table>\n",
       "</div>"
      ],
      "text/plain": [
       "      범죄발생률  주거인구_대비_유동인구\n",
       "0  0.033435     16.248652\n",
       "1  0.025940     11.757867\n",
       "2  0.015782      7.433672\n",
       "3  0.015163      5.393189\n",
       "4  0.013894      7.932048"
      ]
     },
     "execution_count": 162,
     "metadata": {},
     "output_type": "execute_result"
    }
   ],
   "source": [
    "crmCorr=crmPerpop.merge(fpPerctz,left_on='location',right_on='자치구')\n",
    "crmCorr.head()"
   ]
  },
  {
   "cell_type": "code",
   "execution_count": 163,
   "metadata": {},
   "outputs": [
    {
     "data": {
      "text/html": [
       "<div>\n",
       "<style scoped>\n",
       "    .dataframe tbody tr th:only-of-type {\n",
       "        vertical-align: middle;\n",
       "    }\n",
       "\n",
       "    .dataframe tbody tr th {\n",
       "        vertical-align: top;\n",
       "    }\n",
       "\n",
       "    .dataframe thead th {\n",
       "        text-align: right;\n",
       "    }\n",
       "</style>\n",
       "<table border=\"1\" class=\"dataframe\">\n",
       "  <thead>\n",
       "    <tr style=\"text-align: right;\">\n",
       "      <th></th>\n",
       "      <th>범죄발생률</th>\n",
       "      <th>주거인구_대비_유동인구</th>\n",
       "    </tr>\n",
       "  </thead>\n",
       "  <tbody>\n",
       "    <tr>\n",
       "      <th>범죄발생률</th>\n",
       "      <td>1.000000</td>\n",
       "      <td>0.902064</td>\n",
       "    </tr>\n",
       "    <tr>\n",
       "      <th>주거인구_대비_유동인구</th>\n",
       "      <td>0.902064</td>\n",
       "      <td>1.000000</td>\n",
       "    </tr>\n",
       "  </tbody>\n",
       "</table>\n",
       "</div>"
      ],
      "text/plain": [
       "                 범죄발생률  주거인구_대비_유동인구\n",
       "범죄발생률         1.000000      0.902064\n",
       "주거인구_대비_유동인구  0.902064      1.000000"
      ]
     },
     "execution_count": 163,
     "metadata": {},
     "output_type": "execute_result"
    }
   ],
   "source": [
    "crmCorr.corr()"
   ]
  },
  {
   "cell_type": "code",
   "execution_count": 164,
   "metadata": {},
   "outputs": [],
   "source": [
    "# 범죄발생률과 주거인구 대비 유동인구가 높은 상관관계를 가지는 것을 확인"
   ]
  },
  {
   "cell_type": "code",
   "execution_count": 165,
   "metadata": {},
   "outputs": [
    {
     "data": {
      "text/html": [
       "<div>\n",
       "<style scoped>\n",
       "    .dataframe tbody tr th:only-of-type {\n",
       "        vertical-align: middle;\n",
       "    }\n",
       "\n",
       "    .dataframe tbody tr th {\n",
       "        vertical-align: top;\n",
       "    }\n",
       "\n",
       "    .dataframe thead th {\n",
       "        text-align: right;\n",
       "    }\n",
       "</style>\n",
       "<table border=\"1\" class=\"dataframe\">\n",
       "  <thead>\n",
       "    <tr style=\"text-align: right;\">\n",
       "      <th></th>\n",
       "      <th>범죄발생률</th>\n",
       "      <th>평균인구수</th>\n",
       "    </tr>\n",
       "  </thead>\n",
       "  <tbody>\n",
       "    <tr>\n",
       "      <th>범죄발생률</th>\n",
       "      <td>1.000000</td>\n",
       "      <td>0.667412</td>\n",
       "    </tr>\n",
       "    <tr>\n",
       "      <th>평균인구수</th>\n",
       "      <td>0.667412</td>\n",
       "      <td>1.000000</td>\n",
       "    </tr>\n",
       "  </tbody>\n",
       "</table>\n",
       "</div>"
      ],
      "text/plain": [
       "          범죄발생률     평균인구수\n",
       "범죄발생률  1.000000  0.667412\n",
       "평균인구수  0.667412  1.000000"
      ]
     },
     "execution_count": 165,
     "metadata": {},
     "output_type": "execute_result"
    }
   ],
   "source": [
    "# 추가로 평균인구수는 범죄발생률과 높지않은 상관관계를 가지는 것 또한 확인\n",
    "ctz.columns=['평균인구수']\n",
    "CCC=crmPerpop.merge(ctz,left_on='location',right_on='location')\n",
    "CCC.corr().abs()"
   ]
  },
  {
   "cell_type": "code",
   "execution_count": 166,
   "metadata": {},
   "outputs": [],
   "source": [
    "# 범죄발생률이 가장 높은 곳은 중구와 종로구이며 주거인구 대비 유동인구가 높은것이 요인인 것도 확인\n",
    "\n",
    "\n",
    "# 범죄발생의 절대적인 양은 강남구가 가장 많으므로 강남구에 범죄예방에 힘써야하는것은 당연하고\n",
    "\n",
    "\n",
    "# 중구와 종로구같이 범죄발생량 수 자체는 많지 않으나 실제로는 범죄발생율이 높은 범죄에 취약한 지역에도 범죄예방 대책 마련이 필요함"
   ]
  }
 ],
 "metadata": {
  "kernelspec": {
   "display_name": "Python 3",
   "language": "python",
   "name": "python3"
  },
  "language_info": {
   "codemirror_mode": {
    "name": "ipython",
    "version": 3
   },
   "file_extension": ".py",
   "mimetype": "text/x-python",
   "name": "python",
   "nbconvert_exporter": "python",
   "pygments_lexer": "ipython3",
   "version": "3.9.12"
  },
  "vscode": {
   "interpreter": {
    "hash": "23e7cd0fac68f14e6f831e1325482e22752427aa2c3bc43fde0e47b392ec96a8"
   }
  }
 },
 "nbformat": 4,
 "nbformat_minor": 2
}

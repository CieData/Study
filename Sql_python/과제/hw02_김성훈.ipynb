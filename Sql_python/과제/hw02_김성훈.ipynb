{
 "cells": [
  {
   "cell_type": "code",
   "execution_count": 15,
   "id": "d6963e37",
   "metadata": {},
   "outputs": [
    {
     "name": "stdout",
     "output_type": "stream",
     "text": [
      "초기 카드 생성\n",
      "('♠', 1) ('♠', 2) ('♠', 3) ('♠', 4) ('♠', 5) ('♠', 6) ('♠', 7) ('♠', 8) ('♠', 9) ('♠', 10) ('♠', 11) ('♠', 12) ('♠', 13) ('♥', 1) ('♥', 2) ('♥', 3) ('♥', 4) ('♥', 5) ('♥', 6) ('♥', 7) ('♥', 8) ('♥', 9) ('♥', 10) ('♥', 11) ('♥', 12) ('♥', 13) ('♣', 1) ('♣', 2) ('♣', 3) ('♣', 4) ('♣', 5) ('♣', 6) ('♣', 7) ('♣', 8) ('♣', 9) ('♣', 10) ('♣', 11) ('♣', 12) ('♣', 13) ('◆', 1) ('◆', 2) ('◆', 3) ('◆', 4) ('◆', 5) ('◆', 6) ('◆', 7) ('◆', 8) ('◆', 9) ('◆', 10) ('◆', 11) ('◆', 12) ('◆', 13)\n",
      "Shuffle Card \n",
      "('♥', 7) ('♠', 7) ('♠', 9) ('♣', 5) ('◆', 7) ('◆', 10) ('♣', 6) ('♥', 10) ('♥', 9) ('♠', 2) ('◆', 1) ('◆', 4) ('♣', 3) ('♥', 13) ('♥', 11) ('♣', 7) ('♥', 2) ('♣', 8) ('♠', 5) ('◆', 12) ('♥', 12) ('◆', 3) ('♥', 1) ('♠', 3) ('♣', 13) ('♥', 5) ('♠', 4) ('♥', 8) ('♣', 10) ('♠', 8) ('♣', 4) ('♣', 12) ('◆', 2) ('♣', 9) ('♣', 1) ('♠', 13) ('◆', 8) ('♠', 1) ('♠', 6) ('◆', 13) ('♣', 2) ('♥', 3) ('◆', 11) ('◆', 6) ('♣', 11) ('♠', 10) ('♥', 6) ('♠', 11) ('◆', 5) ('♠', 12) ('♥', 4) ('◆', 9)\n",
      "Dealing three cards\n",
      "P1 : [('♥', 7), ('♠', 9), ('◆', 7)]\n",
      "P2 : [('♠', 7), ('♣', 5), ('◆', 10)]\n",
      "P1 : 51, P2 : 62\n",
      "P2 Win\n"
     ]
    }
   ],
   "source": [
    "import random\n",
    "card_number = [1, 2, 3, 4, 5, 6, 7, 8, 9, 10, 11, 12, 13]\n",
    "card_suit = [\"♠\", \"♥\", \"♣\", \"◆\"]\n",
    "total_card=[]\n",
    "for i in card_suit:\n",
    "    for j in card_number:\n",
    "        total_card.append((i,j))\n",
    "print('초기 카드 생성')\n",
    "print(*total_card)\n",
    "\n",
    "random.shuffle(total_card)\n",
    "print('Shuffle Card ')\n",
    "print(*total_card)\n",
    "P1=[]\n",
    "P2=[]\n",
    "p1_score=0\n",
    "p2_score=0\n",
    "for i in range(6):\n",
    "    if i%2==0:\n",
    "        P1.append(total_card[i])\n",
    "    else:\n",
    "        P2.append(total_card[i])\n",
    "print('Dealing three cards')\n",
    "print(f'P1 : {P1}')\n",
    "print(f'P2 : {P2}')\n",
    "l=[\"♥\",\"◆\",\"♠\",\"♣\"]\n",
    "for i in P1:\n",
    "    p1_score+=(card_suit.index(i[0])+1)*i[1]\n",
    "for i in P2:\n",
    "    p2_score+=(card_suit.index(i[0])+1)*i[1]\n",
    "print(f'P1 : {p1_score}, P2 : {p2_score}')\n",
    "\n",
    "if p1_score>p2_score:\n",
    "    print('P1 Win')\n",
    "elif p1_score<p2_score:\n",
    "    print('P2 Win')\n",
    "else:\n",
    "    print('Draw')"
   ]
  },
  {
   "cell_type": "code",
   "execution_count": null,
   "id": "47a608ac",
   "metadata": {},
   "outputs": [],
   "source": []
  }
 ],
 "metadata": {
  "kernelspec": {
   "display_name": "Python 3",
   "language": "python",
   "name": "python3"
  },
  "language_info": {
   "codemirror_mode": {
    "name": "ipython",
    "version": 3
   },
   "file_extension": ".py",
   "mimetype": "text/x-python",
   "name": "python",
   "nbconvert_exporter": "python",
   "pygments_lexer": "ipython3",
   "version": "3.9.12"
  }
 },
 "nbformat": 4,
 "nbformat_minor": 5
}
